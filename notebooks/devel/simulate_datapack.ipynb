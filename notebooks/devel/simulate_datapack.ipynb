{
 "cells": [
  {
   "cell_type": "code",
   "execution_count": 1,
   "metadata": {
    "collapsed": true
   },
   "outputs": [],
   "source": [
    "from bayes_tec.datapack import DataPack\n",
    "from bayes_tec.logging import logging\n",
    "from bayes_tec.utils.data_utils import make_coord_array\n",
    "import numpy as np\n",
    "import os\n",
    "import astropy.time as at\n",
    "\n",
    "def make_example_datapack(Nd,Nf,Nt,pols=None, time_corr=50.,dir_corr=0.5*np.pi/180.,tec_scale=0.02,tec_noise=1e-3,name='test.hdf5',clobber=False):\n",
    "    logging.info(\"=== Creating example datapack ===\")\n",
    "    name = os.path.abspath(name)\n",
    "    if os.path.isfile(name) and clobber:\n",
    "        os.unlink(name)\n",
    "\n",
    "    datapack = DataPack(name,readonly=False)\n",
    "    with datapack:\n",
    "        datapack.add_antennas()\n",
    "        datapack.add_sources(np.random.normal(np.pi/4.,np.pi/180.*2.5,size=[Nd,2]))\n",
    "        _, directions = datapack.sources\n",
    "        _, antennas = datapack.antennas\n",
    "        ref_dist = np.linalg.norm(antennas - antennas[0:1,:],axis=1)[None,None,:,None]#1,1,Na,1\n",
    "\n",
    "        times = at.Time(np.linspace(0,Nt*8,Nt)[:,None],format='gps').mjd*86400.#mjs\n",
    "        freqs = np.linspace(120,160,Nf)*1e6\n",
    "        if pols is not None:\n",
    "            use_pols = True\n",
    "            assert isinstance(pols,(tuple,list))\n",
    "        else:\n",
    "            use_pols = False\n",
    "            pols = ['XX']\n",
    "            \n",
    "        tec_conversion = -8.440e9/freqs #Nf\n",
    "        \n",
    "        X = make_coord_array(directions/dir_corr, times/time_corr)# Nd*Nt, 3\n",
    "        X2 = np.sum((X[:,:,None] - X.T[None,:,:])**2, axis=1)#N,N\n",
    "        K = tec_scale**2 * np.exp(-0.5*X2)\n",
    "        L = np.linalg.cholesky(K + 1e-6*np.eye(K.shape[0]))#N,N\n",
    "        Z = np.random.normal(size=(K.shape[0],len(pols)))#N,npols\n",
    "        tec = np.einsum(\"ab,bc->ac\",L,Z)#N,npols\n",
    "        tec = tec.reshape((Nd,Nt,len(pols))).transpose((2,0,1))#Npols,Nd,Nt\n",
    "        tec = tec[:,:,None,:]*(0.2+ref_dist/np.max(ref_dist))#Npols,Nd,Na,Nt\n",
    "#         print(tec)\n",
    "        tec += tec_noise*np.random.normal(size=tec.shape)\n",
    "        phase = tec[:,:,:,None,:]*tec_conversion[None,None,None,:,None]##Npols,Nd,Na,Nf,Nt\n",
    "#         print(phase)\n",
    "        phase = np.angle(np.exp(1j*phase))\n",
    "        \n",
    "        if not use_pols:\n",
    "            phase = phase[0,...]\n",
    "            pols = None\n",
    "        datapack.add_freq_dep_tab('phase',times=times,freqs=freqs,pols=pols,vals=phase)\n",
    "        datapack.phase = phase\n",
    "        return datapack"
   ]
  },
  {
   "cell_type": "code",
   "execution_count": 2,
   "metadata": {},
   "outputs": [
    {
     "name": "stdout",
     "output_type": "stream",
     "text": [
      "2018-08-02 20:18:54,418 === Creating example datapack ===\n",
      "2018-08-02 20:18:54,419 Creating /home/josh/git/bayes_tec/notebooks/devel/new_test.hdf5.\n",
      "2018-08-02 20:18:54,421 Creating a new solution-set: sol000.\n",
      "2018-08-02 20:18:54,422 --Creating new antenna table.\n",
      "2018-08-02 20:18:54,424 --Creating new source table.\n",
      "2018-08-02 20:18:54,426 Closing table.\n",
      "2018-08-02 20:18:54,427 Appending to /home/josh/git/bayes_tec/notebooks/devel/new_test.hdf5.\n"
     ]
    },
    {
     "name": "stderr",
     "output_type": "stream",
     "text": [
      "/home/josh/anaconda3/envs/kerastf/lib/python3.6/site-packages/cmocean/tools.py:76: MatplotlibDeprecationWarning: The is_string_like function was deprecated in version 2.1.\n",
      "  if not mpl.cbook.is_string_like(rgbin[0]):\n",
      "/home/josh/anaconda3/envs/kerastf/lib/python3.6/site-packages/tables/atom.py:393: FlavorWarning: support for unicode type is very limited, and only works for strings that can be cast as ascii\n",
      "  \"and only works for strings that can be cast as ascii\", FlavorWarning)\n"
     ]
    },
    {
     "name": "stdout",
     "output_type": "stream",
     "text": [
      "2018-08-02 20:19:03,609 Creating a new solution-table: phase000.\n",
      "2018-08-02 20:19:03,739 Closing table.\n",
      "2018-08-02 20:19:03,829 Appending to /home/josh/git/bayes_tec/notebooks/devel/new_test.hdf5.\n"
     ]
    },
    {
     "data": {
      "image/png": "[encoded data removed]",
      "text/plain": [
       "<matplotlib.figure.Figure at 0x7f48a4a0d5f8>"
      ]
     },
     "metadata": {},
     "output_type": "display_data"
    },
    {
     "name": "stdout",
     "output_type": "stream",
     "text": [
      "2018-08-02 20:19:04,033 Closing table.\n"
     ]
    }
   ],
   "source": [
    "import pylab as plt\n",
    "from bayes_tec.plotting.plot_datapack import DatapackPlotter,animate_datapack\n",
    "\n",
    "datapack = make_example_datapack(90,10,100,pols=['XX'],name='new_test.hdf5',time_corr=80,tec_scale=0.02,clobber=True)\n",
    "# animate_datapack(datapack,'figs',num_processes=8)\n",
    "with datapack:\n",
    "    phase,axes = datapack.phase\n",
    "    plt.imshow(phase[0,0,51,:,:],aspect='auto',cmap='hsv',vmin=-np.pi,vmax=np.pi)\n",
    "    plt.colorbar()\n",
    "    plt.show()"
   ]
  },
  {
   "cell_type": "code",
   "execution_count": null,
   "metadata": {
    "collapsed": true
   },
   "outputs": [],
   "source": []
  }
 ],
 "metadata": {
  "kernelspec": {
   "display_name": "Python 3",
   "language": "python",
   "name": "python3"
  },
  "language_info": {
   "codemirror_mode": {
    "name": "ipython",
    "version": 3
   },
   "file_extension": ".py",
   "mimetype": "text/x-python",
   "name": "python",
   "nbconvert_exporter": "python",
   "pygments_lexer": "ipython3",
   "version": "3.6.2"
  }
 },
 "nbformat": 4,
 "nbformat_minor": 2
}
