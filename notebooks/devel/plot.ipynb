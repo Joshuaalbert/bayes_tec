{
 "cells": [
  {
   "cell_type": "code",
   "execution_count": 1,
   "metadata": {},
   "outputs": [
    {
     "name": "stderr",
     "output_type": "stream",
     "text": [
      "/net/lofar1/data1/albert/miniconda3/envs/kerastf/lib/python3.6/site-packages/cmocean/tools.py:76: MatplotlibDeprecationWarning: The is_string_like function was deprecated in version 2.1.\n",
      "  if not mpl.cbook.is_string_like(rgbin[0]):\n"
     ]
    }
   ],
   "source": [
    "from bayes_tec.plotting.plot_datapack import animate_datapack, plot_data_vs_solution, plot_freq_vs_time"
   ]
  },
  {
   "cell_type": "code",
   "execution_count": 2,
   "metadata": {},
   "outputs": [
    {
     "name": "stdout",
     "output_type": "stream",
     "text": [
      "2018-09-18 17:16:32,235 Appending to /net/lofar1/data1/albert/git/bayes_tec/scripts/data/killms_datapack.hdf5.\n",
      "2018-09-18 17:16:32,241 Closing table.\n",
      "2018-09-18 17:16:32,243 Reading from /net/lofar1/data1/albert/git/bayes_tec/scripts/data/killms_datapack.hdf5.\n",
      "2018-09-18 17:18:29,275 Plotting /net/lofar1/data1/albert/git/bayes_tec/scripts/data/killms_freq_time/sol000_phase_dir_0.png\n",
      "2018-09-18 17:18:38,149 Plotting /net/lofar1/data1/albert/git/bayes_tec/scripts/data/killms_freq_time/sol000_phase_dir_1.png\n",
      "2018-09-18 17:18:47,594 Plotting /net/lofar1/data1/albert/git/bayes_tec/scripts/data/killms_freq_time/sol000_phase_dir_2.png\n",
      "2018-09-18 17:18:56,736 Plotting /net/lofar1/data1/albert/git/bayes_tec/scripts/data/killms_freq_time/sol000_phase_dir_3.png\n",
      "2018-09-18 17:19:05,751 Plotting /net/lofar1/data1/albert/git/bayes_tec/scripts/data/killms_freq_time/sol000_phase_dir_4.png\n",
      "2018-09-18 17:19:15,725 Plotting /net/lofar1/data1/albert/git/bayes_tec/scripts/data/killms_freq_time/sol000_phase_dir_5.png\n",
      "2018-09-18 17:19:25,136 Plotting /net/lofar1/data1/albert/git/bayes_tec/scripts/data/killms_freq_time/sol000_phase_dir_6.png\n",
      "2018-09-18 17:19:35,484 Plotting /net/lofar1/data1/albert/git/bayes_tec/scripts/data/killms_freq_time/sol000_phase_dir_7.png\n",
      "2018-09-18 17:19:45,033 Plotting /net/lofar1/data1/albert/git/bayes_tec/scripts/data/killms_freq_time/sol000_phase_dir_8.png\n",
      "2018-09-18 17:19:54,921 Plotting /net/lofar1/data1/albert/git/bayes_tec/scripts/data/killms_freq_time/sol000_phase_dir_9.png\n",
      "2018-09-18 17:20:04,358 Plotting /net/lofar1/data1/albert/git/bayes_tec/scripts/data/killms_freq_time/sol000_phase_dir_10.png\n",
      "2018-09-18 17:20:13,866 Plotting /net/lofar1/data1/albert/git/bayes_tec/scripts/data/killms_freq_time/sol000_phase_dir_11.png\n",
      "2018-09-18 17:20:23,001 Plotting /net/lofar1/data1/albert/git/bayes_tec/scripts/data/killms_freq_time/sol000_phase_dir_12.png\n",
      "2018-09-18 17:20:32,183 Plotting /net/lofar1/data1/albert/git/bayes_tec/scripts/data/killms_freq_time/sol000_phase_dir_13.png\n",
      "2018-09-18 17:20:41,686 Plotting /net/lofar1/data1/albert/git/bayes_tec/scripts/data/killms_freq_time/sol000_phase_dir_14.png\n",
      "2018-09-18 17:20:50,766 Plotting /net/lofar1/data1/albert/git/bayes_tec/scripts/data/killms_freq_time/sol000_phase_dir_15.png\n",
      "2018-09-18 17:20:59,928 Plotting /net/lofar1/data1/albert/git/bayes_tec/scripts/data/killms_freq_time/sol000_phase_dir_16.png\n",
      "2018-09-18 17:21:08,966 Plotting /net/lofar1/data1/albert/git/bayes_tec/scripts/data/killms_freq_time/sol000_phase_dir_17.png\n",
      "2018-09-18 17:21:18,101 Plotting /net/lofar1/data1/albert/git/bayes_tec/scripts/data/killms_freq_time/sol000_phase_dir_18.png\n",
      "2018-09-18 17:21:27,330 Plotting /net/lofar1/data1/albert/git/bayes_tec/scripts/data/killms_freq_time/sol000_phase_dir_19.png\n",
      "2018-09-18 17:21:36,391 Plotting /net/lofar1/data1/albert/git/bayes_tec/scripts/data/killms_freq_time/sol000_phase_dir_20.png\n",
      "2018-09-18 17:21:46,357 Plotting /net/lofar1/data1/albert/git/bayes_tec/scripts/data/killms_freq_time/sol000_phase_dir_21.png\n",
      "2018-09-18 17:21:55,437 Plotting /net/lofar1/data1/albert/git/bayes_tec/scripts/data/killms_freq_time/sol000_phase_dir_22.png\n",
      "2018-09-18 17:22:04,575 Plotting /net/lofar1/data1/albert/git/bayes_tec/scripts/data/killms_freq_time/sol000_phase_dir_23.png\n",
      "2018-09-18 17:22:13,713 Plotting /net/lofar1/data1/albert/git/bayes_tec/scripts/data/killms_freq_time/sol000_phase_dir_24.png\n",
      "2018-09-18 17:22:22,836 Plotting /net/lofar1/data1/albert/git/bayes_tec/scripts/data/killms_freq_time/sol000_phase_dir_25.png\n",
      "2018-09-18 17:22:31,925 Plotting /net/lofar1/data1/albert/git/bayes_tec/scripts/data/killms_freq_time/sol000_phase_dir_26.png\n",
      "2018-09-18 17:22:41,011 Plotting /net/lofar1/data1/albert/git/bayes_tec/scripts/data/killms_freq_time/sol000_phase_dir_27.png\n",
      "2018-09-18 17:22:50,088 Plotting /net/lofar1/data1/albert/git/bayes_tec/scripts/data/killms_freq_time/sol000_phase_dir_28.png\n",
      "2018-09-18 17:22:59,313 Plotting /net/lofar1/data1/albert/git/bayes_tec/scripts/data/killms_freq_time/sol000_phase_dir_29.png\n",
      "2018-09-18 17:23:08,525 Plotting /net/lofar1/data1/albert/git/bayes_tec/scripts/data/killms_freq_time/sol000_phase_dir_30.png\n",
      "2018-09-18 17:23:17,632 Plotting /net/lofar1/data1/albert/git/bayes_tec/scripts/data/killms_freq_time/sol000_phase_dir_31.png\n",
      "2018-09-18 17:23:26,826 Plotting /net/lofar1/data1/albert/git/bayes_tec/scripts/data/killms_freq_time/sol000_phase_dir_32.png\n",
      "2018-09-18 17:23:35,936 Plotting /net/lofar1/data1/albert/git/bayes_tec/scripts/data/killms_freq_time/sol000_phase_dir_33.png\n",
      "2018-09-18 17:23:45,135 Plotting /net/lofar1/data1/albert/git/bayes_tec/scripts/data/killms_freq_time/sol000_phase_dir_34.png\n",
      "2018-09-18 17:23:55,076 Plotting /net/lofar1/data1/albert/git/bayes_tec/scripts/data/killms_freq_time/sol000_phase_dir_35.png\n",
      "2018-09-18 17:24:04,335 Plotting /net/lofar1/data1/albert/git/bayes_tec/scripts/data/killms_freq_time/sol000_phase_dir_36.png\n",
      "2018-09-18 17:24:13,433 Plotting /net/lofar1/data1/albert/git/bayes_tec/scripts/data/killms_freq_time/sol000_phase_dir_37.png\n",
      "2018-09-18 17:24:22,565 Plotting /net/lofar1/data1/albert/git/bayes_tec/scripts/data/killms_freq_time/sol000_phase_dir_38.png\n",
      "2018-09-18 17:24:31,682 Plotting /net/lofar1/data1/albert/git/bayes_tec/scripts/data/killms_freq_time/sol000_phase_dir_39.png\n",
      "2018-09-18 17:24:40,854 Plotting /net/lofar1/data1/albert/git/bayes_tec/scripts/data/killms_freq_time/sol000_phase_dir_40.png\n",
      "2018-09-18 17:24:49,961 Plotting /net/lofar1/data1/albert/git/bayes_tec/scripts/data/killms_freq_time/sol000_phase_dir_41.png\n",
      "2018-09-18 17:24:59,069 Plotting /net/lofar1/data1/albert/git/bayes_tec/scripts/data/killms_freq_time/sol000_phase_dir_42.png\n",
      "2018-09-18 17:25:08,136 Plotting /net/lofar1/data1/albert/git/bayes_tec/scripts/data/killms_freq_time/sol000_phase_dir_43.png\n",
      "2018-09-18 17:25:17,883 Plotting /net/lofar1/data1/albert/git/bayes_tec/scripts/data/killms_freq_time/sol000_phase_dir_44.png\n",
      "2018-09-18 17:25:27,058 Closing table.\n",
      "2018-09-18 17:25:27,585 Appending to /net/lofar1/data1/albert/git/bayes_tec/scripts/data/killms_datapack_2.hdf5.\n",
      "2018-09-18 17:25:27,592 Closing table.\n",
      "2018-09-18 17:25:27,594 Reading from /net/lofar1/data1/albert/git/bayes_tec/scripts/data/killms_datapack_2.hdf5.\n",
      "2018-09-18 17:27:24,663 Plotting /net/lofar1/data1/albert/git/bayes_tec/scripts/data/killms_2_freq_time/sol000_phase_dir_0.png\n",
      "2018-09-18 17:27:33,652 Plotting /net/lofar1/data1/albert/git/bayes_tec/scripts/data/killms_2_freq_time/sol000_phase_dir_1.png\n",
      "2018-09-18 17:27:42,697 Plotting /net/lofar1/data1/albert/git/bayes_tec/scripts/data/killms_2_freq_time/sol000_phase_dir_2.png\n",
      "2018-09-18 17:27:51,640 Plotting /net/lofar1/data1/albert/git/bayes_tec/scripts/data/killms_2_freq_time/sol000_phase_dir_3.png\n",
      "2018-09-18 17:28:00,508 Plotting /net/lofar1/data1/albert/git/bayes_tec/scripts/data/killms_2_freq_time/sol000_phase_dir_4.png\n",
      "2018-09-18 17:28:09,408 Plotting /net/lofar1/data1/albert/git/bayes_tec/scripts/data/killms_2_freq_time/sol000_phase_dir_5.png\n",
      "2018-09-18 17:28:18,289 Plotting /net/lofar1/data1/albert/git/bayes_tec/scripts/data/killms_2_freq_time/sol000_phase_dir_6.png\n",
      "2018-09-18 17:28:27,137 Plotting /net/lofar1/data1/albert/git/bayes_tec/scripts/data/killms_2_freq_time/sol000_phase_dir_7.png\n",
      "2018-09-18 17:28:35,970 Plotting /net/lofar1/data1/albert/git/bayes_tec/scripts/data/killms_2_freq_time/sol000_phase_dir_8.png\n",
      "2018-09-18 17:28:44,846 Plotting /net/lofar1/data1/albert/git/bayes_tec/scripts/data/killms_2_freq_time/sol000_phase_dir_9.png\n",
      "2018-09-18 17:28:53,681 Plotting /net/lofar1/data1/albert/git/bayes_tec/scripts/data/killms_2_freq_time/sol000_phase_dir_10.png\n",
      "2018-09-18 17:29:02,533 Plotting /net/lofar1/data1/albert/git/bayes_tec/scripts/data/killms_2_freq_time/sol000_phase_dir_11.png\n",
      "2018-09-18 17:29:11,406 Plotting /net/lofar1/data1/albert/git/bayes_tec/scripts/data/killms_2_freq_time/sol000_phase_dir_12.png\n",
      "2018-09-18 17:29:20,248 Plotting /net/lofar1/data1/albert/git/bayes_tec/scripts/data/killms_2_freq_time/sol000_phase_dir_13.png\n",
      "2018-09-18 17:29:29,127 Plotting /net/lofar1/data1/albert/git/bayes_tec/scripts/data/killms_2_freq_time/sol000_phase_dir_14.png\n",
      "2018-09-18 17:29:37,982 Plotting /net/lofar1/data1/albert/git/bayes_tec/scripts/data/killms_2_freq_time/sol000_phase_dir_15.png\n"
     ]
    },
    {
     "name": "stdout",
     "output_type": "stream",
     "text": [
      "2018-09-18 17:29:46,843 Plotting /net/lofar1/data1/albert/git/bayes_tec/scripts/data/killms_2_freq_time/sol000_phase_dir_16.png\n",
      "2018-09-18 17:29:55,741 Plotting /net/lofar1/data1/albert/git/bayes_tec/scripts/data/killms_2_freq_time/sol000_phase_dir_17.png\n",
      "2018-09-18 17:30:04,582 Plotting /net/lofar1/data1/albert/git/bayes_tec/scripts/data/killms_2_freq_time/sol000_phase_dir_18.png\n",
      "2018-09-18 17:30:13,459 Plotting /net/lofar1/data1/albert/git/bayes_tec/scripts/data/killms_2_freq_time/sol000_phase_dir_19.png\n",
      "2018-09-18 17:30:22,841 Plotting /net/lofar1/data1/albert/git/bayes_tec/scripts/data/killms_2_freq_time/sol000_phase_dir_20.png\n",
      "2018-09-18 17:30:31,779 Plotting /net/lofar1/data1/albert/git/bayes_tec/scripts/data/killms_2_freq_time/sol000_phase_dir_21.png\n",
      "2018-09-18 17:30:40,686 Plotting /net/lofar1/data1/albert/git/bayes_tec/scripts/data/killms_2_freq_time/sol000_phase_dir_22.png\n",
      "2018-09-18 17:30:49,636 Plotting /net/lofar1/data1/albert/git/bayes_tec/scripts/data/killms_2_freq_time/sol000_phase_dir_23.png\n",
      "2018-09-18 17:30:58,606 Plotting /net/lofar1/data1/albert/git/bayes_tec/scripts/data/killms_2_freq_time/sol000_phase_dir_24.png\n",
      "2018-09-18 17:31:07,517 Plotting /net/lofar1/data1/albert/git/bayes_tec/scripts/data/killms_2_freq_time/sol000_phase_dir_25.png\n",
      "2018-09-18 17:31:16,397 Plotting /net/lofar1/data1/albert/git/bayes_tec/scripts/data/killms_2_freq_time/sol000_phase_dir_26.png\n",
      "2018-09-18 17:31:25,725 Plotting /net/lofar1/data1/albert/git/bayes_tec/scripts/data/killms_2_freq_time/sol000_phase_dir_27.png\n",
      "2018-09-18 17:31:35,124 Plotting /net/lofar1/data1/albert/git/bayes_tec/scripts/data/killms_2_freq_time/sol000_phase_dir_28.png\n",
      "2018-09-18 17:31:44,046 Plotting /net/lofar1/data1/albert/git/bayes_tec/scripts/data/killms_2_freq_time/sol000_phase_dir_29.png\n",
      "2018-09-18 17:31:53,038 Plotting /net/lofar1/data1/albert/git/bayes_tec/scripts/data/killms_2_freq_time/sol000_phase_dir_30.png\n",
      "2018-09-18 17:32:01,986 Plotting /net/lofar1/data1/albert/git/bayes_tec/scripts/data/killms_2_freq_time/sol000_phase_dir_31.png\n",
      "2018-09-18 17:32:10,920 Plotting /net/lofar1/data1/albert/git/bayes_tec/scripts/data/killms_2_freq_time/sol000_phase_dir_32.png\n",
      "2018-09-18 17:32:19,782 Plotting /net/lofar1/data1/albert/git/bayes_tec/scripts/data/killms_2_freq_time/sol000_phase_dir_33.png\n",
      "2018-09-18 17:32:28,751 Plotting /net/lofar1/data1/albert/git/bayes_tec/scripts/data/killms_2_freq_time/sol000_phase_dir_34.png\n",
      "2018-09-18 17:32:38,314 Plotting /net/lofar1/data1/albert/git/bayes_tec/scripts/data/killms_2_freq_time/sol000_phase_dir_35.png\n",
      "2018-09-18 17:32:47,272 Plotting /net/lofar1/data1/albert/git/bayes_tec/scripts/data/killms_2_freq_time/sol000_phase_dir_36.png\n",
      "2018-09-18 17:32:56,232 Plotting /net/lofar1/data1/albert/git/bayes_tec/scripts/data/killms_2_freq_time/sol000_phase_dir_37.png\n",
      "2018-09-18 17:33:05,248 Plotting /net/lofar1/data1/albert/git/bayes_tec/scripts/data/killms_2_freq_time/sol000_phase_dir_38.png\n",
      "2018-09-18 17:33:14,301 Plotting /net/lofar1/data1/albert/git/bayes_tec/scripts/data/killms_2_freq_time/sol000_phase_dir_39.png\n",
      "2018-09-18 17:33:23,273 Plotting /net/lofar1/data1/albert/git/bayes_tec/scripts/data/killms_2_freq_time/sol000_phase_dir_40.png\n",
      "2018-09-18 17:33:32,214 Plotting /net/lofar1/data1/albert/git/bayes_tec/scripts/data/killms_2_freq_time/sol000_phase_dir_41.png\n",
      "2018-09-18 17:33:41,718 Plotting /net/lofar1/data1/albert/git/bayes_tec/scripts/data/killms_2_freq_time/sol000_phase_dir_42.png\n",
      "2018-09-18 17:33:50,955 Plotting /net/lofar1/data1/albert/git/bayes_tec/scripts/data/killms_2_freq_time/sol000_phase_dir_43.png\n",
      "2018-09-18 17:34:00,168 Plotting /net/lofar1/data1/albert/git/bayes_tec/scripts/data/killms_2_freq_time/sol000_phase_dir_44.png\n",
      "2018-09-18 17:34:09,055 Closing table.\n",
      "2018-09-18 17:34:09,554 Appending to /net/lofar1/data1/albert/git/bayes_tec/scripts/data/killms_datapack_3.hdf5.\n",
      "2018-09-18 17:34:09,559 Closing table.\n",
      "2018-09-18 17:34:09,561 Reading from /net/lofar1/data1/albert/git/bayes_tec/scripts/data/killms_datapack_3.hdf5.\n",
      "2018-09-18 17:36:03,282 Plotting /net/lofar1/data1/albert/git/bayes_tec/scripts/data/killms_3_freq_time/sol000_phase_dir_0.png\n",
      "2018-09-18 17:36:12,215 Plotting /net/lofar1/data1/albert/git/bayes_tec/scripts/data/killms_3_freq_time/sol000_phase_dir_1.png\n",
      "2018-09-18 17:36:21,053 Plotting /net/lofar1/data1/albert/git/bayes_tec/scripts/data/killms_3_freq_time/sol000_phase_dir_2.png\n",
      "2018-09-18 17:36:29,848 Plotting /net/lofar1/data1/albert/git/bayes_tec/scripts/data/killms_3_freq_time/sol000_phase_dir_3.png\n",
      "2018-09-18 17:36:38,598 Plotting /net/lofar1/data1/albert/git/bayes_tec/scripts/data/killms_3_freq_time/sol000_phase_dir_4.png\n",
      "2018-09-18 17:36:47,399 Plotting /net/lofar1/data1/albert/git/bayes_tec/scripts/data/killms_3_freq_time/sol000_phase_dir_5.png\n",
      "2018-09-18 17:36:57,001 Plotting /net/lofar1/data1/albert/git/bayes_tec/scripts/data/killms_3_freq_time/sol000_phase_dir_6.png\n",
      "2018-09-18 17:37:05,846 Plotting /net/lofar1/data1/albert/git/bayes_tec/scripts/data/killms_3_freq_time/sol000_phase_dir_7.png\n",
      "2018-09-18 17:37:14,707 Plotting /net/lofar1/data1/albert/git/bayes_tec/scripts/data/killms_3_freq_time/sol000_phase_dir_8.png\n",
      "2018-09-18 17:37:23,540 Plotting /net/lofar1/data1/albert/git/bayes_tec/scripts/data/killms_3_freq_time/sol000_phase_dir_9.png\n",
      "2018-09-18 17:37:32,370 Plotting /net/lofar1/data1/albert/git/bayes_tec/scripts/data/killms_3_freq_time/sol000_phase_dir_10.png\n",
      "2018-09-18 17:37:41,228 Plotting /net/lofar1/data1/albert/git/bayes_tec/scripts/data/killms_3_freq_time/sol000_phase_dir_11.png\n",
      "2018-09-18 17:37:50,044 Plotting /net/lofar1/data1/albert/git/bayes_tec/scripts/data/killms_3_freq_time/sol000_phase_dir_12.png\n",
      "2018-09-18 17:37:59,625 Plotting /net/lofar1/data1/albert/git/bayes_tec/scripts/data/killms_3_freq_time/sol000_phase_dir_13.png\n",
      "2018-09-18 17:38:08,649 Plotting /net/lofar1/data1/albert/git/bayes_tec/scripts/data/killms_3_freq_time/sol000_phase_dir_14.png\n",
      "2018-09-18 17:38:18,090 Plotting /net/lofar1/data1/albert/git/bayes_tec/scripts/data/killms_3_freq_time/sol000_phase_dir_15.png\n",
      "2018-09-18 17:38:26,943 Plotting /net/lofar1/data1/albert/git/bayes_tec/scripts/data/killms_3_freq_time/sol000_phase_dir_16.png\n",
      "2018-09-18 17:38:35,771 Plotting /net/lofar1/data1/albert/git/bayes_tec/scripts/data/killms_3_freq_time/sol000_phase_dir_17.png\n",
      "2018-09-18 17:38:44,631 Plotting /net/lofar1/data1/albert/git/bayes_tec/scripts/data/killms_3_freq_time/sol000_phase_dir_18.png\n",
      "2018-09-18 17:38:53,449 Plotting /net/lofar1/data1/albert/git/bayes_tec/scripts/data/killms_3_freq_time/sol000_phase_dir_19.png\n",
      "2018-09-18 17:39:03,019 Plotting /net/lofar1/data1/albert/git/bayes_tec/scripts/data/killms_3_freq_time/sol000_phase_dir_20.png\n",
      "2018-09-18 17:39:11,864 Plotting /net/lofar1/data1/albert/git/bayes_tec/scripts/data/killms_3_freq_time/sol000_phase_dir_21.png\n",
      "2018-09-18 17:39:20,681 Plotting /net/lofar1/data1/albert/git/bayes_tec/scripts/data/killms_3_freq_time/sol000_phase_dir_22.png\n",
      "2018-09-18 17:39:29,545 Plotting /net/lofar1/data1/albert/git/bayes_tec/scripts/data/killms_3_freq_time/sol000_phase_dir_23.png\n",
      "2018-09-18 17:39:38,358 Plotting /net/lofar1/data1/albert/git/bayes_tec/scripts/data/killms_3_freq_time/sol000_phase_dir_24.png\n",
      "2018-09-18 17:39:47,181 Plotting /net/lofar1/data1/albert/git/bayes_tec/scripts/data/killms_3_freq_time/sol000_phase_dir_25.png\n",
      "2018-09-18 17:39:56,047 Plotting /net/lofar1/data1/albert/git/bayes_tec/scripts/data/killms_3_freq_time/sol000_phase_dir_26.png\n",
      "2018-09-18 17:40:05,237 Plotting /net/lofar1/data1/albert/git/bayes_tec/scripts/data/killms_3_freq_time/sol000_phase_dir_27.png\n",
      "2018-09-18 17:40:14,168 Plotting /net/lofar1/data1/albert/git/bayes_tec/scripts/data/killms_3_freq_time/sol000_phase_dir_28.png\n",
      "2018-09-18 17:40:23,012 Plotting /net/lofar1/data1/albert/git/bayes_tec/scripts/data/killms_3_freq_time/sol000_phase_dir_29.png\n",
      "2018-09-18 17:40:31,873 Plotting /net/lofar1/data1/albert/git/bayes_tec/scripts/data/killms_3_freq_time/sol000_phase_dir_30.png\n",
      "2018-09-18 17:40:40,713 Plotting /net/lofar1/data1/albert/git/bayes_tec/scripts/data/killms_3_freq_time/sol000_phase_dir_31.png\n",
      "2018-09-18 17:40:49,556 Plotting /net/lofar1/data1/albert/git/bayes_tec/scripts/data/killms_3_freq_time/sol000_phase_dir_32.png\n"
     ]
    },
    {
     "name": "stdout",
     "output_type": "stream",
     "text": [
      "2018-09-18 17:40:58,427 Plotting /net/lofar1/data1/albert/git/bayes_tec/scripts/data/killms_3_freq_time/sol000_phase_dir_33.png\n",
      "2018-09-18 17:41:07,484 Plotting /net/lofar1/data1/albert/git/bayes_tec/scripts/data/killms_3_freq_time/sol000_phase_dir_34.png\n",
      "2018-09-18 17:41:16,617 Plotting /net/lofar1/data1/albert/git/bayes_tec/scripts/data/killms_3_freq_time/sol000_phase_dir_35.png\n",
      "2018-09-18 17:41:25,463 Plotting /net/lofar1/data1/albert/git/bayes_tec/scripts/data/killms_3_freq_time/sol000_phase_dir_36.png\n",
      "2018-09-18 17:41:34,302 Plotting /net/lofar1/data1/albert/git/bayes_tec/scripts/data/killms_3_freq_time/sol000_phase_dir_37.png\n",
      "2018-09-18 17:41:43,170 Plotting /net/lofar1/data1/albert/git/bayes_tec/scripts/data/killms_3_freq_time/sol000_phase_dir_38.png\n",
      "2018-09-18 17:41:51,982 Plotting /net/lofar1/data1/albert/git/bayes_tec/scripts/data/killms_3_freq_time/sol000_phase_dir_39.png\n",
      "2018-09-18 17:42:00,865 Plotting /net/lofar1/data1/albert/git/bayes_tec/scripts/data/killms_3_freq_time/sol000_phase_dir_40.png\n",
      "2018-09-18 17:42:09,714 Plotting /net/lofar1/data1/albert/git/bayes_tec/scripts/data/killms_3_freq_time/sol000_phase_dir_41.png\n",
      "2018-09-18 17:42:19,462 Plotting /net/lofar1/data1/albert/git/bayes_tec/scripts/data/killms_3_freq_time/sol000_phase_dir_42.png\n",
      "2018-09-18 17:42:29,037 Plotting /net/lofar1/data1/albert/git/bayes_tec/scripts/data/killms_3_freq_time/sol000_phase_dir_43.png\n",
      "2018-09-18 17:42:38,127 Plotting /net/lofar1/data1/albert/git/bayes_tec/scripts/data/killms_3_freq_time/sol000_phase_dir_44.png\n",
      "2018-09-18 17:42:46,995 Closing table.\n"
     ]
    }
   ],
   "source": [
    "plot_freq_vs_time('../../scripts/data/killms_datapack.hdf5','../../scripts/data/killms_freq_time')\n",
    "plot_freq_vs_time('../../scripts/data/killms_datapack_2.hdf5','../../scripts/data/killms_2_freq_time')\n",
    "plot_freq_vs_time('../../scripts/data/killms_datapack_3.hdf5','../../scripts/data/killms_3_freq_time')"
   ]
  },
  {
   "cell_type": "code",
   "execution_count": 3,
   "metadata": {},
   "outputs": [
    {
     "name": "stdout",
     "output_type": "stream",
     "text": [
      "2018-09-18 17:42:47,475 Appending to /net/lofar1/data1/albert/git/bayes_tec/scripts/data/killms_datapack_nchan4.hdf5.\n",
      "2018-09-18 17:42:47,479 Closing table.\n",
      "2018-09-18 17:42:47,480 Reading from /net/lofar1/data1/albert/git/bayes_tec/scripts/data/killms_datapack_nchan4.hdf5.\n",
      "2018-09-18 17:43:10,200 Plotting /net/lofar1/data1/albert/git/bayes_tec/scripts/data/killms_nchan4_freq_time/sol000_phase_dir_0.png\n",
      "2018-09-18 17:43:19,390 Plotting /net/lofar1/data1/albert/git/bayes_tec/scripts/data/killms_nchan4_freq_time/sol000_phase_dir_1.png\n",
      "2018-09-18 17:43:28,102 Plotting /net/lofar1/data1/albert/git/bayes_tec/scripts/data/killms_nchan4_freq_time/sol000_phase_dir_2.png\n",
      "2018-09-18 17:43:36,708 Plotting /net/lofar1/data1/albert/git/bayes_tec/scripts/data/killms_nchan4_freq_time/sol000_phase_dir_3.png\n",
      "2018-09-18 17:43:45,141 Plotting /net/lofar1/data1/albert/git/bayes_tec/scripts/data/killms_nchan4_freq_time/sol000_phase_dir_4.png\n",
      "2018-09-18 17:43:53,586 Plotting /net/lofar1/data1/albert/git/bayes_tec/scripts/data/killms_nchan4_freq_time/sol000_phase_dir_5.png\n",
      "2018-09-18 17:44:02,002 Plotting /net/lofar1/data1/albert/git/bayes_tec/scripts/data/killms_nchan4_freq_time/sol000_phase_dir_6.png\n",
      "2018-09-18 17:44:10,424 Plotting /net/lofar1/data1/albert/git/bayes_tec/scripts/data/killms_nchan4_freq_time/sol000_phase_dir_7.png\n",
      "2018-09-18 17:44:18,863 Plotting /net/lofar1/data1/albert/git/bayes_tec/scripts/data/killms_nchan4_freq_time/sol000_phase_dir_8.png\n",
      "2018-09-18 17:44:28,038 Plotting /net/lofar1/data1/albert/git/bayes_tec/scripts/data/killms_nchan4_freq_time/sol000_phase_dir_9.png\n",
      "2018-09-18 17:44:36,414 Plotting /net/lofar1/data1/albert/git/bayes_tec/scripts/data/killms_nchan4_freq_time/sol000_phase_dir_10.png\n",
      "2018-09-18 17:44:44,827 Plotting /net/lofar1/data1/albert/git/bayes_tec/scripts/data/killms_nchan4_freq_time/sol000_phase_dir_11.png\n",
      "2018-09-18 17:44:53,259 Plotting /net/lofar1/data1/albert/git/bayes_tec/scripts/data/killms_nchan4_freq_time/sol000_phase_dir_12.png\n",
      "2018-09-18 17:45:01,817 Plotting /net/lofar1/data1/albert/git/bayes_tec/scripts/data/killms_nchan4_freq_time/sol000_phase_dir_13.png\n",
      "2018-09-18 17:45:10,245 Plotting /net/lofar1/data1/albert/git/bayes_tec/scripts/data/killms_nchan4_freq_time/sol000_phase_dir_14.png\n",
      "2018-09-18 17:45:18,656 Plotting /net/lofar1/data1/albert/git/bayes_tec/scripts/data/killms_nchan4_freq_time/sol000_phase_dir_15.png\n",
      "2018-09-18 17:45:27,500 Plotting /net/lofar1/data1/albert/git/bayes_tec/scripts/data/killms_nchan4_freq_time/sol000_phase_dir_16.png\n",
      "2018-09-18 17:45:36,149 Plotting /net/lofar1/data1/albert/git/bayes_tec/scripts/data/killms_nchan4_freq_time/sol000_phase_dir_17.png\n",
      "2018-09-18 17:45:44,586 Plotting /net/lofar1/data1/albert/git/bayes_tec/scripts/data/killms_nchan4_freq_time/sol000_phase_dir_18.png\n",
      "2018-09-18 17:45:53,090 Plotting /net/lofar1/data1/albert/git/bayes_tec/scripts/data/killms_nchan4_freq_time/sol000_phase_dir_19.png\n",
      "2018-09-18 17:46:01,515 Plotting /net/lofar1/data1/albert/git/bayes_tec/scripts/data/killms_nchan4_freq_time/sol000_phase_dir_20.png\n",
      "2018-09-18 17:46:09,983 Plotting /net/lofar1/data1/albert/git/bayes_tec/scripts/data/killms_nchan4_freq_time/sol000_phase_dir_21.png\n",
      "2018-09-18 17:46:18,463 Plotting /net/lofar1/data1/albert/git/bayes_tec/scripts/data/killms_nchan4_freq_time/sol000_phase_dir_22.png\n",
      "2018-09-18 17:46:26,945 Plotting /net/lofar1/data1/albert/git/bayes_tec/scripts/data/killms_nchan4_freq_time/sol000_phase_dir_23.png\n",
      "2018-09-18 17:46:35,941 Plotting /net/lofar1/data1/albert/git/bayes_tec/scripts/data/killms_nchan4_freq_time/sol000_phase_dir_24.png\n",
      "2018-09-18 17:46:45,069 Plotting /net/lofar1/data1/albert/git/bayes_tec/scripts/data/killms_nchan4_freq_time/sol000_phase_dir_25.png\n",
      "2018-09-18 17:46:53,609 Plotting /net/lofar1/data1/albert/git/bayes_tec/scripts/data/killms_nchan4_freq_time/sol000_phase_dir_26.png\n",
      "2018-09-18 17:47:02,085 Plotting /net/lofar1/data1/albert/git/bayes_tec/scripts/data/killms_nchan4_freq_time/sol000_phase_dir_27.png\n",
      "2018-09-18 17:47:10,553 Plotting /net/lofar1/data1/albert/git/bayes_tec/scripts/data/killms_nchan4_freq_time/sol000_phase_dir_28.png\n",
      "2018-09-18 17:47:19,047 Plotting /net/lofar1/data1/albert/git/bayes_tec/scripts/data/killms_nchan4_freq_time/sol000_phase_dir_29.png\n",
      "2018-09-18 17:47:27,538 Plotting /net/lofar1/data1/albert/git/bayes_tec/scripts/data/killms_nchan4_freq_time/sol000_phase_dir_30.png\n",
      "2018-09-18 17:47:36,269 Plotting /net/lofar1/data1/albert/git/bayes_tec/scripts/data/killms_nchan4_freq_time/sol000_phase_dir_31.png\n",
      "2018-09-18 17:47:44,947 Plotting /net/lofar1/data1/albert/git/bayes_tec/scripts/data/killms_nchan4_freq_time/sol000_phase_dir_32.png\n",
      "2018-09-18 17:47:53,496 Plotting /net/lofar1/data1/albert/git/bayes_tec/scripts/data/killms_nchan4_freq_time/sol000_phase_dir_33.png\n",
      "2018-09-18 17:48:02,124 Plotting /net/lofar1/data1/albert/git/bayes_tec/scripts/data/killms_nchan4_freq_time/sol000_phase_dir_34.png\n",
      "2018-09-18 17:48:10,760 Plotting /net/lofar1/data1/albert/git/bayes_tec/scripts/data/killms_nchan4_freq_time/sol000_phase_dir_35.png\n",
      "2018-09-18 17:48:19,300 Plotting /net/lofar1/data1/albert/git/bayes_tec/scripts/data/killms_nchan4_freq_time/sol000_phase_dir_36.png\n",
      "2018-09-18 17:48:27,795 Plotting /net/lofar1/data1/albert/git/bayes_tec/scripts/data/killms_nchan4_freq_time/sol000_phase_dir_37.png\n",
      "2018-09-18 17:48:36,282 Plotting /net/lofar1/data1/albert/git/bayes_tec/scripts/data/killms_nchan4_freq_time/sol000_phase_dir_38.png\n",
      "2018-09-18 17:48:45,482 Plotting /net/lofar1/data1/albert/git/bayes_tec/scripts/data/killms_nchan4_freq_time/sol000_phase_dir_39.png\n",
      "2018-09-18 17:48:54,061 Plotting /net/lofar1/data1/albert/git/bayes_tec/scripts/data/killms_nchan4_freq_time/sol000_phase_dir_40.png\n",
      "2018-09-18 17:49:02,624 Plotting /net/lofar1/data1/albert/git/bayes_tec/scripts/data/killms_nchan4_freq_time/sol000_phase_dir_41.png\n",
      "2018-09-18 17:49:11,139 Plotting /net/lofar1/data1/albert/git/bayes_tec/scripts/data/killms_nchan4_freq_time/sol000_phase_dir_42.png\n",
      "2018-09-18 17:49:19,642 Plotting /net/lofar1/data1/albert/git/bayes_tec/scripts/data/killms_nchan4_freq_time/sol000_phase_dir_43.png\n",
      "2018-09-18 17:49:28,130 Plotting /net/lofar1/data1/albert/git/bayes_tec/scripts/data/killms_nchan4_freq_time/sol000_phase_dir_44.png\n",
      "2018-09-18 17:49:36,614 Closing table.\n",
      "2018-09-18 17:49:36,733 Appending to /net/lofar1/data1/albert/git/bayes_tec/scripts/data/ndppp_datapack.hdf5.\n",
      "2018-09-18 17:49:36,737 Closing table.\n",
      "2018-09-18 17:49:36,739 Reading from /net/lofar1/data1/albert/git/bayes_tec/scripts/data/ndppp_datapack.hdf5.\n",
      "2018-09-18 17:49:44,916 Plotting /net/lofar1/data1/albert/git/bayes_tec/scripts/data/ndppp_freq_time/sol000_phase_dir_0.png\n",
      "2018-09-18 17:49:53,722 Plotting /net/lofar1/data1/albert/git/bayes_tec/scripts/data/ndppp_freq_time/sol000_phase_dir_1.png\n",
      "2018-09-18 17:50:01,971 Plotting /net/lofar1/data1/albert/git/bayes_tec/scripts/data/ndppp_freq_time/sol000_phase_dir_2.png\n",
      "2018-09-18 17:50:10,168 Plotting /net/lofar1/data1/albert/git/bayes_tec/scripts/data/ndppp_freq_time/sol000_phase_dir_3.png\n",
      "2018-09-18 17:50:18,415 Plotting /net/lofar1/data1/albert/git/bayes_tec/scripts/data/ndppp_freq_time/sol000_phase_dir_4.png\n",
      "2018-09-18 17:50:26,698 Plotting /net/lofar1/data1/albert/git/bayes_tec/scripts/data/ndppp_freq_time/sol000_phase_dir_5.png\n",
      "2018-09-18 17:50:34,980 Plotting /net/lofar1/data1/albert/git/bayes_tec/scripts/data/ndppp_freq_time/sol000_phase_dir_6.png\n",
      "2018-09-18 17:50:43,254 Plotting /net/lofar1/data1/albert/git/bayes_tec/scripts/data/ndppp_freq_time/sol000_phase_dir_7.png\n",
      "2018-09-18 17:50:52,046 Plotting /net/lofar1/data1/albert/git/bayes_tec/scripts/data/ndppp_freq_time/sol000_phase_dir_8.png\n",
      "2018-09-18 17:51:00,601 Plotting /net/lofar1/data1/albert/git/bayes_tec/scripts/data/ndppp_freq_time/sol000_phase_dir_9.png\n",
      "2018-09-18 17:51:08,954 Plotting /net/lofar1/data1/albert/git/bayes_tec/scripts/data/ndppp_freq_time/sol000_phase_dir_10.png\n",
      "2018-09-18 17:51:17,244 Plotting /net/lofar1/data1/albert/git/bayes_tec/scripts/data/ndppp_freq_time/sol000_phase_dir_11.png\n",
      "2018-09-18 17:51:25,544 Plotting /net/lofar1/data1/albert/git/bayes_tec/scripts/data/ndppp_freq_time/sol000_phase_dir_12.png\n",
      "2018-09-18 17:51:33,853 Plotting /net/lofar1/data1/albert/git/bayes_tec/scripts/data/ndppp_freq_time/sol000_phase_dir_13.png\n"
     ]
    },
    {
     "name": "stdout",
     "output_type": "stream",
     "text": [
      "2018-09-18 17:51:42,157 Plotting /net/lofar1/data1/albert/git/bayes_tec/scripts/data/ndppp_freq_time/sol000_phase_dir_14.png\n",
      "2018-09-18 17:51:50,461 Plotting /net/lofar1/data1/albert/git/bayes_tec/scripts/data/ndppp_freq_time/sol000_phase_dir_15.png\n",
      "2018-09-18 17:51:59,384 Plotting /net/lofar1/data1/albert/git/bayes_tec/scripts/data/ndppp_freq_time/sol000_phase_dir_16.png\n",
      "2018-09-18 17:52:07,708 Plotting /net/lofar1/data1/albert/git/bayes_tec/scripts/data/ndppp_freq_time/sol000_phase_dir_17.png\n",
      "2018-09-18 17:52:16,031 Plotting /net/lofar1/data1/albert/git/bayes_tec/scripts/data/ndppp_freq_time/sol000_phase_dir_18.png\n",
      "2018-09-18 17:52:24,342 Plotting /net/lofar1/data1/albert/git/bayes_tec/scripts/data/ndppp_freq_time/sol000_phase_dir_19.png\n",
      "2018-09-18 17:52:32,790 Plotting /net/lofar1/data1/albert/git/bayes_tec/scripts/data/ndppp_freq_time/sol000_phase_dir_20.png\n",
      "2018-09-18 17:52:41,106 Plotting /net/lofar1/data1/albert/git/bayes_tec/scripts/data/ndppp_freq_time/sol000_phase_dir_21.png\n",
      "2018-09-18 17:52:49,436 Plotting /net/lofar1/data1/albert/git/bayes_tec/scripts/data/ndppp_freq_time/sol000_phase_dir_22.png\n",
      "2018-09-18 17:52:57,883 Plotting /net/lofar1/data1/albert/git/bayes_tec/scripts/data/ndppp_freq_time/sol000_phase_dir_23.png\n",
      "2018-09-18 17:53:06,649 Plotting /net/lofar1/data1/albert/git/bayes_tec/scripts/data/ndppp_freq_time/sol000_phase_dir_24.png\n",
      "2018-09-18 17:53:14,966 Plotting /net/lofar1/data1/albert/git/bayes_tec/scripts/data/ndppp_freq_time/sol000_phase_dir_25.png\n",
      "2018-09-18 17:53:23,278 Plotting /net/lofar1/data1/albert/git/bayes_tec/scripts/data/ndppp_freq_time/sol000_phase_dir_26.png\n",
      "2018-09-18 17:53:31,785 Plotting /net/lofar1/data1/albert/git/bayes_tec/scripts/data/ndppp_freq_time/sol000_phase_dir_27.png\n",
      "2018-09-18 17:53:40,123 Plotting /net/lofar1/data1/albert/git/bayes_tec/scripts/data/ndppp_freq_time/sol000_phase_dir_28.png\n",
      "2018-09-18 17:53:48,458 Plotting /net/lofar1/data1/albert/git/bayes_tec/scripts/data/ndppp_freq_time/sol000_phase_dir_29.png\n",
      "2018-09-18 17:53:56,784 Plotting /net/lofar1/data1/albert/git/bayes_tec/scripts/data/ndppp_freq_time/sol000_phase_dir_30.png\n",
      "2018-09-18 17:54:05,590 Plotting /net/lofar1/data1/albert/git/bayes_tec/scripts/data/ndppp_freq_time/sol000_phase_dir_31.png\n",
      "2018-09-18 17:54:13,956 Plotting /net/lofar1/data1/albert/git/bayes_tec/scripts/data/ndppp_freq_time/sol000_phase_dir_32.png\n",
      "2018-09-18 17:54:22,275 Plotting /net/lofar1/data1/albert/git/bayes_tec/scripts/data/ndppp_freq_time/sol000_phase_dir_33.png\n",
      "2018-09-18 17:54:30,604 Plotting /net/lofar1/data1/albert/git/bayes_tec/scripts/data/ndppp_freq_time/sol000_phase_dir_34.png\n",
      "2018-09-18 17:54:38,929 Plotting /net/lofar1/data1/albert/git/bayes_tec/scripts/data/ndppp_freq_time/sol000_phase_dir_35.png\n",
      "2018-09-18 17:54:47,253 Plotting /net/lofar1/data1/albert/git/bayes_tec/scripts/data/ndppp_freq_time/sol000_phase_dir_36.png\n",
      "2018-09-18 17:54:55,592 Plotting /net/lofar1/data1/albert/git/bayes_tec/scripts/data/ndppp_freq_time/sol000_phase_dir_37.png\n",
      "2018-09-18 17:55:03,922 Plotting /net/lofar1/data1/albert/git/bayes_tec/scripts/data/ndppp_freq_time/sol000_phase_dir_38.png\n",
      "2018-09-18 17:55:12,756 Plotting /net/lofar1/data1/albert/git/bayes_tec/scripts/data/ndppp_freq_time/sol000_phase_dir_39.png\n",
      "2018-09-18 17:55:21,620 Plotting /net/lofar1/data1/albert/git/bayes_tec/scripts/data/ndppp_freq_time/sol000_phase_dir_40.png\n",
      "2018-09-18 17:55:29,969 Plotting /net/lofar1/data1/albert/git/bayes_tec/scripts/data/ndppp_freq_time/sol000_phase_dir_41.png\n",
      "2018-09-18 17:55:38,299 Closing table.\n"
     ]
    }
   ],
   "source": [
    "plot_freq_vs_time('../../scripts/data/killms_datapack_nchan4.hdf5','../../scripts/data/killms_nchan4_freq_time')\n",
    "plot_freq_vs_time('../../scripts/data/ndppp_datapack.hdf5','../../scripts/data/ndppp_freq_time')"
   ]
  },
  {
   "cell_type": "code",
   "execution_count": null,
   "metadata": {
    "collapsed": true
   },
   "outputs": [],
   "source": [
    "animate_datapack('./ndppp_datapack.hdf5','ndppp_figs',32,labels_in_radec=True)"
   ]
  },
  {
   "cell_type": "code",
   "execution_count": 8,
   "metadata": {},
   "outputs": [
    {
     "name": "stdout",
     "output_type": "stream",
     "text": [
      "2018-09-19 10:54:53,515 Appending to /net/lofar1/data1/albert/git/bayes_tec/scripts/data/killms_datapack_3.hdf5.\n",
      "2018-09-19 10:54:53,520 Closing table.\n",
      "2018-09-19 10:54:53,521 Reading from /net/lofar1/data1/albert/git/bayes_tec/scripts/data/killms_datapack_3.hdf5.\n",
      "2018-09-19 10:54:53,601 Cannot select on axis freq, it doesn't exist. Ignored.\n",
      "2018-09-19 10:54:53,619 Cannot select on axis freq, it doesn't exist. Ignored.\n",
      "2018-09-19 10:56:44,021 Closing table.\n"
     ]
    }
   ],
   "source": [
    "plot_data_vs_solution('../../scripts/data/killms_datapack_3.hdf5',output_folder='ml_1dplots_3',solution_solset='posterior_sol',pol_sel=slice(0,1,1),ant_sel='RS*',time_sel=slice(0,100,1),freq_sel=slice(12,13,1))"
   ]
  },
  {
   "cell_type": "code",
   "execution_count": 15,
   "metadata": {
    "collapsed": true
   },
   "outputs": [],
   "source": [
    "import h5py\n",
    "with h5py.File('ml_results.hdf5') as f:\n",
    "    tec = f['tec'][...]\n",
    "    sigma = f['sigma'][...]"
   ]
  },
  {
   "cell_type": "code",
   "execution_count": 20,
   "metadata": {},
   "outputs": [
    {
     "data": {
      "image/png": "[encoded data removed]",
      "text/plain": [
       "<matplotlib.figure.Figure at 0x7f92fcba1d68>"
      ]
     },
     "metadata": {},
     "output_type": "display_data"
    }
   ],
   "source": [
    "import pylab as plt\n",
    "import numpy as np\n",
    "times = np.linspace(0,3600*8, 3600)\n",
    "phase = np.angle(np.exp(1j*(tec[0,1,51,:]*-8.448e9/140e6)))\n",
    "plt.plot(times,phase)\n",
    "plt.fill_between(times,phase-sigma[0,1,51,:],phase+sigma[0,1,51,:],alpha=0.5)\n",
    "plt.show()"
   ]
  },
  {
   "cell_type": "code",
   "execution_count": 14,
   "metadata": {},
   "outputs": [
    {
     "data": {
      "text/plain": [
       "(4, 45, 62, 3600)"
      ]
     },
     "execution_count": 14,
     "metadata": {},
     "output_type": "execute_result"
    }
   ],
   "source": [
    "tec.shape"
   ]
  },
  {
   "cell_type": "code",
   "execution_count": null,
   "metadata": {
    "collapsed": true
   },
   "outputs": [],
   "source": []
  }
 ],
 "metadata": {
  "kernelspec": {
   "display_name": "Python 3",
   "language": "python",
   "name": "python3"
  },
  "language_info": {
   "codemirror_mode": {
    "name": "ipython",
    "version": 3
   },
   "file_extension": ".py",
   "mimetype": "text/x-python",
   "name": "python",
   "nbconvert_exporter": "python",
   "pygments_lexer": "ipython3",
   "version": "3.6.2"
  }
 },
 "nbformat": 4,
 "nbformat_minor": 2
}
