{
 "cells": [
  {
   "cell_type": "code",
   "execution_count": 1,
   "metadata": {},
   "outputs": [
    {
     "name": "stderr",
     "output_type": "stream",
     "text": [
      "/net/lofar1/data1/albert/miniconda3/envs/kerastf/lib/python3.6/site-packages/h5py/__init__.py:36: FutureWarning: Conversion of the second argument of issubdtype from `float` to `np.floating` is deprecated. In future, it will be treated as `np.float64 == np.dtype(float).type`.\n",
      "  from ._conv import register_converters as _register_converters\n"
     ]
    }
   ],
   "source": [
    "import h5py"
   ]
  },
  {
   "cell_type": "code",
   "execution_count": 17,
   "metadata": {
    "collapsed": true
   },
   "outputs": [],
   "source": [
    "with h5py.File('../../scripts/data/killms_datapack_2.hdf5') as f, h5py.File('../../scripts/data/killms_datapack_3.hdf5') as g:\n",
    "    g['/sol000/tec000/val'][...] = f['/sol000/tec000/val'][...]\n",
    "    g['/sol000/tec000/weight'][...] = f['/sol000/tec000/weight'][...]"
   ]
  },
  {
   "cell_type": "code",
   "execution_count": 1,
   "metadata": {
    "collapsed": true
   },
   "outputs": [],
   "source": [
    "from bayes_tec.datapack import DataPack"
   ]
  },
  {
   "cell_type": "code",
   "execution_count": 3,
   "metadata": {},
   "outputs": [
    {
     "name": "stdout",
     "output_type": "stream",
     "text": [
      "2018-09-19 18:16:48,905 Appending to /net/lofar1/data1/albert/git/bayes_tec/scripts/data/ndppp_datapack.hdf5.\n",
      "2018-09-19 18:16:48,912 Closing table.\n",
      "2018-09-19 18:16:48,914 Reading from /net/lofar1/data1/albert/git/bayes_tec/scripts/data/ndppp_datapack.hdf5.\n",
      "2018-09-19 18:16:49,132 Closing table.\n"
     ]
    }
   ],
   "source": [
    "with DataPack('../../scripts/data/ndppp_datapack.hdf5',readonly=True) as datapack:#'/home/albert/git/IonoTomo/src/ionotomo/data/NsolutionsDDE_2.5Jy_tecandphasePF_correctedlosoto_fulltime_dec27.h5',readonly=True) as datapack:\n",
    "    tec, axes = datapack.tec\n",
    "    patch_names,directions = datapack.get_sources(axes['dir'])\n",
    "#     scalarphase,axes = datapack._solset.getSoltab('scalarphase000').getValues(reference='CS001HBA0',\n",
    "#                                weight=False)\n",
    "#     patch_names,directions = datapack.get_sources(axes['dir'])"
   ]
  },
  {
   "cell_type": "code",
   "execution_count": 3,
   "metadata": {},
   "outputs": [
    {
     "name": "stdout",
     "output_type": "stream",
     "text": [
      "42\n",
      "42\n"
     ]
    }
   ],
   "source": [
    "print(len(patch_names))\n",
    "import numpy as np\n",
    "u, i = np.unique(patch_names,return_index=True)\n",
    "print(len(u))"
   ]
  },
  {
   "cell_type": "code",
   "execution_count": 77,
   "metadata": {},
   "outputs": [
    {
     "data": {
      "text/plain": [
       "array(['[Patch_0]', '[Patch_1]', '[Patch_10]', '[Patch_11]', '[Patch_12]',\n",
       "       '[Patch_13]', '[Patch_14]', '[Patch_15]', '[Patch_16]',\n",
       "       '[Patch_17]', '[Patch_18]', '[Patch_19]', '[Patch_20]',\n",
       "       '[Patch_21]', '[Patch_22]', '[Patch_23]', '[Patch_24]',\n",
       "       '[Patch_25]', '[Patch_26]', '[Patch_27]', '[Patch_28]',\n",
       "       '[Patch_29]', '[Patch_3]', '[Patch_30]', '[Patch_31]',\n",
       "       '[Patch_32]', '[Patch_33]', '[Patch_34]', '[Patch_35]',\n",
       "       '[Patch_36]', '[Patch_37]', '[Patch_38]', '[Patch_39]',\n",
       "       '[Patch_4]', '[Patch_40]', '[Patch_41]', '[Patch_42]',\n",
       "       '[Patch_43]', '[Patch_6]', '[Patch_7]', '[Patch_8]', '[Patch_9]'],\n",
       "      dtype='<U10')"
      ]
     },
     "execution_count": 77,
     "metadata": {},
     "output_type": "execute_result"
    }
   ],
   "source": [
    "axes['dir']"
   ]
  },
  {
   "cell_type": "code",
   "execution_count": 78,
   "metadata": {},
   "outputs": [
    {
     "data": {
      "text/plain": [
       "1"
      ]
     },
     "execution_count": 78,
     "metadata": {},
     "output_type": "execute_result"
    }
   ],
   "source": [
    "list(patch_names).index(b'[Patch_20]')"
   ]
  },
  {
   "cell_type": "code",
   "execution_count": 5,
   "metadata": {},
   "outputs": [
    {
     "data": {
      "text/plain": [
       "<SkyCoord (ICRS): (ra, dec) in deg\n",
       "    [(125.704414, 62.999622)]>"
      ]
     },
     "execution_count": 5,
     "metadata": {},
     "output_type": "execute_result"
    }
   ],
   "source": [
    "directions[np.where(patch_names==b'[Patch_20]')]"
   ]
  },
  {
   "cell_type": "code",
   "execution_count": 4,
   "metadata": {},
   "outputs": [
    {
     "data": {
      "text/plain": [
       "<SkyCoord (ICRS): (ra, dec) in deg\n",
       "    [(127.4901, 64.64043)]>"
      ]
     },
     "execution_count": 4,
     "metadata": {},
     "output_type": "execute_result"
    }
   ],
   "source": [
    "directions[np.where(patch_names==b'[Patch_6]')]"
   ]
  },
  {
   "cell_type": "code",
   "execution_count": 81,
   "metadata": {},
   "outputs": [
    {
     "ename": "IndexError",
     "evalue": "index 51 is out of bounds for axis 1 with size 42",
     "output_type": "error",
     "traceback": [
      "\u001b[0;31m---------------------------------------------------------------------------\u001b[0m",
      "\u001b[0;31mIndexError\u001b[0m                                Traceback (most recent call last)",
      "\u001b[0;32m<ipython-input-81-e94e6b8dd386>\u001b[0m in \u001b[0;36m<module>\u001b[0;34m()\u001b[0m\n\u001b[0;32m----> 1\u001b[0;31m \u001b[0mtec\u001b[0m\u001b[0;34m[\u001b[0m\u001b[0;36m0\u001b[0m\u001b[0;34m,\u001b[0m\u001b[0;36m51\u001b[0m\u001b[0;34m,\u001b[0m\u001b[0mnp\u001b[0m\u001b[0;34m.\u001b[0m\u001b[0mwhere\u001b[0m\u001b[0;34m(\u001b[0m\u001b[0mpatch_names\u001b[0m\u001b[0;34m==\u001b[0m\u001b[0;34mb'[Patch_6]'\u001b[0m\u001b[0;34m)\u001b[0m\u001b[0;34m,\u001b[0m\u001b[0;36m0\u001b[0m\u001b[0;34m]\u001b[0m\u001b[0;34m\u001b[0m\u001b[0m\n\u001b[0m",
      "\u001b[0;31mIndexError\u001b[0m: index 51 is out of bounds for axis 1 with size 42"
     ]
    }
   ],
   "source": [
    "tec[0,51,np.where(patch_names==b'[Patch_6]'),0]"
   ]
  },
  {
   "cell_type": "code",
   "execution_count": 82,
   "metadata": {},
   "outputs": [
    {
     "data": {
      "text/plain": [
       "(1, 42, 62, 3595)"
      ]
     },
     "execution_count": 82,
     "metadata": {},
     "output_type": "execute_result"
    }
   ],
   "source": [
    "tec.shape"
   ]
  },
  {
   "cell_type": "code",
   "execution_count": 83,
   "metadata": {},
   "outputs": [
    {
     "data": {
      "text/plain": [
       "array(['[Patch_10]', '[Patch_30]', '[Patch_40]'], dtype='<U10')"
      ]
     },
     "execution_count": 83,
     "metadata": {},
     "output_type": "execute_result"
    }
   ],
   "source": [
    "axes['dir'][~np.isin(axes['dir'],patch_names)]"
   ]
  },
  {
   "cell_type": "code",
   "execution_count": 4,
   "metadata": {},
   "outputs": [
    {
     "name": "stdout",
     "output_type": "stream",
     "text": [
      "2018-09-19 18:16:52,960 Reading from /net/lofar1/data1/albert/git/bayes_tec/scripts/data/ndppp_datapack.hdf5.\n",
      "['RS106HBA' 'RS205HBA' 'RS208HBA' 'RS210HBA' 'RS305HBA' 'RS306HBA'\n",
      " 'RS307HBA' 'RS310HBA' 'RS406HBA' 'RS407HBA' 'RS409HBA' 'RS503HBA'\n",
      " 'RS508HBA' 'RS509HBA']\n",
      "(array([b'RS106HBA', b'RS205HBA', b'RS208HBA', b'RS210HBA', b'RS305HBA',\n",
      "       b'RS306HBA', b'RS307HBA', b'RS310HBA', b'RS406HBA', b'RS407HBA',\n",
      "       b'RS409HBA', b'RS503HBA', b'RS508HBA', b'RS509HBA'], dtype='|S9'), <SkyCoord (ITRS: obstime=J2000.000): (x, y, z) in m\n",
      "    [(3829205.5, 469142.53, 5062181. ), (3831479.8, 463487.53, 5060990. ),\n",
      "     (3847753.2, 466962.8 , 5048397. ), (3877827.5, 467536.6 , 5025445.5),\n",
      "     (3828732.8, 454692.4 , 5063850.5), (3829771.2, 452761.7 , 5063243. ),\n",
      "     (3837964.5, 449627.25, 5057357.5), (3845376.2, 413616.56, 5054796.5),\n",
      "     (3818425. , 452020.28, 5071817.5), (3811649.5, 453459.9 , 5076729. ),\n",
      "     (3824812.5, 426130.34, 5069252. ), (3824138.5, 459476.97, 5066858.5),\n",
      "     (3797136.5, 463114.44, 5086651.5), (3783537.5, 450130.06, 5097866. )]>)\n",
      "2018-09-19 18:16:52,979 Closing table.\n"
     ]
    }
   ],
   "source": [
    "with datapack:\n",
    "    datapack.select(ant='RS*')\n",
    "    axes = datapack.axes_phase\n",
    "    print(axes['ant'])\n",
    "    \n",
    "    print(datapack.get_antennas(axes['ant']))"
   ]
  },
  {
   "cell_type": "code",
   "execution_count": 120,
   "metadata": {},
   "outputs": [
    {
     "name": "stdout",
     "output_type": "stream",
     "text": [
      "[ 0 11  1  2  3  4  5  6  7  8  9 10 12 13 14 15 16 17 18 19 20 21 32 22\n",
      " 23 24 25 26 27 28 29 30 31 37 33 34 35 36 38 39 40 41]\n",
      "[b'[Patch_0]' b'[Patch_19]' b'[Patch_1]' b'[Patch_10]' b'[Patch_11]'\n",
      " b'[Patch_12]' b'[Patch_13]' b'[Patch_14]' b'[Patch_15]' b'[Patch_16]'\n",
      " b'[Patch_17]' b'[Patch_18]' b'[Patch_20]' b'[Patch_21]' b'[Patch_22]'\n",
      " b'[Patch_23]' b'[Patch_24]' b'[Patch_25]' b'[Patch_26]' b'[Patch_27]'\n",
      " b'[Patch_28]' b'[Patch_29]' b'[Patch_39]' b'[Patch_3]' b'[Patch_30]'\n",
      " b'[Patch_31]' b'[Patch_32]' b'[Patch_33]' b'[Patch_34]' b'[Patch_35]'\n",
      " b'[Patch_36]' b'[Patch_37]' b'[Patch_38]' b'[Patch_43]' b'[Patch_4]'\n",
      " b'[Patch_40]' b'[Patch_41]' b'[Patch_42]' b'[Patch_6]' b'[Patch_7]'\n",
      " b'[Patch_8]' b'[Patch_9]']\n"
     ]
    }
   ],
   "source": [
    "sorter = np.argsort(axes['dir'])\n",
    "dir_idx = np.searchsorted(axes['dir'], patch_names, sorter=sorter)\n",
    "print(dir_idx)\n",
    "print(patch_names[dir_idx])"
   ]
  },
  {
   "cell_type": "code",
   "execution_count": 118,
   "metadata": {},
   "outputs": [
    {
     "data": {
      "text/plain": [
       "(42,)"
      ]
     },
     "execution_count": 118,
     "metadata": {},
     "output_type": "execute_result"
    }
   ],
   "source": [
    "np.unique(patch_names[dir_idx]).shape"
   ]
  },
  {
   "cell_type": "code",
   "execution_count": 95,
   "metadata": {},
   "outputs": [
    {
     "name": "stdout",
     "output_type": "stream",
     "text": [
      "2018-09-19 16:03:16,088 Reading from /net/lofar1/data1/albert/git/bayes_tec/scripts/data/ndppp_datapack.hdf5.\n",
      "[[2.2586963 1.138262 ]\n",
      " [2.261617  1.1390908]]\n",
      "2018-09-19 16:03:16,097 Closing table.\n"
     ]
    }
   ],
   "source": [
    "with datapack:\n",
    "    print(datapack.sources[1][[0,1]])"
   ]
  },
  {
   "cell_type": "code",
   "execution_count": null,
   "metadata": {
    "collapsed": true
   },
   "outputs": [],
   "source": []
  }
 ],
 "metadata": {
  "kernelspec": {
   "display_name": "Python 3",
   "language": "python",
   "name": "python3"
  },
  "language_info": {
   "codemirror_mode": {
    "name": "ipython",
    "version": 3
   },
   "file_extension": ".py",
   "mimetype": "text/x-python",
   "name": "python",
   "nbconvert_exporter": "python",
   "pygments_lexer": "ipython3",
   "version": "3.6.2"
  }
 },
 "nbformat": 4,
 "nbformat_minor": 2
}
