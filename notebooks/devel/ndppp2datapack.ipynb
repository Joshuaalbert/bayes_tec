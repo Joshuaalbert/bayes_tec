{
 "cells": [
  {
   "cell_type": "code",
   "execution_count": 8,
   "metadata": {},
   "outputs": [
    {
     "name": "stdout",
     "output_type": "stream",
     "text": [
      "2018-08-24 13:55:01,402 Appending to /home/albert/git/IonoTomo/src/ionotomo/data/NsolutionsDDE_2.5Jy_tecandphasePF_correctedlosoto_fulltime_dec27.h5.\n",
      "2018-08-24 13:55:01,405 Closing table.\n",
      "2018-08-24 13:55:01,407 Reading from /home/albert/git/IonoTomo/src/ionotomo/data/NsolutionsDDE_2.5Jy_tecandphasePF_correctedlosoto_fulltime_dec27.h5.\n",
      "2018-08-24 13:55:01,409 Creating /net/lofar1/data1/albert/git/bayes_tec/notebooks/devel/ndppp_solutions.hdf5.\n",
      "2018-08-24 13:55:01,411 Creating a new solution-set: sol000.\n",
      "2018-08-24 13:55:01,413 --Creating new antenna table.\n",
      "2018-08-24 13:55:01,416 --Creating new source table.\n",
      "2018-08-24 13:55:01,418 Closing table.\n",
      "2018-08-24 13:55:01,420 Appending to /net/lofar1/data1/albert/git/bayes_tec/notebooks/devel/ndppp_solutions.hdf5.\n"
     ]
    },
    {
     "name": "stderr",
     "output_type": "stream",
     "text": [
      "/net/lofar1/data1/albert/miniconda3/envs/kerastf/lib/python3.6/site-packages/tables-3.4.4-py3.6-linux-x86_64.egg/tables/atom.py:393: FlavorWarning: support for unicode type is very limited, and only works for strings that can be cast as ascii\n",
      "  \"and only works for strings that can be cast as ascii\", FlavorWarning)\n"
     ]
    },
    {
     "name": "stdout",
     "output_type": "stream",
     "text": [
      "2018-08-24 13:55:10,577 Creating a new solution-table: phase000.\n",
      "2018-08-24 13:55:14,978 Closing table.\n",
      "2018-08-24 13:55:14,982 Closing table.\n",
      "2018-08-24 13:55:14,984 Appending to /net/lofar1/data1/albert/git/bayes_tec/notebooks/devel/ndppp_solutions.hdf5.\n",
      "2018-08-24 13:55:14,987 Closing table.\n",
      "2018-08-24 13:55:14,988 Appending to /net/lofar1/data1/albert/git/bayes_tec/notebooks/devel/ndppp_solutions.hdf5.\n"
     ]
    },
    {
     "data": {
      "image/png": "[encoded data removed]",
      "text/plain": [
       "<matplotlib.figure.Figure at 0x7fd05e56d630>"
      ]
     },
     "metadata": {},
     "output_type": "display_data"
    },
    {
     "name": "stdout",
     "output_type": "stream",
     "text": [
      "2018-08-24 13:55:15,944 Closing table.\n"
     ]
    }
   ],
   "source": [
    "\"\"\"This loads the data from Reinout's reduction into a DataPack\"\"\"\n",
    "from bayes_tec.datapack import DataPack\n",
    "import h5py\n",
    "import numpy as np\n",
    "import os\n",
    "import sys\n",
    "from bayes_tec.logging import logging\n",
    "\n",
    "if sys.hexversion >= 0x3000000:\n",
    "    def str_(s):\n",
    "        return str(s,'utf-8')\n",
    "else:\n",
    "    def str_(s):\n",
    "        return str(s)\n",
    "\n",
    "#TECU = 1e16\n",
    "tec_conversion = -8.4480e9# rad Hz/tecu\n",
    "\n",
    "def _wrap(x):\n",
    "    return np.angle(np.exp(1j*x))\n",
    "\n",
    "def import_data(dd_file, datapack, clobber=False,chan_per_block = 20):\n",
    "    \"\"\"Create a datapack from the direction dependent NDPPP solutions.\n",
    "    dd_file : str\n",
    "        path to dd solutions made by NDPPP\n",
    "    datapack_file : str\n",
    "        path to store resulting DataPack\n",
    "\n",
    "    Note: assumes dtypes in hdf5 files are float\n",
    "    \"\"\"\n",
    "    if os.path.exists(datapack):\n",
    "        if clobber:\n",
    "            os.unlink(datapack)\n",
    "        else:\n",
    "            raise ValueError(\"{} already exists and non clobber\".format(datapack))\n",
    "        \n",
    "    with DataPack(dd_file,readonly=True) as f_dd:\n",
    "        freqs = np.array([120.,130.,140.,150.,160.])*1e6\n",
    "        with DataPack(datapack) as out:\n",
    "            patch_names, directions = f_dd.sources\n",
    "            antenna_labels, antennas = f_dd.antennas\n",
    "            out.add_antennas()#default is lofar\n",
    "            out.add_sources(directions, patch_names=patch_names)\n",
    "            \n",
    "            tec,axes = f_dd.tec#(npol), nt, na, nd,1\n",
    "            \n",
    "            if 'pol' in axes.keys():#(1,3595,62,1,42,1)\n",
    "                tec = tec[...,0].transpose((0,3,2,1))#npol,nd,na,nt\n",
    "                phase = tec_conversion*tec[:,:,:,None,:]/freqs[None,None,None,:,None]\n",
    "            else:\n",
    "                tec = tec[...,0].transpose((2,1,0))#nd,na,nt\n",
    "                phase = tec_conversion*tec[None,:,:,None,:]/freqs[None,None,None,:,None]\n",
    "                axes['pol'] = ['XX']\n",
    "                \n",
    "            out.add_freq_dep_tab('phase', axes['time'], freqs, pols=axes['pol'], ants = axes['ant'], \n",
    "                                 dirs = axes['dir'], vals=_wrap(phase))\n",
    "    with DataPack(datapack) as out:\n",
    "        phase,_ = out.phase\n",
    "        import pylab as plt\n",
    "        plt.plot(phase[0,0,51,2,:])\n",
    "        plt.show()\n",
    "        \n",
    "\n",
    "if __name__=='__main__':\n",
    "    import_data(\"/home/albert/git/IonoTomo/src/ionotomo/data/NsolutionsDDE_2.5Jy_tecandphasePF_correctedlosoto_fulltime_dec27.h5\",\n",
    "            \"ndppp_solutions.hdf5\",\n",
    "            clobber=True)\n",
    "#    from ionotomo.plotting.plot_tools import plot_datapack, animate_datapack\n",
    "#    datapack = DataPack(filename=\"rvw_datapack_full_phase_dec27_fullfreq.hdf5\")\n",
    "##    animate_datapack(datapack,\"rvw_datapack_animation_std_dec27\", num_threads=1,mode='perantenna',observable='std')\n",
    "#    animate_datapack(datapack,\"rvw_datapack_animation_phase_dec27_fullfreq\", num_threads=1,mode='perantenna',observable='phase',phase_wrap=False)\n",
    "    \n",
    "\n",
    "\n"
   ]
  },
  {
   "cell_type": "code",
   "execution_count": null,
   "metadata": {
    "collapsed": true
   },
   "outputs": [],
   "source": []
  }
 ],
 "metadata": {
  "kernelspec": {
   "display_name": "Python 3",
   "language": "python",
   "name": "python3"
  },
  "language_info": {
   "codemirror_mode": {
    "name": "ipython",
    "version": 3
   },
   "file_extension": ".py",
   "mimetype": "text/x-python",
   "name": "python",
   "nbconvert_exporter": "python",
   "pygments_lexer": "ipython3",
   "version": "3.6.2"
  }
 },
 "nbformat": 4,
 "nbformat_minor": 2
}
