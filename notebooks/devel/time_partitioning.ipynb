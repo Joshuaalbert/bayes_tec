{
 "cells": [
  {
   "cell_type": "code",
   "execution_count": 10,
   "metadata": {},
   "outputs": [
    {
     "name": "stderr",
     "output_type": "stream",
     "text": [
      "WARNING:root:Available configurations:\n",
      "  ( n|  B| overlap )\n",
      ">> 70|100| 25\n",
      "   88| 80| 20\n",
      "  110| 80| 24\n",
      "  126| 72| 22\n",
      "  146| 96| 36\n",
      "  160| 80| 29\n",
      "  176| 80| 30\n",
      "  196| 72| 27\n",
      "  220| 80| 32\n",
      "  250|100| 43\n",
      "  252| 72| 29\n",
      "  292| 96| 42\n",
      "  294| 72| 30\n",
      "  350|100| 45\n",
      "  352| 80| 35\n",
      "  354| 60| 25\n",
      "  438| 96| 44\n",
      "  440| 80| 36\n",
      "  442| 64| 28\n",
      "  444| 48| 20\n",
      "  584| 96| 45\n",
      "  586| 84| 39\n",
      "  588| 72| 33\n",
      "  590| 60| 27\n",
      "  592| 48| 21\n",
      "  876| 96| 46\n",
      "  878| 88| 42\n",
      "  880| 80| 38\n",
      "  882| 72| 34\n",
      "  884| 64| 30\n",
      "  886| 56| 26\n",
      "  888| 48| 22\n",
      "  1750|100| 49\n",
      "  1752| 96| 47\n",
      "  1754| 92| 45\n",
      "  1756| 88| 43\n",
      "  1758| 84| 41\n",
      "  1760| 80| 39\n",
      "  1762| 76| 37\n",
      "  1764| 72| 35\n",
      "  1766| 68| 33\n",
      "  1768| 64| 31\n",
      "  1770| 60| 29\n",
      "  1772| 56| 27\n",
      "  1774| 52| 25\n",
      "  1776| 48| 23\n",
      "  1778| 44| 21\n"
     ]
    },
    {
     "name": "stdout",
     "output_type": "stream",
     "text": [
      "[(0, 75), (75, 125), (125, 175), (175, 225), (225, 275), (275, 325), (325, 375), (375, 425), (425, 475), (475, 525), (525, 575), (575, 625), (625, 675), (675, 725), (725, 775), (775, 825), (825, 875), (875, 925), (925, 975), (975, 1025), (1025, 1075), (1075, 1125), (1125, 1175), (1175, 1225), (1225, 1275), (1275, 1325), (1325, 1375), (1375, 1425), (1425, 1475), (1475, 1525), (1525, 1575), (1575, 1625), (1625, 1675), (1675, 1725), (1725, 1775), (1775, 1825), (1825, 1875), (1875, 1925), (1925, 1975), (1975, 2025), (2025, 2075), (2075, 2125), (2125, 2175), (2175, 2225), (2225, 2275), (2275, 2325), (2325, 2375), (2375, 2425), (2425, 2475), (2475, 2525), (2525, 2575), (2575, 2625), (2625, 2675), (2675, 2725), (2725, 2775), (2775, 2825), (2825, 2875), (2875, 2925), (2925, 2975), (2975, 3025), (3025, 3075), (3075, 3125), (3125, 3175), (3175, 3225), (3225, 3275), (3275, 3325), (3325, 3375), (3375, 3425), (3425, 3475), (3475, 3525), (3525, 3600)]\n"
     ]
    },
    {
     "data": {
      "image/png": "[encoded data removed]",
      "text/plain": [
       "<matplotlib.figure.Figure at 0x7f727d3fde10>"
      ]
     },
     "metadata": {},
     "output_type": "display_data"
    }
   ],
   "source": [
    "import numpy as np\n",
    "import logging\n",
    "\n",
    "def define_equal_subsets(N,max_block_size, min_overlap,verbose=False):\n",
    "    \"\"\"\n",
    "    Break an abscissa into equal overlaping regions using modular arithmetic.\n",
    "    Args:\n",
    "    N : int length of abscisa\n",
    "    max_block_size : int maximal size of partitions\n",
    "    min_overlap : int minimum overlap in units of elements\n",
    "    verbose: bool print the options\n",
    "    \"\"\"\n",
    "    \n",
    "    def xgcd(b, a):\n",
    "        x0, x1, y0, y1 = 1, 0, 0, 1\n",
    "        while a != 0:\n",
    "            q, b, a = b // a, a, b % a\n",
    "            x0, x1 = x1, x0 - q * x1\n",
    "            y0, y1 = y1, y0 - q * y1\n",
    "        return  b, x0, y0\n",
    "\n",
    "    def mulinv(b, n):\n",
    "        g, x, _ = xgcd(b, n)\n",
    "        if g == 1:\n",
    "            return x % n\n",
    "\n",
    "    res = []\n",
    "    for n in range(1,N):\n",
    "        a = -2*n\n",
    "        b = n+1\n",
    "        ainv = mulinv(a,b)\n",
    "        if ainv is None:\n",
    "            continue\n",
    "        O = (ainv * N) % b\n",
    "        B = (N - a*O)//b\n",
    "        if B <= max_block_size and O >= min_overlap and B - 2*O > 0:\n",
    "            res.append((n,B,O))\n",
    "        \n",
    "    if len(res) == 0:\n",
    "        raise ValueError(\"Incompatible max blocksize and min overlap. Try raising or lowering respectively.\")\n",
    "    possible = np.array(res)\n",
    "    \n",
    "    ##\n",
    "    # selection\n",
    "    min_n = np.argmin(possible[:,0])\n",
    "    res = possible[min_n,:]\n",
    "#     max_B = np.argmax(res[:,1])\n",
    "#     res = res[max_B,:]\n",
    "#     print(res)\n",
    "#     max_B = np.atleast_1d(np.argmax(possible[:,1]))\n",
    "#     res = possible[max_B,:]\n",
    "#     min_overlap = np.argmin(res[:,2])\n",
    "#     res = tuple(res[min_overlap,:])\n",
    "    if verbose:\n",
    "        verb = \"\\n\".join([\"  {:3d}|{:3d}|{:3d}\".format(*r) if not np.all(r == res) else \">>{:3d}|{:3d}|{:3d}\".format(*r) for r in possible])\n",
    "        logging.warning(\"Available configurations:\\n  ( n|  B| overlap )\\n{}\".format(verb))\n",
    "    \n",
    "    blocks, val_blocks = [],[]\n",
    "    start=0\n",
    "    i = 0\n",
    "    n,B,O = res\n",
    "    while i <= n:\n",
    "        blocks.append((i*B - i*2*O, (i+1)*B - i*2*O))\n",
    "        if i == 0:\n",
    "            val_blocks.append((blocks[-1][0], blocks[-1][1]-O))\n",
    "        elif i == n:\n",
    "            val_blocks.append((blocks[-1][0] + O, blocks[-1][1]))\n",
    "        else:\n",
    "            val_blocks.append((blocks[-1][0] + O, blocks[-1][1] - O))\n",
    "        i += 1\n",
    "    return blocks, val_blocks\n",
    "\n",
    "N = 3600\n",
    "blocks, val_blocks = define_equal_subsets(N,100,20,True)\n",
    "print(val_blocks)\n",
    "import pylab as plt\n",
    "plt.plot(blocks)\n",
    "plt.show()\n"
   ]
  },
  {
   "cell_type": "code",
   "execution_count": 53,
   "metadata": {},
   "outputs": [
    {
     "name": "stderr",
     "output_type": "stream",
     "text": [
      "WARNING:root:Available configurations:\n",
      "  ( n|  B| overlap )\n",
      ">>  3| 20|  5\n",
      "    4| 18|  5\n",
      "    5| 20|  7\n",
      "    7| 15|  5\n",
      "    8| 18|  7\n",
      "    9| 14|  5\n",
      "   11| 17|  7\n",
      "   15| 20|  9\n",
      "   16| 18|  8\n",
      "   17| 16|  7\n",
      "   18| 14|  6\n",
      "   19| 12|  5\n"
     ]
    }
   ],
   "source": [
    "\n",
    "def block_and_overlap(N,max_block_size, min_overlap,verbose=False):\n",
    "    res = []\n",
    "    for n in range(1,N+1):\n",
    "        for B in range(1,max_block_size+1):\n",
    "            for o in range(min_overlap,B//2):\n",
    "                if N == (n+1)*B - n*2*o:\n",
    "                    res.append((n,B,o))\n",
    "    if len(res) == 0:\n",
    "        raise ValueError(\"Incompatible max blocksize and min overlap. Try raising or lowering respectively.\")\n",
    "    possible = np.array(res)\n",
    "    \n",
    "    max_B = np.atleast_1d(np.argmax(possible[:,1]))\n",
    "    res = possible[max_B,:]\n",
    "    min_overlap = np.argmin(res[:,2])\n",
    "    res = tuple(res[min_overlap,:])\n",
    "    if verbose:\n",
    "        verb = \"\\n\".join([\"  {:3d}|{:3d}|{:3d}\".format(*r) if tuple(r) != res else \">>{:3d}|{:3d}|{:3d}\".format(*r) for r in possible])\n",
    "        logging.warning(\"Available configurations:\\n  ( n|  B| overlap )\\n{}\".format(verb))\n",
    "    return res\n",
    "\n",
    "N = 50\n",
    "res = block_and_overlap(N,20,5,True)\n",
    "\n",
    "\n",
    "\n",
    "    \n",
    "\n",
    "\n",
    "    \n",
    "    "
   ]
  },
  {
   "cell_type": "code",
   "execution_count": 7,
   "metadata": {},
   "outputs": [
    {
     "data": {
      "text/plain": [
       "(10, 500, 95)"
      ]
     },
     "execution_count": 7,
     "metadata": {},
     "output_type": "execute_result"
    }
   ],
   "source": [
    "16| 18|  8\n",
    "12| 26| 12"
   ]
  },
  {
   "cell_type": "code",
   "execution_count": null,
   "metadata": {
    "collapsed": true
   },
   "outputs": [],
   "source": []
  }
 ],
 "metadata": {
  "kernelspec": {
   "display_name": "Python 3",
   "language": "python",
   "name": "python3"
  },
  "language_info": {
   "codemirror_mode": {
    "name": "ipython",
    "version": 3
   },
   "file_extension": ".py",
   "mimetype": "text/x-python",
   "name": "python",
   "nbconvert_exporter": "python",
   "pygments_lexer": "ipython3",
   "version": "3.6.2"
  }
 },
 "nbformat": 4,
 "nbformat_minor": 2
}
