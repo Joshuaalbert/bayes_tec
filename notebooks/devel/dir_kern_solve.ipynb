{
 "cells": [
  {
   "cell_type": "code",
   "execution_count": 1,
   "metadata": {},
   "outputs": [
    {
     "name": "stderr",
     "output_type": "stream",
     "text": [
      "/home/albert/miniconda3/envs/tectf/lib/python3.6/importlib/_bootstrap.py:219: ImportWarning: can't resolve package from __spec__ or __package__, falling back on __name__ and __path__\n",
      "  return f(*args, **kwds)\n",
      "/home/albert/miniconda3/envs/tectf/lib/python3.6/importlib/_bootstrap.py:219: ImportWarning: can't resolve package from __spec__ or __package__, falling back on __name__ and __path__\n",
      "  return f(*args, **kwds)\n",
      "/home/albert/miniconda3/envs/tectf/lib/python3.6/importlib/_bootstrap.py:219: ImportWarning: can't resolve package from __spec__ or __package__, falling back on __name__ and __path__\n",
      "  return f(*args, **kwds)\n",
      "/home/albert/miniconda3/envs/tectf/lib/python3.6/importlib/_bootstrap.py:219: ImportWarning: can't resolve package from __spec__ or __package__, falling back on __name__ and __path__\n",
      "  return f(*args, **kwds)\n",
      "/home/albert/miniconda3/envs/tectf/lib/python3.6/importlib/_bootstrap.py:219: ImportWarning: can't resolve package from __spec__ or __package__, falling back on __name__ and __path__\n",
      "  return f(*args, **kwds)\n",
      "/home/albert/miniconda3/envs/tectf/lib/python3.6/importlib/_bootstrap.py:219: ImportWarning: can't resolve package from __spec__ or __package__, falling back on __name__ and __path__\n",
      "  return f(*args, **kwds)\n",
      "/home/albert/miniconda3/envs/tectf/lib/python3.6/importlib/_bootstrap.py:219: ImportWarning: can't resolve package from __spec__ or __package__, falling back on __name__ and __path__\n",
      "  return f(*args, **kwds)\n",
      "/home/albert/miniconda3/envs/tectf/lib/python3.6/importlib/_bootstrap.py:219: ImportWarning: can't resolve package from __spec__ or __package__, falling back on __name__ and __path__\n",
      "  return f(*args, **kwds)\n",
      "/home/albert/miniconda3/envs/tectf/lib/python3.6/importlib/_bootstrap.py:219: ImportWarning: can't resolve package from __spec__ or __package__, falling back on __name__ and __path__\n",
      "  return f(*args, **kwds)\n",
      "/home/albert/miniconda3/envs/tectf/lib/python3.6/importlib/_bootstrap.py:219: ImportWarning: can't resolve package from __spec__ or __package__, falling back on __name__ and __path__\n",
      "  return f(*args, **kwds)\n",
      "/home/albert/miniconda3/envs/tectf/lib/python3.6/importlib/_bootstrap.py:219: ImportWarning: can't resolve package from __spec__ or __package__, falling back on __name__ and __path__\n",
      "  return f(*args, **kwds)\n",
      "/home/albert/miniconda3/envs/tectf/lib/python3.6/importlib/_bootstrap.py:219: ImportWarning: can't resolve package from __spec__ or __package__, falling back on __name__ and __path__\n",
      "  return f(*args, **kwds)\n",
      "/home/albert/miniconda3/envs/tectf/lib/python3.6/importlib/_bootstrap.py:219: ImportWarning: can't resolve package from __spec__ or __package__, falling back on __name__ and __path__\n",
      "  return f(*args, **kwds)\n",
      "/home/albert/miniconda3/envs/tectf/lib/python3.6/importlib/_bootstrap.py:219: ImportWarning: can't resolve package from __spec__ or __package__, falling back on __name__ and __path__\n",
      "  return f(*args, **kwds)\n",
      "/home/albert/miniconda3/envs/tectf/lib/python3.6/importlib/_bootstrap.py:219: ImportWarning: can't resolve package from __spec__ or __package__, falling back on __name__ and __path__\n",
      "  return f(*args, **kwds)\n",
      "/home/albert/miniconda3/envs/tectf/lib/python3.6/importlib/_bootstrap.py:219: ImportWarning: can't resolve package from __spec__ or __package__, falling back on __name__ and __path__\n",
      "  return f(*args, **kwds)\n",
      "/home/albert/miniconda3/envs/tectf/lib/python3.6/importlib/_bootstrap.py:219: ImportWarning: can't resolve package from __spec__ or __package__, falling back on __name__ and __path__\n",
      "  return f(*args, **kwds)\n",
      "/home/albert/miniconda3/envs/tectf/lib/python3.6/importlib/_bootstrap.py:219: ImportWarning: can't resolve package from __spec__ or __package__, falling back on __name__ and __path__\n",
      "  return f(*args, **kwds)\n",
      "/home/albert/miniconda3/envs/tectf/lib/python3.6/importlib/_bootstrap.py:219: ImportWarning: can't resolve package from __spec__ or __package__, falling back on __name__ and __path__\n",
      "  return f(*args, **kwds)\n",
      "/home/albert/miniconda3/envs/tectf/lib/python3.6/importlib/_bootstrap.py:219: ImportWarning: can't resolve package from __spec__ or __package__, falling back on __name__ and __path__\n",
      "  return f(*args, **kwds)\n",
      "/home/albert/miniconda3/envs/tectf/lib/python3.6/importlib/_bootstrap.py:219: ImportWarning: can't resolve package from __spec__ or __package__, falling back on __name__ and __path__\n",
      "  return f(*args, **kwds)\n",
      "/home/albert/miniconda3/envs/tectf/lib/python3.6/importlib/_bootstrap.py:219: ImportWarning: can't resolve package from __spec__ or __package__, falling back on __name__ and __path__\n",
      "  return f(*args, **kwds)\n",
      "/home/albert/miniconda3/envs/tectf/lib/python3.6/importlib/_bootstrap.py:219: ImportWarning: can't resolve package from __spec__ or __package__, falling back on __name__ and __path__\n",
      "  return f(*args, **kwds)\n",
      "/home/albert/miniconda3/envs/tectf/lib/python3.6/importlib/_bootstrap.py:219: ImportWarning: can't resolve package from __spec__ or __package__, falling back on __name__ and __path__\n",
      "  return f(*args, **kwds)\n",
      "/home/albert/miniconda3/envs/tectf/lib/python3.6/importlib/_bootstrap.py:219: ImportWarning: can't resolve package from __spec__ or __package__, falling back on __name__ and __path__\n",
      "  return f(*args, **kwds)\n",
      "/home/albert/miniconda3/envs/tectf/lib/python3.6/importlib/_bootstrap.py:219: ImportWarning: can't resolve package from __spec__ or __package__, falling back on __name__ and __path__\n",
      "  return f(*args, **kwds)\n",
      "/home/albert/miniconda3/envs/tectf/lib/python3.6/importlib/_bootstrap.py:219: ImportWarning: can't resolve package from __spec__ or __package__, falling back on __name__ and __path__\n",
      "  return f(*args, **kwds)\n",
      "/home/albert/miniconda3/envs/tectf/lib/python3.6/importlib/_bootstrap.py:219: ImportWarning: can't resolve package from __spec__ or __package__, falling back on __name__ and __path__\n",
      "  return f(*args, **kwds)\n",
      "/home/albert/miniconda3/envs/tectf/lib/python3.6/importlib/_bootstrap.py:219: ImportWarning: can't resolve package from __spec__ or __package__, falling back on __name__ and __path__\n",
      "  return f(*args, **kwds)\n",
      "/home/albert/miniconda3/envs/tectf/lib/python3.6/importlib/_bootstrap.py:219: ImportWarning: can't resolve package from __spec__ or __package__, falling back on __name__ and __path__\n",
      "  return f(*args, **kwds)\n",
      "/home/albert/miniconda3/envs/tectf/lib/python3.6/importlib/_bootstrap.py:219: ImportWarning: can't resolve package from __spec__ or __package__, falling back on __name__ and __path__\n",
      "  return f(*args, **kwds)\n",
      "/home/albert/miniconda3/envs/tectf/lib/python3.6/importlib/_bootstrap.py:219: ImportWarning: can't resolve package from __spec__ or __package__, falling back on __name__ and __path__\n",
      "  return f(*args, **kwds)\n",
      "/home/albert/miniconda3/envs/tectf/lib/python3.6/importlib/_bootstrap.py:219: ImportWarning: can't resolve package from __spec__ or __package__, falling back on __name__ and __path__\n",
      "  return f(*args, **kwds)\n",
      "/home/albert/miniconda3/envs/tectf/lib/python3.6/importlib/_bootstrap.py:219: ImportWarning: can't resolve package from __spec__ or __package__, falling back on __name__ and __path__\n",
      "  return f(*args, **kwds)\n",
      "/home/albert/miniconda3/envs/tectf/lib/python3.6/importlib/_bootstrap.py:219: ImportWarning: can't resolve package from __spec__ or __package__, falling back on __name__ and __path__\n",
      "  return f(*args, **kwds)\n",
      "/home/albert/miniconda3/envs/tectf/lib/python3.6/importlib/_bootstrap.py:219: ImportWarning: can't resolve package from __spec__ or __package__, falling back on __name__ and __path__\n",
      "  return f(*args, **kwds)\n",
      "/home/albert/miniconda3/envs/tectf/lib/python3.6/importlib/_bootstrap.py:219: ImportWarning: can't resolve package from __spec__ or __package__, falling back on __name__ and __path__\n",
      "  return f(*args, **kwds)\n",
      "/home/albert/miniconda3/envs/tectf/lib/python3.6/importlib/_bootstrap.py:219: ImportWarning: can't resolve package from __spec__ or __package__, falling back on __name__ and __path__\n",
      "  return f(*args, **kwds)\n",
      "/home/albert/miniconda3/envs/tectf/lib/python3.6/importlib/_bootstrap.py:219: ImportWarning: can't resolve package from __spec__ or __package__, falling back on __name__ and __path__\n",
      "  return f(*args, **kwds)\n"
     ]
    }
   ],
   "source": [
    "import gpflow as gp\n",
    "import tensorflow as tf\n",
    "import tensorflow_probability as tfp\n",
    "from bayes_tec.datapack import DataPack\n",
    "import numpy as np\n",
    "\n",
    "# from bayes_tec.kernels import ThinLayer\n",
    "\n",
    "\n",
    "def fit_dir_kern(datapack, num_samples=100, burn=50, kern=gp.kernels.RBF, ant_sel=None, time_sel=None,dir_sel=None, pol_sel=slice(0,1,1), freq_sel=None,tec_scale=0.01):\n",
    "    with DataPack(datapack,readonly=True) as datapack:\n",
    "        datapack.select(time=time_sel, ant=ant_sel,pol=pol_sel, dir=dir_sel,freq=freq_sel)\n",
    "        phase, axes = datapack.phase\n",
    "        amp, axes = datapack.amplitude\n",
    "        patch_names, directions = datapack.get_sources(axes['dir'])\n",
    "        antenna_labels, antennas = datapack.get_antennas(axes['ant'])\n",
    "        timestamps, times = datapack.get_times(axes['time'])\n",
    "        _,freqs = datapack.get_freqs(axes['freq'])\n",
    "\n",
    "    gains = amp*np.exp(1j*phase)\n",
    "    g_mu = gains.mean(-2)\n",
    "    phi = np.unwrap(np.angle(g_mu),axis=-1)\n",
    "    tec_conv = -8.448e9/freqs\n",
    "    dtec = phi[0,...]/np.mean(tec_conv)\n",
    "    \n",
    "    X = np.array([directions.ra.deg - directions.ra.deg.mean(), \n",
    "                  directions.dec.deg - directions.dec.deg.mean()]).T.astype(np.float64)\n",
    "    Nd,Na,Nt = dtec.shape\n",
    "    Y = dtec.reshape((Nd,-1))/tec_scale\n",
    "    \n",
    "    with tf.Session(graph=tf.Graph()) as sess:\n",
    "        with gp.defer_build():\n",
    "            kern = kern(2)\n",
    "            kern.lengthscales = np.array(1.).astype(np.float64)\n",
    "            kern.lengthscales.transform = gp.transforms.positiveRescale(1.)\n",
    "            kern.variance = 1.\n",
    "            kern.variance.transform = gp.transforms.positiveRescale(1.)\n",
    "            m = gp.models.GPR(X,Y,kern)\n",
    "            m.likelihood.variance = 0.003**2/tec_scale**2\n",
    "            m.likelihood.variance.trainable = False\n",
    "            m.compile()\n",
    "            gp.train.ScipyOptimizer().minimize(m)\n",
    "\n",
    "            with tf.variable_scope('custom'):\n",
    "                global_step = tf.Variable(0, trainable=False)\n",
    "                starter_learning_rate = 1e-2\n",
    "                end_learning_rate = 1e-5\n",
    "                decay_steps = 1e4\n",
    "                learning_rate = tf.train.polynomial_decay(starter_learning_rate,\n",
    "                                                    global_step, decay_steps,\n",
    "                                                    end_learning_rate, power=1.)\n",
    "\n",
    "                opt = tfp.optimizer.StochasticGradientLangevinDynamics(learning_rate).minimize(m.objective,\n",
    "                                                                                               var_list=m.trainable_tensors)\n",
    "            init = tf.variables_initializer(tf.global_variables('custom'))\n",
    "            out_t = [u.constrained_tensor for u in m.parameters]\n",
    "            sess.run(init)\n",
    "            p = []\n",
    "            for i in range(num_samples):\n",
    "                params, _ = sess.run([out_t, opt])\n",
    "                p.append(params)\n",
    "    p = np.array(p)\n",
    "    p[:,1] = np.sqrt(p[:,1])*tec_scale\n",
    "    p[:,2] = np.sqrt(p[:,2])*tec_scale\n",
    "    \n",
    "    return p[burn:,:]\n",
    "\n"
   ]
  },
  {
   "cell_type": "code",
   "execution_count": null,
   "metadata": {},
   "outputs": [
    {
     "name": "stderr",
     "output_type": "stream",
     "text": [
      "/home/albert/miniconda3/envs/tectf/lib/python3.6/importlib/_bootstrap.py:219: ImportWarning: can't resolve package from __spec__ or __package__, falling back on __name__ and __path__\n",
      "  return f(*args, **kwds)\n",
      "/home/albert/miniconda3/envs/tectf/lib/python3.6/importlib/_bootstrap.py:219: ImportWarning: can't resolve package from __spec__ or __package__, falling back on __name__ and __path__\n",
      "  return f(*args, **kwds)\n",
      "/home/albert/miniconda3/envs/tectf/lib/python3.6/importlib/_bootstrap.py:219: ImportWarning: can't resolve package from __spec__ or __package__, falling back on __name__ and __path__\n",
      "  return f(*args, **kwds)\n",
      "/home/albert/miniconda3/envs/tectf/lib/python3.6/importlib/_bootstrap.py:219: ImportWarning: can't resolve package from __spec__ or __package__, falling back on __name__ and __path__\n",
      "  return f(*args, **kwds)\n",
      "/home/albert/miniconda3/envs/tectf/lib/python3.6/importlib/_bootstrap.py:219: ImportWarning: can't resolve package from __spec__ or __package__, falling back on __name__ and __path__\n",
      "  return f(*args, **kwds)\n",
      "/home/albert/miniconda3/envs/tectf/lib/python3.6/site-packages/tables-3.4.4-py3.6-linux-x86_64.egg/tables/file.py:767: DeprecationWarning: The use of uppercase keyword parameters is deprecated\n",
      "  \"deprecated\", DeprecationWarning)\n",
      "/home/albert/miniconda3/envs/tectf/lib/python3.6/site-packages/tables-3.4.4-py3.6-linux-x86_64.egg/tables/file.py:767: DeprecationWarning: The use of uppercase keyword parameters is deprecated\n",
      "  \"deprecated\", DeprecationWarning)\n",
      "/home/albert/miniconda3/envs/tectf/lib/python3.6/site-packages/tables-3.4.4-py3.6-linux-x86_64.egg/tables/file.py:767: DeprecationWarning: The use of uppercase keyword parameters is deprecated\n",
      "  \"deprecated\", DeprecationWarning)\n",
      "/home/albert/miniconda3/envs/tectf/lib/python3.6/site-packages/tables-3.4.4-py3.6-linux-x86_64.egg/tables/file.py:767: DeprecationWarning: The use of uppercase keyword parameters is deprecated\n",
      "  \"deprecated\", DeprecationWarning)\n",
      "ERROR:root:Reference possible only for phase, scalarphase, clock, tec, tec3rd, and rotation solution tables. Ignore referencing.\n",
      "/home/albert/miniconda3/envs/tectf/lib/python3.6/site-packages/gpflow-1.3.0-py3.6.egg/gpflow/_settings.py:67: DeprecationWarning: tf_int is deprecated and will be removed at GPflow version 1.2.0. Use int_type.\n",
      "  'version 1.2.0. Use int_type.', DeprecationWarning)\n",
      "/home/albert/miniconda3/envs/tectf/lib/python3.6/site-packages/gpflow-1.3.0-py3.6.egg/gpflow/_settings.py:61: DeprecationWarning: tf_float is deprecated and will be removed at GPflow version 1.2.0. Use float_type.\n",
      "  'version 1.2.0. Use float_type.', DeprecationWarning)\n",
      "/home/albert/miniconda3/envs/tectf/lib/python3.6/site-packages/gpflow-1.3.0-py3.6.egg/gpflow/logdensities.py:91: DeprecationWarning: The 'warn' method is deprecated, use 'warning' instead\n",
      "  logger.warn('Shape of x must be 2D at computation.')\n",
      "WARNING:gpflow.logdensities:Shape of x must be 2D at computation.\n"
     ]
    },
    {
     "name": "stdout",
     "output_type": "stream",
     "text": [
      "INFO:tensorflow:Optimization terminated with:\n",
      "  Message: b'CONVERGENCE: REL_REDUCTION_OF_F_<=_FACTR*EPSMCH'\n",
      "  Objective function value: 16867.258967\n",
      "  Number of iterations: 12\n",
      "  Number of functions evaluations: 13\n"
     ]
    },
    {
     "name": "stderr",
     "output_type": "stream",
     "text": [
      "INFO:tensorflow:Optimization terminated with:\n",
      "  Message: b'CONVERGENCE: REL_REDUCTION_OF_F_<=_FACTR*EPSMCH'\n",
      "  Objective function value: 16867.258967\n",
      "  Number of iterations: 12\n",
      "  Number of functions evaluations: 13\n",
      "/home/albert/miniconda3/envs/tectf/lib/python3.6/site-packages/tables-3.4.4-py3.6-linux-x86_64.egg/tables/file.py:767: DeprecationWarning: The use of uppercase keyword parameters is deprecated\n",
      "  \"deprecated\", DeprecationWarning)\n",
      "/home/albert/miniconda3/envs/tectf/lib/python3.6/site-packages/tables-3.4.4-py3.6-linux-x86_64.egg/tables/file.py:767: DeprecationWarning: The use of uppercase keyword parameters is deprecated\n",
      "  \"deprecated\", DeprecationWarning)\n",
      "ERROR:root:Reference possible only for phase, scalarphase, clock, tec, tec3rd, and rotation solution tables. Ignore referencing.\n",
      "/home/albert/miniconda3/envs/tectf/lib/python3.6/site-packages/gpflow-1.3.0-py3.6.egg/gpflow/_settings.py:67: DeprecationWarning: tf_int is deprecated and will be removed at GPflow version 1.2.0. Use int_type.\n",
      "  'version 1.2.0. Use int_type.', DeprecationWarning)\n",
      "/home/albert/miniconda3/envs/tectf/lib/python3.6/site-packages/gpflow-1.3.0-py3.6.egg/gpflow/_settings.py:61: DeprecationWarning: tf_float is deprecated and will be removed at GPflow version 1.2.0. Use float_type.\n",
      "  'version 1.2.0. Use float_type.', DeprecationWarning)\n",
      "/home/albert/miniconda3/envs/tectf/lib/python3.6/site-packages/gpflow-1.3.0-py3.6.egg/gpflow/logdensities.py:91: DeprecationWarning: The 'warn' method is deprecated, use 'warning' instead\n",
      "  logger.warn('Shape of x must be 2D at computation.')\n",
      "WARNING:gpflow.logdensities:Shape of x must be 2D at computation.\n"
     ]
    },
    {
     "name": "stdout",
     "output_type": "stream",
     "text": [
      "INFO:tensorflow:Optimization terminated with:\n",
      "  Message: b'CONVERGENCE: REL_REDUCTION_OF_F_<=_FACTR*EPSMCH'\n",
      "  Objective function value: 18204.679076\n",
      "  Number of iterations: 14\n",
      "  Number of functions evaluations: 15\n"
     ]
    },
    {
     "name": "stderr",
     "output_type": "stream",
     "text": [
      "INFO:tensorflow:Optimization terminated with:\n",
      "  Message: b'CONVERGENCE: REL_REDUCTION_OF_F_<=_FACTR*EPSMCH'\n",
      "  Objective function value: 18204.679076\n",
      "  Number of iterations: 14\n",
      "  Number of functions evaluations: 15\n",
      "/home/albert/miniconda3/envs/tectf/lib/python3.6/site-packages/tables-3.4.4-py3.6-linux-x86_64.egg/tables/file.py:767: DeprecationWarning: The use of uppercase keyword parameters is deprecated\n",
      "  \"deprecated\", DeprecationWarning)\n",
      "/home/albert/miniconda3/envs/tectf/lib/python3.6/site-packages/tables-3.4.4-py3.6-linux-x86_64.egg/tables/file.py:767: DeprecationWarning: The use of uppercase keyword parameters is deprecated\n",
      "  \"deprecated\", DeprecationWarning)\n",
      "ERROR:root:Reference possible only for phase, scalarphase, clock, tec, tec3rd, and rotation solution tables. Ignore referencing.\n",
      "/home/albert/miniconda3/envs/tectf/lib/python3.6/site-packages/gpflow-1.3.0-py3.6.egg/gpflow/_settings.py:67: DeprecationWarning: tf_int is deprecated and will be removed at GPflow version 1.2.0. Use int_type.\n",
      "  'version 1.2.0. Use int_type.', DeprecationWarning)\n",
      "/home/albert/miniconda3/envs/tectf/lib/python3.6/site-packages/gpflow-1.3.0-py3.6.egg/gpflow/_settings.py:61: DeprecationWarning: tf_float is deprecated and will be removed at GPflow version 1.2.0. Use float_type.\n",
      "  'version 1.2.0. Use float_type.', DeprecationWarning)\n",
      "/home/albert/miniconda3/envs/tectf/lib/python3.6/site-packages/gpflow-1.3.0-py3.6.egg/gpflow/logdensities.py:91: DeprecationWarning: The 'warn' method is deprecated, use 'warning' instead\n",
      "  logger.warn('Shape of x must be 2D at computation.')\n",
      "WARNING:gpflow.logdensities:Shape of x must be 2D at computation.\n"
     ]
    },
    {
     "name": "stdout",
     "output_type": "stream",
     "text": [
      "INFO:tensorflow:Optimization terminated with:\n",
      "  Message: b'CONVERGENCE: REL_REDUCTION_OF_F_<=_FACTR*EPSMCH'\n",
      "  Objective function value: 18572.574499\n",
      "  Number of iterations: 16\n",
      "  Number of functions evaluations: 17\n"
     ]
    },
    {
     "name": "stderr",
     "output_type": "stream",
     "text": [
      "INFO:tensorflow:Optimization terminated with:\n",
      "  Message: b'CONVERGENCE: REL_REDUCTION_OF_F_<=_FACTR*EPSMCH'\n",
      "  Objective function value: 18572.574499\n",
      "  Number of iterations: 16\n",
      "  Number of functions evaluations: 17\n",
      "/home/albert/miniconda3/envs/tectf/lib/python3.6/site-packages/tables-3.4.4-py3.6-linux-x86_64.egg/tables/file.py:767: DeprecationWarning: The use of uppercase keyword parameters is deprecated\n",
      "  \"deprecated\", DeprecationWarning)\n",
      "/home/albert/miniconda3/envs/tectf/lib/python3.6/site-packages/tables-3.4.4-py3.6-linux-x86_64.egg/tables/file.py:767: DeprecationWarning: The use of uppercase keyword parameters is deprecated\n",
      "  \"deprecated\", DeprecationWarning)\n",
      "ERROR:root:Reference possible only for phase, scalarphase, clock, tec, tec3rd, and rotation solution tables. Ignore referencing.\n",
      "/home/albert/miniconda3/envs/tectf/lib/python3.6/site-packages/gpflow-1.3.0-py3.6.egg/gpflow/_settings.py:67: DeprecationWarning: tf_int is deprecated and will be removed at GPflow version 1.2.0. Use int_type.\n",
      "  'version 1.2.0. Use int_type.', DeprecationWarning)\n",
      "/home/albert/miniconda3/envs/tectf/lib/python3.6/site-packages/gpflow-1.3.0-py3.6.egg/gpflow/_settings.py:61: DeprecationWarning: tf_float is deprecated and will be removed at GPflow version 1.2.0. Use float_type.\n",
      "  'version 1.2.0. Use float_type.', DeprecationWarning)\n",
      "/home/albert/miniconda3/envs/tectf/lib/python3.6/site-packages/gpflow-1.3.0-py3.6.egg/gpflow/logdensities.py:91: DeprecationWarning: The 'warn' method is deprecated, use 'warning' instead\n",
      "  logger.warn('Shape of x must be 2D at computation.')\n",
      "WARNING:gpflow.logdensities:Shape of x must be 2D at computation.\n"
     ]
    },
    {
     "name": "stdout",
     "output_type": "stream",
     "text": [
      "INFO:tensorflow:Optimization terminated with:\n",
      "  Message: b'CONVERGENCE: NORM_OF_PROJECTED_GRADIENT_<=_PGTOL'\n",
      "  Objective function value: 18292.747777\n",
      "  Number of iterations: 18\n",
      "  Number of functions evaluations: 19\n"
     ]
    },
    {
     "name": "stderr",
     "output_type": "stream",
     "text": [
      "INFO:tensorflow:Optimization terminated with:\n",
      "  Message: b'CONVERGENCE: NORM_OF_PROJECTED_GRADIENT_<=_PGTOL'\n",
      "  Objective function value: 18292.747777\n",
      "  Number of iterations: 18\n",
      "  Number of functions evaluations: 19\n",
      "/home/albert/miniconda3/envs/tectf/lib/python3.6/site-packages/tables-3.4.4-py3.6-linux-x86_64.egg/tables/file.py:767: DeprecationWarning: The use of uppercase keyword parameters is deprecated\n",
      "  \"deprecated\", DeprecationWarning)\n",
      "/home/albert/miniconda3/envs/tectf/lib/python3.6/site-packages/tables-3.4.4-py3.6-linux-x86_64.egg/tables/file.py:767: DeprecationWarning: The use of uppercase keyword parameters is deprecated\n",
      "  \"deprecated\", DeprecationWarning)\n",
      "ERROR:root:Reference possible only for phase, scalarphase, clock, tec, tec3rd, and rotation solution tables. Ignore referencing.\n",
      "/home/albert/miniconda3/envs/tectf/lib/python3.6/site-packages/gpflow-1.3.0-py3.6.egg/gpflow/_settings.py:67: DeprecationWarning: tf_int is deprecated and will be removed at GPflow version 1.2.0. Use int_type.\n",
      "  'version 1.2.0. Use int_type.', DeprecationWarning)\n",
      "/home/albert/miniconda3/envs/tectf/lib/python3.6/site-packages/gpflow-1.3.0-py3.6.egg/gpflow/_settings.py:61: DeprecationWarning: tf_float is deprecated and will be removed at GPflow version 1.2.0. Use float_type.\n",
      "  'version 1.2.0. Use float_type.', DeprecationWarning)\n",
      "/home/albert/miniconda3/envs/tectf/lib/python3.6/site-packages/gpflow-1.3.0-py3.6.egg/gpflow/logdensities.py:91: DeprecationWarning: The 'warn' method is deprecated, use 'warning' instead\n",
      "  logger.warn('Shape of x must be 2D at computation.')\n",
      "WARNING:gpflow.logdensities:Shape of x must be 2D at computation.\n"
     ]
    },
    {
     "name": "stdout",
     "output_type": "stream",
     "text": [
      "INFO:tensorflow:Optimization terminated with:\n",
      "  Message: b'CONVERGENCE: REL_REDUCTION_OF_F_<=_FACTR*EPSMCH'\n",
      "  Objective function value: 21081.042342\n",
      "  Number of iterations: 19\n",
      "  Number of functions evaluations: 21\n"
     ]
    },
    {
     "name": "stderr",
     "output_type": "stream",
     "text": [
      "INFO:tensorflow:Optimization terminated with:\n",
      "  Message: b'CONVERGENCE: REL_REDUCTION_OF_F_<=_FACTR*EPSMCH'\n",
      "  Objective function value: 21081.042342\n",
      "  Number of iterations: 19\n",
      "  Number of functions evaluations: 21\n",
      "/home/albert/miniconda3/envs/tectf/lib/python3.6/site-packages/tables-3.4.4-py3.6-linux-x86_64.egg/tables/file.py:767: DeprecationWarning: The use of uppercase keyword parameters is deprecated\n",
      "  \"deprecated\", DeprecationWarning)\n",
      "/home/albert/miniconda3/envs/tectf/lib/python3.6/site-packages/tables-3.4.4-py3.6-linux-x86_64.egg/tables/file.py:767: DeprecationWarning: The use of uppercase keyword parameters is deprecated\n",
      "  \"deprecated\", DeprecationWarning)\n",
      "ERROR:root:Reference possible only for phase, scalarphase, clock, tec, tec3rd, and rotation solution tables. Ignore referencing.\n",
      "/home/albert/miniconda3/envs/tectf/lib/python3.6/site-packages/gpflow-1.3.0-py3.6.egg/gpflow/_settings.py:67: DeprecationWarning: tf_int is deprecated and will be removed at GPflow version 1.2.0. Use int_type.\n",
      "  'version 1.2.0. Use int_type.', DeprecationWarning)\n",
      "/home/albert/miniconda3/envs/tectf/lib/python3.6/site-packages/gpflow-1.3.0-py3.6.egg/gpflow/_settings.py:61: DeprecationWarning: tf_float is deprecated and will be removed at GPflow version 1.2.0. Use float_type.\n",
      "  'version 1.2.0. Use float_type.', DeprecationWarning)\n",
      "/home/albert/miniconda3/envs/tectf/lib/python3.6/site-packages/gpflow-1.3.0-py3.6.egg/gpflow/logdensities.py:91: DeprecationWarning: The 'warn' method is deprecated, use 'warning' instead\n",
      "  logger.warn('Shape of x must be 2D at computation.')\n",
      "WARNING:gpflow.logdensities:Shape of x must be 2D at computation.\n"
     ]
    },
    {
     "name": "stdout",
     "output_type": "stream",
     "text": [
      "INFO:tensorflow:Optimization terminated with:\n",
      "  Message: b'CONVERGENCE: REL_REDUCTION_OF_F_<=_FACTR*EPSMCH'\n",
      "  Objective function value: 19590.138262\n",
      "  Number of iterations: 15\n",
      "  Number of functions evaluations: 16\n"
     ]
    },
    {
     "name": "stderr",
     "output_type": "stream",
     "text": [
      "INFO:tensorflow:Optimization terminated with:\n",
      "  Message: b'CONVERGENCE: REL_REDUCTION_OF_F_<=_FACTR*EPSMCH'\n",
      "  Objective function value: 19590.138262\n",
      "  Number of iterations: 15\n",
      "  Number of functions evaluations: 16\n",
      "/home/albert/miniconda3/envs/tectf/lib/python3.6/site-packages/tables-3.4.4-py3.6-linux-x86_64.egg/tables/file.py:767: DeprecationWarning: The use of uppercase keyword parameters is deprecated\n",
      "  \"deprecated\", DeprecationWarning)\n",
      "/home/albert/miniconda3/envs/tectf/lib/python3.6/site-packages/tables-3.4.4-py3.6-linux-x86_64.egg/tables/file.py:767: DeprecationWarning: The use of uppercase keyword parameters is deprecated\n",
      "  \"deprecated\", DeprecationWarning)\n",
      "ERROR:root:Reference possible only for phase, scalarphase, clock, tec, tec3rd, and rotation solution tables. Ignore referencing.\n",
      "/home/albert/miniconda3/envs/tectf/lib/python3.6/site-packages/gpflow-1.3.0-py3.6.egg/gpflow/_settings.py:67: DeprecationWarning: tf_int is deprecated and will be removed at GPflow version 1.2.0. Use int_type.\n",
      "  'version 1.2.0. Use int_type.', DeprecationWarning)\n",
      "/home/albert/miniconda3/envs/tectf/lib/python3.6/site-packages/gpflow-1.3.0-py3.6.egg/gpflow/_settings.py:61: DeprecationWarning: tf_float is deprecated and will be removed at GPflow version 1.2.0. Use float_type.\n",
      "  'version 1.2.0. Use float_type.', DeprecationWarning)\n",
      "/home/albert/miniconda3/envs/tectf/lib/python3.6/site-packages/gpflow-1.3.0-py3.6.egg/gpflow/logdensities.py:91: DeprecationWarning: The 'warn' method is deprecated, use 'warning' instead\n",
      "  logger.warn('Shape of x must be 2D at computation.')\n",
      "WARNING:gpflow.logdensities:Shape of x must be 2D at computation.\n"
     ]
    },
    {
     "name": "stdout",
     "output_type": "stream",
     "text": [
      "INFO:tensorflow:Optimization terminated with:\n",
      "  Message: b'CONVERGENCE: REL_REDUCTION_OF_F_<=_FACTR*EPSMCH'\n",
      "  Objective function value: 19339.959683\n",
      "  Number of iterations: 16\n",
      "  Number of functions evaluations: 18\n"
     ]
    },
    {
     "name": "stderr",
     "output_type": "stream",
     "text": [
      "INFO:tensorflow:Optimization terminated with:\n",
      "  Message: b'CONVERGENCE: REL_REDUCTION_OF_F_<=_FACTR*EPSMCH'\n",
      "  Objective function value: 19339.959683\n",
      "  Number of iterations: 16\n",
      "  Number of functions evaluations: 18\n",
      "/home/albert/miniconda3/envs/tectf/lib/python3.6/site-packages/tables-3.4.4-py3.6-linux-x86_64.egg/tables/file.py:767: DeprecationWarning: The use of uppercase keyword parameters is deprecated\n",
      "  \"deprecated\", DeprecationWarning)\n",
      "/home/albert/miniconda3/envs/tectf/lib/python3.6/site-packages/tables-3.4.4-py3.6-linux-x86_64.egg/tables/file.py:767: DeprecationWarning: The use of uppercase keyword parameters is deprecated\n",
      "  \"deprecated\", DeprecationWarning)\n",
      "ERROR:root:Reference possible only for phase, scalarphase, clock, tec, tec3rd, and rotation solution tables. Ignore referencing.\n",
      "/home/albert/miniconda3/envs/tectf/lib/python3.6/site-packages/gpflow-1.3.0-py3.6.egg/gpflow/_settings.py:67: DeprecationWarning: tf_int is deprecated and will be removed at GPflow version 1.2.0. Use int_type.\n",
      "  'version 1.2.0. Use int_type.', DeprecationWarning)\n",
      "/home/albert/miniconda3/envs/tectf/lib/python3.6/site-packages/gpflow-1.3.0-py3.6.egg/gpflow/_settings.py:61: DeprecationWarning: tf_float is deprecated and will be removed at GPflow version 1.2.0. Use float_type.\n",
      "  'version 1.2.0. Use float_type.', DeprecationWarning)\n",
      "/home/albert/miniconda3/envs/tectf/lib/python3.6/site-packages/gpflow-1.3.0-py3.6.egg/gpflow/logdensities.py:91: DeprecationWarning: The 'warn' method is deprecated, use 'warning' instead\n",
      "  logger.warn('Shape of x must be 2D at computation.')\n",
      "WARNING:gpflow.logdensities:Shape of x must be 2D at computation.\n"
     ]
    },
    {
     "name": "stdout",
     "output_type": "stream",
     "text": [
      "INFO:tensorflow:Optimization terminated with:\n",
      "  Message: b'CONVERGENCE: NORM_OF_PROJECTED_GRADIENT_<=_PGTOL'\n",
      "  Objective function value: 19511.685630\n",
      "  Number of iterations: 17\n",
      "  Number of functions evaluations: 19\n"
     ]
    },
    {
     "name": "stderr",
     "output_type": "stream",
     "text": [
      "INFO:tensorflow:Optimization terminated with:\n",
      "  Message: b'CONVERGENCE: NORM_OF_PROJECTED_GRADIENT_<=_PGTOL'\n",
      "  Objective function value: 19511.685630\n",
      "  Number of iterations: 17\n",
      "  Number of functions evaluations: 19\n",
      "/home/albert/miniconda3/envs/tectf/lib/python3.6/site-packages/tables-3.4.4-py3.6-linux-x86_64.egg/tables/file.py:767: DeprecationWarning: The use of uppercase keyword parameters is deprecated\n",
      "  \"deprecated\", DeprecationWarning)\n",
      "/home/albert/miniconda3/envs/tectf/lib/python3.6/site-packages/tables-3.4.4-py3.6-linux-x86_64.egg/tables/file.py:767: DeprecationWarning: The use of uppercase keyword parameters is deprecated\n",
      "  \"deprecated\", DeprecationWarning)\n",
      "ERROR:root:Reference possible only for phase, scalarphase, clock, tec, tec3rd, and rotation solution tables. Ignore referencing.\n",
      "/home/albert/miniconda3/envs/tectf/lib/python3.6/site-packages/gpflow-1.3.0-py3.6.egg/gpflow/_settings.py:67: DeprecationWarning: tf_int is deprecated and will be removed at GPflow version 1.2.0. Use int_type.\n",
      "  'version 1.2.0. Use int_type.', DeprecationWarning)\n",
      "/home/albert/miniconda3/envs/tectf/lib/python3.6/site-packages/gpflow-1.3.0-py3.6.egg/gpflow/_settings.py:61: DeprecationWarning: tf_float is deprecated and will be removed at GPflow version 1.2.0. Use float_type.\n",
      "  'version 1.2.0. Use float_type.', DeprecationWarning)\n",
      "/home/albert/miniconda3/envs/tectf/lib/python3.6/site-packages/gpflow-1.3.0-py3.6.egg/gpflow/logdensities.py:91: DeprecationWarning: The 'warn' method is deprecated, use 'warning' instead\n",
      "  logger.warn('Shape of x must be 2D at computation.')\n",
      "WARNING:gpflow.logdensities:Shape of x must be 2D at computation.\n"
     ]
    },
    {
     "name": "stdout",
     "output_type": "stream",
     "text": [
      "INFO:tensorflow:Optimization terminated with:\n",
      "  Message: b'CONVERGENCE: REL_REDUCTION_OF_F_<=_FACTR*EPSMCH'\n",
      "  Objective function value: 19285.496737\n",
      "  Number of iterations: 17\n",
      "  Number of functions evaluations: 19\n"
     ]
    },
    {
     "name": "stderr",
     "output_type": "stream",
     "text": [
      "INFO:tensorflow:Optimization terminated with:\n",
      "  Message: b'CONVERGENCE: REL_REDUCTION_OF_F_<=_FACTR*EPSMCH'\n",
      "  Objective function value: 19285.496737\n",
      "  Number of iterations: 17\n",
      "  Number of functions evaluations: 19\n",
      "/home/albert/miniconda3/envs/tectf/lib/python3.6/site-packages/tables-3.4.4-py3.6-linux-x86_64.egg/tables/file.py:767: DeprecationWarning: The use of uppercase keyword parameters is deprecated\n",
      "  \"deprecated\", DeprecationWarning)\n",
      "/home/albert/miniconda3/envs/tectf/lib/python3.6/site-packages/tables-3.4.4-py3.6-linux-x86_64.egg/tables/file.py:767: DeprecationWarning: The use of uppercase keyword parameters is deprecated\n",
      "  \"deprecated\", DeprecationWarning)\n",
      "ERROR:root:Reference possible only for phase, scalarphase, clock, tec, tec3rd, and rotation solution tables. Ignore referencing.\n",
      "/home/albert/miniconda3/envs/tectf/lib/python3.6/site-packages/gpflow-1.3.0-py3.6.egg/gpflow/_settings.py:67: DeprecationWarning: tf_int is deprecated and will be removed at GPflow version 1.2.0. Use int_type.\n",
      "  'version 1.2.0. Use int_type.', DeprecationWarning)\n",
      "/home/albert/miniconda3/envs/tectf/lib/python3.6/site-packages/gpflow-1.3.0-py3.6.egg/gpflow/_settings.py:61: DeprecationWarning: tf_float is deprecated and will be removed at GPflow version 1.2.0. Use float_type.\n",
      "  'version 1.2.0. Use float_type.', DeprecationWarning)\n",
      "/home/albert/miniconda3/envs/tectf/lib/python3.6/site-packages/gpflow-1.3.0-py3.6.egg/gpflow/logdensities.py:91: DeprecationWarning: The 'warn' method is deprecated, use 'warning' instead\n",
      "  logger.warn('Shape of x must be 2D at computation.')\n",
      "WARNING:gpflow.logdensities:Shape of x must be 2D at computation.\n"
     ]
    },
    {
     "name": "stdout",
     "output_type": "stream",
     "text": [
      "INFO:tensorflow:Optimization terminated with:\n",
      "  Message: b'CONVERGENCE: REL_REDUCTION_OF_F_<=_FACTR*EPSMCH'\n",
      "  Objective function value: 21801.697669\n",
      "  Number of iterations: 18\n",
      "  Number of functions evaluations: 20\n"
     ]
    },
    {
     "name": "stderr",
     "output_type": "stream",
     "text": [
      "INFO:tensorflow:Optimization terminated with:\n",
      "  Message: b'CONVERGENCE: REL_REDUCTION_OF_F_<=_FACTR*EPSMCH'\n",
      "  Objective function value: 21801.697669\n",
      "  Number of iterations: 18\n",
      "  Number of functions evaluations: 20\n",
      "/home/albert/miniconda3/envs/tectf/lib/python3.6/site-packages/tables-3.4.4-py3.6-linux-x86_64.egg/tables/file.py:767: DeprecationWarning: The use of uppercase keyword parameters is deprecated\n",
      "  \"deprecated\", DeprecationWarning)\n",
      "/home/albert/miniconda3/envs/tectf/lib/python3.6/site-packages/tables-3.4.4-py3.6-linux-x86_64.egg/tables/file.py:767: DeprecationWarning: The use of uppercase keyword parameters is deprecated\n",
      "  \"deprecated\", DeprecationWarning)\n",
      "ERROR:root:Reference possible only for phase, scalarphase, clock, tec, tec3rd, and rotation solution tables. Ignore referencing.\n",
      "/home/albert/miniconda3/envs/tectf/lib/python3.6/site-packages/gpflow-1.3.0-py3.6.egg/gpflow/_settings.py:67: DeprecationWarning: tf_int is deprecated and will be removed at GPflow version 1.2.0. Use int_type.\n",
      "  'version 1.2.0. Use int_type.', DeprecationWarning)\n",
      "/home/albert/miniconda3/envs/tectf/lib/python3.6/site-packages/gpflow-1.3.0-py3.6.egg/gpflow/_settings.py:61: DeprecationWarning: tf_float is deprecated and will be removed at GPflow version 1.2.0. Use float_type.\n",
      "  'version 1.2.0. Use float_type.', DeprecationWarning)\n",
      "/home/albert/miniconda3/envs/tectf/lib/python3.6/site-packages/gpflow-1.3.0-py3.6.egg/gpflow/logdensities.py:91: DeprecationWarning: The 'warn' method is deprecated, use 'warning' instead\n",
      "  logger.warn('Shape of x must be 2D at computation.')\n",
      "WARNING:gpflow.logdensities:Shape of x must be 2D at computation.\n"
     ]
    },
    {
     "name": "stdout",
     "output_type": "stream",
     "text": [
      "INFO:tensorflow:Optimization terminated with:\n",
      "  Message: b'CONVERGENCE: REL_REDUCTION_OF_F_<=_FACTR*EPSMCH'\n",
      "  Objective function value: 22614.190980\n",
      "  Number of iterations: 18\n",
      "  Number of functions evaluations: 19\n"
     ]
    },
    {
     "name": "stderr",
     "output_type": "stream",
     "text": [
      "INFO:tensorflow:Optimization terminated with:\n",
      "  Message: b'CONVERGENCE: REL_REDUCTION_OF_F_<=_FACTR*EPSMCH'\n",
      "  Objective function value: 22614.190980\n",
      "  Number of iterations: 18\n",
      "  Number of functions evaluations: 19\n",
      "/home/albert/miniconda3/envs/tectf/lib/python3.6/site-packages/tables-3.4.4-py3.6-linux-x86_64.egg/tables/file.py:767: DeprecationWarning: The use of uppercase keyword parameters is deprecated\n",
      "  \"deprecated\", DeprecationWarning)\n",
      "/home/albert/miniconda3/envs/tectf/lib/python3.6/site-packages/tables-3.4.4-py3.6-linux-x86_64.egg/tables/file.py:767: DeprecationWarning: The use of uppercase keyword parameters is deprecated\n",
      "  \"deprecated\", DeprecationWarning)\n",
      "ERROR:root:Reference possible only for phase, scalarphase, clock, tec, tec3rd, and rotation solution tables. Ignore referencing.\n",
      "/home/albert/miniconda3/envs/tectf/lib/python3.6/site-packages/gpflow-1.3.0-py3.6.egg/gpflow/_settings.py:67: DeprecationWarning: tf_int is deprecated and will be removed at GPflow version 1.2.0. Use int_type.\n",
      "  'version 1.2.0. Use int_type.', DeprecationWarning)\n",
      "/home/albert/miniconda3/envs/tectf/lib/python3.6/site-packages/gpflow-1.3.0-py3.6.egg/gpflow/_settings.py:61: DeprecationWarning: tf_float is deprecated and will be removed at GPflow version 1.2.0. Use float_type.\n",
      "  'version 1.2.0. Use float_type.', DeprecationWarning)\n",
      "/home/albert/miniconda3/envs/tectf/lib/python3.6/site-packages/gpflow-1.3.0-py3.6.egg/gpflow/logdensities.py:91: DeprecationWarning: The 'warn' method is deprecated, use 'warning' instead\n",
      "  logger.warn('Shape of x must be 2D at computation.')\n",
      "WARNING:gpflow.logdensities:Shape of x must be 2D at computation.\n"
     ]
    },
    {
     "name": "stdout",
     "output_type": "stream",
     "text": [
      "INFO:tensorflow:Optimization terminated with:\n",
      "  Message: b'CONVERGENCE: REL_REDUCTION_OF_F_<=_FACTR*EPSMCH'\n",
      "  Objective function value: 21797.200177\n",
      "  Number of iterations: 18\n",
      "  Number of functions evaluations: 20\n"
     ]
    },
    {
     "name": "stderr",
     "output_type": "stream",
     "text": [
      "INFO:tensorflow:Optimization terminated with:\n",
      "  Message: b'CONVERGENCE: REL_REDUCTION_OF_F_<=_FACTR*EPSMCH'\n",
      "  Objective function value: 21797.200177\n",
      "  Number of iterations: 18\n",
      "  Number of functions evaluations: 20\n",
      "/home/albert/miniconda3/envs/tectf/lib/python3.6/site-packages/tables-3.4.4-py3.6-linux-x86_64.egg/tables/file.py:767: DeprecationWarning: The use of uppercase keyword parameters is deprecated\n",
      "  \"deprecated\", DeprecationWarning)\n",
      "/home/albert/miniconda3/envs/tectf/lib/python3.6/site-packages/tables-3.4.4-py3.6-linux-x86_64.egg/tables/file.py:767: DeprecationWarning: The use of uppercase keyword parameters is deprecated\n",
      "  \"deprecated\", DeprecationWarning)\n",
      "ERROR:root:Reference possible only for phase, scalarphase, clock, tec, tec3rd, and rotation solution tables. Ignore referencing.\n",
      "/home/albert/miniconda3/envs/tectf/lib/python3.6/site-packages/gpflow-1.3.0-py3.6.egg/gpflow/_settings.py:67: DeprecationWarning: tf_int is deprecated and will be removed at GPflow version 1.2.0. Use int_type.\n",
      "  'version 1.2.0. Use int_type.', DeprecationWarning)\n",
      "/home/albert/miniconda3/envs/tectf/lib/python3.6/site-packages/gpflow-1.3.0-py3.6.egg/gpflow/_settings.py:61: DeprecationWarning: tf_float is deprecated and will be removed at GPflow version 1.2.0. Use float_type.\n",
      "  'version 1.2.0. Use float_type.', DeprecationWarning)\n",
      "/home/albert/miniconda3/envs/tectf/lib/python3.6/site-packages/gpflow-1.3.0-py3.6.egg/gpflow/logdensities.py:91: DeprecationWarning: The 'warn' method is deprecated, use 'warning' instead\n",
      "  logger.warn('Shape of x must be 2D at computation.')\n",
      "WARNING:gpflow.logdensities:Shape of x must be 2D at computation.\n"
     ]
    },
    {
     "name": "stdout",
     "output_type": "stream",
     "text": [
      "INFO:tensorflow:Optimization terminated with:\n",
      "  Message: b'CONVERGENCE: REL_REDUCTION_OF_F_<=_FACTR*EPSMCH'\n",
      "  Objective function value: 15300.387198\n",
      "  Number of iterations: 13\n",
      "  Number of functions evaluations: 14\n"
     ]
    },
    {
     "name": "stderr",
     "output_type": "stream",
     "text": [
      "INFO:tensorflow:Optimization terminated with:\n",
      "  Message: b'CONVERGENCE: REL_REDUCTION_OF_F_<=_FACTR*EPSMCH'\n",
      "  Objective function value: 15300.387198\n",
      "  Number of iterations: 13\n",
      "  Number of functions evaluations: 14\n",
      "/home/albert/miniconda3/envs/tectf/lib/python3.6/site-packages/tables-3.4.4-py3.6-linux-x86_64.egg/tables/file.py:767: DeprecationWarning: The use of uppercase keyword parameters is deprecated\n",
      "  \"deprecated\", DeprecationWarning)\n",
      "/home/albert/miniconda3/envs/tectf/lib/python3.6/site-packages/tables-3.4.4-py3.6-linux-x86_64.egg/tables/file.py:767: DeprecationWarning: The use of uppercase keyword parameters is deprecated\n",
      "  \"deprecated\", DeprecationWarning)\n",
      "ERROR:root:Reference possible only for phase, scalarphase, clock, tec, tec3rd, and rotation solution tables. Ignore referencing.\n",
      "/home/albert/miniconda3/envs/tectf/lib/python3.6/site-packages/gpflow-1.3.0-py3.6.egg/gpflow/_settings.py:67: DeprecationWarning: tf_int is deprecated and will be removed at GPflow version 1.2.0. Use int_type.\n",
      "  'version 1.2.0. Use int_type.', DeprecationWarning)\n",
      "/home/albert/miniconda3/envs/tectf/lib/python3.6/site-packages/gpflow-1.3.0-py3.6.egg/gpflow/_settings.py:61: DeprecationWarning: tf_float is deprecated and will be removed at GPflow version 1.2.0. Use float_type.\n",
      "  'version 1.2.0. Use float_type.', DeprecationWarning)\n",
      "/home/albert/miniconda3/envs/tectf/lib/python3.6/site-packages/gpflow-1.3.0-py3.6.egg/gpflow/logdensities.py:91: DeprecationWarning: The 'warn' method is deprecated, use 'warning' instead\n",
      "  logger.warn('Shape of x must be 2D at computation.')\n",
      "WARNING:gpflow.logdensities:Shape of x must be 2D at computation.\n"
     ]
    },
    {
     "name": "stdout",
     "output_type": "stream",
     "text": [
      "INFO:tensorflow:Optimization terminated with:\n",
      "  Message: b'CONVERGENCE: REL_REDUCTION_OF_F_<=_FACTR*EPSMCH'\n",
      "  Objective function value: 16115.361892\n",
      "  Number of iterations: 12\n",
      "  Number of functions evaluations: 13\n"
     ]
    },
    {
     "name": "stderr",
     "output_type": "stream",
     "text": [
      "INFO:tensorflow:Optimization terminated with:\n",
      "  Message: b'CONVERGENCE: REL_REDUCTION_OF_F_<=_FACTR*EPSMCH'\n",
      "  Objective function value: 16115.361892\n",
      "  Number of iterations: 12\n",
      "  Number of functions evaluations: 13\n",
      "/home/albert/miniconda3/envs/tectf/lib/python3.6/site-packages/tables-3.4.4-py3.6-linux-x86_64.egg/tables/file.py:767: DeprecationWarning: The use of uppercase keyword parameters is deprecated\n",
      "  \"deprecated\", DeprecationWarning)\n",
      "/home/albert/miniconda3/envs/tectf/lib/python3.6/site-packages/tables-3.4.4-py3.6-linux-x86_64.egg/tables/file.py:767: DeprecationWarning: The use of uppercase keyword parameters is deprecated\n",
      "  \"deprecated\", DeprecationWarning)\n",
      "ERROR:root:Reference possible only for phase, scalarphase, clock, tec, tec3rd, and rotation solution tables. Ignore referencing.\n",
      "/home/albert/miniconda3/envs/tectf/lib/python3.6/site-packages/gpflow-1.3.0-py3.6.egg/gpflow/_settings.py:67: DeprecationWarning: tf_int is deprecated and will be removed at GPflow version 1.2.0. Use int_type.\n",
      "  'version 1.2.0. Use int_type.', DeprecationWarning)\n",
      "/home/albert/miniconda3/envs/tectf/lib/python3.6/site-packages/gpflow-1.3.0-py3.6.egg/gpflow/_settings.py:61: DeprecationWarning: tf_float is deprecated and will be removed at GPflow version 1.2.0. Use float_type.\n",
      "  'version 1.2.0. Use float_type.', DeprecationWarning)\n",
      "/home/albert/miniconda3/envs/tectf/lib/python3.6/site-packages/gpflow-1.3.0-py3.6.egg/gpflow/logdensities.py:91: DeprecationWarning: The 'warn' method is deprecated, use 'warning' instead\n",
      "  logger.warn('Shape of x must be 2D at computation.')\n",
      "WARNING:gpflow.logdensities:Shape of x must be 2D at computation.\n"
     ]
    },
    {
     "name": "stdout",
     "output_type": "stream",
     "text": [
      "INFO:tensorflow:Optimization terminated with:\n",
      "  Message: b'CONVERGENCE: REL_REDUCTION_OF_F_<=_FACTR*EPSMCH'\n",
      "  Objective function value: 19477.077802\n",
      "  Number of iterations: 15\n",
      "  Number of functions evaluations: 17\n"
     ]
    },
    {
     "name": "stderr",
     "output_type": "stream",
     "text": [
      "INFO:tensorflow:Optimization terminated with:\n",
      "  Message: b'CONVERGENCE: REL_REDUCTION_OF_F_<=_FACTR*EPSMCH'\n",
      "  Objective function value: 19477.077802\n",
      "  Number of iterations: 15\n",
      "  Number of functions evaluations: 17\n",
      "/home/albert/miniconda3/envs/tectf/lib/python3.6/site-packages/tables-3.4.4-py3.6-linux-x86_64.egg/tables/file.py:767: DeprecationWarning: The use of uppercase keyword parameters is deprecated\n",
      "  \"deprecated\", DeprecationWarning)\n",
      "/home/albert/miniconda3/envs/tectf/lib/python3.6/site-packages/tables-3.4.4-py3.6-linux-x86_64.egg/tables/file.py:767: DeprecationWarning: The use of uppercase keyword parameters is deprecated\n",
      "  \"deprecated\", DeprecationWarning)\n",
      "ERROR:root:Reference possible only for phase, scalarphase, clock, tec, tec3rd, and rotation solution tables. Ignore referencing.\n",
      "/home/albert/miniconda3/envs/tectf/lib/python3.6/site-packages/gpflow-1.3.0-py3.6.egg/gpflow/_settings.py:67: DeprecationWarning: tf_int is deprecated and will be removed at GPflow version 1.2.0. Use int_type.\n",
      "  'version 1.2.0. Use int_type.', DeprecationWarning)\n",
      "/home/albert/miniconda3/envs/tectf/lib/python3.6/site-packages/gpflow-1.3.0-py3.6.egg/gpflow/_settings.py:61: DeprecationWarning: tf_float is deprecated and will be removed at GPflow version 1.2.0. Use float_type.\n",
      "  'version 1.2.0. Use float_type.', DeprecationWarning)\n",
      "/home/albert/miniconda3/envs/tectf/lib/python3.6/site-packages/gpflow-1.3.0-py3.6.egg/gpflow/logdensities.py:91: DeprecationWarning: The 'warn' method is deprecated, use 'warning' instead\n",
      "  logger.warn('Shape of x must be 2D at computation.')\n",
      "WARNING:gpflow.logdensities:Shape of x must be 2D at computation.\n"
     ]
    },
    {
     "name": "stdout",
     "output_type": "stream",
     "text": [
      "INFO:tensorflow:Optimization terminated with:\n",
      "  Message: b'CONVERGENCE: REL_REDUCTION_OF_F_<=_FACTR*EPSMCH'\n",
      "  Objective function value: 13995.720087\n",
      "  Number of iterations: 10\n",
      "  Number of functions evaluations: 11\n"
     ]
    },
    {
     "name": "stderr",
     "output_type": "stream",
     "text": [
      "INFO:tensorflow:Optimization terminated with:\n",
      "  Message: b'CONVERGENCE: REL_REDUCTION_OF_F_<=_FACTR*EPSMCH'\n",
      "  Objective function value: 13995.720087\n",
      "  Number of iterations: 10\n",
      "  Number of functions evaluations: 11\n",
      "/home/albert/miniconda3/envs/tectf/lib/python3.6/site-packages/tables-3.4.4-py3.6-linux-x86_64.egg/tables/file.py:767: DeprecationWarning: The use of uppercase keyword parameters is deprecated\n",
      "  \"deprecated\", DeprecationWarning)\n",
      "/home/albert/miniconda3/envs/tectf/lib/python3.6/site-packages/tables-3.4.4-py3.6-linux-x86_64.egg/tables/file.py:767: DeprecationWarning: The use of uppercase keyword parameters is deprecated\n",
      "  \"deprecated\", DeprecationWarning)\n",
      "ERROR:root:Reference possible only for phase, scalarphase, clock, tec, tec3rd, and rotation solution tables. Ignore referencing.\n",
      "/home/albert/miniconda3/envs/tectf/lib/python3.6/site-packages/gpflow-1.3.0-py3.6.egg/gpflow/_settings.py:67: DeprecationWarning: tf_int is deprecated and will be removed at GPflow version 1.2.0. Use int_type.\n",
      "  'version 1.2.0. Use int_type.', DeprecationWarning)\n",
      "/home/albert/miniconda3/envs/tectf/lib/python3.6/site-packages/gpflow-1.3.0-py3.6.egg/gpflow/_settings.py:61: DeprecationWarning: tf_float is deprecated and will be removed at GPflow version 1.2.0. Use float_type.\n",
      "  'version 1.2.0. Use float_type.', DeprecationWarning)\n",
      "/home/albert/miniconda3/envs/tectf/lib/python3.6/site-packages/gpflow-1.3.0-py3.6.egg/gpflow/logdensities.py:91: DeprecationWarning: The 'warn' method is deprecated, use 'warning' instead\n",
      "  logger.warn('Shape of x must be 2D at computation.')\n",
      "WARNING:gpflow.logdensities:Shape of x must be 2D at computation.\n"
     ]
    },
    {
     "name": "stdout",
     "output_type": "stream",
     "text": [
      "INFO:tensorflow:Optimization terminated with:\n",
      "  Message: b'CONVERGENCE: REL_REDUCTION_OF_F_<=_FACTR*EPSMCH'\n",
      "  Objective function value: 13625.405953\n",
      "  Number of iterations: 11\n",
      "  Number of functions evaluations: 12\n"
     ]
    },
    {
     "name": "stderr",
     "output_type": "stream",
     "text": [
      "INFO:tensorflow:Optimization terminated with:\n",
      "  Message: b'CONVERGENCE: REL_REDUCTION_OF_F_<=_FACTR*EPSMCH'\n",
      "  Objective function value: 13625.405953\n",
      "  Number of iterations: 11\n",
      "  Number of functions evaluations: 12\n",
      "/home/albert/miniconda3/envs/tectf/lib/python3.6/site-packages/tables-3.4.4-py3.6-linux-x86_64.egg/tables/file.py:767: DeprecationWarning: The use of uppercase keyword parameters is deprecated\n",
      "  \"deprecated\", DeprecationWarning)\n",
      "/home/albert/miniconda3/envs/tectf/lib/python3.6/site-packages/tables-3.4.4-py3.6-linux-x86_64.egg/tables/file.py:767: DeprecationWarning: The use of uppercase keyword parameters is deprecated\n",
      "  \"deprecated\", DeprecationWarning)\n",
      "ERROR:root:Reference possible only for phase, scalarphase, clock, tec, tec3rd, and rotation solution tables. Ignore referencing.\n",
      "/home/albert/miniconda3/envs/tectf/lib/python3.6/site-packages/gpflow-1.3.0-py3.6.egg/gpflow/_settings.py:67: DeprecationWarning: tf_int is deprecated and will be removed at GPflow version 1.2.0. Use int_type.\n",
      "  'version 1.2.0. Use int_type.', DeprecationWarning)\n",
      "/home/albert/miniconda3/envs/tectf/lib/python3.6/site-packages/gpflow-1.3.0-py3.6.egg/gpflow/_settings.py:61: DeprecationWarning: tf_float is deprecated and will be removed at GPflow version 1.2.0. Use float_type.\n",
      "  'version 1.2.0. Use float_type.', DeprecationWarning)\n",
      "/home/albert/miniconda3/envs/tectf/lib/python3.6/site-packages/gpflow-1.3.0-py3.6.egg/gpflow/logdensities.py:91: DeprecationWarning: The 'warn' method is deprecated, use 'warning' instead\n",
      "  logger.warn('Shape of x must be 2D at computation.')\n",
      "WARNING:gpflow.logdensities:Shape of x must be 2D at computation.\n"
     ]
    },
    {
     "name": "stdout",
     "output_type": "stream",
     "text": [
      "INFO:tensorflow:Optimization terminated with:\n",
      "  Message: b'CONVERGENCE: REL_REDUCTION_OF_F_<=_FACTR*EPSMCH'\n",
      "  Objective function value: 15053.826197\n",
      "  Number of iterations: 11\n",
      "  Number of functions evaluations: 12\n"
     ]
    },
    {
     "name": "stderr",
     "output_type": "stream",
     "text": [
      "INFO:tensorflow:Optimization terminated with:\n",
      "  Message: b'CONVERGENCE: REL_REDUCTION_OF_F_<=_FACTR*EPSMCH'\n",
      "  Objective function value: 15053.826197\n",
      "  Number of iterations: 11\n",
      "  Number of functions evaluations: 12\n",
      "/home/albert/miniconda3/envs/tectf/lib/python3.6/site-packages/tables-3.4.4-py3.6-linux-x86_64.egg/tables/file.py:767: DeprecationWarning: The use of uppercase keyword parameters is deprecated\n",
      "  \"deprecated\", DeprecationWarning)\n",
      "/home/albert/miniconda3/envs/tectf/lib/python3.6/site-packages/tables-3.4.4-py3.6-linux-x86_64.egg/tables/file.py:767: DeprecationWarning: The use of uppercase keyword parameters is deprecated\n",
      "  \"deprecated\", DeprecationWarning)\n",
      "ERROR:root:Reference possible only for phase, scalarphase, clock, tec, tec3rd, and rotation solution tables. Ignore referencing.\n",
      "/home/albert/miniconda3/envs/tectf/lib/python3.6/site-packages/gpflow-1.3.0-py3.6.egg/gpflow/_settings.py:67: DeprecationWarning: tf_int is deprecated and will be removed at GPflow version 1.2.0. Use int_type.\n",
      "  'version 1.2.0. Use int_type.', DeprecationWarning)\n",
      "/home/albert/miniconda3/envs/tectf/lib/python3.6/site-packages/gpflow-1.3.0-py3.6.egg/gpflow/_settings.py:61: DeprecationWarning: tf_float is deprecated and will be removed at GPflow version 1.2.0. Use float_type.\n",
      "  'version 1.2.0. Use float_type.', DeprecationWarning)\n",
      "/home/albert/miniconda3/envs/tectf/lib/python3.6/site-packages/gpflow-1.3.0-py3.6.egg/gpflow/logdensities.py:91: DeprecationWarning: The 'warn' method is deprecated, use 'warning' instead\n",
      "  logger.warn('Shape of x must be 2D at computation.')\n",
      "WARNING:gpflow.logdensities:Shape of x must be 2D at computation.\n"
     ]
    },
    {
     "name": "stdout",
     "output_type": "stream",
     "text": [
      "INFO:tensorflow:Optimization terminated with:\n",
      "  Message: b'CONVERGENCE: REL_REDUCTION_OF_F_<=_FACTR*EPSMCH'\n",
      "  Objective function value: 13553.718778\n",
      "  Number of iterations: 11\n",
      "  Number of functions evaluations: 12\n"
     ]
    },
    {
     "name": "stderr",
     "output_type": "stream",
     "text": [
      "INFO:tensorflow:Optimization terminated with:\n",
      "  Message: b'CONVERGENCE: REL_REDUCTION_OF_F_<=_FACTR*EPSMCH'\n",
      "  Objective function value: 13553.718778\n",
      "  Number of iterations: 11\n",
      "  Number of functions evaluations: 12\n",
      "/home/albert/miniconda3/envs/tectf/lib/python3.6/site-packages/tables-3.4.4-py3.6-linux-x86_64.egg/tables/file.py:767: DeprecationWarning: The use of uppercase keyword parameters is deprecated\n",
      "  \"deprecated\", DeprecationWarning)\n",
      "/home/albert/miniconda3/envs/tectf/lib/python3.6/site-packages/tables-3.4.4-py3.6-linux-x86_64.egg/tables/file.py:767: DeprecationWarning: The use of uppercase keyword parameters is deprecated\n",
      "  \"deprecated\", DeprecationWarning)\n",
      "ERROR:root:Reference possible only for phase, scalarphase, clock, tec, tec3rd, and rotation solution tables. Ignore referencing.\n",
      "/home/albert/miniconda3/envs/tectf/lib/python3.6/site-packages/gpflow-1.3.0-py3.6.egg/gpflow/_settings.py:67: DeprecationWarning: tf_int is deprecated and will be removed at GPflow version 1.2.0. Use int_type.\n",
      "  'version 1.2.0. Use int_type.', DeprecationWarning)\n",
      "/home/albert/miniconda3/envs/tectf/lib/python3.6/site-packages/gpflow-1.3.0-py3.6.egg/gpflow/_settings.py:61: DeprecationWarning: tf_float is deprecated and will be removed at GPflow version 1.2.0. Use float_type.\n",
      "  'version 1.2.0. Use float_type.', DeprecationWarning)\n",
      "/home/albert/miniconda3/envs/tectf/lib/python3.6/site-packages/gpflow-1.3.0-py3.6.egg/gpflow/logdensities.py:91: DeprecationWarning: The 'warn' method is deprecated, use 'warning' instead\n",
      "  logger.warn('Shape of x must be 2D at computation.')\n",
      "WARNING:gpflow.logdensities:Shape of x must be 2D at computation.\n"
     ]
    },
    {
     "name": "stdout",
     "output_type": "stream",
     "text": [
      "INFO:tensorflow:Optimization terminated with:\n",
      "  Message: b'CONVERGENCE: REL_REDUCTION_OF_F_<=_FACTR*EPSMCH'\n",
      "  Objective function value: 13147.659480\n",
      "  Number of iterations: 8\n",
      "  Number of functions evaluations: 9\n"
     ]
    },
    {
     "name": "stderr",
     "output_type": "stream",
     "text": [
      "INFO:tensorflow:Optimization terminated with:\n",
      "  Message: b'CONVERGENCE: REL_REDUCTION_OF_F_<=_FACTR*EPSMCH'\n",
      "  Objective function value: 13147.659480\n",
      "  Number of iterations: 8\n",
      "  Number of functions evaluations: 9\n",
      "/home/albert/miniconda3/envs/tectf/lib/python3.6/site-packages/tables-3.4.4-py3.6-linux-x86_64.egg/tables/file.py:767: DeprecationWarning: The use of uppercase keyword parameters is deprecated\n",
      "  \"deprecated\", DeprecationWarning)\n",
      "/home/albert/miniconda3/envs/tectf/lib/python3.6/site-packages/tables-3.4.4-py3.6-linux-x86_64.egg/tables/file.py:767: DeprecationWarning: The use of uppercase keyword parameters is deprecated\n",
      "  \"deprecated\", DeprecationWarning)\n",
      "ERROR:root:Reference possible only for phase, scalarphase, clock, tec, tec3rd, and rotation solution tables. Ignore referencing.\n",
      "/home/albert/miniconda3/envs/tectf/lib/python3.6/site-packages/gpflow-1.3.0-py3.6.egg/gpflow/_settings.py:67: DeprecationWarning: tf_int is deprecated and will be removed at GPflow version 1.2.0. Use int_type.\n",
      "  'version 1.2.0. Use int_type.', DeprecationWarning)\n",
      "/home/albert/miniconda3/envs/tectf/lib/python3.6/site-packages/gpflow-1.3.0-py3.6.egg/gpflow/_settings.py:61: DeprecationWarning: tf_float is deprecated and will be removed at GPflow version 1.2.0. Use float_type.\n",
      "  'version 1.2.0. Use float_type.', DeprecationWarning)\n",
      "/home/albert/miniconda3/envs/tectf/lib/python3.6/site-packages/gpflow-1.3.0-py3.6.egg/gpflow/logdensities.py:91: DeprecationWarning: The 'warn' method is deprecated, use 'warning' instead\n",
      "  logger.warn('Shape of x must be 2D at computation.')\n",
      "WARNING:gpflow.logdensities:Shape of x must be 2D at computation.\n"
     ]
    },
    {
     "name": "stdout",
     "output_type": "stream",
     "text": [
      "INFO:tensorflow:Optimization terminated with:\n",
      "  Message: b'CONVERGENCE: REL_REDUCTION_OF_F_<=_FACTR*EPSMCH'\n",
      "  Objective function value: 14078.699866\n",
      "  Number of iterations: 10\n",
      "  Number of functions evaluations: 11\n"
     ]
    },
    {
     "name": "stderr",
     "output_type": "stream",
     "text": [
      "INFO:tensorflow:Optimization terminated with:\n",
      "  Message: b'CONVERGENCE: REL_REDUCTION_OF_F_<=_FACTR*EPSMCH'\n",
      "  Objective function value: 14078.699866\n",
      "  Number of iterations: 10\n",
      "  Number of functions evaluations: 11\n",
      "/home/albert/miniconda3/envs/tectf/lib/python3.6/site-packages/tables-3.4.4-py3.6-linux-x86_64.egg/tables/file.py:767: DeprecationWarning: The use of uppercase keyword parameters is deprecated\n",
      "  \"deprecated\", DeprecationWarning)\n",
      "/home/albert/miniconda3/envs/tectf/lib/python3.6/site-packages/tables-3.4.4-py3.6-linux-x86_64.egg/tables/file.py:767: DeprecationWarning: The use of uppercase keyword parameters is deprecated\n",
      "  \"deprecated\", DeprecationWarning)\n",
      "ERROR:root:Reference possible only for phase, scalarphase, clock, tec, tec3rd, and rotation solution tables. Ignore referencing.\n",
      "/home/albert/miniconda3/envs/tectf/lib/python3.6/site-packages/gpflow-1.3.0-py3.6.egg/gpflow/_settings.py:67: DeprecationWarning: tf_int is deprecated and will be removed at GPflow version 1.2.0. Use int_type.\n",
      "  'version 1.2.0. Use int_type.', DeprecationWarning)\n",
      "/home/albert/miniconda3/envs/tectf/lib/python3.6/site-packages/gpflow-1.3.0-py3.6.egg/gpflow/_settings.py:61: DeprecationWarning: tf_float is deprecated and will be removed at GPflow version 1.2.0. Use float_type.\n",
      "  'version 1.2.0. Use float_type.', DeprecationWarning)\n",
      "/home/albert/miniconda3/envs/tectf/lib/python3.6/site-packages/gpflow-1.3.0-py3.6.egg/gpflow/logdensities.py:91: DeprecationWarning: The 'warn' method is deprecated, use 'warning' instead\n",
      "  logger.warn('Shape of x must be 2D at computation.')\n",
      "WARNING:gpflow.logdensities:Shape of x must be 2D at computation.\n"
     ]
    },
    {
     "name": "stdout",
     "output_type": "stream",
     "text": [
      "INFO:tensorflow:Optimization terminated with:\n",
      "  Message: b'CONVERGENCE: REL_REDUCTION_OF_F_<=_FACTR*EPSMCH'\n",
      "  Objective function value: 15653.707086\n",
      "  Number of iterations: 14\n",
      "  Number of functions evaluations: 15\n"
     ]
    },
    {
     "name": "stderr",
     "output_type": "stream",
     "text": [
      "INFO:tensorflow:Optimization terminated with:\n",
      "  Message: b'CONVERGENCE: REL_REDUCTION_OF_F_<=_FACTR*EPSMCH'\n",
      "  Objective function value: 15653.707086\n",
      "  Number of iterations: 14\n",
      "  Number of functions evaluations: 15\n",
      "/home/albert/miniconda3/envs/tectf/lib/python3.6/site-packages/tables-3.4.4-py3.6-linux-x86_64.egg/tables/file.py:767: DeprecationWarning: The use of uppercase keyword parameters is deprecated\n",
      "  \"deprecated\", DeprecationWarning)\n",
      "/home/albert/miniconda3/envs/tectf/lib/python3.6/site-packages/tables-3.4.4-py3.6-linux-x86_64.egg/tables/file.py:767: DeprecationWarning: The use of uppercase keyword parameters is deprecated\n",
      "  \"deprecated\", DeprecationWarning)\n",
      "ERROR:root:Reference possible only for phase, scalarphase, clock, tec, tec3rd, and rotation solution tables. Ignore referencing.\n",
      "/home/albert/miniconda3/envs/tectf/lib/python3.6/site-packages/gpflow-1.3.0-py3.6.egg/gpflow/_settings.py:67: DeprecationWarning: tf_int is deprecated and will be removed at GPflow version 1.2.0. Use int_type.\n",
      "  'version 1.2.0. Use int_type.', DeprecationWarning)\n",
      "/home/albert/miniconda3/envs/tectf/lib/python3.6/site-packages/gpflow-1.3.0-py3.6.egg/gpflow/_settings.py:61: DeprecationWarning: tf_float is deprecated and will be removed at GPflow version 1.2.0. Use float_type.\n",
      "  'version 1.2.0. Use float_type.', DeprecationWarning)\n",
      "/home/albert/miniconda3/envs/tectf/lib/python3.6/site-packages/gpflow-1.3.0-py3.6.egg/gpflow/logdensities.py:91: DeprecationWarning: The 'warn' method is deprecated, use 'warning' instead\n",
      "  logger.warn('Shape of x must be 2D at computation.')\n",
      "WARNING:gpflow.logdensities:Shape of x must be 2D at computation.\n"
     ]
    },
    {
     "name": "stdout",
     "output_type": "stream",
     "text": [
      "INFO:tensorflow:Optimization terminated with:\n",
      "  Message: b'CONVERGENCE: REL_REDUCTION_OF_F_<=_FACTR*EPSMCH'\n",
      "  Objective function value: 16590.942272\n",
      "  Number of iterations: 15\n",
      "  Number of functions evaluations: 16\n"
     ]
    },
    {
     "name": "stderr",
     "output_type": "stream",
     "text": [
      "INFO:tensorflow:Optimization terminated with:\n",
      "  Message: b'CONVERGENCE: REL_REDUCTION_OF_F_<=_FACTR*EPSMCH'\n",
      "  Objective function value: 16590.942272\n",
      "  Number of iterations: 15\n",
      "  Number of functions evaluations: 16\n",
      "/home/albert/miniconda3/envs/tectf/lib/python3.6/site-packages/tables-3.4.4-py3.6-linux-x86_64.egg/tables/file.py:767: DeprecationWarning: The use of uppercase keyword parameters is deprecated\n",
      "  \"deprecated\", DeprecationWarning)\n",
      "/home/albert/miniconda3/envs/tectf/lib/python3.6/site-packages/tables-3.4.4-py3.6-linux-x86_64.egg/tables/file.py:767: DeprecationWarning: The use of uppercase keyword parameters is deprecated\n",
      "  \"deprecated\", DeprecationWarning)\n",
      "ERROR:root:Reference possible only for phase, scalarphase, clock, tec, tec3rd, and rotation solution tables. Ignore referencing.\n",
      "/home/albert/miniconda3/envs/tectf/lib/python3.6/site-packages/gpflow-1.3.0-py3.6.egg/gpflow/_settings.py:67: DeprecationWarning: tf_int is deprecated and will be removed at GPflow version 1.2.0. Use int_type.\n",
      "  'version 1.2.0. Use int_type.', DeprecationWarning)\n",
      "/home/albert/miniconda3/envs/tectf/lib/python3.6/site-packages/gpflow-1.3.0-py3.6.egg/gpflow/_settings.py:61: DeprecationWarning: tf_float is deprecated and will be removed at GPflow version 1.2.0. Use float_type.\n",
      "  'version 1.2.0. Use float_type.', DeprecationWarning)\n",
      "/home/albert/miniconda3/envs/tectf/lib/python3.6/site-packages/gpflow-1.3.0-py3.6.egg/gpflow/logdensities.py:91: DeprecationWarning: The 'warn' method is deprecated, use 'warning' instead\n",
      "  logger.warn('Shape of x must be 2D at computation.')\n",
      "WARNING:gpflow.logdensities:Shape of x must be 2D at computation.\n"
     ]
    },
    {
     "name": "stdout",
     "output_type": "stream",
     "text": [
      "INFO:tensorflow:Optimization terminated with:\n",
      "  Message: b'CONVERGENCE: REL_REDUCTION_OF_F_<=_FACTR*EPSMCH'\n",
      "  Objective function value: 11049.413465\n",
      "  Number of iterations: 8\n",
      "  Number of functions evaluations: 10\n"
     ]
    },
    {
     "name": "stderr",
     "output_type": "stream",
     "text": [
      "INFO:tensorflow:Optimization terminated with:\n",
      "  Message: b'CONVERGENCE: REL_REDUCTION_OF_F_<=_FACTR*EPSMCH'\n",
      "  Objective function value: 11049.413465\n",
      "  Number of iterations: 8\n",
      "  Number of functions evaluations: 10\n",
      "/home/albert/miniconda3/envs/tectf/lib/python3.6/site-packages/tables-3.4.4-py3.6-linux-x86_64.egg/tables/file.py:767: DeprecationWarning: The use of uppercase keyword parameters is deprecated\n",
      "  \"deprecated\", DeprecationWarning)\n",
      "/home/albert/miniconda3/envs/tectf/lib/python3.6/site-packages/tables-3.4.4-py3.6-linux-x86_64.egg/tables/file.py:767: DeprecationWarning: The use of uppercase keyword parameters is deprecated\n",
      "  \"deprecated\", DeprecationWarning)\n",
      "ERROR:root:Reference possible only for phase, scalarphase, clock, tec, tec3rd, and rotation solution tables. Ignore referencing.\n",
      "/home/albert/miniconda3/envs/tectf/lib/python3.6/site-packages/gpflow-1.3.0-py3.6.egg/gpflow/_settings.py:67: DeprecationWarning: tf_int is deprecated and will be removed at GPflow version 1.2.0. Use int_type.\n",
      "  'version 1.2.0. Use int_type.', DeprecationWarning)\n",
      "/home/albert/miniconda3/envs/tectf/lib/python3.6/site-packages/gpflow-1.3.0-py3.6.egg/gpflow/_settings.py:61: DeprecationWarning: tf_float is deprecated and will be removed at GPflow version 1.2.0. Use float_type.\n",
      "  'version 1.2.0. Use float_type.', DeprecationWarning)\n",
      "/home/albert/miniconda3/envs/tectf/lib/python3.6/site-packages/gpflow-1.3.0-py3.6.egg/gpflow/logdensities.py:91: DeprecationWarning: The 'warn' method is deprecated, use 'warning' instead\n",
      "  logger.warn('Shape of x must be 2D at computation.')\n",
      "WARNING:gpflow.logdensities:Shape of x must be 2D at computation.\n"
     ]
    },
    {
     "name": "stdout",
     "output_type": "stream",
     "text": [
      "INFO:tensorflow:Optimization terminated with:\n",
      "  Message: b'CONVERGENCE: NORM_OF_PROJECTED_GRADIENT_<=_PGTOL'\n",
      "  Objective function value: 10246.207009\n",
      "  Number of iterations: 9\n",
      "  Number of functions evaluations: 10\n"
     ]
    },
    {
     "name": "stderr",
     "output_type": "stream",
     "text": [
      "INFO:tensorflow:Optimization terminated with:\n",
      "  Message: b'CONVERGENCE: NORM_OF_PROJECTED_GRADIENT_<=_PGTOL'\n",
      "  Objective function value: 10246.207009\n",
      "  Number of iterations: 9\n",
      "  Number of functions evaluations: 10\n",
      "/home/albert/miniconda3/envs/tectf/lib/python3.6/site-packages/tables-3.4.4-py3.6-linux-x86_64.egg/tables/file.py:767: DeprecationWarning: The use of uppercase keyword parameters is deprecated\n",
      "  \"deprecated\", DeprecationWarning)\n",
      "/home/albert/miniconda3/envs/tectf/lib/python3.6/site-packages/tables-3.4.4-py3.6-linux-x86_64.egg/tables/file.py:767: DeprecationWarning: The use of uppercase keyword parameters is deprecated\n",
      "  \"deprecated\", DeprecationWarning)\n",
      "ERROR:root:Reference possible only for phase, scalarphase, clock, tec, tec3rd, and rotation solution tables. Ignore referencing.\n",
      "/home/albert/miniconda3/envs/tectf/lib/python3.6/site-packages/gpflow-1.3.0-py3.6.egg/gpflow/_settings.py:67: DeprecationWarning: tf_int is deprecated and will be removed at GPflow version 1.2.0. Use int_type.\n",
      "  'version 1.2.0. Use int_type.', DeprecationWarning)\n",
      "/home/albert/miniconda3/envs/tectf/lib/python3.6/site-packages/gpflow-1.3.0-py3.6.egg/gpflow/_settings.py:61: DeprecationWarning: tf_float is deprecated and will be removed at GPflow version 1.2.0. Use float_type.\n",
      "  'version 1.2.0. Use float_type.', DeprecationWarning)\n",
      "/home/albert/miniconda3/envs/tectf/lib/python3.6/site-packages/gpflow-1.3.0-py3.6.egg/gpflow/logdensities.py:91: DeprecationWarning: The 'warn' method is deprecated, use 'warning' instead\n",
      "  logger.warn('Shape of x must be 2D at computation.')\n",
      "WARNING:gpflow.logdensities:Shape of x must be 2D at computation.\n"
     ]
    },
    {
     "name": "stdout",
     "output_type": "stream",
     "text": [
      "INFO:tensorflow:Optimization terminated with:\n",
      "  Message: b'CONVERGENCE: REL_REDUCTION_OF_F_<=_FACTR*EPSMCH'\n",
      "  Objective function value: 9857.532765\n",
      "  Number of iterations: 9\n",
      "  Number of functions evaluations: 10\n"
     ]
    },
    {
     "name": "stderr",
     "output_type": "stream",
     "text": [
      "INFO:tensorflow:Optimization terminated with:\n",
      "  Message: b'CONVERGENCE: REL_REDUCTION_OF_F_<=_FACTR*EPSMCH'\n",
      "  Objective function value: 9857.532765\n",
      "  Number of iterations: 9\n",
      "  Number of functions evaluations: 10\n",
      "/home/albert/miniconda3/envs/tectf/lib/python3.6/site-packages/tables-3.4.4-py3.6-linux-x86_64.egg/tables/file.py:767: DeprecationWarning: The use of uppercase keyword parameters is deprecated\n",
      "  \"deprecated\", DeprecationWarning)\n",
      "/home/albert/miniconda3/envs/tectf/lib/python3.6/site-packages/tables-3.4.4-py3.6-linux-x86_64.egg/tables/file.py:767: DeprecationWarning: The use of uppercase keyword parameters is deprecated\n",
      "  \"deprecated\", DeprecationWarning)\n",
      "ERROR:root:Reference possible only for phase, scalarphase, clock, tec, tec3rd, and rotation solution tables. Ignore referencing.\n",
      "/home/albert/miniconda3/envs/tectf/lib/python3.6/site-packages/gpflow-1.3.0-py3.6.egg/gpflow/_settings.py:67: DeprecationWarning: tf_int is deprecated and will be removed at GPflow version 1.2.0. Use int_type.\n",
      "  'version 1.2.0. Use int_type.', DeprecationWarning)\n",
      "/home/albert/miniconda3/envs/tectf/lib/python3.6/site-packages/gpflow-1.3.0-py3.6.egg/gpflow/_settings.py:61: DeprecationWarning: tf_float is deprecated and will be removed at GPflow version 1.2.0. Use float_type.\n",
      "  'version 1.2.0. Use float_type.', DeprecationWarning)\n",
      "/home/albert/miniconda3/envs/tectf/lib/python3.6/site-packages/gpflow-1.3.0-py3.6.egg/gpflow/logdensities.py:91: DeprecationWarning: The 'warn' method is deprecated, use 'warning' instead\n",
      "  logger.warn('Shape of x must be 2D at computation.')\n",
      "WARNING:gpflow.logdensities:Shape of x must be 2D at computation.\n"
     ]
    },
    {
     "name": "stdout",
     "output_type": "stream",
     "text": [
      "INFO:tensorflow:Optimization terminated with:\n",
      "  Message: b'CONVERGENCE: NORM_OF_PROJECTED_GRADIENT_<=_PGTOL'\n",
      "  Objective function value: 10297.910307\n",
      "  Number of iterations: 7\n",
      "  Number of functions evaluations: 9\n"
     ]
    },
    {
     "name": "stderr",
     "output_type": "stream",
     "text": [
      "INFO:tensorflow:Optimization terminated with:\n",
      "  Message: b'CONVERGENCE: NORM_OF_PROJECTED_GRADIENT_<=_PGTOL'\n",
      "  Objective function value: 10297.910307\n",
      "  Number of iterations: 7\n",
      "  Number of functions evaluations: 9\n",
      "/home/albert/miniconda3/envs/tectf/lib/python3.6/site-packages/tables-3.4.4-py3.6-linux-x86_64.egg/tables/file.py:767: DeprecationWarning: The use of uppercase keyword parameters is deprecated\n",
      "  \"deprecated\", DeprecationWarning)\n",
      "/home/albert/miniconda3/envs/tectf/lib/python3.6/site-packages/tables-3.4.4-py3.6-linux-x86_64.egg/tables/file.py:767: DeprecationWarning: The use of uppercase keyword parameters is deprecated\n",
      "  \"deprecated\", DeprecationWarning)\n",
      "ERROR:root:Reference possible only for phase, scalarphase, clock, tec, tec3rd, and rotation solution tables. Ignore referencing.\n",
      "/home/albert/miniconda3/envs/tectf/lib/python3.6/site-packages/gpflow-1.3.0-py3.6.egg/gpflow/_settings.py:67: DeprecationWarning: tf_int is deprecated and will be removed at GPflow version 1.2.0. Use int_type.\n",
      "  'version 1.2.0. Use int_type.', DeprecationWarning)\n",
      "/home/albert/miniconda3/envs/tectf/lib/python3.6/site-packages/gpflow-1.3.0-py3.6.egg/gpflow/_settings.py:61: DeprecationWarning: tf_float is deprecated and will be removed at GPflow version 1.2.0. Use float_type.\n",
      "  'version 1.2.0. Use float_type.', DeprecationWarning)\n",
      "/home/albert/miniconda3/envs/tectf/lib/python3.6/site-packages/gpflow-1.3.0-py3.6.egg/gpflow/logdensities.py:91: DeprecationWarning: The 'warn' method is deprecated, use 'warning' instead\n",
      "  logger.warn('Shape of x must be 2D at computation.')\n",
      "WARNING:gpflow.logdensities:Shape of x must be 2D at computation.\n"
     ]
    },
    {
     "name": "stdout",
     "output_type": "stream",
     "text": [
      "INFO:tensorflow:Optimization terminated with:\n",
      "  Message: b'CONVERGENCE: REL_REDUCTION_OF_F_<=_FACTR*EPSMCH'\n",
      "  Objective function value: 10439.504046\n",
      "  Number of iterations: 8\n",
      "  Number of functions evaluations: 9\n"
     ]
    },
    {
     "name": "stderr",
     "output_type": "stream",
     "text": [
      "INFO:tensorflow:Optimization terminated with:\n",
      "  Message: b'CONVERGENCE: REL_REDUCTION_OF_F_<=_FACTR*EPSMCH'\n",
      "  Objective function value: 10439.504046\n",
      "  Number of iterations: 8\n",
      "  Number of functions evaluations: 9\n",
      "/home/albert/miniconda3/envs/tectf/lib/python3.6/site-packages/tables-3.4.4-py3.6-linux-x86_64.egg/tables/file.py:767: DeprecationWarning: The use of uppercase keyword parameters is deprecated\n",
      "  \"deprecated\", DeprecationWarning)\n",
      "/home/albert/miniconda3/envs/tectf/lib/python3.6/site-packages/tables-3.4.4-py3.6-linux-x86_64.egg/tables/file.py:767: DeprecationWarning: The use of uppercase keyword parameters is deprecated\n",
      "  \"deprecated\", DeprecationWarning)\n",
      "ERROR:root:Reference possible only for phase, scalarphase, clock, tec, tec3rd, and rotation solution tables. Ignore referencing.\n",
      "/home/albert/miniconda3/envs/tectf/lib/python3.6/site-packages/gpflow-1.3.0-py3.6.egg/gpflow/_settings.py:67: DeprecationWarning: tf_int is deprecated and will be removed at GPflow version 1.2.0. Use int_type.\n",
      "  'version 1.2.0. Use int_type.', DeprecationWarning)\n",
      "/home/albert/miniconda3/envs/tectf/lib/python3.6/site-packages/gpflow-1.3.0-py3.6.egg/gpflow/_settings.py:61: DeprecationWarning: tf_float is deprecated and will be removed at GPflow version 1.2.0. Use float_type.\n",
      "  'version 1.2.0. Use float_type.', DeprecationWarning)\n",
      "/home/albert/miniconda3/envs/tectf/lib/python3.6/site-packages/gpflow-1.3.0-py3.6.egg/gpflow/logdensities.py:91: DeprecationWarning: The 'warn' method is deprecated, use 'warning' instead\n",
      "  logger.warn('Shape of x must be 2D at computation.')\n",
      "WARNING:gpflow.logdensities:Shape of x must be 2D at computation.\n"
     ]
    },
    {
     "name": "stdout",
     "output_type": "stream",
     "text": [
      "INFO:tensorflow:Optimization terminated with:\n",
      "  Message: b'CONVERGENCE: REL_REDUCTION_OF_F_<=_FACTR*EPSMCH'\n",
      "  Objective function value: 10366.559274\n",
      "  Number of iterations: 9\n",
      "  Number of functions evaluations: 10\n"
     ]
    },
    {
     "name": "stderr",
     "output_type": "stream",
     "text": [
      "INFO:tensorflow:Optimization terminated with:\n",
      "  Message: b'CONVERGENCE: REL_REDUCTION_OF_F_<=_FACTR*EPSMCH'\n",
      "  Objective function value: 10366.559274\n",
      "  Number of iterations: 9\n",
      "  Number of functions evaluations: 10\n",
      "/home/albert/miniconda3/envs/tectf/lib/python3.6/site-packages/tables-3.4.4-py3.6-linux-x86_64.egg/tables/file.py:767: DeprecationWarning: The use of uppercase keyword parameters is deprecated\n",
      "  \"deprecated\", DeprecationWarning)\n",
      "/home/albert/miniconda3/envs/tectf/lib/python3.6/site-packages/tables-3.4.4-py3.6-linux-x86_64.egg/tables/file.py:767: DeprecationWarning: The use of uppercase keyword parameters is deprecated\n",
      "  \"deprecated\", DeprecationWarning)\n",
      "ERROR:root:Reference possible only for phase, scalarphase, clock, tec, tec3rd, and rotation solution tables. Ignore referencing.\n",
      "/home/albert/miniconda3/envs/tectf/lib/python3.6/site-packages/gpflow-1.3.0-py3.6.egg/gpflow/_settings.py:67: DeprecationWarning: tf_int is deprecated and will be removed at GPflow version 1.2.0. Use int_type.\n",
      "  'version 1.2.0. Use int_type.', DeprecationWarning)\n",
      "/home/albert/miniconda3/envs/tectf/lib/python3.6/site-packages/gpflow-1.3.0-py3.6.egg/gpflow/_settings.py:61: DeprecationWarning: tf_float is deprecated and will be removed at GPflow version 1.2.0. Use float_type.\n",
      "  'version 1.2.0. Use float_type.', DeprecationWarning)\n",
      "/home/albert/miniconda3/envs/tectf/lib/python3.6/site-packages/gpflow-1.3.0-py3.6.egg/gpflow/logdensities.py:91: DeprecationWarning: The 'warn' method is deprecated, use 'warning' instead\n",
      "  logger.warn('Shape of x must be 2D at computation.')\n",
      "WARNING:gpflow.logdensities:Shape of x must be 2D at computation.\n"
     ]
    },
    {
     "name": "stdout",
     "output_type": "stream",
     "text": [
      "INFO:tensorflow:Optimization terminated with:\n",
      "  Message: b'CONVERGENCE: REL_REDUCTION_OF_F_<=_FACTR*EPSMCH'\n",
      "  Objective function value: 10123.815102\n",
      "  Number of iterations: 8\n",
      "  Number of functions evaluations: 9\n"
     ]
    },
    {
     "name": "stderr",
     "output_type": "stream",
     "text": [
      "INFO:tensorflow:Optimization terminated with:\n",
      "  Message: b'CONVERGENCE: REL_REDUCTION_OF_F_<=_FACTR*EPSMCH'\n",
      "  Objective function value: 10123.815102\n",
      "  Number of iterations: 8\n",
      "  Number of functions evaluations: 9\n",
      "/home/albert/miniconda3/envs/tectf/lib/python3.6/site-packages/tables-3.4.4-py3.6-linux-x86_64.egg/tables/file.py:767: DeprecationWarning: The use of uppercase keyword parameters is deprecated\n",
      "  \"deprecated\", DeprecationWarning)\n",
      "/home/albert/miniconda3/envs/tectf/lib/python3.6/site-packages/tables-3.4.4-py3.6-linux-x86_64.egg/tables/file.py:767: DeprecationWarning: The use of uppercase keyword parameters is deprecated\n",
      "  \"deprecated\", DeprecationWarning)\n",
      "ERROR:root:Reference possible only for phase, scalarphase, clock, tec, tec3rd, and rotation solution tables. Ignore referencing.\n",
      "/home/albert/miniconda3/envs/tectf/lib/python3.6/site-packages/gpflow-1.3.0-py3.6.egg/gpflow/_settings.py:67: DeprecationWarning: tf_int is deprecated and will be removed at GPflow version 1.2.0. Use int_type.\n",
      "  'version 1.2.0. Use int_type.', DeprecationWarning)\n",
      "/home/albert/miniconda3/envs/tectf/lib/python3.6/site-packages/gpflow-1.3.0-py3.6.egg/gpflow/_settings.py:61: DeprecationWarning: tf_float is deprecated and will be removed at GPflow version 1.2.0. Use float_type.\n",
      "  'version 1.2.0. Use float_type.', DeprecationWarning)\n",
      "/home/albert/miniconda3/envs/tectf/lib/python3.6/site-packages/gpflow-1.3.0-py3.6.egg/gpflow/logdensities.py:91: DeprecationWarning: The 'warn' method is deprecated, use 'warning' instead\n",
      "  logger.warn('Shape of x must be 2D at computation.')\n",
      "WARNING:gpflow.logdensities:Shape of x must be 2D at computation.\n"
     ]
    },
    {
     "name": "stdout",
     "output_type": "stream",
     "text": [
      "INFO:tensorflow:Optimization terminated with:\n",
      "  Message: b'CONVERGENCE: REL_REDUCTION_OF_F_<=_FACTR*EPSMCH'\n",
      "  Objective function value: 9832.863384\n",
      "  Number of iterations: 7\n",
      "  Number of functions evaluations: 8\n"
     ]
    },
    {
     "name": "stderr",
     "output_type": "stream",
     "text": [
      "INFO:tensorflow:Optimization terminated with:\n",
      "  Message: b'CONVERGENCE: REL_REDUCTION_OF_F_<=_FACTR*EPSMCH'\n",
      "  Objective function value: 9832.863384\n",
      "  Number of iterations: 7\n",
      "  Number of functions evaluations: 8\n",
      "/home/albert/miniconda3/envs/tectf/lib/python3.6/site-packages/tables-3.4.4-py3.6-linux-x86_64.egg/tables/file.py:767: DeprecationWarning: The use of uppercase keyword parameters is deprecated\n",
      "  \"deprecated\", DeprecationWarning)\n",
      "/home/albert/miniconda3/envs/tectf/lib/python3.6/site-packages/tables-3.4.4-py3.6-linux-x86_64.egg/tables/file.py:767: DeprecationWarning: The use of uppercase keyword parameters is deprecated\n",
      "  \"deprecated\", DeprecationWarning)\n",
      "ERROR:root:Reference possible only for phase, scalarphase, clock, tec, tec3rd, and rotation solution tables. Ignore referencing.\n",
      "/home/albert/miniconda3/envs/tectf/lib/python3.6/site-packages/gpflow-1.3.0-py3.6.egg/gpflow/_settings.py:67: DeprecationWarning: tf_int is deprecated and will be removed at GPflow version 1.2.0. Use int_type.\n",
      "  'version 1.2.0. Use int_type.', DeprecationWarning)\n",
      "/home/albert/miniconda3/envs/tectf/lib/python3.6/site-packages/gpflow-1.3.0-py3.6.egg/gpflow/_settings.py:61: DeprecationWarning: tf_float is deprecated and will be removed at GPflow version 1.2.0. Use float_type.\n",
      "  'version 1.2.0. Use float_type.', DeprecationWarning)\n",
      "/home/albert/miniconda3/envs/tectf/lib/python3.6/site-packages/gpflow-1.3.0-py3.6.egg/gpflow/logdensities.py:91: DeprecationWarning: The 'warn' method is deprecated, use 'warning' instead\n",
      "  logger.warn('Shape of x must be 2D at computation.')\n",
      "WARNING:gpflow.logdensities:Shape of x must be 2D at computation.\n"
     ]
    },
    {
     "name": "stdout",
     "output_type": "stream",
     "text": [
      "INFO:tensorflow:Optimization terminated with:\n",
      "  Message: b'CONVERGENCE: REL_REDUCTION_OF_F_<=_FACTR*EPSMCH'\n",
      "  Objective function value: 10144.934161\n",
      "  Number of iterations: 8\n",
      "  Number of functions evaluations: 9\n"
     ]
    },
    {
     "name": "stderr",
     "output_type": "stream",
     "text": [
      "INFO:tensorflow:Optimization terminated with:\n",
      "  Message: b'CONVERGENCE: REL_REDUCTION_OF_F_<=_FACTR*EPSMCH'\n",
      "  Objective function value: 10144.934161\n",
      "  Number of iterations: 8\n",
      "  Number of functions evaluations: 9\n",
      "/home/albert/miniconda3/envs/tectf/lib/python3.6/site-packages/tables-3.4.4-py3.6-linux-x86_64.egg/tables/file.py:767: DeprecationWarning: The use of uppercase keyword parameters is deprecated\n",
      "  \"deprecated\", DeprecationWarning)\n",
      "/home/albert/miniconda3/envs/tectf/lib/python3.6/site-packages/tables-3.4.4-py3.6-linux-x86_64.egg/tables/file.py:767: DeprecationWarning: The use of uppercase keyword parameters is deprecated\n",
      "  \"deprecated\", DeprecationWarning)\n",
      "ERROR:root:Reference possible only for phase, scalarphase, clock, tec, tec3rd, and rotation solution tables. Ignore referencing.\n",
      "/home/albert/miniconda3/envs/tectf/lib/python3.6/site-packages/gpflow-1.3.0-py3.6.egg/gpflow/_settings.py:67: DeprecationWarning: tf_int is deprecated and will be removed at GPflow version 1.2.0. Use int_type.\n",
      "  'version 1.2.0. Use int_type.', DeprecationWarning)\n",
      "/home/albert/miniconda3/envs/tectf/lib/python3.6/site-packages/gpflow-1.3.0-py3.6.egg/gpflow/_settings.py:61: DeprecationWarning: tf_float is deprecated and will be removed at GPflow version 1.2.0. Use float_type.\n",
      "  'version 1.2.0. Use float_type.', DeprecationWarning)\n",
      "/home/albert/miniconda3/envs/tectf/lib/python3.6/site-packages/gpflow-1.3.0-py3.6.egg/gpflow/logdensities.py:91: DeprecationWarning: The 'warn' method is deprecated, use 'warning' instead\n",
      "  logger.warn('Shape of x must be 2D at computation.')\n",
      "WARNING:gpflow.logdensities:Shape of x must be 2D at computation.\n"
     ]
    },
    {
     "name": "stdout",
     "output_type": "stream",
     "text": [
      "INFO:tensorflow:Optimization terminated with:\n",
      "  Message: b'CONVERGENCE: REL_REDUCTION_OF_F_<=_FACTR*EPSMCH'\n",
      "  Objective function value: 10415.511156\n",
      "  Number of iterations: 8\n",
      "  Number of functions evaluations: 9\n"
     ]
    },
    {
     "name": "stderr",
     "output_type": "stream",
     "text": [
      "INFO:tensorflow:Optimization terminated with:\n",
      "  Message: b'CONVERGENCE: REL_REDUCTION_OF_F_<=_FACTR*EPSMCH'\n",
      "  Objective function value: 10415.511156\n",
      "  Number of iterations: 8\n",
      "  Number of functions evaluations: 9\n",
      "/home/albert/miniconda3/envs/tectf/lib/python3.6/site-packages/tables-3.4.4-py3.6-linux-x86_64.egg/tables/file.py:767: DeprecationWarning: The use of uppercase keyword parameters is deprecated\n",
      "  \"deprecated\", DeprecationWarning)\n",
      "/home/albert/miniconda3/envs/tectf/lib/python3.6/site-packages/tables-3.4.4-py3.6-linux-x86_64.egg/tables/file.py:767: DeprecationWarning: The use of uppercase keyword parameters is deprecated\n",
      "  \"deprecated\", DeprecationWarning)\n",
      "ERROR:root:Reference possible only for phase, scalarphase, clock, tec, tec3rd, and rotation solution tables. Ignore referencing.\n",
      "/home/albert/miniconda3/envs/tectf/lib/python3.6/site-packages/gpflow-1.3.0-py3.6.egg/gpflow/_settings.py:67: DeprecationWarning: tf_int is deprecated and will be removed at GPflow version 1.2.0. Use int_type.\n",
      "  'version 1.2.0. Use int_type.', DeprecationWarning)\n",
      "/home/albert/miniconda3/envs/tectf/lib/python3.6/site-packages/gpflow-1.3.0-py3.6.egg/gpflow/_settings.py:61: DeprecationWarning: tf_float is deprecated and will be removed at GPflow version 1.2.0. Use float_type.\n",
      "  'version 1.2.0. Use float_type.', DeprecationWarning)\n",
      "/home/albert/miniconda3/envs/tectf/lib/python3.6/site-packages/gpflow-1.3.0-py3.6.egg/gpflow/logdensities.py:91: DeprecationWarning: The 'warn' method is deprecated, use 'warning' instead\n",
      "  logger.warn('Shape of x must be 2D at computation.')\n",
      "WARNING:gpflow.logdensities:Shape of x must be 2D at computation.\n"
     ]
    },
    {
     "name": "stdout",
     "output_type": "stream",
     "text": [
      "INFO:tensorflow:Optimization terminated with:\n",
      "  Message: b'CONVERGENCE: REL_REDUCTION_OF_F_<=_FACTR*EPSMCH'\n",
      "  Objective function value: 10226.826016\n",
      "  Number of iterations: 8\n",
      "  Number of functions evaluations: 9\n"
     ]
    },
    {
     "name": "stderr",
     "output_type": "stream",
     "text": [
      "INFO:tensorflow:Optimization terminated with:\n",
      "  Message: b'CONVERGENCE: REL_REDUCTION_OF_F_<=_FACTR*EPSMCH'\n",
      "  Objective function value: 10226.826016\n",
      "  Number of iterations: 8\n",
      "  Number of functions evaluations: 9\n",
      "/home/albert/miniconda3/envs/tectf/lib/python3.6/site-packages/tables-3.4.4-py3.6-linux-x86_64.egg/tables/file.py:767: DeprecationWarning: The use of uppercase keyword parameters is deprecated\n",
      "  \"deprecated\", DeprecationWarning)\n",
      "/home/albert/miniconda3/envs/tectf/lib/python3.6/site-packages/tables-3.4.4-py3.6-linux-x86_64.egg/tables/file.py:767: DeprecationWarning: The use of uppercase keyword parameters is deprecated\n",
      "  \"deprecated\", DeprecationWarning)\n",
      "ERROR:root:Reference possible only for phase, scalarphase, clock, tec, tec3rd, and rotation solution tables. Ignore referencing.\n",
      "/home/albert/miniconda3/envs/tectf/lib/python3.6/site-packages/gpflow-1.3.0-py3.6.egg/gpflow/_settings.py:67: DeprecationWarning: tf_int is deprecated and will be removed at GPflow version 1.2.0. Use int_type.\n",
      "  'version 1.2.0. Use int_type.', DeprecationWarning)\n",
      "/home/albert/miniconda3/envs/tectf/lib/python3.6/site-packages/gpflow-1.3.0-py3.6.egg/gpflow/_settings.py:61: DeprecationWarning: tf_float is deprecated and will be removed at GPflow version 1.2.0. Use float_type.\n",
      "  'version 1.2.0. Use float_type.', DeprecationWarning)\n",
      "/home/albert/miniconda3/envs/tectf/lib/python3.6/site-packages/gpflow-1.3.0-py3.6.egg/gpflow/logdensities.py:91: DeprecationWarning: The 'warn' method is deprecated, use 'warning' instead\n",
      "  logger.warn('Shape of x must be 2D at computation.')\n",
      "WARNING:gpflow.logdensities:Shape of x must be 2D at computation.\n"
     ]
    },
    {
     "name": "stdout",
     "output_type": "stream",
     "text": [
      "INFO:tensorflow:Optimization terminated with:\n",
      "  Message: b'CONVERGENCE: REL_REDUCTION_OF_F_<=_FACTR*EPSMCH'\n",
      "  Objective function value: 9734.601720\n",
      "  Number of iterations: 7\n",
      "  Number of functions evaluations: 8\n"
     ]
    },
    {
     "name": "stderr",
     "output_type": "stream",
     "text": [
      "INFO:tensorflow:Optimization terminated with:\n",
      "  Message: b'CONVERGENCE: REL_REDUCTION_OF_F_<=_FACTR*EPSMCH'\n",
      "  Objective function value: 9734.601720\n",
      "  Number of iterations: 7\n",
      "  Number of functions evaluations: 8\n",
      "/home/albert/miniconda3/envs/tectf/lib/python3.6/site-packages/tables-3.4.4-py3.6-linux-x86_64.egg/tables/file.py:767: DeprecationWarning: The use of uppercase keyword parameters is deprecated\n",
      "  \"deprecated\", DeprecationWarning)\n",
      "/home/albert/miniconda3/envs/tectf/lib/python3.6/site-packages/tables-3.4.4-py3.6-linux-x86_64.egg/tables/file.py:767: DeprecationWarning: The use of uppercase keyword parameters is deprecated\n",
      "  \"deprecated\", DeprecationWarning)\n",
      "ERROR:root:Reference possible only for phase, scalarphase, clock, tec, tec3rd, and rotation solution tables. Ignore referencing.\n",
      "/home/albert/miniconda3/envs/tectf/lib/python3.6/site-packages/gpflow-1.3.0-py3.6.egg/gpflow/_settings.py:67: DeprecationWarning: tf_int is deprecated and will be removed at GPflow version 1.2.0. Use int_type.\n",
      "  'version 1.2.0. Use int_type.', DeprecationWarning)\n",
      "/home/albert/miniconda3/envs/tectf/lib/python3.6/site-packages/gpflow-1.3.0-py3.6.egg/gpflow/_settings.py:61: DeprecationWarning: tf_float is deprecated and will be removed at GPflow version 1.2.0. Use float_type.\n",
      "  'version 1.2.0. Use float_type.', DeprecationWarning)\n",
      "/home/albert/miniconda3/envs/tectf/lib/python3.6/site-packages/gpflow-1.3.0-py3.6.egg/gpflow/logdensities.py:91: DeprecationWarning: The 'warn' method is deprecated, use 'warning' instead\n",
      "  logger.warn('Shape of x must be 2D at computation.')\n",
      "WARNING:gpflow.logdensities:Shape of x must be 2D at computation.\n"
     ]
    },
    {
     "name": "stdout",
     "output_type": "stream",
     "text": [
      "INFO:tensorflow:Optimization terminated with:\n",
      "  Message: b'CONVERGENCE: REL_REDUCTION_OF_F_<=_FACTR*EPSMCH'\n",
      "  Objective function value: 9828.074354\n",
      "  Number of iterations: 9\n",
      "  Number of functions evaluations: 10\n"
     ]
    },
    {
     "name": "stderr",
     "output_type": "stream",
     "text": [
      "INFO:tensorflow:Optimization terminated with:\n",
      "  Message: b'CONVERGENCE: REL_REDUCTION_OF_F_<=_FACTR*EPSMCH'\n",
      "  Objective function value: 9828.074354\n",
      "  Number of iterations: 9\n",
      "  Number of functions evaluations: 10\n",
      "/home/albert/miniconda3/envs/tectf/lib/python3.6/site-packages/tables-3.4.4-py3.6-linux-x86_64.egg/tables/file.py:767: DeprecationWarning: The use of uppercase keyword parameters is deprecated\n",
      "  \"deprecated\", DeprecationWarning)\n",
      "/home/albert/miniconda3/envs/tectf/lib/python3.6/site-packages/tables-3.4.4-py3.6-linux-x86_64.egg/tables/file.py:767: DeprecationWarning: The use of uppercase keyword parameters is deprecated\n",
      "  \"deprecated\", DeprecationWarning)\n",
      "ERROR:root:Reference possible only for phase, scalarphase, clock, tec, tec3rd, and rotation solution tables. Ignore referencing.\n",
      "/home/albert/miniconda3/envs/tectf/lib/python3.6/site-packages/gpflow-1.3.0-py3.6.egg/gpflow/_settings.py:67: DeprecationWarning: tf_int is deprecated and will be removed at GPflow version 1.2.0. Use int_type.\n",
      "  'version 1.2.0. Use int_type.', DeprecationWarning)\n",
      "/home/albert/miniconda3/envs/tectf/lib/python3.6/site-packages/gpflow-1.3.0-py3.6.egg/gpflow/_settings.py:61: DeprecationWarning: tf_float is deprecated and will be removed at GPflow version 1.2.0. Use float_type.\n",
      "  'version 1.2.0. Use float_type.', DeprecationWarning)\n",
      "/home/albert/miniconda3/envs/tectf/lib/python3.6/site-packages/gpflow-1.3.0-py3.6.egg/gpflow/logdensities.py:91: DeprecationWarning: The 'warn' method is deprecated, use 'warning' instead\n",
      "  logger.warn('Shape of x must be 2D at computation.')\n",
      "WARNING:gpflow.logdensities:Shape of x must be 2D at computation.\n"
     ]
    },
    {
     "name": "stdout",
     "output_type": "stream",
     "text": [
      "INFO:tensorflow:Optimization terminated with:\n",
      "  Message: b'CONVERGENCE: REL_REDUCTION_OF_F_<=_FACTR*EPSMCH'\n",
      "  Objective function value: 10023.368755\n",
      "  Number of iterations: 9\n",
      "  Number of functions evaluations: 10\n"
     ]
    },
    {
     "name": "stderr",
     "output_type": "stream",
     "text": [
      "INFO:tensorflow:Optimization terminated with:\n",
      "  Message: b'CONVERGENCE: REL_REDUCTION_OF_F_<=_FACTR*EPSMCH'\n",
      "  Objective function value: 10023.368755\n",
      "  Number of iterations: 9\n",
      "  Number of functions evaluations: 10\n",
      "/home/albert/miniconda3/envs/tectf/lib/python3.6/site-packages/tables-3.4.4-py3.6-linux-x86_64.egg/tables/file.py:767: DeprecationWarning: The use of uppercase keyword parameters is deprecated\n",
      "  \"deprecated\", DeprecationWarning)\n",
      "/home/albert/miniconda3/envs/tectf/lib/python3.6/site-packages/tables-3.4.4-py3.6-linux-x86_64.egg/tables/file.py:767: DeprecationWarning: The use of uppercase keyword parameters is deprecated\n",
      "  \"deprecated\", DeprecationWarning)\n",
      "ERROR:root:Reference possible only for phase, scalarphase, clock, tec, tec3rd, and rotation solution tables. Ignore referencing.\n",
      "/home/albert/miniconda3/envs/tectf/lib/python3.6/site-packages/gpflow-1.3.0-py3.6.egg/gpflow/_settings.py:67: DeprecationWarning: tf_int is deprecated and will be removed at GPflow version 1.2.0. Use int_type.\n",
      "  'version 1.2.0. Use int_type.', DeprecationWarning)\n",
      "/home/albert/miniconda3/envs/tectf/lib/python3.6/site-packages/gpflow-1.3.0-py3.6.egg/gpflow/_settings.py:61: DeprecationWarning: tf_float is deprecated and will be removed at GPflow version 1.2.0. Use float_type.\n",
      "  'version 1.2.0. Use float_type.', DeprecationWarning)\n",
      "/home/albert/miniconda3/envs/tectf/lib/python3.6/site-packages/gpflow-1.3.0-py3.6.egg/gpflow/logdensities.py:91: DeprecationWarning: The 'warn' method is deprecated, use 'warning' instead\n",
      "  logger.warn('Shape of x must be 2D at computation.')\n",
      "WARNING:gpflow.logdensities:Shape of x must be 2D at computation.\n"
     ]
    },
    {
     "name": "stdout",
     "output_type": "stream",
     "text": [
      "INFO:tensorflow:Optimization terminated with:\n",
      "  Message: b'CONVERGENCE: REL_REDUCTION_OF_F_<=_FACTR*EPSMCH'\n",
      "  Objective function value: 9841.546956\n",
      "  Number of iterations: 9\n",
      "  Number of functions evaluations: 10\n"
     ]
    },
    {
     "name": "stderr",
     "output_type": "stream",
     "text": [
      "INFO:tensorflow:Optimization terminated with:\n",
      "  Message: b'CONVERGENCE: REL_REDUCTION_OF_F_<=_FACTR*EPSMCH'\n",
      "  Objective function value: 9841.546956\n",
      "  Number of iterations: 9\n",
      "  Number of functions evaluations: 10\n",
      "/home/albert/miniconda3/envs/tectf/lib/python3.6/site-packages/tables-3.4.4-py3.6-linux-x86_64.egg/tables/file.py:767: DeprecationWarning: The use of uppercase keyword parameters is deprecated\n",
      "  \"deprecated\", DeprecationWarning)\n",
      "/home/albert/miniconda3/envs/tectf/lib/python3.6/site-packages/tables-3.4.4-py3.6-linux-x86_64.egg/tables/file.py:767: DeprecationWarning: The use of uppercase keyword parameters is deprecated\n",
      "  \"deprecated\", DeprecationWarning)\n",
      "ERROR:root:Reference possible only for phase, scalarphase, clock, tec, tec3rd, and rotation solution tables. Ignore referencing.\n",
      "/home/albert/miniconda3/envs/tectf/lib/python3.6/site-packages/gpflow-1.3.0-py3.6.egg/gpflow/_settings.py:67: DeprecationWarning: tf_int is deprecated and will be removed at GPflow version 1.2.0. Use int_type.\n",
      "  'version 1.2.0. Use int_type.', DeprecationWarning)\n",
      "/home/albert/miniconda3/envs/tectf/lib/python3.6/site-packages/gpflow-1.3.0-py3.6.egg/gpflow/_settings.py:61: DeprecationWarning: tf_float is deprecated and will be removed at GPflow version 1.2.0. Use float_type.\n",
      "  'version 1.2.0. Use float_type.', DeprecationWarning)\n",
      "/home/albert/miniconda3/envs/tectf/lib/python3.6/site-packages/gpflow-1.3.0-py3.6.egg/gpflow/logdensities.py:91: DeprecationWarning: The 'warn' method is deprecated, use 'warning' instead\n",
      "  logger.warn('Shape of x must be 2D at computation.')\n",
      "WARNING:gpflow.logdensities:Shape of x must be 2D at computation.\n"
     ]
    },
    {
     "name": "stdout",
     "output_type": "stream",
     "text": [
      "INFO:tensorflow:Optimization terminated with:\n",
      "  Message: b'CONVERGENCE: REL_REDUCTION_OF_F_<=_FACTR*EPSMCH'\n",
      "  Objective function value: 9924.950546\n",
      "  Number of iterations: 9\n",
      "  Number of functions evaluations: 10\n"
     ]
    },
    {
     "name": "stderr",
     "output_type": "stream",
     "text": [
      "INFO:tensorflow:Optimization terminated with:\n",
      "  Message: b'CONVERGENCE: REL_REDUCTION_OF_F_<=_FACTR*EPSMCH'\n",
      "  Objective function value: 9924.950546\n",
      "  Number of iterations: 9\n",
      "  Number of functions evaluations: 10\n",
      "/home/albert/miniconda3/envs/tectf/lib/python3.6/site-packages/tables-3.4.4-py3.6-linux-x86_64.egg/tables/file.py:767: DeprecationWarning: The use of uppercase keyword parameters is deprecated\n",
      "  \"deprecated\", DeprecationWarning)\n",
      "/home/albert/miniconda3/envs/tectf/lib/python3.6/site-packages/tables-3.4.4-py3.6-linux-x86_64.egg/tables/file.py:767: DeprecationWarning: The use of uppercase keyword parameters is deprecated\n",
      "  \"deprecated\", DeprecationWarning)\n",
      "ERROR:root:Reference possible only for phase, scalarphase, clock, tec, tec3rd, and rotation solution tables. Ignore referencing.\n",
      "/home/albert/miniconda3/envs/tectf/lib/python3.6/site-packages/gpflow-1.3.0-py3.6.egg/gpflow/_settings.py:67: DeprecationWarning: tf_int is deprecated and will be removed at GPflow version 1.2.0. Use int_type.\n",
      "  'version 1.2.0. Use int_type.', DeprecationWarning)\n",
      "/home/albert/miniconda3/envs/tectf/lib/python3.6/site-packages/gpflow-1.3.0-py3.6.egg/gpflow/_settings.py:61: DeprecationWarning: tf_float is deprecated and will be removed at GPflow version 1.2.0. Use float_type.\n",
      "  'version 1.2.0. Use float_type.', DeprecationWarning)\n",
      "/home/albert/miniconda3/envs/tectf/lib/python3.6/site-packages/gpflow-1.3.0-py3.6.egg/gpflow/logdensities.py:91: DeprecationWarning: The 'warn' method is deprecated, use 'warning' instead\n",
      "  logger.warn('Shape of x must be 2D at computation.')\n",
      "WARNING:gpflow.logdensities:Shape of x must be 2D at computation.\n"
     ]
    },
    {
     "name": "stdout",
     "output_type": "stream",
     "text": [
      "INFO:tensorflow:Optimization terminated with:\n",
      "  Message: b'CONVERGENCE: REL_REDUCTION_OF_F_<=_FACTR*EPSMCH'\n",
      "  Objective function value: 10266.223731\n",
      "  Number of iterations: 9\n",
      "  Number of functions evaluations: 10\n"
     ]
    },
    {
     "name": "stderr",
     "output_type": "stream",
     "text": [
      "INFO:tensorflow:Optimization terminated with:\n",
      "  Message: b'CONVERGENCE: REL_REDUCTION_OF_F_<=_FACTR*EPSMCH'\n",
      "  Objective function value: 10266.223731\n",
      "  Number of iterations: 9\n",
      "  Number of functions evaluations: 10\n",
      "/home/albert/miniconda3/envs/tectf/lib/python3.6/site-packages/tables-3.4.4-py3.6-linux-x86_64.egg/tables/file.py:767: DeprecationWarning: The use of uppercase keyword parameters is deprecated\n",
      "  \"deprecated\", DeprecationWarning)\n",
      "/home/albert/miniconda3/envs/tectf/lib/python3.6/site-packages/tables-3.4.4-py3.6-linux-x86_64.egg/tables/file.py:767: DeprecationWarning: The use of uppercase keyword parameters is deprecated\n",
      "  \"deprecated\", DeprecationWarning)\n",
      "ERROR:root:Reference possible only for phase, scalarphase, clock, tec, tec3rd, and rotation solution tables. Ignore referencing.\n",
      "/home/albert/miniconda3/envs/tectf/lib/python3.6/site-packages/gpflow-1.3.0-py3.6.egg/gpflow/_settings.py:67: DeprecationWarning: tf_int is deprecated and will be removed at GPflow version 1.2.0. Use int_type.\n",
      "  'version 1.2.0. Use int_type.', DeprecationWarning)\n",
      "/home/albert/miniconda3/envs/tectf/lib/python3.6/site-packages/gpflow-1.3.0-py3.6.egg/gpflow/_settings.py:61: DeprecationWarning: tf_float is deprecated and will be removed at GPflow version 1.2.0. Use float_type.\n",
      "  'version 1.2.0. Use float_type.', DeprecationWarning)\n",
      "/home/albert/miniconda3/envs/tectf/lib/python3.6/site-packages/gpflow-1.3.0-py3.6.egg/gpflow/logdensities.py:91: DeprecationWarning: The 'warn' method is deprecated, use 'warning' instead\n",
      "  logger.warn('Shape of x must be 2D at computation.')\n",
      "WARNING:gpflow.logdensities:Shape of x must be 2D at computation.\n"
     ]
    },
    {
     "name": "stdout",
     "output_type": "stream",
     "text": [
      "INFO:tensorflow:Optimization terminated with:\n",
      "  Message: b'CONVERGENCE: REL_REDUCTION_OF_F_<=_FACTR*EPSMCH'\n",
      "  Objective function value: 10422.835908\n",
      "  Number of iterations: 9\n",
      "  Number of functions evaluations: 10\n"
     ]
    },
    {
     "name": "stderr",
     "output_type": "stream",
     "text": [
      "INFO:tensorflow:Optimization terminated with:\n",
      "  Message: b'CONVERGENCE: REL_REDUCTION_OF_F_<=_FACTR*EPSMCH'\n",
      "  Objective function value: 10422.835908\n",
      "  Number of iterations: 9\n",
      "  Number of functions evaluations: 10\n",
      "/home/albert/miniconda3/envs/tectf/lib/python3.6/site-packages/tables-3.4.4-py3.6-linux-x86_64.egg/tables/file.py:767: DeprecationWarning: The use of uppercase keyword parameters is deprecated\n",
      "  \"deprecated\", DeprecationWarning)\n",
      "/home/albert/miniconda3/envs/tectf/lib/python3.6/site-packages/tables-3.4.4-py3.6-linux-x86_64.egg/tables/file.py:767: DeprecationWarning: The use of uppercase keyword parameters is deprecated\n",
      "  \"deprecated\", DeprecationWarning)\n",
      "ERROR:root:Reference possible only for phase, scalarphase, clock, tec, tec3rd, and rotation solution tables. Ignore referencing.\n",
      "/home/albert/miniconda3/envs/tectf/lib/python3.6/site-packages/gpflow-1.3.0-py3.6.egg/gpflow/_settings.py:67: DeprecationWarning: tf_int is deprecated and will be removed at GPflow version 1.2.0. Use int_type.\n",
      "  'version 1.2.0. Use int_type.', DeprecationWarning)\n",
      "/home/albert/miniconda3/envs/tectf/lib/python3.6/site-packages/gpflow-1.3.0-py3.6.egg/gpflow/_settings.py:61: DeprecationWarning: tf_float is deprecated and will be removed at GPflow version 1.2.0. Use float_type.\n",
      "  'version 1.2.0. Use float_type.', DeprecationWarning)\n",
      "/home/albert/miniconda3/envs/tectf/lib/python3.6/site-packages/gpflow-1.3.0-py3.6.egg/gpflow/logdensities.py:91: DeprecationWarning: The 'warn' method is deprecated, use 'warning' instead\n",
      "  logger.warn('Shape of x must be 2D at computation.')\n",
      "WARNING:gpflow.logdensities:Shape of x must be 2D at computation.\n"
     ]
    },
    {
     "name": "stdout",
     "output_type": "stream",
     "text": [
      "INFO:tensorflow:Optimization terminated with:\n",
      "  Message: b'CONVERGENCE: REL_REDUCTION_OF_F_<=_FACTR*EPSMCH'\n",
      "  Objective function value: 10398.831253\n",
      "  Number of iterations: 9\n",
      "  Number of functions evaluations: 10\n"
     ]
    },
    {
     "name": "stderr",
     "output_type": "stream",
     "text": [
      "INFO:tensorflow:Optimization terminated with:\n",
      "  Message: b'CONVERGENCE: REL_REDUCTION_OF_F_<=_FACTR*EPSMCH'\n",
      "  Objective function value: 10398.831253\n",
      "  Number of iterations: 9\n",
      "  Number of functions evaluations: 10\n",
      "/home/albert/miniconda3/envs/tectf/lib/python3.6/site-packages/tables-3.4.4-py3.6-linux-x86_64.egg/tables/file.py:767: DeprecationWarning: The use of uppercase keyword parameters is deprecated\n",
      "  \"deprecated\", DeprecationWarning)\n",
      "/home/albert/miniconda3/envs/tectf/lib/python3.6/site-packages/tables-3.4.4-py3.6-linux-x86_64.egg/tables/file.py:767: DeprecationWarning: The use of uppercase keyword parameters is deprecated\n",
      "  \"deprecated\", DeprecationWarning)\n",
      "ERROR:root:Reference possible only for phase, scalarphase, clock, tec, tec3rd, and rotation solution tables. Ignore referencing.\n",
      "/home/albert/miniconda3/envs/tectf/lib/python3.6/site-packages/gpflow-1.3.0-py3.6.egg/gpflow/_settings.py:67: DeprecationWarning: tf_int is deprecated and will be removed at GPflow version 1.2.0. Use int_type.\n",
      "  'version 1.2.0. Use int_type.', DeprecationWarning)\n",
      "/home/albert/miniconda3/envs/tectf/lib/python3.6/site-packages/gpflow-1.3.0-py3.6.egg/gpflow/_settings.py:61: DeprecationWarning: tf_float is deprecated and will be removed at GPflow version 1.2.0. Use float_type.\n",
      "  'version 1.2.0. Use float_type.', DeprecationWarning)\n",
      "/home/albert/miniconda3/envs/tectf/lib/python3.6/site-packages/gpflow-1.3.0-py3.6.egg/gpflow/logdensities.py:91: DeprecationWarning: The 'warn' method is deprecated, use 'warning' instead\n",
      "  logger.warn('Shape of x must be 2D at computation.')\n",
      "WARNING:gpflow.logdensities:Shape of x must be 2D at computation.\n"
     ]
    },
    {
     "name": "stdout",
     "output_type": "stream",
     "text": [
      "INFO:tensorflow:Optimization terminated with:\n",
      "  Message: b'CONVERGENCE: REL_REDUCTION_OF_F_<=_FACTR*EPSMCH'\n",
      "  Objective function value: 10580.315394\n",
      "  Number of iterations: 9\n",
      "  Number of functions evaluations: 10\n"
     ]
    },
    {
     "name": "stderr",
     "output_type": "stream",
     "text": [
      "INFO:tensorflow:Optimization terminated with:\n",
      "  Message: b'CONVERGENCE: REL_REDUCTION_OF_F_<=_FACTR*EPSMCH'\n",
      "  Objective function value: 10580.315394\n",
      "  Number of iterations: 9\n",
      "  Number of functions evaluations: 10\n",
      "/home/albert/miniconda3/envs/tectf/lib/python3.6/site-packages/tables-3.4.4-py3.6-linux-x86_64.egg/tables/file.py:767: DeprecationWarning: The use of uppercase keyword parameters is deprecated\n",
      "  \"deprecated\", DeprecationWarning)\n",
      "/home/albert/miniconda3/envs/tectf/lib/python3.6/site-packages/tables-3.4.4-py3.6-linux-x86_64.egg/tables/file.py:767: DeprecationWarning: The use of uppercase keyword parameters is deprecated\n",
      "  \"deprecated\", DeprecationWarning)\n",
      "ERROR:root:Reference possible only for phase, scalarphase, clock, tec, tec3rd, and rotation solution tables. Ignore referencing.\n",
      "/home/albert/miniconda3/envs/tectf/lib/python3.6/site-packages/gpflow-1.3.0-py3.6.egg/gpflow/_settings.py:67: DeprecationWarning: tf_int is deprecated and will be removed at GPflow version 1.2.0. Use int_type.\n",
      "  'version 1.2.0. Use int_type.', DeprecationWarning)\n",
      "/home/albert/miniconda3/envs/tectf/lib/python3.6/site-packages/gpflow-1.3.0-py3.6.egg/gpflow/_settings.py:61: DeprecationWarning: tf_float is deprecated and will be removed at GPflow version 1.2.0. Use float_type.\n",
      "  'version 1.2.0. Use float_type.', DeprecationWarning)\n",
      "/home/albert/miniconda3/envs/tectf/lib/python3.6/site-packages/gpflow-1.3.0-py3.6.egg/gpflow/logdensities.py:91: DeprecationWarning: The 'warn' method is deprecated, use 'warning' instead\n",
      "  logger.warn('Shape of x must be 2D at computation.')\n",
      "WARNING:gpflow.logdensities:Shape of x must be 2D at computation.\n"
     ]
    },
    {
     "name": "stdout",
     "output_type": "stream",
     "text": [
      "INFO:tensorflow:Optimization terminated with:\n",
      "  Message: b'CONVERGENCE: REL_REDUCTION_OF_F_<=_FACTR*EPSMCH'\n",
      "  Objective function value: 10315.452546\n",
      "  Number of iterations: 9\n",
      "  Number of functions evaluations: 10\n"
     ]
    },
    {
     "name": "stderr",
     "output_type": "stream",
     "text": [
      "INFO:tensorflow:Optimization terminated with:\n",
      "  Message: b'CONVERGENCE: REL_REDUCTION_OF_F_<=_FACTR*EPSMCH'\n",
      "  Objective function value: 10315.452546\n",
      "  Number of iterations: 9\n",
      "  Number of functions evaluations: 10\n",
      "/home/albert/miniconda3/envs/tectf/lib/python3.6/site-packages/tables-3.4.4-py3.6-linux-x86_64.egg/tables/file.py:767: DeprecationWarning: The use of uppercase keyword parameters is deprecated\n",
      "  \"deprecated\", DeprecationWarning)\n",
      "/home/albert/miniconda3/envs/tectf/lib/python3.6/site-packages/tables-3.4.4-py3.6-linux-x86_64.egg/tables/file.py:767: DeprecationWarning: The use of uppercase keyword parameters is deprecated\n",
      "  \"deprecated\", DeprecationWarning)\n",
      "ERROR:root:Reference possible only for phase, scalarphase, clock, tec, tec3rd, and rotation solution tables. Ignore referencing.\n",
      "/home/albert/miniconda3/envs/tectf/lib/python3.6/site-packages/gpflow-1.3.0-py3.6.egg/gpflow/_settings.py:67: DeprecationWarning: tf_int is deprecated and will be removed at GPflow version 1.2.0. Use int_type.\n",
      "  'version 1.2.0. Use int_type.', DeprecationWarning)\n",
      "/home/albert/miniconda3/envs/tectf/lib/python3.6/site-packages/gpflow-1.3.0-py3.6.egg/gpflow/_settings.py:61: DeprecationWarning: tf_float is deprecated and will be removed at GPflow version 1.2.0. Use float_type.\n",
      "  'version 1.2.0. Use float_type.', DeprecationWarning)\n",
      "/home/albert/miniconda3/envs/tectf/lib/python3.6/site-packages/gpflow-1.3.0-py3.6.egg/gpflow/logdensities.py:91: DeprecationWarning: The 'warn' method is deprecated, use 'warning' instead\n",
      "  logger.warn('Shape of x must be 2D at computation.')\n",
      "WARNING:gpflow.logdensities:Shape of x must be 2D at computation.\n"
     ]
    },
    {
     "name": "stdout",
     "output_type": "stream",
     "text": [
      "INFO:tensorflow:Optimization terminated with:\n",
      "  Message: b'CONVERGENCE: REL_REDUCTION_OF_F_<=_FACTR*EPSMCH'\n",
      "  Objective function value: 10927.911610\n",
      "  Number of iterations: 8\n",
      "  Number of functions evaluations: 9\n"
     ]
    },
    {
     "name": "stderr",
     "output_type": "stream",
     "text": [
      "INFO:tensorflow:Optimization terminated with:\n",
      "  Message: b'CONVERGENCE: REL_REDUCTION_OF_F_<=_FACTR*EPSMCH'\n",
      "  Objective function value: 10927.911610\n",
      "  Number of iterations: 8\n",
      "  Number of functions evaluations: 9\n",
      "/home/albert/miniconda3/envs/tectf/lib/python3.6/site-packages/tables-3.4.4-py3.6-linux-x86_64.egg/tables/file.py:767: DeprecationWarning: The use of uppercase keyword parameters is deprecated\n",
      "  \"deprecated\", DeprecationWarning)\n",
      "/home/albert/miniconda3/envs/tectf/lib/python3.6/site-packages/tables-3.4.4-py3.6-linux-x86_64.egg/tables/file.py:767: DeprecationWarning: The use of uppercase keyword parameters is deprecated\n",
      "  \"deprecated\", DeprecationWarning)\n",
      "ERROR:root:Reference possible only for phase, scalarphase, clock, tec, tec3rd, and rotation solution tables. Ignore referencing.\n",
      "/home/albert/miniconda3/envs/tectf/lib/python3.6/site-packages/gpflow-1.3.0-py3.6.egg/gpflow/_settings.py:67: DeprecationWarning: tf_int is deprecated and will be removed at GPflow version 1.2.0. Use int_type.\n",
      "  'version 1.2.0. Use int_type.', DeprecationWarning)\n",
      "/home/albert/miniconda3/envs/tectf/lib/python3.6/site-packages/gpflow-1.3.0-py3.6.egg/gpflow/_settings.py:61: DeprecationWarning: tf_float is deprecated and will be removed at GPflow version 1.2.0. Use float_type.\n",
      "  'version 1.2.0. Use float_type.', DeprecationWarning)\n",
      "/home/albert/miniconda3/envs/tectf/lib/python3.6/site-packages/gpflow-1.3.0-py3.6.egg/gpflow/logdensities.py:91: DeprecationWarning: The 'warn' method is deprecated, use 'warning' instead\n",
      "  logger.warn('Shape of x must be 2D at computation.')\n",
      "WARNING:gpflow.logdensities:Shape of x must be 2D at computation.\n"
     ]
    },
    {
     "name": "stdout",
     "output_type": "stream",
     "text": [
      "INFO:tensorflow:Optimization terminated with:\n",
      "  Message: b'CONVERGENCE: REL_REDUCTION_OF_F_<=_FACTR*EPSMCH'\n",
      "  Objective function value: 11574.853968\n",
      "  Number of iterations: 6\n",
      "  Number of functions evaluations: 7\n"
     ]
    },
    {
     "name": "stderr",
     "output_type": "stream",
     "text": [
      "INFO:tensorflow:Optimization terminated with:\n",
      "  Message: b'CONVERGENCE: REL_REDUCTION_OF_F_<=_FACTR*EPSMCH'\n",
      "  Objective function value: 11574.853968\n",
      "  Number of iterations: 6\n",
      "  Number of functions evaluations: 7\n",
      "/home/albert/miniconda3/envs/tectf/lib/python3.6/site-packages/tables-3.4.4-py3.6-linux-x86_64.egg/tables/file.py:767: DeprecationWarning: The use of uppercase keyword parameters is deprecated\n",
      "  \"deprecated\", DeprecationWarning)\n",
      "/home/albert/miniconda3/envs/tectf/lib/python3.6/site-packages/tables-3.4.4-py3.6-linux-x86_64.egg/tables/file.py:767: DeprecationWarning: The use of uppercase keyword parameters is deprecated\n",
      "  \"deprecated\", DeprecationWarning)\n",
      "ERROR:root:Reference possible only for phase, scalarphase, clock, tec, tec3rd, and rotation solution tables. Ignore referencing.\n",
      "/home/albert/miniconda3/envs/tectf/lib/python3.6/site-packages/gpflow-1.3.0-py3.6.egg/gpflow/_settings.py:67: DeprecationWarning: tf_int is deprecated and will be removed at GPflow version 1.2.0. Use int_type.\n",
      "  'version 1.2.0. Use int_type.', DeprecationWarning)\n",
      "/home/albert/miniconda3/envs/tectf/lib/python3.6/site-packages/gpflow-1.3.0-py3.6.egg/gpflow/_settings.py:61: DeprecationWarning: tf_float is deprecated and will be removed at GPflow version 1.2.0. Use float_type.\n",
      "  'version 1.2.0. Use float_type.', DeprecationWarning)\n",
      "/home/albert/miniconda3/envs/tectf/lib/python3.6/site-packages/gpflow-1.3.0-py3.6.egg/gpflow/logdensities.py:91: DeprecationWarning: The 'warn' method is deprecated, use 'warning' instead\n",
      "  logger.warn('Shape of x must be 2D at computation.')\n",
      "WARNING:gpflow.logdensities:Shape of x must be 2D at computation.\n"
     ]
    },
    {
     "name": "stdout",
     "output_type": "stream",
     "text": [
      "INFO:tensorflow:Optimization terminated with:\n",
      "  Message: b'CONVERGENCE: REL_REDUCTION_OF_F_<=_FACTR*EPSMCH'\n",
      "  Objective function value: 9314.682228\n",
      "  Number of iterations: 5\n",
      "  Number of functions evaluations: 7\n"
     ]
    },
    {
     "name": "stderr",
     "output_type": "stream",
     "text": [
      "INFO:tensorflow:Optimization terminated with:\n",
      "  Message: b'CONVERGENCE: REL_REDUCTION_OF_F_<=_FACTR*EPSMCH'\n",
      "  Objective function value: 9314.682228\n",
      "  Number of iterations: 5\n",
      "  Number of functions evaluations: 7\n",
      "/home/albert/miniconda3/envs/tectf/lib/python3.6/site-packages/tables-3.4.4-py3.6-linux-x86_64.egg/tables/file.py:767: DeprecationWarning: The use of uppercase keyword parameters is deprecated\n",
      "  \"deprecated\", DeprecationWarning)\n",
      "/home/albert/miniconda3/envs/tectf/lib/python3.6/site-packages/tables-3.4.4-py3.6-linux-x86_64.egg/tables/file.py:767: DeprecationWarning: The use of uppercase keyword parameters is deprecated\n",
      "  \"deprecated\", DeprecationWarning)\n",
      "ERROR:root:Reference possible only for phase, scalarphase, clock, tec, tec3rd, and rotation solution tables. Ignore referencing.\n",
      "/home/albert/miniconda3/envs/tectf/lib/python3.6/site-packages/gpflow-1.3.0-py3.6.egg/gpflow/_settings.py:67: DeprecationWarning: tf_int is deprecated and will be removed at GPflow version 1.2.0. Use int_type.\n",
      "  'version 1.2.0. Use int_type.', DeprecationWarning)\n",
      "/home/albert/miniconda3/envs/tectf/lib/python3.6/site-packages/gpflow-1.3.0-py3.6.egg/gpflow/_settings.py:61: DeprecationWarning: tf_float is deprecated and will be removed at GPflow version 1.2.0. Use float_type.\n",
      "  'version 1.2.0. Use float_type.', DeprecationWarning)\n",
      "/home/albert/miniconda3/envs/tectf/lib/python3.6/site-packages/gpflow-1.3.0-py3.6.egg/gpflow/logdensities.py:91: DeprecationWarning: The 'warn' method is deprecated, use 'warning' instead\n",
      "  logger.warn('Shape of x must be 2D at computation.')\n",
      "WARNING:gpflow.logdensities:Shape of x must be 2D at computation.\n"
     ]
    },
    {
     "name": "stdout",
     "output_type": "stream",
     "text": [
      "INFO:tensorflow:Optimization terminated with:\n",
      "  Message: b'CONVERGENCE: NORM_OF_PROJECTED_GRADIENT_<=_PGTOL'\n",
      "  Objective function value: 8249.808295\n",
      "  Number of iterations: 7\n",
      "  Number of functions evaluations: 8\n"
     ]
    },
    {
     "name": "stderr",
     "output_type": "stream",
     "text": [
      "INFO:tensorflow:Optimization terminated with:\n",
      "  Message: b'CONVERGENCE: NORM_OF_PROJECTED_GRADIENT_<=_PGTOL'\n",
      "  Objective function value: 8249.808295\n",
      "  Number of iterations: 7\n",
      "  Number of functions evaluations: 8\n",
      "/home/albert/miniconda3/envs/tectf/lib/python3.6/site-packages/tables-3.4.4-py3.6-linux-x86_64.egg/tables/file.py:767: DeprecationWarning: The use of uppercase keyword parameters is deprecated\n",
      "  \"deprecated\", DeprecationWarning)\n",
      "/home/albert/miniconda3/envs/tectf/lib/python3.6/site-packages/tables-3.4.4-py3.6-linux-x86_64.egg/tables/file.py:767: DeprecationWarning: The use of uppercase keyword parameters is deprecated\n",
      "  \"deprecated\", DeprecationWarning)\n",
      "ERROR:root:Reference possible only for phase, scalarphase, clock, tec, tec3rd, and rotation solution tables. Ignore referencing.\n",
      "/home/albert/miniconda3/envs/tectf/lib/python3.6/site-packages/gpflow-1.3.0-py3.6.egg/gpflow/_settings.py:67: DeprecationWarning: tf_int is deprecated and will be removed at GPflow version 1.2.0. Use int_type.\n",
      "  'version 1.2.0. Use int_type.', DeprecationWarning)\n",
      "/home/albert/miniconda3/envs/tectf/lib/python3.6/site-packages/gpflow-1.3.0-py3.6.egg/gpflow/_settings.py:61: DeprecationWarning: tf_float is deprecated and will be removed at GPflow version 1.2.0. Use float_type.\n",
      "  'version 1.2.0. Use float_type.', DeprecationWarning)\n",
      "/home/albert/miniconda3/envs/tectf/lib/python3.6/site-packages/gpflow-1.3.0-py3.6.egg/gpflow/logdensities.py:91: DeprecationWarning: The 'warn' method is deprecated, use 'warning' instead\n",
      "  logger.warn('Shape of x must be 2D at computation.')\n",
      "WARNING:gpflow.logdensities:Shape of x must be 2D at computation.\n"
     ]
    },
    {
     "name": "stdout",
     "output_type": "stream",
     "text": [
      "INFO:tensorflow:Optimization terminated with:\n",
      "  Message: b'CONVERGENCE: REL_REDUCTION_OF_F_<=_FACTR*EPSMCH'\n",
      "  Objective function value: 7242.586596\n",
      "  Number of iterations: 6\n",
      "  Number of functions evaluations: 7\n"
     ]
    },
    {
     "name": "stderr",
     "output_type": "stream",
     "text": [
      "INFO:tensorflow:Optimization terminated with:\n",
      "  Message: b'CONVERGENCE: REL_REDUCTION_OF_F_<=_FACTR*EPSMCH'\n",
      "  Objective function value: 7242.586596\n",
      "  Number of iterations: 6\n",
      "  Number of functions evaluations: 7\n",
      "/home/albert/miniconda3/envs/tectf/lib/python3.6/site-packages/tables-3.4.4-py3.6-linux-x86_64.egg/tables/file.py:767: DeprecationWarning: The use of uppercase keyword parameters is deprecated\n",
      "  \"deprecated\", DeprecationWarning)\n",
      "/home/albert/miniconda3/envs/tectf/lib/python3.6/site-packages/tables-3.4.4-py3.6-linux-x86_64.egg/tables/file.py:767: DeprecationWarning: The use of uppercase keyword parameters is deprecated\n",
      "  \"deprecated\", DeprecationWarning)\n",
      "ERROR:root:Reference possible only for phase, scalarphase, clock, tec, tec3rd, and rotation solution tables. Ignore referencing.\n",
      "/home/albert/miniconda3/envs/tectf/lib/python3.6/site-packages/gpflow-1.3.0-py3.6.egg/gpflow/_settings.py:67: DeprecationWarning: tf_int is deprecated and will be removed at GPflow version 1.2.0. Use int_type.\n",
      "  'version 1.2.0. Use int_type.', DeprecationWarning)\n",
      "/home/albert/miniconda3/envs/tectf/lib/python3.6/site-packages/gpflow-1.3.0-py3.6.egg/gpflow/_settings.py:61: DeprecationWarning: tf_float is deprecated and will be removed at GPflow version 1.2.0. Use float_type.\n",
      "  'version 1.2.0. Use float_type.', DeprecationWarning)\n",
      "/home/albert/miniconda3/envs/tectf/lib/python3.6/site-packages/gpflow-1.3.0-py3.6.egg/gpflow/logdensities.py:91: DeprecationWarning: The 'warn' method is deprecated, use 'warning' instead\n",
      "  logger.warn('Shape of x must be 2D at computation.')\n",
      "WARNING:gpflow.logdensities:Shape of x must be 2D at computation.\n"
     ]
    },
    {
     "name": "stdout",
     "output_type": "stream",
     "text": [
      "INFO:tensorflow:Optimization terminated with:\n",
      "  Message: b'CONVERGENCE: NORM_OF_PROJECTED_GRADIENT_<=_PGTOL'\n",
      "  Objective function value: 6431.794918\n",
      "  Number of iterations: 7\n",
      "  Number of functions evaluations: 8\n"
     ]
    },
    {
     "name": "stderr",
     "output_type": "stream",
     "text": [
      "INFO:tensorflow:Optimization terminated with:\n",
      "  Message: b'CONVERGENCE: NORM_OF_PROJECTED_GRADIENT_<=_PGTOL'\n",
      "  Objective function value: 6431.794918\n",
      "  Number of iterations: 7\n",
      "  Number of functions evaluations: 8\n",
      "/home/albert/miniconda3/envs/tectf/lib/python3.6/site-packages/tables-3.4.4-py3.6-linux-x86_64.egg/tables/file.py:767: DeprecationWarning: The use of uppercase keyword parameters is deprecated\n",
      "  \"deprecated\", DeprecationWarning)\n",
      "/home/albert/miniconda3/envs/tectf/lib/python3.6/site-packages/tables-3.4.4-py3.6-linux-x86_64.egg/tables/file.py:767: DeprecationWarning: The use of uppercase keyword parameters is deprecated\n",
      "  \"deprecated\", DeprecationWarning)\n",
      "ERROR:root:Reference possible only for phase, scalarphase, clock, tec, tec3rd, and rotation solution tables. Ignore referencing.\n",
      "/home/albert/miniconda3/envs/tectf/lib/python3.6/site-packages/gpflow-1.3.0-py3.6.egg/gpflow/_settings.py:67: DeprecationWarning: tf_int is deprecated and will be removed at GPflow version 1.2.0. Use int_type.\n",
      "  'version 1.2.0. Use int_type.', DeprecationWarning)\n",
      "/home/albert/miniconda3/envs/tectf/lib/python3.6/site-packages/gpflow-1.3.0-py3.6.egg/gpflow/_settings.py:61: DeprecationWarning: tf_float is deprecated and will be removed at GPflow version 1.2.0. Use float_type.\n",
      "  'version 1.2.0. Use float_type.', DeprecationWarning)\n",
      "/home/albert/miniconda3/envs/tectf/lib/python3.6/site-packages/gpflow-1.3.0-py3.6.egg/gpflow/logdensities.py:91: DeprecationWarning: The 'warn' method is deprecated, use 'warning' instead\n",
      "  logger.warn('Shape of x must be 2D at computation.')\n",
      "WARNING:gpflow.logdensities:Shape of x must be 2D at computation.\n"
     ]
    },
    {
     "name": "stdout",
     "output_type": "stream",
     "text": [
      "INFO:tensorflow:Optimization terminated with:\n",
      "  Message: b'CONVERGENCE: REL_REDUCTION_OF_F_<=_FACTR*EPSMCH'\n",
      "  Objective function value: 5741.516662\n",
      "  Number of iterations: 8\n",
      "  Number of functions evaluations: 9\n"
     ]
    },
    {
     "name": "stderr",
     "output_type": "stream",
     "text": [
      "INFO:tensorflow:Optimization terminated with:\n",
      "  Message: b'CONVERGENCE: REL_REDUCTION_OF_F_<=_FACTR*EPSMCH'\n",
      "  Objective function value: 5741.516662\n",
      "  Number of iterations: 8\n",
      "  Number of functions evaluations: 9\n",
      "/home/albert/miniconda3/envs/tectf/lib/python3.6/site-packages/tables-3.4.4-py3.6-linux-x86_64.egg/tables/file.py:767: DeprecationWarning: The use of uppercase keyword parameters is deprecated\n",
      "  \"deprecated\", DeprecationWarning)\n",
      "/home/albert/miniconda3/envs/tectf/lib/python3.6/site-packages/tables-3.4.4-py3.6-linux-x86_64.egg/tables/file.py:767: DeprecationWarning: The use of uppercase keyword parameters is deprecated\n",
      "  \"deprecated\", DeprecationWarning)\n",
      "ERROR:root:Reference possible only for phase, scalarphase, clock, tec, tec3rd, and rotation solution tables. Ignore referencing.\n",
      "/home/albert/miniconda3/envs/tectf/lib/python3.6/site-packages/gpflow-1.3.0-py3.6.egg/gpflow/_settings.py:67: DeprecationWarning: tf_int is deprecated and will be removed at GPflow version 1.2.0. Use int_type.\n",
      "  'version 1.2.0. Use int_type.', DeprecationWarning)\n",
      "/home/albert/miniconda3/envs/tectf/lib/python3.6/site-packages/gpflow-1.3.0-py3.6.egg/gpflow/_settings.py:61: DeprecationWarning: tf_float is deprecated and will be removed at GPflow version 1.2.0. Use float_type.\n",
      "  'version 1.2.0. Use float_type.', DeprecationWarning)\n",
      "/home/albert/miniconda3/envs/tectf/lib/python3.6/site-packages/gpflow-1.3.0-py3.6.egg/gpflow/logdensities.py:91: DeprecationWarning: The 'warn' method is deprecated, use 'warning' instead\n",
      "  logger.warn('Shape of x must be 2D at computation.')\n",
      "WARNING:gpflow.logdensities:Shape of x must be 2D at computation.\n"
     ]
    },
    {
     "name": "stdout",
     "output_type": "stream",
     "text": [
      "INFO:tensorflow:Optimization terminated with:\n",
      "  Message: b'CONVERGENCE: REL_REDUCTION_OF_F_<=_FACTR*EPSMCH'\n",
      "  Objective function value: 5670.711266\n",
      "  Number of iterations: 11\n",
      "  Number of functions evaluations: 12\n"
     ]
    },
    {
     "name": "stderr",
     "output_type": "stream",
     "text": [
      "INFO:tensorflow:Optimization terminated with:\n",
      "  Message: b'CONVERGENCE: REL_REDUCTION_OF_F_<=_FACTR*EPSMCH'\n",
      "  Objective function value: 5670.711266\n",
      "  Number of iterations: 11\n",
      "  Number of functions evaluations: 12\n",
      "/home/albert/miniconda3/envs/tectf/lib/python3.6/site-packages/tables-3.4.4-py3.6-linux-x86_64.egg/tables/file.py:767: DeprecationWarning: The use of uppercase keyword parameters is deprecated\n",
      "  \"deprecated\", DeprecationWarning)\n",
      "/home/albert/miniconda3/envs/tectf/lib/python3.6/site-packages/tables-3.4.4-py3.6-linux-x86_64.egg/tables/file.py:767: DeprecationWarning: The use of uppercase keyword parameters is deprecated\n",
      "  \"deprecated\", DeprecationWarning)\n",
      "ERROR:root:Reference possible only for phase, scalarphase, clock, tec, tec3rd, and rotation solution tables. Ignore referencing.\n",
      "/home/albert/miniconda3/envs/tectf/lib/python3.6/site-packages/gpflow-1.3.0-py3.6.egg/gpflow/_settings.py:67: DeprecationWarning: tf_int is deprecated and will be removed at GPflow version 1.2.0. Use int_type.\n",
      "  'version 1.2.0. Use int_type.', DeprecationWarning)\n",
      "/home/albert/miniconda3/envs/tectf/lib/python3.6/site-packages/gpflow-1.3.0-py3.6.egg/gpflow/_settings.py:61: DeprecationWarning: tf_float is deprecated and will be removed at GPflow version 1.2.0. Use float_type.\n",
      "  'version 1.2.0. Use float_type.', DeprecationWarning)\n",
      "/home/albert/miniconda3/envs/tectf/lib/python3.6/site-packages/gpflow-1.3.0-py3.6.egg/gpflow/logdensities.py:91: DeprecationWarning: The 'warn' method is deprecated, use 'warning' instead\n",
      "  logger.warn('Shape of x must be 2D at computation.')\n",
      "WARNING:gpflow.logdensities:Shape of x must be 2D at computation.\n"
     ]
    },
    {
     "name": "stdout",
     "output_type": "stream",
     "text": [
      "INFO:tensorflow:Optimization terminated with:\n",
      "  Message: b'CONVERGENCE: REL_REDUCTION_OF_F_<=_FACTR*EPSMCH'\n",
      "  Objective function value: 6332.030947\n",
      "  Number of iterations: 8\n",
      "  Number of functions evaluations: 9\n"
     ]
    },
    {
     "name": "stderr",
     "output_type": "stream",
     "text": [
      "INFO:tensorflow:Optimization terminated with:\n",
      "  Message: b'CONVERGENCE: REL_REDUCTION_OF_F_<=_FACTR*EPSMCH'\n",
      "  Objective function value: 6332.030947\n",
      "  Number of iterations: 8\n",
      "  Number of functions evaluations: 9\n",
      "/home/albert/miniconda3/envs/tectf/lib/python3.6/site-packages/tables-3.4.4-py3.6-linux-x86_64.egg/tables/file.py:767: DeprecationWarning: The use of uppercase keyword parameters is deprecated\n",
      "  \"deprecated\", DeprecationWarning)\n",
      "/home/albert/miniconda3/envs/tectf/lib/python3.6/site-packages/tables-3.4.4-py3.6-linux-x86_64.egg/tables/file.py:767: DeprecationWarning: The use of uppercase keyword parameters is deprecated\n",
      "  \"deprecated\", DeprecationWarning)\n",
      "ERROR:root:Reference possible only for phase, scalarphase, clock, tec, tec3rd, and rotation solution tables. Ignore referencing.\n",
      "/home/albert/miniconda3/envs/tectf/lib/python3.6/site-packages/gpflow-1.3.0-py3.6.egg/gpflow/_settings.py:67: DeprecationWarning: tf_int is deprecated and will be removed at GPflow version 1.2.0. Use int_type.\n",
      "  'version 1.2.0. Use int_type.', DeprecationWarning)\n",
      "/home/albert/miniconda3/envs/tectf/lib/python3.6/site-packages/gpflow-1.3.0-py3.6.egg/gpflow/_settings.py:61: DeprecationWarning: tf_float is deprecated and will be removed at GPflow version 1.2.0. Use float_type.\n",
      "  'version 1.2.0. Use float_type.', DeprecationWarning)\n",
      "/home/albert/miniconda3/envs/tectf/lib/python3.6/site-packages/gpflow-1.3.0-py3.6.egg/gpflow/logdensities.py:91: DeprecationWarning: The 'warn' method is deprecated, use 'warning' instead\n",
      "  logger.warn('Shape of x must be 2D at computation.')\n",
      "WARNING:gpflow.logdensities:Shape of x must be 2D at computation.\n"
     ]
    },
    {
     "name": "stdout",
     "output_type": "stream",
     "text": [
      "INFO:tensorflow:Optimization terminated with:\n",
      "  Message: b'CONVERGENCE: REL_REDUCTION_OF_F_<=_FACTR*EPSMCH'\n",
      "  Objective function value: 1813.287085\n",
      "  Number of iterations: 14\n",
      "  Number of functions evaluations: 15\n"
     ]
    },
    {
     "name": "stderr",
     "output_type": "stream",
     "text": [
      "INFO:tensorflow:Optimization terminated with:\n",
      "  Message: b'CONVERGENCE: REL_REDUCTION_OF_F_<=_FACTR*EPSMCH'\n",
      "  Objective function value: 1813.287085\n",
      "  Number of iterations: 14\n",
      "  Number of functions evaluations: 15\n",
      "/home/albert/miniconda3/envs/tectf/lib/python3.6/site-packages/tables-3.4.4-py3.6-linux-x86_64.egg/tables/file.py:767: DeprecationWarning: The use of uppercase keyword parameters is deprecated\n",
      "  \"deprecated\", DeprecationWarning)\n",
      "/home/albert/miniconda3/envs/tectf/lib/python3.6/site-packages/tables-3.4.4-py3.6-linux-x86_64.egg/tables/file.py:767: DeprecationWarning: The use of uppercase keyword parameters is deprecated\n",
      "  \"deprecated\", DeprecationWarning)\n",
      "ERROR:root:Reference possible only for phase, scalarphase, clock, tec, tec3rd, and rotation solution tables. Ignore referencing.\n",
      "/home/albert/miniconda3/envs/tectf/lib/python3.6/site-packages/gpflow-1.3.0-py3.6.egg/gpflow/_settings.py:67: DeprecationWarning: tf_int is deprecated and will be removed at GPflow version 1.2.0. Use int_type.\n",
      "  'version 1.2.0. Use int_type.', DeprecationWarning)\n",
      "/home/albert/miniconda3/envs/tectf/lib/python3.6/site-packages/gpflow-1.3.0-py3.6.egg/gpflow/_settings.py:61: DeprecationWarning: tf_float is deprecated and will be removed at GPflow version 1.2.0. Use float_type.\n",
      "  'version 1.2.0. Use float_type.', DeprecationWarning)\n",
      "/home/albert/miniconda3/envs/tectf/lib/python3.6/site-packages/gpflow-1.3.0-py3.6.egg/gpflow/logdensities.py:91: DeprecationWarning: The 'warn' method is deprecated, use 'warning' instead\n",
      "  logger.warn('Shape of x must be 2D at computation.')\n",
      "WARNING:gpflow.logdensities:Shape of x must be 2D at computation.\n"
     ]
    },
    {
     "name": "stdout",
     "output_type": "stream",
     "text": [
      "INFO:tensorflow:Optimization terminated with:\n",
      "  Message: b'CONVERGENCE: REL_REDUCTION_OF_F_<=_FACTR*EPSMCH'\n",
      "  Objective function value: 3507.858932\n",
      "  Number of iterations: 11\n",
      "  Number of functions evaluations: 12\n"
     ]
    },
    {
     "name": "stderr",
     "output_type": "stream",
     "text": [
      "INFO:tensorflow:Optimization terminated with:\n",
      "  Message: b'CONVERGENCE: REL_REDUCTION_OF_F_<=_FACTR*EPSMCH'\n",
      "  Objective function value: 3507.858932\n",
      "  Number of iterations: 11\n",
      "  Number of functions evaluations: 12\n",
      "/home/albert/miniconda3/envs/tectf/lib/python3.6/site-packages/tables-3.4.4-py3.6-linux-x86_64.egg/tables/file.py:767: DeprecationWarning: The use of uppercase keyword parameters is deprecated\n",
      "  \"deprecated\", DeprecationWarning)\n",
      "/home/albert/miniconda3/envs/tectf/lib/python3.6/site-packages/tables-3.4.4-py3.6-linux-x86_64.egg/tables/file.py:767: DeprecationWarning: The use of uppercase keyword parameters is deprecated\n",
      "  \"deprecated\", DeprecationWarning)\n",
      "ERROR:root:Reference possible only for phase, scalarphase, clock, tec, tec3rd, and rotation solution tables. Ignore referencing.\n",
      "/home/albert/miniconda3/envs/tectf/lib/python3.6/site-packages/gpflow-1.3.0-py3.6.egg/gpflow/_settings.py:67: DeprecationWarning: tf_int is deprecated and will be removed at GPflow version 1.2.0. Use int_type.\n",
      "  'version 1.2.0. Use int_type.', DeprecationWarning)\n",
      "/home/albert/miniconda3/envs/tectf/lib/python3.6/site-packages/gpflow-1.3.0-py3.6.egg/gpflow/_settings.py:61: DeprecationWarning: tf_float is deprecated and will be removed at GPflow version 1.2.0. Use float_type.\n",
      "  'version 1.2.0. Use float_type.', DeprecationWarning)\n",
      "/home/albert/miniconda3/envs/tectf/lib/python3.6/site-packages/gpflow-1.3.0-py3.6.egg/gpflow/logdensities.py:91: DeprecationWarning: The 'warn' method is deprecated, use 'warning' instead\n",
      "  logger.warn('Shape of x must be 2D at computation.')\n",
      "WARNING:gpflow.logdensities:Shape of x must be 2D at computation.\n"
     ]
    },
    {
     "name": "stdout",
     "output_type": "stream",
     "text": [
      "INFO:tensorflow:Optimization terminated with:\n",
      "  Message: b'CONVERGENCE: REL_REDUCTION_OF_F_<=_FACTR*EPSMCH'\n",
      "  Objective function value: 4598.954691\n",
      "  Number of iterations: 10\n",
      "  Number of functions evaluations: 11\n"
     ]
    },
    {
     "name": "stderr",
     "output_type": "stream",
     "text": [
      "INFO:tensorflow:Optimization terminated with:\n",
      "  Message: b'CONVERGENCE: REL_REDUCTION_OF_F_<=_FACTR*EPSMCH'\n",
      "  Objective function value: 4598.954691\n",
      "  Number of iterations: 10\n",
      "  Number of functions evaluations: 11\n",
      "/home/albert/miniconda3/envs/tectf/lib/python3.6/site-packages/tables-3.4.4-py3.6-linux-x86_64.egg/tables/file.py:767: DeprecationWarning: The use of uppercase keyword parameters is deprecated\n",
      "  \"deprecated\", DeprecationWarning)\n",
      "/home/albert/miniconda3/envs/tectf/lib/python3.6/site-packages/tables-3.4.4-py3.6-linux-x86_64.egg/tables/file.py:767: DeprecationWarning: The use of uppercase keyword parameters is deprecated\n",
      "  \"deprecated\", DeprecationWarning)\n",
      "ERROR:root:Reference possible only for phase, scalarphase, clock, tec, tec3rd, and rotation solution tables. Ignore referencing.\n",
      "/home/albert/miniconda3/envs/tectf/lib/python3.6/site-packages/gpflow-1.3.0-py3.6.egg/gpflow/_settings.py:67: DeprecationWarning: tf_int is deprecated and will be removed at GPflow version 1.2.0. Use int_type.\n",
      "  'version 1.2.0. Use int_type.', DeprecationWarning)\n",
      "/home/albert/miniconda3/envs/tectf/lib/python3.6/site-packages/gpflow-1.3.0-py3.6.egg/gpflow/_settings.py:61: DeprecationWarning: tf_float is deprecated and will be removed at GPflow version 1.2.0. Use float_type.\n",
      "  'version 1.2.0. Use float_type.', DeprecationWarning)\n",
      "/home/albert/miniconda3/envs/tectf/lib/python3.6/site-packages/gpflow-1.3.0-py3.6.egg/gpflow/logdensities.py:91: DeprecationWarning: The 'warn' method is deprecated, use 'warning' instead\n",
      "  logger.warn('Shape of x must be 2D at computation.')\n",
      "WARNING:gpflow.logdensities:Shape of x must be 2D at computation.\n"
     ]
    },
    {
     "name": "stdout",
     "output_type": "stream",
     "text": [
      "INFO:tensorflow:Optimization terminated with:\n",
      "  Message: b'CONVERGENCE: REL_REDUCTION_OF_F_<=_FACTR*EPSMCH'\n",
      "  Objective function value: 5163.336730\n",
      "  Number of iterations: 9\n",
      "  Number of functions evaluations: 10\n"
     ]
    },
    {
     "name": "stderr",
     "output_type": "stream",
     "text": [
      "INFO:tensorflow:Optimization terminated with:\n",
      "  Message: b'CONVERGENCE: REL_REDUCTION_OF_F_<=_FACTR*EPSMCH'\n",
      "  Objective function value: 5163.336730\n",
      "  Number of iterations: 9\n",
      "  Number of functions evaluations: 10\n",
      "/home/albert/miniconda3/envs/tectf/lib/python3.6/site-packages/tables-3.4.4-py3.6-linux-x86_64.egg/tables/file.py:767: DeprecationWarning: The use of uppercase keyword parameters is deprecated\n",
      "  \"deprecated\", DeprecationWarning)\n",
      "/home/albert/miniconda3/envs/tectf/lib/python3.6/site-packages/tables-3.4.4-py3.6-linux-x86_64.egg/tables/file.py:767: DeprecationWarning: The use of uppercase keyword parameters is deprecated\n",
      "  \"deprecated\", DeprecationWarning)\n",
      "ERROR:root:Reference possible only for phase, scalarphase, clock, tec, tec3rd, and rotation solution tables. Ignore referencing.\n",
      "/home/albert/miniconda3/envs/tectf/lib/python3.6/site-packages/gpflow-1.3.0-py3.6.egg/gpflow/_settings.py:67: DeprecationWarning: tf_int is deprecated and will be removed at GPflow version 1.2.0. Use int_type.\n",
      "  'version 1.2.0. Use int_type.', DeprecationWarning)\n",
      "/home/albert/miniconda3/envs/tectf/lib/python3.6/site-packages/gpflow-1.3.0-py3.6.egg/gpflow/_settings.py:61: DeprecationWarning: tf_float is deprecated and will be removed at GPflow version 1.2.0. Use float_type.\n",
      "  'version 1.2.0. Use float_type.', DeprecationWarning)\n",
      "/home/albert/miniconda3/envs/tectf/lib/python3.6/site-packages/gpflow-1.3.0-py3.6.egg/gpflow/logdensities.py:91: DeprecationWarning: The 'warn' method is deprecated, use 'warning' instead\n",
      "  logger.warn('Shape of x must be 2D at computation.')\n",
      "WARNING:gpflow.logdensities:Shape of x must be 2D at computation.\n"
     ]
    },
    {
     "name": "stdout",
     "output_type": "stream",
     "text": [
      "INFO:tensorflow:Optimization terminated with:\n",
      "  Message: b'CONVERGENCE: REL_REDUCTION_OF_F_<=_FACTR*EPSMCH'\n",
      "  Objective function value: 4686.411797\n",
      "  Number of iterations: 9\n",
      "  Number of functions evaluations: 10\n"
     ]
    },
    {
     "name": "stderr",
     "output_type": "stream",
     "text": [
      "INFO:tensorflow:Optimization terminated with:\n",
      "  Message: b'CONVERGENCE: REL_REDUCTION_OF_F_<=_FACTR*EPSMCH'\n",
      "  Objective function value: 4686.411797\n",
      "  Number of iterations: 9\n",
      "  Number of functions evaluations: 10\n",
      "/home/albert/miniconda3/envs/tectf/lib/python3.6/site-packages/tables-3.4.4-py3.6-linux-x86_64.egg/tables/file.py:767: DeprecationWarning: The use of uppercase keyword parameters is deprecated\n",
      "  \"deprecated\", DeprecationWarning)\n",
      "/home/albert/miniconda3/envs/tectf/lib/python3.6/site-packages/tables-3.4.4-py3.6-linux-x86_64.egg/tables/file.py:767: DeprecationWarning: The use of uppercase keyword parameters is deprecated\n",
      "  \"deprecated\", DeprecationWarning)\n",
      "ERROR:root:Reference possible only for phase, scalarphase, clock, tec, tec3rd, and rotation solution tables. Ignore referencing.\n",
      "/home/albert/miniconda3/envs/tectf/lib/python3.6/site-packages/gpflow-1.3.0-py3.6.egg/gpflow/_settings.py:67: DeprecationWarning: tf_int is deprecated and will be removed at GPflow version 1.2.0. Use int_type.\n",
      "  'version 1.2.0. Use int_type.', DeprecationWarning)\n",
      "/home/albert/miniconda3/envs/tectf/lib/python3.6/site-packages/gpflow-1.3.0-py3.6.egg/gpflow/_settings.py:61: DeprecationWarning: tf_float is deprecated and will be removed at GPflow version 1.2.0. Use float_type.\n",
      "  'version 1.2.0. Use float_type.', DeprecationWarning)\n",
      "/home/albert/miniconda3/envs/tectf/lib/python3.6/site-packages/gpflow-1.3.0-py3.6.egg/gpflow/logdensities.py:91: DeprecationWarning: The 'warn' method is deprecated, use 'warning' instead\n",
      "  logger.warn('Shape of x must be 2D at computation.')\n",
      "WARNING:gpflow.logdensities:Shape of x must be 2D at computation.\n"
     ]
    },
    {
     "name": "stdout",
     "output_type": "stream",
     "text": [
      "INFO:tensorflow:Optimization terminated with:\n",
      "  Message: b'CONVERGENCE: REL_REDUCTION_OF_F_<=_FACTR*EPSMCH'\n",
      "  Objective function value: 4819.757985\n",
      "  Number of iterations: 9\n",
      "  Number of functions evaluations: 10\n"
     ]
    },
    {
     "name": "stderr",
     "output_type": "stream",
     "text": [
      "INFO:tensorflow:Optimization terminated with:\n",
      "  Message: b'CONVERGENCE: REL_REDUCTION_OF_F_<=_FACTR*EPSMCH'\n",
      "  Objective function value: 4819.757985\n",
      "  Number of iterations: 9\n",
      "  Number of functions evaluations: 10\n",
      "/home/albert/miniconda3/envs/tectf/lib/python3.6/site-packages/tables-3.4.4-py3.6-linux-x86_64.egg/tables/file.py:767: DeprecationWarning: The use of uppercase keyword parameters is deprecated\n",
      "  \"deprecated\", DeprecationWarning)\n",
      "/home/albert/miniconda3/envs/tectf/lib/python3.6/site-packages/tables-3.4.4-py3.6-linux-x86_64.egg/tables/file.py:767: DeprecationWarning: The use of uppercase keyword parameters is deprecated\n",
      "  \"deprecated\", DeprecationWarning)\n",
      "ERROR:root:Reference possible only for phase, scalarphase, clock, tec, tec3rd, and rotation solution tables. Ignore referencing.\n",
      "/home/albert/miniconda3/envs/tectf/lib/python3.6/site-packages/gpflow-1.3.0-py3.6.egg/gpflow/_settings.py:67: DeprecationWarning: tf_int is deprecated and will be removed at GPflow version 1.2.0. Use int_type.\n",
      "  'version 1.2.0. Use int_type.', DeprecationWarning)\n",
      "/home/albert/miniconda3/envs/tectf/lib/python3.6/site-packages/gpflow-1.3.0-py3.6.egg/gpflow/_settings.py:61: DeprecationWarning: tf_float is deprecated and will be removed at GPflow version 1.2.0. Use float_type.\n",
      "  'version 1.2.0. Use float_type.', DeprecationWarning)\n",
      "/home/albert/miniconda3/envs/tectf/lib/python3.6/site-packages/gpflow-1.3.0-py3.6.egg/gpflow/logdensities.py:91: DeprecationWarning: The 'warn' method is deprecated, use 'warning' instead\n",
      "  logger.warn('Shape of x must be 2D at computation.')\n",
      "WARNING:gpflow.logdensities:Shape of x must be 2D at computation.\n"
     ]
    },
    {
     "name": "stdout",
     "output_type": "stream",
     "text": [
      "INFO:tensorflow:Optimization terminated with:\n",
      "  Message: b'CONVERGENCE: REL_REDUCTION_OF_F_<=_FACTR*EPSMCH'\n",
      "  Objective function value: 5360.523885\n",
      "  Number of iterations: 8\n",
      "  Number of functions evaluations: 9\n"
     ]
    },
    {
     "name": "stderr",
     "output_type": "stream",
     "text": [
      "INFO:tensorflow:Optimization terminated with:\n",
      "  Message: b'CONVERGENCE: REL_REDUCTION_OF_F_<=_FACTR*EPSMCH'\n",
      "  Objective function value: 5360.523885\n",
      "  Number of iterations: 8\n",
      "  Number of functions evaluations: 9\n",
      "/home/albert/miniconda3/envs/tectf/lib/python3.6/site-packages/tables-3.4.4-py3.6-linux-x86_64.egg/tables/file.py:767: DeprecationWarning: The use of uppercase keyword parameters is deprecated\n",
      "  \"deprecated\", DeprecationWarning)\n",
      "/home/albert/miniconda3/envs/tectf/lib/python3.6/site-packages/tables-3.4.4-py3.6-linux-x86_64.egg/tables/file.py:767: DeprecationWarning: The use of uppercase keyword parameters is deprecated\n",
      "  \"deprecated\", DeprecationWarning)\n",
      "ERROR:root:Reference possible only for phase, scalarphase, clock, tec, tec3rd, and rotation solution tables. Ignore referencing.\n",
      "/home/albert/miniconda3/envs/tectf/lib/python3.6/site-packages/gpflow-1.3.0-py3.6.egg/gpflow/_settings.py:67: DeprecationWarning: tf_int is deprecated and will be removed at GPflow version 1.2.0. Use int_type.\n",
      "  'version 1.2.0. Use int_type.', DeprecationWarning)\n",
      "/home/albert/miniconda3/envs/tectf/lib/python3.6/site-packages/gpflow-1.3.0-py3.6.egg/gpflow/_settings.py:61: DeprecationWarning: tf_float is deprecated and will be removed at GPflow version 1.2.0. Use float_type.\n",
      "  'version 1.2.0. Use float_type.', DeprecationWarning)\n",
      "/home/albert/miniconda3/envs/tectf/lib/python3.6/site-packages/gpflow-1.3.0-py3.6.egg/gpflow/logdensities.py:91: DeprecationWarning: The 'warn' method is deprecated, use 'warning' instead\n",
      "  logger.warn('Shape of x must be 2D at computation.')\n",
      "WARNING:gpflow.logdensities:Shape of x must be 2D at computation.\n"
     ]
    },
    {
     "name": "stdout",
     "output_type": "stream",
     "text": [
      "INFO:tensorflow:Optimization terminated with:\n",
      "  Message: b'CONVERGENCE: REL_REDUCTION_OF_F_<=_FACTR*EPSMCH'\n",
      "  Objective function value: 6248.353863\n",
      "  Number of iterations: 8\n",
      "  Number of functions evaluations: 9\n"
     ]
    },
    {
     "name": "stderr",
     "output_type": "stream",
     "text": [
      "INFO:tensorflow:Optimization terminated with:\n",
      "  Message: b'CONVERGENCE: REL_REDUCTION_OF_F_<=_FACTR*EPSMCH'\n",
      "  Objective function value: 6248.353863\n",
      "  Number of iterations: 8\n",
      "  Number of functions evaluations: 9\n",
      "/home/albert/miniconda3/envs/tectf/lib/python3.6/site-packages/tables-3.4.4-py3.6-linux-x86_64.egg/tables/file.py:767: DeprecationWarning: The use of uppercase keyword parameters is deprecated\n",
      "  \"deprecated\", DeprecationWarning)\n",
      "/home/albert/miniconda3/envs/tectf/lib/python3.6/site-packages/tables-3.4.4-py3.6-linux-x86_64.egg/tables/file.py:767: DeprecationWarning: The use of uppercase keyword parameters is deprecated\n",
      "  \"deprecated\", DeprecationWarning)\n",
      "ERROR:root:Reference possible only for phase, scalarphase, clock, tec, tec3rd, and rotation solution tables. Ignore referencing.\n",
      "/home/albert/miniconda3/envs/tectf/lib/python3.6/site-packages/gpflow-1.3.0-py3.6.egg/gpflow/_settings.py:67: DeprecationWarning: tf_int is deprecated and will be removed at GPflow version 1.2.0. Use int_type.\n",
      "  'version 1.2.0. Use int_type.', DeprecationWarning)\n",
      "/home/albert/miniconda3/envs/tectf/lib/python3.6/site-packages/gpflow-1.3.0-py3.6.egg/gpflow/_settings.py:61: DeprecationWarning: tf_float is deprecated and will be removed at GPflow version 1.2.0. Use float_type.\n",
      "  'version 1.2.0. Use float_type.', DeprecationWarning)\n",
      "/home/albert/miniconda3/envs/tectf/lib/python3.6/site-packages/gpflow-1.3.0-py3.6.egg/gpflow/logdensities.py:91: DeprecationWarning: The 'warn' method is deprecated, use 'warning' instead\n",
      "  logger.warn('Shape of x must be 2D at computation.')\n",
      "WARNING:gpflow.logdensities:Shape of x must be 2D at computation.\n"
     ]
    },
    {
     "name": "stdout",
     "output_type": "stream",
     "text": [
      "INFO:tensorflow:Optimization terminated with:\n",
      "  Message: b'CONVERGENCE: REL_REDUCTION_OF_F_<=_FACTR*EPSMCH'\n",
      "  Objective function value: 6229.819961\n",
      "  Number of iterations: 8\n",
      "  Number of functions evaluations: 9\n"
     ]
    },
    {
     "name": "stderr",
     "output_type": "stream",
     "text": [
      "INFO:tensorflow:Optimization terminated with:\n",
      "  Message: b'CONVERGENCE: REL_REDUCTION_OF_F_<=_FACTR*EPSMCH'\n",
      "  Objective function value: 6229.819961\n",
      "  Number of iterations: 8\n",
      "  Number of functions evaluations: 9\n",
      "/home/albert/miniconda3/envs/tectf/lib/python3.6/site-packages/tables-3.4.4-py3.6-linux-x86_64.egg/tables/file.py:767: DeprecationWarning: The use of uppercase keyword parameters is deprecated\n",
      "  \"deprecated\", DeprecationWarning)\n",
      "/home/albert/miniconda3/envs/tectf/lib/python3.6/site-packages/tables-3.4.4-py3.6-linux-x86_64.egg/tables/file.py:767: DeprecationWarning: The use of uppercase keyword parameters is deprecated\n",
      "  \"deprecated\", DeprecationWarning)\n",
      "ERROR:root:Reference possible only for phase, scalarphase, clock, tec, tec3rd, and rotation solution tables. Ignore referencing.\n",
      "/home/albert/miniconda3/envs/tectf/lib/python3.6/site-packages/gpflow-1.3.0-py3.6.egg/gpflow/_settings.py:67: DeprecationWarning: tf_int is deprecated and will be removed at GPflow version 1.2.0. Use int_type.\n",
      "  'version 1.2.0. Use int_type.', DeprecationWarning)\n",
      "/home/albert/miniconda3/envs/tectf/lib/python3.6/site-packages/gpflow-1.3.0-py3.6.egg/gpflow/_settings.py:61: DeprecationWarning: tf_float is deprecated and will be removed at GPflow version 1.2.0. Use float_type.\n",
      "  'version 1.2.0. Use float_type.', DeprecationWarning)\n",
      "/home/albert/miniconda3/envs/tectf/lib/python3.6/site-packages/gpflow-1.3.0-py3.6.egg/gpflow/logdensities.py:91: DeprecationWarning: The 'warn' method is deprecated, use 'warning' instead\n",
      "  logger.warn('Shape of x must be 2D at computation.')\n",
      "WARNING:gpflow.logdensities:Shape of x must be 2D at computation.\n"
     ]
    },
    {
     "name": "stdout",
     "output_type": "stream",
     "text": [
      "INFO:tensorflow:Optimization terminated with:\n",
      "  Message: b'CONVERGENCE: REL_REDUCTION_OF_F_<=_FACTR*EPSMCH'\n",
      "  Objective function value: 6174.975047\n",
      "  Number of iterations: 8\n",
      "  Number of functions evaluations: 9\n"
     ]
    },
    {
     "name": "stderr",
     "output_type": "stream",
     "text": [
      "INFO:tensorflow:Optimization terminated with:\n",
      "  Message: b'CONVERGENCE: REL_REDUCTION_OF_F_<=_FACTR*EPSMCH'\n",
      "  Objective function value: 6174.975047\n",
      "  Number of iterations: 8\n",
      "  Number of functions evaluations: 9\n",
      "/home/albert/miniconda3/envs/tectf/lib/python3.6/site-packages/tables-3.4.4-py3.6-linux-x86_64.egg/tables/file.py:767: DeprecationWarning: The use of uppercase keyword parameters is deprecated\n",
      "  \"deprecated\", DeprecationWarning)\n",
      "/home/albert/miniconda3/envs/tectf/lib/python3.6/site-packages/tables-3.4.4-py3.6-linux-x86_64.egg/tables/file.py:767: DeprecationWarning: The use of uppercase keyword parameters is deprecated\n",
      "  \"deprecated\", DeprecationWarning)\n",
      "ERROR:root:Reference possible only for phase, scalarphase, clock, tec, tec3rd, and rotation solution tables. Ignore referencing.\n",
      "/home/albert/miniconda3/envs/tectf/lib/python3.6/site-packages/gpflow-1.3.0-py3.6.egg/gpflow/_settings.py:67: DeprecationWarning: tf_int is deprecated and will be removed at GPflow version 1.2.0. Use int_type.\n",
      "  'version 1.2.0. Use int_type.', DeprecationWarning)\n",
      "/home/albert/miniconda3/envs/tectf/lib/python3.6/site-packages/gpflow-1.3.0-py3.6.egg/gpflow/_settings.py:61: DeprecationWarning: tf_float is deprecated and will be removed at GPflow version 1.2.0. Use float_type.\n",
      "  'version 1.2.0. Use float_type.', DeprecationWarning)\n",
      "/home/albert/miniconda3/envs/tectf/lib/python3.6/site-packages/gpflow-1.3.0-py3.6.egg/gpflow/logdensities.py:91: DeprecationWarning: The 'warn' method is deprecated, use 'warning' instead\n",
      "  logger.warn('Shape of x must be 2D at computation.')\n",
      "WARNING:gpflow.logdensities:Shape of x must be 2D at computation.\n"
     ]
    },
    {
     "name": "stdout",
     "output_type": "stream",
     "text": [
      "INFO:tensorflow:Optimization terminated with:\n",
      "  Message: b'CONVERGENCE: REL_REDUCTION_OF_F_<=_FACTR*EPSMCH'\n",
      "  Objective function value: 6037.892797\n",
      "  Number of iterations: 8\n",
      "  Number of functions evaluations: 9\n"
     ]
    },
    {
     "name": "stderr",
     "output_type": "stream",
     "text": [
      "INFO:tensorflow:Optimization terminated with:\n",
      "  Message: b'CONVERGENCE: REL_REDUCTION_OF_F_<=_FACTR*EPSMCH'\n",
      "  Objective function value: 6037.892797\n",
      "  Number of iterations: 8\n",
      "  Number of functions evaluations: 9\n",
      "/home/albert/miniconda3/envs/tectf/lib/python3.6/site-packages/tables-3.4.4-py3.6-linux-x86_64.egg/tables/file.py:767: DeprecationWarning: The use of uppercase keyword parameters is deprecated\n",
      "  \"deprecated\", DeprecationWarning)\n",
      "/home/albert/miniconda3/envs/tectf/lib/python3.6/site-packages/tables-3.4.4-py3.6-linux-x86_64.egg/tables/file.py:767: DeprecationWarning: The use of uppercase keyword parameters is deprecated\n",
      "  \"deprecated\", DeprecationWarning)\n",
      "ERROR:root:Reference possible only for phase, scalarphase, clock, tec, tec3rd, and rotation solution tables. Ignore referencing.\n",
      "/home/albert/miniconda3/envs/tectf/lib/python3.6/site-packages/gpflow-1.3.0-py3.6.egg/gpflow/_settings.py:67: DeprecationWarning: tf_int is deprecated and will be removed at GPflow version 1.2.0. Use int_type.\n",
      "  'version 1.2.0. Use int_type.', DeprecationWarning)\n",
      "/home/albert/miniconda3/envs/tectf/lib/python3.6/site-packages/gpflow-1.3.0-py3.6.egg/gpflow/_settings.py:61: DeprecationWarning: tf_float is deprecated and will be removed at GPflow version 1.2.0. Use float_type.\n",
      "  'version 1.2.0. Use float_type.', DeprecationWarning)\n",
      "/home/albert/miniconda3/envs/tectf/lib/python3.6/site-packages/gpflow-1.3.0-py3.6.egg/gpflow/logdensities.py:91: DeprecationWarning: The 'warn' method is deprecated, use 'warning' instead\n",
      "  logger.warn('Shape of x must be 2D at computation.')\n",
      "WARNING:gpflow.logdensities:Shape of x must be 2D at computation.\n"
     ]
    },
    {
     "name": "stdout",
     "output_type": "stream",
     "text": [
      "INFO:tensorflow:Optimization terminated with:\n",
      "  Message: b'CONVERGENCE: REL_REDUCTION_OF_F_<=_FACTR*EPSMCH'\n",
      "  Objective function value: 6349.170770\n",
      "  Number of iterations: 7\n",
      "  Number of functions evaluations: 8\n"
     ]
    },
    {
     "name": "stderr",
     "output_type": "stream",
     "text": [
      "INFO:tensorflow:Optimization terminated with:\n",
      "  Message: b'CONVERGENCE: REL_REDUCTION_OF_F_<=_FACTR*EPSMCH'\n",
      "  Objective function value: 6349.170770\n",
      "  Number of iterations: 7\n",
      "  Number of functions evaluations: 8\n",
      "/home/albert/miniconda3/envs/tectf/lib/python3.6/site-packages/tables-3.4.4-py3.6-linux-x86_64.egg/tables/file.py:767: DeprecationWarning: The use of uppercase keyword parameters is deprecated\n",
      "  \"deprecated\", DeprecationWarning)\n",
      "/home/albert/miniconda3/envs/tectf/lib/python3.6/site-packages/tables-3.4.4-py3.6-linux-x86_64.egg/tables/file.py:767: DeprecationWarning: The use of uppercase keyword parameters is deprecated\n",
      "  \"deprecated\", DeprecationWarning)\n",
      "ERROR:root:Reference possible only for phase, scalarphase, clock, tec, tec3rd, and rotation solution tables. Ignore referencing.\n",
      "/home/albert/miniconda3/envs/tectf/lib/python3.6/site-packages/gpflow-1.3.0-py3.6.egg/gpflow/_settings.py:67: DeprecationWarning: tf_int is deprecated and will be removed at GPflow version 1.2.0. Use int_type.\n",
      "  'version 1.2.0. Use int_type.', DeprecationWarning)\n",
      "/home/albert/miniconda3/envs/tectf/lib/python3.6/site-packages/gpflow-1.3.0-py3.6.egg/gpflow/_settings.py:61: DeprecationWarning: tf_float is deprecated and will be removed at GPflow version 1.2.0. Use float_type.\n",
      "  'version 1.2.0. Use float_type.', DeprecationWarning)\n",
      "/home/albert/miniconda3/envs/tectf/lib/python3.6/site-packages/gpflow-1.3.0-py3.6.egg/gpflow/logdensities.py:91: DeprecationWarning: The 'warn' method is deprecated, use 'warning' instead\n",
      "  logger.warn('Shape of x must be 2D at computation.')\n",
      "WARNING:gpflow.logdensities:Shape of x must be 2D at computation.\n"
     ]
    },
    {
     "name": "stdout",
     "output_type": "stream",
     "text": [
      "INFO:tensorflow:Optimization terminated with:\n",
      "  Message: b'CONVERGENCE: REL_REDUCTION_OF_F_<=_FACTR*EPSMCH'\n",
      "  Objective function value: 5910.216858\n",
      "  Number of iterations: 8\n",
      "  Number of functions evaluations: 9\n"
     ]
    },
    {
     "name": "stderr",
     "output_type": "stream",
     "text": [
      "INFO:tensorflow:Optimization terminated with:\n",
      "  Message: b'CONVERGENCE: REL_REDUCTION_OF_F_<=_FACTR*EPSMCH'\n",
      "  Objective function value: 5910.216858\n",
      "  Number of iterations: 8\n",
      "  Number of functions evaluations: 9\n",
      "/home/albert/miniconda3/envs/tectf/lib/python3.6/site-packages/tables-3.4.4-py3.6-linux-x86_64.egg/tables/file.py:767: DeprecationWarning: The use of uppercase keyword parameters is deprecated\n",
      "  \"deprecated\", DeprecationWarning)\n",
      "/home/albert/miniconda3/envs/tectf/lib/python3.6/site-packages/tables-3.4.4-py3.6-linux-x86_64.egg/tables/file.py:767: DeprecationWarning: The use of uppercase keyword parameters is deprecated\n",
      "  \"deprecated\", DeprecationWarning)\n",
      "ERROR:root:Reference possible only for phase, scalarphase, clock, tec, tec3rd, and rotation solution tables. Ignore referencing.\n",
      "/home/albert/miniconda3/envs/tectf/lib/python3.6/site-packages/gpflow-1.3.0-py3.6.egg/gpflow/_settings.py:67: DeprecationWarning: tf_int is deprecated and will be removed at GPflow version 1.2.0. Use int_type.\n",
      "  'version 1.2.0. Use int_type.', DeprecationWarning)\n",
      "/home/albert/miniconda3/envs/tectf/lib/python3.6/site-packages/gpflow-1.3.0-py3.6.egg/gpflow/_settings.py:61: DeprecationWarning: tf_float is deprecated and will be removed at GPflow version 1.2.0. Use float_type.\n",
      "  'version 1.2.0. Use float_type.', DeprecationWarning)\n",
      "/home/albert/miniconda3/envs/tectf/lib/python3.6/site-packages/gpflow-1.3.0-py3.6.egg/gpflow/logdensities.py:91: DeprecationWarning: The 'warn' method is deprecated, use 'warning' instead\n",
      "  logger.warn('Shape of x must be 2D at computation.')\n",
      "WARNING:gpflow.logdensities:Shape of x must be 2D at computation.\n"
     ]
    },
    {
     "name": "stdout",
     "output_type": "stream",
     "text": [
      "INFO:tensorflow:Optimization terminated with:\n",
      "  Message: b'CONVERGENCE: REL_REDUCTION_OF_F_<=_FACTR*EPSMCH'\n",
      "  Objective function value: 5477.949693\n",
      "  Number of iterations: 9\n",
      "  Number of functions evaluations: 10\n"
     ]
    },
    {
     "name": "stderr",
     "output_type": "stream",
     "text": [
      "INFO:tensorflow:Optimization terminated with:\n",
      "  Message: b'CONVERGENCE: REL_REDUCTION_OF_F_<=_FACTR*EPSMCH'\n",
      "  Objective function value: 5477.949693\n",
      "  Number of iterations: 9\n",
      "  Number of functions evaluations: 10\n",
      "/home/albert/miniconda3/envs/tectf/lib/python3.6/site-packages/tables-3.4.4-py3.6-linux-x86_64.egg/tables/file.py:767: DeprecationWarning: The use of uppercase keyword parameters is deprecated\n",
      "  \"deprecated\", DeprecationWarning)\n",
      "/home/albert/miniconda3/envs/tectf/lib/python3.6/site-packages/tables-3.4.4-py3.6-linux-x86_64.egg/tables/file.py:767: DeprecationWarning: The use of uppercase keyword parameters is deprecated\n",
      "  \"deprecated\", DeprecationWarning)\n",
      "ERROR:root:Reference possible only for phase, scalarphase, clock, tec, tec3rd, and rotation solution tables. Ignore referencing.\n",
      "/home/albert/miniconda3/envs/tectf/lib/python3.6/site-packages/gpflow-1.3.0-py3.6.egg/gpflow/_settings.py:67: DeprecationWarning: tf_int is deprecated and will be removed at GPflow version 1.2.0. Use int_type.\n",
      "  'version 1.2.0. Use int_type.', DeprecationWarning)\n",
      "/home/albert/miniconda3/envs/tectf/lib/python3.6/site-packages/gpflow-1.3.0-py3.6.egg/gpflow/_settings.py:61: DeprecationWarning: tf_float is deprecated and will be removed at GPflow version 1.2.0. Use float_type.\n",
      "  'version 1.2.0. Use float_type.', DeprecationWarning)\n",
      "/home/albert/miniconda3/envs/tectf/lib/python3.6/site-packages/gpflow-1.3.0-py3.6.egg/gpflow/logdensities.py:91: DeprecationWarning: The 'warn' method is deprecated, use 'warning' instead\n",
      "  logger.warn('Shape of x must be 2D at computation.')\n",
      "WARNING:gpflow.logdensities:Shape of x must be 2D at computation.\n"
     ]
    },
    {
     "name": "stdout",
     "output_type": "stream",
     "text": [
      "INFO:tensorflow:Optimization terminated with:\n",
      "  Message: b'CONVERGENCE: REL_REDUCTION_OF_F_<=_FACTR*EPSMCH'\n",
      "  Objective function value: 4476.426211\n",
      "  Number of iterations: 9\n",
      "  Number of functions evaluations: 10\n"
     ]
    },
    {
     "name": "stderr",
     "output_type": "stream",
     "text": [
      "INFO:tensorflow:Optimization terminated with:\n",
      "  Message: b'CONVERGENCE: REL_REDUCTION_OF_F_<=_FACTR*EPSMCH'\n",
      "  Objective function value: 4476.426211\n",
      "  Number of iterations: 9\n",
      "  Number of functions evaluations: 10\n",
      "/home/albert/miniconda3/envs/tectf/lib/python3.6/site-packages/tables-3.4.4-py3.6-linux-x86_64.egg/tables/file.py:767: DeprecationWarning: The use of uppercase keyword parameters is deprecated\n",
      "  \"deprecated\", DeprecationWarning)\n",
      "/home/albert/miniconda3/envs/tectf/lib/python3.6/site-packages/tables-3.4.4-py3.6-linux-x86_64.egg/tables/file.py:767: DeprecationWarning: The use of uppercase keyword parameters is deprecated\n",
      "  \"deprecated\", DeprecationWarning)\n",
      "ERROR:root:Reference possible only for phase, scalarphase, clock, tec, tec3rd, and rotation solution tables. Ignore referencing.\n",
      "/home/albert/miniconda3/envs/tectf/lib/python3.6/site-packages/gpflow-1.3.0-py3.6.egg/gpflow/_settings.py:67: DeprecationWarning: tf_int is deprecated and will be removed at GPflow version 1.2.0. Use int_type.\n",
      "  'version 1.2.0. Use int_type.', DeprecationWarning)\n",
      "/home/albert/miniconda3/envs/tectf/lib/python3.6/site-packages/gpflow-1.3.0-py3.6.egg/gpflow/_settings.py:61: DeprecationWarning: tf_float is deprecated and will be removed at GPflow version 1.2.0. Use float_type.\n",
      "  'version 1.2.0. Use float_type.', DeprecationWarning)\n",
      "/home/albert/miniconda3/envs/tectf/lib/python3.6/site-packages/gpflow-1.3.0-py3.6.egg/gpflow/logdensities.py:91: DeprecationWarning: The 'warn' method is deprecated, use 'warning' instead\n",
      "  logger.warn('Shape of x must be 2D at computation.')\n",
      "WARNING:gpflow.logdensities:Shape of x must be 2D at computation.\n"
     ]
    },
    {
     "name": "stdout",
     "output_type": "stream",
     "text": [
      "INFO:tensorflow:Optimization terminated with:\n",
      "  Message: b'CONVERGENCE: REL_REDUCTION_OF_F_<=_FACTR*EPSMCH'\n",
      "  Objective function value: 4793.531405\n",
      "  Number of iterations: 9\n",
      "  Number of functions evaluations: 10\n"
     ]
    },
    {
     "name": "stderr",
     "output_type": "stream",
     "text": [
      "INFO:tensorflow:Optimization terminated with:\n",
      "  Message: b'CONVERGENCE: REL_REDUCTION_OF_F_<=_FACTR*EPSMCH'\n",
      "  Objective function value: 4793.531405\n",
      "  Number of iterations: 9\n",
      "  Number of functions evaluations: 10\n",
      "/home/albert/miniconda3/envs/tectf/lib/python3.6/site-packages/tables-3.4.4-py3.6-linux-x86_64.egg/tables/file.py:767: DeprecationWarning: The use of uppercase keyword parameters is deprecated\n",
      "  \"deprecated\", DeprecationWarning)\n",
      "/home/albert/miniconda3/envs/tectf/lib/python3.6/site-packages/tables-3.4.4-py3.6-linux-x86_64.egg/tables/file.py:767: DeprecationWarning: The use of uppercase keyword parameters is deprecated\n",
      "  \"deprecated\", DeprecationWarning)\n",
      "ERROR:root:Reference possible only for phase, scalarphase, clock, tec, tec3rd, and rotation solution tables. Ignore referencing.\n",
      "/home/albert/miniconda3/envs/tectf/lib/python3.6/site-packages/gpflow-1.3.0-py3.6.egg/gpflow/_settings.py:67: DeprecationWarning: tf_int is deprecated and will be removed at GPflow version 1.2.0. Use int_type.\n",
      "  'version 1.2.0. Use int_type.', DeprecationWarning)\n",
      "/home/albert/miniconda3/envs/tectf/lib/python3.6/site-packages/gpflow-1.3.0-py3.6.egg/gpflow/_settings.py:61: DeprecationWarning: tf_float is deprecated and will be removed at GPflow version 1.2.0. Use float_type.\n",
      "  'version 1.2.0. Use float_type.', DeprecationWarning)\n",
      "/home/albert/miniconda3/envs/tectf/lib/python3.6/site-packages/gpflow-1.3.0-py3.6.egg/gpflow/logdensities.py:91: DeprecationWarning: The 'warn' method is deprecated, use 'warning' instead\n",
      "  logger.warn('Shape of x must be 2D at computation.')\n",
      "WARNING:gpflow.logdensities:Shape of x must be 2D at computation.\n"
     ]
    },
    {
     "name": "stdout",
     "output_type": "stream",
     "text": [
      "INFO:tensorflow:Optimization terminated with:\n",
      "  Message: b'CONVERGENCE: REL_REDUCTION_OF_F_<=_FACTR*EPSMCH'\n",
      "  Objective function value: 4721.572818\n",
      "  Number of iterations: 9\n",
      "  Number of functions evaluations: 10\n"
     ]
    },
    {
     "name": "stderr",
     "output_type": "stream",
     "text": [
      "INFO:tensorflow:Optimization terminated with:\n",
      "  Message: b'CONVERGENCE: REL_REDUCTION_OF_F_<=_FACTR*EPSMCH'\n",
      "  Objective function value: 4721.572818\n",
      "  Number of iterations: 9\n",
      "  Number of functions evaluations: 10\n",
      "/home/albert/miniconda3/envs/tectf/lib/python3.6/site-packages/tables-3.4.4-py3.6-linux-x86_64.egg/tables/file.py:767: DeprecationWarning: The use of uppercase keyword parameters is deprecated\n",
      "  \"deprecated\", DeprecationWarning)\n",
      "/home/albert/miniconda3/envs/tectf/lib/python3.6/site-packages/tables-3.4.4-py3.6-linux-x86_64.egg/tables/file.py:767: DeprecationWarning: The use of uppercase keyword parameters is deprecated\n",
      "  \"deprecated\", DeprecationWarning)\n",
      "ERROR:root:Reference possible only for phase, scalarphase, clock, tec, tec3rd, and rotation solution tables. Ignore referencing.\n",
      "/home/albert/miniconda3/envs/tectf/lib/python3.6/site-packages/gpflow-1.3.0-py3.6.egg/gpflow/_settings.py:67: DeprecationWarning: tf_int is deprecated and will be removed at GPflow version 1.2.0. Use int_type.\n",
      "  'version 1.2.0. Use int_type.', DeprecationWarning)\n",
      "/home/albert/miniconda3/envs/tectf/lib/python3.6/site-packages/gpflow-1.3.0-py3.6.egg/gpflow/_settings.py:61: DeprecationWarning: tf_float is deprecated and will be removed at GPflow version 1.2.0. Use float_type.\n",
      "  'version 1.2.0. Use float_type.', DeprecationWarning)\n",
      "/home/albert/miniconda3/envs/tectf/lib/python3.6/site-packages/gpflow-1.3.0-py3.6.egg/gpflow/logdensities.py:91: DeprecationWarning: The 'warn' method is deprecated, use 'warning' instead\n",
      "  logger.warn('Shape of x must be 2D at computation.')\n",
      "WARNING:gpflow.logdensities:Shape of x must be 2D at computation.\n"
     ]
    },
    {
     "name": "stdout",
     "output_type": "stream",
     "text": [
      "INFO:tensorflow:Optimization terminated with:\n",
      "  Message: b'CONVERGENCE: NORM_OF_PROJECTED_GRADIENT_<=_PGTOL'\n",
      "  Objective function value: 3215.706942\n",
      "  Number of iterations: 10\n",
      "  Number of functions evaluations: 11\n"
     ]
    },
    {
     "name": "stderr",
     "output_type": "stream",
     "text": [
      "INFO:tensorflow:Optimization terminated with:\n",
      "  Message: b'CONVERGENCE: NORM_OF_PROJECTED_GRADIENT_<=_PGTOL'\n",
      "  Objective function value: 3215.706942\n",
      "  Number of iterations: 10\n",
      "  Number of functions evaluations: 11\n",
      "/home/albert/miniconda3/envs/tectf/lib/python3.6/site-packages/tables-3.4.4-py3.6-linux-x86_64.egg/tables/file.py:767: DeprecationWarning: The use of uppercase keyword parameters is deprecated\n",
      "  \"deprecated\", DeprecationWarning)\n",
      "/home/albert/miniconda3/envs/tectf/lib/python3.6/site-packages/tables-3.4.4-py3.6-linux-x86_64.egg/tables/file.py:767: DeprecationWarning: The use of uppercase keyword parameters is deprecated\n",
      "  \"deprecated\", DeprecationWarning)\n",
      "ERROR:root:Reference possible only for phase, scalarphase, clock, tec, tec3rd, and rotation solution tables. Ignore referencing.\n",
      "/home/albert/miniconda3/envs/tectf/lib/python3.6/site-packages/gpflow-1.3.0-py3.6.egg/gpflow/_settings.py:67: DeprecationWarning: tf_int is deprecated and will be removed at GPflow version 1.2.0. Use int_type.\n",
      "  'version 1.2.0. Use int_type.', DeprecationWarning)\n",
      "/home/albert/miniconda3/envs/tectf/lib/python3.6/site-packages/gpflow-1.3.0-py3.6.egg/gpflow/_settings.py:61: DeprecationWarning: tf_float is deprecated and will be removed at GPflow version 1.2.0. Use float_type.\n",
      "  'version 1.2.0. Use float_type.', DeprecationWarning)\n",
      "/home/albert/miniconda3/envs/tectf/lib/python3.6/site-packages/gpflow-1.3.0-py3.6.egg/gpflow/logdensities.py:91: DeprecationWarning: The 'warn' method is deprecated, use 'warning' instead\n",
      "  logger.warn('Shape of x must be 2D at computation.')\n",
      "WARNING:gpflow.logdensities:Shape of x must be 2D at computation.\n"
     ]
    },
    {
     "name": "stdout",
     "output_type": "stream",
     "text": [
      "INFO:tensorflow:Optimization terminated with:\n",
      "  Message: b'CONVERGENCE: REL_REDUCTION_OF_F_<=_FACTR*EPSMCH'\n",
      "  Objective function value: 3318.814339\n",
      "  Number of iterations: 9\n",
      "  Number of functions evaluations: 10\n"
     ]
    },
    {
     "name": "stderr",
     "output_type": "stream",
     "text": [
      "INFO:tensorflow:Optimization terminated with:\n",
      "  Message: b'CONVERGENCE: REL_REDUCTION_OF_F_<=_FACTR*EPSMCH'\n",
      "  Objective function value: 3318.814339\n",
      "  Number of iterations: 9\n",
      "  Number of functions evaluations: 10\n",
      "/home/albert/miniconda3/envs/tectf/lib/python3.6/site-packages/tables-3.4.4-py3.6-linux-x86_64.egg/tables/file.py:767: DeprecationWarning: The use of uppercase keyword parameters is deprecated\n",
      "  \"deprecated\", DeprecationWarning)\n",
      "/home/albert/miniconda3/envs/tectf/lib/python3.6/site-packages/tables-3.4.4-py3.6-linux-x86_64.egg/tables/file.py:767: DeprecationWarning: The use of uppercase keyword parameters is deprecated\n",
      "  \"deprecated\", DeprecationWarning)\n",
      "ERROR:root:Reference possible only for phase, scalarphase, clock, tec, tec3rd, and rotation solution tables. Ignore referencing.\n",
      "/home/albert/miniconda3/envs/tectf/lib/python3.6/site-packages/gpflow-1.3.0-py3.6.egg/gpflow/_settings.py:67: DeprecationWarning: tf_int is deprecated and will be removed at GPflow version 1.2.0. Use int_type.\n",
      "  'version 1.2.0. Use int_type.', DeprecationWarning)\n",
      "/home/albert/miniconda3/envs/tectf/lib/python3.6/site-packages/gpflow-1.3.0-py3.6.egg/gpflow/_settings.py:61: DeprecationWarning: tf_float is deprecated and will be removed at GPflow version 1.2.0. Use float_type.\n",
      "  'version 1.2.0. Use float_type.', DeprecationWarning)\n",
      "/home/albert/miniconda3/envs/tectf/lib/python3.6/site-packages/gpflow-1.3.0-py3.6.egg/gpflow/logdensities.py:91: DeprecationWarning: The 'warn' method is deprecated, use 'warning' instead\n",
      "  logger.warn('Shape of x must be 2D at computation.')\n",
      "WARNING:gpflow.logdensities:Shape of x must be 2D at computation.\n"
     ]
    },
    {
     "name": "stdout",
     "output_type": "stream",
     "text": [
      "INFO:tensorflow:Optimization terminated with:\n",
      "  Message: b'CONVERGENCE: REL_REDUCTION_OF_F_<=_FACTR*EPSMCH'\n",
      "  Objective function value: 4204.505617\n",
      "  Number of iterations: 9\n",
      "  Number of functions evaluations: 10\n"
     ]
    },
    {
     "name": "stderr",
     "output_type": "stream",
     "text": [
      "INFO:tensorflow:Optimization terminated with:\n",
      "  Message: b'CONVERGENCE: REL_REDUCTION_OF_F_<=_FACTR*EPSMCH'\n",
      "  Objective function value: 4204.505617\n",
      "  Number of iterations: 9\n",
      "  Number of functions evaluations: 10\n",
      "/home/albert/miniconda3/envs/tectf/lib/python3.6/site-packages/tables-3.4.4-py3.6-linux-x86_64.egg/tables/file.py:767: DeprecationWarning: The use of uppercase keyword parameters is deprecated\n",
      "  \"deprecated\", DeprecationWarning)\n",
      "/home/albert/miniconda3/envs/tectf/lib/python3.6/site-packages/tables-3.4.4-py3.6-linux-x86_64.egg/tables/file.py:767: DeprecationWarning: The use of uppercase keyword parameters is deprecated\n",
      "  \"deprecated\", DeprecationWarning)\n",
      "ERROR:root:Reference possible only for phase, scalarphase, clock, tec, tec3rd, and rotation solution tables. Ignore referencing.\n",
      "/home/albert/miniconda3/envs/tectf/lib/python3.6/site-packages/gpflow-1.3.0-py3.6.egg/gpflow/_settings.py:67: DeprecationWarning: tf_int is deprecated and will be removed at GPflow version 1.2.0. Use int_type.\n",
      "  'version 1.2.0. Use int_type.', DeprecationWarning)\n",
      "/home/albert/miniconda3/envs/tectf/lib/python3.6/site-packages/gpflow-1.3.0-py3.6.egg/gpflow/_settings.py:61: DeprecationWarning: tf_float is deprecated and will be removed at GPflow version 1.2.0. Use float_type.\n",
      "  'version 1.2.0. Use float_type.', DeprecationWarning)\n",
      "/home/albert/miniconda3/envs/tectf/lib/python3.6/site-packages/gpflow-1.3.0-py3.6.egg/gpflow/logdensities.py:91: DeprecationWarning: The 'warn' method is deprecated, use 'warning' instead\n",
      "  logger.warn('Shape of x must be 2D at computation.')\n",
      "WARNING:gpflow.logdensities:Shape of x must be 2D at computation.\n"
     ]
    },
    {
     "name": "stdout",
     "output_type": "stream",
     "text": [
      "INFO:tensorflow:Optimization terminated with:\n",
      "  Message: b'CONVERGENCE: NORM_OF_PROJECTED_GRADIENT_<=_PGTOL'\n",
      "  Objective function value: 5463.352336\n",
      "  Number of iterations: 9\n",
      "  Number of functions evaluations: 10\n"
     ]
    },
    {
     "name": "stderr",
     "output_type": "stream",
     "text": [
      "INFO:tensorflow:Optimization terminated with:\n",
      "  Message: b'CONVERGENCE: NORM_OF_PROJECTED_GRADIENT_<=_PGTOL'\n",
      "  Objective function value: 5463.352336\n",
      "  Number of iterations: 9\n",
      "  Number of functions evaluations: 10\n",
      "/home/albert/miniconda3/envs/tectf/lib/python3.6/site-packages/tables-3.4.4-py3.6-linux-x86_64.egg/tables/file.py:767: DeprecationWarning: The use of uppercase keyword parameters is deprecated\n",
      "  \"deprecated\", DeprecationWarning)\n",
      "/home/albert/miniconda3/envs/tectf/lib/python3.6/site-packages/tables-3.4.4-py3.6-linux-x86_64.egg/tables/file.py:767: DeprecationWarning: The use of uppercase keyword parameters is deprecated\n",
      "  \"deprecated\", DeprecationWarning)\n",
      "ERROR:root:Reference possible only for phase, scalarphase, clock, tec, tec3rd, and rotation solution tables. Ignore referencing.\n",
      "/home/albert/miniconda3/envs/tectf/lib/python3.6/site-packages/gpflow-1.3.0-py3.6.egg/gpflow/_settings.py:67: DeprecationWarning: tf_int is deprecated and will be removed at GPflow version 1.2.0. Use int_type.\n",
      "  'version 1.2.0. Use int_type.', DeprecationWarning)\n",
      "/home/albert/miniconda3/envs/tectf/lib/python3.6/site-packages/gpflow-1.3.0-py3.6.egg/gpflow/_settings.py:61: DeprecationWarning: tf_float is deprecated and will be removed at GPflow version 1.2.0. Use float_type.\n",
      "  'version 1.2.0. Use float_type.', DeprecationWarning)\n",
      "/home/albert/miniconda3/envs/tectf/lib/python3.6/site-packages/gpflow-1.3.0-py3.6.egg/gpflow/logdensities.py:91: DeprecationWarning: The 'warn' method is deprecated, use 'warning' instead\n",
      "  logger.warn('Shape of x must be 2D at computation.')\n",
      "WARNING:gpflow.logdensities:Shape of x must be 2D at computation.\n"
     ]
    },
    {
     "name": "stdout",
     "output_type": "stream",
     "text": [
      "INFO:tensorflow:Optimization terminated with:\n",
      "  Message: b'CONVERGENCE: REL_REDUCTION_OF_F_<=_FACTR*EPSMCH'\n",
      "  Objective function value: 4381.387877\n",
      "  Number of iterations: 9\n",
      "  Number of functions evaluations: 10\n"
     ]
    },
    {
     "name": "stderr",
     "output_type": "stream",
     "text": [
      "INFO:tensorflow:Optimization terminated with:\n",
      "  Message: b'CONVERGENCE: REL_REDUCTION_OF_F_<=_FACTR*EPSMCH'\n",
      "  Objective function value: 4381.387877\n",
      "  Number of iterations: 9\n",
      "  Number of functions evaluations: 10\n",
      "/home/albert/miniconda3/envs/tectf/lib/python3.6/site-packages/tables-3.4.4-py3.6-linux-x86_64.egg/tables/file.py:767: DeprecationWarning: The use of uppercase keyword parameters is deprecated\n",
      "  \"deprecated\", DeprecationWarning)\n",
      "/home/albert/miniconda3/envs/tectf/lib/python3.6/site-packages/tables-3.4.4-py3.6-linux-x86_64.egg/tables/file.py:767: DeprecationWarning: The use of uppercase keyword parameters is deprecated\n",
      "  \"deprecated\", DeprecationWarning)\n",
      "ERROR:root:Reference possible only for phase, scalarphase, clock, tec, tec3rd, and rotation solution tables. Ignore referencing.\n",
      "/home/albert/miniconda3/envs/tectf/lib/python3.6/site-packages/gpflow-1.3.0-py3.6.egg/gpflow/_settings.py:67: DeprecationWarning: tf_int is deprecated and will be removed at GPflow version 1.2.0. Use int_type.\n",
      "  'version 1.2.0. Use int_type.', DeprecationWarning)\n",
      "/home/albert/miniconda3/envs/tectf/lib/python3.6/site-packages/gpflow-1.3.0-py3.6.egg/gpflow/_settings.py:61: DeprecationWarning: tf_float is deprecated and will be removed at GPflow version 1.2.0. Use float_type.\n",
      "  'version 1.2.0. Use float_type.', DeprecationWarning)\n",
      "/home/albert/miniconda3/envs/tectf/lib/python3.6/site-packages/gpflow-1.3.0-py3.6.egg/gpflow/logdensities.py:91: DeprecationWarning: The 'warn' method is deprecated, use 'warning' instead\n",
      "  logger.warn('Shape of x must be 2D at computation.')\n",
      "WARNING:gpflow.logdensities:Shape of x must be 2D at computation.\n"
     ]
    },
    {
     "name": "stdout",
     "output_type": "stream",
     "text": [
      "INFO:tensorflow:Optimization terminated with:\n",
      "  Message: b'CONVERGENCE: REL_REDUCTION_OF_F_<=_FACTR*EPSMCH'\n",
      "  Objective function value: 1970.239145\n",
      "  Number of iterations: 12\n",
      "  Number of functions evaluations: 14\n"
     ]
    },
    {
     "name": "stderr",
     "output_type": "stream",
     "text": [
      "INFO:tensorflow:Optimization terminated with:\n",
      "  Message: b'CONVERGENCE: REL_REDUCTION_OF_F_<=_FACTR*EPSMCH'\n",
      "  Objective function value: 1970.239145\n",
      "  Number of iterations: 12\n",
      "  Number of functions evaluations: 14\n",
      "/home/albert/miniconda3/envs/tectf/lib/python3.6/site-packages/tables-3.4.4-py3.6-linux-x86_64.egg/tables/file.py:767: DeprecationWarning: The use of uppercase keyword parameters is deprecated\n",
      "  \"deprecated\", DeprecationWarning)\n",
      "/home/albert/miniconda3/envs/tectf/lib/python3.6/site-packages/tables-3.4.4-py3.6-linux-x86_64.egg/tables/file.py:767: DeprecationWarning: The use of uppercase keyword parameters is deprecated\n",
      "  \"deprecated\", DeprecationWarning)\n",
      "ERROR:root:Reference possible only for phase, scalarphase, clock, tec, tec3rd, and rotation solution tables. Ignore referencing.\n",
      "/home/albert/miniconda3/envs/tectf/lib/python3.6/site-packages/gpflow-1.3.0-py3.6.egg/gpflow/_settings.py:67: DeprecationWarning: tf_int is deprecated and will be removed at GPflow version 1.2.0. Use int_type.\n",
      "  'version 1.2.0. Use int_type.', DeprecationWarning)\n",
      "/home/albert/miniconda3/envs/tectf/lib/python3.6/site-packages/gpflow-1.3.0-py3.6.egg/gpflow/_settings.py:61: DeprecationWarning: tf_float is deprecated and will be removed at GPflow version 1.2.0. Use float_type.\n",
      "  'version 1.2.0. Use float_type.', DeprecationWarning)\n",
      "/home/albert/miniconda3/envs/tectf/lib/python3.6/site-packages/gpflow-1.3.0-py3.6.egg/gpflow/logdensities.py:91: DeprecationWarning: The 'warn' method is deprecated, use 'warning' instead\n",
      "  logger.warn('Shape of x must be 2D at computation.')\n",
      "WARNING:gpflow.logdensities:Shape of x must be 2D at computation.\n"
     ]
    },
    {
     "name": "stdout",
     "output_type": "stream",
     "text": [
      "INFO:tensorflow:Optimization terminated with:\n",
      "  Message: b'CONVERGENCE: REL_REDUCTION_OF_F_<=_FACTR*EPSMCH'\n",
      "  Objective function value: 1190.429760\n",
      "  Number of iterations: 14\n",
      "  Number of functions evaluations: 17\n"
     ]
    },
    {
     "name": "stderr",
     "output_type": "stream",
     "text": [
      "INFO:tensorflow:Optimization terminated with:\n",
      "  Message: b'CONVERGENCE: REL_REDUCTION_OF_F_<=_FACTR*EPSMCH'\n",
      "  Objective function value: 1190.429760\n",
      "  Number of iterations: 14\n",
      "  Number of functions evaluations: 17\n",
      "/home/albert/miniconda3/envs/tectf/lib/python3.6/site-packages/tables-3.4.4-py3.6-linux-x86_64.egg/tables/file.py:767: DeprecationWarning: The use of uppercase keyword parameters is deprecated\n",
      "  \"deprecated\", DeprecationWarning)\n",
      "/home/albert/miniconda3/envs/tectf/lib/python3.6/site-packages/tables-3.4.4-py3.6-linux-x86_64.egg/tables/file.py:767: DeprecationWarning: The use of uppercase keyword parameters is deprecated\n",
      "  \"deprecated\", DeprecationWarning)\n",
      "ERROR:root:Reference possible only for phase, scalarphase, clock, tec, tec3rd, and rotation solution tables. Ignore referencing.\n",
      "/home/albert/miniconda3/envs/tectf/lib/python3.6/site-packages/gpflow-1.3.0-py3.6.egg/gpflow/_settings.py:67: DeprecationWarning: tf_int is deprecated and will be removed at GPflow version 1.2.0. Use int_type.\n",
      "  'version 1.2.0. Use int_type.', DeprecationWarning)\n",
      "/home/albert/miniconda3/envs/tectf/lib/python3.6/site-packages/gpflow-1.3.0-py3.6.egg/gpflow/_settings.py:61: DeprecationWarning: tf_float is deprecated and will be removed at GPflow version 1.2.0. Use float_type.\n",
      "  'version 1.2.0. Use float_type.', DeprecationWarning)\n",
      "/home/albert/miniconda3/envs/tectf/lib/python3.6/site-packages/gpflow-1.3.0-py3.6.egg/gpflow/logdensities.py:91: DeprecationWarning: The 'warn' method is deprecated, use 'warning' instead\n",
      "  logger.warn('Shape of x must be 2D at computation.')\n",
      "WARNING:gpflow.logdensities:Shape of x must be 2D at computation.\n"
     ]
    },
    {
     "name": "stdout",
     "output_type": "stream",
     "text": [
      "INFO:tensorflow:Optimization terminated with:\n",
      "  Message: b'CONVERGENCE: REL_REDUCTION_OF_F_<=_FACTR*EPSMCH'\n",
      "  Objective function value: 1052.466903\n",
      "  Number of iterations: 13\n",
      "  Number of functions evaluations: 16\n"
     ]
    },
    {
     "name": "stderr",
     "output_type": "stream",
     "text": [
      "INFO:tensorflow:Optimization terminated with:\n",
      "  Message: b'CONVERGENCE: REL_REDUCTION_OF_F_<=_FACTR*EPSMCH'\n",
      "  Objective function value: 1052.466903\n",
      "  Number of iterations: 13\n",
      "  Number of functions evaluations: 16\n",
      "/home/albert/miniconda3/envs/tectf/lib/python3.6/site-packages/tables-3.4.4-py3.6-linux-x86_64.egg/tables/file.py:767: DeprecationWarning: The use of uppercase keyword parameters is deprecated\n",
      "  \"deprecated\", DeprecationWarning)\n",
      "/home/albert/miniconda3/envs/tectf/lib/python3.6/site-packages/tables-3.4.4-py3.6-linux-x86_64.egg/tables/file.py:767: DeprecationWarning: The use of uppercase keyword parameters is deprecated\n",
      "  \"deprecated\", DeprecationWarning)\n",
      "ERROR:root:Reference possible only for phase, scalarphase, clock, tec, tec3rd, and rotation solution tables. Ignore referencing.\n",
      "/home/albert/miniconda3/envs/tectf/lib/python3.6/site-packages/gpflow-1.3.0-py3.6.egg/gpflow/_settings.py:67: DeprecationWarning: tf_int is deprecated and will be removed at GPflow version 1.2.0. Use int_type.\n",
      "  'version 1.2.0. Use int_type.', DeprecationWarning)\n",
      "/home/albert/miniconda3/envs/tectf/lib/python3.6/site-packages/gpflow-1.3.0-py3.6.egg/gpflow/_settings.py:61: DeprecationWarning: tf_float is deprecated and will be removed at GPflow version 1.2.0. Use float_type.\n",
      "  'version 1.2.0. Use float_type.', DeprecationWarning)\n",
      "/home/albert/miniconda3/envs/tectf/lib/python3.6/site-packages/gpflow-1.3.0-py3.6.egg/gpflow/logdensities.py:91: DeprecationWarning: The 'warn' method is deprecated, use 'warning' instead\n",
      "  logger.warn('Shape of x must be 2D at computation.')\n",
      "WARNING:gpflow.logdensities:Shape of x must be 2D at computation.\n"
     ]
    },
    {
     "name": "stdout",
     "output_type": "stream",
     "text": [
      "INFO:tensorflow:Optimization terminated with:\n",
      "  Message: b'CONVERGENCE: REL_REDUCTION_OF_F_<=_FACTR*EPSMCH'\n",
      "  Objective function value: 1079.461978\n",
      "  Number of iterations: 16\n",
      "  Number of functions evaluations: 20\n"
     ]
    },
    {
     "name": "stderr",
     "output_type": "stream",
     "text": [
      "INFO:tensorflow:Optimization terminated with:\n",
      "  Message: b'CONVERGENCE: REL_REDUCTION_OF_F_<=_FACTR*EPSMCH'\n",
      "  Objective function value: 1079.461978\n",
      "  Number of iterations: 16\n",
      "  Number of functions evaluations: 20\n",
      "/home/albert/miniconda3/envs/tectf/lib/python3.6/site-packages/tables-3.4.4-py3.6-linux-x86_64.egg/tables/file.py:767: DeprecationWarning: The use of uppercase keyword parameters is deprecated\n",
      "  \"deprecated\", DeprecationWarning)\n",
      "/home/albert/miniconda3/envs/tectf/lib/python3.6/site-packages/tables-3.4.4-py3.6-linux-x86_64.egg/tables/file.py:767: DeprecationWarning: The use of uppercase keyword parameters is deprecated\n",
      "  \"deprecated\", DeprecationWarning)\n",
      "ERROR:root:Reference possible only for phase, scalarphase, clock, tec, tec3rd, and rotation solution tables. Ignore referencing.\n",
      "/home/albert/miniconda3/envs/tectf/lib/python3.6/site-packages/gpflow-1.3.0-py3.6.egg/gpflow/_settings.py:67: DeprecationWarning: tf_int is deprecated and will be removed at GPflow version 1.2.0. Use int_type.\n",
      "  'version 1.2.0. Use int_type.', DeprecationWarning)\n",
      "/home/albert/miniconda3/envs/tectf/lib/python3.6/site-packages/gpflow-1.3.0-py3.6.egg/gpflow/_settings.py:61: DeprecationWarning: tf_float is deprecated and will be removed at GPflow version 1.2.0. Use float_type.\n",
      "  'version 1.2.0. Use float_type.', DeprecationWarning)\n",
      "/home/albert/miniconda3/envs/tectf/lib/python3.6/site-packages/gpflow-1.3.0-py3.6.egg/gpflow/logdensities.py:91: DeprecationWarning: The 'warn' method is deprecated, use 'warning' instead\n",
      "  logger.warn('Shape of x must be 2D at computation.')\n",
      "WARNING:gpflow.logdensities:Shape of x must be 2D at computation.\n"
     ]
    },
    {
     "name": "stdout",
     "output_type": "stream",
     "text": [
      "INFO:tensorflow:Optimization terminated with:\n",
      "  Message: b'CONVERGENCE: NORM_OF_PROJECTED_GRADIENT_<=_PGTOL'\n",
      "  Objective function value: 1218.813801\n",
      "  Number of iterations: 17\n",
      "  Number of functions evaluations: 19\n"
     ]
    },
    {
     "name": "stderr",
     "output_type": "stream",
     "text": [
      "INFO:tensorflow:Optimization terminated with:\n",
      "  Message: b'CONVERGENCE: NORM_OF_PROJECTED_GRADIENT_<=_PGTOL'\n",
      "  Objective function value: 1218.813801\n",
      "  Number of iterations: 17\n",
      "  Number of functions evaluations: 19\n",
      "/home/albert/miniconda3/envs/tectf/lib/python3.6/site-packages/tables-3.4.4-py3.6-linux-x86_64.egg/tables/file.py:767: DeprecationWarning: The use of uppercase keyword parameters is deprecated\n",
      "  \"deprecated\", DeprecationWarning)\n",
      "/home/albert/miniconda3/envs/tectf/lib/python3.6/site-packages/tables-3.4.4-py3.6-linux-x86_64.egg/tables/file.py:767: DeprecationWarning: The use of uppercase keyword parameters is deprecated\n",
      "  \"deprecated\", DeprecationWarning)\n",
      "ERROR:root:Reference possible only for phase, scalarphase, clock, tec, tec3rd, and rotation solution tables. Ignore referencing.\n",
      "/home/albert/miniconda3/envs/tectf/lib/python3.6/site-packages/gpflow-1.3.0-py3.6.egg/gpflow/_settings.py:67: DeprecationWarning: tf_int is deprecated and will be removed at GPflow version 1.2.0. Use int_type.\n",
      "  'version 1.2.0. Use int_type.', DeprecationWarning)\n",
      "/home/albert/miniconda3/envs/tectf/lib/python3.6/site-packages/gpflow-1.3.0-py3.6.egg/gpflow/_settings.py:61: DeprecationWarning: tf_float is deprecated and will be removed at GPflow version 1.2.0. Use float_type.\n",
      "  'version 1.2.0. Use float_type.', DeprecationWarning)\n",
      "/home/albert/miniconda3/envs/tectf/lib/python3.6/site-packages/gpflow-1.3.0-py3.6.egg/gpflow/logdensities.py:91: DeprecationWarning: The 'warn' method is deprecated, use 'warning' instead\n",
      "  logger.warn('Shape of x must be 2D at computation.')\n",
      "WARNING:gpflow.logdensities:Shape of x must be 2D at computation.\n"
     ]
    },
    {
     "name": "stdout",
     "output_type": "stream",
     "text": [
      "INFO:tensorflow:Optimization terminated with:\n",
      "  Message: b'CONVERGENCE: REL_REDUCTION_OF_F_<=_FACTR*EPSMCH'\n",
      "  Objective function value: 1292.529082\n",
      "  Number of iterations: 17\n",
      "  Number of functions evaluations: 19\n"
     ]
    },
    {
     "name": "stderr",
     "output_type": "stream",
     "text": [
      "INFO:tensorflow:Optimization terminated with:\n",
      "  Message: b'CONVERGENCE: REL_REDUCTION_OF_F_<=_FACTR*EPSMCH'\n",
      "  Objective function value: 1292.529082\n",
      "  Number of iterations: 17\n",
      "  Number of functions evaluations: 19\n",
      "/home/albert/miniconda3/envs/tectf/lib/python3.6/site-packages/tables-3.4.4-py3.6-linux-x86_64.egg/tables/file.py:767: DeprecationWarning: The use of uppercase keyword parameters is deprecated\n",
      "  \"deprecated\", DeprecationWarning)\n",
      "/home/albert/miniconda3/envs/tectf/lib/python3.6/site-packages/tables-3.4.4-py3.6-linux-x86_64.egg/tables/file.py:767: DeprecationWarning: The use of uppercase keyword parameters is deprecated\n",
      "  \"deprecated\", DeprecationWarning)\n",
      "ERROR:root:Reference possible only for phase, scalarphase, clock, tec, tec3rd, and rotation solution tables. Ignore referencing.\n",
      "/home/albert/miniconda3/envs/tectf/lib/python3.6/site-packages/gpflow-1.3.0-py3.6.egg/gpflow/_settings.py:67: DeprecationWarning: tf_int is deprecated and will be removed at GPflow version 1.2.0. Use int_type.\n",
      "  'version 1.2.0. Use int_type.', DeprecationWarning)\n",
      "/home/albert/miniconda3/envs/tectf/lib/python3.6/site-packages/gpflow-1.3.0-py3.6.egg/gpflow/_settings.py:61: DeprecationWarning: tf_float is deprecated and will be removed at GPflow version 1.2.0. Use float_type.\n",
      "  'version 1.2.0. Use float_type.', DeprecationWarning)\n",
      "/home/albert/miniconda3/envs/tectf/lib/python3.6/site-packages/gpflow-1.3.0-py3.6.egg/gpflow/logdensities.py:91: DeprecationWarning: The 'warn' method is deprecated, use 'warning' instead\n",
      "  logger.warn('Shape of x must be 2D at computation.')\n",
      "WARNING:gpflow.logdensities:Shape of x must be 2D at computation.\n"
     ]
    },
    {
     "name": "stdout",
     "output_type": "stream",
     "text": [
      "INFO:tensorflow:Optimization terminated with:\n",
      "  Message: b'CONVERGENCE: REL_REDUCTION_OF_F_<=_FACTR*EPSMCH'\n",
      "  Objective function value: 1506.159143\n",
      "  Number of iterations: 14\n",
      "  Number of functions evaluations: 18\n"
     ]
    },
    {
     "name": "stderr",
     "output_type": "stream",
     "text": [
      "INFO:tensorflow:Optimization terminated with:\n",
      "  Message: b'CONVERGENCE: REL_REDUCTION_OF_F_<=_FACTR*EPSMCH'\n",
      "  Objective function value: 1506.159143\n",
      "  Number of iterations: 14\n",
      "  Number of functions evaluations: 18\n",
      "/home/albert/miniconda3/envs/tectf/lib/python3.6/site-packages/tables-3.4.4-py3.6-linux-x86_64.egg/tables/file.py:767: DeprecationWarning: The use of uppercase keyword parameters is deprecated\n",
      "  \"deprecated\", DeprecationWarning)\n",
      "/home/albert/miniconda3/envs/tectf/lib/python3.6/site-packages/tables-3.4.4-py3.6-linux-x86_64.egg/tables/file.py:767: DeprecationWarning: The use of uppercase keyword parameters is deprecated\n",
      "  \"deprecated\", DeprecationWarning)\n",
      "ERROR:root:Reference possible only for phase, scalarphase, clock, tec, tec3rd, and rotation solution tables. Ignore referencing.\n",
      "/home/albert/miniconda3/envs/tectf/lib/python3.6/site-packages/gpflow-1.3.0-py3.6.egg/gpflow/_settings.py:67: DeprecationWarning: tf_int is deprecated and will be removed at GPflow version 1.2.0. Use int_type.\n",
      "  'version 1.2.0. Use int_type.', DeprecationWarning)\n",
      "/home/albert/miniconda3/envs/tectf/lib/python3.6/site-packages/gpflow-1.3.0-py3.6.egg/gpflow/_settings.py:61: DeprecationWarning: tf_float is deprecated and will be removed at GPflow version 1.2.0. Use float_type.\n",
      "  'version 1.2.0. Use float_type.', DeprecationWarning)\n",
      "/home/albert/miniconda3/envs/tectf/lib/python3.6/site-packages/gpflow-1.3.0-py3.6.egg/gpflow/logdensities.py:91: DeprecationWarning: The 'warn' method is deprecated, use 'warning' instead\n",
      "  logger.warn('Shape of x must be 2D at computation.')\n",
      "WARNING:gpflow.logdensities:Shape of x must be 2D at computation.\n"
     ]
    },
    {
     "name": "stdout",
     "output_type": "stream",
     "text": [
      "INFO:tensorflow:Optimization terminated with:\n",
      "  Message: b'CONVERGENCE: REL_REDUCTION_OF_F_<=_FACTR*EPSMCH'\n",
      "  Objective function value: 1698.931303\n",
      "  Number of iterations: 13\n",
      "  Number of functions evaluations: 16\n"
     ]
    },
    {
     "name": "stderr",
     "output_type": "stream",
     "text": [
      "INFO:tensorflow:Optimization terminated with:\n",
      "  Message: b'CONVERGENCE: REL_REDUCTION_OF_F_<=_FACTR*EPSMCH'\n",
      "  Objective function value: 1698.931303\n",
      "  Number of iterations: 13\n",
      "  Number of functions evaluations: 16\n",
      "/home/albert/miniconda3/envs/tectf/lib/python3.6/site-packages/tables-3.4.4-py3.6-linux-x86_64.egg/tables/file.py:767: DeprecationWarning: The use of uppercase keyword parameters is deprecated\n",
      "  \"deprecated\", DeprecationWarning)\n",
      "/home/albert/miniconda3/envs/tectf/lib/python3.6/site-packages/tables-3.4.4-py3.6-linux-x86_64.egg/tables/file.py:767: DeprecationWarning: The use of uppercase keyword parameters is deprecated\n",
      "  \"deprecated\", DeprecationWarning)\n",
      "ERROR:root:Reference possible only for phase, scalarphase, clock, tec, tec3rd, and rotation solution tables. Ignore referencing.\n",
      "/home/albert/miniconda3/envs/tectf/lib/python3.6/site-packages/gpflow-1.3.0-py3.6.egg/gpflow/_settings.py:67: DeprecationWarning: tf_int is deprecated and will be removed at GPflow version 1.2.0. Use int_type.\n",
      "  'version 1.2.0. Use int_type.', DeprecationWarning)\n",
      "/home/albert/miniconda3/envs/tectf/lib/python3.6/site-packages/gpflow-1.3.0-py3.6.egg/gpflow/_settings.py:61: DeprecationWarning: tf_float is deprecated and will be removed at GPflow version 1.2.0. Use float_type.\n",
      "  'version 1.2.0. Use float_type.', DeprecationWarning)\n",
      "/home/albert/miniconda3/envs/tectf/lib/python3.6/site-packages/gpflow-1.3.0-py3.6.egg/gpflow/logdensities.py:91: DeprecationWarning: The 'warn' method is deprecated, use 'warning' instead\n",
      "  logger.warn('Shape of x must be 2D at computation.')\n",
      "WARNING:gpflow.logdensities:Shape of x must be 2D at computation.\n"
     ]
    },
    {
     "name": "stdout",
     "output_type": "stream",
     "text": [
      "INFO:tensorflow:Optimization terminated with:\n",
      "  Message: b'CONVERGENCE: REL_REDUCTION_OF_F_<=_FACTR*EPSMCH'\n",
      "  Objective function value: 1682.803798\n",
      "  Number of iterations: 13\n",
      "  Number of functions evaluations: 15\n"
     ]
    },
    {
     "name": "stderr",
     "output_type": "stream",
     "text": [
      "INFO:tensorflow:Optimization terminated with:\n",
      "  Message: b'CONVERGENCE: REL_REDUCTION_OF_F_<=_FACTR*EPSMCH'\n",
      "  Objective function value: 1682.803798\n",
      "  Number of iterations: 13\n",
      "  Number of functions evaluations: 15\n",
      "/home/albert/miniconda3/envs/tectf/lib/python3.6/site-packages/tables-3.4.4-py3.6-linux-x86_64.egg/tables/file.py:767: DeprecationWarning: The use of uppercase keyword parameters is deprecated\n",
      "  \"deprecated\", DeprecationWarning)\n",
      "/home/albert/miniconda3/envs/tectf/lib/python3.6/site-packages/tables-3.4.4-py3.6-linux-x86_64.egg/tables/file.py:767: DeprecationWarning: The use of uppercase keyword parameters is deprecated\n",
      "  \"deprecated\", DeprecationWarning)\n",
      "ERROR:root:Reference possible only for phase, scalarphase, clock, tec, tec3rd, and rotation solution tables. Ignore referencing.\n",
      "/home/albert/miniconda3/envs/tectf/lib/python3.6/site-packages/gpflow-1.3.0-py3.6.egg/gpflow/_settings.py:67: DeprecationWarning: tf_int is deprecated and will be removed at GPflow version 1.2.0. Use int_type.\n",
      "  'version 1.2.0. Use int_type.', DeprecationWarning)\n",
      "/home/albert/miniconda3/envs/tectf/lib/python3.6/site-packages/gpflow-1.3.0-py3.6.egg/gpflow/_settings.py:61: DeprecationWarning: tf_float is deprecated and will be removed at GPflow version 1.2.0. Use float_type.\n",
      "  'version 1.2.0. Use float_type.', DeprecationWarning)\n",
      "/home/albert/miniconda3/envs/tectf/lib/python3.6/site-packages/gpflow-1.3.0-py3.6.egg/gpflow/logdensities.py:91: DeprecationWarning: The 'warn' method is deprecated, use 'warning' instead\n",
      "  logger.warn('Shape of x must be 2D at computation.')\n",
      "WARNING:gpflow.logdensities:Shape of x must be 2D at computation.\n"
     ]
    },
    {
     "name": "stdout",
     "output_type": "stream",
     "text": [
      "INFO:tensorflow:Optimization terminated with:\n",
      "  Message: b'CONVERGENCE: REL_REDUCTION_OF_F_<=_FACTR*EPSMCH'\n",
      "  Objective function value: 1490.918018\n",
      "  Number of iterations: 15\n",
      "  Number of functions evaluations: 18\n"
     ]
    },
    {
     "name": "stderr",
     "output_type": "stream",
     "text": [
      "INFO:tensorflow:Optimization terminated with:\n",
      "  Message: b'CONVERGENCE: REL_REDUCTION_OF_F_<=_FACTR*EPSMCH'\n",
      "  Objective function value: 1490.918018\n",
      "  Number of iterations: 15\n",
      "  Number of functions evaluations: 18\n",
      "/home/albert/miniconda3/envs/tectf/lib/python3.6/site-packages/tables-3.4.4-py3.6-linux-x86_64.egg/tables/file.py:767: DeprecationWarning: The use of uppercase keyword parameters is deprecated\n",
      "  \"deprecated\", DeprecationWarning)\n",
      "/home/albert/miniconda3/envs/tectf/lib/python3.6/site-packages/tables-3.4.4-py3.6-linux-x86_64.egg/tables/file.py:767: DeprecationWarning: The use of uppercase keyword parameters is deprecated\n",
      "  \"deprecated\", DeprecationWarning)\n",
      "ERROR:root:Reference possible only for phase, scalarphase, clock, tec, tec3rd, and rotation solution tables. Ignore referencing.\n",
      "/home/albert/miniconda3/envs/tectf/lib/python3.6/site-packages/gpflow-1.3.0-py3.6.egg/gpflow/_settings.py:67: DeprecationWarning: tf_int is deprecated and will be removed at GPflow version 1.2.0. Use int_type.\n",
      "  'version 1.2.0. Use int_type.', DeprecationWarning)\n",
      "/home/albert/miniconda3/envs/tectf/lib/python3.6/site-packages/gpflow-1.3.0-py3.6.egg/gpflow/_settings.py:61: DeprecationWarning: tf_float is deprecated and will be removed at GPflow version 1.2.0. Use float_type.\n",
      "  'version 1.2.0. Use float_type.', DeprecationWarning)\n",
      "/home/albert/miniconda3/envs/tectf/lib/python3.6/site-packages/gpflow-1.3.0-py3.6.egg/gpflow/logdensities.py:91: DeprecationWarning: The 'warn' method is deprecated, use 'warning' instead\n",
      "  logger.warn('Shape of x must be 2D at computation.')\n",
      "WARNING:gpflow.logdensities:Shape of x must be 2D at computation.\n"
     ]
    },
    {
     "name": "stdout",
     "output_type": "stream",
     "text": [
      "INFO:tensorflow:Optimization terminated with:\n",
      "  Message: b'CONVERGENCE: REL_REDUCTION_OF_F_<=_FACTR*EPSMCH'\n",
      "  Objective function value: 1306.548738\n",
      "  Number of iterations: 14\n",
      "  Number of functions evaluations: 17\n"
     ]
    },
    {
     "name": "stderr",
     "output_type": "stream",
     "text": [
      "INFO:tensorflow:Optimization terminated with:\n",
      "  Message: b'CONVERGENCE: REL_REDUCTION_OF_F_<=_FACTR*EPSMCH'\n",
      "  Objective function value: 1306.548738\n",
      "  Number of iterations: 14\n",
      "  Number of functions evaluations: 17\n",
      "/home/albert/miniconda3/envs/tectf/lib/python3.6/site-packages/tables-3.4.4-py3.6-linux-x86_64.egg/tables/file.py:767: DeprecationWarning: The use of uppercase keyword parameters is deprecated\n",
      "  \"deprecated\", DeprecationWarning)\n",
      "/home/albert/miniconda3/envs/tectf/lib/python3.6/site-packages/tables-3.4.4-py3.6-linux-x86_64.egg/tables/file.py:767: DeprecationWarning: The use of uppercase keyword parameters is deprecated\n",
      "  \"deprecated\", DeprecationWarning)\n",
      "ERROR:root:Reference possible only for phase, scalarphase, clock, tec, tec3rd, and rotation solution tables. Ignore referencing.\n",
      "/home/albert/miniconda3/envs/tectf/lib/python3.6/site-packages/gpflow-1.3.0-py3.6.egg/gpflow/_settings.py:67: DeprecationWarning: tf_int is deprecated and will be removed at GPflow version 1.2.0. Use int_type.\n",
      "  'version 1.2.0. Use int_type.', DeprecationWarning)\n",
      "/home/albert/miniconda3/envs/tectf/lib/python3.6/site-packages/gpflow-1.3.0-py3.6.egg/gpflow/_settings.py:61: DeprecationWarning: tf_float is deprecated and will be removed at GPflow version 1.2.0. Use float_type.\n",
      "  'version 1.2.0. Use float_type.', DeprecationWarning)\n",
      "/home/albert/miniconda3/envs/tectf/lib/python3.6/site-packages/gpflow-1.3.0-py3.6.egg/gpflow/logdensities.py:91: DeprecationWarning: The 'warn' method is deprecated, use 'warning' instead\n",
      "  logger.warn('Shape of x must be 2D at computation.')\n",
      "WARNING:gpflow.logdensities:Shape of x must be 2D at computation.\n"
     ]
    },
    {
     "name": "stdout",
     "output_type": "stream",
     "text": [
      "INFO:tensorflow:Optimization terminated with:\n",
      "  Message: b'CONVERGENCE: REL_REDUCTION_OF_F_<=_FACTR*EPSMCH'\n",
      "  Objective function value: 1277.217431\n",
      "  Number of iterations: 13\n",
      "  Number of functions evaluations: 16\n"
     ]
    },
    {
     "name": "stderr",
     "output_type": "stream",
     "text": [
      "INFO:tensorflow:Optimization terminated with:\n",
      "  Message: b'CONVERGENCE: REL_REDUCTION_OF_F_<=_FACTR*EPSMCH'\n",
      "  Objective function value: 1277.217431\n",
      "  Number of iterations: 13\n",
      "  Number of functions evaluations: 16\n",
      "/home/albert/miniconda3/envs/tectf/lib/python3.6/site-packages/tables-3.4.4-py3.6-linux-x86_64.egg/tables/file.py:767: DeprecationWarning: The use of uppercase keyword parameters is deprecated\n",
      "  \"deprecated\", DeprecationWarning)\n",
      "/home/albert/miniconda3/envs/tectf/lib/python3.6/site-packages/tables-3.4.4-py3.6-linux-x86_64.egg/tables/file.py:767: DeprecationWarning: The use of uppercase keyword parameters is deprecated\n",
      "  \"deprecated\", DeprecationWarning)\n",
      "ERROR:root:Reference possible only for phase, scalarphase, clock, tec, tec3rd, and rotation solution tables. Ignore referencing.\n",
      "/home/albert/miniconda3/envs/tectf/lib/python3.6/site-packages/gpflow-1.3.0-py3.6.egg/gpflow/_settings.py:67: DeprecationWarning: tf_int is deprecated and will be removed at GPflow version 1.2.0. Use int_type.\n",
      "  'version 1.2.0. Use int_type.', DeprecationWarning)\n",
      "/home/albert/miniconda3/envs/tectf/lib/python3.6/site-packages/gpflow-1.3.0-py3.6.egg/gpflow/_settings.py:61: DeprecationWarning: tf_float is deprecated and will be removed at GPflow version 1.2.0. Use float_type.\n",
      "  'version 1.2.0. Use float_type.', DeprecationWarning)\n",
      "/home/albert/miniconda3/envs/tectf/lib/python3.6/site-packages/gpflow-1.3.0-py3.6.egg/gpflow/logdensities.py:91: DeprecationWarning: The 'warn' method is deprecated, use 'warning' instead\n",
      "  logger.warn('Shape of x must be 2D at computation.')\n",
      "WARNING:gpflow.logdensities:Shape of x must be 2D at computation.\n"
     ]
    },
    {
     "name": "stdout",
     "output_type": "stream",
     "text": [
      "INFO:tensorflow:Optimization terminated with:\n",
      "  Message: b'CONVERGENCE: REL_REDUCTION_OF_F_<=_FACTR*EPSMCH'\n",
      "  Objective function value: 1239.278501\n",
      "  Number of iterations: 11\n",
      "  Number of functions evaluations: 13\n"
     ]
    },
    {
     "name": "stderr",
     "output_type": "stream",
     "text": [
      "INFO:tensorflow:Optimization terminated with:\n",
      "  Message: b'CONVERGENCE: REL_REDUCTION_OF_F_<=_FACTR*EPSMCH'\n",
      "  Objective function value: 1239.278501\n",
      "  Number of iterations: 11\n",
      "  Number of functions evaluations: 13\n",
      "/home/albert/miniconda3/envs/tectf/lib/python3.6/site-packages/tables-3.4.4-py3.6-linux-x86_64.egg/tables/file.py:767: DeprecationWarning: The use of uppercase keyword parameters is deprecated\n",
      "  \"deprecated\", DeprecationWarning)\n",
      "/home/albert/miniconda3/envs/tectf/lib/python3.6/site-packages/tables-3.4.4-py3.6-linux-x86_64.egg/tables/file.py:767: DeprecationWarning: The use of uppercase keyword parameters is deprecated\n",
      "  \"deprecated\", DeprecationWarning)\n",
      "ERROR:root:Reference possible only for phase, scalarphase, clock, tec, tec3rd, and rotation solution tables. Ignore referencing.\n",
      "/home/albert/miniconda3/envs/tectf/lib/python3.6/site-packages/gpflow-1.3.0-py3.6.egg/gpflow/_settings.py:67: DeprecationWarning: tf_int is deprecated and will be removed at GPflow version 1.2.0. Use int_type.\n",
      "  'version 1.2.0. Use int_type.', DeprecationWarning)\n",
      "/home/albert/miniconda3/envs/tectf/lib/python3.6/site-packages/gpflow-1.3.0-py3.6.egg/gpflow/_settings.py:61: DeprecationWarning: tf_float is deprecated and will be removed at GPflow version 1.2.0. Use float_type.\n",
      "  'version 1.2.0. Use float_type.', DeprecationWarning)\n",
      "/home/albert/miniconda3/envs/tectf/lib/python3.6/site-packages/gpflow-1.3.0-py3.6.egg/gpflow/logdensities.py:91: DeprecationWarning: The 'warn' method is deprecated, use 'warning' instead\n",
      "  logger.warn('Shape of x must be 2D at computation.')\n",
      "WARNING:gpflow.logdensities:Shape of x must be 2D at computation.\n"
     ]
    },
    {
     "name": "stdout",
     "output_type": "stream",
     "text": [
      "INFO:tensorflow:Optimization terminated with:\n",
      "  Message: b'CONVERGENCE: REL_REDUCTION_OF_F_<=_FACTR*EPSMCH'\n",
      "  Objective function value: 1143.757086\n",
      "  Number of iterations: 14\n",
      "  Number of functions evaluations: 20\n"
     ]
    },
    {
     "name": "stderr",
     "output_type": "stream",
     "text": [
      "INFO:tensorflow:Optimization terminated with:\n",
      "  Message: b'CONVERGENCE: REL_REDUCTION_OF_F_<=_FACTR*EPSMCH'\n",
      "  Objective function value: 1143.757086\n",
      "  Number of iterations: 14\n",
      "  Number of functions evaluations: 20\n",
      "/home/albert/miniconda3/envs/tectf/lib/python3.6/site-packages/tables-3.4.4-py3.6-linux-x86_64.egg/tables/file.py:767: DeprecationWarning: The use of uppercase keyword parameters is deprecated\n",
      "  \"deprecated\", DeprecationWarning)\n",
      "/home/albert/miniconda3/envs/tectf/lib/python3.6/site-packages/tables-3.4.4-py3.6-linux-x86_64.egg/tables/file.py:767: DeprecationWarning: The use of uppercase keyword parameters is deprecated\n",
      "  \"deprecated\", DeprecationWarning)\n",
      "ERROR:root:Reference possible only for phase, scalarphase, clock, tec, tec3rd, and rotation solution tables. Ignore referencing.\n",
      "/home/albert/miniconda3/envs/tectf/lib/python3.6/site-packages/gpflow-1.3.0-py3.6.egg/gpflow/_settings.py:67: DeprecationWarning: tf_int is deprecated and will be removed at GPflow version 1.2.0. Use int_type.\n",
      "  'version 1.2.0. Use int_type.', DeprecationWarning)\n",
      "/home/albert/miniconda3/envs/tectf/lib/python3.6/site-packages/gpflow-1.3.0-py3.6.egg/gpflow/_settings.py:61: DeprecationWarning: tf_float is deprecated and will be removed at GPflow version 1.2.0. Use float_type.\n",
      "  'version 1.2.0. Use float_type.', DeprecationWarning)\n",
      "/home/albert/miniconda3/envs/tectf/lib/python3.6/site-packages/gpflow-1.3.0-py3.6.egg/gpflow/logdensities.py:91: DeprecationWarning: The 'warn' method is deprecated, use 'warning' instead\n",
      "  logger.warn('Shape of x must be 2D at computation.')\n",
      "WARNING:gpflow.logdensities:Shape of x must be 2D at computation.\n"
     ]
    },
    {
     "name": "stdout",
     "output_type": "stream",
     "text": [
      "INFO:tensorflow:Optimization terminated with:\n",
      "  Message: b'CONVERGENCE: REL_REDUCTION_OF_F_<=_FACTR*EPSMCH'\n",
      "  Objective function value: 1074.161116\n",
      "  Number of iterations: 14\n",
      "  Number of functions evaluations: 17\n"
     ]
    },
    {
     "name": "stderr",
     "output_type": "stream",
     "text": [
      "INFO:tensorflow:Optimization terminated with:\n",
      "  Message: b'CONVERGENCE: REL_REDUCTION_OF_F_<=_FACTR*EPSMCH'\n",
      "  Objective function value: 1074.161116\n",
      "  Number of iterations: 14\n",
      "  Number of functions evaluations: 17\n",
      "/home/albert/miniconda3/envs/tectf/lib/python3.6/site-packages/tables-3.4.4-py3.6-linux-x86_64.egg/tables/file.py:767: DeprecationWarning: The use of uppercase keyword parameters is deprecated\n",
      "  \"deprecated\", DeprecationWarning)\n",
      "/home/albert/miniconda3/envs/tectf/lib/python3.6/site-packages/tables-3.4.4-py3.6-linux-x86_64.egg/tables/file.py:767: DeprecationWarning: The use of uppercase keyword parameters is deprecated\n",
      "  \"deprecated\", DeprecationWarning)\n",
      "ERROR:root:Reference possible only for phase, scalarphase, clock, tec, tec3rd, and rotation solution tables. Ignore referencing.\n",
      "/home/albert/miniconda3/envs/tectf/lib/python3.6/site-packages/gpflow-1.3.0-py3.6.egg/gpflow/_settings.py:67: DeprecationWarning: tf_int is deprecated and will be removed at GPflow version 1.2.0. Use int_type.\n",
      "  'version 1.2.0. Use int_type.', DeprecationWarning)\n",
      "/home/albert/miniconda3/envs/tectf/lib/python3.6/site-packages/gpflow-1.3.0-py3.6.egg/gpflow/_settings.py:61: DeprecationWarning: tf_float is deprecated and will be removed at GPflow version 1.2.0. Use float_type.\n",
      "  'version 1.2.0. Use float_type.', DeprecationWarning)\n",
      "/home/albert/miniconda3/envs/tectf/lib/python3.6/site-packages/gpflow-1.3.0-py3.6.egg/gpflow/logdensities.py:91: DeprecationWarning: The 'warn' method is deprecated, use 'warning' instead\n",
      "  logger.warn('Shape of x must be 2D at computation.')\n",
      "WARNING:gpflow.logdensities:Shape of x must be 2D at computation.\n"
     ]
    },
    {
     "name": "stdout",
     "output_type": "stream",
     "text": [
      "INFO:tensorflow:Optimization terminated with:\n",
      "  Message: b'CONVERGENCE: REL_REDUCTION_OF_F_<=_FACTR*EPSMCH'\n",
      "  Objective function value: 1113.643247\n",
      "  Number of iterations: 14\n",
      "  Number of functions evaluations: 17\n"
     ]
    },
    {
     "name": "stderr",
     "output_type": "stream",
     "text": [
      "INFO:tensorflow:Optimization terminated with:\n",
      "  Message: b'CONVERGENCE: REL_REDUCTION_OF_F_<=_FACTR*EPSMCH'\n",
      "  Objective function value: 1113.643247\n",
      "  Number of iterations: 14\n",
      "  Number of functions evaluations: 17\n",
      "/home/albert/miniconda3/envs/tectf/lib/python3.6/site-packages/tables-3.4.4-py3.6-linux-x86_64.egg/tables/file.py:767: DeprecationWarning: The use of uppercase keyword parameters is deprecated\n",
      "  \"deprecated\", DeprecationWarning)\n",
      "/home/albert/miniconda3/envs/tectf/lib/python3.6/site-packages/tables-3.4.4-py3.6-linux-x86_64.egg/tables/file.py:767: DeprecationWarning: The use of uppercase keyword parameters is deprecated\n",
      "  \"deprecated\", DeprecationWarning)\n",
      "ERROR:root:Reference possible only for phase, scalarphase, clock, tec, tec3rd, and rotation solution tables. Ignore referencing.\n",
      "/home/albert/miniconda3/envs/tectf/lib/python3.6/site-packages/gpflow-1.3.0-py3.6.egg/gpflow/_settings.py:67: DeprecationWarning: tf_int is deprecated and will be removed at GPflow version 1.2.0. Use int_type.\n",
      "  'version 1.2.0. Use int_type.', DeprecationWarning)\n",
      "/home/albert/miniconda3/envs/tectf/lib/python3.6/site-packages/gpflow-1.3.0-py3.6.egg/gpflow/_settings.py:61: DeprecationWarning: tf_float is deprecated and will be removed at GPflow version 1.2.0. Use float_type.\n",
      "  'version 1.2.0. Use float_type.', DeprecationWarning)\n",
      "/home/albert/miniconda3/envs/tectf/lib/python3.6/site-packages/gpflow-1.3.0-py3.6.egg/gpflow/logdensities.py:91: DeprecationWarning: The 'warn' method is deprecated, use 'warning' instead\n",
      "  logger.warn('Shape of x must be 2D at computation.')\n",
      "WARNING:gpflow.logdensities:Shape of x must be 2D at computation.\n"
     ]
    },
    {
     "name": "stdout",
     "output_type": "stream",
     "text": [
      "INFO:tensorflow:Optimization terminated with:\n",
      "  Message: b'CONVERGENCE: REL_REDUCTION_OF_F_<=_FACTR*EPSMCH'\n",
      "  Objective function value: 1096.597167\n",
      "  Number of iterations: 16\n",
      "  Number of functions evaluations: 20\n"
     ]
    },
    {
     "name": "stderr",
     "output_type": "stream",
     "text": [
      "INFO:tensorflow:Optimization terminated with:\n",
      "  Message: b'CONVERGENCE: REL_REDUCTION_OF_F_<=_FACTR*EPSMCH'\n",
      "  Objective function value: 1096.597167\n",
      "  Number of iterations: 16\n",
      "  Number of functions evaluations: 20\n",
      "/home/albert/miniconda3/envs/tectf/lib/python3.6/site-packages/tables-3.4.4-py3.6-linux-x86_64.egg/tables/file.py:767: DeprecationWarning: The use of uppercase keyword parameters is deprecated\n",
      "  \"deprecated\", DeprecationWarning)\n",
      "/home/albert/miniconda3/envs/tectf/lib/python3.6/site-packages/tables-3.4.4-py3.6-linux-x86_64.egg/tables/file.py:767: DeprecationWarning: The use of uppercase keyword parameters is deprecated\n",
      "  \"deprecated\", DeprecationWarning)\n",
      "ERROR:root:Reference possible only for phase, scalarphase, clock, tec, tec3rd, and rotation solution tables. Ignore referencing.\n",
      "/home/albert/miniconda3/envs/tectf/lib/python3.6/site-packages/gpflow-1.3.0-py3.6.egg/gpflow/_settings.py:67: DeprecationWarning: tf_int is deprecated and will be removed at GPflow version 1.2.0. Use int_type.\n",
      "  'version 1.2.0. Use int_type.', DeprecationWarning)\n",
      "/home/albert/miniconda3/envs/tectf/lib/python3.6/site-packages/gpflow-1.3.0-py3.6.egg/gpflow/_settings.py:61: DeprecationWarning: tf_float is deprecated and will be removed at GPflow version 1.2.0. Use float_type.\n",
      "  'version 1.2.0. Use float_type.', DeprecationWarning)\n",
      "/home/albert/miniconda3/envs/tectf/lib/python3.6/site-packages/gpflow-1.3.0-py3.6.egg/gpflow/logdensities.py:91: DeprecationWarning: The 'warn' method is deprecated, use 'warning' instead\n",
      "  logger.warn('Shape of x must be 2D at computation.')\n",
      "WARNING:gpflow.logdensities:Shape of x must be 2D at computation.\n"
     ]
    },
    {
     "name": "stdout",
     "output_type": "stream",
     "text": [
      "INFO:tensorflow:Optimization terminated with:\n",
      "  Message: b'CONVERGENCE: REL_REDUCTION_OF_F_<=_FACTR*EPSMCH'\n",
      "  Objective function value: 857.973989\n",
      "  Number of iterations: 17\n",
      "  Number of functions evaluations: 19\n"
     ]
    },
    {
     "name": "stderr",
     "output_type": "stream",
     "text": [
      "INFO:tensorflow:Optimization terminated with:\n",
      "  Message: b'CONVERGENCE: REL_REDUCTION_OF_F_<=_FACTR*EPSMCH'\n",
      "  Objective function value: 857.973989\n",
      "  Number of iterations: 17\n",
      "  Number of functions evaluations: 19\n",
      "/home/albert/miniconda3/envs/tectf/lib/python3.6/site-packages/tables-3.4.4-py3.6-linux-x86_64.egg/tables/file.py:767: DeprecationWarning: The use of uppercase keyword parameters is deprecated\n",
      "  \"deprecated\", DeprecationWarning)\n",
      "/home/albert/miniconda3/envs/tectf/lib/python3.6/site-packages/tables-3.4.4-py3.6-linux-x86_64.egg/tables/file.py:767: DeprecationWarning: The use of uppercase keyword parameters is deprecated\n",
      "  \"deprecated\", DeprecationWarning)\n",
      "ERROR:root:Reference possible only for phase, scalarphase, clock, tec, tec3rd, and rotation solution tables. Ignore referencing.\n",
      "/home/albert/miniconda3/envs/tectf/lib/python3.6/site-packages/gpflow-1.3.0-py3.6.egg/gpflow/_settings.py:67: DeprecationWarning: tf_int is deprecated and will be removed at GPflow version 1.2.0. Use int_type.\n",
      "  'version 1.2.0. Use int_type.', DeprecationWarning)\n",
      "/home/albert/miniconda3/envs/tectf/lib/python3.6/site-packages/gpflow-1.3.0-py3.6.egg/gpflow/_settings.py:61: DeprecationWarning: tf_float is deprecated and will be removed at GPflow version 1.2.0. Use float_type.\n",
      "  'version 1.2.0. Use float_type.', DeprecationWarning)\n",
      "/home/albert/miniconda3/envs/tectf/lib/python3.6/site-packages/gpflow-1.3.0-py3.6.egg/gpflow/logdensities.py:91: DeprecationWarning: The 'warn' method is deprecated, use 'warning' instead\n",
      "  logger.warn('Shape of x must be 2D at computation.')\n",
      "WARNING:gpflow.logdensities:Shape of x must be 2D at computation.\n"
     ]
    },
    {
     "name": "stdout",
     "output_type": "stream",
     "text": [
      "INFO:tensorflow:Optimization terminated with:\n",
      "  Message: b'CONVERGENCE: NORM_OF_PROJECTED_GRADIENT_<=_PGTOL'\n",
      "  Objective function value: 757.468558\n",
      "  Number of iterations: 16\n",
      "  Number of functions evaluations: 19\n"
     ]
    },
    {
     "name": "stderr",
     "output_type": "stream",
     "text": [
      "INFO:tensorflow:Optimization terminated with:\n",
      "  Message: b'CONVERGENCE: NORM_OF_PROJECTED_GRADIENT_<=_PGTOL'\n",
      "  Objective function value: 757.468558\n",
      "  Number of iterations: 16\n",
      "  Number of functions evaluations: 19\n",
      "/home/albert/miniconda3/envs/tectf/lib/python3.6/site-packages/tables-3.4.4-py3.6-linux-x86_64.egg/tables/file.py:767: DeprecationWarning: The use of uppercase keyword parameters is deprecated\n",
      "  \"deprecated\", DeprecationWarning)\n",
      "/home/albert/miniconda3/envs/tectf/lib/python3.6/site-packages/tables-3.4.4-py3.6-linux-x86_64.egg/tables/file.py:767: DeprecationWarning: The use of uppercase keyword parameters is deprecated\n",
      "  \"deprecated\", DeprecationWarning)\n",
      "ERROR:root:Reference possible only for phase, scalarphase, clock, tec, tec3rd, and rotation solution tables. Ignore referencing.\n",
      "/home/albert/miniconda3/envs/tectf/lib/python3.6/site-packages/gpflow-1.3.0-py3.6.egg/gpflow/_settings.py:67: DeprecationWarning: tf_int is deprecated and will be removed at GPflow version 1.2.0. Use int_type.\n",
      "  'version 1.2.0. Use int_type.', DeprecationWarning)\n",
      "/home/albert/miniconda3/envs/tectf/lib/python3.6/site-packages/gpflow-1.3.0-py3.6.egg/gpflow/_settings.py:61: DeprecationWarning: tf_float is deprecated and will be removed at GPflow version 1.2.0. Use float_type.\n",
      "  'version 1.2.0. Use float_type.', DeprecationWarning)\n",
      "/home/albert/miniconda3/envs/tectf/lib/python3.6/site-packages/gpflow-1.3.0-py3.6.egg/gpflow/logdensities.py:91: DeprecationWarning: The 'warn' method is deprecated, use 'warning' instead\n",
      "  logger.warn('Shape of x must be 2D at computation.')\n",
      "WARNING:gpflow.logdensities:Shape of x must be 2D at computation.\n"
     ]
    },
    {
     "name": "stdout",
     "output_type": "stream",
     "text": [
      "INFO:tensorflow:Optimization terminated with:\n",
      "  Message: b'CONVERGENCE: REL_REDUCTION_OF_F_<=_FACTR*EPSMCH'\n",
      "  Objective function value: 694.376000\n",
      "  Number of iterations: 15\n",
      "  Number of functions evaluations: 18\n"
     ]
    },
    {
     "name": "stderr",
     "output_type": "stream",
     "text": [
      "INFO:tensorflow:Optimization terminated with:\n",
      "  Message: b'CONVERGENCE: REL_REDUCTION_OF_F_<=_FACTR*EPSMCH'\n",
      "  Objective function value: 694.376000\n",
      "  Number of iterations: 15\n",
      "  Number of functions evaluations: 18\n",
      "/home/albert/miniconda3/envs/tectf/lib/python3.6/site-packages/tables-3.4.4-py3.6-linux-x86_64.egg/tables/file.py:767: DeprecationWarning: The use of uppercase keyword parameters is deprecated\n",
      "  \"deprecated\", DeprecationWarning)\n",
      "/home/albert/miniconda3/envs/tectf/lib/python3.6/site-packages/tables-3.4.4-py3.6-linux-x86_64.egg/tables/file.py:767: DeprecationWarning: The use of uppercase keyword parameters is deprecated\n",
      "  \"deprecated\", DeprecationWarning)\n",
      "ERROR:root:Reference possible only for phase, scalarphase, clock, tec, tec3rd, and rotation solution tables. Ignore referencing.\n",
      "/home/albert/miniconda3/envs/tectf/lib/python3.6/site-packages/gpflow-1.3.0-py3.6.egg/gpflow/_settings.py:67: DeprecationWarning: tf_int is deprecated and will be removed at GPflow version 1.2.0. Use int_type.\n",
      "  'version 1.2.0. Use int_type.', DeprecationWarning)\n",
      "/home/albert/miniconda3/envs/tectf/lib/python3.6/site-packages/gpflow-1.3.0-py3.6.egg/gpflow/_settings.py:61: DeprecationWarning: tf_float is deprecated and will be removed at GPflow version 1.2.0. Use float_type.\n",
      "  'version 1.2.0. Use float_type.', DeprecationWarning)\n",
      "/home/albert/miniconda3/envs/tectf/lib/python3.6/site-packages/gpflow-1.3.0-py3.6.egg/gpflow/logdensities.py:91: DeprecationWarning: The 'warn' method is deprecated, use 'warning' instead\n",
      "  logger.warn('Shape of x must be 2D at computation.')\n",
      "WARNING:gpflow.logdensities:Shape of x must be 2D at computation.\n"
     ]
    },
    {
     "name": "stdout",
     "output_type": "stream",
     "text": [
      "INFO:tensorflow:Optimization terminated with:\n",
      "  Message: b'CONVERGENCE: NORM_OF_PROJECTED_GRADIENT_<=_PGTOL'\n",
      "  Objective function value: 624.958429\n",
      "  Number of iterations: 15\n",
      "  Number of functions evaluations: 18\n"
     ]
    },
    {
     "name": "stderr",
     "output_type": "stream",
     "text": [
      "INFO:tensorflow:Optimization terminated with:\n",
      "  Message: b'CONVERGENCE: NORM_OF_PROJECTED_GRADIENT_<=_PGTOL'\n",
      "  Objective function value: 624.958429\n",
      "  Number of iterations: 15\n",
      "  Number of functions evaluations: 18\n",
      "/home/albert/miniconda3/envs/tectf/lib/python3.6/site-packages/tables-3.4.4-py3.6-linux-x86_64.egg/tables/file.py:767: DeprecationWarning: The use of uppercase keyword parameters is deprecated\n",
      "  \"deprecated\", DeprecationWarning)\n",
      "/home/albert/miniconda3/envs/tectf/lib/python3.6/site-packages/tables-3.4.4-py3.6-linux-x86_64.egg/tables/file.py:767: DeprecationWarning: The use of uppercase keyword parameters is deprecated\n",
      "  \"deprecated\", DeprecationWarning)\n",
      "ERROR:root:Reference possible only for phase, scalarphase, clock, tec, tec3rd, and rotation solution tables. Ignore referencing.\n",
      "/home/albert/miniconda3/envs/tectf/lib/python3.6/site-packages/gpflow-1.3.0-py3.6.egg/gpflow/_settings.py:67: DeprecationWarning: tf_int is deprecated and will be removed at GPflow version 1.2.0. Use int_type.\n",
      "  'version 1.2.0. Use int_type.', DeprecationWarning)\n",
      "/home/albert/miniconda3/envs/tectf/lib/python3.6/site-packages/gpflow-1.3.0-py3.6.egg/gpflow/_settings.py:61: DeprecationWarning: tf_float is deprecated and will be removed at GPflow version 1.2.0. Use float_type.\n",
      "  'version 1.2.0. Use float_type.', DeprecationWarning)\n",
      "/home/albert/miniconda3/envs/tectf/lib/python3.6/site-packages/gpflow-1.3.0-py3.6.egg/gpflow/logdensities.py:91: DeprecationWarning: The 'warn' method is deprecated, use 'warning' instead\n",
      "  logger.warn('Shape of x must be 2D at computation.')\n",
      "WARNING:gpflow.logdensities:Shape of x must be 2D at computation.\n"
     ]
    },
    {
     "name": "stdout",
     "output_type": "stream",
     "text": [
      "INFO:tensorflow:Optimization terminated with:\n",
      "  Message: b'CONVERGENCE: NORM_OF_PROJECTED_GRADIENT_<=_PGTOL'\n",
      "  Objective function value: 548.252295\n",
      "  Number of iterations: 15\n",
      "  Number of functions evaluations: 17\n"
     ]
    },
    {
     "name": "stderr",
     "output_type": "stream",
     "text": [
      "INFO:tensorflow:Optimization terminated with:\n",
      "  Message: b'CONVERGENCE: NORM_OF_PROJECTED_GRADIENT_<=_PGTOL'\n",
      "  Objective function value: 548.252295\n",
      "  Number of iterations: 15\n",
      "  Number of functions evaluations: 17\n",
      "/home/albert/miniconda3/envs/tectf/lib/python3.6/site-packages/tables-3.4.4-py3.6-linux-x86_64.egg/tables/file.py:767: DeprecationWarning: The use of uppercase keyword parameters is deprecated\n",
      "  \"deprecated\", DeprecationWarning)\n",
      "/home/albert/miniconda3/envs/tectf/lib/python3.6/site-packages/tables-3.4.4-py3.6-linux-x86_64.egg/tables/file.py:767: DeprecationWarning: The use of uppercase keyword parameters is deprecated\n",
      "  \"deprecated\", DeprecationWarning)\n",
      "ERROR:root:Reference possible only for phase, scalarphase, clock, tec, tec3rd, and rotation solution tables. Ignore referencing.\n",
      "/home/albert/miniconda3/envs/tectf/lib/python3.6/site-packages/gpflow-1.3.0-py3.6.egg/gpflow/_settings.py:67: DeprecationWarning: tf_int is deprecated and will be removed at GPflow version 1.2.0. Use int_type.\n",
      "  'version 1.2.0. Use int_type.', DeprecationWarning)\n",
      "/home/albert/miniconda3/envs/tectf/lib/python3.6/site-packages/gpflow-1.3.0-py3.6.egg/gpflow/_settings.py:61: DeprecationWarning: tf_float is deprecated and will be removed at GPflow version 1.2.0. Use float_type.\n",
      "  'version 1.2.0. Use float_type.', DeprecationWarning)\n",
      "/home/albert/miniconda3/envs/tectf/lib/python3.6/site-packages/gpflow-1.3.0-py3.6.egg/gpflow/logdensities.py:91: DeprecationWarning: The 'warn' method is deprecated, use 'warning' instead\n",
      "  logger.warn('Shape of x must be 2D at computation.')\n",
      "WARNING:gpflow.logdensities:Shape of x must be 2D at computation.\n"
     ]
    },
    {
     "name": "stdout",
     "output_type": "stream",
     "text": [
      "INFO:tensorflow:Optimization terminated with:\n",
      "  Message: b'CONVERGENCE: NORM_OF_PROJECTED_GRADIENT_<=_PGTOL'\n",
      "  Objective function value: 520.970316\n",
      "  Number of iterations: 16\n",
      "  Number of functions evaluations: 19\n"
     ]
    },
    {
     "name": "stderr",
     "output_type": "stream",
     "text": [
      "INFO:tensorflow:Optimization terminated with:\n",
      "  Message: b'CONVERGENCE: NORM_OF_PROJECTED_GRADIENT_<=_PGTOL'\n",
      "  Objective function value: 520.970316\n",
      "  Number of iterations: 16\n",
      "  Number of functions evaluations: 19\n",
      "/home/albert/miniconda3/envs/tectf/lib/python3.6/site-packages/tables-3.4.4-py3.6-linux-x86_64.egg/tables/file.py:767: DeprecationWarning: The use of uppercase keyword parameters is deprecated\n",
      "  \"deprecated\", DeprecationWarning)\n",
      "/home/albert/miniconda3/envs/tectf/lib/python3.6/site-packages/tables-3.4.4-py3.6-linux-x86_64.egg/tables/file.py:767: DeprecationWarning: The use of uppercase keyword parameters is deprecated\n",
      "  \"deprecated\", DeprecationWarning)\n",
      "ERROR:root:Reference possible only for phase, scalarphase, clock, tec, tec3rd, and rotation solution tables. Ignore referencing.\n",
      "/home/albert/miniconda3/envs/tectf/lib/python3.6/site-packages/gpflow-1.3.0-py3.6.egg/gpflow/_settings.py:67: DeprecationWarning: tf_int is deprecated and will be removed at GPflow version 1.2.0. Use int_type.\n",
      "  'version 1.2.0. Use int_type.', DeprecationWarning)\n",
      "/home/albert/miniconda3/envs/tectf/lib/python3.6/site-packages/gpflow-1.3.0-py3.6.egg/gpflow/_settings.py:61: DeprecationWarning: tf_float is deprecated and will be removed at GPflow version 1.2.0. Use float_type.\n",
      "  'version 1.2.0. Use float_type.', DeprecationWarning)\n",
      "/home/albert/miniconda3/envs/tectf/lib/python3.6/site-packages/gpflow-1.3.0-py3.6.egg/gpflow/logdensities.py:91: DeprecationWarning: The 'warn' method is deprecated, use 'warning' instead\n",
      "  logger.warn('Shape of x must be 2D at computation.')\n",
      "WARNING:gpflow.logdensities:Shape of x must be 2D at computation.\n"
     ]
    },
    {
     "name": "stdout",
     "output_type": "stream",
     "text": [
      "INFO:tensorflow:Optimization terminated with:\n",
      "  Message: b'CONVERGENCE: REL_REDUCTION_OF_F_<=_FACTR*EPSMCH'\n",
      "  Objective function value: 631.159258\n",
      "  Number of iterations: 14\n",
      "  Number of functions evaluations: 16\n"
     ]
    },
    {
     "name": "stderr",
     "output_type": "stream",
     "text": [
      "INFO:tensorflow:Optimization terminated with:\n",
      "  Message: b'CONVERGENCE: REL_REDUCTION_OF_F_<=_FACTR*EPSMCH'\n",
      "  Objective function value: 631.159258\n",
      "  Number of iterations: 14\n",
      "  Number of functions evaluations: 16\n",
      "/home/albert/miniconda3/envs/tectf/lib/python3.6/site-packages/tables-3.4.4-py3.6-linux-x86_64.egg/tables/file.py:767: DeprecationWarning: The use of uppercase keyword parameters is deprecated\n",
      "  \"deprecated\", DeprecationWarning)\n",
      "/home/albert/miniconda3/envs/tectf/lib/python3.6/site-packages/tables-3.4.4-py3.6-linux-x86_64.egg/tables/file.py:767: DeprecationWarning: The use of uppercase keyword parameters is deprecated\n",
      "  \"deprecated\", DeprecationWarning)\n",
      "ERROR:root:Reference possible only for phase, scalarphase, clock, tec, tec3rd, and rotation solution tables. Ignore referencing.\n",
      "/home/albert/miniconda3/envs/tectf/lib/python3.6/site-packages/gpflow-1.3.0-py3.6.egg/gpflow/_settings.py:67: DeprecationWarning: tf_int is deprecated and will be removed at GPflow version 1.2.0. Use int_type.\n",
      "  'version 1.2.0. Use int_type.', DeprecationWarning)\n",
      "/home/albert/miniconda3/envs/tectf/lib/python3.6/site-packages/gpflow-1.3.0-py3.6.egg/gpflow/_settings.py:61: DeprecationWarning: tf_float is deprecated and will be removed at GPflow version 1.2.0. Use float_type.\n",
      "  'version 1.2.0. Use float_type.', DeprecationWarning)\n",
      "/home/albert/miniconda3/envs/tectf/lib/python3.6/site-packages/gpflow-1.3.0-py3.6.egg/gpflow/logdensities.py:91: DeprecationWarning: The 'warn' method is deprecated, use 'warning' instead\n",
      "  logger.warn('Shape of x must be 2D at computation.')\n",
      "WARNING:gpflow.logdensities:Shape of x must be 2D at computation.\n"
     ]
    },
    {
     "name": "stdout",
     "output_type": "stream",
     "text": [
      "INFO:tensorflow:Optimization terminated with:\n",
      "  Message: b'CONVERGENCE: NORM_OF_PROJECTED_GRADIENT_<=_PGTOL'\n",
      "  Objective function value: 638.559221\n",
      "  Number of iterations: 16\n",
      "  Number of functions evaluations: 18\n"
     ]
    },
    {
     "name": "stderr",
     "output_type": "stream",
     "text": [
      "INFO:tensorflow:Optimization terminated with:\n",
      "  Message: b'CONVERGENCE: NORM_OF_PROJECTED_GRADIENT_<=_PGTOL'\n",
      "  Objective function value: 638.559221\n",
      "  Number of iterations: 16\n",
      "  Number of functions evaluations: 18\n",
      "/home/albert/miniconda3/envs/tectf/lib/python3.6/site-packages/tables-3.4.4-py3.6-linux-x86_64.egg/tables/file.py:767: DeprecationWarning: The use of uppercase keyword parameters is deprecated\n",
      "  \"deprecated\", DeprecationWarning)\n",
      "/home/albert/miniconda3/envs/tectf/lib/python3.6/site-packages/tables-3.4.4-py3.6-linux-x86_64.egg/tables/file.py:767: DeprecationWarning: The use of uppercase keyword parameters is deprecated\n",
      "  \"deprecated\", DeprecationWarning)\n",
      "ERROR:root:Reference possible only for phase, scalarphase, clock, tec, tec3rd, and rotation solution tables. Ignore referencing.\n",
      "/home/albert/miniconda3/envs/tectf/lib/python3.6/site-packages/gpflow-1.3.0-py3.6.egg/gpflow/_settings.py:67: DeprecationWarning: tf_int is deprecated and will be removed at GPflow version 1.2.0. Use int_type.\n",
      "  'version 1.2.0. Use int_type.', DeprecationWarning)\n",
      "/home/albert/miniconda3/envs/tectf/lib/python3.6/site-packages/gpflow-1.3.0-py3.6.egg/gpflow/_settings.py:61: DeprecationWarning: tf_float is deprecated and will be removed at GPflow version 1.2.0. Use float_type.\n",
      "  'version 1.2.0. Use float_type.', DeprecationWarning)\n",
      "/home/albert/miniconda3/envs/tectf/lib/python3.6/site-packages/gpflow-1.3.0-py3.6.egg/gpflow/logdensities.py:91: DeprecationWarning: The 'warn' method is deprecated, use 'warning' instead\n",
      "  logger.warn('Shape of x must be 2D at computation.')\n",
      "WARNING:gpflow.logdensities:Shape of x must be 2D at computation.\n"
     ]
    },
    {
     "name": "stdout",
     "output_type": "stream",
     "text": [
      "INFO:tensorflow:Optimization terminated with:\n",
      "  Message: b'CONVERGENCE: NORM_OF_PROJECTED_GRADIENT_<=_PGTOL'\n",
      "  Objective function value: 382.278036\n",
      "  Number of iterations: 16\n",
      "  Number of functions evaluations: 19\n"
     ]
    },
    {
     "name": "stderr",
     "output_type": "stream",
     "text": [
      "INFO:tensorflow:Optimization terminated with:\n",
      "  Message: b'CONVERGENCE: NORM_OF_PROJECTED_GRADIENT_<=_PGTOL'\n",
      "  Objective function value: 382.278036\n",
      "  Number of iterations: 16\n",
      "  Number of functions evaluations: 19\n",
      "/home/albert/miniconda3/envs/tectf/lib/python3.6/site-packages/tables-3.4.4-py3.6-linux-x86_64.egg/tables/file.py:767: DeprecationWarning: The use of uppercase keyword parameters is deprecated\n",
      "  \"deprecated\", DeprecationWarning)\n",
      "/home/albert/miniconda3/envs/tectf/lib/python3.6/site-packages/tables-3.4.4-py3.6-linux-x86_64.egg/tables/file.py:767: DeprecationWarning: The use of uppercase keyword parameters is deprecated\n",
      "  \"deprecated\", DeprecationWarning)\n",
      "ERROR:root:Reference possible only for phase, scalarphase, clock, tec, tec3rd, and rotation solution tables. Ignore referencing.\n",
      "/home/albert/miniconda3/envs/tectf/lib/python3.6/site-packages/gpflow-1.3.0-py3.6.egg/gpflow/_settings.py:67: DeprecationWarning: tf_int is deprecated and will be removed at GPflow version 1.2.0. Use int_type.\n",
      "  'version 1.2.0. Use int_type.', DeprecationWarning)\n",
      "/home/albert/miniconda3/envs/tectf/lib/python3.6/site-packages/gpflow-1.3.0-py3.6.egg/gpflow/_settings.py:61: DeprecationWarning: tf_float is deprecated and will be removed at GPflow version 1.2.0. Use float_type.\n",
      "  'version 1.2.0. Use float_type.', DeprecationWarning)\n",
      "/home/albert/miniconda3/envs/tectf/lib/python3.6/site-packages/gpflow-1.3.0-py3.6.egg/gpflow/logdensities.py:91: DeprecationWarning: The 'warn' method is deprecated, use 'warning' instead\n",
      "  logger.warn('Shape of x must be 2D at computation.')\n",
      "WARNING:gpflow.logdensities:Shape of x must be 2D at computation.\n"
     ]
    },
    {
     "name": "stdout",
     "output_type": "stream",
     "text": [
      "INFO:tensorflow:Optimization terminated with:\n",
      "  Message: b'CONVERGENCE: NORM_OF_PROJECTED_GRADIENT_<=_PGTOL'\n",
      "  Objective function value: 203.185011\n",
      "  Number of iterations: 16\n",
      "  Number of functions evaluations: 19\n"
     ]
    },
    {
     "name": "stderr",
     "output_type": "stream",
     "text": [
      "INFO:tensorflow:Optimization terminated with:\n",
      "  Message: b'CONVERGENCE: NORM_OF_PROJECTED_GRADIENT_<=_PGTOL'\n",
      "  Objective function value: 203.185011\n",
      "  Number of iterations: 16\n",
      "  Number of functions evaluations: 19\n",
      "/home/albert/miniconda3/envs/tectf/lib/python3.6/site-packages/tables-3.4.4-py3.6-linux-x86_64.egg/tables/file.py:767: DeprecationWarning: The use of uppercase keyword parameters is deprecated\n",
      "  \"deprecated\", DeprecationWarning)\n",
      "/home/albert/miniconda3/envs/tectf/lib/python3.6/site-packages/tables-3.4.4-py3.6-linux-x86_64.egg/tables/file.py:767: DeprecationWarning: The use of uppercase keyword parameters is deprecated\n",
      "  \"deprecated\", DeprecationWarning)\n",
      "ERROR:root:Reference possible only for phase, scalarphase, clock, tec, tec3rd, and rotation solution tables. Ignore referencing.\n",
      "/home/albert/miniconda3/envs/tectf/lib/python3.6/site-packages/gpflow-1.3.0-py3.6.egg/gpflow/_settings.py:67: DeprecationWarning: tf_int is deprecated and will be removed at GPflow version 1.2.0. Use int_type.\n",
      "  'version 1.2.0. Use int_type.', DeprecationWarning)\n",
      "/home/albert/miniconda3/envs/tectf/lib/python3.6/site-packages/gpflow-1.3.0-py3.6.egg/gpflow/_settings.py:61: DeprecationWarning: tf_float is deprecated and will be removed at GPflow version 1.2.0. Use float_type.\n",
      "  'version 1.2.0. Use float_type.', DeprecationWarning)\n",
      "/home/albert/miniconda3/envs/tectf/lib/python3.6/site-packages/gpflow-1.3.0-py3.6.egg/gpflow/logdensities.py:91: DeprecationWarning: The 'warn' method is deprecated, use 'warning' instead\n",
      "  logger.warn('Shape of x must be 2D at computation.')\n",
      "WARNING:gpflow.logdensities:Shape of x must be 2D at computation.\n"
     ]
    },
    {
     "name": "stdout",
     "output_type": "stream",
     "text": [
      "INFO:tensorflow:Optimization terminated with:\n",
      "  Message: b'CONVERGENCE: NORM_OF_PROJECTED_GRADIENT_<=_PGTOL'\n",
      "  Objective function value: 168.157211\n",
      "  Number of iterations: 16\n",
      "  Number of functions evaluations: 19\n"
     ]
    },
    {
     "name": "stderr",
     "output_type": "stream",
     "text": [
      "INFO:tensorflow:Optimization terminated with:\n",
      "  Message: b'CONVERGENCE: NORM_OF_PROJECTED_GRADIENT_<=_PGTOL'\n",
      "  Objective function value: 168.157211\n",
      "  Number of iterations: 16\n",
      "  Number of functions evaluations: 19\n",
      "/home/albert/miniconda3/envs/tectf/lib/python3.6/site-packages/tables-3.4.4-py3.6-linux-x86_64.egg/tables/file.py:767: DeprecationWarning: The use of uppercase keyword parameters is deprecated\n",
      "  \"deprecated\", DeprecationWarning)\n",
      "/home/albert/miniconda3/envs/tectf/lib/python3.6/site-packages/tables-3.4.4-py3.6-linux-x86_64.egg/tables/file.py:767: DeprecationWarning: The use of uppercase keyword parameters is deprecated\n",
      "  \"deprecated\", DeprecationWarning)\n",
      "ERROR:root:Reference possible only for phase, scalarphase, clock, tec, tec3rd, and rotation solution tables. Ignore referencing.\n",
      "/home/albert/miniconda3/envs/tectf/lib/python3.6/site-packages/gpflow-1.3.0-py3.6.egg/gpflow/_settings.py:67: DeprecationWarning: tf_int is deprecated and will be removed at GPflow version 1.2.0. Use int_type.\n",
      "  'version 1.2.0. Use int_type.', DeprecationWarning)\n",
      "/home/albert/miniconda3/envs/tectf/lib/python3.6/site-packages/gpflow-1.3.0-py3.6.egg/gpflow/_settings.py:61: DeprecationWarning: tf_float is deprecated and will be removed at GPflow version 1.2.0. Use float_type.\n",
      "  'version 1.2.0. Use float_type.', DeprecationWarning)\n",
      "/home/albert/miniconda3/envs/tectf/lib/python3.6/site-packages/gpflow-1.3.0-py3.6.egg/gpflow/logdensities.py:91: DeprecationWarning: The 'warn' method is deprecated, use 'warning' instead\n",
      "  logger.warn('Shape of x must be 2D at computation.')\n",
      "WARNING:gpflow.logdensities:Shape of x must be 2D at computation.\n"
     ]
    },
    {
     "name": "stdout",
     "output_type": "stream",
     "text": [
      "INFO:tensorflow:Optimization terminated with:\n",
      "  Message: b'CONVERGENCE: NORM_OF_PROJECTED_GRADIENT_<=_PGTOL'\n",
      "  Objective function value: 172.737710\n",
      "  Number of iterations: 15\n",
      "  Number of functions evaluations: 17\n"
     ]
    },
    {
     "name": "stderr",
     "output_type": "stream",
     "text": [
      "INFO:tensorflow:Optimization terminated with:\n",
      "  Message: b'CONVERGENCE: NORM_OF_PROJECTED_GRADIENT_<=_PGTOL'\n",
      "  Objective function value: 172.737710\n",
      "  Number of iterations: 15\n",
      "  Number of functions evaluations: 17\n",
      "/home/albert/miniconda3/envs/tectf/lib/python3.6/site-packages/tables-3.4.4-py3.6-linux-x86_64.egg/tables/file.py:767: DeprecationWarning: The use of uppercase keyword parameters is deprecated\n",
      "  \"deprecated\", DeprecationWarning)\n",
      "/home/albert/miniconda3/envs/tectf/lib/python3.6/site-packages/tables-3.4.4-py3.6-linux-x86_64.egg/tables/file.py:767: DeprecationWarning: The use of uppercase keyword parameters is deprecated\n",
      "  \"deprecated\", DeprecationWarning)\n",
      "ERROR:root:Reference possible only for phase, scalarphase, clock, tec, tec3rd, and rotation solution tables. Ignore referencing.\n",
      "/home/albert/miniconda3/envs/tectf/lib/python3.6/site-packages/gpflow-1.3.0-py3.6.egg/gpflow/_settings.py:67: DeprecationWarning: tf_int is deprecated and will be removed at GPflow version 1.2.0. Use int_type.\n",
      "  'version 1.2.0. Use int_type.', DeprecationWarning)\n",
      "/home/albert/miniconda3/envs/tectf/lib/python3.6/site-packages/gpflow-1.3.0-py3.6.egg/gpflow/_settings.py:61: DeprecationWarning: tf_float is deprecated and will be removed at GPflow version 1.2.0. Use float_type.\n",
      "  'version 1.2.0. Use float_type.', DeprecationWarning)\n",
      "/home/albert/miniconda3/envs/tectf/lib/python3.6/site-packages/gpflow-1.3.0-py3.6.egg/gpflow/logdensities.py:91: DeprecationWarning: The 'warn' method is deprecated, use 'warning' instead\n",
      "  logger.warn('Shape of x must be 2D at computation.')\n",
      "WARNING:gpflow.logdensities:Shape of x must be 2D at computation.\n"
     ]
    },
    {
     "name": "stdout",
     "output_type": "stream",
     "text": [
      "INFO:tensorflow:Optimization terminated with:\n",
      "  Message: b'CONVERGENCE: NORM_OF_PROJECTED_GRADIENT_<=_PGTOL'\n",
      "  Objective function value: 17.671754\n",
      "  Number of iterations: 17\n",
      "  Number of functions evaluations: 20\n"
     ]
    },
    {
     "name": "stderr",
     "output_type": "stream",
     "text": [
      "INFO:tensorflow:Optimization terminated with:\n",
      "  Message: b'CONVERGENCE: NORM_OF_PROJECTED_GRADIENT_<=_PGTOL'\n",
      "  Objective function value: 17.671754\n",
      "  Number of iterations: 17\n",
      "  Number of functions evaluations: 20\n",
      "/home/albert/miniconda3/envs/tectf/lib/python3.6/site-packages/tables-3.4.4-py3.6-linux-x86_64.egg/tables/file.py:767: DeprecationWarning: The use of uppercase keyword parameters is deprecated\n",
      "  \"deprecated\", DeprecationWarning)\n",
      "/home/albert/miniconda3/envs/tectf/lib/python3.6/site-packages/tables-3.4.4-py3.6-linux-x86_64.egg/tables/file.py:767: DeprecationWarning: The use of uppercase keyword parameters is deprecated\n",
      "  \"deprecated\", DeprecationWarning)\n",
      "ERROR:root:Reference possible only for phase, scalarphase, clock, tec, tec3rd, and rotation solution tables. Ignore referencing.\n",
      "/home/albert/miniconda3/envs/tectf/lib/python3.6/site-packages/gpflow-1.3.0-py3.6.egg/gpflow/_settings.py:67: DeprecationWarning: tf_int is deprecated and will be removed at GPflow version 1.2.0. Use int_type.\n",
      "  'version 1.2.0. Use int_type.', DeprecationWarning)\n",
      "/home/albert/miniconda3/envs/tectf/lib/python3.6/site-packages/gpflow-1.3.0-py3.6.egg/gpflow/_settings.py:61: DeprecationWarning: tf_float is deprecated and will be removed at GPflow version 1.2.0. Use float_type.\n",
      "  'version 1.2.0. Use float_type.', DeprecationWarning)\n",
      "/home/albert/miniconda3/envs/tectf/lib/python3.6/site-packages/gpflow-1.3.0-py3.6.egg/gpflow/logdensities.py:91: DeprecationWarning: The 'warn' method is deprecated, use 'warning' instead\n",
      "  logger.warn('Shape of x must be 2D at computation.')\n",
      "WARNING:gpflow.logdensities:Shape of x must be 2D at computation.\n"
     ]
    },
    {
     "name": "stdout",
     "output_type": "stream",
     "text": [
      "INFO:tensorflow:Optimization terminated with:\n",
      "  Message: b'CONVERGENCE: NORM_OF_PROJECTED_GRADIENT_<=_PGTOL'\n",
      "  Objective function value: -54.550108\n",
      "  Number of iterations: 17\n",
      "  Number of functions evaluations: 20\n"
     ]
    },
    {
     "name": "stderr",
     "output_type": "stream",
     "text": [
      "INFO:tensorflow:Optimization terminated with:\n",
      "  Message: b'CONVERGENCE: NORM_OF_PROJECTED_GRADIENT_<=_PGTOL'\n",
      "  Objective function value: -54.550108\n",
      "  Number of iterations: 17\n",
      "  Number of functions evaluations: 20\n",
      "/home/albert/miniconda3/envs/tectf/lib/python3.6/site-packages/tables-3.4.4-py3.6-linux-x86_64.egg/tables/file.py:767: DeprecationWarning: The use of uppercase keyword parameters is deprecated\n",
      "  \"deprecated\", DeprecationWarning)\n",
      "/home/albert/miniconda3/envs/tectf/lib/python3.6/site-packages/tables-3.4.4-py3.6-linux-x86_64.egg/tables/file.py:767: DeprecationWarning: The use of uppercase keyword parameters is deprecated\n",
      "  \"deprecated\", DeprecationWarning)\n",
      "ERROR:root:Reference possible only for phase, scalarphase, clock, tec, tec3rd, and rotation solution tables. Ignore referencing.\n",
      "/home/albert/miniconda3/envs/tectf/lib/python3.6/site-packages/gpflow-1.3.0-py3.6.egg/gpflow/_settings.py:67: DeprecationWarning: tf_int is deprecated and will be removed at GPflow version 1.2.0. Use int_type.\n",
      "  'version 1.2.0. Use int_type.', DeprecationWarning)\n",
      "/home/albert/miniconda3/envs/tectf/lib/python3.6/site-packages/gpflow-1.3.0-py3.6.egg/gpflow/_settings.py:61: DeprecationWarning: tf_float is deprecated and will be removed at GPflow version 1.2.0. Use float_type.\n",
      "  'version 1.2.0. Use float_type.', DeprecationWarning)\n",
      "/home/albert/miniconda3/envs/tectf/lib/python3.6/site-packages/gpflow-1.3.0-py3.6.egg/gpflow/logdensities.py:91: DeprecationWarning: The 'warn' method is deprecated, use 'warning' instead\n",
      "  logger.warn('Shape of x must be 2D at computation.')\n",
      "WARNING:gpflow.logdensities:Shape of x must be 2D at computation.\n"
     ]
    },
    {
     "name": "stdout",
     "output_type": "stream",
     "text": [
      "INFO:tensorflow:Optimization terminated with:\n",
      "  Message: b'CONVERGENCE: REL_REDUCTION_OF_F_<=_FACTR*EPSMCH'\n",
      "  Objective function value: 3081.726191\n",
      "  Number of iterations: 11\n",
      "  Number of functions evaluations: 12\n"
     ]
    },
    {
     "name": "stderr",
     "output_type": "stream",
     "text": [
      "INFO:tensorflow:Optimization terminated with:\n",
      "  Message: b'CONVERGENCE: REL_REDUCTION_OF_F_<=_FACTR*EPSMCH'\n",
      "  Objective function value: 3081.726191\n",
      "  Number of iterations: 11\n",
      "  Number of functions evaluations: 12\n",
      "/home/albert/miniconda3/envs/tectf/lib/python3.6/site-packages/tables-3.4.4-py3.6-linux-x86_64.egg/tables/file.py:767: DeprecationWarning: The use of uppercase keyword parameters is deprecated\n",
      "  \"deprecated\", DeprecationWarning)\n",
      "/home/albert/miniconda3/envs/tectf/lib/python3.6/site-packages/tables-3.4.4-py3.6-linux-x86_64.egg/tables/file.py:767: DeprecationWarning: The use of uppercase keyword parameters is deprecated\n",
      "  \"deprecated\", DeprecationWarning)\n",
      "ERROR:root:Reference possible only for phase, scalarphase, clock, tec, tec3rd, and rotation solution tables. Ignore referencing.\n",
      "/home/albert/miniconda3/envs/tectf/lib/python3.6/site-packages/gpflow-1.3.0-py3.6.egg/gpflow/_settings.py:67: DeprecationWarning: tf_int is deprecated and will be removed at GPflow version 1.2.0. Use int_type.\n",
      "  'version 1.2.0. Use int_type.', DeprecationWarning)\n",
      "/home/albert/miniconda3/envs/tectf/lib/python3.6/site-packages/gpflow-1.3.0-py3.6.egg/gpflow/_settings.py:61: DeprecationWarning: tf_float is deprecated and will be removed at GPflow version 1.2.0. Use float_type.\n",
      "  'version 1.2.0. Use float_type.', DeprecationWarning)\n",
      "/home/albert/miniconda3/envs/tectf/lib/python3.6/site-packages/gpflow-1.3.0-py3.6.egg/gpflow/logdensities.py:91: DeprecationWarning: The 'warn' method is deprecated, use 'warning' instead\n",
      "  logger.warn('Shape of x must be 2D at computation.')\n",
      "WARNING:gpflow.logdensities:Shape of x must be 2D at computation.\n"
     ]
    },
    {
     "name": "stdout",
     "output_type": "stream",
     "text": [
      "INFO:tensorflow:Optimization terminated with:\n",
      "  Message: b'CONVERGENCE: REL_REDUCTION_OF_F_<=_FACTR*EPSMCH'\n",
      "  Objective function value: 4749.737153\n",
      "  Number of iterations: 10\n",
      "  Number of functions evaluations: 11\n"
     ]
    },
    {
     "name": "stderr",
     "output_type": "stream",
     "text": [
      "INFO:tensorflow:Optimization terminated with:\n",
      "  Message: b'CONVERGENCE: REL_REDUCTION_OF_F_<=_FACTR*EPSMCH'\n",
      "  Objective function value: 4749.737153\n",
      "  Number of iterations: 10\n",
      "  Number of functions evaluations: 11\n",
      "/home/albert/miniconda3/envs/tectf/lib/python3.6/site-packages/tables-3.4.4-py3.6-linux-x86_64.egg/tables/file.py:767: DeprecationWarning: The use of uppercase keyword parameters is deprecated\n",
      "  \"deprecated\", DeprecationWarning)\n",
      "/home/albert/miniconda3/envs/tectf/lib/python3.6/site-packages/tables-3.4.4-py3.6-linux-x86_64.egg/tables/file.py:767: DeprecationWarning: The use of uppercase keyword parameters is deprecated\n",
      "  \"deprecated\", DeprecationWarning)\n",
      "ERROR:root:Reference possible only for phase, scalarphase, clock, tec, tec3rd, and rotation solution tables. Ignore referencing.\n",
      "/home/albert/miniconda3/envs/tectf/lib/python3.6/site-packages/gpflow-1.3.0-py3.6.egg/gpflow/_settings.py:67: DeprecationWarning: tf_int is deprecated and will be removed at GPflow version 1.2.0. Use int_type.\n",
      "  'version 1.2.0. Use int_type.', DeprecationWarning)\n",
      "/home/albert/miniconda3/envs/tectf/lib/python3.6/site-packages/gpflow-1.3.0-py3.6.egg/gpflow/_settings.py:61: DeprecationWarning: tf_float is deprecated and will be removed at GPflow version 1.2.0. Use float_type.\n",
      "  'version 1.2.0. Use float_type.', DeprecationWarning)\n",
      "/home/albert/miniconda3/envs/tectf/lib/python3.6/site-packages/gpflow-1.3.0-py3.6.egg/gpflow/logdensities.py:91: DeprecationWarning: The 'warn' method is deprecated, use 'warning' instead\n",
      "  logger.warn('Shape of x must be 2D at computation.')\n",
      "WARNING:gpflow.logdensities:Shape of x must be 2D at computation.\n"
     ]
    },
    {
     "name": "stdout",
     "output_type": "stream",
     "text": [
      "INFO:tensorflow:Optimization terminated with:\n",
      "  Message: b'CONVERGENCE: REL_REDUCTION_OF_F_<=_FACTR*EPSMCH'\n",
      "  Objective function value: 5650.997297\n",
      "  Number of iterations: 10\n",
      "  Number of functions evaluations: 11\n"
     ]
    },
    {
     "name": "stderr",
     "output_type": "stream",
     "text": [
      "INFO:tensorflow:Optimization terminated with:\n",
      "  Message: b'CONVERGENCE: REL_REDUCTION_OF_F_<=_FACTR*EPSMCH'\n",
      "  Objective function value: 5650.997297\n",
      "  Number of iterations: 10\n",
      "  Number of functions evaluations: 11\n",
      "/home/albert/miniconda3/envs/tectf/lib/python3.6/site-packages/tables-3.4.4-py3.6-linux-x86_64.egg/tables/file.py:767: DeprecationWarning: The use of uppercase keyword parameters is deprecated\n",
      "  \"deprecated\", DeprecationWarning)\n",
      "/home/albert/miniconda3/envs/tectf/lib/python3.6/site-packages/tables-3.4.4-py3.6-linux-x86_64.egg/tables/file.py:767: DeprecationWarning: The use of uppercase keyword parameters is deprecated\n",
      "  \"deprecated\", DeprecationWarning)\n",
      "ERROR:root:Reference possible only for phase, scalarphase, clock, tec, tec3rd, and rotation solution tables. Ignore referencing.\n",
      "/home/albert/miniconda3/envs/tectf/lib/python3.6/site-packages/gpflow-1.3.0-py3.6.egg/gpflow/_settings.py:67: DeprecationWarning: tf_int is deprecated and will be removed at GPflow version 1.2.0. Use int_type.\n",
      "  'version 1.2.0. Use int_type.', DeprecationWarning)\n",
      "/home/albert/miniconda3/envs/tectf/lib/python3.6/site-packages/gpflow-1.3.0-py3.6.egg/gpflow/_settings.py:61: DeprecationWarning: tf_float is deprecated and will be removed at GPflow version 1.2.0. Use float_type.\n",
      "  'version 1.2.0. Use float_type.', DeprecationWarning)\n",
      "/home/albert/miniconda3/envs/tectf/lib/python3.6/site-packages/gpflow-1.3.0-py3.6.egg/gpflow/logdensities.py:91: DeprecationWarning: The 'warn' method is deprecated, use 'warning' instead\n",
      "  logger.warn('Shape of x must be 2D at computation.')\n",
      "WARNING:gpflow.logdensities:Shape of x must be 2D at computation.\n"
     ]
    },
    {
     "name": "stdout",
     "output_type": "stream",
     "text": [
      "INFO:tensorflow:Optimization terminated with:\n",
      "  Message: b'CONVERGENCE: REL_REDUCTION_OF_F_<=_FACTR*EPSMCH'\n",
      "  Objective function value: 6361.903263\n",
      "  Number of iterations: 9\n",
      "  Number of functions evaluations: 10\n"
     ]
    },
    {
     "name": "stderr",
     "output_type": "stream",
     "text": [
      "INFO:tensorflow:Optimization terminated with:\n",
      "  Message: b'CONVERGENCE: REL_REDUCTION_OF_F_<=_FACTR*EPSMCH'\n",
      "  Objective function value: 6361.903263\n",
      "  Number of iterations: 9\n",
      "  Number of functions evaluations: 10\n",
      "/home/albert/miniconda3/envs/tectf/lib/python3.6/site-packages/tables-3.4.4-py3.6-linux-x86_64.egg/tables/file.py:767: DeprecationWarning: The use of uppercase keyword parameters is deprecated\n",
      "  \"deprecated\", DeprecationWarning)\n",
      "/home/albert/miniconda3/envs/tectf/lib/python3.6/site-packages/tables-3.4.4-py3.6-linux-x86_64.egg/tables/file.py:767: DeprecationWarning: The use of uppercase keyword parameters is deprecated\n",
      "  \"deprecated\", DeprecationWarning)\n",
      "ERROR:root:Reference possible only for phase, scalarphase, clock, tec, tec3rd, and rotation solution tables. Ignore referencing.\n",
      "/home/albert/miniconda3/envs/tectf/lib/python3.6/site-packages/gpflow-1.3.0-py3.6.egg/gpflow/_settings.py:67: DeprecationWarning: tf_int is deprecated and will be removed at GPflow version 1.2.0. Use int_type.\n",
      "  'version 1.2.0. Use int_type.', DeprecationWarning)\n",
      "/home/albert/miniconda3/envs/tectf/lib/python3.6/site-packages/gpflow-1.3.0-py3.6.egg/gpflow/_settings.py:61: DeprecationWarning: tf_float is deprecated and will be removed at GPflow version 1.2.0. Use float_type.\n",
      "  'version 1.2.0. Use float_type.', DeprecationWarning)\n",
      "/home/albert/miniconda3/envs/tectf/lib/python3.6/site-packages/gpflow-1.3.0-py3.6.egg/gpflow/logdensities.py:91: DeprecationWarning: The 'warn' method is deprecated, use 'warning' instead\n",
      "  logger.warn('Shape of x must be 2D at computation.')\n",
      "WARNING:gpflow.logdensities:Shape of x must be 2D at computation.\n"
     ]
    },
    {
     "name": "stdout",
     "output_type": "stream",
     "text": [
      "INFO:tensorflow:Optimization terminated with:\n",
      "  Message: b'CONVERGENCE: REL_REDUCTION_OF_F_<=_FACTR*EPSMCH'\n",
      "  Objective function value: 5947.371739\n",
      "  Number of iterations: 9\n",
      "  Number of functions evaluations: 10\n"
     ]
    },
    {
     "name": "stderr",
     "output_type": "stream",
     "text": [
      "INFO:tensorflow:Optimization terminated with:\n",
      "  Message: b'CONVERGENCE: REL_REDUCTION_OF_F_<=_FACTR*EPSMCH'\n",
      "  Objective function value: 5947.371739\n",
      "  Number of iterations: 9\n",
      "  Number of functions evaluations: 10\n",
      "/home/albert/miniconda3/envs/tectf/lib/python3.6/site-packages/tables-3.4.4-py3.6-linux-x86_64.egg/tables/file.py:767: DeprecationWarning: The use of uppercase keyword parameters is deprecated\n",
      "  \"deprecated\", DeprecationWarning)\n",
      "/home/albert/miniconda3/envs/tectf/lib/python3.6/site-packages/tables-3.4.4-py3.6-linux-x86_64.egg/tables/file.py:767: DeprecationWarning: The use of uppercase keyword parameters is deprecated\n",
      "  \"deprecated\", DeprecationWarning)\n",
      "ERROR:root:Reference possible only for phase, scalarphase, clock, tec, tec3rd, and rotation solution tables. Ignore referencing.\n",
      "/home/albert/miniconda3/envs/tectf/lib/python3.6/site-packages/gpflow-1.3.0-py3.6.egg/gpflow/_settings.py:67: DeprecationWarning: tf_int is deprecated and will be removed at GPflow version 1.2.0. Use int_type.\n",
      "  'version 1.2.0. Use int_type.', DeprecationWarning)\n",
      "/home/albert/miniconda3/envs/tectf/lib/python3.6/site-packages/gpflow-1.3.0-py3.6.egg/gpflow/_settings.py:61: DeprecationWarning: tf_float is deprecated and will be removed at GPflow version 1.2.0. Use float_type.\n",
      "  'version 1.2.0. Use float_type.', DeprecationWarning)\n",
      "/home/albert/miniconda3/envs/tectf/lib/python3.6/site-packages/gpflow-1.3.0-py3.6.egg/gpflow/logdensities.py:91: DeprecationWarning: The 'warn' method is deprecated, use 'warning' instead\n",
      "  logger.warn('Shape of x must be 2D at computation.')\n",
      "WARNING:gpflow.logdensities:Shape of x must be 2D at computation.\n"
     ]
    },
    {
     "name": "stdout",
     "output_type": "stream",
     "text": [
      "INFO:tensorflow:Optimization terminated with:\n",
      "  Message: b'CONVERGENCE: REL_REDUCTION_OF_F_<=_FACTR*EPSMCH'\n",
      "  Objective function value: 6141.664985\n",
      "  Number of iterations: 9\n",
      "  Number of functions evaluations: 10\n"
     ]
    },
    {
     "name": "stderr",
     "output_type": "stream",
     "text": [
      "INFO:tensorflow:Optimization terminated with:\n",
      "  Message: b'CONVERGENCE: REL_REDUCTION_OF_F_<=_FACTR*EPSMCH'\n",
      "  Objective function value: 6141.664985\n",
      "  Number of iterations: 9\n",
      "  Number of functions evaluations: 10\n",
      "/home/albert/miniconda3/envs/tectf/lib/python3.6/site-packages/tables-3.4.4-py3.6-linux-x86_64.egg/tables/file.py:767: DeprecationWarning: The use of uppercase keyword parameters is deprecated\n",
      "  \"deprecated\", DeprecationWarning)\n",
      "/home/albert/miniconda3/envs/tectf/lib/python3.6/site-packages/tables-3.4.4-py3.6-linux-x86_64.egg/tables/file.py:767: DeprecationWarning: The use of uppercase keyword parameters is deprecated\n",
      "  \"deprecated\", DeprecationWarning)\n",
      "ERROR:root:Reference possible only for phase, scalarphase, clock, tec, tec3rd, and rotation solution tables. Ignore referencing.\n",
      "/home/albert/miniconda3/envs/tectf/lib/python3.6/site-packages/gpflow-1.3.0-py3.6.egg/gpflow/_settings.py:67: DeprecationWarning: tf_int is deprecated and will be removed at GPflow version 1.2.0. Use int_type.\n",
      "  'version 1.2.0. Use int_type.', DeprecationWarning)\n",
      "/home/albert/miniconda3/envs/tectf/lib/python3.6/site-packages/gpflow-1.3.0-py3.6.egg/gpflow/_settings.py:61: DeprecationWarning: tf_float is deprecated and will be removed at GPflow version 1.2.0. Use float_type.\n",
      "  'version 1.2.0. Use float_type.', DeprecationWarning)\n",
      "/home/albert/miniconda3/envs/tectf/lib/python3.6/site-packages/gpflow-1.3.0-py3.6.egg/gpflow/logdensities.py:91: DeprecationWarning: The 'warn' method is deprecated, use 'warning' instead\n",
      "  logger.warn('Shape of x must be 2D at computation.')\n",
      "WARNING:gpflow.logdensities:Shape of x must be 2D at computation.\n"
     ]
    },
    {
     "name": "stdout",
     "output_type": "stream",
     "text": [
      "INFO:tensorflow:Optimization terminated with:\n",
      "  Message: b'CONVERGENCE: REL_REDUCTION_OF_F_<=_FACTR*EPSMCH'\n",
      "  Objective function value: 7132.360283\n",
      "  Number of iterations: 8\n",
      "  Number of functions evaluations: 9\n"
     ]
    },
    {
     "name": "stderr",
     "output_type": "stream",
     "text": [
      "INFO:tensorflow:Optimization terminated with:\n",
      "  Message: b'CONVERGENCE: REL_REDUCTION_OF_F_<=_FACTR*EPSMCH'\n",
      "  Objective function value: 7132.360283\n",
      "  Number of iterations: 8\n",
      "  Number of functions evaluations: 9\n",
      "/home/albert/miniconda3/envs/tectf/lib/python3.6/site-packages/tables-3.4.4-py3.6-linux-x86_64.egg/tables/file.py:767: DeprecationWarning: The use of uppercase keyword parameters is deprecated\n",
      "  \"deprecated\", DeprecationWarning)\n",
      "/home/albert/miniconda3/envs/tectf/lib/python3.6/site-packages/tables-3.4.4-py3.6-linux-x86_64.egg/tables/file.py:767: DeprecationWarning: The use of uppercase keyword parameters is deprecated\n",
      "  \"deprecated\", DeprecationWarning)\n",
      "ERROR:root:Reference possible only for phase, scalarphase, clock, tec, tec3rd, and rotation solution tables. Ignore referencing.\n",
      "/home/albert/miniconda3/envs/tectf/lib/python3.6/site-packages/gpflow-1.3.0-py3.6.egg/gpflow/_settings.py:67: DeprecationWarning: tf_int is deprecated and will be removed at GPflow version 1.2.0. Use int_type.\n",
      "  'version 1.2.0. Use int_type.', DeprecationWarning)\n",
      "/home/albert/miniconda3/envs/tectf/lib/python3.6/site-packages/gpflow-1.3.0-py3.6.egg/gpflow/_settings.py:61: DeprecationWarning: tf_float is deprecated and will be removed at GPflow version 1.2.0. Use float_type.\n",
      "  'version 1.2.0. Use float_type.', DeprecationWarning)\n",
      "/home/albert/miniconda3/envs/tectf/lib/python3.6/site-packages/gpflow-1.3.0-py3.6.egg/gpflow/logdensities.py:91: DeprecationWarning: The 'warn' method is deprecated, use 'warning' instead\n",
      "  logger.warn('Shape of x must be 2D at computation.')\n",
      "WARNING:gpflow.logdensities:Shape of x must be 2D at computation.\n"
     ]
    },
    {
     "name": "stdout",
     "output_type": "stream",
     "text": [
      "INFO:tensorflow:Optimization terminated with:\n",
      "  Message: b'CONVERGENCE: NORM_OF_PROJECTED_GRADIENT_<=_PGTOL'\n",
      "  Objective function value: 8256.938124\n",
      "  Number of iterations: 8\n",
      "  Number of functions evaluations: 9\n"
     ]
    },
    {
     "name": "stderr",
     "output_type": "stream",
     "text": [
      "INFO:tensorflow:Optimization terminated with:\n",
      "  Message: b'CONVERGENCE: NORM_OF_PROJECTED_GRADIENT_<=_PGTOL'\n",
      "  Objective function value: 8256.938124\n",
      "  Number of iterations: 8\n",
      "  Number of functions evaluations: 9\n",
      "/home/albert/miniconda3/envs/tectf/lib/python3.6/site-packages/tables-3.4.4-py3.6-linux-x86_64.egg/tables/file.py:767: DeprecationWarning: The use of uppercase keyword parameters is deprecated\n",
      "  \"deprecated\", DeprecationWarning)\n",
      "/home/albert/miniconda3/envs/tectf/lib/python3.6/site-packages/tables-3.4.4-py3.6-linux-x86_64.egg/tables/file.py:767: DeprecationWarning: The use of uppercase keyword parameters is deprecated\n",
      "  \"deprecated\", DeprecationWarning)\n",
      "ERROR:root:Reference possible only for phase, scalarphase, clock, tec, tec3rd, and rotation solution tables. Ignore referencing.\n",
      "/home/albert/miniconda3/envs/tectf/lib/python3.6/site-packages/gpflow-1.3.0-py3.6.egg/gpflow/_settings.py:67: DeprecationWarning: tf_int is deprecated and will be removed at GPflow version 1.2.0. Use int_type.\n",
      "  'version 1.2.0. Use int_type.', DeprecationWarning)\n",
      "/home/albert/miniconda3/envs/tectf/lib/python3.6/site-packages/gpflow-1.3.0-py3.6.egg/gpflow/_settings.py:61: DeprecationWarning: tf_float is deprecated and will be removed at GPflow version 1.2.0. Use float_type.\n",
      "  'version 1.2.0. Use float_type.', DeprecationWarning)\n",
      "/home/albert/miniconda3/envs/tectf/lib/python3.6/site-packages/gpflow-1.3.0-py3.6.egg/gpflow/logdensities.py:91: DeprecationWarning: The 'warn' method is deprecated, use 'warning' instead\n",
      "  logger.warn('Shape of x must be 2D at computation.')\n",
      "WARNING:gpflow.logdensities:Shape of x must be 2D at computation.\n"
     ]
    },
    {
     "name": "stdout",
     "output_type": "stream",
     "text": [
      "INFO:tensorflow:Optimization terminated with:\n",
      "  Message: b'CONVERGENCE: REL_REDUCTION_OF_F_<=_FACTR*EPSMCH'\n",
      "  Objective function value: 7854.144617\n",
      "  Number of iterations: 7\n",
      "  Number of functions evaluations: 8\n"
     ]
    },
    {
     "name": "stderr",
     "output_type": "stream",
     "text": [
      "INFO:tensorflow:Optimization terminated with:\n",
      "  Message: b'CONVERGENCE: REL_REDUCTION_OF_F_<=_FACTR*EPSMCH'\n",
      "  Objective function value: 7854.144617\n",
      "  Number of iterations: 7\n",
      "  Number of functions evaluations: 8\n",
      "/home/albert/miniconda3/envs/tectf/lib/python3.6/site-packages/tables-3.4.4-py3.6-linux-x86_64.egg/tables/file.py:767: DeprecationWarning: The use of uppercase keyword parameters is deprecated\n",
      "  \"deprecated\", DeprecationWarning)\n",
      "/home/albert/miniconda3/envs/tectf/lib/python3.6/site-packages/tables-3.4.4-py3.6-linux-x86_64.egg/tables/file.py:767: DeprecationWarning: The use of uppercase keyword parameters is deprecated\n",
      "  \"deprecated\", DeprecationWarning)\n",
      "ERROR:root:Reference possible only for phase, scalarphase, clock, tec, tec3rd, and rotation solution tables. Ignore referencing.\n",
      "/home/albert/miniconda3/envs/tectf/lib/python3.6/site-packages/gpflow-1.3.0-py3.6.egg/gpflow/_settings.py:67: DeprecationWarning: tf_int is deprecated and will be removed at GPflow version 1.2.0. Use int_type.\n",
      "  'version 1.2.0. Use int_type.', DeprecationWarning)\n",
      "/home/albert/miniconda3/envs/tectf/lib/python3.6/site-packages/gpflow-1.3.0-py3.6.egg/gpflow/_settings.py:61: DeprecationWarning: tf_float is deprecated and will be removed at GPflow version 1.2.0. Use float_type.\n",
      "  'version 1.2.0. Use float_type.', DeprecationWarning)\n",
      "/home/albert/miniconda3/envs/tectf/lib/python3.6/site-packages/gpflow-1.3.0-py3.6.egg/gpflow/logdensities.py:91: DeprecationWarning: The 'warn' method is deprecated, use 'warning' instead\n",
      "  logger.warn('Shape of x must be 2D at computation.')\n",
      "WARNING:gpflow.logdensities:Shape of x must be 2D at computation.\n"
     ]
    },
    {
     "name": "stdout",
     "output_type": "stream",
     "text": [
      "INFO:tensorflow:Optimization terminated with:\n",
      "  Message: b'CONVERGENCE: REL_REDUCTION_OF_F_<=_FACTR*EPSMCH'\n",
      "  Objective function value: 7056.383013\n",
      "  Number of iterations: 7\n",
      "  Number of functions evaluations: 8\n"
     ]
    },
    {
     "name": "stderr",
     "output_type": "stream",
     "text": [
      "INFO:tensorflow:Optimization terminated with:\n",
      "  Message: b'CONVERGENCE: REL_REDUCTION_OF_F_<=_FACTR*EPSMCH'\n",
      "  Objective function value: 7056.383013\n",
      "  Number of iterations: 7\n",
      "  Number of functions evaluations: 8\n",
      "/home/albert/miniconda3/envs/tectf/lib/python3.6/site-packages/tables-3.4.4-py3.6-linux-x86_64.egg/tables/file.py:767: DeprecationWarning: The use of uppercase keyword parameters is deprecated\n",
      "  \"deprecated\", DeprecationWarning)\n",
      "/home/albert/miniconda3/envs/tectf/lib/python3.6/site-packages/tables-3.4.4-py3.6-linux-x86_64.egg/tables/file.py:767: DeprecationWarning: The use of uppercase keyword parameters is deprecated\n",
      "  \"deprecated\", DeprecationWarning)\n",
      "ERROR:root:Reference possible only for phase, scalarphase, clock, tec, tec3rd, and rotation solution tables. Ignore referencing.\n",
      "/home/albert/miniconda3/envs/tectf/lib/python3.6/site-packages/gpflow-1.3.0-py3.6.egg/gpflow/_settings.py:67: DeprecationWarning: tf_int is deprecated and will be removed at GPflow version 1.2.0. Use int_type.\n",
      "  'version 1.2.0. Use int_type.', DeprecationWarning)\n",
      "/home/albert/miniconda3/envs/tectf/lib/python3.6/site-packages/gpflow-1.3.0-py3.6.egg/gpflow/_settings.py:61: DeprecationWarning: tf_float is deprecated and will be removed at GPflow version 1.2.0. Use float_type.\n",
      "  'version 1.2.0. Use float_type.', DeprecationWarning)\n",
      "/home/albert/miniconda3/envs/tectf/lib/python3.6/site-packages/gpflow-1.3.0-py3.6.egg/gpflow/logdensities.py:91: DeprecationWarning: The 'warn' method is deprecated, use 'warning' instead\n",
      "  logger.warn('Shape of x must be 2D at computation.')\n",
      "WARNING:gpflow.logdensities:Shape of x must be 2D at computation.\n"
     ]
    },
    {
     "name": "stdout",
     "output_type": "stream",
     "text": [
      "INFO:tensorflow:Optimization terminated with:\n",
      "  Message: b'CONVERGENCE: REL_REDUCTION_OF_F_<=_FACTR*EPSMCH'\n",
      "  Objective function value: 6760.089536\n",
      "  Number of iterations: 6\n",
      "  Number of functions evaluations: 7\n"
     ]
    },
    {
     "name": "stderr",
     "output_type": "stream",
     "text": [
      "INFO:tensorflow:Optimization terminated with:\n",
      "  Message: b'CONVERGENCE: REL_REDUCTION_OF_F_<=_FACTR*EPSMCH'\n",
      "  Objective function value: 6760.089536\n",
      "  Number of iterations: 6\n",
      "  Number of functions evaluations: 7\n",
      "/home/albert/miniconda3/envs/tectf/lib/python3.6/site-packages/tables-3.4.4-py3.6-linux-x86_64.egg/tables/file.py:767: DeprecationWarning: The use of uppercase keyword parameters is deprecated\n",
      "  \"deprecated\", DeprecationWarning)\n",
      "/home/albert/miniconda3/envs/tectf/lib/python3.6/site-packages/tables-3.4.4-py3.6-linux-x86_64.egg/tables/file.py:767: DeprecationWarning: The use of uppercase keyword parameters is deprecated\n",
      "  \"deprecated\", DeprecationWarning)\n",
      "ERROR:root:Reference possible only for phase, scalarphase, clock, tec, tec3rd, and rotation solution tables. Ignore referencing.\n",
      "/home/albert/miniconda3/envs/tectf/lib/python3.6/site-packages/gpflow-1.3.0-py3.6.egg/gpflow/_settings.py:67: DeprecationWarning: tf_int is deprecated and will be removed at GPflow version 1.2.0. Use int_type.\n",
      "  'version 1.2.0. Use int_type.', DeprecationWarning)\n",
      "/home/albert/miniconda3/envs/tectf/lib/python3.6/site-packages/gpflow-1.3.0-py3.6.egg/gpflow/_settings.py:61: DeprecationWarning: tf_float is deprecated and will be removed at GPflow version 1.2.0. Use float_type.\n",
      "  'version 1.2.0. Use float_type.', DeprecationWarning)\n",
      "/home/albert/miniconda3/envs/tectf/lib/python3.6/site-packages/gpflow-1.3.0-py3.6.egg/gpflow/logdensities.py:91: DeprecationWarning: The 'warn' method is deprecated, use 'warning' instead\n",
      "  logger.warn('Shape of x must be 2D at computation.')\n",
      "WARNING:gpflow.logdensities:Shape of x must be 2D at computation.\n"
     ]
    },
    {
     "name": "stdout",
     "output_type": "stream",
     "text": [
      "INFO:tensorflow:Optimization terminated with:\n",
      "  Message: b'CONVERGENCE: REL_REDUCTION_OF_F_<=_FACTR*EPSMCH'\n",
      "  Objective function value: 7574.209997\n",
      "  Number of iterations: 7\n",
      "  Number of functions evaluations: 8\n"
     ]
    },
    {
     "name": "stderr",
     "output_type": "stream",
     "text": [
      "INFO:tensorflow:Optimization terminated with:\n",
      "  Message: b'CONVERGENCE: REL_REDUCTION_OF_F_<=_FACTR*EPSMCH'\n",
      "  Objective function value: 7574.209997\n",
      "  Number of iterations: 7\n",
      "  Number of functions evaluations: 8\n",
      "/home/albert/miniconda3/envs/tectf/lib/python3.6/site-packages/tables-3.4.4-py3.6-linux-x86_64.egg/tables/file.py:767: DeprecationWarning: The use of uppercase keyword parameters is deprecated\n",
      "  \"deprecated\", DeprecationWarning)\n",
      "/home/albert/miniconda3/envs/tectf/lib/python3.6/site-packages/tables-3.4.4-py3.6-linux-x86_64.egg/tables/file.py:767: DeprecationWarning: The use of uppercase keyword parameters is deprecated\n",
      "  \"deprecated\", DeprecationWarning)\n",
      "ERROR:root:Reference possible only for phase, scalarphase, clock, tec, tec3rd, and rotation solution tables. Ignore referencing.\n",
      "/home/albert/miniconda3/envs/tectf/lib/python3.6/site-packages/gpflow-1.3.0-py3.6.egg/gpflow/_settings.py:67: DeprecationWarning: tf_int is deprecated and will be removed at GPflow version 1.2.0. Use int_type.\n",
      "  'version 1.2.0. Use int_type.', DeprecationWarning)\n",
      "/home/albert/miniconda3/envs/tectf/lib/python3.6/site-packages/gpflow-1.3.0-py3.6.egg/gpflow/_settings.py:61: DeprecationWarning: tf_float is deprecated and will be removed at GPflow version 1.2.0. Use float_type.\n",
      "  'version 1.2.0. Use float_type.', DeprecationWarning)\n",
      "/home/albert/miniconda3/envs/tectf/lib/python3.6/site-packages/gpflow-1.3.0-py3.6.egg/gpflow/logdensities.py:91: DeprecationWarning: The 'warn' method is deprecated, use 'warning' instead\n",
      "  logger.warn('Shape of x must be 2D at computation.')\n",
      "WARNING:gpflow.logdensities:Shape of x must be 2D at computation.\n"
     ]
    },
    {
     "name": "stdout",
     "output_type": "stream",
     "text": [
      "INFO:tensorflow:Optimization terminated with:\n",
      "  Message: b'CONVERGENCE: REL_REDUCTION_OF_F_<=_FACTR*EPSMCH'\n",
      "  Objective function value: 7410.095045\n",
      "  Number of iterations: 8\n",
      "  Number of functions evaluations: 9\n"
     ]
    },
    {
     "name": "stderr",
     "output_type": "stream",
     "text": [
      "INFO:tensorflow:Optimization terminated with:\n",
      "  Message: b'CONVERGENCE: REL_REDUCTION_OF_F_<=_FACTR*EPSMCH'\n",
      "  Objective function value: 7410.095045\n",
      "  Number of iterations: 8\n",
      "  Number of functions evaluations: 9\n",
      "/home/albert/miniconda3/envs/tectf/lib/python3.6/site-packages/tables-3.4.4-py3.6-linux-x86_64.egg/tables/file.py:767: DeprecationWarning: The use of uppercase keyword parameters is deprecated\n",
      "  \"deprecated\", DeprecationWarning)\n",
      "/home/albert/miniconda3/envs/tectf/lib/python3.6/site-packages/tables-3.4.4-py3.6-linux-x86_64.egg/tables/file.py:767: DeprecationWarning: The use of uppercase keyword parameters is deprecated\n",
      "  \"deprecated\", DeprecationWarning)\n",
      "ERROR:root:Reference possible only for phase, scalarphase, clock, tec, tec3rd, and rotation solution tables. Ignore referencing.\n",
      "/home/albert/miniconda3/envs/tectf/lib/python3.6/site-packages/gpflow-1.3.0-py3.6.egg/gpflow/_settings.py:67: DeprecationWarning: tf_int is deprecated and will be removed at GPflow version 1.2.0. Use int_type.\n",
      "  'version 1.2.0. Use int_type.', DeprecationWarning)\n",
      "/home/albert/miniconda3/envs/tectf/lib/python3.6/site-packages/gpflow-1.3.0-py3.6.egg/gpflow/_settings.py:61: DeprecationWarning: tf_float is deprecated and will be removed at GPflow version 1.2.0. Use float_type.\n",
      "  'version 1.2.0. Use float_type.', DeprecationWarning)\n",
      "/home/albert/miniconda3/envs/tectf/lib/python3.6/site-packages/gpflow-1.3.0-py3.6.egg/gpflow/logdensities.py:91: DeprecationWarning: The 'warn' method is deprecated, use 'warning' instead\n",
      "  logger.warn('Shape of x must be 2D at computation.')\n",
      "WARNING:gpflow.logdensities:Shape of x must be 2D at computation.\n"
     ]
    },
    {
     "name": "stdout",
     "output_type": "stream",
     "text": [
      "INFO:tensorflow:Optimization terminated with:\n",
      "  Message: b'CONVERGENCE: REL_REDUCTION_OF_F_<=_FACTR*EPSMCH'\n",
      "  Objective function value: 6896.955487\n",
      "  Number of iterations: 8\n",
      "  Number of functions evaluations: 9\n"
     ]
    },
    {
     "name": "stderr",
     "output_type": "stream",
     "text": [
      "INFO:tensorflow:Optimization terminated with:\n",
      "  Message: b'CONVERGENCE: REL_REDUCTION_OF_F_<=_FACTR*EPSMCH'\n",
      "  Objective function value: 6896.955487\n",
      "  Number of iterations: 8\n",
      "  Number of functions evaluations: 9\n",
      "/home/albert/miniconda3/envs/tectf/lib/python3.6/site-packages/tables-3.4.4-py3.6-linux-x86_64.egg/tables/file.py:767: DeprecationWarning: The use of uppercase keyword parameters is deprecated\n",
      "  \"deprecated\", DeprecationWarning)\n",
      "/home/albert/miniconda3/envs/tectf/lib/python3.6/site-packages/tables-3.4.4-py3.6-linux-x86_64.egg/tables/file.py:767: DeprecationWarning: The use of uppercase keyword parameters is deprecated\n",
      "  \"deprecated\", DeprecationWarning)\n",
      "ERROR:root:Reference possible only for phase, scalarphase, clock, tec, tec3rd, and rotation solution tables. Ignore referencing.\n",
      "/home/albert/miniconda3/envs/tectf/lib/python3.6/site-packages/gpflow-1.3.0-py3.6.egg/gpflow/_settings.py:67: DeprecationWarning: tf_int is deprecated and will be removed at GPflow version 1.2.0. Use int_type.\n",
      "  'version 1.2.0. Use int_type.', DeprecationWarning)\n",
      "/home/albert/miniconda3/envs/tectf/lib/python3.6/site-packages/gpflow-1.3.0-py3.6.egg/gpflow/_settings.py:61: DeprecationWarning: tf_float is deprecated and will be removed at GPflow version 1.2.0. Use float_type.\n",
      "  'version 1.2.0. Use float_type.', DeprecationWarning)\n",
      "/home/albert/miniconda3/envs/tectf/lib/python3.6/site-packages/gpflow-1.3.0-py3.6.egg/gpflow/logdensities.py:91: DeprecationWarning: The 'warn' method is deprecated, use 'warning' instead\n",
      "  logger.warn('Shape of x must be 2D at computation.')\n",
      "WARNING:gpflow.logdensities:Shape of x must be 2D at computation.\n"
     ]
    },
    {
     "name": "stdout",
     "output_type": "stream",
     "text": [
      "INFO:tensorflow:Optimization terminated with:\n",
      "  Message: b'CONVERGENCE: REL_REDUCTION_OF_F_<=_FACTR*EPSMCH'\n",
      "  Objective function value: 5892.120194\n",
      "  Number of iterations: 9\n",
      "  Number of functions evaluations: 10\n"
     ]
    },
    {
     "name": "stderr",
     "output_type": "stream",
     "text": [
      "INFO:tensorflow:Optimization terminated with:\n",
      "  Message: b'CONVERGENCE: REL_REDUCTION_OF_F_<=_FACTR*EPSMCH'\n",
      "  Objective function value: 5892.120194\n",
      "  Number of iterations: 9\n",
      "  Number of functions evaluations: 10\n",
      "/home/albert/miniconda3/envs/tectf/lib/python3.6/site-packages/tables-3.4.4-py3.6-linux-x86_64.egg/tables/file.py:767: DeprecationWarning: The use of uppercase keyword parameters is deprecated\n",
      "  \"deprecated\", DeprecationWarning)\n",
      "/home/albert/miniconda3/envs/tectf/lib/python3.6/site-packages/tables-3.4.4-py3.6-linux-x86_64.egg/tables/file.py:767: DeprecationWarning: The use of uppercase keyword parameters is deprecated\n",
      "  \"deprecated\", DeprecationWarning)\n",
      "ERROR:root:Reference possible only for phase, scalarphase, clock, tec, tec3rd, and rotation solution tables. Ignore referencing.\n",
      "/home/albert/miniconda3/envs/tectf/lib/python3.6/site-packages/gpflow-1.3.0-py3.6.egg/gpflow/_settings.py:67: DeprecationWarning: tf_int is deprecated and will be removed at GPflow version 1.2.0. Use int_type.\n",
      "  'version 1.2.0. Use int_type.', DeprecationWarning)\n",
      "/home/albert/miniconda3/envs/tectf/lib/python3.6/site-packages/gpflow-1.3.0-py3.6.egg/gpflow/_settings.py:61: DeprecationWarning: tf_float is deprecated and will be removed at GPflow version 1.2.0. Use float_type.\n",
      "  'version 1.2.0. Use float_type.', DeprecationWarning)\n",
      "/home/albert/miniconda3/envs/tectf/lib/python3.6/site-packages/gpflow-1.3.0-py3.6.egg/gpflow/logdensities.py:91: DeprecationWarning: The 'warn' method is deprecated, use 'warning' instead\n",
      "  logger.warn('Shape of x must be 2D at computation.')\n",
      "WARNING:gpflow.logdensities:Shape of x must be 2D at computation.\n"
     ]
    },
    {
     "name": "stdout",
     "output_type": "stream",
     "text": [
      "INFO:tensorflow:Optimization terminated with:\n",
      "  Message: b'CONVERGENCE: REL_REDUCTION_OF_F_<=_FACTR*EPSMCH'\n",
      "  Objective function value: 6242.444289\n",
      "  Number of iterations: 9\n",
      "  Number of functions evaluations: 10\n"
     ]
    },
    {
     "name": "stderr",
     "output_type": "stream",
     "text": [
      "INFO:tensorflow:Optimization terminated with:\n",
      "  Message: b'CONVERGENCE: REL_REDUCTION_OF_F_<=_FACTR*EPSMCH'\n",
      "  Objective function value: 6242.444289\n",
      "  Number of iterations: 9\n",
      "  Number of functions evaluations: 10\n",
      "/home/albert/miniconda3/envs/tectf/lib/python3.6/site-packages/tables-3.4.4-py3.6-linux-x86_64.egg/tables/file.py:767: DeprecationWarning: The use of uppercase keyword parameters is deprecated\n",
      "  \"deprecated\", DeprecationWarning)\n",
      "/home/albert/miniconda3/envs/tectf/lib/python3.6/site-packages/tables-3.4.4-py3.6-linux-x86_64.egg/tables/file.py:767: DeprecationWarning: The use of uppercase keyword parameters is deprecated\n",
      "  \"deprecated\", DeprecationWarning)\n",
      "ERROR:root:Reference possible only for phase, scalarphase, clock, tec, tec3rd, and rotation solution tables. Ignore referencing.\n",
      "/home/albert/miniconda3/envs/tectf/lib/python3.6/site-packages/gpflow-1.3.0-py3.6.egg/gpflow/_settings.py:67: DeprecationWarning: tf_int is deprecated and will be removed at GPflow version 1.2.0. Use int_type.\n",
      "  'version 1.2.0. Use int_type.', DeprecationWarning)\n",
      "/home/albert/miniconda3/envs/tectf/lib/python3.6/site-packages/gpflow-1.3.0-py3.6.egg/gpflow/_settings.py:61: DeprecationWarning: tf_float is deprecated and will be removed at GPflow version 1.2.0. Use float_type.\n",
      "  'version 1.2.0. Use float_type.', DeprecationWarning)\n",
      "/home/albert/miniconda3/envs/tectf/lib/python3.6/site-packages/gpflow-1.3.0-py3.6.egg/gpflow/logdensities.py:91: DeprecationWarning: The 'warn' method is deprecated, use 'warning' instead\n",
      "  logger.warn('Shape of x must be 2D at computation.')\n",
      "WARNING:gpflow.logdensities:Shape of x must be 2D at computation.\n"
     ]
    },
    {
     "name": "stdout",
     "output_type": "stream",
     "text": [
      "INFO:tensorflow:Optimization terminated with:\n",
      "  Message: b'CONVERGENCE: REL_REDUCTION_OF_F_<=_FACTR*EPSMCH'\n",
      "  Objective function value: 6238.892058\n",
      "  Number of iterations: 9\n",
      "  Number of functions evaluations: 10\n"
     ]
    },
    {
     "name": "stderr",
     "output_type": "stream",
     "text": [
      "INFO:tensorflow:Optimization terminated with:\n",
      "  Message: b'CONVERGENCE: REL_REDUCTION_OF_F_<=_FACTR*EPSMCH'\n",
      "  Objective function value: 6238.892058\n",
      "  Number of iterations: 9\n",
      "  Number of functions evaluations: 10\n",
      "/home/albert/miniconda3/envs/tectf/lib/python3.6/site-packages/tables-3.4.4-py3.6-linux-x86_64.egg/tables/file.py:767: DeprecationWarning: The use of uppercase keyword parameters is deprecated\n",
      "  \"deprecated\", DeprecationWarning)\n",
      "/home/albert/miniconda3/envs/tectf/lib/python3.6/site-packages/tables-3.4.4-py3.6-linux-x86_64.egg/tables/file.py:767: DeprecationWarning: The use of uppercase keyword parameters is deprecated\n",
      "  \"deprecated\", DeprecationWarning)\n",
      "ERROR:root:Reference possible only for phase, scalarphase, clock, tec, tec3rd, and rotation solution tables. Ignore referencing.\n",
      "/home/albert/miniconda3/envs/tectf/lib/python3.6/site-packages/gpflow-1.3.0-py3.6.egg/gpflow/_settings.py:67: DeprecationWarning: tf_int is deprecated and will be removed at GPflow version 1.2.0. Use int_type.\n",
      "  'version 1.2.0. Use int_type.', DeprecationWarning)\n",
      "/home/albert/miniconda3/envs/tectf/lib/python3.6/site-packages/gpflow-1.3.0-py3.6.egg/gpflow/_settings.py:61: DeprecationWarning: tf_float is deprecated and will be removed at GPflow version 1.2.0. Use float_type.\n",
      "  'version 1.2.0. Use float_type.', DeprecationWarning)\n",
      "/home/albert/miniconda3/envs/tectf/lib/python3.6/site-packages/gpflow-1.3.0-py3.6.egg/gpflow/logdensities.py:91: DeprecationWarning: The 'warn' method is deprecated, use 'warning' instead\n",
      "  logger.warn('Shape of x must be 2D at computation.')\n",
      "WARNING:gpflow.logdensities:Shape of x must be 2D at computation.\n"
     ]
    },
    {
     "name": "stdout",
     "output_type": "stream",
     "text": [
      "INFO:tensorflow:Optimization terminated with:\n",
      "  Message: b'CONVERGENCE: REL_REDUCTION_OF_F_<=_FACTR*EPSMCH'\n",
      "  Objective function value: 4778.796732\n",
      "  Number of iterations: 10\n",
      "  Number of functions evaluations: 11\n"
     ]
    },
    {
     "name": "stderr",
     "output_type": "stream",
     "text": [
      "INFO:tensorflow:Optimization terminated with:\n",
      "  Message: b'CONVERGENCE: REL_REDUCTION_OF_F_<=_FACTR*EPSMCH'\n",
      "  Objective function value: 4778.796732\n",
      "  Number of iterations: 10\n",
      "  Number of functions evaluations: 11\n",
      "/home/albert/miniconda3/envs/tectf/lib/python3.6/site-packages/tables-3.4.4-py3.6-linux-x86_64.egg/tables/file.py:767: DeprecationWarning: The use of uppercase keyword parameters is deprecated\n",
      "  \"deprecated\", DeprecationWarning)\n",
      "/home/albert/miniconda3/envs/tectf/lib/python3.6/site-packages/tables-3.4.4-py3.6-linux-x86_64.egg/tables/file.py:767: DeprecationWarning: The use of uppercase keyword parameters is deprecated\n",
      "  \"deprecated\", DeprecationWarning)\n",
      "ERROR:root:Reference possible only for phase, scalarphase, clock, tec, tec3rd, and rotation solution tables. Ignore referencing.\n",
      "/home/albert/miniconda3/envs/tectf/lib/python3.6/site-packages/gpflow-1.3.0-py3.6.egg/gpflow/_settings.py:67: DeprecationWarning: tf_int is deprecated and will be removed at GPflow version 1.2.0. Use int_type.\n",
      "  'version 1.2.0. Use int_type.', DeprecationWarning)\n",
      "/home/albert/miniconda3/envs/tectf/lib/python3.6/site-packages/gpflow-1.3.0-py3.6.egg/gpflow/_settings.py:61: DeprecationWarning: tf_float is deprecated and will be removed at GPflow version 1.2.0. Use float_type.\n",
      "  'version 1.2.0. Use float_type.', DeprecationWarning)\n",
      "/home/albert/miniconda3/envs/tectf/lib/python3.6/site-packages/gpflow-1.3.0-py3.6.egg/gpflow/logdensities.py:91: DeprecationWarning: The 'warn' method is deprecated, use 'warning' instead\n",
      "  logger.warn('Shape of x must be 2D at computation.')\n",
      "WARNING:gpflow.logdensities:Shape of x must be 2D at computation.\n"
     ]
    },
    {
     "name": "stdout",
     "output_type": "stream",
     "text": [
      "INFO:tensorflow:Optimization terminated with:\n",
      "  Message: b'CONVERGENCE: REL_REDUCTION_OF_F_<=_FACTR*EPSMCH'\n",
      "  Objective function value: 4894.106844\n",
      "  Number of iterations: 10\n",
      "  Number of functions evaluations: 11\n"
     ]
    },
    {
     "name": "stderr",
     "output_type": "stream",
     "text": [
      "INFO:tensorflow:Optimization terminated with:\n",
      "  Message: b'CONVERGENCE: REL_REDUCTION_OF_F_<=_FACTR*EPSMCH'\n",
      "  Objective function value: 4894.106844\n",
      "  Number of iterations: 10\n",
      "  Number of functions evaluations: 11\n",
      "/home/albert/miniconda3/envs/tectf/lib/python3.6/site-packages/tables-3.4.4-py3.6-linux-x86_64.egg/tables/file.py:767: DeprecationWarning: The use of uppercase keyword parameters is deprecated\n",
      "  \"deprecated\", DeprecationWarning)\n",
      "/home/albert/miniconda3/envs/tectf/lib/python3.6/site-packages/tables-3.4.4-py3.6-linux-x86_64.egg/tables/file.py:767: DeprecationWarning: The use of uppercase keyword parameters is deprecated\n",
      "  \"deprecated\", DeprecationWarning)\n",
      "ERROR:root:Reference possible only for phase, scalarphase, clock, tec, tec3rd, and rotation solution tables. Ignore referencing.\n",
      "/home/albert/miniconda3/envs/tectf/lib/python3.6/site-packages/gpflow-1.3.0-py3.6.egg/gpflow/_settings.py:67: DeprecationWarning: tf_int is deprecated and will be removed at GPflow version 1.2.0. Use int_type.\n",
      "  'version 1.2.0. Use int_type.', DeprecationWarning)\n",
      "/home/albert/miniconda3/envs/tectf/lib/python3.6/site-packages/gpflow-1.3.0-py3.6.egg/gpflow/_settings.py:61: DeprecationWarning: tf_float is deprecated and will be removed at GPflow version 1.2.0. Use float_type.\n",
      "  'version 1.2.0. Use float_type.', DeprecationWarning)\n",
      "/home/albert/miniconda3/envs/tectf/lib/python3.6/site-packages/gpflow-1.3.0-py3.6.egg/gpflow/logdensities.py:91: DeprecationWarning: The 'warn' method is deprecated, use 'warning' instead\n",
      "  logger.warn('Shape of x must be 2D at computation.')\n",
      "WARNING:gpflow.logdensities:Shape of x must be 2D at computation.\n"
     ]
    },
    {
     "name": "stdout",
     "output_type": "stream",
     "text": [
      "INFO:tensorflow:Optimization terminated with:\n",
      "  Message: b'CONVERGENCE: REL_REDUCTION_OF_F_<=_FACTR*EPSMCH'\n",
      "  Objective function value: 5682.804434\n",
      "  Number of iterations: 9\n",
      "  Number of functions evaluations: 10\n"
     ]
    },
    {
     "name": "stderr",
     "output_type": "stream",
     "text": [
      "INFO:tensorflow:Optimization terminated with:\n",
      "  Message: b'CONVERGENCE: REL_REDUCTION_OF_F_<=_FACTR*EPSMCH'\n",
      "  Objective function value: 5682.804434\n",
      "  Number of iterations: 9\n",
      "  Number of functions evaluations: 10\n",
      "/home/albert/miniconda3/envs/tectf/lib/python3.6/site-packages/tables-3.4.4-py3.6-linux-x86_64.egg/tables/file.py:767: DeprecationWarning: The use of uppercase keyword parameters is deprecated\n",
      "  \"deprecated\", DeprecationWarning)\n",
      "/home/albert/miniconda3/envs/tectf/lib/python3.6/site-packages/tables-3.4.4-py3.6-linux-x86_64.egg/tables/file.py:767: DeprecationWarning: The use of uppercase keyword parameters is deprecated\n",
      "  \"deprecated\", DeprecationWarning)\n",
      "ERROR:root:Reference possible only for phase, scalarphase, clock, tec, tec3rd, and rotation solution tables. Ignore referencing.\n",
      "/home/albert/miniconda3/envs/tectf/lib/python3.6/site-packages/gpflow-1.3.0-py3.6.egg/gpflow/_settings.py:67: DeprecationWarning: tf_int is deprecated and will be removed at GPflow version 1.2.0. Use int_type.\n",
      "  'version 1.2.0. Use int_type.', DeprecationWarning)\n",
      "/home/albert/miniconda3/envs/tectf/lib/python3.6/site-packages/gpflow-1.3.0-py3.6.egg/gpflow/_settings.py:61: DeprecationWarning: tf_float is deprecated and will be removed at GPflow version 1.2.0. Use float_type.\n",
      "  'version 1.2.0. Use float_type.', DeprecationWarning)\n",
      "/home/albert/miniconda3/envs/tectf/lib/python3.6/site-packages/gpflow-1.3.0-py3.6.egg/gpflow/logdensities.py:91: DeprecationWarning: The 'warn' method is deprecated, use 'warning' instead\n",
      "  logger.warn('Shape of x must be 2D at computation.')\n",
      "WARNING:gpflow.logdensities:Shape of x must be 2D at computation.\n"
     ]
    },
    {
     "name": "stdout",
     "output_type": "stream",
     "text": [
      "INFO:tensorflow:Optimization terminated with:\n",
      "  Message: b'CONVERGENCE: REL_REDUCTION_OF_F_<=_FACTR*EPSMCH'\n",
      "  Objective function value: 10641.664313\n",
      "  Number of iterations: 11\n",
      "  Number of functions evaluations: 12\n"
     ]
    },
    {
     "name": "stderr",
     "output_type": "stream",
     "text": [
      "INFO:tensorflow:Optimization terminated with:\n",
      "  Message: b'CONVERGENCE: REL_REDUCTION_OF_F_<=_FACTR*EPSMCH'\n",
      "  Objective function value: 10641.664313\n",
      "  Number of iterations: 11\n",
      "  Number of functions evaluations: 12\n",
      "/home/albert/miniconda3/envs/tectf/lib/python3.6/site-packages/tables-3.4.4-py3.6-linux-x86_64.egg/tables/file.py:767: DeprecationWarning: The use of uppercase keyword parameters is deprecated\n",
      "  \"deprecated\", DeprecationWarning)\n",
      "/home/albert/miniconda3/envs/tectf/lib/python3.6/site-packages/tables-3.4.4-py3.6-linux-x86_64.egg/tables/file.py:767: DeprecationWarning: The use of uppercase keyword parameters is deprecated\n",
      "  \"deprecated\", DeprecationWarning)\n",
      "ERROR:root:Reference possible only for phase, scalarphase, clock, tec, tec3rd, and rotation solution tables. Ignore referencing.\n",
      "/home/albert/miniconda3/envs/tectf/lib/python3.6/site-packages/gpflow-1.3.0-py3.6.egg/gpflow/_settings.py:67: DeprecationWarning: tf_int is deprecated and will be removed at GPflow version 1.2.0. Use int_type.\n",
      "  'version 1.2.0. Use int_type.', DeprecationWarning)\n",
      "/home/albert/miniconda3/envs/tectf/lib/python3.6/site-packages/gpflow-1.3.0-py3.6.egg/gpflow/_settings.py:61: DeprecationWarning: tf_float is deprecated and will be removed at GPflow version 1.2.0. Use float_type.\n",
      "  'version 1.2.0. Use float_type.', DeprecationWarning)\n",
      "/home/albert/miniconda3/envs/tectf/lib/python3.6/site-packages/gpflow-1.3.0-py3.6.egg/gpflow/logdensities.py:91: DeprecationWarning: The 'warn' method is deprecated, use 'warning' instead\n",
      "  logger.warn('Shape of x must be 2D at computation.')\n",
      "WARNING:gpflow.logdensities:Shape of x must be 2D at computation.\n"
     ]
    },
    {
     "name": "stdout",
     "output_type": "stream",
     "text": [
      "INFO:tensorflow:Optimization terminated with:\n",
      "  Message: b'CONVERGENCE: REL_REDUCTION_OF_F_<=_FACTR*EPSMCH'\n",
      "  Objective function value: 12129.121598\n",
      "  Number of iterations: 15\n",
      "  Number of functions evaluations: 16\n"
     ]
    },
    {
     "name": "stderr",
     "output_type": "stream",
     "text": [
      "INFO:tensorflow:Optimization terminated with:\n",
      "  Message: b'CONVERGENCE: REL_REDUCTION_OF_F_<=_FACTR*EPSMCH'\n",
      "  Objective function value: 12129.121598\n",
      "  Number of iterations: 15\n",
      "  Number of functions evaluations: 16\n",
      "/home/albert/miniconda3/envs/tectf/lib/python3.6/site-packages/tables-3.4.4-py3.6-linux-x86_64.egg/tables/file.py:767: DeprecationWarning: The use of uppercase keyword parameters is deprecated\n",
      "  \"deprecated\", DeprecationWarning)\n",
      "/home/albert/miniconda3/envs/tectf/lib/python3.6/site-packages/tables-3.4.4-py3.6-linux-x86_64.egg/tables/file.py:767: DeprecationWarning: The use of uppercase keyword parameters is deprecated\n",
      "  \"deprecated\", DeprecationWarning)\n",
      "ERROR:root:Reference possible only for phase, scalarphase, clock, tec, tec3rd, and rotation solution tables. Ignore referencing.\n",
      "/home/albert/miniconda3/envs/tectf/lib/python3.6/site-packages/gpflow-1.3.0-py3.6.egg/gpflow/_settings.py:67: DeprecationWarning: tf_int is deprecated and will be removed at GPflow version 1.2.0. Use int_type.\n",
      "  'version 1.2.0. Use int_type.', DeprecationWarning)\n",
      "/home/albert/miniconda3/envs/tectf/lib/python3.6/site-packages/gpflow-1.3.0-py3.6.egg/gpflow/_settings.py:61: DeprecationWarning: tf_float is deprecated and will be removed at GPflow version 1.2.0. Use float_type.\n",
      "  'version 1.2.0. Use float_type.', DeprecationWarning)\n",
      "/home/albert/miniconda3/envs/tectf/lib/python3.6/site-packages/gpflow-1.3.0-py3.6.egg/gpflow/logdensities.py:91: DeprecationWarning: The 'warn' method is deprecated, use 'warning' instead\n",
      "  logger.warn('Shape of x must be 2D at computation.')\n",
      "WARNING:gpflow.logdensities:Shape of x must be 2D at computation.\n"
     ]
    },
    {
     "name": "stdout",
     "output_type": "stream",
     "text": [
      "INFO:tensorflow:Optimization terminated with:\n",
      "  Message: b'CONVERGENCE: REL_REDUCTION_OF_F_<=_FACTR*EPSMCH'\n",
      "  Objective function value: 3544.356577\n",
      "  Number of iterations: 10\n",
      "  Number of functions evaluations: 11\n"
     ]
    },
    {
     "name": "stderr",
     "output_type": "stream",
     "text": [
      "INFO:tensorflow:Optimization terminated with:\n",
      "  Message: b'CONVERGENCE: REL_REDUCTION_OF_F_<=_FACTR*EPSMCH'\n",
      "  Objective function value: 3544.356577\n",
      "  Number of iterations: 10\n",
      "  Number of functions evaluations: 11\n",
      "/home/albert/miniconda3/envs/tectf/lib/python3.6/site-packages/tables-3.4.4-py3.6-linux-x86_64.egg/tables/file.py:767: DeprecationWarning: The use of uppercase keyword parameters is deprecated\n",
      "  \"deprecated\", DeprecationWarning)\n",
      "/home/albert/miniconda3/envs/tectf/lib/python3.6/site-packages/tables-3.4.4-py3.6-linux-x86_64.egg/tables/file.py:767: DeprecationWarning: The use of uppercase keyword parameters is deprecated\n",
      "  \"deprecated\", DeprecationWarning)\n",
      "ERROR:root:Reference possible only for phase, scalarphase, clock, tec, tec3rd, and rotation solution tables. Ignore referencing.\n",
      "/home/albert/miniconda3/envs/tectf/lib/python3.6/site-packages/gpflow-1.3.0-py3.6.egg/gpflow/_settings.py:67: DeprecationWarning: tf_int is deprecated and will be removed at GPflow version 1.2.0. Use int_type.\n",
      "  'version 1.2.0. Use int_type.', DeprecationWarning)\n",
      "/home/albert/miniconda3/envs/tectf/lib/python3.6/site-packages/gpflow-1.3.0-py3.6.egg/gpflow/_settings.py:61: DeprecationWarning: tf_float is deprecated and will be removed at GPflow version 1.2.0. Use float_type.\n",
      "  'version 1.2.0. Use float_type.', DeprecationWarning)\n",
      "/home/albert/miniconda3/envs/tectf/lib/python3.6/site-packages/gpflow-1.3.0-py3.6.egg/gpflow/logdensities.py:91: DeprecationWarning: The 'warn' method is deprecated, use 'warning' instead\n",
      "  logger.warn('Shape of x must be 2D at computation.')\n",
      "WARNING:gpflow.logdensities:Shape of x must be 2D at computation.\n"
     ]
    },
    {
     "name": "stdout",
     "output_type": "stream",
     "text": [
      "INFO:tensorflow:Optimization terminated with:\n",
      "  Message: b'CONVERGENCE: REL_REDUCTION_OF_F_<=_FACTR*EPSMCH'\n",
      "  Objective function value: 2978.709924\n",
      "  Number of iterations: 12\n",
      "  Number of functions evaluations: 13\n"
     ]
    },
    {
     "name": "stderr",
     "output_type": "stream",
     "text": [
      "INFO:tensorflow:Optimization terminated with:\n",
      "  Message: b'CONVERGENCE: REL_REDUCTION_OF_F_<=_FACTR*EPSMCH'\n",
      "  Objective function value: 2978.709924\n",
      "  Number of iterations: 12\n",
      "  Number of functions evaluations: 13\n",
      "/home/albert/miniconda3/envs/tectf/lib/python3.6/site-packages/tables-3.4.4-py3.6-linux-x86_64.egg/tables/file.py:767: DeprecationWarning: The use of uppercase keyword parameters is deprecated\n",
      "  \"deprecated\", DeprecationWarning)\n",
      "/home/albert/miniconda3/envs/tectf/lib/python3.6/site-packages/tables-3.4.4-py3.6-linux-x86_64.egg/tables/file.py:767: DeprecationWarning: The use of uppercase keyword parameters is deprecated\n",
      "  \"deprecated\", DeprecationWarning)\n",
      "ERROR:root:Reference possible only for phase, scalarphase, clock, tec, tec3rd, and rotation solution tables. Ignore referencing.\n",
      "/home/albert/miniconda3/envs/tectf/lib/python3.6/site-packages/gpflow-1.3.0-py3.6.egg/gpflow/_settings.py:67: DeprecationWarning: tf_int is deprecated and will be removed at GPflow version 1.2.0. Use int_type.\n",
      "  'version 1.2.0. Use int_type.', DeprecationWarning)\n",
      "/home/albert/miniconda3/envs/tectf/lib/python3.6/site-packages/gpflow-1.3.0-py3.6.egg/gpflow/_settings.py:61: DeprecationWarning: tf_float is deprecated and will be removed at GPflow version 1.2.0. Use float_type.\n",
      "  'version 1.2.0. Use float_type.', DeprecationWarning)\n",
      "/home/albert/miniconda3/envs/tectf/lib/python3.6/site-packages/gpflow-1.3.0-py3.6.egg/gpflow/logdensities.py:91: DeprecationWarning: The 'warn' method is deprecated, use 'warning' instead\n",
      "  logger.warn('Shape of x must be 2D at computation.')\n",
      "WARNING:gpflow.logdensities:Shape of x must be 2D at computation.\n"
     ]
    },
    {
     "name": "stdout",
     "output_type": "stream",
     "text": [
      "INFO:tensorflow:Optimization terminated with:\n",
      "  Message: b'CONVERGENCE: REL_REDUCTION_OF_F_<=_FACTR*EPSMCH'\n",
      "  Objective function value: 3013.043432\n",
      "  Number of iterations: 11\n",
      "  Number of functions evaluations: 12\n"
     ]
    },
    {
     "name": "stderr",
     "output_type": "stream",
     "text": [
      "INFO:tensorflow:Optimization terminated with:\n",
      "  Message: b'CONVERGENCE: REL_REDUCTION_OF_F_<=_FACTR*EPSMCH'\n",
      "  Objective function value: 3013.043432\n",
      "  Number of iterations: 11\n",
      "  Number of functions evaluations: 12\n",
      "/home/albert/miniconda3/envs/tectf/lib/python3.6/site-packages/tables-3.4.4-py3.6-linux-x86_64.egg/tables/file.py:767: DeprecationWarning: The use of uppercase keyword parameters is deprecated\n",
      "  \"deprecated\", DeprecationWarning)\n",
      "/home/albert/miniconda3/envs/tectf/lib/python3.6/site-packages/tables-3.4.4-py3.6-linux-x86_64.egg/tables/file.py:767: DeprecationWarning: The use of uppercase keyword parameters is deprecated\n",
      "  \"deprecated\", DeprecationWarning)\n",
      "ERROR:root:Reference possible only for phase, scalarphase, clock, tec, tec3rd, and rotation solution tables. Ignore referencing.\n",
      "/home/albert/miniconda3/envs/tectf/lib/python3.6/site-packages/gpflow-1.3.0-py3.6.egg/gpflow/_settings.py:67: DeprecationWarning: tf_int is deprecated and will be removed at GPflow version 1.2.0. Use int_type.\n",
      "  'version 1.2.0. Use int_type.', DeprecationWarning)\n",
      "/home/albert/miniconda3/envs/tectf/lib/python3.6/site-packages/gpflow-1.3.0-py3.6.egg/gpflow/_settings.py:61: DeprecationWarning: tf_float is deprecated and will be removed at GPflow version 1.2.0. Use float_type.\n",
      "  'version 1.2.0. Use float_type.', DeprecationWarning)\n",
      "/home/albert/miniconda3/envs/tectf/lib/python3.6/site-packages/gpflow-1.3.0-py3.6.egg/gpflow/logdensities.py:91: DeprecationWarning: The 'warn' method is deprecated, use 'warning' instead\n",
      "  logger.warn('Shape of x must be 2D at computation.')\n",
      "WARNING:gpflow.logdensities:Shape of x must be 2D at computation.\n"
     ]
    },
    {
     "name": "stdout",
     "output_type": "stream",
     "text": [
      "INFO:tensorflow:Optimization terminated with:\n",
      "  Message: b'CONVERGENCE: REL_REDUCTION_OF_F_<=_FACTR*EPSMCH'\n",
      "  Objective function value: 2756.425141\n",
      "  Number of iterations: 10\n",
      "  Number of functions evaluations: 11\n"
     ]
    },
    {
     "name": "stderr",
     "output_type": "stream",
     "text": [
      "INFO:tensorflow:Optimization terminated with:\n",
      "  Message: b'CONVERGENCE: REL_REDUCTION_OF_F_<=_FACTR*EPSMCH'\n",
      "  Objective function value: 2756.425141\n",
      "  Number of iterations: 10\n",
      "  Number of functions evaluations: 11\n",
      "/home/albert/miniconda3/envs/tectf/lib/python3.6/site-packages/tables-3.4.4-py3.6-linux-x86_64.egg/tables/file.py:767: DeprecationWarning: The use of uppercase keyword parameters is deprecated\n",
      "  \"deprecated\", DeprecationWarning)\n",
      "/home/albert/miniconda3/envs/tectf/lib/python3.6/site-packages/tables-3.4.4-py3.6-linux-x86_64.egg/tables/file.py:767: DeprecationWarning: The use of uppercase keyword parameters is deprecated\n",
      "  \"deprecated\", DeprecationWarning)\n",
      "ERROR:root:Reference possible only for phase, scalarphase, clock, tec, tec3rd, and rotation solution tables. Ignore referencing.\n",
      "/home/albert/miniconda3/envs/tectf/lib/python3.6/site-packages/gpflow-1.3.0-py3.6.egg/gpflow/_settings.py:67: DeprecationWarning: tf_int is deprecated and will be removed at GPflow version 1.2.0. Use int_type.\n",
      "  'version 1.2.0. Use int_type.', DeprecationWarning)\n",
      "/home/albert/miniconda3/envs/tectf/lib/python3.6/site-packages/gpflow-1.3.0-py3.6.egg/gpflow/_settings.py:61: DeprecationWarning: tf_float is deprecated and will be removed at GPflow version 1.2.0. Use float_type.\n",
      "  'version 1.2.0. Use float_type.', DeprecationWarning)\n",
      "/home/albert/miniconda3/envs/tectf/lib/python3.6/site-packages/gpflow-1.3.0-py3.6.egg/gpflow/logdensities.py:91: DeprecationWarning: The 'warn' method is deprecated, use 'warning' instead\n",
      "  logger.warn('Shape of x must be 2D at computation.')\n",
      "WARNING:gpflow.logdensities:Shape of x must be 2D at computation.\n"
     ]
    },
    {
     "name": "stdout",
     "output_type": "stream",
     "text": [
      "INFO:tensorflow:Optimization terminated with:\n",
      "  Message: b'CONVERGENCE: NORM_OF_PROJECTED_GRADIENT_<=_PGTOL'\n",
      "  Objective function value: 2365.938474\n",
      "  Number of iterations: 11\n",
      "  Number of functions evaluations: 12\n"
     ]
    },
    {
     "name": "stderr",
     "output_type": "stream",
     "text": [
      "INFO:tensorflow:Optimization terminated with:\n",
      "  Message: b'CONVERGENCE: NORM_OF_PROJECTED_GRADIENT_<=_PGTOL'\n",
      "  Objective function value: 2365.938474\n",
      "  Number of iterations: 11\n",
      "  Number of functions evaluations: 12\n",
      "/home/albert/miniconda3/envs/tectf/lib/python3.6/site-packages/tables-3.4.4-py3.6-linux-x86_64.egg/tables/file.py:767: DeprecationWarning: The use of uppercase keyword parameters is deprecated\n",
      "  \"deprecated\", DeprecationWarning)\n",
      "/home/albert/miniconda3/envs/tectf/lib/python3.6/site-packages/tables-3.4.4-py3.6-linux-x86_64.egg/tables/file.py:767: DeprecationWarning: The use of uppercase keyword parameters is deprecated\n",
      "  \"deprecated\", DeprecationWarning)\n",
      "ERROR:root:Reference possible only for phase, scalarphase, clock, tec, tec3rd, and rotation solution tables. Ignore referencing.\n",
      "/home/albert/miniconda3/envs/tectf/lib/python3.6/site-packages/gpflow-1.3.0-py3.6.egg/gpflow/_settings.py:67: DeprecationWarning: tf_int is deprecated and will be removed at GPflow version 1.2.0. Use int_type.\n",
      "  'version 1.2.0. Use int_type.', DeprecationWarning)\n",
      "/home/albert/miniconda3/envs/tectf/lib/python3.6/site-packages/gpflow-1.3.0-py3.6.egg/gpflow/_settings.py:61: DeprecationWarning: tf_float is deprecated and will be removed at GPflow version 1.2.0. Use float_type.\n",
      "  'version 1.2.0. Use float_type.', DeprecationWarning)\n",
      "/home/albert/miniconda3/envs/tectf/lib/python3.6/site-packages/gpflow-1.3.0-py3.6.egg/gpflow/logdensities.py:91: DeprecationWarning: The 'warn' method is deprecated, use 'warning' instead\n",
      "  logger.warn('Shape of x must be 2D at computation.')\n",
      "WARNING:gpflow.logdensities:Shape of x must be 2D at computation.\n"
     ]
    },
    {
     "name": "stdout",
     "output_type": "stream",
     "text": [
      "INFO:tensorflow:Optimization terminated with:\n",
      "  Message: b'CONVERGENCE: REL_REDUCTION_OF_F_<=_FACTR*EPSMCH'\n",
      "  Objective function value: 2209.444540\n",
      "  Number of iterations: 13\n",
      "  Number of functions evaluations: 14\n"
     ]
    },
    {
     "name": "stderr",
     "output_type": "stream",
     "text": [
      "INFO:tensorflow:Optimization terminated with:\n",
      "  Message: b'CONVERGENCE: REL_REDUCTION_OF_F_<=_FACTR*EPSMCH'\n",
      "  Objective function value: 2209.444540\n",
      "  Number of iterations: 13\n",
      "  Number of functions evaluations: 14\n",
      "/home/albert/miniconda3/envs/tectf/lib/python3.6/site-packages/tables-3.4.4-py3.6-linux-x86_64.egg/tables/file.py:767: DeprecationWarning: The use of uppercase keyword parameters is deprecated\n",
      "  \"deprecated\", DeprecationWarning)\n",
      "/home/albert/miniconda3/envs/tectf/lib/python3.6/site-packages/tables-3.4.4-py3.6-linux-x86_64.egg/tables/file.py:767: DeprecationWarning: The use of uppercase keyword parameters is deprecated\n",
      "  \"deprecated\", DeprecationWarning)\n",
      "ERROR:root:Reference possible only for phase, scalarphase, clock, tec, tec3rd, and rotation solution tables. Ignore referencing.\n",
      "/home/albert/miniconda3/envs/tectf/lib/python3.6/site-packages/gpflow-1.3.0-py3.6.egg/gpflow/_settings.py:67: DeprecationWarning: tf_int is deprecated and will be removed at GPflow version 1.2.0. Use int_type.\n",
      "  'version 1.2.0. Use int_type.', DeprecationWarning)\n",
      "/home/albert/miniconda3/envs/tectf/lib/python3.6/site-packages/gpflow-1.3.0-py3.6.egg/gpflow/_settings.py:61: DeprecationWarning: tf_float is deprecated and will be removed at GPflow version 1.2.0. Use float_type.\n",
      "  'version 1.2.0. Use float_type.', DeprecationWarning)\n",
      "/home/albert/miniconda3/envs/tectf/lib/python3.6/site-packages/gpflow-1.3.0-py3.6.egg/gpflow/logdensities.py:91: DeprecationWarning: The 'warn' method is deprecated, use 'warning' instead\n",
      "  logger.warn('Shape of x must be 2D at computation.')\n",
      "WARNING:gpflow.logdensities:Shape of x must be 2D at computation.\n"
     ]
    },
    {
     "name": "stdout",
     "output_type": "stream",
     "text": [
      "INFO:tensorflow:Optimization terminated with:\n",
      "  Message: b'CONVERGENCE: REL_REDUCTION_OF_F_<=_FACTR*EPSMCH'\n",
      "  Objective function value: 2605.257569\n",
      "  Number of iterations: 12\n",
      "  Number of functions evaluations: 13\n"
     ]
    },
    {
     "name": "stderr",
     "output_type": "stream",
     "text": [
      "INFO:tensorflow:Optimization terminated with:\n",
      "  Message: b'CONVERGENCE: REL_REDUCTION_OF_F_<=_FACTR*EPSMCH'\n",
      "  Objective function value: 2605.257569\n",
      "  Number of iterations: 12\n",
      "  Number of functions evaluations: 13\n",
      "/home/albert/miniconda3/envs/tectf/lib/python3.6/site-packages/tables-3.4.4-py3.6-linux-x86_64.egg/tables/file.py:767: DeprecationWarning: The use of uppercase keyword parameters is deprecated\n",
      "  \"deprecated\", DeprecationWarning)\n",
      "/home/albert/miniconda3/envs/tectf/lib/python3.6/site-packages/tables-3.4.4-py3.6-linux-x86_64.egg/tables/file.py:767: DeprecationWarning: The use of uppercase keyword parameters is deprecated\n",
      "  \"deprecated\", DeprecationWarning)\n",
      "ERROR:root:Reference possible only for phase, scalarphase, clock, tec, tec3rd, and rotation solution tables. Ignore referencing.\n",
      "/home/albert/miniconda3/envs/tectf/lib/python3.6/site-packages/gpflow-1.3.0-py3.6.egg/gpflow/_settings.py:67: DeprecationWarning: tf_int is deprecated and will be removed at GPflow version 1.2.0. Use int_type.\n",
      "  'version 1.2.0. Use int_type.', DeprecationWarning)\n",
      "/home/albert/miniconda3/envs/tectf/lib/python3.6/site-packages/gpflow-1.3.0-py3.6.egg/gpflow/_settings.py:61: DeprecationWarning: tf_float is deprecated and will be removed at GPflow version 1.2.0. Use float_type.\n",
      "  'version 1.2.0. Use float_type.', DeprecationWarning)\n",
      "/home/albert/miniconda3/envs/tectf/lib/python3.6/site-packages/gpflow-1.3.0-py3.6.egg/gpflow/logdensities.py:91: DeprecationWarning: The 'warn' method is deprecated, use 'warning' instead\n",
      "  logger.warn('Shape of x must be 2D at computation.')\n",
      "WARNING:gpflow.logdensities:Shape of x must be 2D at computation.\n"
     ]
    },
    {
     "name": "stdout",
     "output_type": "stream",
     "text": [
      "INFO:tensorflow:Optimization terminated with:\n",
      "  Message: b'CONVERGENCE: REL_REDUCTION_OF_F_<=_FACTR*EPSMCH'\n",
      "  Objective function value: 2850.802579\n",
      "  Number of iterations: 10\n",
      "  Number of functions evaluations: 11\n"
     ]
    },
    {
     "name": "stderr",
     "output_type": "stream",
     "text": [
      "INFO:tensorflow:Optimization terminated with:\n",
      "  Message: b'CONVERGENCE: REL_REDUCTION_OF_F_<=_FACTR*EPSMCH'\n",
      "  Objective function value: 2850.802579\n",
      "  Number of iterations: 10\n",
      "  Number of functions evaluations: 11\n",
      "/home/albert/miniconda3/envs/tectf/lib/python3.6/site-packages/tables-3.4.4-py3.6-linux-x86_64.egg/tables/file.py:767: DeprecationWarning: The use of uppercase keyword parameters is deprecated\n",
      "  \"deprecated\", DeprecationWarning)\n",
      "/home/albert/miniconda3/envs/tectf/lib/python3.6/site-packages/tables-3.4.4-py3.6-linux-x86_64.egg/tables/file.py:767: DeprecationWarning: The use of uppercase keyword parameters is deprecated\n",
      "  \"deprecated\", DeprecationWarning)\n",
      "ERROR:root:Reference possible only for phase, scalarphase, clock, tec, tec3rd, and rotation solution tables. Ignore referencing.\n",
      "/home/albert/miniconda3/envs/tectf/lib/python3.6/site-packages/gpflow-1.3.0-py3.6.egg/gpflow/_settings.py:67: DeprecationWarning: tf_int is deprecated and will be removed at GPflow version 1.2.0. Use int_type.\n",
      "  'version 1.2.0. Use int_type.', DeprecationWarning)\n",
      "/home/albert/miniconda3/envs/tectf/lib/python3.6/site-packages/gpflow-1.3.0-py3.6.egg/gpflow/_settings.py:61: DeprecationWarning: tf_float is deprecated and will be removed at GPflow version 1.2.0. Use float_type.\n",
      "  'version 1.2.0. Use float_type.', DeprecationWarning)\n",
      "/home/albert/miniconda3/envs/tectf/lib/python3.6/site-packages/gpflow-1.3.0-py3.6.egg/gpflow/logdensities.py:91: DeprecationWarning: The 'warn' method is deprecated, use 'warning' instead\n",
      "  logger.warn('Shape of x must be 2D at computation.')\n",
      "WARNING:gpflow.logdensities:Shape of x must be 2D at computation.\n"
     ]
    },
    {
     "name": "stdout",
     "output_type": "stream",
     "text": [
      "INFO:tensorflow:Optimization terminated with:\n",
      "  Message: b'CONVERGENCE: REL_REDUCTION_OF_F_<=_FACTR*EPSMCH'\n",
      "  Objective function value: 2779.985977\n",
      "  Number of iterations: 10\n",
      "  Number of functions evaluations: 11\n"
     ]
    },
    {
     "name": "stderr",
     "output_type": "stream",
     "text": [
      "INFO:tensorflow:Optimization terminated with:\n",
      "  Message: b'CONVERGENCE: REL_REDUCTION_OF_F_<=_FACTR*EPSMCH'\n",
      "  Objective function value: 2779.985977\n",
      "  Number of iterations: 10\n",
      "  Number of functions evaluations: 11\n",
      "/home/albert/miniconda3/envs/tectf/lib/python3.6/site-packages/tables-3.4.4-py3.6-linux-x86_64.egg/tables/file.py:767: DeprecationWarning: The use of uppercase keyword parameters is deprecated\n",
      "  \"deprecated\", DeprecationWarning)\n",
      "/home/albert/miniconda3/envs/tectf/lib/python3.6/site-packages/tables-3.4.4-py3.6-linux-x86_64.egg/tables/file.py:767: DeprecationWarning: The use of uppercase keyword parameters is deprecated\n",
      "  \"deprecated\", DeprecationWarning)\n",
      "ERROR:root:Reference possible only for phase, scalarphase, clock, tec, tec3rd, and rotation solution tables. Ignore referencing.\n",
      "/home/albert/miniconda3/envs/tectf/lib/python3.6/site-packages/gpflow-1.3.0-py3.6.egg/gpflow/_settings.py:67: DeprecationWarning: tf_int is deprecated and will be removed at GPflow version 1.2.0. Use int_type.\n",
      "  'version 1.2.0. Use int_type.', DeprecationWarning)\n",
      "/home/albert/miniconda3/envs/tectf/lib/python3.6/site-packages/gpflow-1.3.0-py3.6.egg/gpflow/_settings.py:61: DeprecationWarning: tf_float is deprecated and will be removed at GPflow version 1.2.0. Use float_type.\n",
      "  'version 1.2.0. Use float_type.', DeprecationWarning)\n",
      "/home/albert/miniconda3/envs/tectf/lib/python3.6/site-packages/gpflow-1.3.0-py3.6.egg/gpflow/logdensities.py:91: DeprecationWarning: The 'warn' method is deprecated, use 'warning' instead\n",
      "  logger.warn('Shape of x must be 2D at computation.')\n",
      "WARNING:gpflow.logdensities:Shape of x must be 2D at computation.\n"
     ]
    },
    {
     "name": "stdout",
     "output_type": "stream",
     "text": [
      "INFO:tensorflow:Optimization terminated with:\n",
      "  Message: b'CONVERGENCE: REL_REDUCTION_OF_F_<=_FACTR*EPSMCH'\n",
      "  Objective function value: 2222.067815\n",
      "  Number of iterations: 14\n",
      "  Number of functions evaluations: 15\n"
     ]
    },
    {
     "name": "stderr",
     "output_type": "stream",
     "text": [
      "INFO:tensorflow:Optimization terminated with:\n",
      "  Message: b'CONVERGENCE: REL_REDUCTION_OF_F_<=_FACTR*EPSMCH'\n",
      "  Objective function value: 2222.067815\n",
      "  Number of iterations: 14\n",
      "  Number of functions evaluations: 15\n",
      "/home/albert/miniconda3/envs/tectf/lib/python3.6/site-packages/tables-3.4.4-py3.6-linux-x86_64.egg/tables/file.py:767: DeprecationWarning: The use of uppercase keyword parameters is deprecated\n",
      "  \"deprecated\", DeprecationWarning)\n",
      "/home/albert/miniconda3/envs/tectf/lib/python3.6/site-packages/tables-3.4.4-py3.6-linux-x86_64.egg/tables/file.py:767: DeprecationWarning: The use of uppercase keyword parameters is deprecated\n",
      "  \"deprecated\", DeprecationWarning)\n",
      "ERROR:root:Reference possible only for phase, scalarphase, clock, tec, tec3rd, and rotation solution tables. Ignore referencing.\n",
      "/home/albert/miniconda3/envs/tectf/lib/python3.6/site-packages/gpflow-1.3.0-py3.6.egg/gpflow/_settings.py:67: DeprecationWarning: tf_int is deprecated and will be removed at GPflow version 1.2.0. Use int_type.\n",
      "  'version 1.2.0. Use int_type.', DeprecationWarning)\n",
      "/home/albert/miniconda3/envs/tectf/lib/python3.6/site-packages/gpflow-1.3.0-py3.6.egg/gpflow/_settings.py:61: DeprecationWarning: tf_float is deprecated and will be removed at GPflow version 1.2.0. Use float_type.\n",
      "  'version 1.2.0. Use float_type.', DeprecationWarning)\n",
      "/home/albert/miniconda3/envs/tectf/lib/python3.6/site-packages/gpflow-1.3.0-py3.6.egg/gpflow/logdensities.py:91: DeprecationWarning: The 'warn' method is deprecated, use 'warning' instead\n",
      "  logger.warn('Shape of x must be 2D at computation.')\n",
      "WARNING:gpflow.logdensities:Shape of x must be 2D at computation.\n"
     ]
    },
    {
     "name": "stdout",
     "output_type": "stream",
     "text": [
      "INFO:tensorflow:Optimization terminated with:\n",
      "  Message: b'CONVERGENCE: REL_REDUCTION_OF_F_<=_FACTR*EPSMCH'\n",
      "  Objective function value: 1926.279541\n",
      "  Number of iterations: 14\n",
      "  Number of functions evaluations: 15\n"
     ]
    },
    {
     "name": "stderr",
     "output_type": "stream",
     "text": [
      "INFO:tensorflow:Optimization terminated with:\n",
      "  Message: b'CONVERGENCE: REL_REDUCTION_OF_F_<=_FACTR*EPSMCH'\n",
      "  Objective function value: 1926.279541\n",
      "  Number of iterations: 14\n",
      "  Number of functions evaluations: 15\n",
      "/home/albert/miniconda3/envs/tectf/lib/python3.6/site-packages/tables-3.4.4-py3.6-linux-x86_64.egg/tables/file.py:767: DeprecationWarning: The use of uppercase keyword parameters is deprecated\n",
      "  \"deprecated\", DeprecationWarning)\n",
      "/home/albert/miniconda3/envs/tectf/lib/python3.6/site-packages/tables-3.4.4-py3.6-linux-x86_64.egg/tables/file.py:767: DeprecationWarning: The use of uppercase keyword parameters is deprecated\n",
      "  \"deprecated\", DeprecationWarning)\n",
      "ERROR:root:Reference possible only for phase, scalarphase, clock, tec, tec3rd, and rotation solution tables. Ignore referencing.\n",
      "/home/albert/miniconda3/envs/tectf/lib/python3.6/site-packages/gpflow-1.3.0-py3.6.egg/gpflow/_settings.py:67: DeprecationWarning: tf_int is deprecated and will be removed at GPflow version 1.2.0. Use int_type.\n",
      "  'version 1.2.0. Use int_type.', DeprecationWarning)\n",
      "/home/albert/miniconda3/envs/tectf/lib/python3.6/site-packages/gpflow-1.3.0-py3.6.egg/gpflow/_settings.py:61: DeprecationWarning: tf_float is deprecated and will be removed at GPflow version 1.2.0. Use float_type.\n",
      "  'version 1.2.0. Use float_type.', DeprecationWarning)\n",
      "/home/albert/miniconda3/envs/tectf/lib/python3.6/site-packages/gpflow-1.3.0-py3.6.egg/gpflow/logdensities.py:91: DeprecationWarning: The 'warn' method is deprecated, use 'warning' instead\n",
      "  logger.warn('Shape of x must be 2D at computation.')\n",
      "WARNING:gpflow.logdensities:Shape of x must be 2D at computation.\n"
     ]
    },
    {
     "name": "stdout",
     "output_type": "stream",
     "text": [
      "INFO:tensorflow:Optimization terminated with:\n",
      "  Message: b'CONVERGENCE: REL_REDUCTION_OF_F_<=_FACTR*EPSMCH'\n",
      "  Objective function value: 2167.851269\n",
      "  Number of iterations: 15\n",
      "  Number of functions evaluations: 16\n"
     ]
    },
    {
     "name": "stderr",
     "output_type": "stream",
     "text": [
      "INFO:tensorflow:Optimization terminated with:\n",
      "  Message: b'CONVERGENCE: REL_REDUCTION_OF_F_<=_FACTR*EPSMCH'\n",
      "  Objective function value: 2167.851269\n",
      "  Number of iterations: 15\n",
      "  Number of functions evaluations: 16\n",
      "/home/albert/miniconda3/envs/tectf/lib/python3.6/site-packages/tables-3.4.4-py3.6-linux-x86_64.egg/tables/file.py:767: DeprecationWarning: The use of uppercase keyword parameters is deprecated\n",
      "  \"deprecated\", DeprecationWarning)\n",
      "/home/albert/miniconda3/envs/tectf/lib/python3.6/site-packages/tables-3.4.4-py3.6-linux-x86_64.egg/tables/file.py:767: DeprecationWarning: The use of uppercase keyword parameters is deprecated\n",
      "  \"deprecated\", DeprecationWarning)\n",
      "ERROR:root:Reference possible only for phase, scalarphase, clock, tec, tec3rd, and rotation solution tables. Ignore referencing.\n",
      "/home/albert/miniconda3/envs/tectf/lib/python3.6/site-packages/gpflow-1.3.0-py3.6.egg/gpflow/_settings.py:67: DeprecationWarning: tf_int is deprecated and will be removed at GPflow version 1.2.0. Use int_type.\n",
      "  'version 1.2.0. Use int_type.', DeprecationWarning)\n",
      "/home/albert/miniconda3/envs/tectf/lib/python3.6/site-packages/gpflow-1.3.0-py3.6.egg/gpflow/_settings.py:61: DeprecationWarning: tf_float is deprecated and will be removed at GPflow version 1.2.0. Use float_type.\n",
      "  'version 1.2.0. Use float_type.', DeprecationWarning)\n",
      "/home/albert/miniconda3/envs/tectf/lib/python3.6/site-packages/gpflow-1.3.0-py3.6.egg/gpflow/logdensities.py:91: DeprecationWarning: The 'warn' method is deprecated, use 'warning' instead\n",
      "  logger.warn('Shape of x must be 2D at computation.')\n",
      "WARNING:gpflow.logdensities:Shape of x must be 2D at computation.\n"
     ]
    },
    {
     "name": "stdout",
     "output_type": "stream",
     "text": [
      "INFO:tensorflow:Optimization terminated with:\n",
      "  Message: b'CONVERGENCE: REL_REDUCTION_OF_F_<=_FACTR*EPSMCH'\n",
      "  Objective function value: 2172.636205\n",
      "  Number of iterations: 15\n",
      "  Number of functions evaluations: 16\n"
     ]
    },
    {
     "name": "stderr",
     "output_type": "stream",
     "text": [
      "INFO:tensorflow:Optimization terminated with:\n",
      "  Message: b'CONVERGENCE: REL_REDUCTION_OF_F_<=_FACTR*EPSMCH'\n",
      "  Objective function value: 2172.636205\n",
      "  Number of iterations: 15\n",
      "  Number of functions evaluations: 16\n",
      "/home/albert/miniconda3/envs/tectf/lib/python3.6/site-packages/tables-3.4.4-py3.6-linux-x86_64.egg/tables/file.py:767: DeprecationWarning: The use of uppercase keyword parameters is deprecated\n",
      "  \"deprecated\", DeprecationWarning)\n",
      "/home/albert/miniconda3/envs/tectf/lib/python3.6/site-packages/tables-3.4.4-py3.6-linux-x86_64.egg/tables/file.py:767: DeprecationWarning: The use of uppercase keyword parameters is deprecated\n",
      "  \"deprecated\", DeprecationWarning)\n",
      "ERROR:root:Reference possible only for phase, scalarphase, clock, tec, tec3rd, and rotation solution tables. Ignore referencing.\n",
      "/home/albert/miniconda3/envs/tectf/lib/python3.6/site-packages/gpflow-1.3.0-py3.6.egg/gpflow/_settings.py:67: DeprecationWarning: tf_int is deprecated and will be removed at GPflow version 1.2.0. Use int_type.\n",
      "  'version 1.2.0. Use int_type.', DeprecationWarning)\n",
      "/home/albert/miniconda3/envs/tectf/lib/python3.6/site-packages/gpflow-1.3.0-py3.6.egg/gpflow/_settings.py:61: DeprecationWarning: tf_float is deprecated and will be removed at GPflow version 1.2.0. Use float_type.\n",
      "  'version 1.2.0. Use float_type.', DeprecationWarning)\n",
      "/home/albert/miniconda3/envs/tectf/lib/python3.6/site-packages/gpflow-1.3.0-py3.6.egg/gpflow/logdensities.py:91: DeprecationWarning: The 'warn' method is deprecated, use 'warning' instead\n",
      "  logger.warn('Shape of x must be 2D at computation.')\n",
      "WARNING:gpflow.logdensities:Shape of x must be 2D at computation.\n"
     ]
    },
    {
     "name": "stdout",
     "output_type": "stream",
     "text": [
      "INFO:tensorflow:Optimization terminated with:\n",
      "  Message: b'CONVERGENCE: REL_REDUCTION_OF_F_<=_FACTR*EPSMCH'\n",
      "  Objective function value: 1626.183212\n",
      "  Number of iterations: 15\n",
      "  Number of functions evaluations: 16\n"
     ]
    },
    {
     "name": "stderr",
     "output_type": "stream",
     "text": [
      "INFO:tensorflow:Optimization terminated with:\n",
      "  Message: b'CONVERGENCE: REL_REDUCTION_OF_F_<=_FACTR*EPSMCH'\n",
      "  Objective function value: 1626.183212\n",
      "  Number of iterations: 15\n",
      "  Number of functions evaluations: 16\n"
     ]
    }
   ],
   "source": [
    "import seaborn as sns\n",
    "import pylab as plt\n",
    "import pandas as pd\n",
    "from bayes_tec.utils.data_utils import define_equal_subsets\n",
    "import os\n",
    "\n",
    "max_block_size, min_overlap = 200, 50\n",
    "output_folder = './dir_kernel_solve'\n",
    "os.makedirs(output_folder,exist_ok=True)\n",
    "\n",
    "with DataPack('../../scripts/data/killms_datapack_4.hdf5',readonly=True) as datapack:\n",
    "    datapack.select(time=None, ant=None)\n",
    "    axes = datapack.axes_phase\n",
    "    patch_names, directions = datapack.get_sources(axes['dir'])\n",
    "    antenna_labels, antennas = datapack.get_antennas(axes['ant'])\n",
    "    timestamps, times = datapack.get_times(axes['time'])\n",
    "    _,freqs = datapack.get_freqs(axes['freq'])\n",
    "    \n",
    "Nt = len(times)\n",
    "solve_slices, _, _ = define_equal_subsets(Nt,max_block_size, min_overlap)\n",
    "    \n",
    "time_ = []\n",
    "hpd_5 = np.zeros((62,3))\n",
    "hpd_50 = np.zeros((62,3))\n",
    "hpd_95 = np.zeros((62,3))\n",
    "if os.path.isfile(os.path.join(output_folder,'results_matern52.npz')):\n",
    "    d = np.load(os.path.join(output_folder,'results_matern52.npz'))\n",
    "    hpd_5 = d['hpd_5']\n",
    "    hpd_50 = d['hpd_50']\n",
    "    hpd_95 = d['hpd_95']\n",
    "    \n",
    "for i in range(51,62,1):\n",
    "    ant = antenna_labels[i]\n",
    "    for solve_slice in solve_slices:\n",
    "        time_slice = slice(*solve_slice, 1)\n",
    "        params = fit_dir_kern('../../scripts/data/killms_datapack_4.hdf5', 200, \n",
    "                                   burn=50,kern=gp.kernels.Matern52, \n",
    "                                   ant_sel=slice(i,i+1,1), time_sel=time_slice,dir_sel=None, \n",
    "                                   pol_sel=slice(0,1,1), freq_sel=slice(0,48,1),tec_scale=0.01)\n",
    "\n",
    "        df = pd.DataFrame(params[:,:],columns=['ls','sig','lik_sig'])\n",
    "        sns.kdeplot(df['ls'],df['sig'],shade=True)\n",
    "        plt.scatter(np.median(df['ls']),np.median(df['sig']),c='red')\n",
    "        t = times[time_slice].mjd*86400.\n",
    "        mean_time = int(np.mean(t))\n",
    "        time_.append(mean_time)\n",
    "        hpd_5[i,:] = np.array([np.percentile(p,5) for p in params.T])\n",
    "        hpd_50[i,:] = np.array([np.percentile(p,50) for p in params.T])\n",
    "        hpd_95[i,:] = np.array([np.percentile(p,95) for p in params.T])\n",
    "        plt.title('Ant: {} | {}'.format(ant.astype(str),times[time_slice][t.size//2].isot))\n",
    "        plt.savefig(os.path.join(output_folder,'{}_{}_matern52.png'.format(ant.astype(str), mean_time)))\n",
    "        plt.close('all')\n",
    "    np.savez(os.path.join(output_folder,'results_matern52.npz'),hpd_5=hpd_5, hpd_50 = hpd_50, hpd_95=hpd_95)"
   ]
  },
  {
   "cell_type": "code",
   "execution_count": null,
   "metadata": {},
   "outputs": [],
   "source": []
  }
 ],
 "metadata": {
  "kernelspec": {
   "display_name": "Python 3",
   "language": "python",
   "name": "python3"
  },
  "language_info": {
   "codemirror_mode": {
    "name": "ipython",
    "version": 3
   },
   "file_extension": ".py",
   "mimetype": "text/x-python",
   "name": "python",
   "nbconvert_exporter": "python",
   "pygments_lexer": "ipython3",
   "version": "3.6.6"
  }
 },
 "nbformat": 4,
 "nbformat_minor": 2
}
