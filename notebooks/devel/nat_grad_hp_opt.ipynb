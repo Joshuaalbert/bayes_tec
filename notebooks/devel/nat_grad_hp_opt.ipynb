{
 "cells": [
  {
   "cell_type": "code",
   "execution_count": 1,
   "metadata": {},
   "outputs": [
    {
     "name": "stderr",
     "output_type": "stream",
     "text": [
      "/net/lofar1/data1/albert/miniconda3/envs/kerastf/lib/python3.6/site-packages/h5py/__init__.py:36: FutureWarning: Conversion of the second argument of issubdtype from `float` to `np.floating` is deprecated. In future, it will be treated as `np.float64 == np.dtype(float).type`.\n",
      "  from ._conv import register_converters as _register_converters\n",
      "/net/lofar1/data1/albert/miniconda3/envs/kerastf/lib/python3.6/site-packages/multipledispatch-0.4.9-py3.6.egg/multipledispatch/dispatcher.py:24: AmbiguityWarning: \n",
      "Ambiguities exist in dispatched function _expectation\n",
      "\n",
      "The following signatures may result in ambiguous behavior:\n",
      "\t[Gaussian, Linear, NoneType, Sum, InducingPoints], [Gaussian, Identity, NoneType, Kernel, InducingPoints]\n",
      "\n",
      "\n",
      "Consider making the following additions:\n",
      "\n",
      "@dispatch(Gaussian, Identity, NoneType, Sum, InducingPoints)\n",
      "def _expectation(...)\n",
      "  warn(warning_text(dispatcher.name, ambiguities), AmbiguityWarning)\n",
      "/net/lofar1/data1/albert/miniconda3/envs/kerastf/lib/python3.6/site-packages/bayes_tec-0.0.1-py3.6.egg/bayes_tec/plotting/plot_datapack.py:2: UserWarning: \n",
      "This call to matplotlib.use() has no effect because the backend has already\n",
      "been chosen; matplotlib.use() must be called *before* pylab, matplotlib.pyplot,\n",
      "or matplotlib.backends is imported for the first time.\n",
      "\n",
      "The backend was *originally* set to 'module://ipykernel.pylab.backend_inline' by the following code:\n",
      "  File \"/net/lofar1/data1/albert/miniconda3/envs/kerastf/lib/python3.6/runpy.py\", line 193, in _run_module_as_main\n",
      "    \"__main__\", mod_spec)\n",
      "  File \"/net/lofar1/data1/albert/miniconda3/envs/kerastf/lib/python3.6/runpy.py\", line 85, in _run_code\n",
      "    exec(code, run_globals)\n",
      "  File \"/net/lofar1/data1/albert/miniconda3/envs/kerastf/lib/python3.6/site-packages/ipykernel_launcher.py\", line 16, in <module>\n",
      "    app.launch_new_instance()\n",
      "  File \"/net/lofar1/data1/albert/miniconda3/envs/kerastf/lib/python3.6/site-packages/traitlets/config/application.py\", line 658, in launch_instance\n",
      "    app.start()\n",
      "  File \"/net/lofar1/data1/albert/miniconda3/envs/kerastf/lib/python3.6/site-packages/ipykernel/kernelapp.py\", line 477, in start\n",
      "    ioloop.IOLoop.instance().start()\n",
      "  File \"/net/lofar1/data1/albert/miniconda3/envs/kerastf/lib/python3.6/site-packages/zmq/eventloop/ioloop.py\", line 177, in start\n",
      "    super(ZMQIOLoop, self).start()\n",
      "  File \"/net/lofar1/data1/albert/miniconda3/envs/kerastf/lib/python3.6/site-packages/tornado/ioloop.py\", line 888, in start\n",
      "    handler_func(fd_obj, events)\n",
      "  File \"/net/lofar1/data1/albert/miniconda3/envs/kerastf/lib/python3.6/site-packages/tornado/stack_context.py\", line 277, in null_wrapper\n",
      "    return fn(*args, **kwargs)\n",
      "  File \"/net/lofar1/data1/albert/miniconda3/envs/kerastf/lib/python3.6/site-packages/zmq/eventloop/zmqstream.py\", line 440, in _handle_events\n",
      "    self._handle_recv()\n",
      "  File \"/net/lofar1/data1/albert/miniconda3/envs/kerastf/lib/python3.6/site-packages/zmq/eventloop/zmqstream.py\", line 472, in _handle_recv\n",
      "    self._run_callback(callback, msg)\n",
      "  File \"/net/lofar1/data1/albert/miniconda3/envs/kerastf/lib/python3.6/site-packages/zmq/eventloop/zmqstream.py\", line 414, in _run_callback\n",
      "    callback(*args, **kwargs)\n",
      "  File \"/net/lofar1/data1/albert/miniconda3/envs/kerastf/lib/python3.6/site-packages/tornado/stack_context.py\", line 277, in null_wrapper\n",
      "    return fn(*args, **kwargs)\n",
      "  File \"/net/lofar1/data1/albert/miniconda3/envs/kerastf/lib/python3.6/site-packages/ipykernel/kernelbase.py\", line 283, in dispatcher\n",
      "    return self.dispatch_shell(stream, msg)\n",
      "  File \"/net/lofar1/data1/albert/miniconda3/envs/kerastf/lib/python3.6/site-packages/ipykernel/kernelbase.py\", line 235, in dispatch_shell\n",
      "    handler(stream, idents, msg)\n",
      "  File \"/net/lofar1/data1/albert/miniconda3/envs/kerastf/lib/python3.6/site-packages/ipykernel/kernelbase.py\", line 399, in execute_request\n",
      "    user_expressions, allow_stdin)\n",
      "  File \"/net/lofar1/data1/albert/miniconda3/envs/kerastf/lib/python3.6/site-packages/ipykernel/ipkernel.py\", line 196, in do_execute\n",
      "    res = shell.run_cell(code, store_history=store_history, silent=silent)\n",
      "  File \"/net/lofar1/data1/albert/miniconda3/envs/kerastf/lib/python3.6/site-packages/ipykernel/zmqshell.py\", line 533, in run_cell\n",
      "    return super(ZMQInteractiveShell, self).run_cell(*args, **kwargs)\n",
      "  File \"/net/lofar1/data1/albert/miniconda3/envs/kerastf/lib/python3.6/site-packages/IPython/core/interactiveshell.py\", line 2698, in run_cell\n",
      "    interactivity=interactivity, compiler=compiler, result=result)\n",
      "  File \"/net/lofar1/data1/albert/miniconda3/envs/kerastf/lib/python3.6/site-packages/IPython/core/interactiveshell.py\", line 2802, in run_ast_nodes\n",
      "    if self.run_code(code, result):\n",
      "  File \"/net/lofar1/data1/albert/miniconda3/envs/kerastf/lib/python3.6/site-packages/IPython/core/interactiveshell.py\", line 2862, in run_code\n",
      "    exec(code_obj, self.user_global_ns, self.user_ns)\n",
      "  File \"<ipython-input-1-f5e9e59b3cc7>\", line 1, in <module>\n",
      "    from bayes_tec.bayes_opt.bayes_hp_opt import BayesHPOpt\n",
      "  File \"/net/lofar1/data1/albert/miniconda3/envs/kerastf/lib/python3.6/site-packages/bayes_tec-0.0.1-py3.6.egg/bayes_tec/bayes_opt/bayes_hp_opt.py\", line 14, in <module>\n",
      "    import pylab as plt\n",
      "  File \"/net/lofar1/data1/albert/miniconda3/envs/kerastf/lib/python3.6/site-packages/pylab.py\", line 1, in <module>\n",
      "    from matplotlib.pylab import *\n",
      "  File \"/net/lofar1/data1/albert/miniconda3/envs/kerastf/lib/python3.6/site-packages/matplotlib/pylab.py\", line 257, in <module>\n",
      "    from matplotlib import cbook, mlab, pyplot as plt\n",
      "  File \"/net/lofar1/data1/albert/miniconda3/envs/kerastf/lib/python3.6/site-packages/matplotlib/pyplot.py\", line 69, in <module>\n",
      "    from matplotlib.backends import pylab_setup\n",
      "  File \"/net/lofar1/data1/albert/miniconda3/envs/kerastf/lib/python3.6/site-packages/matplotlib/backends/__init__.py\", line 14, in <module>\n",
      "    line for line in traceback.format_stack()\n",
      "\n",
      "\n",
      "  matplotlib.use('Agg')\n",
      "/net/lofar1/data1/albert/miniconda3/envs/kerastf/lib/python3.6/site-packages/cmocean/tools.py:76: MatplotlibDeprecationWarning: The is_string_like function was deprecated in version 2.1.\n",
      "  if not mpl.cbook.is_string_like(rgbin[0]):\n"
     ]
    }
   ],
   "source": [
    "from bayes_tec.bayes_opt.bayes_hp_opt import BayesHPOpt\n",
    "from bayes_tec.solvers.phase_only_solver import PhaseOnlySolver\n",
    "from concurrent import futures\n",
    "import numpy as np"
   ]
  },
  {
   "cell_type": "code",
   "execution_count": null,
   "metadata": {},
   "outputs": [],
   "source": [
    "\n",
    "datapack = '../../scripts/data/killms_datapack_2.hdf5'\n",
    "ant_sel='RS*'\n",
    "time_sel=slice(1,101,1)\n",
    "freq_sel=slice(0,48,1)\n",
    "pol_sel=slice(0,1,1)\n",
    "iterations=500\n",
    "run_dir='run_dir_hp_opt'\n",
    "output_solset='posterior_sol_hp_opt'\n",
    "\n",
    "\n",
    "\n",
    "def _run(kwargs):\n",
    "    solver = PhaseOnlySolver(run_dir, datapack)\n",
    "    m,s = solver.solve(output_solset=output_solset, solset='sol000',\n",
    "                  jitter=1e-6,tec_scale=0.005,screec_res=30,\n",
    "                   remake_posterior_solsets=False, inter_op_threads=32,\n",
    "                   intra_op_threads=0,ant_sel=ant_sel, time_sel=time_sel,\n",
    "                   pol_sel=pol_sel, freq_sel=freq_sel,debug=False,\n",
    "                   W_diag=False,return_likelihood=True,num_likelihood_samples=100,\n",
    "                   plot_level=-3, **kwargs)\n",
    "    return -m\n",
    "\n",
    "def objective(**kwargs):\n",
    "    return _run(kwargs)\n",
    "\n",
    "    with futures.ThreadPoolExecutor(max_workers=2) as exe:\n",
    "        jobs = exe.map(_run, [kwargs])\n",
    "        res = list(jobs)\n",
    "    return np.mean(res)\n",
    "\n",
    "bo = BayesHPOpt(objective,init=None)\n",
    "#     initial_learning_rate=0.1,learning_rate_steps=2,\n",
    "#               learning_rate_decay=1.5,\n",
    "#               minibatch_size=128, dof_ratio=30,\n",
    "#              gamma_start=1e-5,gamma_add=1e-3,gamma_mul=1.1,\n",
    "#              gamma_max=0.15,gamma_fallback=1e-1):\n",
    "bo.add_continuous_param('initial_learning_rate',1e-3,5e-1,log=True)\n",
    "bo.add_continuous_param('learning_rate_steps',2,4)\n",
    "bo.add_continuous_param('learning_rate_decay',1.,3.)\n",
    "bo.add_integer_param('minibatch_size',16,512)\n",
    "bo.add_continuous_param('dof_ratio',15,20)\n",
    "bo.add_continuous_param('gamma_start',1e-6,1e-4,log=True)\n",
    "bo.add_continuous_param('gamma_add',1e-4,1e-2,log=True)\n",
    "bo.add_continuous_param('gamma_mul',1.01,1.3,log=True)\n",
    "bo.add_continuous_param('gamma_max',0.05,0.5)\n",
    "bo.add_continuous_param('gamma_fallback',1e-2,5e-1,log=True)\n",
    "\n",
    "\n",
    "\n",
    "    "
   ]
  },
  {
   "cell_type": "code",
   "execution_count": null,
   "metadata": {},
   "outputs": [
    {
     "name": "stderr",
     "output_type": "stream",
     "text": [
      "WARNING:root:=== Starting iteration 0 ===\n",
      "WARNING:root:Cannot select on axis freq, it doesn't exist. Ignored.\n",
      "WARNING:root:Cannot select on axis freq, it doesn't exist. Ignored.\n",
      "WARNING:root:Cannot select on axis freq, it doesn't exist. Ignored.\n"
     ]
    }
   ],
   "source": [
    "bo.run('hp_opt_results.hdf5',init_design_size=6,n_iter=50,plot=True,likelihood_uncert=1e2)"
   ]
  },
  {
   "cell_type": "code",
   "execution_count": 3,
   "metadata": {
    "collapsed": true
   },
   "outputs": [],
   "source": [
    "import pylab as plt\n",
    "import numpy as np"
   ]
  },
  {
   "cell_type": "code",
   "execution_count": 4,
   "metadata": {},
   "outputs": [
    {
     "data": {
      "text/plain": [
       "['mean', 'std', 'time', 'dof']"
      ]
     },
     "execution_count": 4,
     "metadata": {},
     "output_type": "execute_result"
    }
   ],
   "source": [
    "d = np.load('../pre_production_runs/dof_test_res.npz')\n",
    "d.keys()"
   ]
  },
  {
   "cell_type": "code",
   "execution_count": 28,
   "metadata": {},
   "outputs": [
    {
     "data": {
      "image/png": "[encoded data removed]",
      "text/plain": [
       "<matplotlib.figure.Figure at 0x7f87f655a668>"
      ]
     },
     "metadata": {},
     "output_type": "display_data"
    },
    {
     "data": {
      "image/png": "[encoded data removed]",
      "text/plain": [
       "<matplotlib.figure.Figure at 0x7f87f4044ac8>"
      ]
     },
     "metadata": {},
     "output_type": "display_data"
    }
   ],
   "source": [
    "plt.plot(d['dof'],-d['time']/100**2)\n",
    "plt.ylabel('time (s) per sample')\n",
    "plt.xlabel('Data per DOF')\n",
    "plt.show()\n",
    "\n",
    "plt.plot(d['dof'],-d['mean']/1e6)\n",
    "plt.fill_between(d['dof'],-d['mean']/1e6 + d['std']/1e6,-d['mean']/1e6 - d['std']/1e6,alpha=0.5)\n",
    "plt.ylabel('neg-log-likelihood / 1e6')\n",
    "plt.xlabel('Data per DOF')\n",
    "plt.show()\n"
   ]
  },
  {
   "cell_type": "code",
   "execution_count": null,
   "metadata": {
    "collapsed": true
   },
   "outputs": [],
   "source": []
  }
 ],
 "metadata": {
  "kernelspec": {
   "display_name": "Python 3",
   "language": "python",
   "name": "python3"
  },
  "language_info": {
   "codemirror_mode": {
    "name": "ipython",
    "version": 3
   },
   "file_extension": ".py",
   "mimetype": "text/x-python",
   "name": "python",
   "nbconvert_exporter": "python",
   "pygments_lexer": "ipython3",
   "version": "3.6.2"
  }
 },
 "nbformat": 4,
 "nbformat_minor": 2
}
