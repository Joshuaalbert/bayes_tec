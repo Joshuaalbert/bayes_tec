{
 "cells": [
  {
   "cell_type": "code",
   "execution_count": 98,
   "metadata": {},
   "outputs": [
    {
     "name": "stderr",
     "output_type": "stream",
     "text": [
      "DEBUG:gpflow.multioutput.features:Dispatch to Kuu(feat: MixedKernelSharedMof, kern: SeparateMixedMok) with jitter=1e-06\n",
      "DEBUG:gpflow.multioutput.conditionals:conditional: MixedKernelSharedMof, SeparateMixedMok\n",
      "DEBUG:gpflow.multioutput.conditionals:conditional: object, SharedIndependentMof, SeparateIndependentMok, object\n",
      "DEBUG:gpflow.multioutput.features:Dispatch to Kuu(feat: MixedKernelSharedMof, kern: SeparateMixedMok) with jitter=1e-06\n",
      "DEBUG:gpflow.multioutput.features:Dispatch to Kuf(feat: MixedKernelSharedMof, kern: SeparateMixedMok)\n"
     ]
    },
    {
     "name": "stdout",
     "output_type": "stream",
     "text": [
      "4\n",
      "INFO:tensorflow:Optimization terminated with:\n",
      "  Message: b'CONVERGENCE: REL_REDUCTION_OF_F_<=_FACTR*EPSMCH'\n",
      "  Objective function value: 45.067660\n",
      "  Number of iterations: 32\n",
      "  Number of functions evaluations: 43\n"
     ]
    },
    {
     "name": "stderr",
     "output_type": "stream",
     "text": [
      "INFO:tensorflow:Optimization terminated with:\n",
      "  Message: b'CONVERGENCE: REL_REDUCTION_OF_F_<=_FACTR*EPSMCH'\n",
      "  Objective function value: 45.067660\n",
      "  Number of iterations: 32\n",
      "  Number of functions evaluations: 43\n"
     ]
    }
   ],
   "source": [
    "import numpy as np\n",
    "import gpflow as gp\n",
    "\n",
    "import gpflow.multioutput.kernels as mk\n",
    "import gpflow.multioutput.features as mf\n",
    "\n",
    "\n",
    "D = 1  # number of input dimensions\n",
    "M = 20  # number of inducing points\n",
    "L = 4  # number of latent GPs\n",
    "P = 1  # number of observations = output dimensions\n",
    "\n",
    "X = np.tile(np.linspace(0,1,M*2)[:,None],(1,D))\n",
    "Y = np.tile(X.sum(1)[:,None],(1,P))\n",
    "\n",
    "def _kern():\n",
    "    return gp.kernels.Matern52(D)\n",
    "\n",
    "W = np.random.uniform(size=(P,L))\n",
    "\n",
    "kern = mk.SeparateMixedMok([_kern() for _ in range(L)], W)\n",
    "\n",
    "feature_list = [gp.features.InducingPoints(X[:M,:])]\n",
    "feature = mf.MixedKernelSharedMof(gpf.features.InducingPoints(X[:M,...].copy())) #works\n",
    "#feature = mf.SeparateIndependentMof(feature_list)\n",
    "\n",
    "q_mu = np.zeros((M, L))\n",
    "q_sqrt = np.repeat(np.eye(M)[None, ...], L, axis=0) * 1.0\n",
    "\n",
    "model = gp.models.SVGP(X, Y, kern, gp.likelihoods.Gaussian(), \n",
    "            feat = feature,\n",
    "            minibatch_size=50,\n",
    "            num_data = X.shape[0],\n",
    "            num_latent=P,\n",
    "            whiten=False,\n",
    "          q_mu = q_mu,\n",
    "          q_sqrt = q_sqrt)\n",
    "\n",
    "print(model.num_latent)\n",
    "\n",
    "opt = gpf.train.ScipyOptimizer()\n",
    "opt.minimize(model, disp=True, maxiter=MAXITER)\n"
   ]
  },
  {
   "cell_type": "code",
   "execution_count": null,
   "metadata": {
    "collapsed": true
   },
   "outputs": [],
   "source": []
  },
  {
   "cell_type": "code",
   "execution_count": null,
   "metadata": {
    "collapsed": true
   },
   "outputs": [],
   "source": []
  }
 ],
 "metadata": {
  "kernelspec": {
   "display_name": "Python 3",
   "language": "python",
   "name": "python3"
  },
  "language_info": {
   "codemirror_mode": {
    "name": "ipython",
    "version": 3
   },
   "file_extension": ".py",
   "mimetype": "text/x-python",
   "name": "python",
   "nbconvert_exporter": "python",
   "pygments_lexer": "ipython3",
   "version": "3.6.2"
  }
 },
 "nbformat": 4,
 "nbformat_minor": 2
}
