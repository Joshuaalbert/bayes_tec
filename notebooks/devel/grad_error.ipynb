{
 "cells": [
  {
   "cell_type": "code",
   "execution_count": 11,
   "metadata": {},
   "outputs": [
    {
     "name": "stderr",
     "output_type": "stream",
     "text": [
      "/home/albert/miniconda3/envs/tectf/lib/python3.6/site-packages/tensorflow/python/util/tf_inspect.py:75: DeprecationWarning: inspect.getargspec() is deprecated, use inspect.signature() or inspect.getfullargspec()\n",
      "  return _inspect.getargspec(target)\n"
     ]
    }
   ],
   "source": [
    "import tensorflow as tf\n",
    "import tensorflow_probability as tfp\n",
    "import numpy as np\n",
    "\n",
    "class TargetDistribution(object):\n",
    "    def __init__(self, m, var):\n",
    "        #num_chains, N\n",
    "        self.m = m\n",
    "        self.var = var\n",
    "        self.step_size = tf.get_variable(\n",
    "                name='step_size',\n",
    "                initializer=lambda: tf.constant(1.,dtype=tf.float64),\n",
    "                use_resource=True,\n",
    "                dtype=tf.float64,\n",
    "                trainable=False)\n",
    "\n",
    "        \n",
    "    def logp(self, z_t):\n",
    "        #N, N\n",
    "        L = self.var*tf.ones((10,10),dtype=tf.float64)\n",
    "        P = tfp.distributions.MultivariateNormalTriL(loc=self.m, scale_tril=L[None,None,:,:])\n",
    "        #s, num_chains\n",
    "        log_prob = P.log_prob(z_t)\n",
    "        #num_chains\n",
    "        return tf.reduce_sum(log_prob,axis=0)\n",
    "    \n",
    "    def chain_logp(self):\n",
    "        \n",
    "        \n",
    "        \n",
    "        hmc = tfp.mcmc.HamiltonianMonteCarlo(\n",
    "                        target_log_prob_fn=self.logp,\n",
    "                        num_leapfrog_steps=2,\n",
    "                        step_size=self.step_size,\n",
    "                        step_size_update_fn=tfp.mcmc.make_simple_step_size_update_policy(target_rate=0.75))\n",
    "\n",
    "        #num_chains, N\n",
    "        q0 = tf.reduce_mean(self.m,axis=0)\n",
    "        q0 = tf.reshape(q0, (1, -1))\n",
    "\n",
    "        _, kernel_results = tfp.mcmc.sample_chain(\n",
    "            num_results=1,\n",
    "            num_burnin_steps=0,\n",
    "            current_state=q0,\n",
    "            kernel=hmc)\n",
    "        \n",
    "        posterior_log_prob = tf.reduce_sum(kernel_results.accepted_results.target_log_prob,name='marginal_log_likelihood')\n",
    "\n",
    "        return posterior_log_prob\n",
    "\n",
    "with tf.Session(graph=tf.Graph()) as sess:   \n",
    "    \n",
    "    var = tf.get_variable('A',shape=(),trainable=True,dtype=tf.float64)\n",
    "    # works with:\n",
    "    # m = tf.placeholder(tf.float64,shape=(1, 10))\n",
    "    # m = tf.placeholder(tf.float64,shape=(1, None))\n",
    "    # doesn't work with\n",
    "    m = tf.placeholder(tf.float64,shape=(1, 1, 10))\n",
    "    \n",
    "    P = TargetDistribution(m, var)\n",
    "    logp = P.chain_logp()\n",
    "    \n",
    "    opt = tf.train.AdamOptimizer(1e-1).minimize(-logp,var_list=[var])\n",
    "\n",
    "    init_op = tf.variables_initializer(tf.global_variables())    \n",
    "    sess.run(init_op)"
   ]
  },
  {
   "cell_type": "code",
   "execution_count": null,
   "metadata": {},
   "outputs": [],
   "source": []
  }
 ],
 "metadata": {
  "kernelspec": {
   "display_name": "Python 3",
   "language": "python",
   "name": "python3"
  },
  "language_info": {
   "codemirror_mode": {
    "name": "ipython",
    "version": 3
   },
   "file_extension": ".py",
   "mimetype": "text/x-python",
   "name": "python",
   "nbconvert_exporter": "python",
   "pygments_lexer": "ipython3",
   "version": "3.6.6"
  }
 },
 "nbformat": 4,
 "nbformat_minor": 2
}
