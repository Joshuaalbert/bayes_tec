{
 "cells": [
  {
   "cell_type": "code",
   "execution_count": 1,
   "metadata": {},
   "outputs": [
    {
     "name": "stderr",
     "output_type": "stream",
     "text": [
      "/home/albert/miniconda3/envs/tectf/lib/python3.6/importlib/_bootstrap.py:219: ImportWarning: can't resolve package from __spec__ or __package__, falling back on __name__ and __path__\n",
      "  return f(*args, **kwds)\n",
      "/home/albert/miniconda3/envs/tectf/lib/python3.6/importlib/_bootstrap.py:219: ImportWarning: can't resolve package from __spec__ or __package__, falling back on __name__ and __path__\n",
      "  return f(*args, **kwds)\n",
      "/home/albert/miniconda3/envs/tectf/lib/python3.6/importlib/_bootstrap.py:219: ImportWarning: can't resolve package from __spec__ or __package__, falling back on __name__ and __path__\n",
      "  return f(*args, **kwds)\n",
      "/home/albert/miniconda3/envs/tectf/lib/python3.6/importlib/_bootstrap.py:219: ImportWarning: can't resolve package from __spec__ or __package__, falling back on __name__ and __path__\n",
      "  return f(*args, **kwds)\n",
      "/home/albert/miniconda3/envs/tectf/lib/python3.6/importlib/_bootstrap.py:219: ImportWarning: can't resolve package from __spec__ or __package__, falling back on __name__ and __path__\n",
      "  return f(*args, **kwds)\n",
      "/home/albert/miniconda3/envs/tectf/lib/python3.6/importlib/_bootstrap.py:219: ImportWarning: can't resolve package from __spec__ or __package__, falling back on __name__ and __path__\n",
      "  return f(*args, **kwds)\n",
      "/home/albert/miniconda3/envs/tectf/lib/python3.6/importlib/_bootstrap.py:219: ImportWarning: can't resolve package from __spec__ or __package__, falling back on __name__ and __path__\n",
      "  return f(*args, **kwds)\n",
      "/home/albert/miniconda3/envs/tectf/lib/python3.6/importlib/_bootstrap.py:219: ImportWarning: can't resolve package from __spec__ or __package__, falling back on __name__ and __path__\n",
      "  return f(*args, **kwds)\n",
      "/home/albert/miniconda3/envs/tectf/lib/python3.6/importlib/_bootstrap.py:219: ImportWarning: can't resolve package from __spec__ or __package__, falling back on __name__ and __path__\n",
      "  return f(*args, **kwds)\n",
      "/home/albert/miniconda3/envs/tectf/lib/python3.6/importlib/_bootstrap.py:219: ImportWarning: can't resolve package from __spec__ or __package__, falling back on __name__ and __path__\n",
      "  return f(*args, **kwds)\n",
      "/home/albert/miniconda3/envs/tectf/lib/python3.6/importlib/_bootstrap.py:219: ImportWarning: can't resolve package from __spec__ or __package__, falling back on __name__ and __path__\n",
      "  return f(*args, **kwds)\n",
      "/home/albert/miniconda3/envs/tectf/lib/python3.6/importlib/_bootstrap.py:219: ImportWarning: can't resolve package from __spec__ or __package__, falling back on __name__ and __path__\n",
      "  return f(*args, **kwds)\n",
      "/home/albert/miniconda3/envs/tectf/lib/python3.6/importlib/_bootstrap.py:219: ImportWarning: can't resolve package from __spec__ or __package__, falling back on __name__ and __path__\n",
      "  return f(*args, **kwds)\n",
      "/home/albert/miniconda3/envs/tectf/lib/python3.6/importlib/_bootstrap.py:219: ImportWarning: can't resolve package from __spec__ or __package__, falling back on __name__ and __path__\n",
      "  return f(*args, **kwds)\n",
      "/home/albert/miniconda3/envs/tectf/lib/python3.6/importlib/_bootstrap.py:219: ImportWarning: can't resolve package from __spec__ or __package__, falling back on __name__ and __path__\n",
      "  return f(*args, **kwds)\n",
      "/home/albert/miniconda3/envs/tectf/lib/python3.6/importlib/_bootstrap.py:219: ImportWarning: can't resolve package from __spec__ or __package__, falling back on __name__ and __path__\n",
      "  return f(*args, **kwds)\n",
      "/home/albert/miniconda3/envs/tectf/lib/python3.6/importlib/_bootstrap.py:219: ImportWarning: can't resolve package from __spec__ or __package__, falling back on __name__ and __path__\n",
      "  return f(*args, **kwds)\n",
      "/home/albert/miniconda3/envs/tectf/lib/python3.6/importlib/_bootstrap.py:219: ImportWarning: can't resolve package from __spec__ or __package__, falling back on __name__ and __path__\n",
      "  return f(*args, **kwds)\n",
      "/home/albert/miniconda3/envs/tectf/lib/python3.6/importlib/_bootstrap.py:219: ImportWarning: can't resolve package from __spec__ or __package__, falling back on __name__ and __path__\n",
      "  return f(*args, **kwds)\n",
      "/home/albert/miniconda3/envs/tectf/lib/python3.6/importlib/_bootstrap.py:219: ImportWarning: can't resolve package from __spec__ or __package__, falling back on __name__ and __path__\n",
      "  return f(*args, **kwds)\n",
      "/home/albert/miniconda3/envs/tectf/lib/python3.6/importlib/_bootstrap.py:219: ImportWarning: can't resolve package from __spec__ or __package__, falling back on __name__ and __path__\n",
      "  return f(*args, **kwds)\n",
      "/home/albert/miniconda3/envs/tectf/lib/python3.6/importlib/_bootstrap.py:219: ImportWarning: can't resolve package from __spec__ or __package__, falling back on __name__ and __path__\n",
      "  return f(*args, **kwds)\n",
      "/home/albert/miniconda3/envs/tectf/lib/python3.6/importlib/_bootstrap.py:219: ImportWarning: can't resolve package from __spec__ or __package__, falling back on __name__ and __path__\n",
      "  return f(*args, **kwds)\n",
      "/home/albert/miniconda3/envs/tectf/lib/python3.6/importlib/_bootstrap.py:219: ImportWarning: can't resolve package from __spec__ or __package__, falling back on __name__ and __path__\n",
      "  return f(*args, **kwds)\n",
      "/home/albert/miniconda3/envs/tectf/lib/python3.6/importlib/_bootstrap.py:219: ImportWarning: can't resolve package from __spec__ or __package__, falling back on __name__ and __path__\n",
      "  return f(*args, **kwds)\n",
      "/home/albert/miniconda3/envs/tectf/lib/python3.6/importlib/_bootstrap.py:219: ImportWarning: can't resolve package from __spec__ or __package__, falling back on __name__ and __path__\n",
      "  return f(*args, **kwds)\n",
      "/home/albert/miniconda3/envs/tectf/lib/python3.6/importlib/_bootstrap.py:219: ImportWarning: can't resolve package from __spec__ or __package__, falling back on __name__ and __path__\n",
      "  return f(*args, **kwds)\n",
      "/home/albert/miniconda3/envs/tectf/lib/python3.6/importlib/_bootstrap.py:219: ImportWarning: can't resolve package from __spec__ or __package__, falling back on __name__ and __path__\n",
      "  return f(*args, **kwds)\n",
      "/home/albert/miniconda3/envs/tectf/lib/python3.6/importlib/_bootstrap.py:219: ImportWarning: can't resolve package from __spec__ or __package__, falling back on __name__ and __path__\n",
      "  return f(*args, **kwds)\n",
      "/home/albert/miniconda3/envs/tectf/lib/python3.6/importlib/_bootstrap.py:219: ImportWarning: can't resolve package from __spec__ or __package__, falling back on __name__ and __path__\n",
      "  return f(*args, **kwds)\n",
      "/home/albert/miniconda3/envs/tectf/lib/python3.6/importlib/_bootstrap.py:219: ImportWarning: can't resolve package from __spec__ or __package__, falling back on __name__ and __path__\n",
      "  return f(*args, **kwds)\n",
      "/home/albert/miniconda3/envs/tectf/lib/python3.6/importlib/_bootstrap.py:219: ImportWarning: can't resolve package from __spec__ or __package__, falling back on __name__ and __path__\n",
      "  return f(*args, **kwds)\n",
      "/home/albert/miniconda3/envs/tectf/lib/python3.6/importlib/_bootstrap.py:219: ImportWarning: can't resolve package from __spec__ or __package__, falling back on __name__ and __path__\n",
      "  return f(*args, **kwds)\n",
      "/home/albert/miniconda3/envs/tectf/lib/python3.6/importlib/_bootstrap.py:219: ImportWarning: can't resolve package from __spec__ or __package__, falling back on __name__ and __path__\n",
      "  return f(*args, **kwds)\n",
      "/home/albert/miniconda3/envs/tectf/lib/python3.6/importlib/_bootstrap.py:219: ImportWarning: can't resolve package from __spec__ or __package__, falling back on __name__ and __path__\n",
      "  return f(*args, **kwds)\n",
      "/home/albert/miniconda3/envs/tectf/lib/python3.6/importlib/_bootstrap.py:219: ImportWarning: can't resolve package from __spec__ or __package__, falling back on __name__ and __path__\n",
      "  return f(*args, **kwds)\n",
      "/home/albert/miniconda3/envs/tectf/lib/python3.6/importlib/_bootstrap.py:219: ImportWarning: can't resolve package from __spec__ or __package__, falling back on __name__ and __path__\n",
      "  return f(*args, **kwds)\n",
      "/home/albert/miniconda3/envs/tectf/lib/python3.6/importlib/_bootstrap.py:219: ImportWarning: can't resolve package from __spec__ or __package__, falling back on __name__ and __path__\n",
      "  return f(*args, **kwds)\n",
      "/home/albert/miniconda3/envs/tectf/lib/python3.6/importlib/_bootstrap.py:219: ImportWarning: can't resolve package from __spec__ or __package__, falling back on __name__ and __path__\n",
      "  return f(*args, **kwds)\n"
     ]
    }
   ],
   "source": [
    "import gpflow as gp\n",
    "import tensorflow as tf\n",
    "import tensorflow_probability as tfp\n",
    "from bayes_tec.datapack import DataPack\n",
    "import numpy as np\n",
    "\n",
    "\n",
    "def fit_temporal_kern(datapack, num_samples=100, burn=50, kern=gp.kernels.RBF, ant_sel=None, time_sel=None,dir_sel=None, pol_sel=slice(0,1,1), freq_sel=None,tec_scale=0.01):\n",
    "    with DataPack('../../scripts/data/killms_datapack_4.hdf5',readonly=True) as datapack:\n",
    "        datapack.select(time=time_sel, ant=ant_sel,pol=pol_sel, dir=dir_sel,freq=freq_sel)\n",
    "        phase, axes = datapack.phase\n",
    "        amp, axes = datapack.amplitude\n",
    "        patch_names, directions = datapack.get_sources(axes['dir'])\n",
    "        antenna_labels, antennas = datapack.get_antennas(axes['ant'])\n",
    "        timestamps, times = datapack.get_times(axes['time'])\n",
    "        _,freqs = datapack.get_freqs(axes['freq'])\n",
    "\n",
    "    gains = amp*np.exp(1j*phase)\n",
    "    g_mu = gains.mean(-2)\n",
    "    phi = np.unwrap(np.angle(g_mu),axis=-1)\n",
    "    tec_conv = -8.448e9/freqs\n",
    "    dtec = phi[0,...]/np.mean(tec_conv)\n",
    "    \n",
    "    X = (times.mjd*86000. - times[0].mjd*86400.)\n",
    "    X = X[:,None]\n",
    "    Nd,Na,Nt = dtec.shape\n",
    "    Y = dtec.transpose((2,0,1)).reshape((Nt,-1))/tec_scale\n",
    "    \n",
    "    with tf.Session(graph=tf.Graph()) as sess:\n",
    "        with gp.defer_build():\n",
    "            kern = kern(1)\n",
    "            kern.lengthscales = 50.\n",
    "            kern.lengthscales.transform = gp.transforms.positiveRescale(50.)\n",
    "            kern.variance = 4.\n",
    "            kern.variance.transform = gp.transforms.positiveRescale(1.)\n",
    "            m = gp.models.GPR(X,Y,kern)\n",
    "            m.likelihood.variance = 0.003**2/tec_scale**2\n",
    "            m.likelihood.variance.trainable = False\n",
    "            m.compile()\n",
    "            gp.train.ScipyOptimizer().minimize(m)\n",
    "\n",
    "            with tf.variable_scope('custom'):\n",
    "                global_step = tf.Variable(0, trainable=False)\n",
    "                starter_learning_rate = 1e-2\n",
    "                end_learning_rate = 1e-5\n",
    "                decay_steps = 1e4\n",
    "                learning_rate = tf.train.polynomial_decay(starter_learning_rate,\n",
    "                                                    global_step, decay_steps,\n",
    "                                                    end_learning_rate, power=1.)\n",
    "\n",
    "                opt = tfp.optimizer.StochasticGradientLangevinDynamics(learning_rate).minimize(m.objective,\n",
    "                                                                                               var_list=m.trainable_tensors)\n",
    "            init = tf.variables_initializer(tf.global_variables('custom'))\n",
    "            out_t = [u.constrained_tensor for u in m.parameters]\n",
    "            sess.run(init)\n",
    "            p = []\n",
    "            for i in range(num_samples):\n",
    "                params, _ = sess.run([out_t, opt])\n",
    "                p.append(params)\n",
    "    p = np.array(p)\n",
    "    p[:,1] = np.sqrt(p[:,1])*tec_scale\n",
    "    p[:,2] = np.sqrt(p[:,2])*tec_scale\n",
    "    \n",
    "    return p[burn:,:]\n",
    "\n"
   ]
  },
  {
   "cell_type": "code",
   "execution_count": null,
   "metadata": {},
   "outputs": [
    {
     "name": "stderr",
     "output_type": "stream",
     "text": [
      "/home/albert/miniconda3/envs/tectf/lib/python3.6/importlib/_bootstrap.py:219: ImportWarning: can't resolve package from __spec__ or __package__, falling back on __name__ and __path__\n",
      "  return f(*args, **kwds)\n",
      "/home/albert/miniconda3/envs/tectf/lib/python3.6/importlib/_bootstrap.py:219: ImportWarning: can't resolve package from __spec__ or __package__, falling back on __name__ and __path__\n",
      "  return f(*args, **kwds)\n",
      "/home/albert/miniconda3/envs/tectf/lib/python3.6/importlib/_bootstrap.py:219: ImportWarning: can't resolve package from __spec__ or __package__, falling back on __name__ and __path__\n",
      "  return f(*args, **kwds)\n",
      "/home/albert/miniconda3/envs/tectf/lib/python3.6/importlib/_bootstrap.py:219: ImportWarning: can't resolve package from __spec__ or __package__, falling back on __name__ and __path__\n",
      "  return f(*args, **kwds)\n",
      "/home/albert/miniconda3/envs/tectf/lib/python3.6/importlib/_bootstrap.py:219: ImportWarning: can't resolve package from __spec__ or __package__, falling back on __name__ and __path__\n",
      "  return f(*args, **kwds)\n",
      "/home/albert/miniconda3/envs/tectf/lib/python3.6/site-packages/tables-3.4.4-py3.6-linux-x86_64.egg/tables/file.py:767: DeprecationWarning: The use of uppercase keyword parameters is deprecated\n",
      "  \"deprecated\", DeprecationWarning)\n",
      "/home/albert/miniconda3/envs/tectf/lib/python3.6/site-packages/tables-3.4.4-py3.6-linux-x86_64.egg/tables/file.py:767: DeprecationWarning: The use of uppercase keyword parameters is deprecated\n",
      "  \"deprecated\", DeprecationWarning)\n",
      "/home/albert/miniconda3/envs/tectf/lib/python3.6/site-packages/tables-3.4.4-py3.6-linux-x86_64.egg/tables/file.py:767: DeprecationWarning: The use of uppercase keyword parameters is deprecated\n",
      "  \"deprecated\", DeprecationWarning)\n",
      "/home/albert/miniconda3/envs/tectf/lib/python3.6/site-packages/tables-3.4.4-py3.6-linux-x86_64.egg/tables/file.py:767: DeprecationWarning: The use of uppercase keyword parameters is deprecated\n",
      "  \"deprecated\", DeprecationWarning)\n",
      "ERROR:root:Reference possible only for phase, scalarphase, clock, tec, tec3rd, and rotation solution tables. Ignore referencing.\n",
      "/home/albert/miniconda3/envs/tectf/lib/python3.6/site-packages/gpflow-1.3.0-py3.6.egg/gpflow/_settings.py:67: DeprecationWarning: tf_int is deprecated and will be removed at GPflow version 1.2.0. Use int_type.\n",
      "  'version 1.2.0. Use int_type.', DeprecationWarning)\n",
      "/home/albert/miniconda3/envs/tectf/lib/python3.6/site-packages/gpflow-1.3.0-py3.6.egg/gpflow/_settings.py:61: DeprecationWarning: tf_float is deprecated and will be removed at GPflow version 1.2.0. Use float_type.\n",
      "  'version 1.2.0. Use float_type.', DeprecationWarning)\n",
      "/home/albert/miniconda3/envs/tectf/lib/python3.6/site-packages/gpflow-1.3.0-py3.6.egg/gpflow/logdensities.py:91: DeprecationWarning: The 'warn' method is deprecated, use 'warning' instead\n",
      "  logger.warn('Shape of x must be 2D at computation.')\n",
      "WARNING:gpflow.logdensities:Shape of x must be 2D at computation.\n"
     ]
    },
    {
     "name": "stdout",
     "output_type": "stream",
     "text": [
      "INFO:tensorflow:Optimization terminated with:\n",
      "  Message: b'ABNORMAL_TERMINATION_IN_LNSRCH'\n",
      "  Objective function value: 600.502907\n",
      "  Number of iterations: 14\n",
      "  Number of functions evaluations: 60\n"
     ]
    },
    {
     "name": "stderr",
     "output_type": "stream",
     "text": [
      "INFO:tensorflow:Optimization terminated with:\n",
      "  Message: b'ABNORMAL_TERMINATION_IN_LNSRCH'\n",
      "  Objective function value: 600.502907\n",
      "  Number of iterations: 14\n",
      "  Number of functions evaluations: 60\n",
      "/home/albert/miniconda3/envs/tectf/lib/python3.6/site-packages/tables-3.4.4-py3.6-linux-x86_64.egg/tables/file.py:767: DeprecationWarning: The use of uppercase keyword parameters is deprecated\n",
      "  \"deprecated\", DeprecationWarning)\n",
      "/home/albert/miniconda3/envs/tectf/lib/python3.6/site-packages/tables-3.4.4-py3.6-linux-x86_64.egg/tables/file.py:767: DeprecationWarning: The use of uppercase keyword parameters is deprecated\n",
      "  \"deprecated\", DeprecationWarning)\n",
      "ERROR:root:Reference possible only for phase, scalarphase, clock, tec, tec3rd, and rotation solution tables. Ignore referencing.\n",
      "/home/albert/miniconda3/envs/tectf/lib/python3.6/site-packages/gpflow-1.3.0-py3.6.egg/gpflow/_settings.py:67: DeprecationWarning: tf_int is deprecated and will be removed at GPflow version 1.2.0. Use int_type.\n",
      "  'version 1.2.0. Use int_type.', DeprecationWarning)\n",
      "/home/albert/miniconda3/envs/tectf/lib/python3.6/site-packages/gpflow-1.3.0-py3.6.egg/gpflow/_settings.py:61: DeprecationWarning: tf_float is deprecated and will be removed at GPflow version 1.2.0. Use float_type.\n",
      "  'version 1.2.0. Use float_type.', DeprecationWarning)\n",
      "/home/albert/miniconda3/envs/tectf/lib/python3.6/site-packages/gpflow-1.3.0-py3.6.egg/gpflow/logdensities.py:91: DeprecationWarning: The 'warn' method is deprecated, use 'warning' instead\n",
      "  logger.warn('Shape of x must be 2D at computation.')\n",
      "WARNING:gpflow.logdensities:Shape of x must be 2D at computation.\n"
     ]
    },
    {
     "name": "stdout",
     "output_type": "stream",
     "text": [
      "INFO:tensorflow:Optimization terminated with:\n",
      "  Message: b'ABNORMAL_TERMINATION_IN_LNSRCH'\n",
      "  Objective function value: 382.513954\n",
      "  Number of iterations: 12\n",
      "  Number of functions evaluations: 74\n"
     ]
    },
    {
     "name": "stderr",
     "output_type": "stream",
     "text": [
      "INFO:tensorflow:Optimization terminated with:\n",
      "  Message: b'ABNORMAL_TERMINATION_IN_LNSRCH'\n",
      "  Objective function value: 382.513954\n",
      "  Number of iterations: 12\n",
      "  Number of functions evaluations: 74\n",
      "/home/albert/miniconda3/envs/tectf/lib/python3.6/site-packages/tables-3.4.4-py3.6-linux-x86_64.egg/tables/file.py:767: DeprecationWarning: The use of uppercase keyword parameters is deprecated\n",
      "  \"deprecated\", DeprecationWarning)\n",
      "/home/albert/miniconda3/envs/tectf/lib/python3.6/site-packages/tables-3.4.4-py3.6-linux-x86_64.egg/tables/file.py:767: DeprecationWarning: The use of uppercase keyword parameters is deprecated\n",
      "  \"deprecated\", DeprecationWarning)\n",
      "ERROR:root:Reference possible only for phase, scalarphase, clock, tec, tec3rd, and rotation solution tables. Ignore referencing.\n",
      "/home/albert/miniconda3/envs/tectf/lib/python3.6/site-packages/gpflow-1.3.0-py3.6.egg/gpflow/_settings.py:67: DeprecationWarning: tf_int is deprecated and will be removed at GPflow version 1.2.0. Use int_type.\n",
      "  'version 1.2.0. Use int_type.', DeprecationWarning)\n",
      "/home/albert/miniconda3/envs/tectf/lib/python3.6/site-packages/gpflow-1.3.0-py3.6.egg/gpflow/_settings.py:61: DeprecationWarning: tf_float is deprecated and will be removed at GPflow version 1.2.0. Use float_type.\n",
      "  'version 1.2.0. Use float_type.', DeprecationWarning)\n",
      "/home/albert/miniconda3/envs/tectf/lib/python3.6/site-packages/gpflow-1.3.0-py3.6.egg/gpflow/logdensities.py:91: DeprecationWarning: The 'warn' method is deprecated, use 'warning' instead\n",
      "  logger.warn('Shape of x must be 2D at computation.')\n",
      "WARNING:gpflow.logdensities:Shape of x must be 2D at computation.\n"
     ]
    },
    {
     "name": "stdout",
     "output_type": "stream",
     "text": [
      "INFO:tensorflow:Optimization terminated with:\n",
      "  Message: b'CONVERGENCE: REL_REDUCTION_OF_F_<=_FACTR*EPSMCH'\n",
      "  Objective function value: 3384.767470\n",
      "  Number of iterations: 12\n",
      "  Number of functions evaluations: 26\n"
     ]
    },
    {
     "name": "stderr",
     "output_type": "stream",
     "text": [
      "INFO:tensorflow:Optimization terminated with:\n",
      "  Message: b'CONVERGENCE: REL_REDUCTION_OF_F_<=_FACTR*EPSMCH'\n",
      "  Objective function value: 3384.767470\n",
      "  Number of iterations: 12\n",
      "  Number of functions evaluations: 26\n",
      "/home/albert/miniconda3/envs/tectf/lib/python3.6/site-packages/tables-3.4.4-py3.6-linux-x86_64.egg/tables/file.py:767: DeprecationWarning: The use of uppercase keyword parameters is deprecated\n",
      "  \"deprecated\", DeprecationWarning)\n",
      "/home/albert/miniconda3/envs/tectf/lib/python3.6/site-packages/tables-3.4.4-py3.6-linux-x86_64.egg/tables/file.py:767: DeprecationWarning: The use of uppercase keyword parameters is deprecated\n",
      "  \"deprecated\", DeprecationWarning)\n",
      "ERROR:root:Reference possible only for phase, scalarphase, clock, tec, tec3rd, and rotation solution tables. Ignore referencing.\n",
      "/home/albert/miniconda3/envs/tectf/lib/python3.6/site-packages/gpflow-1.3.0-py3.6.egg/gpflow/_settings.py:67: DeprecationWarning: tf_int is deprecated and will be removed at GPflow version 1.2.0. Use int_type.\n",
      "  'version 1.2.0. Use int_type.', DeprecationWarning)\n",
      "/home/albert/miniconda3/envs/tectf/lib/python3.6/site-packages/gpflow-1.3.0-py3.6.egg/gpflow/_settings.py:61: DeprecationWarning: tf_float is deprecated and will be removed at GPflow version 1.2.0. Use float_type.\n",
      "  'version 1.2.0. Use float_type.', DeprecationWarning)\n",
      "/home/albert/miniconda3/envs/tectf/lib/python3.6/site-packages/gpflow-1.3.0-py3.6.egg/gpflow/logdensities.py:91: DeprecationWarning: The 'warn' method is deprecated, use 'warning' instead\n",
      "  logger.warn('Shape of x must be 2D at computation.')\n",
      "WARNING:gpflow.logdensities:Shape of x must be 2D at computation.\n"
     ]
    },
    {
     "name": "stdout",
     "output_type": "stream",
     "text": [
      "INFO:tensorflow:Optimization terminated with:\n",
      "  Message: b'ABNORMAL_TERMINATION_IN_LNSRCH'\n",
      "  Objective function value: 3570.648466\n",
      "  Number of iterations: 13\n",
      "  Number of functions evaluations: 63\n"
     ]
    },
    {
     "name": "stderr",
     "output_type": "stream",
     "text": [
      "INFO:tensorflow:Optimization terminated with:\n",
      "  Message: b'ABNORMAL_TERMINATION_IN_LNSRCH'\n",
      "  Objective function value: 3570.648466\n",
      "  Number of iterations: 13\n",
      "  Number of functions evaluations: 63\n",
      "/home/albert/miniconda3/envs/tectf/lib/python3.6/site-packages/tables-3.4.4-py3.6-linux-x86_64.egg/tables/file.py:767: DeprecationWarning: The use of uppercase keyword parameters is deprecated\n",
      "  \"deprecated\", DeprecationWarning)\n",
      "/home/albert/miniconda3/envs/tectf/lib/python3.6/site-packages/tables-3.4.4-py3.6-linux-x86_64.egg/tables/file.py:767: DeprecationWarning: The use of uppercase keyword parameters is deprecated\n",
      "  \"deprecated\", DeprecationWarning)\n",
      "ERROR:root:Reference possible only for phase, scalarphase, clock, tec, tec3rd, and rotation solution tables. Ignore referencing.\n",
      "/home/albert/miniconda3/envs/tectf/lib/python3.6/site-packages/gpflow-1.3.0-py3.6.egg/gpflow/_settings.py:67: DeprecationWarning: tf_int is deprecated and will be removed at GPflow version 1.2.0. Use int_type.\n",
      "  'version 1.2.0. Use int_type.', DeprecationWarning)\n",
      "/home/albert/miniconda3/envs/tectf/lib/python3.6/site-packages/gpflow-1.3.0-py3.6.egg/gpflow/_settings.py:61: DeprecationWarning: tf_float is deprecated and will be removed at GPflow version 1.2.0. Use float_type.\n",
      "  'version 1.2.0. Use float_type.', DeprecationWarning)\n",
      "/home/albert/miniconda3/envs/tectf/lib/python3.6/site-packages/gpflow-1.3.0-py3.6.egg/gpflow/logdensities.py:91: DeprecationWarning: The 'warn' method is deprecated, use 'warning' instead\n",
      "  logger.warn('Shape of x must be 2D at computation.')\n",
      "WARNING:gpflow.logdensities:Shape of x must be 2D at computation.\n"
     ]
    },
    {
     "name": "stdout",
     "output_type": "stream",
     "text": [
      "INFO:tensorflow:Optimization terminated with:\n",
      "  Message: b'ABNORMAL_TERMINATION_IN_LNSRCH'\n",
      "  Objective function value: 1936.661074\n",
      "  Number of iterations: 11\n",
      "  Number of functions evaluations: 52\n"
     ]
    },
    {
     "name": "stderr",
     "output_type": "stream",
     "text": [
      "INFO:tensorflow:Optimization terminated with:\n",
      "  Message: b'ABNORMAL_TERMINATION_IN_LNSRCH'\n",
      "  Objective function value: 1936.661074\n",
      "  Number of iterations: 11\n",
      "  Number of functions evaluations: 52\n",
      "/home/albert/miniconda3/envs/tectf/lib/python3.6/site-packages/tables-3.4.4-py3.6-linux-x86_64.egg/tables/file.py:767: DeprecationWarning: The use of uppercase keyword parameters is deprecated\n",
      "  \"deprecated\", DeprecationWarning)\n",
      "/home/albert/miniconda3/envs/tectf/lib/python3.6/site-packages/tables-3.4.4-py3.6-linux-x86_64.egg/tables/file.py:767: DeprecationWarning: The use of uppercase keyword parameters is deprecated\n",
      "  \"deprecated\", DeprecationWarning)\n",
      "ERROR:root:Reference possible only for phase, scalarphase, clock, tec, tec3rd, and rotation solution tables. Ignore referencing.\n",
      "/home/albert/miniconda3/envs/tectf/lib/python3.6/site-packages/gpflow-1.3.0-py3.6.egg/gpflow/_settings.py:67: DeprecationWarning: tf_int is deprecated and will be removed at GPflow version 1.2.0. Use int_type.\n",
      "  'version 1.2.0. Use int_type.', DeprecationWarning)\n",
      "/home/albert/miniconda3/envs/tectf/lib/python3.6/site-packages/gpflow-1.3.0-py3.6.egg/gpflow/_settings.py:61: DeprecationWarning: tf_float is deprecated and will be removed at GPflow version 1.2.0. Use float_type.\n",
      "  'version 1.2.0. Use float_type.', DeprecationWarning)\n",
      "/home/albert/miniconda3/envs/tectf/lib/python3.6/site-packages/gpflow-1.3.0-py3.6.egg/gpflow/logdensities.py:91: DeprecationWarning: The 'warn' method is deprecated, use 'warning' instead\n",
      "  logger.warn('Shape of x must be 2D at computation.')\n",
      "WARNING:gpflow.logdensities:Shape of x must be 2D at computation.\n"
     ]
    },
    {
     "name": "stdout",
     "output_type": "stream",
     "text": [
      "INFO:tensorflow:Optimization terminated with:\n",
      "  Message: b'CONVERGENCE: REL_REDUCTION_OF_F_<=_FACTR*EPSMCH'\n",
      "  Objective function value: 337.141957\n",
      "  Number of iterations: 15\n",
      "  Number of functions evaluations: 66\n"
     ]
    },
    {
     "name": "stderr",
     "output_type": "stream",
     "text": [
      "INFO:tensorflow:Optimization terminated with:\n",
      "  Message: b'CONVERGENCE: REL_REDUCTION_OF_F_<=_FACTR*EPSMCH'\n",
      "  Objective function value: 337.141957\n",
      "  Number of iterations: 15\n",
      "  Number of functions evaluations: 66\n",
      "/home/albert/miniconda3/envs/tectf/lib/python3.6/site-packages/tables-3.4.4-py3.6-linux-x86_64.egg/tables/file.py:767: DeprecationWarning: The use of uppercase keyword parameters is deprecated\n",
      "  \"deprecated\", DeprecationWarning)\n",
      "/home/albert/miniconda3/envs/tectf/lib/python3.6/site-packages/tables-3.4.4-py3.6-linux-x86_64.egg/tables/file.py:767: DeprecationWarning: The use of uppercase keyword parameters is deprecated\n",
      "  \"deprecated\", DeprecationWarning)\n",
      "ERROR:root:Reference possible only for phase, scalarphase, clock, tec, tec3rd, and rotation solution tables. Ignore referencing.\n",
      "/home/albert/miniconda3/envs/tectf/lib/python3.6/site-packages/gpflow-1.3.0-py3.6.egg/gpflow/_settings.py:67: DeprecationWarning: tf_int is deprecated and will be removed at GPflow version 1.2.0. Use int_type.\n",
      "  'version 1.2.0. Use int_type.', DeprecationWarning)\n",
      "/home/albert/miniconda3/envs/tectf/lib/python3.6/site-packages/gpflow-1.3.0-py3.6.egg/gpflow/_settings.py:61: DeprecationWarning: tf_float is deprecated and will be removed at GPflow version 1.2.0. Use float_type.\n",
      "  'version 1.2.0. Use float_type.', DeprecationWarning)\n",
      "/home/albert/miniconda3/envs/tectf/lib/python3.6/site-packages/gpflow-1.3.0-py3.6.egg/gpflow/logdensities.py:91: DeprecationWarning: The 'warn' method is deprecated, use 'warning' instead\n",
      "  logger.warn('Shape of x must be 2D at computation.')\n",
      "WARNING:gpflow.logdensities:Shape of x must be 2D at computation.\n"
     ]
    },
    {
     "name": "stdout",
     "output_type": "stream",
     "text": [
      "INFO:tensorflow:Optimization terminated with:\n",
      "  Message: b'ABNORMAL_TERMINATION_IN_LNSRCH'\n",
      "  Objective function value: 227.867017\n",
      "  Number of iterations: 17\n",
      "  Number of functions evaluations: 105\n"
     ]
    },
    {
     "name": "stderr",
     "output_type": "stream",
     "text": [
      "INFO:tensorflow:Optimization terminated with:\n",
      "  Message: b'ABNORMAL_TERMINATION_IN_LNSRCH'\n",
      "  Objective function value: 227.867017\n",
      "  Number of iterations: 17\n",
      "  Number of functions evaluations: 105\n",
      "/home/albert/miniconda3/envs/tectf/lib/python3.6/site-packages/tables-3.4.4-py3.6-linux-x86_64.egg/tables/file.py:767: DeprecationWarning: The use of uppercase keyword parameters is deprecated\n",
      "  \"deprecated\", DeprecationWarning)\n",
      "/home/albert/miniconda3/envs/tectf/lib/python3.6/site-packages/tables-3.4.4-py3.6-linux-x86_64.egg/tables/file.py:767: DeprecationWarning: The use of uppercase keyword parameters is deprecated\n",
      "  \"deprecated\", DeprecationWarning)\n",
      "ERROR:root:Reference possible only for phase, scalarphase, clock, tec, tec3rd, and rotation solution tables. Ignore referencing.\n",
      "/home/albert/miniconda3/envs/tectf/lib/python3.6/site-packages/gpflow-1.3.0-py3.6.egg/gpflow/_settings.py:67: DeprecationWarning: tf_int is deprecated and will be removed at GPflow version 1.2.0. Use int_type.\n",
      "  'version 1.2.0. Use int_type.', DeprecationWarning)\n",
      "/home/albert/miniconda3/envs/tectf/lib/python3.6/site-packages/gpflow-1.3.0-py3.6.egg/gpflow/_settings.py:61: DeprecationWarning: tf_float is deprecated and will be removed at GPflow version 1.2.0. Use float_type.\n",
      "  'version 1.2.0. Use float_type.', DeprecationWarning)\n",
      "/home/albert/miniconda3/envs/tectf/lib/python3.6/site-packages/gpflow-1.3.0-py3.6.egg/gpflow/logdensities.py:91: DeprecationWarning: The 'warn' method is deprecated, use 'warning' instead\n",
      "  logger.warn('Shape of x must be 2D at computation.')\n",
      "WARNING:gpflow.logdensities:Shape of x must be 2D at computation.\n"
     ]
    },
    {
     "name": "stdout",
     "output_type": "stream",
     "text": [
      "INFO:tensorflow:Optimization terminated with:\n",
      "  Message: b'ABNORMAL_TERMINATION_IN_LNSRCH'\n",
      "  Objective function value: 615.252543\n",
      "  Number of iterations: 15\n",
      "  Number of functions evaluations: 60\n"
     ]
    },
    {
     "name": "stderr",
     "output_type": "stream",
     "text": [
      "INFO:tensorflow:Optimization terminated with:\n",
      "  Message: b'ABNORMAL_TERMINATION_IN_LNSRCH'\n",
      "  Objective function value: 615.252543\n",
      "  Number of iterations: 15\n",
      "  Number of functions evaluations: 60\n",
      "/home/albert/miniconda3/envs/tectf/lib/python3.6/site-packages/tables-3.4.4-py3.6-linux-x86_64.egg/tables/file.py:767: DeprecationWarning: The use of uppercase keyword parameters is deprecated\n",
      "  \"deprecated\", DeprecationWarning)\n",
      "/home/albert/miniconda3/envs/tectf/lib/python3.6/site-packages/tables-3.4.4-py3.6-linux-x86_64.egg/tables/file.py:767: DeprecationWarning: The use of uppercase keyword parameters is deprecated\n",
      "  \"deprecated\", DeprecationWarning)\n",
      "ERROR:root:Reference possible only for phase, scalarphase, clock, tec, tec3rd, and rotation solution tables. Ignore referencing.\n",
      "/home/albert/miniconda3/envs/tectf/lib/python3.6/site-packages/gpflow-1.3.0-py3.6.egg/gpflow/_settings.py:67: DeprecationWarning: tf_int is deprecated and will be removed at GPflow version 1.2.0. Use int_type.\n",
      "  'version 1.2.0. Use int_type.', DeprecationWarning)\n",
      "/home/albert/miniconda3/envs/tectf/lib/python3.6/site-packages/gpflow-1.3.0-py3.6.egg/gpflow/_settings.py:61: DeprecationWarning: tf_float is deprecated and will be removed at GPflow version 1.2.0. Use float_type.\n",
      "  'version 1.2.0. Use float_type.', DeprecationWarning)\n",
      "/home/albert/miniconda3/envs/tectf/lib/python3.6/site-packages/gpflow-1.3.0-py3.6.egg/gpflow/logdensities.py:91: DeprecationWarning: The 'warn' method is deprecated, use 'warning' instead\n",
      "  logger.warn('Shape of x must be 2D at computation.')\n",
      "WARNING:gpflow.logdensities:Shape of x must be 2D at computation.\n"
     ]
    },
    {
     "name": "stdout",
     "output_type": "stream",
     "text": [
      "INFO:tensorflow:Optimization terminated with:\n",
      "  Message: b'CONVERGENCE: REL_REDUCTION_OF_F_<=_FACTR*EPSMCH'\n",
      "  Objective function value: 3841.190671\n",
      "  Number of iterations: 15\n",
      "  Number of functions evaluations: 46\n"
     ]
    },
    {
     "name": "stderr",
     "output_type": "stream",
     "text": [
      "INFO:tensorflow:Optimization terminated with:\n",
      "  Message: b'CONVERGENCE: REL_REDUCTION_OF_F_<=_FACTR*EPSMCH'\n",
      "  Objective function value: 3841.190671\n",
      "  Number of iterations: 15\n",
      "  Number of functions evaluations: 46\n",
      "/home/albert/miniconda3/envs/tectf/lib/python3.6/site-packages/tables-3.4.4-py3.6-linux-x86_64.egg/tables/file.py:767: DeprecationWarning: The use of uppercase keyword parameters is deprecated\n",
      "  \"deprecated\", DeprecationWarning)\n",
      "/home/albert/miniconda3/envs/tectf/lib/python3.6/site-packages/tables-3.4.4-py3.6-linux-x86_64.egg/tables/file.py:767: DeprecationWarning: The use of uppercase keyword parameters is deprecated\n",
      "  \"deprecated\", DeprecationWarning)\n",
      "ERROR:root:Reference possible only for phase, scalarphase, clock, tec, tec3rd, and rotation solution tables. Ignore referencing.\n",
      "/home/albert/miniconda3/envs/tectf/lib/python3.6/site-packages/gpflow-1.3.0-py3.6.egg/gpflow/_settings.py:67: DeprecationWarning: tf_int is deprecated and will be removed at GPflow version 1.2.0. Use int_type.\n",
      "  'version 1.2.0. Use int_type.', DeprecationWarning)\n",
      "/home/albert/miniconda3/envs/tectf/lib/python3.6/site-packages/gpflow-1.3.0-py3.6.egg/gpflow/_settings.py:61: DeprecationWarning: tf_float is deprecated and will be removed at GPflow version 1.2.0. Use float_type.\n",
      "  'version 1.2.0. Use float_type.', DeprecationWarning)\n",
      "/home/albert/miniconda3/envs/tectf/lib/python3.6/site-packages/gpflow-1.3.0-py3.6.egg/gpflow/logdensities.py:91: DeprecationWarning: The 'warn' method is deprecated, use 'warning' instead\n",
      "  logger.warn('Shape of x must be 2D at computation.')\n",
      "WARNING:gpflow.logdensities:Shape of x must be 2D at computation.\n"
     ]
    },
    {
     "name": "stdout",
     "output_type": "stream",
     "text": [
      "INFO:tensorflow:Optimization terminated with:\n",
      "  Message: b'CONVERGENCE: REL_REDUCTION_OF_F_<=_FACTR*EPSMCH'\n",
      "  Objective function value: 6780.403815\n",
      "  Number of iterations: 10\n",
      "  Number of functions evaluations: 48\n"
     ]
    },
    {
     "name": "stderr",
     "output_type": "stream",
     "text": [
      "INFO:tensorflow:Optimization terminated with:\n",
      "  Message: b'CONVERGENCE: REL_REDUCTION_OF_F_<=_FACTR*EPSMCH'\n",
      "  Objective function value: 6780.403815\n",
      "  Number of iterations: 10\n",
      "  Number of functions evaluations: 48\n",
      "/home/albert/miniconda3/envs/tectf/lib/python3.6/site-packages/tables-3.4.4-py3.6-linux-x86_64.egg/tables/file.py:767: DeprecationWarning: The use of uppercase keyword parameters is deprecated\n",
      "  \"deprecated\", DeprecationWarning)\n",
      "/home/albert/miniconda3/envs/tectf/lib/python3.6/site-packages/tables-3.4.4-py3.6-linux-x86_64.egg/tables/file.py:767: DeprecationWarning: The use of uppercase keyword parameters is deprecated\n",
      "  \"deprecated\", DeprecationWarning)\n",
      "ERROR:root:Reference possible only for phase, scalarphase, clock, tec, tec3rd, and rotation solution tables. Ignore referencing.\n",
      "/home/albert/miniconda3/envs/tectf/lib/python3.6/site-packages/gpflow-1.3.0-py3.6.egg/gpflow/_settings.py:67: DeprecationWarning: tf_int is deprecated and will be removed at GPflow version 1.2.0. Use int_type.\n",
      "  'version 1.2.0. Use int_type.', DeprecationWarning)\n",
      "/home/albert/miniconda3/envs/tectf/lib/python3.6/site-packages/gpflow-1.3.0-py3.6.egg/gpflow/_settings.py:61: DeprecationWarning: tf_float is deprecated and will be removed at GPflow version 1.2.0. Use float_type.\n",
      "  'version 1.2.0. Use float_type.', DeprecationWarning)\n",
      "/home/albert/miniconda3/envs/tectf/lib/python3.6/site-packages/gpflow-1.3.0-py3.6.egg/gpflow/logdensities.py:91: DeprecationWarning: The 'warn' method is deprecated, use 'warning' instead\n",
      "  logger.warn('Shape of x must be 2D at computation.')\n",
      "WARNING:gpflow.logdensities:Shape of x must be 2D at computation.\n"
     ]
    },
    {
     "name": "stdout",
     "output_type": "stream",
     "text": [
      "INFO:tensorflow:Optimization terminated with:\n",
      "  Message: b'CONVERGENCE: REL_REDUCTION_OF_F_<=_FACTR*EPSMCH'\n",
      "  Objective function value: 6526.229609\n",
      "  Number of iterations: 13\n",
      "  Number of functions evaluations: 125\n"
     ]
    },
    {
     "name": "stderr",
     "output_type": "stream",
     "text": [
      "INFO:tensorflow:Optimization terminated with:\n",
      "  Message: b'CONVERGENCE: REL_REDUCTION_OF_F_<=_FACTR*EPSMCH'\n",
      "  Objective function value: 6526.229609\n",
      "  Number of iterations: 13\n",
      "  Number of functions evaluations: 125\n",
      "/home/albert/miniconda3/envs/tectf/lib/python3.6/site-packages/tables-3.4.4-py3.6-linux-x86_64.egg/tables/file.py:767: DeprecationWarning: The use of uppercase keyword parameters is deprecated\n",
      "  \"deprecated\", DeprecationWarning)\n",
      "/home/albert/miniconda3/envs/tectf/lib/python3.6/site-packages/tables-3.4.4-py3.6-linux-x86_64.egg/tables/file.py:767: DeprecationWarning: The use of uppercase keyword parameters is deprecated\n",
      "  \"deprecated\", DeprecationWarning)\n",
      "ERROR:root:Reference possible only for phase, scalarphase, clock, tec, tec3rd, and rotation solution tables. Ignore referencing.\n",
      "/home/albert/miniconda3/envs/tectf/lib/python3.6/site-packages/gpflow-1.3.0-py3.6.egg/gpflow/_settings.py:67: DeprecationWarning: tf_int is deprecated and will be removed at GPflow version 1.2.0. Use int_type.\n",
      "  'version 1.2.0. Use int_type.', DeprecationWarning)\n",
      "/home/albert/miniconda3/envs/tectf/lib/python3.6/site-packages/gpflow-1.3.0-py3.6.egg/gpflow/_settings.py:61: DeprecationWarning: tf_float is deprecated and will be removed at GPflow version 1.2.0. Use float_type.\n",
      "  'version 1.2.0. Use float_type.', DeprecationWarning)\n",
      "/home/albert/miniconda3/envs/tectf/lib/python3.6/site-packages/gpflow-1.3.0-py3.6.egg/gpflow/logdensities.py:91: DeprecationWarning: The 'warn' method is deprecated, use 'warning' instead\n",
      "  logger.warn('Shape of x must be 2D at computation.')\n",
      "WARNING:gpflow.logdensities:Shape of x must be 2D at computation.\n"
     ]
    },
    {
     "name": "stdout",
     "output_type": "stream",
     "text": [
      "INFO:tensorflow:Optimization terminated with:\n",
      "  Message: b'ABNORMAL_TERMINATION_IN_LNSRCH'\n",
      "  Objective function value: 2157.674843\n",
      "  Number of iterations: 13\n",
      "  Number of functions evaluations: 59\n"
     ]
    },
    {
     "name": "stderr",
     "output_type": "stream",
     "text": [
      "INFO:tensorflow:Optimization terminated with:\n",
      "  Message: b'ABNORMAL_TERMINATION_IN_LNSRCH'\n",
      "  Objective function value: 2157.674843\n",
      "  Number of iterations: 13\n",
      "  Number of functions evaluations: 59\n",
      "/home/albert/miniconda3/envs/tectf/lib/python3.6/site-packages/tables-3.4.4-py3.6-linux-x86_64.egg/tables/file.py:767: DeprecationWarning: The use of uppercase keyword parameters is deprecated\n",
      "  \"deprecated\", DeprecationWarning)\n",
      "/home/albert/miniconda3/envs/tectf/lib/python3.6/site-packages/tables-3.4.4-py3.6-linux-x86_64.egg/tables/file.py:767: DeprecationWarning: The use of uppercase keyword parameters is deprecated\n",
      "  \"deprecated\", DeprecationWarning)\n",
      "ERROR:root:Reference possible only for phase, scalarphase, clock, tec, tec3rd, and rotation solution tables. Ignore referencing.\n",
      "/home/albert/miniconda3/envs/tectf/lib/python3.6/site-packages/gpflow-1.3.0-py3.6.egg/gpflow/_settings.py:67: DeprecationWarning: tf_int is deprecated and will be removed at GPflow version 1.2.0. Use int_type.\n",
      "  'version 1.2.0. Use int_type.', DeprecationWarning)\n",
      "/home/albert/miniconda3/envs/tectf/lib/python3.6/site-packages/gpflow-1.3.0-py3.6.egg/gpflow/_settings.py:61: DeprecationWarning: tf_float is deprecated and will be removed at GPflow version 1.2.0. Use float_type.\n",
      "  'version 1.2.0. Use float_type.', DeprecationWarning)\n",
      "/home/albert/miniconda3/envs/tectf/lib/python3.6/site-packages/gpflow-1.3.0-py3.6.egg/gpflow/logdensities.py:91: DeprecationWarning: The 'warn' method is deprecated, use 'warning' instead\n",
      "  logger.warn('Shape of x must be 2D at computation.')\n",
      "WARNING:gpflow.logdensities:Shape of x must be 2D at computation.\n"
     ]
    },
    {
     "name": "stdout",
     "output_type": "stream",
     "text": [
      "INFO:tensorflow:Optimization terminated with:\n",
      "  Message: b'ABNORMAL_TERMINATION_IN_LNSRCH'\n",
      "  Objective function value: 259.139339\n",
      "  Number of iterations: 10\n",
      "  Number of functions evaluations: 51\n"
     ]
    },
    {
     "name": "stderr",
     "output_type": "stream",
     "text": [
      "INFO:tensorflow:Optimization terminated with:\n",
      "  Message: b'ABNORMAL_TERMINATION_IN_LNSRCH'\n",
      "  Objective function value: 259.139339\n",
      "  Number of iterations: 10\n",
      "  Number of functions evaluations: 51\n",
      "/home/albert/miniconda3/envs/tectf/lib/python3.6/site-packages/tables-3.4.4-py3.6-linux-x86_64.egg/tables/file.py:767: DeprecationWarning: The use of uppercase keyword parameters is deprecated\n",
      "  \"deprecated\", DeprecationWarning)\n",
      "/home/albert/miniconda3/envs/tectf/lib/python3.6/site-packages/tables-3.4.4-py3.6-linux-x86_64.egg/tables/file.py:767: DeprecationWarning: The use of uppercase keyword parameters is deprecated\n",
      "  \"deprecated\", DeprecationWarning)\n",
      "ERROR:root:Reference possible only for phase, scalarphase, clock, tec, tec3rd, and rotation solution tables. Ignore referencing.\n",
      "/home/albert/miniconda3/envs/tectf/lib/python3.6/site-packages/gpflow-1.3.0-py3.6.egg/gpflow/_settings.py:67: DeprecationWarning: tf_int is deprecated and will be removed at GPflow version 1.2.0. Use int_type.\n",
      "  'version 1.2.0. Use int_type.', DeprecationWarning)\n",
      "/home/albert/miniconda3/envs/tectf/lib/python3.6/site-packages/gpflow-1.3.0-py3.6.egg/gpflow/_settings.py:61: DeprecationWarning: tf_float is deprecated and will be removed at GPflow version 1.2.0. Use float_type.\n",
      "  'version 1.2.0. Use float_type.', DeprecationWarning)\n",
      "/home/albert/miniconda3/envs/tectf/lib/python3.6/site-packages/gpflow-1.3.0-py3.6.egg/gpflow/logdensities.py:91: DeprecationWarning: The 'warn' method is deprecated, use 'warning' instead\n",
      "  logger.warn('Shape of x must be 2D at computation.')\n",
      "WARNING:gpflow.logdensities:Shape of x must be 2D at computation.\n"
     ]
    },
    {
     "name": "stdout",
     "output_type": "stream",
     "text": [
      "INFO:tensorflow:Optimization terminated with:\n",
      "  Message: b'ABNORMAL_TERMINATION_IN_LNSRCH'\n",
      "  Objective function value: -34.253008\n",
      "  Number of iterations: 13\n",
      "  Number of functions evaluations: 76\n"
     ]
    },
    {
     "name": "stderr",
     "output_type": "stream",
     "text": [
      "INFO:tensorflow:Optimization terminated with:\n",
      "  Message: b'ABNORMAL_TERMINATION_IN_LNSRCH'\n",
      "  Objective function value: -34.253008\n",
      "  Number of iterations: 13\n",
      "  Number of functions evaluations: 76\n",
      "/home/albert/miniconda3/envs/tectf/lib/python3.6/site-packages/tables-3.4.4-py3.6-linux-x86_64.egg/tables/file.py:767: DeprecationWarning: The use of uppercase keyword parameters is deprecated\n",
      "  \"deprecated\", DeprecationWarning)\n",
      "/home/albert/miniconda3/envs/tectf/lib/python3.6/site-packages/tables-3.4.4-py3.6-linux-x86_64.egg/tables/file.py:767: DeprecationWarning: The use of uppercase keyword parameters is deprecated\n",
      "  \"deprecated\", DeprecationWarning)\n",
      "ERROR:root:Reference possible only for phase, scalarphase, clock, tec, tec3rd, and rotation solution tables. Ignore referencing.\n",
      "/home/albert/miniconda3/envs/tectf/lib/python3.6/site-packages/gpflow-1.3.0-py3.6.egg/gpflow/_settings.py:67: DeprecationWarning: tf_int is deprecated and will be removed at GPflow version 1.2.0. Use int_type.\n",
      "  'version 1.2.0. Use int_type.', DeprecationWarning)\n",
      "/home/albert/miniconda3/envs/tectf/lib/python3.6/site-packages/gpflow-1.3.0-py3.6.egg/gpflow/_settings.py:61: DeprecationWarning: tf_float is deprecated and will be removed at GPflow version 1.2.0. Use float_type.\n",
      "  'version 1.2.0. Use float_type.', DeprecationWarning)\n",
      "/home/albert/miniconda3/envs/tectf/lib/python3.6/site-packages/gpflow-1.3.0-py3.6.egg/gpflow/logdensities.py:91: DeprecationWarning: The 'warn' method is deprecated, use 'warning' instead\n",
      "  logger.warn('Shape of x must be 2D at computation.')\n",
      "WARNING:gpflow.logdensities:Shape of x must be 2D at computation.\n"
     ]
    },
    {
     "name": "stdout",
     "output_type": "stream",
     "text": [
      "INFO:tensorflow:Optimization terminated with:\n",
      "  Message: b'CONVERGENCE: REL_REDUCTION_OF_F_<=_FACTR*EPSMCH'\n",
      "  Objective function value: 345.112449\n",
      "  Number of iterations: 17\n",
      "  Number of functions evaluations: 71\n"
     ]
    },
    {
     "name": "stderr",
     "output_type": "stream",
     "text": [
      "INFO:tensorflow:Optimization terminated with:\n",
      "  Message: b'CONVERGENCE: REL_REDUCTION_OF_F_<=_FACTR*EPSMCH'\n",
      "  Objective function value: 345.112449\n",
      "  Number of iterations: 17\n",
      "  Number of functions evaluations: 71\n",
      "/home/albert/miniconda3/envs/tectf/lib/python3.6/site-packages/tables-3.4.4-py3.6-linux-x86_64.egg/tables/file.py:767: DeprecationWarning: The use of uppercase keyword parameters is deprecated\n",
      "  \"deprecated\", DeprecationWarning)\n",
      "/home/albert/miniconda3/envs/tectf/lib/python3.6/site-packages/tables-3.4.4-py3.6-linux-x86_64.egg/tables/file.py:767: DeprecationWarning: The use of uppercase keyword parameters is deprecated\n",
      "  \"deprecated\", DeprecationWarning)\n",
      "ERROR:root:Reference possible only for phase, scalarphase, clock, tec, tec3rd, and rotation solution tables. Ignore referencing.\n",
      "/home/albert/miniconda3/envs/tectf/lib/python3.6/site-packages/gpflow-1.3.0-py3.6.egg/gpflow/_settings.py:67: DeprecationWarning: tf_int is deprecated and will be removed at GPflow version 1.2.0. Use int_type.\n",
      "  'version 1.2.0. Use int_type.', DeprecationWarning)\n",
      "/home/albert/miniconda3/envs/tectf/lib/python3.6/site-packages/gpflow-1.3.0-py3.6.egg/gpflow/_settings.py:61: DeprecationWarning: tf_float is deprecated and will be removed at GPflow version 1.2.0. Use float_type.\n",
      "  'version 1.2.0. Use float_type.', DeprecationWarning)\n",
      "/home/albert/miniconda3/envs/tectf/lib/python3.6/site-packages/gpflow-1.3.0-py3.6.egg/gpflow/logdensities.py:91: DeprecationWarning: The 'warn' method is deprecated, use 'warning' instead\n",
      "  logger.warn('Shape of x must be 2D at computation.')\n",
      "WARNING:gpflow.logdensities:Shape of x must be 2D at computation.\n"
     ]
    },
    {
     "name": "stdout",
     "output_type": "stream",
     "text": [
      "INFO:tensorflow:Optimization terminated with:\n",
      "  Message: b'CONVERGENCE: REL_REDUCTION_OF_F_<=_FACTR*EPSMCH'\n",
      "  Objective function value: 666.645334\n",
      "  Number of iterations: 12\n",
      "  Number of functions evaluations: 30\n"
     ]
    },
    {
     "name": "stderr",
     "output_type": "stream",
     "text": [
      "INFO:tensorflow:Optimization terminated with:\n",
      "  Message: b'CONVERGENCE: REL_REDUCTION_OF_F_<=_FACTR*EPSMCH'\n",
      "  Objective function value: 666.645334\n",
      "  Number of iterations: 12\n",
      "  Number of functions evaluations: 30\n",
      "/home/albert/miniconda3/envs/tectf/lib/python3.6/site-packages/tables-3.4.4-py3.6-linux-x86_64.egg/tables/file.py:767: DeprecationWarning: The use of uppercase keyword parameters is deprecated\n",
      "  \"deprecated\", DeprecationWarning)\n",
      "/home/albert/miniconda3/envs/tectf/lib/python3.6/site-packages/tables-3.4.4-py3.6-linux-x86_64.egg/tables/file.py:767: DeprecationWarning: The use of uppercase keyword parameters is deprecated\n",
      "  \"deprecated\", DeprecationWarning)\n",
      "ERROR:root:Reference possible only for phase, scalarphase, clock, tec, tec3rd, and rotation solution tables. Ignore referencing.\n",
      "/home/albert/miniconda3/envs/tectf/lib/python3.6/site-packages/gpflow-1.3.0-py3.6.egg/gpflow/_settings.py:67: DeprecationWarning: tf_int is deprecated and will be removed at GPflow version 1.2.0. Use int_type.\n",
      "  'version 1.2.0. Use int_type.', DeprecationWarning)\n",
      "/home/albert/miniconda3/envs/tectf/lib/python3.6/site-packages/gpflow-1.3.0-py3.6.egg/gpflow/_settings.py:61: DeprecationWarning: tf_float is deprecated and will be removed at GPflow version 1.2.0. Use float_type.\n",
      "  'version 1.2.0. Use float_type.', DeprecationWarning)\n",
      "/home/albert/miniconda3/envs/tectf/lib/python3.6/site-packages/gpflow-1.3.0-py3.6.egg/gpflow/logdensities.py:91: DeprecationWarning: The 'warn' method is deprecated, use 'warning' instead\n",
      "  logger.warn('Shape of x must be 2D at computation.')\n",
      "WARNING:gpflow.logdensities:Shape of x must be 2D at computation.\n"
     ]
    },
    {
     "name": "stdout",
     "output_type": "stream",
     "text": [
      "INFO:tensorflow:Optimization terminated with:\n",
      "  Message: b'ABNORMAL_TERMINATION_IN_LNSRCH'\n",
      "  Objective function value: 741.378911\n",
      "  Number of iterations: 9\n",
      "  Number of functions evaluations: 70\n"
     ]
    },
    {
     "name": "stderr",
     "output_type": "stream",
     "text": [
      "INFO:tensorflow:Optimization terminated with:\n",
      "  Message: b'ABNORMAL_TERMINATION_IN_LNSRCH'\n",
      "  Objective function value: 741.378911\n",
      "  Number of iterations: 9\n",
      "  Number of functions evaluations: 70\n",
      "/home/albert/miniconda3/envs/tectf/lib/python3.6/site-packages/tables-3.4.4-py3.6-linux-x86_64.egg/tables/file.py:767: DeprecationWarning: The use of uppercase keyword parameters is deprecated\n",
      "  \"deprecated\", DeprecationWarning)\n",
      "/home/albert/miniconda3/envs/tectf/lib/python3.6/site-packages/tables-3.4.4-py3.6-linux-x86_64.egg/tables/file.py:767: DeprecationWarning: The use of uppercase keyword parameters is deprecated\n",
      "  \"deprecated\", DeprecationWarning)\n",
      "ERROR:root:Reference possible only for phase, scalarphase, clock, tec, tec3rd, and rotation solution tables. Ignore referencing.\n",
      "/home/albert/miniconda3/envs/tectf/lib/python3.6/site-packages/gpflow-1.3.0-py3.6.egg/gpflow/_settings.py:67: DeprecationWarning: tf_int is deprecated and will be removed at GPflow version 1.2.0. Use int_type.\n",
      "  'version 1.2.0. Use int_type.', DeprecationWarning)\n",
      "/home/albert/miniconda3/envs/tectf/lib/python3.6/site-packages/gpflow-1.3.0-py3.6.egg/gpflow/_settings.py:61: DeprecationWarning: tf_float is deprecated and will be removed at GPflow version 1.2.0. Use float_type.\n",
      "  'version 1.2.0. Use float_type.', DeprecationWarning)\n",
      "/home/albert/miniconda3/envs/tectf/lib/python3.6/site-packages/gpflow-1.3.0-py3.6.egg/gpflow/logdensities.py:91: DeprecationWarning: The 'warn' method is deprecated, use 'warning' instead\n",
      "  logger.warn('Shape of x must be 2D at computation.')\n",
      "WARNING:gpflow.logdensities:Shape of x must be 2D at computation.\n"
     ]
    },
    {
     "name": "stdout",
     "output_type": "stream",
     "text": [
      "INFO:tensorflow:Optimization terminated with:\n",
      "  Message: b'ABNORMAL_TERMINATION_IN_LNSRCH'\n",
      "  Objective function value: 433.408927\n",
      "  Number of iterations: 9\n",
      "  Number of functions evaluations: 50\n"
     ]
    },
    {
     "name": "stderr",
     "output_type": "stream",
     "text": [
      "INFO:tensorflow:Optimization terminated with:\n",
      "  Message: b'ABNORMAL_TERMINATION_IN_LNSRCH'\n",
      "  Objective function value: 433.408927\n",
      "  Number of iterations: 9\n",
      "  Number of functions evaluations: 50\n",
      "/home/albert/miniconda3/envs/tectf/lib/python3.6/site-packages/tables-3.4.4-py3.6-linux-x86_64.egg/tables/file.py:767: DeprecationWarning: The use of uppercase keyword parameters is deprecated\n",
      "  \"deprecated\", DeprecationWarning)\n",
      "/home/albert/miniconda3/envs/tectf/lib/python3.6/site-packages/tables-3.4.4-py3.6-linux-x86_64.egg/tables/file.py:767: DeprecationWarning: The use of uppercase keyword parameters is deprecated\n",
      "  \"deprecated\", DeprecationWarning)\n",
      "ERROR:root:Reference possible only for phase, scalarphase, clock, tec, tec3rd, and rotation solution tables. Ignore referencing.\n",
      "/home/albert/miniconda3/envs/tectf/lib/python3.6/site-packages/gpflow-1.3.0-py3.6.egg/gpflow/_settings.py:67: DeprecationWarning: tf_int is deprecated and will be removed at GPflow version 1.2.0. Use int_type.\n",
      "  'version 1.2.0. Use int_type.', DeprecationWarning)\n",
      "/home/albert/miniconda3/envs/tectf/lib/python3.6/site-packages/gpflow-1.3.0-py3.6.egg/gpflow/_settings.py:61: DeprecationWarning: tf_float is deprecated and will be removed at GPflow version 1.2.0. Use float_type.\n",
      "  'version 1.2.0. Use float_type.', DeprecationWarning)\n",
      "/home/albert/miniconda3/envs/tectf/lib/python3.6/site-packages/gpflow-1.3.0-py3.6.egg/gpflow/logdensities.py:91: DeprecationWarning: The 'warn' method is deprecated, use 'warning' instead\n",
      "  logger.warn('Shape of x must be 2D at computation.')\n",
      "WARNING:gpflow.logdensities:Shape of x must be 2D at computation.\n"
     ]
    },
    {
     "name": "stdout",
     "output_type": "stream",
     "text": [
      "INFO:tensorflow:Optimization terminated with:\n",
      "  Message: b'CONVERGENCE: REL_REDUCTION_OF_F_<=_FACTR*EPSMCH'\n",
      "  Objective function value: 511.930568\n",
      "  Number of iterations: 14\n",
      "  Number of functions evaluations: 39\n"
     ]
    },
    {
     "name": "stderr",
     "output_type": "stream",
     "text": [
      "INFO:tensorflow:Optimization terminated with:\n",
      "  Message: b'CONVERGENCE: REL_REDUCTION_OF_F_<=_FACTR*EPSMCH'\n",
      "  Objective function value: 511.930568\n",
      "  Number of iterations: 14\n",
      "  Number of functions evaluations: 39\n",
      "/home/albert/miniconda3/envs/tectf/lib/python3.6/site-packages/tables-3.4.4-py3.6-linux-x86_64.egg/tables/file.py:767: DeprecationWarning: The use of uppercase keyword parameters is deprecated\n",
      "  \"deprecated\", DeprecationWarning)\n",
      "/home/albert/miniconda3/envs/tectf/lib/python3.6/site-packages/tables-3.4.4-py3.6-linux-x86_64.egg/tables/file.py:767: DeprecationWarning: The use of uppercase keyword parameters is deprecated\n",
      "  \"deprecated\", DeprecationWarning)\n",
      "ERROR:root:Reference possible only for phase, scalarphase, clock, tec, tec3rd, and rotation solution tables. Ignore referencing.\n",
      "/home/albert/miniconda3/envs/tectf/lib/python3.6/site-packages/gpflow-1.3.0-py3.6.egg/gpflow/_settings.py:67: DeprecationWarning: tf_int is deprecated and will be removed at GPflow version 1.2.0. Use int_type.\n",
      "  'version 1.2.0. Use int_type.', DeprecationWarning)\n",
      "/home/albert/miniconda3/envs/tectf/lib/python3.6/site-packages/gpflow-1.3.0-py3.6.egg/gpflow/_settings.py:61: DeprecationWarning: tf_float is deprecated and will be removed at GPflow version 1.2.0. Use float_type.\n",
      "  'version 1.2.0. Use float_type.', DeprecationWarning)\n",
      "/home/albert/miniconda3/envs/tectf/lib/python3.6/site-packages/gpflow-1.3.0-py3.6.egg/gpflow/logdensities.py:91: DeprecationWarning: The 'warn' method is deprecated, use 'warning' instead\n",
      "  logger.warn('Shape of x must be 2D at computation.')\n",
      "WARNING:gpflow.logdensities:Shape of x must be 2D at computation.\n"
     ]
    },
    {
     "name": "stdout",
     "output_type": "stream",
     "text": [
      "INFO:tensorflow:Optimization terminated with:\n",
      "  Message: b'ABNORMAL_TERMINATION_IN_LNSRCH'\n",
      "  Objective function value: 553.671381\n",
      "  Number of iterations: 14\n",
      "  Number of functions evaluations: 56\n"
     ]
    },
    {
     "name": "stderr",
     "output_type": "stream",
     "text": [
      "INFO:tensorflow:Optimization terminated with:\n",
      "  Message: b'ABNORMAL_TERMINATION_IN_LNSRCH'\n",
      "  Objective function value: 553.671381\n",
      "  Number of iterations: 14\n",
      "  Number of functions evaluations: 56\n",
      "/home/albert/miniconda3/envs/tectf/lib/python3.6/site-packages/tables-3.4.4-py3.6-linux-x86_64.egg/tables/file.py:767: DeprecationWarning: The use of uppercase keyword parameters is deprecated\n",
      "  \"deprecated\", DeprecationWarning)\n",
      "/home/albert/miniconda3/envs/tectf/lib/python3.6/site-packages/tables-3.4.4-py3.6-linux-x86_64.egg/tables/file.py:767: DeprecationWarning: The use of uppercase keyword parameters is deprecated\n",
      "  \"deprecated\", DeprecationWarning)\n",
      "ERROR:root:Reference possible only for phase, scalarphase, clock, tec, tec3rd, and rotation solution tables. Ignore referencing.\n",
      "/home/albert/miniconda3/envs/tectf/lib/python3.6/site-packages/gpflow-1.3.0-py3.6.egg/gpflow/_settings.py:67: DeprecationWarning: tf_int is deprecated and will be removed at GPflow version 1.2.0. Use int_type.\n",
      "  'version 1.2.0. Use int_type.', DeprecationWarning)\n",
      "/home/albert/miniconda3/envs/tectf/lib/python3.6/site-packages/gpflow-1.3.0-py3.6.egg/gpflow/_settings.py:61: DeprecationWarning: tf_float is deprecated and will be removed at GPflow version 1.2.0. Use float_type.\n",
      "  'version 1.2.0. Use float_type.', DeprecationWarning)\n",
      "/home/albert/miniconda3/envs/tectf/lib/python3.6/site-packages/gpflow-1.3.0-py3.6.egg/gpflow/logdensities.py:91: DeprecationWarning: The 'warn' method is deprecated, use 'warning' instead\n",
      "  logger.warn('Shape of x must be 2D at computation.')\n",
      "WARNING:gpflow.logdensities:Shape of x must be 2D at computation.\n"
     ]
    },
    {
     "name": "stdout",
     "output_type": "stream",
     "text": [
      "INFO:tensorflow:Optimization terminated with:\n",
      "  Message: b'CONVERGENCE: REL_REDUCTION_OF_F_<=_FACTR*EPSMCH'\n",
      "  Objective function value: 871.700366\n",
      "  Number of iterations: 13\n",
      "  Number of functions evaluations: 29\n"
     ]
    },
    {
     "name": "stderr",
     "output_type": "stream",
     "text": [
      "INFO:tensorflow:Optimization terminated with:\n",
      "  Message: b'CONVERGENCE: REL_REDUCTION_OF_F_<=_FACTR*EPSMCH'\n",
      "  Objective function value: 871.700366\n",
      "  Number of iterations: 13\n",
      "  Number of functions evaluations: 29\n",
      "/home/albert/miniconda3/envs/tectf/lib/python3.6/site-packages/tables-3.4.4-py3.6-linux-x86_64.egg/tables/file.py:767: DeprecationWarning: The use of uppercase keyword parameters is deprecated\n",
      "  \"deprecated\", DeprecationWarning)\n",
      "/home/albert/miniconda3/envs/tectf/lib/python3.6/site-packages/tables-3.4.4-py3.6-linux-x86_64.egg/tables/file.py:767: DeprecationWarning: The use of uppercase keyword parameters is deprecated\n",
      "  \"deprecated\", DeprecationWarning)\n",
      "ERROR:root:Reference possible only for phase, scalarphase, clock, tec, tec3rd, and rotation solution tables. Ignore referencing.\n",
      "/home/albert/miniconda3/envs/tectf/lib/python3.6/site-packages/gpflow-1.3.0-py3.6.egg/gpflow/_settings.py:67: DeprecationWarning: tf_int is deprecated and will be removed at GPflow version 1.2.0. Use int_type.\n",
      "  'version 1.2.0. Use int_type.', DeprecationWarning)\n",
      "/home/albert/miniconda3/envs/tectf/lib/python3.6/site-packages/gpflow-1.3.0-py3.6.egg/gpflow/_settings.py:61: DeprecationWarning: tf_float is deprecated and will be removed at GPflow version 1.2.0. Use float_type.\n",
      "  'version 1.2.0. Use float_type.', DeprecationWarning)\n",
      "/home/albert/miniconda3/envs/tectf/lib/python3.6/site-packages/gpflow-1.3.0-py3.6.egg/gpflow/logdensities.py:91: DeprecationWarning: The 'warn' method is deprecated, use 'warning' instead\n",
      "  logger.warn('Shape of x must be 2D at computation.')\n",
      "WARNING:gpflow.logdensities:Shape of x must be 2D at computation.\n"
     ]
    },
    {
     "name": "stdout",
     "output_type": "stream",
     "text": [
      "INFO:tensorflow:Optimization terminated with:\n",
      "  Message: b'CONVERGENCE: REL_REDUCTION_OF_F_<=_FACTR*EPSMCH'\n",
      "  Objective function value: 728.039086\n",
      "  Number of iterations: 8\n",
      "  Number of functions evaluations: 47\n"
     ]
    },
    {
     "name": "stderr",
     "output_type": "stream",
     "text": [
      "INFO:tensorflow:Optimization terminated with:\n",
      "  Message: b'CONVERGENCE: REL_REDUCTION_OF_F_<=_FACTR*EPSMCH'\n",
      "  Objective function value: 728.039086\n",
      "  Number of iterations: 8\n",
      "  Number of functions evaluations: 47\n",
      "/home/albert/miniconda3/envs/tectf/lib/python3.6/site-packages/tables-3.4.4-py3.6-linux-x86_64.egg/tables/file.py:767: DeprecationWarning: The use of uppercase keyword parameters is deprecated\n",
      "  \"deprecated\", DeprecationWarning)\n",
      "/home/albert/miniconda3/envs/tectf/lib/python3.6/site-packages/tables-3.4.4-py3.6-linux-x86_64.egg/tables/file.py:767: DeprecationWarning: The use of uppercase keyword parameters is deprecated\n",
      "  \"deprecated\", DeprecationWarning)\n",
      "ERROR:root:Reference possible only for phase, scalarphase, clock, tec, tec3rd, and rotation solution tables. Ignore referencing.\n",
      "/home/albert/miniconda3/envs/tectf/lib/python3.6/site-packages/gpflow-1.3.0-py3.6.egg/gpflow/_settings.py:67: DeprecationWarning: tf_int is deprecated and will be removed at GPflow version 1.2.0. Use int_type.\n",
      "  'version 1.2.0. Use int_type.', DeprecationWarning)\n",
      "/home/albert/miniconda3/envs/tectf/lib/python3.6/site-packages/gpflow-1.3.0-py3.6.egg/gpflow/_settings.py:61: DeprecationWarning: tf_float is deprecated and will be removed at GPflow version 1.2.0. Use float_type.\n",
      "  'version 1.2.0. Use float_type.', DeprecationWarning)\n",
      "/home/albert/miniconda3/envs/tectf/lib/python3.6/site-packages/gpflow-1.3.0-py3.6.egg/gpflow/logdensities.py:91: DeprecationWarning: The 'warn' method is deprecated, use 'warning' instead\n",
      "  logger.warn('Shape of x must be 2D at computation.')\n",
      "WARNING:gpflow.logdensities:Shape of x must be 2D at computation.\n"
     ]
    },
    {
     "name": "stdout",
     "output_type": "stream",
     "text": [
      "INFO:tensorflow:Optimization terminated with:\n",
      "  Message: b'ABNORMAL_TERMINATION_IN_LNSRCH'\n",
      "  Objective function value: -317.303706\n",
      "  Number of iterations: 13\n",
      "  Number of functions evaluations: 60\n"
     ]
    },
    {
     "name": "stderr",
     "output_type": "stream",
     "text": [
      "INFO:tensorflow:Optimization terminated with:\n",
      "  Message: b'ABNORMAL_TERMINATION_IN_LNSRCH'\n",
      "  Objective function value: -317.303706\n",
      "  Number of iterations: 13\n",
      "  Number of functions evaluations: 60\n",
      "/home/albert/miniconda3/envs/tectf/lib/python3.6/site-packages/tables-3.4.4-py3.6-linux-x86_64.egg/tables/file.py:767: DeprecationWarning: The use of uppercase keyword parameters is deprecated\n",
      "  \"deprecated\", DeprecationWarning)\n",
      "/home/albert/miniconda3/envs/tectf/lib/python3.6/site-packages/tables-3.4.4-py3.6-linux-x86_64.egg/tables/file.py:767: DeprecationWarning: The use of uppercase keyword parameters is deprecated\n",
      "  \"deprecated\", DeprecationWarning)\n",
      "ERROR:root:Reference possible only for phase, scalarphase, clock, tec, tec3rd, and rotation solution tables. Ignore referencing.\n",
      "/home/albert/miniconda3/envs/tectf/lib/python3.6/site-packages/gpflow-1.3.0-py3.6.egg/gpflow/_settings.py:67: DeprecationWarning: tf_int is deprecated and will be removed at GPflow version 1.2.0. Use int_type.\n",
      "  'version 1.2.0. Use int_type.', DeprecationWarning)\n",
      "/home/albert/miniconda3/envs/tectf/lib/python3.6/site-packages/gpflow-1.3.0-py3.6.egg/gpflow/_settings.py:61: DeprecationWarning: tf_float is deprecated and will be removed at GPflow version 1.2.0. Use float_type.\n",
      "  'version 1.2.0. Use float_type.', DeprecationWarning)\n",
      "/home/albert/miniconda3/envs/tectf/lib/python3.6/site-packages/gpflow-1.3.0-py3.6.egg/gpflow/logdensities.py:91: DeprecationWarning: The 'warn' method is deprecated, use 'warning' instead\n",
      "  logger.warn('Shape of x must be 2D at computation.')\n",
      "WARNING:gpflow.logdensities:Shape of x must be 2D at computation.\n"
     ]
    },
    {
     "name": "stdout",
     "output_type": "stream",
     "text": [
      "INFO:tensorflow:Optimization terminated with:\n",
      "  Message: b'ABNORMAL_TERMINATION_IN_LNSRCH'\n",
      "  Objective function value: -1119.988029\n",
      "  Number of iterations: 16\n",
      "  Number of functions evaluations: 58\n"
     ]
    },
    {
     "name": "stderr",
     "output_type": "stream",
     "text": [
      "INFO:tensorflow:Optimization terminated with:\n",
      "  Message: b'ABNORMAL_TERMINATION_IN_LNSRCH'\n",
      "  Objective function value: -1119.988029\n",
      "  Number of iterations: 16\n",
      "  Number of functions evaluations: 58\n",
      "/home/albert/miniconda3/envs/tectf/lib/python3.6/site-packages/tables-3.4.4-py3.6-linux-x86_64.egg/tables/file.py:767: DeprecationWarning: The use of uppercase keyword parameters is deprecated\n",
      "  \"deprecated\", DeprecationWarning)\n",
      "/home/albert/miniconda3/envs/tectf/lib/python3.6/site-packages/tables-3.4.4-py3.6-linux-x86_64.egg/tables/file.py:767: DeprecationWarning: The use of uppercase keyword parameters is deprecated\n",
      "  \"deprecated\", DeprecationWarning)\n",
      "ERROR:root:Reference possible only for phase, scalarphase, clock, tec, tec3rd, and rotation solution tables. Ignore referencing.\n",
      "/home/albert/miniconda3/envs/tectf/lib/python3.6/site-packages/gpflow-1.3.0-py3.6.egg/gpflow/_settings.py:67: DeprecationWarning: tf_int is deprecated and will be removed at GPflow version 1.2.0. Use int_type.\n",
      "  'version 1.2.0. Use int_type.', DeprecationWarning)\n",
      "/home/albert/miniconda3/envs/tectf/lib/python3.6/site-packages/gpflow-1.3.0-py3.6.egg/gpflow/_settings.py:61: DeprecationWarning: tf_float is deprecated and will be removed at GPflow version 1.2.0. Use float_type.\n",
      "  'version 1.2.0. Use float_type.', DeprecationWarning)\n",
      "/home/albert/miniconda3/envs/tectf/lib/python3.6/site-packages/gpflow-1.3.0-py3.6.egg/gpflow/logdensities.py:91: DeprecationWarning: The 'warn' method is deprecated, use 'warning' instead\n",
      "  logger.warn('Shape of x must be 2D at computation.')\n",
      "WARNING:gpflow.logdensities:Shape of x must be 2D at computation.\n"
     ]
    },
    {
     "name": "stdout",
     "output_type": "stream",
     "text": [
      "INFO:tensorflow:Optimization terminated with:\n",
      "  Message: b'CONVERGENCE: REL_REDUCTION_OF_F_<=_FACTR*EPSMCH'\n",
      "  Objective function value: -1189.205644\n",
      "  Number of iterations: 14\n",
      "  Number of functions evaluations: 30\n"
     ]
    },
    {
     "name": "stderr",
     "output_type": "stream",
     "text": [
      "INFO:tensorflow:Optimization terminated with:\n",
      "  Message: b'CONVERGENCE: REL_REDUCTION_OF_F_<=_FACTR*EPSMCH'\n",
      "  Objective function value: -1189.205644\n",
      "  Number of iterations: 14\n",
      "  Number of functions evaluations: 30\n",
      "/home/albert/miniconda3/envs/tectf/lib/python3.6/site-packages/tables-3.4.4-py3.6-linux-x86_64.egg/tables/file.py:767: DeprecationWarning: The use of uppercase keyword parameters is deprecated\n",
      "  \"deprecated\", DeprecationWarning)\n",
      "/home/albert/miniconda3/envs/tectf/lib/python3.6/site-packages/tables-3.4.4-py3.6-linux-x86_64.egg/tables/file.py:767: DeprecationWarning: The use of uppercase keyword parameters is deprecated\n",
      "  \"deprecated\", DeprecationWarning)\n",
      "ERROR:root:Reference possible only for phase, scalarphase, clock, tec, tec3rd, and rotation solution tables. Ignore referencing.\n",
      "/home/albert/miniconda3/envs/tectf/lib/python3.6/site-packages/gpflow-1.3.0-py3.6.egg/gpflow/_settings.py:67: DeprecationWarning: tf_int is deprecated and will be removed at GPflow version 1.2.0. Use int_type.\n",
      "  'version 1.2.0. Use int_type.', DeprecationWarning)\n",
      "/home/albert/miniconda3/envs/tectf/lib/python3.6/site-packages/gpflow-1.3.0-py3.6.egg/gpflow/_settings.py:61: DeprecationWarning: tf_float is deprecated and will be removed at GPflow version 1.2.0. Use float_type.\n",
      "  'version 1.2.0. Use float_type.', DeprecationWarning)\n",
      "/home/albert/miniconda3/envs/tectf/lib/python3.6/site-packages/gpflow-1.3.0-py3.6.egg/gpflow/logdensities.py:91: DeprecationWarning: The 'warn' method is deprecated, use 'warning' instead\n",
      "  logger.warn('Shape of x must be 2D at computation.')\n",
      "WARNING:gpflow.logdensities:Shape of x must be 2D at computation.\n"
     ]
    },
    {
     "name": "stdout",
     "output_type": "stream",
     "text": [
      "INFO:tensorflow:Optimization terminated with:\n",
      "  Message: b'CONVERGENCE: REL_REDUCTION_OF_F_<=_FACTR*EPSMCH'\n",
      "  Objective function value: -1223.563619\n",
      "  Number of iterations: 15\n",
      "  Number of functions evaluations: 42\n"
     ]
    },
    {
     "name": "stderr",
     "output_type": "stream",
     "text": [
      "INFO:tensorflow:Optimization terminated with:\n",
      "  Message: b'CONVERGENCE: REL_REDUCTION_OF_F_<=_FACTR*EPSMCH'\n",
      "  Objective function value: -1223.563619\n",
      "  Number of iterations: 15\n",
      "  Number of functions evaluations: 42\n",
      "/home/albert/miniconda3/envs/tectf/lib/python3.6/site-packages/tables-3.4.4-py3.6-linux-x86_64.egg/tables/file.py:767: DeprecationWarning: The use of uppercase keyword parameters is deprecated\n",
      "  \"deprecated\", DeprecationWarning)\n",
      "/home/albert/miniconda3/envs/tectf/lib/python3.6/site-packages/tables-3.4.4-py3.6-linux-x86_64.egg/tables/file.py:767: DeprecationWarning: The use of uppercase keyword parameters is deprecated\n",
      "  \"deprecated\", DeprecationWarning)\n",
      "ERROR:root:Reference possible only for phase, scalarphase, clock, tec, tec3rd, and rotation solution tables. Ignore referencing.\n",
      "/home/albert/miniconda3/envs/tectf/lib/python3.6/site-packages/gpflow-1.3.0-py3.6.egg/gpflow/_settings.py:67: DeprecationWarning: tf_int is deprecated and will be removed at GPflow version 1.2.0. Use int_type.\n",
      "  'version 1.2.0. Use int_type.', DeprecationWarning)\n",
      "/home/albert/miniconda3/envs/tectf/lib/python3.6/site-packages/gpflow-1.3.0-py3.6.egg/gpflow/_settings.py:61: DeprecationWarning: tf_float is deprecated and will be removed at GPflow version 1.2.0. Use float_type.\n",
      "  'version 1.2.0. Use float_type.', DeprecationWarning)\n",
      "/home/albert/miniconda3/envs/tectf/lib/python3.6/site-packages/gpflow-1.3.0-py3.6.egg/gpflow/logdensities.py:91: DeprecationWarning: The 'warn' method is deprecated, use 'warning' instead\n",
      "  logger.warn('Shape of x must be 2D at computation.')\n",
      "WARNING:gpflow.logdensities:Shape of x must be 2D at computation.\n"
     ]
    },
    {
     "name": "stdout",
     "output_type": "stream",
     "text": [
      "INFO:tensorflow:Optimization terminated with:\n",
      "  Message: b'ABNORMAL_TERMINATION_IN_LNSRCH'\n",
      "  Objective function value: -1276.935030\n",
      "  Number of iterations: 12\n",
      "  Number of functions evaluations: 56\n"
     ]
    },
    {
     "name": "stderr",
     "output_type": "stream",
     "text": [
      "INFO:tensorflow:Optimization terminated with:\n",
      "  Message: b'ABNORMAL_TERMINATION_IN_LNSRCH'\n",
      "  Objective function value: -1276.935030\n",
      "  Number of iterations: 12\n",
      "  Number of functions evaluations: 56\n",
      "/home/albert/miniconda3/envs/tectf/lib/python3.6/site-packages/tables-3.4.4-py3.6-linux-x86_64.egg/tables/file.py:767: DeprecationWarning: The use of uppercase keyword parameters is deprecated\n",
      "  \"deprecated\", DeprecationWarning)\n",
      "/home/albert/miniconda3/envs/tectf/lib/python3.6/site-packages/tables-3.4.4-py3.6-linux-x86_64.egg/tables/file.py:767: DeprecationWarning: The use of uppercase keyword parameters is deprecated\n",
      "  \"deprecated\", DeprecationWarning)\n",
      "ERROR:root:Reference possible only for phase, scalarphase, clock, tec, tec3rd, and rotation solution tables. Ignore referencing.\n",
      "/home/albert/miniconda3/envs/tectf/lib/python3.6/site-packages/gpflow-1.3.0-py3.6.egg/gpflow/_settings.py:67: DeprecationWarning: tf_int is deprecated and will be removed at GPflow version 1.2.0. Use int_type.\n",
      "  'version 1.2.0. Use int_type.', DeprecationWarning)\n",
      "/home/albert/miniconda3/envs/tectf/lib/python3.6/site-packages/gpflow-1.3.0-py3.6.egg/gpflow/_settings.py:61: DeprecationWarning: tf_float is deprecated and will be removed at GPflow version 1.2.0. Use float_type.\n",
      "  'version 1.2.0. Use float_type.', DeprecationWarning)\n",
      "/home/albert/miniconda3/envs/tectf/lib/python3.6/site-packages/gpflow-1.3.0-py3.6.egg/gpflow/logdensities.py:91: DeprecationWarning: The 'warn' method is deprecated, use 'warning' instead\n",
      "  logger.warn('Shape of x must be 2D at computation.')\n",
      "WARNING:gpflow.logdensities:Shape of x must be 2D at computation.\n"
     ]
    },
    {
     "name": "stdout",
     "output_type": "stream",
     "text": [
      "INFO:tensorflow:Optimization terminated with:\n",
      "  Message: b'ABNORMAL_TERMINATION_IN_LNSRCH'\n",
      "  Objective function value: -1386.858871\n",
      "  Number of iterations: 17\n",
      "  Number of functions evaluations: 67\n"
     ]
    },
    {
     "name": "stderr",
     "output_type": "stream",
     "text": [
      "INFO:tensorflow:Optimization terminated with:\n",
      "  Message: b'ABNORMAL_TERMINATION_IN_LNSRCH'\n",
      "  Objective function value: -1386.858871\n",
      "  Number of iterations: 17\n",
      "  Number of functions evaluations: 67\n",
      "/home/albert/miniconda3/envs/tectf/lib/python3.6/site-packages/tables-3.4.4-py3.6-linux-x86_64.egg/tables/file.py:767: DeprecationWarning: The use of uppercase keyword parameters is deprecated\n",
      "  \"deprecated\", DeprecationWarning)\n",
      "/home/albert/miniconda3/envs/tectf/lib/python3.6/site-packages/tables-3.4.4-py3.6-linux-x86_64.egg/tables/file.py:767: DeprecationWarning: The use of uppercase keyword parameters is deprecated\n",
      "  \"deprecated\", DeprecationWarning)\n",
      "ERROR:root:Reference possible only for phase, scalarphase, clock, tec, tec3rd, and rotation solution tables. Ignore referencing.\n",
      "/home/albert/miniconda3/envs/tectf/lib/python3.6/site-packages/gpflow-1.3.0-py3.6.egg/gpflow/_settings.py:67: DeprecationWarning: tf_int is deprecated and will be removed at GPflow version 1.2.0. Use int_type.\n",
      "  'version 1.2.0. Use int_type.', DeprecationWarning)\n",
      "/home/albert/miniconda3/envs/tectf/lib/python3.6/site-packages/gpflow-1.3.0-py3.6.egg/gpflow/_settings.py:61: DeprecationWarning: tf_float is deprecated and will be removed at GPflow version 1.2.0. Use float_type.\n",
      "  'version 1.2.0. Use float_type.', DeprecationWarning)\n",
      "/home/albert/miniconda3/envs/tectf/lib/python3.6/site-packages/gpflow-1.3.0-py3.6.egg/gpflow/logdensities.py:91: DeprecationWarning: The 'warn' method is deprecated, use 'warning' instead\n",
      "  logger.warn('Shape of x must be 2D at computation.')\n",
      "WARNING:gpflow.logdensities:Shape of x must be 2D at computation.\n"
     ]
    },
    {
     "name": "stdout",
     "output_type": "stream",
     "text": [
      "INFO:tensorflow:Optimization terminated with:\n",
      "  Message: b'ABNORMAL_TERMINATION_IN_LNSRCH'\n",
      "  Objective function value: -1337.942326\n",
      "  Number of iterations: 16\n",
      "  Number of functions evaluations: 57\n"
     ]
    },
    {
     "name": "stderr",
     "output_type": "stream",
     "text": [
      "INFO:tensorflow:Optimization terminated with:\n",
      "  Message: b'ABNORMAL_TERMINATION_IN_LNSRCH'\n",
      "  Objective function value: -1337.942326\n",
      "  Number of iterations: 16\n",
      "  Number of functions evaluations: 57\n",
      "/home/albert/miniconda3/envs/tectf/lib/python3.6/site-packages/tables-3.4.4-py3.6-linux-x86_64.egg/tables/file.py:767: DeprecationWarning: The use of uppercase keyword parameters is deprecated\n",
      "  \"deprecated\", DeprecationWarning)\n",
      "/home/albert/miniconda3/envs/tectf/lib/python3.6/site-packages/tables-3.4.4-py3.6-linux-x86_64.egg/tables/file.py:767: DeprecationWarning: The use of uppercase keyword parameters is deprecated\n",
      "  \"deprecated\", DeprecationWarning)\n",
      "ERROR:root:Reference possible only for phase, scalarphase, clock, tec, tec3rd, and rotation solution tables. Ignore referencing.\n",
      "/home/albert/miniconda3/envs/tectf/lib/python3.6/site-packages/gpflow-1.3.0-py3.6.egg/gpflow/_settings.py:67: DeprecationWarning: tf_int is deprecated and will be removed at GPflow version 1.2.0. Use int_type.\n",
      "  'version 1.2.0. Use int_type.', DeprecationWarning)\n",
      "/home/albert/miniconda3/envs/tectf/lib/python3.6/site-packages/gpflow-1.3.0-py3.6.egg/gpflow/_settings.py:61: DeprecationWarning: tf_float is deprecated and will be removed at GPflow version 1.2.0. Use float_type.\n",
      "  'version 1.2.0. Use float_type.', DeprecationWarning)\n",
      "/home/albert/miniconda3/envs/tectf/lib/python3.6/site-packages/gpflow-1.3.0-py3.6.egg/gpflow/logdensities.py:91: DeprecationWarning: The 'warn' method is deprecated, use 'warning' instead\n",
      "  logger.warn('Shape of x must be 2D at computation.')\n",
      "WARNING:gpflow.logdensities:Shape of x must be 2D at computation.\n"
     ]
    },
    {
     "name": "stdout",
     "output_type": "stream",
     "text": [
      "INFO:tensorflow:Optimization terminated with:\n",
      "  Message: b'CONVERGENCE: REL_REDUCTION_OF_F_<=_FACTR*EPSMCH'\n",
      "  Objective function value: -1323.236138\n",
      "  Number of iterations: 18\n",
      "  Number of functions evaluations: 40\n"
     ]
    },
    {
     "name": "stderr",
     "output_type": "stream",
     "text": [
      "INFO:tensorflow:Optimization terminated with:\n",
      "  Message: b'CONVERGENCE: REL_REDUCTION_OF_F_<=_FACTR*EPSMCH'\n",
      "  Objective function value: -1323.236138\n",
      "  Number of iterations: 18\n",
      "  Number of functions evaluations: 40\n",
      "/home/albert/miniconda3/envs/tectf/lib/python3.6/site-packages/tables-3.4.4-py3.6-linux-x86_64.egg/tables/file.py:767: DeprecationWarning: The use of uppercase keyword parameters is deprecated\n",
      "  \"deprecated\", DeprecationWarning)\n",
      "/home/albert/miniconda3/envs/tectf/lib/python3.6/site-packages/tables-3.4.4-py3.6-linux-x86_64.egg/tables/file.py:767: DeprecationWarning: The use of uppercase keyword parameters is deprecated\n",
      "  \"deprecated\", DeprecationWarning)\n",
      "ERROR:root:Reference possible only for phase, scalarphase, clock, tec, tec3rd, and rotation solution tables. Ignore referencing.\n",
      "/home/albert/miniconda3/envs/tectf/lib/python3.6/site-packages/gpflow-1.3.0-py3.6.egg/gpflow/_settings.py:67: DeprecationWarning: tf_int is deprecated and will be removed at GPflow version 1.2.0. Use int_type.\n",
      "  'version 1.2.0. Use int_type.', DeprecationWarning)\n",
      "/home/albert/miniconda3/envs/tectf/lib/python3.6/site-packages/gpflow-1.3.0-py3.6.egg/gpflow/_settings.py:61: DeprecationWarning: tf_float is deprecated and will be removed at GPflow version 1.2.0. Use float_type.\n",
      "  'version 1.2.0. Use float_type.', DeprecationWarning)\n",
      "/home/albert/miniconda3/envs/tectf/lib/python3.6/site-packages/gpflow-1.3.0-py3.6.egg/gpflow/logdensities.py:91: DeprecationWarning: The 'warn' method is deprecated, use 'warning' instead\n",
      "  logger.warn('Shape of x must be 2D at computation.')\n",
      "WARNING:gpflow.logdensities:Shape of x must be 2D at computation.\n"
     ]
    },
    {
     "name": "stdout",
     "output_type": "stream",
     "text": [
      "INFO:tensorflow:Optimization terminated with:\n",
      "  Message: b'ABNORMAL_TERMINATION_IN_LNSRCH'\n",
      "  Objective function value: -1358.597602\n",
      "  Number of iterations: 15\n",
      "  Number of functions evaluations: 61\n"
     ]
    },
    {
     "name": "stderr",
     "output_type": "stream",
     "text": [
      "INFO:tensorflow:Optimization terminated with:\n",
      "  Message: b'ABNORMAL_TERMINATION_IN_LNSRCH'\n",
      "  Objective function value: -1358.597602\n",
      "  Number of iterations: 15\n",
      "  Number of functions evaluations: 61\n",
      "/home/albert/miniconda3/envs/tectf/lib/python3.6/site-packages/tables-3.4.4-py3.6-linux-x86_64.egg/tables/file.py:767: DeprecationWarning: The use of uppercase keyword parameters is deprecated\n",
      "  \"deprecated\", DeprecationWarning)\n",
      "/home/albert/miniconda3/envs/tectf/lib/python3.6/site-packages/tables-3.4.4-py3.6-linux-x86_64.egg/tables/file.py:767: DeprecationWarning: The use of uppercase keyword parameters is deprecated\n",
      "  \"deprecated\", DeprecationWarning)\n",
      "ERROR:root:Reference possible only for phase, scalarphase, clock, tec, tec3rd, and rotation solution tables. Ignore referencing.\n",
      "/home/albert/miniconda3/envs/tectf/lib/python3.6/site-packages/gpflow-1.3.0-py3.6.egg/gpflow/_settings.py:67: DeprecationWarning: tf_int is deprecated and will be removed at GPflow version 1.2.0. Use int_type.\n",
      "  'version 1.2.0. Use int_type.', DeprecationWarning)\n",
      "/home/albert/miniconda3/envs/tectf/lib/python3.6/site-packages/gpflow-1.3.0-py3.6.egg/gpflow/_settings.py:61: DeprecationWarning: tf_float is deprecated and will be removed at GPflow version 1.2.0. Use float_type.\n",
      "  'version 1.2.0. Use float_type.', DeprecationWarning)\n",
      "/home/albert/miniconda3/envs/tectf/lib/python3.6/site-packages/gpflow-1.3.0-py3.6.egg/gpflow/logdensities.py:91: DeprecationWarning: The 'warn' method is deprecated, use 'warning' instead\n",
      "  logger.warn('Shape of x must be 2D at computation.')\n",
      "WARNING:gpflow.logdensities:Shape of x must be 2D at computation.\n"
     ]
    },
    {
     "name": "stdout",
     "output_type": "stream",
     "text": [
      "INFO:tensorflow:Optimization terminated with:\n",
      "  Message: b'ABNORMAL_TERMINATION_IN_LNSRCH'\n",
      "  Objective function value: -1329.682229\n",
      "  Number of iterations: 16\n",
      "  Number of functions evaluations: 83\n"
     ]
    },
    {
     "name": "stderr",
     "output_type": "stream",
     "text": [
      "INFO:tensorflow:Optimization terminated with:\n",
      "  Message: b'ABNORMAL_TERMINATION_IN_LNSRCH'\n",
      "  Objective function value: -1329.682229\n",
      "  Number of iterations: 16\n",
      "  Number of functions evaluations: 83\n",
      "/home/albert/miniconda3/envs/tectf/lib/python3.6/site-packages/tables-3.4.4-py3.6-linux-x86_64.egg/tables/file.py:767: DeprecationWarning: The use of uppercase keyword parameters is deprecated\n",
      "  \"deprecated\", DeprecationWarning)\n",
      "/home/albert/miniconda3/envs/tectf/lib/python3.6/site-packages/tables-3.4.4-py3.6-linux-x86_64.egg/tables/file.py:767: DeprecationWarning: The use of uppercase keyword parameters is deprecated\n",
      "  \"deprecated\", DeprecationWarning)\n",
      "ERROR:root:Reference possible only for phase, scalarphase, clock, tec, tec3rd, and rotation solution tables. Ignore referencing.\n",
      "/home/albert/miniconda3/envs/tectf/lib/python3.6/site-packages/gpflow-1.3.0-py3.6.egg/gpflow/_settings.py:67: DeprecationWarning: tf_int is deprecated and will be removed at GPflow version 1.2.0. Use int_type.\n",
      "  'version 1.2.0. Use int_type.', DeprecationWarning)\n",
      "/home/albert/miniconda3/envs/tectf/lib/python3.6/site-packages/gpflow-1.3.0-py3.6.egg/gpflow/_settings.py:61: DeprecationWarning: tf_float is deprecated and will be removed at GPflow version 1.2.0. Use float_type.\n",
      "  'version 1.2.0. Use float_type.', DeprecationWarning)\n",
      "/home/albert/miniconda3/envs/tectf/lib/python3.6/site-packages/gpflow-1.3.0-py3.6.egg/gpflow/logdensities.py:91: DeprecationWarning: The 'warn' method is deprecated, use 'warning' instead\n",
      "  logger.warn('Shape of x must be 2D at computation.')\n",
      "WARNING:gpflow.logdensities:Shape of x must be 2D at computation.\n"
     ]
    },
    {
     "name": "stdout",
     "output_type": "stream",
     "text": [
      "INFO:tensorflow:Optimization terminated with:\n",
      "  Message: b'ABNORMAL_TERMINATION_IN_LNSRCH'\n",
      "  Objective function value: -1302.361808\n",
      "  Number of iterations: 12\n",
      "  Number of functions evaluations: 53\n"
     ]
    },
    {
     "name": "stderr",
     "output_type": "stream",
     "text": [
      "INFO:tensorflow:Optimization terminated with:\n",
      "  Message: b'ABNORMAL_TERMINATION_IN_LNSRCH'\n",
      "  Objective function value: -1302.361808\n",
      "  Number of iterations: 12\n",
      "  Number of functions evaluations: 53\n",
      "/home/albert/miniconda3/envs/tectf/lib/python3.6/site-packages/tables-3.4.4-py3.6-linux-x86_64.egg/tables/file.py:767: DeprecationWarning: The use of uppercase keyword parameters is deprecated\n",
      "  \"deprecated\", DeprecationWarning)\n",
      "/home/albert/miniconda3/envs/tectf/lib/python3.6/site-packages/tables-3.4.4-py3.6-linux-x86_64.egg/tables/file.py:767: DeprecationWarning: The use of uppercase keyword parameters is deprecated\n",
      "  \"deprecated\", DeprecationWarning)\n",
      "ERROR:root:Reference possible only for phase, scalarphase, clock, tec, tec3rd, and rotation solution tables. Ignore referencing.\n",
      "/home/albert/miniconda3/envs/tectf/lib/python3.6/site-packages/gpflow-1.3.0-py3.6.egg/gpflow/_settings.py:67: DeprecationWarning: tf_int is deprecated and will be removed at GPflow version 1.2.0. Use int_type.\n",
      "  'version 1.2.0. Use int_type.', DeprecationWarning)\n",
      "/home/albert/miniconda3/envs/tectf/lib/python3.6/site-packages/gpflow-1.3.0-py3.6.egg/gpflow/_settings.py:61: DeprecationWarning: tf_float is deprecated and will be removed at GPflow version 1.2.0. Use float_type.\n",
      "  'version 1.2.0. Use float_type.', DeprecationWarning)\n",
      "/home/albert/miniconda3/envs/tectf/lib/python3.6/site-packages/gpflow-1.3.0-py3.6.egg/gpflow/logdensities.py:91: DeprecationWarning: The 'warn' method is deprecated, use 'warning' instead\n",
      "  logger.warn('Shape of x must be 2D at computation.')\n",
      "WARNING:gpflow.logdensities:Shape of x must be 2D at computation.\n"
     ]
    },
    {
     "name": "stdout",
     "output_type": "stream",
     "text": [
      "INFO:tensorflow:Optimization terminated with:\n",
      "  Message: b'ABNORMAL_TERMINATION_IN_LNSRCH'\n",
      "  Objective function value: -1307.092490\n",
      "  Number of iterations: 17\n",
      "  Number of functions evaluations: 75\n"
     ]
    },
    {
     "name": "stderr",
     "output_type": "stream",
     "text": [
      "INFO:tensorflow:Optimization terminated with:\n",
      "  Message: b'ABNORMAL_TERMINATION_IN_LNSRCH'\n",
      "  Objective function value: -1307.092490\n",
      "  Number of iterations: 17\n",
      "  Number of functions evaluations: 75\n",
      "/home/albert/miniconda3/envs/tectf/lib/python3.6/site-packages/tables-3.4.4-py3.6-linux-x86_64.egg/tables/file.py:767: DeprecationWarning: The use of uppercase keyword parameters is deprecated\n",
      "  \"deprecated\", DeprecationWarning)\n",
      "/home/albert/miniconda3/envs/tectf/lib/python3.6/site-packages/tables-3.4.4-py3.6-linux-x86_64.egg/tables/file.py:767: DeprecationWarning: The use of uppercase keyword parameters is deprecated\n",
      "  \"deprecated\", DeprecationWarning)\n",
      "ERROR:root:Reference possible only for phase, scalarphase, clock, tec, tec3rd, and rotation solution tables. Ignore referencing.\n",
      "/home/albert/miniconda3/envs/tectf/lib/python3.6/site-packages/gpflow-1.3.0-py3.6.egg/gpflow/_settings.py:67: DeprecationWarning: tf_int is deprecated and will be removed at GPflow version 1.2.0. Use int_type.\n",
      "  'version 1.2.0. Use int_type.', DeprecationWarning)\n",
      "/home/albert/miniconda3/envs/tectf/lib/python3.6/site-packages/gpflow-1.3.0-py3.6.egg/gpflow/_settings.py:61: DeprecationWarning: tf_float is deprecated and will be removed at GPflow version 1.2.0. Use float_type.\n",
      "  'version 1.2.0. Use float_type.', DeprecationWarning)\n",
      "/home/albert/miniconda3/envs/tectf/lib/python3.6/site-packages/gpflow-1.3.0-py3.6.egg/gpflow/logdensities.py:91: DeprecationWarning: The 'warn' method is deprecated, use 'warning' instead\n",
      "  logger.warn('Shape of x must be 2D at computation.')\n",
      "WARNING:gpflow.logdensities:Shape of x must be 2D at computation.\n"
     ]
    },
    {
     "name": "stdout",
     "output_type": "stream",
     "text": [
      "INFO:tensorflow:Optimization terminated with:\n",
      "  Message: b'CONVERGENCE: REL_REDUCTION_OF_F_<=_FACTR*EPSMCH'\n",
      "  Objective function value: -1293.030830\n",
      "  Number of iterations: 14\n",
      "  Number of functions evaluations: 95\n"
     ]
    },
    {
     "name": "stderr",
     "output_type": "stream",
     "text": [
      "INFO:tensorflow:Optimization terminated with:\n",
      "  Message: b'CONVERGENCE: REL_REDUCTION_OF_F_<=_FACTR*EPSMCH'\n",
      "  Objective function value: -1293.030830\n",
      "  Number of iterations: 14\n",
      "  Number of functions evaluations: 95\n",
      "/home/albert/miniconda3/envs/tectf/lib/python3.6/site-packages/tables-3.4.4-py3.6-linux-x86_64.egg/tables/file.py:767: DeprecationWarning: The use of uppercase keyword parameters is deprecated\n",
      "  \"deprecated\", DeprecationWarning)\n",
      "/home/albert/miniconda3/envs/tectf/lib/python3.6/site-packages/tables-3.4.4-py3.6-linux-x86_64.egg/tables/file.py:767: DeprecationWarning: The use of uppercase keyword parameters is deprecated\n",
      "  \"deprecated\", DeprecationWarning)\n",
      "ERROR:root:Reference possible only for phase, scalarphase, clock, tec, tec3rd, and rotation solution tables. Ignore referencing.\n",
      "/home/albert/miniconda3/envs/tectf/lib/python3.6/site-packages/gpflow-1.3.0-py3.6.egg/gpflow/_settings.py:67: DeprecationWarning: tf_int is deprecated and will be removed at GPflow version 1.2.0. Use int_type.\n",
      "  'version 1.2.0. Use int_type.', DeprecationWarning)\n",
      "/home/albert/miniconda3/envs/tectf/lib/python3.6/site-packages/gpflow-1.3.0-py3.6.egg/gpflow/_settings.py:61: DeprecationWarning: tf_float is deprecated and will be removed at GPflow version 1.2.0. Use float_type.\n",
      "  'version 1.2.0. Use float_type.', DeprecationWarning)\n",
      "/home/albert/miniconda3/envs/tectf/lib/python3.6/site-packages/gpflow-1.3.0-py3.6.egg/gpflow/logdensities.py:91: DeprecationWarning: The 'warn' method is deprecated, use 'warning' instead\n",
      "  logger.warn('Shape of x must be 2D at computation.')\n",
      "WARNING:gpflow.logdensities:Shape of x must be 2D at computation.\n"
     ]
    },
    {
     "name": "stdout",
     "output_type": "stream",
     "text": [
      "INFO:tensorflow:Optimization terminated with:\n",
      "  Message: b'CONVERGENCE: REL_REDUCTION_OF_F_<=_FACTR*EPSMCH'\n",
      "  Objective function value: -1282.733992\n",
      "  Number of iterations: 11\n",
      "  Number of functions evaluations: 27\n"
     ]
    },
    {
     "name": "stderr",
     "output_type": "stream",
     "text": [
      "INFO:tensorflow:Optimization terminated with:\n",
      "  Message: b'CONVERGENCE: REL_REDUCTION_OF_F_<=_FACTR*EPSMCH'\n",
      "  Objective function value: -1282.733992\n",
      "  Number of iterations: 11\n",
      "  Number of functions evaluations: 27\n",
      "/home/albert/miniconda3/envs/tectf/lib/python3.6/site-packages/tables-3.4.4-py3.6-linux-x86_64.egg/tables/file.py:767: DeprecationWarning: The use of uppercase keyword parameters is deprecated\n",
      "  \"deprecated\", DeprecationWarning)\n",
      "/home/albert/miniconda3/envs/tectf/lib/python3.6/site-packages/tables-3.4.4-py3.6-linux-x86_64.egg/tables/file.py:767: DeprecationWarning: The use of uppercase keyword parameters is deprecated\n",
      "  \"deprecated\", DeprecationWarning)\n",
      "ERROR:root:Reference possible only for phase, scalarphase, clock, tec, tec3rd, and rotation solution tables. Ignore referencing.\n",
      "/home/albert/miniconda3/envs/tectf/lib/python3.6/site-packages/gpflow-1.3.0-py3.6.egg/gpflow/_settings.py:67: DeprecationWarning: tf_int is deprecated and will be removed at GPflow version 1.2.0. Use int_type.\n",
      "  'version 1.2.0. Use int_type.', DeprecationWarning)\n",
      "/home/albert/miniconda3/envs/tectf/lib/python3.6/site-packages/gpflow-1.3.0-py3.6.egg/gpflow/_settings.py:61: DeprecationWarning: tf_float is deprecated and will be removed at GPflow version 1.2.0. Use float_type.\n",
      "  'version 1.2.0. Use float_type.', DeprecationWarning)\n",
      "/home/albert/miniconda3/envs/tectf/lib/python3.6/site-packages/gpflow-1.3.0-py3.6.egg/gpflow/logdensities.py:91: DeprecationWarning: The 'warn' method is deprecated, use 'warning' instead\n",
      "  logger.warn('Shape of x must be 2D at computation.')\n",
      "WARNING:gpflow.logdensities:Shape of x must be 2D at computation.\n"
     ]
    },
    {
     "name": "stdout",
     "output_type": "stream",
     "text": [
      "INFO:tensorflow:Optimization terminated with:\n",
      "  Message: b'ABNORMAL_TERMINATION_IN_LNSRCH'\n",
      "  Objective function value: -1316.790800\n",
      "  Number of iterations: 12\n",
      "  Number of functions evaluations: 53\n"
     ]
    },
    {
     "name": "stderr",
     "output_type": "stream",
     "text": [
      "INFO:tensorflow:Optimization terminated with:\n",
      "  Message: b'ABNORMAL_TERMINATION_IN_LNSRCH'\n",
      "  Objective function value: -1316.790800\n",
      "  Number of iterations: 12\n",
      "  Number of functions evaluations: 53\n",
      "/home/albert/miniconda3/envs/tectf/lib/python3.6/site-packages/tables-3.4.4-py3.6-linux-x86_64.egg/tables/file.py:767: DeprecationWarning: The use of uppercase keyword parameters is deprecated\n",
      "  \"deprecated\", DeprecationWarning)\n",
      "/home/albert/miniconda3/envs/tectf/lib/python3.6/site-packages/tables-3.4.4-py3.6-linux-x86_64.egg/tables/file.py:767: DeprecationWarning: The use of uppercase keyword parameters is deprecated\n",
      "  \"deprecated\", DeprecationWarning)\n",
      "ERROR:root:Reference possible only for phase, scalarphase, clock, tec, tec3rd, and rotation solution tables. Ignore referencing.\n",
      "/home/albert/miniconda3/envs/tectf/lib/python3.6/site-packages/gpflow-1.3.0-py3.6.egg/gpflow/_settings.py:67: DeprecationWarning: tf_int is deprecated and will be removed at GPflow version 1.2.0. Use int_type.\n",
      "  'version 1.2.0. Use int_type.', DeprecationWarning)\n",
      "/home/albert/miniconda3/envs/tectf/lib/python3.6/site-packages/gpflow-1.3.0-py3.6.egg/gpflow/_settings.py:61: DeprecationWarning: tf_float is deprecated and will be removed at GPflow version 1.2.0. Use float_type.\n",
      "  'version 1.2.0. Use float_type.', DeprecationWarning)\n",
      "/home/albert/miniconda3/envs/tectf/lib/python3.6/site-packages/gpflow-1.3.0-py3.6.egg/gpflow/logdensities.py:91: DeprecationWarning: The 'warn' method is deprecated, use 'warning' instead\n",
      "  logger.warn('Shape of x must be 2D at computation.')\n",
      "WARNING:gpflow.logdensities:Shape of x must be 2D at computation.\n"
     ]
    },
    {
     "name": "stdout",
     "output_type": "stream",
     "text": [
      "INFO:tensorflow:Optimization terminated with:\n",
      "  Message: b'ABNORMAL_TERMINATION_IN_LNSRCH'\n",
      "  Objective function value: -1360.190119\n",
      "  Number of iterations: 17\n",
      "  Number of functions evaluations: 110\n"
     ]
    },
    {
     "name": "stderr",
     "output_type": "stream",
     "text": [
      "INFO:tensorflow:Optimization terminated with:\n",
      "  Message: b'ABNORMAL_TERMINATION_IN_LNSRCH'\n",
      "  Objective function value: -1360.190119\n",
      "  Number of iterations: 17\n",
      "  Number of functions evaluations: 110\n",
      "/home/albert/miniconda3/envs/tectf/lib/python3.6/site-packages/tables-3.4.4-py3.6-linux-x86_64.egg/tables/file.py:767: DeprecationWarning: The use of uppercase keyword parameters is deprecated\n",
      "  \"deprecated\", DeprecationWarning)\n",
      "/home/albert/miniconda3/envs/tectf/lib/python3.6/site-packages/tables-3.4.4-py3.6-linux-x86_64.egg/tables/file.py:767: DeprecationWarning: The use of uppercase keyword parameters is deprecated\n",
      "  \"deprecated\", DeprecationWarning)\n",
      "ERROR:root:Reference possible only for phase, scalarphase, clock, tec, tec3rd, and rotation solution tables. Ignore referencing.\n",
      "/home/albert/miniconda3/envs/tectf/lib/python3.6/site-packages/gpflow-1.3.0-py3.6.egg/gpflow/_settings.py:67: DeprecationWarning: tf_int is deprecated and will be removed at GPflow version 1.2.0. Use int_type.\n",
      "  'version 1.2.0. Use int_type.', DeprecationWarning)\n",
      "/home/albert/miniconda3/envs/tectf/lib/python3.6/site-packages/gpflow-1.3.0-py3.6.egg/gpflow/_settings.py:61: DeprecationWarning: tf_float is deprecated and will be removed at GPflow version 1.2.0. Use float_type.\n",
      "  'version 1.2.0. Use float_type.', DeprecationWarning)\n",
      "/home/albert/miniconda3/envs/tectf/lib/python3.6/site-packages/gpflow-1.3.0-py3.6.egg/gpflow/logdensities.py:91: DeprecationWarning: The 'warn' method is deprecated, use 'warning' instead\n",
      "  logger.warn('Shape of x must be 2D at computation.')\n",
      "WARNING:gpflow.logdensities:Shape of x must be 2D at computation.\n"
     ]
    },
    {
     "name": "stdout",
     "output_type": "stream",
     "text": [
      "INFO:tensorflow:Optimization terminated with:\n",
      "  Message: b'ABNORMAL_TERMINATION_IN_LNSRCH'\n",
      "  Objective function value: -1409.746130\n",
      "  Number of iterations: 16\n",
      "  Number of functions evaluations: 57\n"
     ]
    },
    {
     "name": "stderr",
     "output_type": "stream",
     "text": [
      "INFO:tensorflow:Optimization terminated with:\n",
      "  Message: b'ABNORMAL_TERMINATION_IN_LNSRCH'\n",
      "  Objective function value: -1409.746130\n",
      "  Number of iterations: 16\n",
      "  Number of functions evaluations: 57\n",
      "/home/albert/miniconda3/envs/tectf/lib/python3.6/site-packages/tables-3.4.4-py3.6-linux-x86_64.egg/tables/file.py:767: DeprecationWarning: The use of uppercase keyword parameters is deprecated\n",
      "  \"deprecated\", DeprecationWarning)\n",
      "/home/albert/miniconda3/envs/tectf/lib/python3.6/site-packages/tables-3.4.4-py3.6-linux-x86_64.egg/tables/file.py:767: DeprecationWarning: The use of uppercase keyword parameters is deprecated\n",
      "  \"deprecated\", DeprecationWarning)\n",
      "ERROR:root:Reference possible only for phase, scalarphase, clock, tec, tec3rd, and rotation solution tables. Ignore referencing.\n",
      "/home/albert/miniconda3/envs/tectf/lib/python3.6/site-packages/gpflow-1.3.0-py3.6.egg/gpflow/_settings.py:67: DeprecationWarning: tf_int is deprecated and will be removed at GPflow version 1.2.0. Use int_type.\n",
      "  'version 1.2.0. Use int_type.', DeprecationWarning)\n",
      "/home/albert/miniconda3/envs/tectf/lib/python3.6/site-packages/gpflow-1.3.0-py3.6.egg/gpflow/_settings.py:61: DeprecationWarning: tf_float is deprecated and will be removed at GPflow version 1.2.0. Use float_type.\n",
      "  'version 1.2.0. Use float_type.', DeprecationWarning)\n",
      "/home/albert/miniconda3/envs/tectf/lib/python3.6/site-packages/gpflow-1.3.0-py3.6.egg/gpflow/logdensities.py:91: DeprecationWarning: The 'warn' method is deprecated, use 'warning' instead\n",
      "  logger.warn('Shape of x must be 2D at computation.')\n",
      "WARNING:gpflow.logdensities:Shape of x must be 2D at computation.\n"
     ]
    },
    {
     "name": "stdout",
     "output_type": "stream",
     "text": [
      "INFO:tensorflow:Optimization terminated with:\n",
      "  Message: b'ABNORMAL_TERMINATION_IN_LNSRCH'\n",
      "  Objective function value: -1396.213242\n",
      "  Number of iterations: 15\n",
      "  Number of functions evaluations: 68\n"
     ]
    },
    {
     "name": "stderr",
     "output_type": "stream",
     "text": [
      "INFO:tensorflow:Optimization terminated with:\n",
      "  Message: b'ABNORMAL_TERMINATION_IN_LNSRCH'\n",
      "  Objective function value: -1396.213242\n",
      "  Number of iterations: 15\n",
      "  Number of functions evaluations: 68\n",
      "/home/albert/miniconda3/envs/tectf/lib/python3.6/site-packages/tables-3.4.4-py3.6-linux-x86_64.egg/tables/file.py:767: DeprecationWarning: The use of uppercase keyword parameters is deprecated\n",
      "  \"deprecated\", DeprecationWarning)\n",
      "/home/albert/miniconda3/envs/tectf/lib/python3.6/site-packages/tables-3.4.4-py3.6-linux-x86_64.egg/tables/file.py:767: DeprecationWarning: The use of uppercase keyword parameters is deprecated\n",
      "  \"deprecated\", DeprecationWarning)\n",
      "ERROR:root:Reference possible only for phase, scalarphase, clock, tec, tec3rd, and rotation solution tables. Ignore referencing.\n",
      "/home/albert/miniconda3/envs/tectf/lib/python3.6/site-packages/gpflow-1.3.0-py3.6.egg/gpflow/_settings.py:67: DeprecationWarning: tf_int is deprecated and will be removed at GPflow version 1.2.0. Use int_type.\n",
      "  'version 1.2.0. Use int_type.', DeprecationWarning)\n",
      "/home/albert/miniconda3/envs/tectf/lib/python3.6/site-packages/gpflow-1.3.0-py3.6.egg/gpflow/_settings.py:61: DeprecationWarning: tf_float is deprecated and will be removed at GPflow version 1.2.0. Use float_type.\n",
      "  'version 1.2.0. Use float_type.', DeprecationWarning)\n",
      "/home/albert/miniconda3/envs/tectf/lib/python3.6/site-packages/gpflow-1.3.0-py3.6.egg/gpflow/logdensities.py:91: DeprecationWarning: The 'warn' method is deprecated, use 'warning' instead\n",
      "  logger.warn('Shape of x must be 2D at computation.')\n",
      "WARNING:gpflow.logdensities:Shape of x must be 2D at computation.\n"
     ]
    },
    {
     "name": "stdout",
     "output_type": "stream",
     "text": [
      "INFO:tensorflow:Optimization terminated with:\n",
      "  Message: b'ABNORMAL_TERMINATION_IN_LNSRCH'\n",
      "  Objective function value: -1239.658736\n",
      "  Number of iterations: 15\n",
      "  Number of functions evaluations: 100\n"
     ]
    },
    {
     "name": "stderr",
     "output_type": "stream",
     "text": [
      "INFO:tensorflow:Optimization terminated with:\n",
      "  Message: b'ABNORMAL_TERMINATION_IN_LNSRCH'\n",
      "  Objective function value: -1239.658736\n",
      "  Number of iterations: 15\n",
      "  Number of functions evaluations: 100\n",
      "/home/albert/miniconda3/envs/tectf/lib/python3.6/site-packages/tables-3.4.4-py3.6-linux-x86_64.egg/tables/file.py:767: DeprecationWarning: The use of uppercase keyword parameters is deprecated\n",
      "  \"deprecated\", DeprecationWarning)\n",
      "/home/albert/miniconda3/envs/tectf/lib/python3.6/site-packages/tables-3.4.4-py3.6-linux-x86_64.egg/tables/file.py:767: DeprecationWarning: The use of uppercase keyword parameters is deprecated\n",
      "  \"deprecated\", DeprecationWarning)\n",
      "ERROR:root:Reference possible only for phase, scalarphase, clock, tec, tec3rd, and rotation solution tables. Ignore referencing.\n",
      "/home/albert/miniconda3/envs/tectf/lib/python3.6/site-packages/gpflow-1.3.0-py3.6.egg/gpflow/_settings.py:67: DeprecationWarning: tf_int is deprecated and will be removed at GPflow version 1.2.0. Use int_type.\n",
      "  'version 1.2.0. Use int_type.', DeprecationWarning)\n",
      "/home/albert/miniconda3/envs/tectf/lib/python3.6/site-packages/gpflow-1.3.0-py3.6.egg/gpflow/_settings.py:61: DeprecationWarning: tf_float is deprecated and will be removed at GPflow version 1.2.0. Use float_type.\n",
      "  'version 1.2.0. Use float_type.', DeprecationWarning)\n",
      "/home/albert/miniconda3/envs/tectf/lib/python3.6/site-packages/gpflow-1.3.0-py3.6.egg/gpflow/logdensities.py:91: DeprecationWarning: The 'warn' method is deprecated, use 'warning' instead\n",
      "  logger.warn('Shape of x must be 2D at computation.')\n",
      "WARNING:gpflow.logdensities:Shape of x must be 2D at computation.\n"
     ]
    },
    {
     "name": "stdout",
     "output_type": "stream",
     "text": [
      "INFO:tensorflow:Optimization terminated with:\n",
      "  Message: b'CONVERGENCE: REL_REDUCTION_OF_F_<=_FACTR*EPSMCH'\n",
      "  Objective function value: -1222.691825\n",
      "  Number of iterations: 15\n",
      "  Number of functions evaluations: 53\n"
     ]
    },
    {
     "name": "stderr",
     "output_type": "stream",
     "text": [
      "INFO:tensorflow:Optimization terminated with:\n",
      "  Message: b'CONVERGENCE: REL_REDUCTION_OF_F_<=_FACTR*EPSMCH'\n",
      "  Objective function value: -1222.691825\n",
      "  Number of iterations: 15\n",
      "  Number of functions evaluations: 53\n",
      "/home/albert/miniconda3/envs/tectf/lib/python3.6/site-packages/tables-3.4.4-py3.6-linux-x86_64.egg/tables/file.py:767: DeprecationWarning: The use of uppercase keyword parameters is deprecated\n",
      "  \"deprecated\", DeprecationWarning)\n",
      "/home/albert/miniconda3/envs/tectf/lib/python3.6/site-packages/tables-3.4.4-py3.6-linux-x86_64.egg/tables/file.py:767: DeprecationWarning: The use of uppercase keyword parameters is deprecated\n",
      "  \"deprecated\", DeprecationWarning)\n",
      "ERROR:root:Reference possible only for phase, scalarphase, clock, tec, tec3rd, and rotation solution tables. Ignore referencing.\n",
      "/home/albert/miniconda3/envs/tectf/lib/python3.6/site-packages/gpflow-1.3.0-py3.6.egg/gpflow/_settings.py:67: DeprecationWarning: tf_int is deprecated and will be removed at GPflow version 1.2.0. Use int_type.\n",
      "  'version 1.2.0. Use int_type.', DeprecationWarning)\n",
      "/home/albert/miniconda3/envs/tectf/lib/python3.6/site-packages/gpflow-1.3.0-py3.6.egg/gpflow/_settings.py:61: DeprecationWarning: tf_float is deprecated and will be removed at GPflow version 1.2.0. Use float_type.\n",
      "  'version 1.2.0. Use float_type.', DeprecationWarning)\n",
      "/home/albert/miniconda3/envs/tectf/lib/python3.6/site-packages/gpflow-1.3.0-py3.6.egg/gpflow/logdensities.py:91: DeprecationWarning: The 'warn' method is deprecated, use 'warning' instead\n",
      "  logger.warn('Shape of x must be 2D at computation.')\n",
      "WARNING:gpflow.logdensities:Shape of x must be 2D at computation.\n"
     ]
    },
    {
     "name": "stdout",
     "output_type": "stream",
     "text": [
      "INFO:tensorflow:Optimization terminated with:\n",
      "  Message: b'ABNORMAL_TERMINATION_IN_LNSRCH'\n",
      "  Objective function value: -1299.534311\n",
      "  Number of iterations: 16\n",
      "  Number of functions evaluations: 101\n"
     ]
    },
    {
     "name": "stderr",
     "output_type": "stream",
     "text": [
      "INFO:tensorflow:Optimization terminated with:\n",
      "  Message: b'ABNORMAL_TERMINATION_IN_LNSRCH'\n",
      "  Objective function value: -1299.534311\n",
      "  Number of iterations: 16\n",
      "  Number of functions evaluations: 101\n",
      "/home/albert/miniconda3/envs/tectf/lib/python3.6/site-packages/tables-3.4.4-py3.6-linux-x86_64.egg/tables/file.py:767: DeprecationWarning: The use of uppercase keyword parameters is deprecated\n",
      "  \"deprecated\", DeprecationWarning)\n",
      "/home/albert/miniconda3/envs/tectf/lib/python3.6/site-packages/tables-3.4.4-py3.6-linux-x86_64.egg/tables/file.py:767: DeprecationWarning: The use of uppercase keyword parameters is deprecated\n",
      "  \"deprecated\", DeprecationWarning)\n",
      "ERROR:root:Reference possible only for phase, scalarphase, clock, tec, tec3rd, and rotation solution tables. Ignore referencing.\n",
      "/home/albert/miniconda3/envs/tectf/lib/python3.6/site-packages/gpflow-1.3.0-py3.6.egg/gpflow/_settings.py:67: DeprecationWarning: tf_int is deprecated and will be removed at GPflow version 1.2.0. Use int_type.\n",
      "  'version 1.2.0. Use int_type.', DeprecationWarning)\n",
      "/home/albert/miniconda3/envs/tectf/lib/python3.6/site-packages/gpflow-1.3.0-py3.6.egg/gpflow/_settings.py:61: DeprecationWarning: tf_float is deprecated and will be removed at GPflow version 1.2.0. Use float_type.\n",
      "  'version 1.2.0. Use float_type.', DeprecationWarning)\n",
      "/home/albert/miniconda3/envs/tectf/lib/python3.6/site-packages/gpflow-1.3.0-py3.6.egg/gpflow/logdensities.py:91: DeprecationWarning: The 'warn' method is deprecated, use 'warning' instead\n",
      "  logger.warn('Shape of x must be 2D at computation.')\n",
      "WARNING:gpflow.logdensities:Shape of x must be 2D at computation.\n"
     ]
    },
    {
     "name": "stdout",
     "output_type": "stream",
     "text": [
      "INFO:tensorflow:Optimization terminated with:\n",
      "  Message: b'CONVERGENCE: REL_REDUCTION_OF_F_<=_FACTR*EPSMCH'\n",
      "  Objective function value: -1327.825658\n",
      "  Number of iterations: 16\n",
      "  Number of functions evaluations: 75\n"
     ]
    },
    {
     "name": "stderr",
     "output_type": "stream",
     "text": [
      "INFO:tensorflow:Optimization terminated with:\n",
      "  Message: b'CONVERGENCE: REL_REDUCTION_OF_F_<=_FACTR*EPSMCH'\n",
      "  Objective function value: -1327.825658\n",
      "  Number of iterations: 16\n",
      "  Number of functions evaluations: 75\n",
      "/home/albert/miniconda3/envs/tectf/lib/python3.6/site-packages/tables-3.4.4-py3.6-linux-x86_64.egg/tables/file.py:767: DeprecationWarning: The use of uppercase keyword parameters is deprecated\n",
      "  \"deprecated\", DeprecationWarning)\n",
      "/home/albert/miniconda3/envs/tectf/lib/python3.6/site-packages/tables-3.4.4-py3.6-linux-x86_64.egg/tables/file.py:767: DeprecationWarning: The use of uppercase keyword parameters is deprecated\n",
      "  \"deprecated\", DeprecationWarning)\n",
      "ERROR:root:Reference possible only for phase, scalarphase, clock, tec, tec3rd, and rotation solution tables. Ignore referencing.\n",
      "/home/albert/miniconda3/envs/tectf/lib/python3.6/site-packages/gpflow-1.3.0-py3.6.egg/gpflow/_settings.py:67: DeprecationWarning: tf_int is deprecated and will be removed at GPflow version 1.2.0. Use int_type.\n",
      "  'version 1.2.0. Use int_type.', DeprecationWarning)\n",
      "/home/albert/miniconda3/envs/tectf/lib/python3.6/site-packages/gpflow-1.3.0-py3.6.egg/gpflow/_settings.py:61: DeprecationWarning: tf_float is deprecated and will be removed at GPflow version 1.2.0. Use float_type.\n",
      "  'version 1.2.0. Use float_type.', DeprecationWarning)\n",
      "/home/albert/miniconda3/envs/tectf/lib/python3.6/site-packages/gpflow-1.3.0-py3.6.egg/gpflow/logdensities.py:91: DeprecationWarning: The 'warn' method is deprecated, use 'warning' instead\n",
      "  logger.warn('Shape of x must be 2D at computation.')\n",
      "WARNING:gpflow.logdensities:Shape of x must be 2D at computation.\n"
     ]
    },
    {
     "name": "stdout",
     "output_type": "stream",
     "text": [
      "INFO:tensorflow:Optimization terminated with:\n",
      "  Message: b'ABNORMAL_TERMINATION_IN_LNSRCH'\n",
      "  Objective function value: -1338.047460\n",
      "  Number of iterations: 14\n",
      "  Number of functions evaluations: 55\n"
     ]
    },
    {
     "name": "stderr",
     "output_type": "stream",
     "text": [
      "INFO:tensorflow:Optimization terminated with:\n",
      "  Message: b'ABNORMAL_TERMINATION_IN_LNSRCH'\n",
      "  Objective function value: -1338.047460\n",
      "  Number of iterations: 14\n",
      "  Number of functions evaluations: 55\n",
      "/home/albert/miniconda3/envs/tectf/lib/python3.6/site-packages/tables-3.4.4-py3.6-linux-x86_64.egg/tables/file.py:767: DeprecationWarning: The use of uppercase keyword parameters is deprecated\n",
      "  \"deprecated\", DeprecationWarning)\n",
      "/home/albert/miniconda3/envs/tectf/lib/python3.6/site-packages/tables-3.4.4-py3.6-linux-x86_64.egg/tables/file.py:767: DeprecationWarning: The use of uppercase keyword parameters is deprecated\n",
      "  \"deprecated\", DeprecationWarning)\n",
      "ERROR:root:Reference possible only for phase, scalarphase, clock, tec, tec3rd, and rotation solution tables. Ignore referencing.\n",
      "/home/albert/miniconda3/envs/tectf/lib/python3.6/site-packages/gpflow-1.3.0-py3.6.egg/gpflow/_settings.py:67: DeprecationWarning: tf_int is deprecated and will be removed at GPflow version 1.2.0. Use int_type.\n",
      "  'version 1.2.0. Use int_type.', DeprecationWarning)\n",
      "/home/albert/miniconda3/envs/tectf/lib/python3.6/site-packages/gpflow-1.3.0-py3.6.egg/gpflow/_settings.py:61: DeprecationWarning: tf_float is deprecated and will be removed at GPflow version 1.2.0. Use float_type.\n",
      "  'version 1.2.0. Use float_type.', DeprecationWarning)\n",
      "/home/albert/miniconda3/envs/tectf/lib/python3.6/site-packages/gpflow-1.3.0-py3.6.egg/gpflow/logdensities.py:91: DeprecationWarning: The 'warn' method is deprecated, use 'warning' instead\n",
      "  logger.warn('Shape of x must be 2D at computation.')\n",
      "WARNING:gpflow.logdensities:Shape of x must be 2D at computation.\n"
     ]
    },
    {
     "name": "stdout",
     "output_type": "stream",
     "text": [
      "INFO:tensorflow:Optimization terminated with:\n",
      "  Message: b'ABNORMAL_TERMINATION_IN_LNSRCH'\n",
      "  Objective function value: -1319.352670\n",
      "  Number of iterations: 17\n",
      "  Number of functions evaluations: 75\n"
     ]
    },
    {
     "name": "stderr",
     "output_type": "stream",
     "text": [
      "INFO:tensorflow:Optimization terminated with:\n",
      "  Message: b'ABNORMAL_TERMINATION_IN_LNSRCH'\n",
      "  Objective function value: -1319.352670\n",
      "  Number of iterations: 17\n",
      "  Number of functions evaluations: 75\n",
      "/home/albert/miniconda3/envs/tectf/lib/python3.6/site-packages/tables-3.4.4-py3.6-linux-x86_64.egg/tables/file.py:767: DeprecationWarning: The use of uppercase keyword parameters is deprecated\n",
      "  \"deprecated\", DeprecationWarning)\n",
      "/home/albert/miniconda3/envs/tectf/lib/python3.6/site-packages/tables-3.4.4-py3.6-linux-x86_64.egg/tables/file.py:767: DeprecationWarning: The use of uppercase keyword parameters is deprecated\n",
      "  \"deprecated\", DeprecationWarning)\n",
      "ERROR:root:Reference possible only for phase, scalarphase, clock, tec, tec3rd, and rotation solution tables. Ignore referencing.\n",
      "/home/albert/miniconda3/envs/tectf/lib/python3.6/site-packages/gpflow-1.3.0-py3.6.egg/gpflow/_settings.py:67: DeprecationWarning: tf_int is deprecated and will be removed at GPflow version 1.2.0. Use int_type.\n",
      "  'version 1.2.0. Use int_type.', DeprecationWarning)\n",
      "/home/albert/miniconda3/envs/tectf/lib/python3.6/site-packages/gpflow-1.3.0-py3.6.egg/gpflow/_settings.py:61: DeprecationWarning: tf_float is deprecated and will be removed at GPflow version 1.2.0. Use float_type.\n",
      "  'version 1.2.0. Use float_type.', DeprecationWarning)\n",
      "/home/albert/miniconda3/envs/tectf/lib/python3.6/site-packages/gpflow-1.3.0-py3.6.egg/gpflow/logdensities.py:91: DeprecationWarning: The 'warn' method is deprecated, use 'warning' instead\n",
      "  logger.warn('Shape of x must be 2D at computation.')\n",
      "WARNING:gpflow.logdensities:Shape of x must be 2D at computation.\n"
     ]
    },
    {
     "name": "stdout",
     "output_type": "stream",
     "text": [
      "INFO:tensorflow:Optimization terminated with:\n",
      "  Message: b'ABNORMAL_TERMINATION_IN_LNSRCH'\n",
      "  Objective function value: -1304.157467\n",
      "  Number of iterations: 15\n",
      "  Number of functions evaluations: 69\n"
     ]
    },
    {
     "name": "stderr",
     "output_type": "stream",
     "text": [
      "INFO:tensorflow:Optimization terminated with:\n",
      "  Message: b'ABNORMAL_TERMINATION_IN_LNSRCH'\n",
      "  Objective function value: -1304.157467\n",
      "  Number of iterations: 15\n",
      "  Number of functions evaluations: 69\n",
      "/home/albert/miniconda3/envs/tectf/lib/python3.6/site-packages/tables-3.4.4-py3.6-linux-x86_64.egg/tables/file.py:767: DeprecationWarning: The use of uppercase keyword parameters is deprecated\n",
      "  \"deprecated\", DeprecationWarning)\n",
      "/home/albert/miniconda3/envs/tectf/lib/python3.6/site-packages/tables-3.4.4-py3.6-linux-x86_64.egg/tables/file.py:767: DeprecationWarning: The use of uppercase keyword parameters is deprecated\n",
      "  \"deprecated\", DeprecationWarning)\n",
      "ERROR:root:Reference possible only for phase, scalarphase, clock, tec, tec3rd, and rotation solution tables. Ignore referencing.\n",
      "/home/albert/miniconda3/envs/tectf/lib/python3.6/site-packages/gpflow-1.3.0-py3.6.egg/gpflow/_settings.py:67: DeprecationWarning: tf_int is deprecated and will be removed at GPflow version 1.2.0. Use int_type.\n",
      "  'version 1.2.0. Use int_type.', DeprecationWarning)\n",
      "/home/albert/miniconda3/envs/tectf/lib/python3.6/site-packages/gpflow-1.3.0-py3.6.egg/gpflow/_settings.py:61: DeprecationWarning: tf_float is deprecated and will be removed at GPflow version 1.2.0. Use float_type.\n",
      "  'version 1.2.0. Use float_type.', DeprecationWarning)\n",
      "/home/albert/miniconda3/envs/tectf/lib/python3.6/site-packages/gpflow-1.3.0-py3.6.egg/gpflow/logdensities.py:91: DeprecationWarning: The 'warn' method is deprecated, use 'warning' instead\n",
      "  logger.warn('Shape of x must be 2D at computation.')\n",
      "WARNING:gpflow.logdensities:Shape of x must be 2D at computation.\n"
     ]
    },
    {
     "name": "stdout",
     "output_type": "stream",
     "text": [
      "INFO:tensorflow:Optimization terminated with:\n",
      "  Message: b'ABNORMAL_TERMINATION_IN_LNSRCH'\n",
      "  Objective function value: -1278.971646\n",
      "  Number of iterations: 13\n",
      "  Number of functions evaluations: 72\n"
     ]
    },
    {
     "name": "stderr",
     "output_type": "stream",
     "text": [
      "INFO:tensorflow:Optimization terminated with:\n",
      "  Message: b'ABNORMAL_TERMINATION_IN_LNSRCH'\n",
      "  Objective function value: -1278.971646\n",
      "  Number of iterations: 13\n",
      "  Number of functions evaluations: 72\n",
      "/home/albert/miniconda3/envs/tectf/lib/python3.6/site-packages/tables-3.4.4-py3.6-linux-x86_64.egg/tables/file.py:767: DeprecationWarning: The use of uppercase keyword parameters is deprecated\n",
      "  \"deprecated\", DeprecationWarning)\n",
      "/home/albert/miniconda3/envs/tectf/lib/python3.6/site-packages/tables-3.4.4-py3.6-linux-x86_64.egg/tables/file.py:767: DeprecationWarning: The use of uppercase keyword parameters is deprecated\n",
      "  \"deprecated\", DeprecationWarning)\n",
      "ERROR:root:Reference possible only for phase, scalarphase, clock, tec, tec3rd, and rotation solution tables. Ignore referencing.\n",
      "/home/albert/miniconda3/envs/tectf/lib/python3.6/site-packages/gpflow-1.3.0-py3.6.egg/gpflow/_settings.py:67: DeprecationWarning: tf_int is deprecated and will be removed at GPflow version 1.2.0. Use int_type.\n",
      "  'version 1.2.0. Use int_type.', DeprecationWarning)\n",
      "/home/albert/miniconda3/envs/tectf/lib/python3.6/site-packages/gpflow-1.3.0-py3.6.egg/gpflow/_settings.py:61: DeprecationWarning: tf_float is deprecated and will be removed at GPflow version 1.2.0. Use float_type.\n",
      "  'version 1.2.0. Use float_type.', DeprecationWarning)\n",
      "/home/albert/miniconda3/envs/tectf/lib/python3.6/site-packages/gpflow-1.3.0-py3.6.egg/gpflow/logdensities.py:91: DeprecationWarning: The 'warn' method is deprecated, use 'warning' instead\n",
      "  logger.warn('Shape of x must be 2D at computation.')\n",
      "WARNING:gpflow.logdensities:Shape of x must be 2D at computation.\n"
     ]
    },
    {
     "name": "stdout",
     "output_type": "stream",
     "text": [
      "INFO:tensorflow:Optimization terminated with:\n",
      "  Message: b'ABNORMAL_TERMINATION_IN_LNSRCH'\n",
      "  Objective function value: -1223.588364\n",
      "  Number of iterations: 10\n",
      "  Number of functions evaluations: 51\n"
     ]
    },
    {
     "name": "stderr",
     "output_type": "stream",
     "text": [
      "INFO:tensorflow:Optimization terminated with:\n",
      "  Message: b'ABNORMAL_TERMINATION_IN_LNSRCH'\n",
      "  Objective function value: -1223.588364\n",
      "  Number of iterations: 10\n",
      "  Number of functions evaluations: 51\n",
      "/home/albert/miniconda3/envs/tectf/lib/python3.6/site-packages/tables-3.4.4-py3.6-linux-x86_64.egg/tables/file.py:767: DeprecationWarning: The use of uppercase keyword parameters is deprecated\n",
      "  \"deprecated\", DeprecationWarning)\n",
      "/home/albert/miniconda3/envs/tectf/lib/python3.6/site-packages/tables-3.4.4-py3.6-linux-x86_64.egg/tables/file.py:767: DeprecationWarning: The use of uppercase keyword parameters is deprecated\n",
      "  \"deprecated\", DeprecationWarning)\n",
      "ERROR:root:Reference possible only for phase, scalarphase, clock, tec, tec3rd, and rotation solution tables. Ignore referencing.\n",
      "/home/albert/miniconda3/envs/tectf/lib/python3.6/site-packages/gpflow-1.3.0-py3.6.egg/gpflow/_settings.py:67: DeprecationWarning: tf_int is deprecated and will be removed at GPflow version 1.2.0. Use int_type.\n",
      "  'version 1.2.0. Use int_type.', DeprecationWarning)\n",
      "/home/albert/miniconda3/envs/tectf/lib/python3.6/site-packages/gpflow-1.3.0-py3.6.egg/gpflow/_settings.py:61: DeprecationWarning: tf_float is deprecated and will be removed at GPflow version 1.2.0. Use float_type.\n",
      "  'version 1.2.0. Use float_type.', DeprecationWarning)\n",
      "/home/albert/miniconda3/envs/tectf/lib/python3.6/site-packages/gpflow-1.3.0-py3.6.egg/gpflow/logdensities.py:91: DeprecationWarning: The 'warn' method is deprecated, use 'warning' instead\n",
      "  logger.warn('Shape of x must be 2D at computation.')\n",
      "WARNING:gpflow.logdensities:Shape of x must be 2D at computation.\n"
     ]
    },
    {
     "name": "stdout",
     "output_type": "stream",
     "text": [
      "INFO:tensorflow:Optimization terminated with:\n",
      "  Message: b'ABNORMAL_TERMINATION_IN_LNSRCH'\n",
      "  Objective function value: -1238.045591\n",
      "  Number of iterations: 13\n",
      "  Number of functions evaluations: 97\n"
     ]
    },
    {
     "name": "stderr",
     "output_type": "stream",
     "text": [
      "INFO:tensorflow:Optimization terminated with:\n",
      "  Message: b'ABNORMAL_TERMINATION_IN_LNSRCH'\n",
      "  Objective function value: -1238.045591\n",
      "  Number of iterations: 13\n",
      "  Number of functions evaluations: 97\n",
      "/home/albert/miniconda3/envs/tectf/lib/python3.6/site-packages/tables-3.4.4-py3.6-linux-x86_64.egg/tables/file.py:767: DeprecationWarning: The use of uppercase keyword parameters is deprecated\n",
      "  \"deprecated\", DeprecationWarning)\n",
      "/home/albert/miniconda3/envs/tectf/lib/python3.6/site-packages/tables-3.4.4-py3.6-linux-x86_64.egg/tables/file.py:767: DeprecationWarning: The use of uppercase keyword parameters is deprecated\n",
      "  \"deprecated\", DeprecationWarning)\n",
      "ERROR:root:Reference possible only for phase, scalarphase, clock, tec, tec3rd, and rotation solution tables. Ignore referencing.\n",
      "/home/albert/miniconda3/envs/tectf/lib/python3.6/site-packages/gpflow-1.3.0-py3.6.egg/gpflow/_settings.py:67: DeprecationWarning: tf_int is deprecated and will be removed at GPflow version 1.2.0. Use int_type.\n",
      "  'version 1.2.0. Use int_type.', DeprecationWarning)\n",
      "/home/albert/miniconda3/envs/tectf/lib/python3.6/site-packages/gpflow-1.3.0-py3.6.egg/gpflow/_settings.py:61: DeprecationWarning: tf_float is deprecated and will be removed at GPflow version 1.2.0. Use float_type.\n",
      "  'version 1.2.0. Use float_type.', DeprecationWarning)\n",
      "/home/albert/miniconda3/envs/tectf/lib/python3.6/site-packages/gpflow-1.3.0-py3.6.egg/gpflow/logdensities.py:91: DeprecationWarning: The 'warn' method is deprecated, use 'warning' instead\n",
      "  logger.warn('Shape of x must be 2D at computation.')\n",
      "WARNING:gpflow.logdensities:Shape of x must be 2D at computation.\n"
     ]
    },
    {
     "name": "stdout",
     "output_type": "stream",
     "text": [
      "INFO:tensorflow:Optimization terminated with:\n",
      "  Message: b'ABNORMAL_TERMINATION_IN_LNSRCH'\n",
      "  Objective function value: -1268.344547\n",
      "  Number of iterations: 13\n",
      "  Number of functions evaluations: 70\n"
     ]
    },
    {
     "name": "stderr",
     "output_type": "stream",
     "text": [
      "INFO:tensorflow:Optimization terminated with:\n",
      "  Message: b'ABNORMAL_TERMINATION_IN_LNSRCH'\n",
      "  Objective function value: -1268.344547\n",
      "  Number of iterations: 13\n",
      "  Number of functions evaluations: 70\n",
      "/home/albert/miniconda3/envs/tectf/lib/python3.6/site-packages/tables-3.4.4-py3.6-linux-x86_64.egg/tables/file.py:767: DeprecationWarning: The use of uppercase keyword parameters is deprecated\n",
      "  \"deprecated\", DeprecationWarning)\n",
      "/home/albert/miniconda3/envs/tectf/lib/python3.6/site-packages/tables-3.4.4-py3.6-linux-x86_64.egg/tables/file.py:767: DeprecationWarning: The use of uppercase keyword parameters is deprecated\n",
      "  \"deprecated\", DeprecationWarning)\n",
      "ERROR:root:Reference possible only for phase, scalarphase, clock, tec, tec3rd, and rotation solution tables. Ignore referencing.\n",
      "/home/albert/miniconda3/envs/tectf/lib/python3.6/site-packages/gpflow-1.3.0-py3.6.egg/gpflow/_settings.py:67: DeprecationWarning: tf_int is deprecated and will be removed at GPflow version 1.2.0. Use int_type.\n",
      "  'version 1.2.0. Use int_type.', DeprecationWarning)\n",
      "/home/albert/miniconda3/envs/tectf/lib/python3.6/site-packages/gpflow-1.3.0-py3.6.egg/gpflow/_settings.py:61: DeprecationWarning: tf_float is deprecated and will be removed at GPflow version 1.2.0. Use float_type.\n",
      "  'version 1.2.0. Use float_type.', DeprecationWarning)\n",
      "/home/albert/miniconda3/envs/tectf/lib/python3.6/site-packages/gpflow-1.3.0-py3.6.egg/gpflow/logdensities.py:91: DeprecationWarning: The 'warn' method is deprecated, use 'warning' instead\n",
      "  logger.warn('Shape of x must be 2D at computation.')\n",
      "WARNING:gpflow.logdensities:Shape of x must be 2D at computation.\n"
     ]
    },
    {
     "name": "stdout",
     "output_type": "stream",
     "text": [
      "INFO:tensorflow:Optimization terminated with:\n",
      "  Message: b'ABNORMAL_TERMINATION_IN_LNSRCH'\n",
      "  Objective function value: -1124.526921\n",
      "  Number of iterations: 12\n",
      "  Number of functions evaluations: 79\n"
     ]
    },
    {
     "name": "stderr",
     "output_type": "stream",
     "text": [
      "INFO:tensorflow:Optimization terminated with:\n",
      "  Message: b'ABNORMAL_TERMINATION_IN_LNSRCH'\n",
      "  Objective function value: -1124.526921\n",
      "  Number of iterations: 12\n",
      "  Number of functions evaluations: 79\n",
      "/home/albert/miniconda3/envs/tectf/lib/python3.6/site-packages/tables-3.4.4-py3.6-linux-x86_64.egg/tables/file.py:767: DeprecationWarning: The use of uppercase keyword parameters is deprecated\n",
      "  \"deprecated\", DeprecationWarning)\n",
      "/home/albert/miniconda3/envs/tectf/lib/python3.6/site-packages/tables-3.4.4-py3.6-linux-x86_64.egg/tables/file.py:767: DeprecationWarning: The use of uppercase keyword parameters is deprecated\n",
      "  \"deprecated\", DeprecationWarning)\n",
      "ERROR:root:Reference possible only for phase, scalarphase, clock, tec, tec3rd, and rotation solution tables. Ignore referencing.\n",
      "/home/albert/miniconda3/envs/tectf/lib/python3.6/site-packages/gpflow-1.3.0-py3.6.egg/gpflow/_settings.py:67: DeprecationWarning: tf_int is deprecated and will be removed at GPflow version 1.2.0. Use int_type.\n",
      "  'version 1.2.0. Use int_type.', DeprecationWarning)\n",
      "/home/albert/miniconda3/envs/tectf/lib/python3.6/site-packages/gpflow-1.3.0-py3.6.egg/gpflow/_settings.py:61: DeprecationWarning: tf_float is deprecated and will be removed at GPflow version 1.2.0. Use float_type.\n",
      "  'version 1.2.0. Use float_type.', DeprecationWarning)\n",
      "/home/albert/miniconda3/envs/tectf/lib/python3.6/site-packages/gpflow-1.3.0-py3.6.egg/gpflow/logdensities.py:91: DeprecationWarning: The 'warn' method is deprecated, use 'warning' instead\n",
      "  logger.warn('Shape of x must be 2D at computation.')\n",
      "WARNING:gpflow.logdensities:Shape of x must be 2D at computation.\n"
     ]
    },
    {
     "name": "stdout",
     "output_type": "stream",
     "text": [
      "INFO:tensorflow:Optimization terminated with:\n",
      "  Message: b'ABNORMAL_TERMINATION_IN_LNSRCH'\n",
      "  Objective function value: -924.479835\n",
      "  Number of iterations: 15\n",
      "  Number of functions evaluations: 74\n"
     ]
    },
    {
     "name": "stderr",
     "output_type": "stream",
     "text": [
      "INFO:tensorflow:Optimization terminated with:\n",
      "  Message: b'ABNORMAL_TERMINATION_IN_LNSRCH'\n",
      "  Objective function value: -924.479835\n",
      "  Number of iterations: 15\n",
      "  Number of functions evaluations: 74\n",
      "/home/albert/miniconda3/envs/tectf/lib/python3.6/site-packages/tables-3.4.4-py3.6-linux-x86_64.egg/tables/file.py:767: DeprecationWarning: The use of uppercase keyword parameters is deprecated\n",
      "  \"deprecated\", DeprecationWarning)\n",
      "/home/albert/miniconda3/envs/tectf/lib/python3.6/site-packages/tables-3.4.4-py3.6-linux-x86_64.egg/tables/file.py:767: DeprecationWarning: The use of uppercase keyword parameters is deprecated\n",
      "  \"deprecated\", DeprecationWarning)\n",
      "ERROR:root:Reference possible only for phase, scalarphase, clock, tec, tec3rd, and rotation solution tables. Ignore referencing.\n",
      "/home/albert/miniconda3/envs/tectf/lib/python3.6/site-packages/gpflow-1.3.0-py3.6.egg/gpflow/_settings.py:67: DeprecationWarning: tf_int is deprecated and will be removed at GPflow version 1.2.0. Use int_type.\n",
      "  'version 1.2.0. Use int_type.', DeprecationWarning)\n",
      "/home/albert/miniconda3/envs/tectf/lib/python3.6/site-packages/gpflow-1.3.0-py3.6.egg/gpflow/_settings.py:61: DeprecationWarning: tf_float is deprecated and will be removed at GPflow version 1.2.0. Use float_type.\n",
      "  'version 1.2.0. Use float_type.', DeprecationWarning)\n",
      "/home/albert/miniconda3/envs/tectf/lib/python3.6/site-packages/gpflow-1.3.0-py3.6.egg/gpflow/logdensities.py:91: DeprecationWarning: The 'warn' method is deprecated, use 'warning' instead\n",
      "  logger.warn('Shape of x must be 2D at computation.')\n",
      "WARNING:gpflow.logdensities:Shape of x must be 2D at computation.\n"
     ]
    },
    {
     "name": "stdout",
     "output_type": "stream",
     "text": [
      "INFO:tensorflow:Optimization terminated with:\n",
      "  Message: b'ABNORMAL_TERMINATION_IN_LNSRCH'\n",
      "  Objective function value: -373.974857\n",
      "  Number of iterations: 16\n",
      "  Number of functions evaluations: 60\n"
     ]
    },
    {
     "name": "stderr",
     "output_type": "stream",
     "text": [
      "INFO:tensorflow:Optimization terminated with:\n",
      "  Message: b'ABNORMAL_TERMINATION_IN_LNSRCH'\n",
      "  Objective function value: -373.974857\n",
      "  Number of iterations: 16\n",
      "  Number of functions evaluations: 60\n",
      "/home/albert/miniconda3/envs/tectf/lib/python3.6/site-packages/tables-3.4.4-py3.6-linux-x86_64.egg/tables/file.py:767: DeprecationWarning: The use of uppercase keyword parameters is deprecated\n",
      "  \"deprecated\", DeprecationWarning)\n",
      "/home/albert/miniconda3/envs/tectf/lib/python3.6/site-packages/tables-3.4.4-py3.6-linux-x86_64.egg/tables/file.py:767: DeprecationWarning: The use of uppercase keyword parameters is deprecated\n",
      "  \"deprecated\", DeprecationWarning)\n",
      "ERROR:root:Reference possible only for phase, scalarphase, clock, tec, tec3rd, and rotation solution tables. Ignore referencing.\n",
      "/home/albert/miniconda3/envs/tectf/lib/python3.6/site-packages/gpflow-1.3.0-py3.6.egg/gpflow/_settings.py:67: DeprecationWarning: tf_int is deprecated and will be removed at GPflow version 1.2.0. Use int_type.\n",
      "  'version 1.2.0. Use int_type.', DeprecationWarning)\n",
      "/home/albert/miniconda3/envs/tectf/lib/python3.6/site-packages/gpflow-1.3.0-py3.6.egg/gpflow/_settings.py:61: DeprecationWarning: tf_float is deprecated and will be removed at GPflow version 1.2.0. Use float_type.\n",
      "  'version 1.2.0. Use float_type.', DeprecationWarning)\n",
      "/home/albert/miniconda3/envs/tectf/lib/python3.6/site-packages/gpflow-1.3.0-py3.6.egg/gpflow/logdensities.py:91: DeprecationWarning: The 'warn' method is deprecated, use 'warning' instead\n",
      "  logger.warn('Shape of x must be 2D at computation.')\n",
      "WARNING:gpflow.logdensities:Shape of x must be 2D at computation.\n"
     ]
    },
    {
     "name": "stdout",
     "output_type": "stream",
     "text": [
      "INFO:tensorflow:Optimization terminated with:\n",
      "  Message: b'CONVERGENCE: REL_REDUCTION_OF_F_<=_FACTR*EPSMCH'\n",
      "  Objective function value: -395.224580\n",
      "  Number of iterations: 15\n",
      "  Number of functions evaluations: 52\n"
     ]
    },
    {
     "name": "stderr",
     "output_type": "stream",
     "text": [
      "INFO:tensorflow:Optimization terminated with:\n",
      "  Message: b'CONVERGENCE: REL_REDUCTION_OF_F_<=_FACTR*EPSMCH'\n",
      "  Objective function value: -395.224580\n",
      "  Number of iterations: 15\n",
      "  Number of functions evaluations: 52\n",
      "/home/albert/miniconda3/envs/tectf/lib/python3.6/site-packages/tables-3.4.4-py3.6-linux-x86_64.egg/tables/file.py:767: DeprecationWarning: The use of uppercase keyword parameters is deprecated\n",
      "  \"deprecated\", DeprecationWarning)\n",
      "/home/albert/miniconda3/envs/tectf/lib/python3.6/site-packages/tables-3.4.4-py3.6-linux-x86_64.egg/tables/file.py:767: DeprecationWarning: The use of uppercase keyword parameters is deprecated\n",
      "  \"deprecated\", DeprecationWarning)\n",
      "ERROR:root:Reference possible only for phase, scalarphase, clock, tec, tec3rd, and rotation solution tables. Ignore referencing.\n",
      "/home/albert/miniconda3/envs/tectf/lib/python3.6/site-packages/gpflow-1.3.0-py3.6.egg/gpflow/_settings.py:67: DeprecationWarning: tf_int is deprecated and will be removed at GPflow version 1.2.0. Use int_type.\n",
      "  'version 1.2.0. Use int_type.', DeprecationWarning)\n",
      "/home/albert/miniconda3/envs/tectf/lib/python3.6/site-packages/gpflow-1.3.0-py3.6.egg/gpflow/_settings.py:61: DeprecationWarning: tf_float is deprecated and will be removed at GPflow version 1.2.0. Use float_type.\n",
      "  'version 1.2.0. Use float_type.', DeprecationWarning)\n",
      "/home/albert/miniconda3/envs/tectf/lib/python3.6/site-packages/gpflow-1.3.0-py3.6.egg/gpflow/logdensities.py:91: DeprecationWarning: The 'warn' method is deprecated, use 'warning' instead\n",
      "  logger.warn('Shape of x must be 2D at computation.')\n",
      "WARNING:gpflow.logdensities:Shape of x must be 2D at computation.\n"
     ]
    },
    {
     "name": "stdout",
     "output_type": "stream",
     "text": [
      "INFO:tensorflow:Optimization terminated with:\n",
      "  Message: b'CONVERGENCE: REL_REDUCTION_OF_F_<=_FACTR*EPSMCH'\n",
      "  Objective function value: -373.212750\n",
      "  Number of iterations: 15\n",
      "  Number of functions evaluations: 56\n"
     ]
    },
    {
     "name": "stderr",
     "output_type": "stream",
     "text": [
      "INFO:tensorflow:Optimization terminated with:\n",
      "  Message: b'CONVERGENCE: REL_REDUCTION_OF_F_<=_FACTR*EPSMCH'\n",
      "  Objective function value: -373.212750\n",
      "  Number of iterations: 15\n",
      "  Number of functions evaluations: 56\n",
      "/home/albert/miniconda3/envs/tectf/lib/python3.6/site-packages/tables-3.4.4-py3.6-linux-x86_64.egg/tables/file.py:767: DeprecationWarning: The use of uppercase keyword parameters is deprecated\n",
      "  \"deprecated\", DeprecationWarning)\n",
      "/home/albert/miniconda3/envs/tectf/lib/python3.6/site-packages/tables-3.4.4-py3.6-linux-x86_64.egg/tables/file.py:767: DeprecationWarning: The use of uppercase keyword parameters is deprecated\n",
      "  \"deprecated\", DeprecationWarning)\n",
      "ERROR:root:Reference possible only for phase, scalarphase, clock, tec, tec3rd, and rotation solution tables. Ignore referencing.\n",
      "/home/albert/miniconda3/envs/tectf/lib/python3.6/site-packages/gpflow-1.3.0-py3.6.egg/gpflow/_settings.py:67: DeprecationWarning: tf_int is deprecated and will be removed at GPflow version 1.2.0. Use int_type.\n",
      "  'version 1.2.0. Use int_type.', DeprecationWarning)\n",
      "/home/albert/miniconda3/envs/tectf/lib/python3.6/site-packages/gpflow-1.3.0-py3.6.egg/gpflow/_settings.py:61: DeprecationWarning: tf_float is deprecated and will be removed at GPflow version 1.2.0. Use float_type.\n",
      "  'version 1.2.0. Use float_type.', DeprecationWarning)\n",
      "/home/albert/miniconda3/envs/tectf/lib/python3.6/site-packages/gpflow-1.3.0-py3.6.egg/gpflow/logdensities.py:91: DeprecationWarning: The 'warn' method is deprecated, use 'warning' instead\n",
      "  logger.warn('Shape of x must be 2D at computation.')\n",
      "WARNING:gpflow.logdensities:Shape of x must be 2D at computation.\n"
     ]
    },
    {
     "name": "stdout",
     "output_type": "stream",
     "text": [
      "INFO:tensorflow:Optimization terminated with:\n",
      "  Message: b'ABNORMAL_TERMINATION_IN_LNSRCH'\n",
      "  Objective function value: -330.434175\n",
      "  Number of iterations: 16\n",
      "  Number of functions evaluations: 96\n"
     ]
    },
    {
     "name": "stderr",
     "output_type": "stream",
     "text": [
      "INFO:tensorflow:Optimization terminated with:\n",
      "  Message: b'ABNORMAL_TERMINATION_IN_LNSRCH'\n",
      "  Objective function value: -330.434175\n",
      "  Number of iterations: 16\n",
      "  Number of functions evaluations: 96\n",
      "/home/albert/miniconda3/envs/tectf/lib/python3.6/site-packages/tables-3.4.4-py3.6-linux-x86_64.egg/tables/file.py:767: DeprecationWarning: The use of uppercase keyword parameters is deprecated\n",
      "  \"deprecated\", DeprecationWarning)\n",
      "/home/albert/miniconda3/envs/tectf/lib/python3.6/site-packages/tables-3.4.4-py3.6-linux-x86_64.egg/tables/file.py:767: DeprecationWarning: The use of uppercase keyword parameters is deprecated\n",
      "  \"deprecated\", DeprecationWarning)\n",
      "ERROR:root:Reference possible only for phase, scalarphase, clock, tec, tec3rd, and rotation solution tables. Ignore referencing.\n",
      "/home/albert/miniconda3/envs/tectf/lib/python3.6/site-packages/gpflow-1.3.0-py3.6.egg/gpflow/_settings.py:67: DeprecationWarning: tf_int is deprecated and will be removed at GPflow version 1.2.0. Use int_type.\n",
      "  'version 1.2.0. Use int_type.', DeprecationWarning)\n",
      "/home/albert/miniconda3/envs/tectf/lib/python3.6/site-packages/gpflow-1.3.0-py3.6.egg/gpflow/_settings.py:61: DeprecationWarning: tf_float is deprecated and will be removed at GPflow version 1.2.0. Use float_type.\n",
      "  'version 1.2.0. Use float_type.', DeprecationWarning)\n",
      "/home/albert/miniconda3/envs/tectf/lib/python3.6/site-packages/gpflow-1.3.0-py3.6.egg/gpflow/logdensities.py:91: DeprecationWarning: The 'warn' method is deprecated, use 'warning' instead\n",
      "  logger.warn('Shape of x must be 2D at computation.')\n",
      "WARNING:gpflow.logdensities:Shape of x must be 2D at computation.\n"
     ]
    },
    {
     "name": "stdout",
     "output_type": "stream",
     "text": [
      "INFO:tensorflow:Optimization terminated with:\n",
      "  Message: b'CONVERGENCE: REL_REDUCTION_OF_F_<=_FACTR*EPSMCH'\n",
      "  Objective function value: -433.631930\n",
      "  Number of iterations: 15\n",
      "  Number of functions evaluations: 60\n"
     ]
    },
    {
     "name": "stderr",
     "output_type": "stream",
     "text": [
      "INFO:tensorflow:Optimization terminated with:\n",
      "  Message: b'CONVERGENCE: REL_REDUCTION_OF_F_<=_FACTR*EPSMCH'\n",
      "  Objective function value: -433.631930\n",
      "  Number of iterations: 15\n",
      "  Number of functions evaluations: 60\n",
      "/home/albert/miniconda3/envs/tectf/lib/python3.6/site-packages/tables-3.4.4-py3.6-linux-x86_64.egg/tables/file.py:767: DeprecationWarning: The use of uppercase keyword parameters is deprecated\n",
      "  \"deprecated\", DeprecationWarning)\n",
      "/home/albert/miniconda3/envs/tectf/lib/python3.6/site-packages/tables-3.4.4-py3.6-linux-x86_64.egg/tables/file.py:767: DeprecationWarning: The use of uppercase keyword parameters is deprecated\n",
      "  \"deprecated\", DeprecationWarning)\n",
      "ERROR:root:Reference possible only for phase, scalarphase, clock, tec, tec3rd, and rotation solution tables. Ignore referencing.\n",
      "/home/albert/miniconda3/envs/tectf/lib/python3.6/site-packages/gpflow-1.3.0-py3.6.egg/gpflow/_settings.py:67: DeprecationWarning: tf_int is deprecated and will be removed at GPflow version 1.2.0. Use int_type.\n",
      "  'version 1.2.0. Use int_type.', DeprecationWarning)\n",
      "/home/albert/miniconda3/envs/tectf/lib/python3.6/site-packages/gpflow-1.3.0-py3.6.egg/gpflow/_settings.py:61: DeprecationWarning: tf_float is deprecated and will be removed at GPflow version 1.2.0. Use float_type.\n",
      "  'version 1.2.0. Use float_type.', DeprecationWarning)\n",
      "/home/albert/miniconda3/envs/tectf/lib/python3.6/site-packages/gpflow-1.3.0-py3.6.egg/gpflow/logdensities.py:91: DeprecationWarning: The 'warn' method is deprecated, use 'warning' instead\n",
      "  logger.warn('Shape of x must be 2D at computation.')\n",
      "WARNING:gpflow.logdensities:Shape of x must be 2D at computation.\n"
     ]
    },
    {
     "name": "stdout",
     "output_type": "stream",
     "text": [
      "INFO:tensorflow:Optimization terminated with:\n",
      "  Message: b'CONVERGENCE: REL_REDUCTION_OF_F_<=_FACTR*EPSMCH'\n",
      "  Objective function value: -461.131855\n",
      "  Number of iterations: 13\n",
      "  Number of functions evaluations: 53\n"
     ]
    },
    {
     "name": "stderr",
     "output_type": "stream",
     "text": [
      "INFO:tensorflow:Optimization terminated with:\n",
      "  Message: b'CONVERGENCE: REL_REDUCTION_OF_F_<=_FACTR*EPSMCH'\n",
      "  Objective function value: -461.131855\n",
      "  Number of iterations: 13\n",
      "  Number of functions evaluations: 53\n",
      "/home/albert/miniconda3/envs/tectf/lib/python3.6/site-packages/tables-3.4.4-py3.6-linux-x86_64.egg/tables/file.py:767: DeprecationWarning: The use of uppercase keyword parameters is deprecated\n",
      "  \"deprecated\", DeprecationWarning)\n",
      "/home/albert/miniconda3/envs/tectf/lib/python3.6/site-packages/tables-3.4.4-py3.6-linux-x86_64.egg/tables/file.py:767: DeprecationWarning: The use of uppercase keyword parameters is deprecated\n",
      "  \"deprecated\", DeprecationWarning)\n",
      "ERROR:root:Reference possible only for phase, scalarphase, clock, tec, tec3rd, and rotation solution tables. Ignore referencing.\n",
      "/home/albert/miniconda3/envs/tectf/lib/python3.6/site-packages/gpflow-1.3.0-py3.6.egg/gpflow/_settings.py:67: DeprecationWarning: tf_int is deprecated and will be removed at GPflow version 1.2.0. Use int_type.\n",
      "  'version 1.2.0. Use int_type.', DeprecationWarning)\n",
      "/home/albert/miniconda3/envs/tectf/lib/python3.6/site-packages/gpflow-1.3.0-py3.6.egg/gpflow/_settings.py:61: DeprecationWarning: tf_float is deprecated and will be removed at GPflow version 1.2.0. Use float_type.\n",
      "  'version 1.2.0. Use float_type.', DeprecationWarning)\n",
      "/home/albert/miniconda3/envs/tectf/lib/python3.6/site-packages/gpflow-1.3.0-py3.6.egg/gpflow/logdensities.py:91: DeprecationWarning: The 'warn' method is deprecated, use 'warning' instead\n",
      "  logger.warn('Shape of x must be 2D at computation.')\n",
      "WARNING:gpflow.logdensities:Shape of x must be 2D at computation.\n"
     ]
    },
    {
     "name": "stdout",
     "output_type": "stream",
     "text": [
      "INFO:tensorflow:Optimization terminated with:\n",
      "  Message: b'ABNORMAL_TERMINATION_IN_LNSRCH'\n",
      "  Objective function value: -238.875063\n",
      "  Number of iterations: 14\n",
      "  Number of functions evaluations: 105\n"
     ]
    },
    {
     "name": "stderr",
     "output_type": "stream",
     "text": [
      "INFO:tensorflow:Optimization terminated with:\n",
      "  Message: b'ABNORMAL_TERMINATION_IN_LNSRCH'\n",
      "  Objective function value: -238.875063\n",
      "  Number of iterations: 14\n",
      "  Number of functions evaluations: 105\n",
      "/home/albert/miniconda3/envs/tectf/lib/python3.6/site-packages/tables-3.4.4-py3.6-linux-x86_64.egg/tables/file.py:767: DeprecationWarning: The use of uppercase keyword parameters is deprecated\n",
      "  \"deprecated\", DeprecationWarning)\n",
      "/home/albert/miniconda3/envs/tectf/lib/python3.6/site-packages/tables-3.4.4-py3.6-linux-x86_64.egg/tables/file.py:767: DeprecationWarning: The use of uppercase keyword parameters is deprecated\n",
      "  \"deprecated\", DeprecationWarning)\n",
      "ERROR:root:Reference possible only for phase, scalarphase, clock, tec, tec3rd, and rotation solution tables. Ignore referencing.\n",
      "/home/albert/miniconda3/envs/tectf/lib/python3.6/site-packages/gpflow-1.3.0-py3.6.egg/gpflow/_settings.py:67: DeprecationWarning: tf_int is deprecated and will be removed at GPflow version 1.2.0. Use int_type.\n",
      "  'version 1.2.0. Use int_type.', DeprecationWarning)\n",
      "/home/albert/miniconda3/envs/tectf/lib/python3.6/site-packages/gpflow-1.3.0-py3.6.egg/gpflow/_settings.py:61: DeprecationWarning: tf_float is deprecated and will be removed at GPflow version 1.2.0. Use float_type.\n",
      "  'version 1.2.0. Use float_type.', DeprecationWarning)\n",
      "/home/albert/miniconda3/envs/tectf/lib/python3.6/site-packages/gpflow-1.3.0-py3.6.egg/gpflow/logdensities.py:91: DeprecationWarning: The 'warn' method is deprecated, use 'warning' instead\n",
      "  logger.warn('Shape of x must be 2D at computation.')\n",
      "WARNING:gpflow.logdensities:Shape of x must be 2D at computation.\n"
     ]
    },
    {
     "name": "stdout",
     "output_type": "stream",
     "text": [
      "INFO:tensorflow:Optimization terminated with:\n",
      "  Message: b'CONVERGENCE: REL_REDUCTION_OF_F_<=_FACTR*EPSMCH'\n",
      "  Objective function value: 191.171193\n",
      "  Number of iterations: 13\n",
      "  Number of functions evaluations: 31\n"
     ]
    },
    {
     "name": "stderr",
     "output_type": "stream",
     "text": [
      "INFO:tensorflow:Optimization terminated with:\n",
      "  Message: b'CONVERGENCE: REL_REDUCTION_OF_F_<=_FACTR*EPSMCH'\n",
      "  Objective function value: 191.171193\n",
      "  Number of iterations: 13\n",
      "  Number of functions evaluations: 31\n",
      "/home/albert/miniconda3/envs/tectf/lib/python3.6/site-packages/tables-3.4.4-py3.6-linux-x86_64.egg/tables/file.py:767: DeprecationWarning: The use of uppercase keyword parameters is deprecated\n",
      "  \"deprecated\", DeprecationWarning)\n",
      "/home/albert/miniconda3/envs/tectf/lib/python3.6/site-packages/tables-3.4.4-py3.6-linux-x86_64.egg/tables/file.py:767: DeprecationWarning: The use of uppercase keyword parameters is deprecated\n",
      "  \"deprecated\", DeprecationWarning)\n",
      "ERROR:root:Reference possible only for phase, scalarphase, clock, tec, tec3rd, and rotation solution tables. Ignore referencing.\n",
      "/home/albert/miniconda3/envs/tectf/lib/python3.6/site-packages/gpflow-1.3.0-py3.6.egg/gpflow/_settings.py:67: DeprecationWarning: tf_int is deprecated and will be removed at GPflow version 1.2.0. Use int_type.\n",
      "  'version 1.2.0. Use int_type.', DeprecationWarning)\n",
      "/home/albert/miniconda3/envs/tectf/lib/python3.6/site-packages/gpflow-1.3.0-py3.6.egg/gpflow/_settings.py:61: DeprecationWarning: tf_float is deprecated and will be removed at GPflow version 1.2.0. Use float_type.\n",
      "  'version 1.2.0. Use float_type.', DeprecationWarning)\n",
      "/home/albert/miniconda3/envs/tectf/lib/python3.6/site-packages/gpflow-1.3.0-py3.6.egg/gpflow/logdensities.py:91: DeprecationWarning: The 'warn' method is deprecated, use 'warning' instead\n",
      "  logger.warn('Shape of x must be 2D at computation.')\n",
      "WARNING:gpflow.logdensities:Shape of x must be 2D at computation.\n"
     ]
    },
    {
     "name": "stdout",
     "output_type": "stream",
     "text": [
      "INFO:tensorflow:Optimization terminated with:\n",
      "  Message: b'ABNORMAL_TERMINATION_IN_LNSRCH'\n",
      "  Objective function value: 344.453106\n",
      "  Number of iterations: 10\n",
      "  Number of functions evaluations: 54\n"
     ]
    },
    {
     "name": "stderr",
     "output_type": "stream",
     "text": [
      "INFO:tensorflow:Optimization terminated with:\n",
      "  Message: b'ABNORMAL_TERMINATION_IN_LNSRCH'\n",
      "  Objective function value: 344.453106\n",
      "  Number of iterations: 10\n",
      "  Number of functions evaluations: 54\n",
      "/home/albert/miniconda3/envs/tectf/lib/python3.6/site-packages/tables-3.4.4-py3.6-linux-x86_64.egg/tables/file.py:767: DeprecationWarning: The use of uppercase keyword parameters is deprecated\n",
      "  \"deprecated\", DeprecationWarning)\n",
      "/home/albert/miniconda3/envs/tectf/lib/python3.6/site-packages/tables-3.4.4-py3.6-linux-x86_64.egg/tables/file.py:767: DeprecationWarning: The use of uppercase keyword parameters is deprecated\n",
      "  \"deprecated\", DeprecationWarning)\n",
      "ERROR:root:Reference possible only for phase, scalarphase, clock, tec, tec3rd, and rotation solution tables. Ignore referencing.\n",
      "/home/albert/miniconda3/envs/tectf/lib/python3.6/site-packages/gpflow-1.3.0-py3.6.egg/gpflow/_settings.py:67: DeprecationWarning: tf_int is deprecated and will be removed at GPflow version 1.2.0. Use int_type.\n",
      "  'version 1.2.0. Use int_type.', DeprecationWarning)\n",
      "/home/albert/miniconda3/envs/tectf/lib/python3.6/site-packages/gpflow-1.3.0-py3.6.egg/gpflow/_settings.py:61: DeprecationWarning: tf_float is deprecated and will be removed at GPflow version 1.2.0. Use float_type.\n",
      "  'version 1.2.0. Use float_type.', DeprecationWarning)\n",
      "/home/albert/miniconda3/envs/tectf/lib/python3.6/site-packages/gpflow-1.3.0-py3.6.egg/gpflow/logdensities.py:91: DeprecationWarning: The 'warn' method is deprecated, use 'warning' instead\n",
      "  logger.warn('Shape of x must be 2D at computation.')\n",
      "WARNING:gpflow.logdensities:Shape of x must be 2D at computation.\n"
     ]
    },
    {
     "name": "stdout",
     "output_type": "stream",
     "text": [
      "INFO:tensorflow:Optimization terminated with:\n",
      "  Message: b'CONVERGENCE: REL_REDUCTION_OF_F_<=_FACTR*EPSMCH'\n",
      "  Objective function value: 224.464688\n",
      "  Number of iterations: 12\n",
      "  Number of functions evaluations: 54\n"
     ]
    },
    {
     "name": "stderr",
     "output_type": "stream",
     "text": [
      "INFO:tensorflow:Optimization terminated with:\n",
      "  Message: b'CONVERGENCE: REL_REDUCTION_OF_F_<=_FACTR*EPSMCH'\n",
      "  Objective function value: 224.464688\n",
      "  Number of iterations: 12\n",
      "  Number of functions evaluations: 54\n",
      "/home/albert/miniconda3/envs/tectf/lib/python3.6/site-packages/tables-3.4.4-py3.6-linux-x86_64.egg/tables/file.py:767: DeprecationWarning: The use of uppercase keyword parameters is deprecated\n",
      "  \"deprecated\", DeprecationWarning)\n",
      "/home/albert/miniconda3/envs/tectf/lib/python3.6/site-packages/tables-3.4.4-py3.6-linux-x86_64.egg/tables/file.py:767: DeprecationWarning: The use of uppercase keyword parameters is deprecated\n",
      "  \"deprecated\", DeprecationWarning)\n",
      "ERROR:root:Reference possible only for phase, scalarphase, clock, tec, tec3rd, and rotation solution tables. Ignore referencing.\n",
      "/home/albert/miniconda3/envs/tectf/lib/python3.6/site-packages/gpflow-1.3.0-py3.6.egg/gpflow/_settings.py:67: DeprecationWarning: tf_int is deprecated and will be removed at GPflow version 1.2.0. Use int_type.\n",
      "  'version 1.2.0. Use int_type.', DeprecationWarning)\n",
      "/home/albert/miniconda3/envs/tectf/lib/python3.6/site-packages/gpflow-1.3.0-py3.6.egg/gpflow/_settings.py:61: DeprecationWarning: tf_float is deprecated and will be removed at GPflow version 1.2.0. Use float_type.\n",
      "  'version 1.2.0. Use float_type.', DeprecationWarning)\n",
      "/home/albert/miniconda3/envs/tectf/lib/python3.6/site-packages/gpflow-1.3.0-py3.6.egg/gpflow/logdensities.py:91: DeprecationWarning: The 'warn' method is deprecated, use 'warning' instead\n",
      "  logger.warn('Shape of x must be 2D at computation.')\n",
      "WARNING:gpflow.logdensities:Shape of x must be 2D at computation.\n"
     ]
    },
    {
     "name": "stdout",
     "output_type": "stream",
     "text": [
      "INFO:tensorflow:Optimization terminated with:\n",
      "  Message: b'ABNORMAL_TERMINATION_IN_LNSRCH'\n",
      "  Objective function value: -38.408721\n",
      "  Number of iterations: 17\n",
      "  Number of functions evaluations: 67\n"
     ]
    },
    {
     "name": "stderr",
     "output_type": "stream",
     "text": [
      "INFO:tensorflow:Optimization terminated with:\n",
      "  Message: b'ABNORMAL_TERMINATION_IN_LNSRCH'\n",
      "  Objective function value: -38.408721\n",
      "  Number of iterations: 17\n",
      "  Number of functions evaluations: 67\n",
      "/home/albert/miniconda3/envs/tectf/lib/python3.6/site-packages/tables-3.4.4-py3.6-linux-x86_64.egg/tables/file.py:767: DeprecationWarning: The use of uppercase keyword parameters is deprecated\n",
      "  \"deprecated\", DeprecationWarning)\n",
      "/home/albert/miniconda3/envs/tectf/lib/python3.6/site-packages/tables-3.4.4-py3.6-linux-x86_64.egg/tables/file.py:767: DeprecationWarning: The use of uppercase keyword parameters is deprecated\n",
      "  \"deprecated\", DeprecationWarning)\n",
      "ERROR:root:Reference possible only for phase, scalarphase, clock, tec, tec3rd, and rotation solution tables. Ignore referencing.\n",
      "/home/albert/miniconda3/envs/tectf/lib/python3.6/site-packages/gpflow-1.3.0-py3.6.egg/gpflow/_settings.py:67: DeprecationWarning: tf_int is deprecated and will be removed at GPflow version 1.2.0. Use int_type.\n",
      "  'version 1.2.0. Use int_type.', DeprecationWarning)\n",
      "/home/albert/miniconda3/envs/tectf/lib/python3.6/site-packages/gpflow-1.3.0-py3.6.egg/gpflow/_settings.py:61: DeprecationWarning: tf_float is deprecated and will be removed at GPflow version 1.2.0. Use float_type.\n",
      "  'version 1.2.0. Use float_type.', DeprecationWarning)\n",
      "/home/albert/miniconda3/envs/tectf/lib/python3.6/site-packages/gpflow-1.3.0-py3.6.egg/gpflow/logdensities.py:91: DeprecationWarning: The 'warn' method is deprecated, use 'warning' instead\n",
      "  logger.warn('Shape of x must be 2D at computation.')\n",
      "WARNING:gpflow.logdensities:Shape of x must be 2D at computation.\n"
     ]
    },
    {
     "name": "stdout",
     "output_type": "stream",
     "text": [
      "INFO:tensorflow:Optimization terminated with:\n",
      "  Message: b'CONVERGENCE: REL_REDUCTION_OF_F_<=_FACTR*EPSMCH'\n",
      "  Objective function value: 118.095569\n",
      "  Number of iterations: 17\n",
      "  Number of functions evaluations: 79\n"
     ]
    },
    {
     "name": "stderr",
     "output_type": "stream",
     "text": [
      "INFO:tensorflow:Optimization terminated with:\n",
      "  Message: b'CONVERGENCE: REL_REDUCTION_OF_F_<=_FACTR*EPSMCH'\n",
      "  Objective function value: 118.095569\n",
      "  Number of iterations: 17\n",
      "  Number of functions evaluations: 79\n",
      "/home/albert/miniconda3/envs/tectf/lib/python3.6/site-packages/tables-3.4.4-py3.6-linux-x86_64.egg/tables/file.py:767: DeprecationWarning: The use of uppercase keyword parameters is deprecated\n",
      "  \"deprecated\", DeprecationWarning)\n",
      "/home/albert/miniconda3/envs/tectf/lib/python3.6/site-packages/tables-3.4.4-py3.6-linux-x86_64.egg/tables/file.py:767: DeprecationWarning: The use of uppercase keyword parameters is deprecated\n",
      "  \"deprecated\", DeprecationWarning)\n",
      "ERROR:root:Reference possible only for phase, scalarphase, clock, tec, tec3rd, and rotation solution tables. Ignore referencing.\n",
      "/home/albert/miniconda3/envs/tectf/lib/python3.6/site-packages/gpflow-1.3.0-py3.6.egg/gpflow/_settings.py:67: DeprecationWarning: tf_int is deprecated and will be removed at GPflow version 1.2.0. Use int_type.\n",
      "  'version 1.2.0. Use int_type.', DeprecationWarning)\n",
      "/home/albert/miniconda3/envs/tectf/lib/python3.6/site-packages/gpflow-1.3.0-py3.6.egg/gpflow/_settings.py:61: DeprecationWarning: tf_float is deprecated and will be removed at GPflow version 1.2.0. Use float_type.\n",
      "  'version 1.2.0. Use float_type.', DeprecationWarning)\n",
      "/home/albert/miniconda3/envs/tectf/lib/python3.6/site-packages/gpflow-1.3.0-py3.6.egg/gpflow/logdensities.py:91: DeprecationWarning: The 'warn' method is deprecated, use 'warning' instead\n",
      "  logger.warn('Shape of x must be 2D at computation.')\n",
      "WARNING:gpflow.logdensities:Shape of x must be 2D at computation.\n"
     ]
    },
    {
     "name": "stdout",
     "output_type": "stream",
     "text": [
      "INFO:tensorflow:Optimization terminated with:\n",
      "  Message: b'ABNORMAL_TERMINATION_IN_LNSRCH'\n",
      "  Objective function value: 118.777471\n",
      "  Number of iterations: 11\n",
      "  Number of functions evaluations: 82\n"
     ]
    },
    {
     "name": "stderr",
     "output_type": "stream",
     "text": [
      "INFO:tensorflow:Optimization terminated with:\n",
      "  Message: b'ABNORMAL_TERMINATION_IN_LNSRCH'\n",
      "  Objective function value: 118.777471\n",
      "  Number of iterations: 11\n",
      "  Number of functions evaluations: 82\n",
      "/home/albert/miniconda3/envs/tectf/lib/python3.6/site-packages/tables-3.4.4-py3.6-linux-x86_64.egg/tables/file.py:767: DeprecationWarning: The use of uppercase keyword parameters is deprecated\n",
      "  \"deprecated\", DeprecationWarning)\n",
      "/home/albert/miniconda3/envs/tectf/lib/python3.6/site-packages/tables-3.4.4-py3.6-linux-x86_64.egg/tables/file.py:767: DeprecationWarning: The use of uppercase keyword parameters is deprecated\n",
      "  \"deprecated\", DeprecationWarning)\n",
      "ERROR:root:Reference possible only for phase, scalarphase, clock, tec, tec3rd, and rotation solution tables. Ignore referencing.\n",
      "/home/albert/miniconda3/envs/tectf/lib/python3.6/site-packages/gpflow-1.3.0-py3.6.egg/gpflow/_settings.py:67: DeprecationWarning: tf_int is deprecated and will be removed at GPflow version 1.2.0. Use int_type.\n",
      "  'version 1.2.0. Use int_type.', DeprecationWarning)\n",
      "/home/albert/miniconda3/envs/tectf/lib/python3.6/site-packages/gpflow-1.3.0-py3.6.egg/gpflow/_settings.py:61: DeprecationWarning: tf_float is deprecated and will be removed at GPflow version 1.2.0. Use float_type.\n",
      "  'version 1.2.0. Use float_type.', DeprecationWarning)\n",
      "/home/albert/miniconda3/envs/tectf/lib/python3.6/site-packages/gpflow-1.3.0-py3.6.egg/gpflow/logdensities.py:91: DeprecationWarning: The 'warn' method is deprecated, use 'warning' instead\n",
      "  logger.warn('Shape of x must be 2D at computation.')\n",
      "WARNING:gpflow.logdensities:Shape of x must be 2D at computation.\n"
     ]
    },
    {
     "name": "stdout",
     "output_type": "stream",
     "text": [
      "INFO:tensorflow:Optimization terminated with:\n",
      "  Message: b'ABNORMAL_TERMINATION_IN_LNSRCH'\n",
      "  Objective function value: 26.468929\n",
      "  Number of iterations: 16\n",
      "  Number of functions evaluations: 128\n"
     ]
    },
    {
     "name": "stderr",
     "output_type": "stream",
     "text": [
      "INFO:tensorflow:Optimization terminated with:\n",
      "  Message: b'ABNORMAL_TERMINATION_IN_LNSRCH'\n",
      "  Objective function value: 26.468929\n",
      "  Number of iterations: 16\n",
      "  Number of functions evaluations: 128\n",
      "/home/albert/miniconda3/envs/tectf/lib/python3.6/site-packages/tables-3.4.4-py3.6-linux-x86_64.egg/tables/file.py:767: DeprecationWarning: The use of uppercase keyword parameters is deprecated\n",
      "  \"deprecated\", DeprecationWarning)\n",
      "/home/albert/miniconda3/envs/tectf/lib/python3.6/site-packages/tables-3.4.4-py3.6-linux-x86_64.egg/tables/file.py:767: DeprecationWarning: The use of uppercase keyword parameters is deprecated\n",
      "  \"deprecated\", DeprecationWarning)\n",
      "ERROR:root:Reference possible only for phase, scalarphase, clock, tec, tec3rd, and rotation solution tables. Ignore referencing.\n",
      "/home/albert/miniconda3/envs/tectf/lib/python3.6/site-packages/gpflow-1.3.0-py3.6.egg/gpflow/_settings.py:67: DeprecationWarning: tf_int is deprecated and will be removed at GPflow version 1.2.0. Use int_type.\n",
      "  'version 1.2.0. Use int_type.', DeprecationWarning)\n",
      "/home/albert/miniconda3/envs/tectf/lib/python3.6/site-packages/gpflow-1.3.0-py3.6.egg/gpflow/_settings.py:61: DeprecationWarning: tf_float is deprecated and will be removed at GPflow version 1.2.0. Use float_type.\n",
      "  'version 1.2.0. Use float_type.', DeprecationWarning)\n",
      "/home/albert/miniconda3/envs/tectf/lib/python3.6/site-packages/gpflow-1.3.0-py3.6.egg/gpflow/logdensities.py:91: DeprecationWarning: The 'warn' method is deprecated, use 'warning' instead\n",
      "  logger.warn('Shape of x must be 2D at computation.')\n",
      "WARNING:gpflow.logdensities:Shape of x must be 2D at computation.\n"
     ]
    },
    {
     "name": "stdout",
     "output_type": "stream",
     "text": [
      "INFO:tensorflow:Optimization terminated with:\n",
      "  Message: b'ABNORMAL_TERMINATION_IN_LNSRCH'\n",
      "  Objective function value: 451.063906\n",
      "  Number of iterations: 17\n",
      "  Number of functions evaluations: 86\n"
     ]
    },
    {
     "name": "stderr",
     "output_type": "stream",
     "text": [
      "INFO:tensorflow:Optimization terminated with:\n",
      "  Message: b'ABNORMAL_TERMINATION_IN_LNSRCH'\n",
      "  Objective function value: 451.063906\n",
      "  Number of iterations: 17\n",
      "  Number of functions evaluations: 86\n",
      "/home/albert/miniconda3/envs/tectf/lib/python3.6/site-packages/tables-3.4.4-py3.6-linux-x86_64.egg/tables/file.py:767: DeprecationWarning: The use of uppercase keyword parameters is deprecated\n",
      "  \"deprecated\", DeprecationWarning)\n",
      "/home/albert/miniconda3/envs/tectf/lib/python3.6/site-packages/tables-3.4.4-py3.6-linux-x86_64.egg/tables/file.py:767: DeprecationWarning: The use of uppercase keyword parameters is deprecated\n",
      "  \"deprecated\", DeprecationWarning)\n",
      "ERROR:root:Reference possible only for phase, scalarphase, clock, tec, tec3rd, and rotation solution tables. Ignore referencing.\n",
      "/home/albert/miniconda3/envs/tectf/lib/python3.6/site-packages/gpflow-1.3.0-py3.6.egg/gpflow/_settings.py:67: DeprecationWarning: tf_int is deprecated and will be removed at GPflow version 1.2.0. Use int_type.\n",
      "  'version 1.2.0. Use int_type.', DeprecationWarning)\n",
      "/home/albert/miniconda3/envs/tectf/lib/python3.6/site-packages/gpflow-1.3.0-py3.6.egg/gpflow/_settings.py:61: DeprecationWarning: tf_float is deprecated and will be removed at GPflow version 1.2.0. Use float_type.\n",
      "  'version 1.2.0. Use float_type.', DeprecationWarning)\n",
      "/home/albert/miniconda3/envs/tectf/lib/python3.6/site-packages/gpflow-1.3.0-py3.6.egg/gpflow/logdensities.py:91: DeprecationWarning: The 'warn' method is deprecated, use 'warning' instead\n",
      "  logger.warn('Shape of x must be 2D at computation.')\n",
      "WARNING:gpflow.logdensities:Shape of x must be 2D at computation.\n"
     ]
    },
    {
     "name": "stdout",
     "output_type": "stream",
     "text": [
      "INFO:tensorflow:Optimization terminated with:\n",
      "  Message: b'ABNORMAL_TERMINATION_IN_LNSRCH'\n",
      "  Objective function value: 1180.003776\n",
      "  Number of iterations: 12\n",
      "  Number of functions evaluations: 85\n"
     ]
    },
    {
     "name": "stderr",
     "output_type": "stream",
     "text": [
      "INFO:tensorflow:Optimization terminated with:\n",
      "  Message: b'ABNORMAL_TERMINATION_IN_LNSRCH'\n",
      "  Objective function value: 1180.003776\n",
      "  Number of iterations: 12\n",
      "  Number of functions evaluations: 85\n",
      "/home/albert/miniconda3/envs/tectf/lib/python3.6/site-packages/tables-3.4.4-py3.6-linux-x86_64.egg/tables/file.py:767: DeprecationWarning: The use of uppercase keyword parameters is deprecated\n",
      "  \"deprecated\", DeprecationWarning)\n",
      "/home/albert/miniconda3/envs/tectf/lib/python3.6/site-packages/tables-3.4.4-py3.6-linux-x86_64.egg/tables/file.py:767: DeprecationWarning: The use of uppercase keyword parameters is deprecated\n",
      "  \"deprecated\", DeprecationWarning)\n",
      "ERROR:root:Reference possible only for phase, scalarphase, clock, tec, tec3rd, and rotation solution tables. Ignore referencing.\n",
      "/home/albert/miniconda3/envs/tectf/lib/python3.6/site-packages/gpflow-1.3.0-py3.6.egg/gpflow/_settings.py:67: DeprecationWarning: tf_int is deprecated and will be removed at GPflow version 1.2.0. Use int_type.\n",
      "  'version 1.2.0. Use int_type.', DeprecationWarning)\n",
      "/home/albert/miniconda3/envs/tectf/lib/python3.6/site-packages/gpflow-1.3.0-py3.6.egg/gpflow/_settings.py:61: DeprecationWarning: tf_float is deprecated and will be removed at GPflow version 1.2.0. Use float_type.\n",
      "  'version 1.2.0. Use float_type.', DeprecationWarning)\n",
      "/home/albert/miniconda3/envs/tectf/lib/python3.6/site-packages/gpflow-1.3.0-py3.6.egg/gpflow/logdensities.py:91: DeprecationWarning: The 'warn' method is deprecated, use 'warning' instead\n",
      "  logger.warn('Shape of x must be 2D at computation.')\n",
      "WARNING:gpflow.logdensities:Shape of x must be 2D at computation.\n"
     ]
    },
    {
     "name": "stdout",
     "output_type": "stream",
     "text": [
      "INFO:tensorflow:Optimization terminated with:\n",
      "  Message: b'ABNORMAL_TERMINATION_IN_LNSRCH'\n",
      "  Objective function value: 1192.883319\n",
      "  Number of iterations: 15\n",
      "  Number of functions evaluations: 108\n"
     ]
    },
    {
     "name": "stderr",
     "output_type": "stream",
     "text": [
      "INFO:tensorflow:Optimization terminated with:\n",
      "  Message: b'ABNORMAL_TERMINATION_IN_LNSRCH'\n",
      "  Objective function value: 1192.883319\n",
      "  Number of iterations: 15\n",
      "  Number of functions evaluations: 108\n",
      "/home/albert/miniconda3/envs/tectf/lib/python3.6/site-packages/tables-3.4.4-py3.6-linux-x86_64.egg/tables/file.py:767: DeprecationWarning: The use of uppercase keyword parameters is deprecated\n",
      "  \"deprecated\", DeprecationWarning)\n",
      "/home/albert/miniconda3/envs/tectf/lib/python3.6/site-packages/tables-3.4.4-py3.6-linux-x86_64.egg/tables/file.py:767: DeprecationWarning: The use of uppercase keyword parameters is deprecated\n",
      "  \"deprecated\", DeprecationWarning)\n",
      "ERROR:root:Reference possible only for phase, scalarphase, clock, tec, tec3rd, and rotation solution tables. Ignore referencing.\n",
      "/home/albert/miniconda3/envs/tectf/lib/python3.6/site-packages/gpflow-1.3.0-py3.6.egg/gpflow/_settings.py:67: DeprecationWarning: tf_int is deprecated and will be removed at GPflow version 1.2.0. Use int_type.\n",
      "  'version 1.2.0. Use int_type.', DeprecationWarning)\n",
      "/home/albert/miniconda3/envs/tectf/lib/python3.6/site-packages/gpflow-1.3.0-py3.6.egg/gpflow/_settings.py:61: DeprecationWarning: tf_float is deprecated and will be removed at GPflow version 1.2.0. Use float_type.\n",
      "  'version 1.2.0. Use float_type.', DeprecationWarning)\n",
      "/home/albert/miniconda3/envs/tectf/lib/python3.6/site-packages/gpflow-1.3.0-py3.6.egg/gpflow/logdensities.py:91: DeprecationWarning: The 'warn' method is deprecated, use 'warning' instead\n",
      "  logger.warn('Shape of x must be 2D at computation.')\n",
      "WARNING:gpflow.logdensities:Shape of x must be 2D at computation.\n"
     ]
    },
    {
     "name": "stdout",
     "output_type": "stream",
     "text": [
      "INFO:tensorflow:Optimization terminated with:\n",
      "  Message: b'CONVERGENCE: REL_REDUCTION_OF_F_<=_FACTR*EPSMCH'\n",
      "  Objective function value: 682.003686\n",
      "  Number of iterations: 16\n",
      "  Number of functions evaluations: 64\n"
     ]
    },
    {
     "name": "stderr",
     "output_type": "stream",
     "text": [
      "INFO:tensorflow:Optimization terminated with:\n",
      "  Message: b'CONVERGENCE: REL_REDUCTION_OF_F_<=_FACTR*EPSMCH'\n",
      "  Objective function value: 682.003686\n",
      "  Number of iterations: 16\n",
      "  Number of functions evaluations: 64\n",
      "/home/albert/miniconda3/envs/tectf/lib/python3.6/site-packages/tables-3.4.4-py3.6-linux-x86_64.egg/tables/file.py:767: DeprecationWarning: The use of uppercase keyword parameters is deprecated\n",
      "  \"deprecated\", DeprecationWarning)\n",
      "/home/albert/miniconda3/envs/tectf/lib/python3.6/site-packages/tables-3.4.4-py3.6-linux-x86_64.egg/tables/file.py:767: DeprecationWarning: The use of uppercase keyword parameters is deprecated\n",
      "  \"deprecated\", DeprecationWarning)\n",
      "ERROR:root:Reference possible only for phase, scalarphase, clock, tec, tec3rd, and rotation solution tables. Ignore referencing.\n",
      "/home/albert/miniconda3/envs/tectf/lib/python3.6/site-packages/gpflow-1.3.0-py3.6.egg/gpflow/_settings.py:67: DeprecationWarning: tf_int is deprecated and will be removed at GPflow version 1.2.0. Use int_type.\n",
      "  'version 1.2.0. Use int_type.', DeprecationWarning)\n",
      "/home/albert/miniconda3/envs/tectf/lib/python3.6/site-packages/gpflow-1.3.0-py3.6.egg/gpflow/_settings.py:61: DeprecationWarning: tf_float is deprecated and will be removed at GPflow version 1.2.0. Use float_type.\n",
      "  'version 1.2.0. Use float_type.', DeprecationWarning)\n",
      "/home/albert/miniconda3/envs/tectf/lib/python3.6/site-packages/gpflow-1.3.0-py3.6.egg/gpflow/logdensities.py:91: DeprecationWarning: The 'warn' method is deprecated, use 'warning' instead\n",
      "  logger.warn('Shape of x must be 2D at computation.')\n",
      "WARNING:gpflow.logdensities:Shape of x must be 2D at computation.\n"
     ]
    },
    {
     "name": "stdout",
     "output_type": "stream",
     "text": [
      "INFO:tensorflow:Optimization terminated with:\n",
      "  Message: b'ABNORMAL_TERMINATION_IN_LNSRCH'\n",
      "  Objective function value: 602.049265\n",
      "  Number of iterations: 15\n",
      "  Number of functions evaluations: 63\n"
     ]
    },
    {
     "name": "stderr",
     "output_type": "stream",
     "text": [
      "INFO:tensorflow:Optimization terminated with:\n",
      "  Message: b'ABNORMAL_TERMINATION_IN_LNSRCH'\n",
      "  Objective function value: 602.049265\n",
      "  Number of iterations: 15\n",
      "  Number of functions evaluations: 63\n",
      "/home/albert/miniconda3/envs/tectf/lib/python3.6/site-packages/tables-3.4.4-py3.6-linux-x86_64.egg/tables/file.py:767: DeprecationWarning: The use of uppercase keyword parameters is deprecated\n",
      "  \"deprecated\", DeprecationWarning)\n",
      "/home/albert/miniconda3/envs/tectf/lib/python3.6/site-packages/tables-3.4.4-py3.6-linux-x86_64.egg/tables/file.py:767: DeprecationWarning: The use of uppercase keyword parameters is deprecated\n",
      "  \"deprecated\", DeprecationWarning)\n",
      "ERROR:root:Reference possible only for phase, scalarphase, clock, tec, tec3rd, and rotation solution tables. Ignore referencing.\n",
      "/home/albert/miniconda3/envs/tectf/lib/python3.6/site-packages/gpflow-1.3.0-py3.6.egg/gpflow/_settings.py:67: DeprecationWarning: tf_int is deprecated and will be removed at GPflow version 1.2.0. Use int_type.\n",
      "  'version 1.2.0. Use int_type.', DeprecationWarning)\n",
      "/home/albert/miniconda3/envs/tectf/lib/python3.6/site-packages/gpflow-1.3.0-py3.6.egg/gpflow/_settings.py:61: DeprecationWarning: tf_float is deprecated and will be removed at GPflow version 1.2.0. Use float_type.\n",
      "  'version 1.2.0. Use float_type.', DeprecationWarning)\n",
      "/home/albert/miniconda3/envs/tectf/lib/python3.6/site-packages/gpflow-1.3.0-py3.6.egg/gpflow/logdensities.py:91: DeprecationWarning: The 'warn' method is deprecated, use 'warning' instead\n",
      "  logger.warn('Shape of x must be 2D at computation.')\n",
      "WARNING:gpflow.logdensities:Shape of x must be 2D at computation.\n"
     ]
    },
    {
     "name": "stdout",
     "output_type": "stream",
     "text": [
      "INFO:tensorflow:Optimization terminated with:\n",
      "  Message: b'CONVERGENCE: REL_REDUCTION_OF_F_<=_FACTR*EPSMCH'\n",
      "  Objective function value: 837.091749\n",
      "  Number of iterations: 19\n",
      "  Number of functions evaluations: 59\n"
     ]
    },
    {
     "name": "stderr",
     "output_type": "stream",
     "text": [
      "INFO:tensorflow:Optimization terminated with:\n",
      "  Message: b'CONVERGENCE: REL_REDUCTION_OF_F_<=_FACTR*EPSMCH'\n",
      "  Objective function value: 837.091749\n",
      "  Number of iterations: 19\n",
      "  Number of functions evaluations: 59\n",
      "/home/albert/miniconda3/envs/tectf/lib/python3.6/site-packages/tables-3.4.4-py3.6-linux-x86_64.egg/tables/file.py:767: DeprecationWarning: The use of uppercase keyword parameters is deprecated\n",
      "  \"deprecated\", DeprecationWarning)\n",
      "/home/albert/miniconda3/envs/tectf/lib/python3.6/site-packages/tables-3.4.4-py3.6-linux-x86_64.egg/tables/file.py:767: DeprecationWarning: The use of uppercase keyword parameters is deprecated\n",
      "  \"deprecated\", DeprecationWarning)\n",
      "ERROR:root:Reference possible only for phase, scalarphase, clock, tec, tec3rd, and rotation solution tables. Ignore referencing.\n",
      "/home/albert/miniconda3/envs/tectf/lib/python3.6/site-packages/gpflow-1.3.0-py3.6.egg/gpflow/_settings.py:67: DeprecationWarning: tf_int is deprecated and will be removed at GPflow version 1.2.0. Use int_type.\n",
      "  'version 1.2.0. Use int_type.', DeprecationWarning)\n",
      "/home/albert/miniconda3/envs/tectf/lib/python3.6/site-packages/gpflow-1.3.0-py3.6.egg/gpflow/_settings.py:61: DeprecationWarning: tf_float is deprecated and will be removed at GPflow version 1.2.0. Use float_type.\n",
      "  'version 1.2.0. Use float_type.', DeprecationWarning)\n",
      "/home/albert/miniconda3/envs/tectf/lib/python3.6/site-packages/gpflow-1.3.0-py3.6.egg/gpflow/logdensities.py:91: DeprecationWarning: The 'warn' method is deprecated, use 'warning' instead\n",
      "  logger.warn('Shape of x must be 2D at computation.')\n",
      "WARNING:gpflow.logdensities:Shape of x must be 2D at computation.\n"
     ]
    },
    {
     "name": "stdout",
     "output_type": "stream",
     "text": [
      "INFO:tensorflow:Optimization terminated with:\n",
      "  Message: b'ABNORMAL_TERMINATION_IN_LNSRCH'\n",
      "  Objective function value: 991.324122\n",
      "  Number of iterations: 12\n",
      "  Number of functions evaluations: 54\n"
     ]
    },
    {
     "name": "stderr",
     "output_type": "stream",
     "text": [
      "INFO:tensorflow:Optimization terminated with:\n",
      "  Message: b'ABNORMAL_TERMINATION_IN_LNSRCH'\n",
      "  Objective function value: 991.324122\n",
      "  Number of iterations: 12\n",
      "  Number of functions evaluations: 54\n",
      "/home/albert/miniconda3/envs/tectf/lib/python3.6/site-packages/tables-3.4.4-py3.6-linux-x86_64.egg/tables/file.py:767: DeprecationWarning: The use of uppercase keyword parameters is deprecated\n",
      "  \"deprecated\", DeprecationWarning)\n",
      "/home/albert/miniconda3/envs/tectf/lib/python3.6/site-packages/tables-3.4.4-py3.6-linux-x86_64.egg/tables/file.py:767: DeprecationWarning: The use of uppercase keyword parameters is deprecated\n",
      "  \"deprecated\", DeprecationWarning)\n",
      "ERROR:root:Reference possible only for phase, scalarphase, clock, tec, tec3rd, and rotation solution tables. Ignore referencing.\n",
      "/home/albert/miniconda3/envs/tectf/lib/python3.6/site-packages/gpflow-1.3.0-py3.6.egg/gpflow/_settings.py:67: DeprecationWarning: tf_int is deprecated and will be removed at GPflow version 1.2.0. Use int_type.\n",
      "  'version 1.2.0. Use int_type.', DeprecationWarning)\n",
      "/home/albert/miniconda3/envs/tectf/lib/python3.6/site-packages/gpflow-1.3.0-py3.6.egg/gpflow/_settings.py:61: DeprecationWarning: tf_float is deprecated and will be removed at GPflow version 1.2.0. Use float_type.\n",
      "  'version 1.2.0. Use float_type.', DeprecationWarning)\n",
      "/home/albert/miniconda3/envs/tectf/lib/python3.6/site-packages/gpflow-1.3.0-py3.6.egg/gpflow/logdensities.py:91: DeprecationWarning: The 'warn' method is deprecated, use 'warning' instead\n",
      "  logger.warn('Shape of x must be 2D at computation.')\n",
      "WARNING:gpflow.logdensities:Shape of x must be 2D at computation.\n"
     ]
    },
    {
     "name": "stdout",
     "output_type": "stream",
     "text": [
      "INFO:tensorflow:Optimization terminated with:\n",
      "  Message: b'CONVERGENCE: REL_REDUCTION_OF_F_<=_FACTR*EPSMCH'\n",
      "  Objective function value: 657.271024\n",
      "  Number of iterations: 19\n",
      "  Number of functions evaluations: 88\n"
     ]
    },
    {
     "name": "stderr",
     "output_type": "stream",
     "text": [
      "INFO:tensorflow:Optimization terminated with:\n",
      "  Message: b'CONVERGENCE: REL_REDUCTION_OF_F_<=_FACTR*EPSMCH'\n",
      "  Objective function value: 657.271024\n",
      "  Number of iterations: 19\n",
      "  Number of functions evaluations: 88\n",
      "/home/albert/miniconda3/envs/tectf/lib/python3.6/site-packages/tables-3.4.4-py3.6-linux-x86_64.egg/tables/file.py:767: DeprecationWarning: The use of uppercase keyword parameters is deprecated\n",
      "  \"deprecated\", DeprecationWarning)\n",
      "/home/albert/miniconda3/envs/tectf/lib/python3.6/site-packages/tables-3.4.4-py3.6-linux-x86_64.egg/tables/file.py:767: DeprecationWarning: The use of uppercase keyword parameters is deprecated\n",
      "  \"deprecated\", DeprecationWarning)\n",
      "ERROR:root:Reference possible only for phase, scalarphase, clock, tec, tec3rd, and rotation solution tables. Ignore referencing.\n",
      "/home/albert/miniconda3/envs/tectf/lib/python3.6/site-packages/gpflow-1.3.0-py3.6.egg/gpflow/_settings.py:67: DeprecationWarning: tf_int is deprecated and will be removed at GPflow version 1.2.0. Use int_type.\n",
      "  'version 1.2.0. Use int_type.', DeprecationWarning)\n",
      "/home/albert/miniconda3/envs/tectf/lib/python3.6/site-packages/gpflow-1.3.0-py3.6.egg/gpflow/_settings.py:61: DeprecationWarning: tf_float is deprecated and will be removed at GPflow version 1.2.0. Use float_type.\n",
      "  'version 1.2.0. Use float_type.', DeprecationWarning)\n",
      "/home/albert/miniconda3/envs/tectf/lib/python3.6/site-packages/gpflow-1.3.0-py3.6.egg/gpflow/logdensities.py:91: DeprecationWarning: The 'warn' method is deprecated, use 'warning' instead\n",
      "  logger.warn('Shape of x must be 2D at computation.')\n",
      "WARNING:gpflow.logdensities:Shape of x must be 2D at computation.\n"
     ]
    },
    {
     "name": "stdout",
     "output_type": "stream",
     "text": [
      "INFO:tensorflow:Optimization terminated with:\n",
      "  Message: b'ABNORMAL_TERMINATION_IN_LNSRCH'\n",
      "  Objective function value: -436.077439\n",
      "  Number of iterations: 14\n",
      "  Number of functions evaluations: 79\n"
     ]
    },
    {
     "name": "stderr",
     "output_type": "stream",
     "text": [
      "INFO:tensorflow:Optimization terminated with:\n",
      "  Message: b'ABNORMAL_TERMINATION_IN_LNSRCH'\n",
      "  Objective function value: -436.077439\n",
      "  Number of iterations: 14\n",
      "  Number of functions evaluations: 79\n",
      "/home/albert/miniconda3/envs/tectf/lib/python3.6/site-packages/tables-3.4.4-py3.6-linux-x86_64.egg/tables/file.py:767: DeprecationWarning: The use of uppercase keyword parameters is deprecated\n",
      "  \"deprecated\", DeprecationWarning)\n",
      "/home/albert/miniconda3/envs/tectf/lib/python3.6/site-packages/tables-3.4.4-py3.6-linux-x86_64.egg/tables/file.py:767: DeprecationWarning: The use of uppercase keyword parameters is deprecated\n",
      "  \"deprecated\", DeprecationWarning)\n",
      "ERROR:root:Reference possible only for phase, scalarphase, clock, tec, tec3rd, and rotation solution tables. Ignore referencing.\n",
      "/home/albert/miniconda3/envs/tectf/lib/python3.6/site-packages/gpflow-1.3.0-py3.6.egg/gpflow/_settings.py:67: DeprecationWarning: tf_int is deprecated and will be removed at GPflow version 1.2.0. Use int_type.\n",
      "  'version 1.2.0. Use int_type.', DeprecationWarning)\n",
      "/home/albert/miniconda3/envs/tectf/lib/python3.6/site-packages/gpflow-1.3.0-py3.6.egg/gpflow/_settings.py:61: DeprecationWarning: tf_float is deprecated and will be removed at GPflow version 1.2.0. Use float_type.\n",
      "  'version 1.2.0. Use float_type.', DeprecationWarning)\n",
      "/home/albert/miniconda3/envs/tectf/lib/python3.6/site-packages/gpflow-1.3.0-py3.6.egg/gpflow/logdensities.py:91: DeprecationWarning: The 'warn' method is deprecated, use 'warning' instead\n",
      "  logger.warn('Shape of x must be 2D at computation.')\n",
      "WARNING:gpflow.logdensities:Shape of x must be 2D at computation.\n"
     ]
    },
    {
     "name": "stdout",
     "output_type": "stream",
     "text": [
      "INFO:tensorflow:Optimization terminated with:\n",
      "  Message: b'ABNORMAL_TERMINATION_IN_LNSRCH'\n",
      "  Objective function value: -1053.603488\n",
      "  Number of iterations: 19\n",
      "  Number of functions evaluations: 105\n"
     ]
    },
    {
     "name": "stderr",
     "output_type": "stream",
     "text": [
      "INFO:tensorflow:Optimization terminated with:\n",
      "  Message: b'ABNORMAL_TERMINATION_IN_LNSRCH'\n",
      "  Objective function value: -1053.603488\n",
      "  Number of iterations: 19\n",
      "  Number of functions evaluations: 105\n",
      "/home/albert/miniconda3/envs/tectf/lib/python3.6/site-packages/tables-3.4.4-py3.6-linux-x86_64.egg/tables/file.py:767: DeprecationWarning: The use of uppercase keyword parameters is deprecated\n",
      "  \"deprecated\", DeprecationWarning)\n",
      "/home/albert/miniconda3/envs/tectf/lib/python3.6/site-packages/tables-3.4.4-py3.6-linux-x86_64.egg/tables/file.py:767: DeprecationWarning: The use of uppercase keyword parameters is deprecated\n",
      "  \"deprecated\", DeprecationWarning)\n",
      "ERROR:root:Reference possible only for phase, scalarphase, clock, tec, tec3rd, and rotation solution tables. Ignore referencing.\n",
      "/home/albert/miniconda3/envs/tectf/lib/python3.6/site-packages/gpflow-1.3.0-py3.6.egg/gpflow/_settings.py:67: DeprecationWarning: tf_int is deprecated and will be removed at GPflow version 1.2.0. Use int_type.\n",
      "  'version 1.2.0. Use int_type.', DeprecationWarning)\n",
      "/home/albert/miniconda3/envs/tectf/lib/python3.6/site-packages/gpflow-1.3.0-py3.6.egg/gpflow/_settings.py:61: DeprecationWarning: tf_float is deprecated and will be removed at GPflow version 1.2.0. Use float_type.\n",
      "  'version 1.2.0. Use float_type.', DeprecationWarning)\n",
      "/home/albert/miniconda3/envs/tectf/lib/python3.6/site-packages/gpflow-1.3.0-py3.6.egg/gpflow/logdensities.py:91: DeprecationWarning: The 'warn' method is deprecated, use 'warning' instead\n",
      "  logger.warn('Shape of x must be 2D at computation.')\n",
      "WARNING:gpflow.logdensities:Shape of x must be 2D at computation.\n"
     ]
    },
    {
     "name": "stdout",
     "output_type": "stream",
     "text": [
      "INFO:tensorflow:Optimization terminated with:\n",
      "  Message: b'ABNORMAL_TERMINATION_IN_LNSRCH'\n",
      "  Objective function value: -1401.221181\n",
      "  Number of iterations: 20\n",
      "  Number of functions evaluations: 89\n"
     ]
    },
    {
     "name": "stderr",
     "output_type": "stream",
     "text": [
      "INFO:tensorflow:Optimization terminated with:\n",
      "  Message: b'ABNORMAL_TERMINATION_IN_LNSRCH'\n",
      "  Objective function value: -1401.221181\n",
      "  Number of iterations: 20\n",
      "  Number of functions evaluations: 89\n",
      "/home/albert/miniconda3/envs/tectf/lib/python3.6/site-packages/tables-3.4.4-py3.6-linux-x86_64.egg/tables/file.py:767: DeprecationWarning: The use of uppercase keyword parameters is deprecated\n",
      "  \"deprecated\", DeprecationWarning)\n",
      "/home/albert/miniconda3/envs/tectf/lib/python3.6/site-packages/tables-3.4.4-py3.6-linux-x86_64.egg/tables/file.py:767: DeprecationWarning: The use of uppercase keyword parameters is deprecated\n",
      "  \"deprecated\", DeprecationWarning)\n",
      "ERROR:root:Reference possible only for phase, scalarphase, clock, tec, tec3rd, and rotation solution tables. Ignore referencing.\n",
      "/home/albert/miniconda3/envs/tectf/lib/python3.6/site-packages/gpflow-1.3.0-py3.6.egg/gpflow/_settings.py:67: DeprecationWarning: tf_int is deprecated and will be removed at GPflow version 1.2.0. Use int_type.\n",
      "  'version 1.2.0. Use int_type.', DeprecationWarning)\n",
      "/home/albert/miniconda3/envs/tectf/lib/python3.6/site-packages/gpflow-1.3.0-py3.6.egg/gpflow/_settings.py:61: DeprecationWarning: tf_float is deprecated and will be removed at GPflow version 1.2.0. Use float_type.\n",
      "  'version 1.2.0. Use float_type.', DeprecationWarning)\n",
      "/home/albert/miniconda3/envs/tectf/lib/python3.6/site-packages/gpflow-1.3.0-py3.6.egg/gpflow/logdensities.py:91: DeprecationWarning: The 'warn' method is deprecated, use 'warning' instead\n",
      "  logger.warn('Shape of x must be 2D at computation.')\n",
      "WARNING:gpflow.logdensities:Shape of x must be 2D at computation.\n"
     ]
    },
    {
     "name": "stdout",
     "output_type": "stream",
     "text": [
      "INFO:tensorflow:Optimization terminated with:\n",
      "  Message: b'CONVERGENCE: REL_REDUCTION_OF_F_<=_FACTR*EPSMCH'\n",
      "  Objective function value: -1561.966243\n",
      "  Number of iterations: 19\n",
      "  Number of functions evaluations: 33\n"
     ]
    },
    {
     "name": "stderr",
     "output_type": "stream",
     "text": [
      "INFO:tensorflow:Optimization terminated with:\n",
      "  Message: b'CONVERGENCE: REL_REDUCTION_OF_F_<=_FACTR*EPSMCH'\n",
      "  Objective function value: -1561.966243\n",
      "  Number of iterations: 19\n",
      "  Number of functions evaluations: 33\n",
      "/home/albert/miniconda3/envs/tectf/lib/python3.6/site-packages/tables-3.4.4-py3.6-linux-x86_64.egg/tables/file.py:767: DeprecationWarning: The use of uppercase keyword parameters is deprecated\n",
      "  \"deprecated\", DeprecationWarning)\n",
      "/home/albert/miniconda3/envs/tectf/lib/python3.6/site-packages/tables-3.4.4-py3.6-linux-x86_64.egg/tables/file.py:767: DeprecationWarning: The use of uppercase keyword parameters is deprecated\n",
      "  \"deprecated\", DeprecationWarning)\n",
      "ERROR:root:Reference possible only for phase, scalarphase, clock, tec, tec3rd, and rotation solution tables. Ignore referencing.\n",
      "/home/albert/miniconda3/envs/tectf/lib/python3.6/site-packages/gpflow-1.3.0-py3.6.egg/gpflow/_settings.py:67: DeprecationWarning: tf_int is deprecated and will be removed at GPflow version 1.2.0. Use int_type.\n",
      "  'version 1.2.0. Use int_type.', DeprecationWarning)\n",
      "/home/albert/miniconda3/envs/tectf/lib/python3.6/site-packages/gpflow-1.3.0-py3.6.egg/gpflow/_settings.py:61: DeprecationWarning: tf_float is deprecated and will be removed at GPflow version 1.2.0. Use float_type.\n",
      "  'version 1.2.0. Use float_type.', DeprecationWarning)\n",
      "/home/albert/miniconda3/envs/tectf/lib/python3.6/site-packages/gpflow-1.3.0-py3.6.egg/gpflow/logdensities.py:91: DeprecationWarning: The 'warn' method is deprecated, use 'warning' instead\n",
      "  logger.warn('Shape of x must be 2D at computation.')\n",
      "WARNING:gpflow.logdensities:Shape of x must be 2D at computation.\n"
     ]
    },
    {
     "name": "stdout",
     "output_type": "stream",
     "text": [
      "INFO:tensorflow:Optimization terminated with:\n",
      "  Message: b'ABNORMAL_TERMINATION_IN_LNSRCH'\n",
      "  Objective function value: -1636.467210\n",
      "  Number of iterations: 19\n",
      "  Number of functions evaluations: 64\n"
     ]
    },
    {
     "name": "stderr",
     "output_type": "stream",
     "text": [
      "INFO:tensorflow:Optimization terminated with:\n",
      "  Message: b'ABNORMAL_TERMINATION_IN_LNSRCH'\n",
      "  Objective function value: -1636.467210\n",
      "  Number of iterations: 19\n",
      "  Number of functions evaluations: 64\n",
      "/home/albert/miniconda3/envs/tectf/lib/python3.6/site-packages/tables-3.4.4-py3.6-linux-x86_64.egg/tables/file.py:767: DeprecationWarning: The use of uppercase keyword parameters is deprecated\n",
      "  \"deprecated\", DeprecationWarning)\n",
      "/home/albert/miniconda3/envs/tectf/lib/python3.6/site-packages/tables-3.4.4-py3.6-linux-x86_64.egg/tables/file.py:767: DeprecationWarning: The use of uppercase keyword parameters is deprecated\n",
      "  \"deprecated\", DeprecationWarning)\n",
      "ERROR:root:Reference possible only for phase, scalarphase, clock, tec, tec3rd, and rotation solution tables. Ignore referencing.\n",
      "/home/albert/miniconda3/envs/tectf/lib/python3.6/site-packages/gpflow-1.3.0-py3.6.egg/gpflow/_settings.py:67: DeprecationWarning: tf_int is deprecated and will be removed at GPflow version 1.2.0. Use int_type.\n",
      "  'version 1.2.0. Use int_type.', DeprecationWarning)\n",
      "/home/albert/miniconda3/envs/tectf/lib/python3.6/site-packages/gpflow-1.3.0-py3.6.egg/gpflow/_settings.py:61: DeprecationWarning: tf_float is deprecated and will be removed at GPflow version 1.2.0. Use float_type.\n",
      "  'version 1.2.0. Use float_type.', DeprecationWarning)\n",
      "/home/albert/miniconda3/envs/tectf/lib/python3.6/site-packages/gpflow-1.3.0-py3.6.egg/gpflow/logdensities.py:91: DeprecationWarning: The 'warn' method is deprecated, use 'warning' instead\n",
      "  logger.warn('Shape of x must be 2D at computation.')\n",
      "WARNING:gpflow.logdensities:Shape of x must be 2D at computation.\n"
     ]
    },
    {
     "name": "stdout",
     "output_type": "stream",
     "text": [
      "INFO:tensorflow:Optimization terminated with:\n",
      "  Message: b'CONVERGENCE: REL_REDUCTION_OF_F_<=_FACTR*EPSMCH'\n",
      "  Objective function value: -1709.802150\n",
      "  Number of iterations: 21\n",
      "  Number of functions evaluations: 33\n"
     ]
    },
    {
     "name": "stderr",
     "output_type": "stream",
     "text": [
      "INFO:tensorflow:Optimization terminated with:\n",
      "  Message: b'CONVERGENCE: REL_REDUCTION_OF_F_<=_FACTR*EPSMCH'\n",
      "  Objective function value: -1709.802150\n",
      "  Number of iterations: 21\n",
      "  Number of functions evaluations: 33\n",
      "/home/albert/miniconda3/envs/tectf/lib/python3.6/site-packages/tables-3.4.4-py3.6-linux-x86_64.egg/tables/file.py:767: DeprecationWarning: The use of uppercase keyword parameters is deprecated\n",
      "  \"deprecated\", DeprecationWarning)\n",
      "/home/albert/miniconda3/envs/tectf/lib/python3.6/site-packages/tables-3.4.4-py3.6-linux-x86_64.egg/tables/file.py:767: DeprecationWarning: The use of uppercase keyword parameters is deprecated\n",
      "  \"deprecated\", DeprecationWarning)\n",
      "ERROR:root:Reference possible only for phase, scalarphase, clock, tec, tec3rd, and rotation solution tables. Ignore referencing.\n",
      "/home/albert/miniconda3/envs/tectf/lib/python3.6/site-packages/gpflow-1.3.0-py3.6.egg/gpflow/_settings.py:67: DeprecationWarning: tf_int is deprecated and will be removed at GPflow version 1.2.0. Use int_type.\n",
      "  'version 1.2.0. Use int_type.', DeprecationWarning)\n",
      "/home/albert/miniconda3/envs/tectf/lib/python3.6/site-packages/gpflow-1.3.0-py3.6.egg/gpflow/_settings.py:61: DeprecationWarning: tf_float is deprecated and will be removed at GPflow version 1.2.0. Use float_type.\n",
      "  'version 1.2.0. Use float_type.', DeprecationWarning)\n",
      "/home/albert/miniconda3/envs/tectf/lib/python3.6/site-packages/gpflow-1.3.0-py3.6.egg/gpflow/logdensities.py:91: DeprecationWarning: The 'warn' method is deprecated, use 'warning' instead\n",
      "  logger.warn('Shape of x must be 2D at computation.')\n",
      "WARNING:gpflow.logdensities:Shape of x must be 2D at computation.\n"
     ]
    },
    {
     "name": "stdout",
     "output_type": "stream",
     "text": [
      "INFO:tensorflow:Optimization terminated with:\n",
      "  Message: b'ABNORMAL_TERMINATION_IN_LNSRCH'\n",
      "  Objective function value: -1670.732198\n",
      "  Number of iterations: 21\n",
      "  Number of functions evaluations: 95\n"
     ]
    },
    {
     "name": "stderr",
     "output_type": "stream",
     "text": [
      "INFO:tensorflow:Optimization terminated with:\n",
      "  Message: b'ABNORMAL_TERMINATION_IN_LNSRCH'\n",
      "  Objective function value: -1670.732198\n",
      "  Number of iterations: 21\n",
      "  Number of functions evaluations: 95\n",
      "/home/albert/miniconda3/envs/tectf/lib/python3.6/site-packages/tables-3.4.4-py3.6-linux-x86_64.egg/tables/file.py:767: DeprecationWarning: The use of uppercase keyword parameters is deprecated\n",
      "  \"deprecated\", DeprecationWarning)\n",
      "/home/albert/miniconda3/envs/tectf/lib/python3.6/site-packages/tables-3.4.4-py3.6-linux-x86_64.egg/tables/file.py:767: DeprecationWarning: The use of uppercase keyword parameters is deprecated\n",
      "  \"deprecated\", DeprecationWarning)\n",
      "ERROR:root:Reference possible only for phase, scalarphase, clock, tec, tec3rd, and rotation solution tables. Ignore referencing.\n",
      "/home/albert/miniconda3/envs/tectf/lib/python3.6/site-packages/gpflow-1.3.0-py3.6.egg/gpflow/_settings.py:67: DeprecationWarning: tf_int is deprecated and will be removed at GPflow version 1.2.0. Use int_type.\n",
      "  'version 1.2.0. Use int_type.', DeprecationWarning)\n",
      "/home/albert/miniconda3/envs/tectf/lib/python3.6/site-packages/gpflow-1.3.0-py3.6.egg/gpflow/_settings.py:61: DeprecationWarning: tf_float is deprecated and will be removed at GPflow version 1.2.0. Use float_type.\n",
      "  'version 1.2.0. Use float_type.', DeprecationWarning)\n",
      "/home/albert/miniconda3/envs/tectf/lib/python3.6/site-packages/gpflow-1.3.0-py3.6.egg/gpflow/logdensities.py:91: DeprecationWarning: The 'warn' method is deprecated, use 'warning' instead\n",
      "  logger.warn('Shape of x must be 2D at computation.')\n",
      "WARNING:gpflow.logdensities:Shape of x must be 2D at computation.\n"
     ]
    },
    {
     "name": "stdout",
     "output_type": "stream",
     "text": [
      "INFO:tensorflow:Optimization terminated with:\n",
      "  Message: b'CONVERGENCE: REL_REDUCTION_OF_F_<=_FACTR*EPSMCH'\n",
      "  Objective function value: -1695.776133\n",
      "  Number of iterations: 20\n",
      "  Number of functions evaluations: 24\n"
     ]
    },
    {
     "name": "stderr",
     "output_type": "stream",
     "text": [
      "INFO:tensorflow:Optimization terminated with:\n",
      "  Message: b'CONVERGENCE: REL_REDUCTION_OF_F_<=_FACTR*EPSMCH'\n",
      "  Objective function value: -1695.776133\n",
      "  Number of iterations: 20\n",
      "  Number of functions evaluations: 24\n",
      "/home/albert/miniconda3/envs/tectf/lib/python3.6/site-packages/tables-3.4.4-py3.6-linux-x86_64.egg/tables/file.py:767: DeprecationWarning: The use of uppercase keyword parameters is deprecated\n",
      "  \"deprecated\", DeprecationWarning)\n",
      "/home/albert/miniconda3/envs/tectf/lib/python3.6/site-packages/tables-3.4.4-py3.6-linux-x86_64.egg/tables/file.py:767: DeprecationWarning: The use of uppercase keyword parameters is deprecated\n",
      "  \"deprecated\", DeprecationWarning)\n",
      "ERROR:root:Reference possible only for phase, scalarphase, clock, tec, tec3rd, and rotation solution tables. Ignore referencing.\n",
      "/home/albert/miniconda3/envs/tectf/lib/python3.6/site-packages/gpflow-1.3.0-py3.6.egg/gpflow/_settings.py:67: DeprecationWarning: tf_int is deprecated and will be removed at GPflow version 1.2.0. Use int_type.\n",
      "  'version 1.2.0. Use int_type.', DeprecationWarning)\n",
      "/home/albert/miniconda3/envs/tectf/lib/python3.6/site-packages/gpflow-1.3.0-py3.6.egg/gpflow/_settings.py:61: DeprecationWarning: tf_float is deprecated and will be removed at GPflow version 1.2.0. Use float_type.\n",
      "  'version 1.2.0. Use float_type.', DeprecationWarning)\n",
      "/home/albert/miniconda3/envs/tectf/lib/python3.6/site-packages/gpflow-1.3.0-py3.6.egg/gpflow/logdensities.py:91: DeprecationWarning: The 'warn' method is deprecated, use 'warning' instead\n",
      "  logger.warn('Shape of x must be 2D at computation.')\n",
      "WARNING:gpflow.logdensities:Shape of x must be 2D at computation.\n"
     ]
    },
    {
     "name": "stdout",
     "output_type": "stream",
     "text": [
      "INFO:tensorflow:Optimization terminated with:\n",
      "  Message: b'CONVERGENCE: REL_REDUCTION_OF_F_<=_FACTR*EPSMCH'\n",
      "  Objective function value: -1783.745180\n",
      "  Number of iterations: 22\n",
      "  Number of functions evaluations: 24\n"
     ]
    },
    {
     "name": "stderr",
     "output_type": "stream",
     "text": [
      "INFO:tensorflow:Optimization terminated with:\n",
      "  Message: b'CONVERGENCE: REL_REDUCTION_OF_F_<=_FACTR*EPSMCH'\n",
      "  Objective function value: -1783.745180\n",
      "  Number of iterations: 22\n",
      "  Number of functions evaluations: 24\n",
      "/home/albert/miniconda3/envs/tectf/lib/python3.6/site-packages/tables-3.4.4-py3.6-linux-x86_64.egg/tables/file.py:767: DeprecationWarning: The use of uppercase keyword parameters is deprecated\n",
      "  \"deprecated\", DeprecationWarning)\n",
      "/home/albert/miniconda3/envs/tectf/lib/python3.6/site-packages/tables-3.4.4-py3.6-linux-x86_64.egg/tables/file.py:767: DeprecationWarning: The use of uppercase keyword parameters is deprecated\n",
      "  \"deprecated\", DeprecationWarning)\n",
      "ERROR:root:Reference possible only for phase, scalarphase, clock, tec, tec3rd, and rotation solution tables. Ignore referencing.\n",
      "/home/albert/miniconda3/envs/tectf/lib/python3.6/site-packages/gpflow-1.3.0-py3.6.egg/gpflow/_settings.py:67: DeprecationWarning: tf_int is deprecated and will be removed at GPflow version 1.2.0. Use int_type.\n",
      "  'version 1.2.0. Use int_type.', DeprecationWarning)\n",
      "/home/albert/miniconda3/envs/tectf/lib/python3.6/site-packages/gpflow-1.3.0-py3.6.egg/gpflow/_settings.py:61: DeprecationWarning: tf_float is deprecated and will be removed at GPflow version 1.2.0. Use float_type.\n",
      "  'version 1.2.0. Use float_type.', DeprecationWarning)\n",
      "/home/albert/miniconda3/envs/tectf/lib/python3.6/site-packages/gpflow-1.3.0-py3.6.egg/gpflow/logdensities.py:91: DeprecationWarning: The 'warn' method is deprecated, use 'warning' instead\n",
      "  logger.warn('Shape of x must be 2D at computation.')\n",
      "WARNING:gpflow.logdensities:Shape of x must be 2D at computation.\n"
     ]
    },
    {
     "name": "stdout",
     "output_type": "stream",
     "text": [
      "INFO:tensorflow:Optimization terminated with:\n",
      "  Message: b'ABNORMAL_TERMINATION_IN_LNSRCH'\n",
      "  Objective function value: -1685.105836\n",
      "  Number of iterations: 18\n",
      "  Number of functions evaluations: 68\n"
     ]
    },
    {
     "name": "stderr",
     "output_type": "stream",
     "text": [
      "INFO:tensorflow:Optimization terminated with:\n",
      "  Message: b'ABNORMAL_TERMINATION_IN_LNSRCH'\n",
      "  Objective function value: -1685.105836\n",
      "  Number of iterations: 18\n",
      "  Number of functions evaluations: 68\n",
      "/home/albert/miniconda3/envs/tectf/lib/python3.6/site-packages/tables-3.4.4-py3.6-linux-x86_64.egg/tables/file.py:767: DeprecationWarning: The use of uppercase keyword parameters is deprecated\n",
      "  \"deprecated\", DeprecationWarning)\n",
      "/home/albert/miniconda3/envs/tectf/lib/python3.6/site-packages/tables-3.4.4-py3.6-linux-x86_64.egg/tables/file.py:767: DeprecationWarning: The use of uppercase keyword parameters is deprecated\n",
      "  \"deprecated\", DeprecationWarning)\n",
      "ERROR:root:Reference possible only for phase, scalarphase, clock, tec, tec3rd, and rotation solution tables. Ignore referencing.\n",
      "/home/albert/miniconda3/envs/tectf/lib/python3.6/site-packages/gpflow-1.3.0-py3.6.egg/gpflow/_settings.py:67: DeprecationWarning: tf_int is deprecated and will be removed at GPflow version 1.2.0. Use int_type.\n",
      "  'version 1.2.0. Use int_type.', DeprecationWarning)\n",
      "/home/albert/miniconda3/envs/tectf/lib/python3.6/site-packages/gpflow-1.3.0-py3.6.egg/gpflow/_settings.py:61: DeprecationWarning: tf_float is deprecated and will be removed at GPflow version 1.2.0. Use float_type.\n",
      "  'version 1.2.0. Use float_type.', DeprecationWarning)\n",
      "/home/albert/miniconda3/envs/tectf/lib/python3.6/site-packages/gpflow-1.3.0-py3.6.egg/gpflow/logdensities.py:91: DeprecationWarning: The 'warn' method is deprecated, use 'warning' instead\n",
      "  logger.warn('Shape of x must be 2D at computation.')\n",
      "WARNING:gpflow.logdensities:Shape of x must be 2D at computation.\n"
     ]
    },
    {
     "name": "stdout",
     "output_type": "stream",
     "text": [
      "INFO:tensorflow:Optimization terminated with:\n",
      "  Message: b'ABNORMAL_TERMINATION_IN_LNSRCH'\n",
      "  Objective function value: -1607.143401\n",
      "  Number of iterations: 14\n",
      "  Number of functions evaluations: 57\n"
     ]
    },
    {
     "name": "stderr",
     "output_type": "stream",
     "text": [
      "INFO:tensorflow:Optimization terminated with:\n",
      "  Message: b'ABNORMAL_TERMINATION_IN_LNSRCH'\n",
      "  Objective function value: -1607.143401\n",
      "  Number of iterations: 14\n",
      "  Number of functions evaluations: 57\n",
      "/home/albert/miniconda3/envs/tectf/lib/python3.6/site-packages/tables-3.4.4-py3.6-linux-x86_64.egg/tables/file.py:767: DeprecationWarning: The use of uppercase keyword parameters is deprecated\n",
      "  \"deprecated\", DeprecationWarning)\n",
      "/home/albert/miniconda3/envs/tectf/lib/python3.6/site-packages/tables-3.4.4-py3.6-linux-x86_64.egg/tables/file.py:767: DeprecationWarning: The use of uppercase keyword parameters is deprecated\n",
      "  \"deprecated\", DeprecationWarning)\n",
      "ERROR:root:Reference possible only for phase, scalarphase, clock, tec, tec3rd, and rotation solution tables. Ignore referencing.\n",
      "/home/albert/miniconda3/envs/tectf/lib/python3.6/site-packages/gpflow-1.3.0-py3.6.egg/gpflow/_settings.py:67: DeprecationWarning: tf_int is deprecated and will be removed at GPflow version 1.2.0. Use int_type.\n",
      "  'version 1.2.0. Use int_type.', DeprecationWarning)\n",
      "/home/albert/miniconda3/envs/tectf/lib/python3.6/site-packages/gpflow-1.3.0-py3.6.egg/gpflow/_settings.py:61: DeprecationWarning: tf_float is deprecated and will be removed at GPflow version 1.2.0. Use float_type.\n",
      "  'version 1.2.0. Use float_type.', DeprecationWarning)\n",
      "/home/albert/miniconda3/envs/tectf/lib/python3.6/site-packages/gpflow-1.3.0-py3.6.egg/gpflow/logdensities.py:91: DeprecationWarning: The 'warn' method is deprecated, use 'warning' instead\n",
      "  logger.warn('Shape of x must be 2D at computation.')\n",
      "WARNING:gpflow.logdensities:Shape of x must be 2D at computation.\n"
     ]
    },
    {
     "name": "stdout",
     "output_type": "stream",
     "text": [
      "INFO:tensorflow:Optimization terminated with:\n",
      "  Message: b'CONVERGENCE: REL_REDUCTION_OF_F_<=_FACTR*EPSMCH'\n",
      "  Objective function value: -1586.617022\n",
      "  Number of iterations: 16\n",
      "  Number of functions evaluations: 53\n"
     ]
    },
    {
     "name": "stderr",
     "output_type": "stream",
     "text": [
      "INFO:tensorflow:Optimization terminated with:\n",
      "  Message: b'CONVERGENCE: REL_REDUCTION_OF_F_<=_FACTR*EPSMCH'\n",
      "  Objective function value: -1586.617022\n",
      "  Number of iterations: 16\n",
      "  Number of functions evaluations: 53\n",
      "/home/albert/miniconda3/envs/tectf/lib/python3.6/site-packages/tables-3.4.4-py3.6-linux-x86_64.egg/tables/file.py:767: DeprecationWarning: The use of uppercase keyword parameters is deprecated\n",
      "  \"deprecated\", DeprecationWarning)\n",
      "/home/albert/miniconda3/envs/tectf/lib/python3.6/site-packages/tables-3.4.4-py3.6-linux-x86_64.egg/tables/file.py:767: DeprecationWarning: The use of uppercase keyword parameters is deprecated\n",
      "  \"deprecated\", DeprecationWarning)\n",
      "ERROR:root:Reference possible only for phase, scalarphase, clock, tec, tec3rd, and rotation solution tables. Ignore referencing.\n",
      "/home/albert/miniconda3/envs/tectf/lib/python3.6/site-packages/gpflow-1.3.0-py3.6.egg/gpflow/_settings.py:67: DeprecationWarning: tf_int is deprecated and will be removed at GPflow version 1.2.0. Use int_type.\n",
      "  'version 1.2.0. Use int_type.', DeprecationWarning)\n",
      "/home/albert/miniconda3/envs/tectf/lib/python3.6/site-packages/gpflow-1.3.0-py3.6.egg/gpflow/_settings.py:61: DeprecationWarning: tf_float is deprecated and will be removed at GPflow version 1.2.0. Use float_type.\n",
      "  'version 1.2.0. Use float_type.', DeprecationWarning)\n",
      "/home/albert/miniconda3/envs/tectf/lib/python3.6/site-packages/gpflow-1.3.0-py3.6.egg/gpflow/logdensities.py:91: DeprecationWarning: The 'warn' method is deprecated, use 'warning' instead\n",
      "  logger.warn('Shape of x must be 2D at computation.')\n",
      "WARNING:gpflow.logdensities:Shape of x must be 2D at computation.\n"
     ]
    },
    {
     "name": "stdout",
     "output_type": "stream",
     "text": [
      "INFO:tensorflow:Optimization terminated with:\n",
      "  Message: b'CONVERGENCE: REL_REDUCTION_OF_F_<=_FACTR*EPSMCH'\n",
      "  Objective function value: -1567.954653\n",
      "  Number of iterations: 14\n",
      "  Number of functions evaluations: 33\n"
     ]
    },
    {
     "name": "stderr",
     "output_type": "stream",
     "text": [
      "INFO:tensorflow:Optimization terminated with:\n",
      "  Message: b'CONVERGENCE: REL_REDUCTION_OF_F_<=_FACTR*EPSMCH'\n",
      "  Objective function value: -1567.954653\n",
      "  Number of iterations: 14\n",
      "  Number of functions evaluations: 33\n",
      "/home/albert/miniconda3/envs/tectf/lib/python3.6/site-packages/tables-3.4.4-py3.6-linux-x86_64.egg/tables/file.py:767: DeprecationWarning: The use of uppercase keyword parameters is deprecated\n",
      "  \"deprecated\", DeprecationWarning)\n",
      "/home/albert/miniconda3/envs/tectf/lib/python3.6/site-packages/tables-3.4.4-py3.6-linux-x86_64.egg/tables/file.py:767: DeprecationWarning: The use of uppercase keyword parameters is deprecated\n",
      "  \"deprecated\", DeprecationWarning)\n",
      "ERROR:root:Reference possible only for phase, scalarphase, clock, tec, tec3rd, and rotation solution tables. Ignore referencing.\n",
      "/home/albert/miniconda3/envs/tectf/lib/python3.6/site-packages/gpflow-1.3.0-py3.6.egg/gpflow/_settings.py:67: DeprecationWarning: tf_int is deprecated and will be removed at GPflow version 1.2.0. Use int_type.\n",
      "  'version 1.2.0. Use int_type.', DeprecationWarning)\n",
      "/home/albert/miniconda3/envs/tectf/lib/python3.6/site-packages/gpflow-1.3.0-py3.6.egg/gpflow/_settings.py:61: DeprecationWarning: tf_float is deprecated and will be removed at GPflow version 1.2.0. Use float_type.\n",
      "  'version 1.2.0. Use float_type.', DeprecationWarning)\n",
      "/home/albert/miniconda3/envs/tectf/lib/python3.6/site-packages/gpflow-1.3.0-py3.6.egg/gpflow/logdensities.py:91: DeprecationWarning: The 'warn' method is deprecated, use 'warning' instead\n",
      "  logger.warn('Shape of x must be 2D at computation.')\n",
      "WARNING:gpflow.logdensities:Shape of x must be 2D at computation.\n"
     ]
    },
    {
     "name": "stdout",
     "output_type": "stream",
     "text": [
      "INFO:tensorflow:Optimization terminated with:\n",
      "  Message: b'ABNORMAL_TERMINATION_IN_LNSRCH'\n",
      "  Objective function value: -1540.687810\n",
      "  Number of iterations: 17\n",
      "  Number of functions evaluations: 68\n"
     ]
    },
    {
     "name": "stderr",
     "output_type": "stream",
     "text": [
      "INFO:tensorflow:Optimization terminated with:\n",
      "  Message: b'ABNORMAL_TERMINATION_IN_LNSRCH'\n",
      "  Objective function value: -1540.687810\n",
      "  Number of iterations: 17\n",
      "  Number of functions evaluations: 68\n",
      "/home/albert/miniconda3/envs/tectf/lib/python3.6/site-packages/tables-3.4.4-py3.6-linux-x86_64.egg/tables/file.py:767: DeprecationWarning: The use of uppercase keyword parameters is deprecated\n",
      "  \"deprecated\", DeprecationWarning)\n",
      "/home/albert/miniconda3/envs/tectf/lib/python3.6/site-packages/tables-3.4.4-py3.6-linux-x86_64.egg/tables/file.py:767: DeprecationWarning: The use of uppercase keyword parameters is deprecated\n",
      "  \"deprecated\", DeprecationWarning)\n",
      "ERROR:root:Reference possible only for phase, scalarphase, clock, tec, tec3rd, and rotation solution tables. Ignore referencing.\n",
      "/home/albert/miniconda3/envs/tectf/lib/python3.6/site-packages/gpflow-1.3.0-py3.6.egg/gpflow/_settings.py:67: DeprecationWarning: tf_int is deprecated and will be removed at GPflow version 1.2.0. Use int_type.\n",
      "  'version 1.2.0. Use int_type.', DeprecationWarning)\n",
      "/home/albert/miniconda3/envs/tectf/lib/python3.6/site-packages/gpflow-1.3.0-py3.6.egg/gpflow/_settings.py:61: DeprecationWarning: tf_float is deprecated and will be removed at GPflow version 1.2.0. Use float_type.\n",
      "  'version 1.2.0. Use float_type.', DeprecationWarning)\n",
      "/home/albert/miniconda3/envs/tectf/lib/python3.6/site-packages/gpflow-1.3.0-py3.6.egg/gpflow/logdensities.py:91: DeprecationWarning: The 'warn' method is deprecated, use 'warning' instead\n",
      "  logger.warn('Shape of x must be 2D at computation.')\n",
      "WARNING:gpflow.logdensities:Shape of x must be 2D at computation.\n"
     ]
    },
    {
     "name": "stdout",
     "output_type": "stream",
     "text": [
      "INFO:tensorflow:Optimization terminated with:\n",
      "  Message: b'ABNORMAL_TERMINATION_IN_LNSRCH'\n",
      "  Objective function value: -1578.077262\n",
      "  Number of iterations: 14\n",
      "  Number of functions evaluations: 57\n"
     ]
    },
    {
     "name": "stderr",
     "output_type": "stream",
     "text": [
      "INFO:tensorflow:Optimization terminated with:\n",
      "  Message: b'ABNORMAL_TERMINATION_IN_LNSRCH'\n",
      "  Objective function value: -1578.077262\n",
      "  Number of iterations: 14\n",
      "  Number of functions evaluations: 57\n",
      "/home/albert/miniconda3/envs/tectf/lib/python3.6/site-packages/tables-3.4.4-py3.6-linux-x86_64.egg/tables/file.py:767: DeprecationWarning: The use of uppercase keyword parameters is deprecated\n",
      "  \"deprecated\", DeprecationWarning)\n",
      "/home/albert/miniconda3/envs/tectf/lib/python3.6/site-packages/tables-3.4.4-py3.6-linux-x86_64.egg/tables/file.py:767: DeprecationWarning: The use of uppercase keyword parameters is deprecated\n",
      "  \"deprecated\", DeprecationWarning)\n",
      "ERROR:root:Reference possible only for phase, scalarphase, clock, tec, tec3rd, and rotation solution tables. Ignore referencing.\n",
      "/home/albert/miniconda3/envs/tectf/lib/python3.6/site-packages/gpflow-1.3.0-py3.6.egg/gpflow/_settings.py:67: DeprecationWarning: tf_int is deprecated and will be removed at GPflow version 1.2.0. Use int_type.\n",
      "  'version 1.2.0. Use int_type.', DeprecationWarning)\n",
      "/home/albert/miniconda3/envs/tectf/lib/python3.6/site-packages/gpflow-1.3.0-py3.6.egg/gpflow/_settings.py:61: DeprecationWarning: tf_float is deprecated and will be removed at GPflow version 1.2.0. Use float_type.\n",
      "  'version 1.2.0. Use float_type.', DeprecationWarning)\n",
      "/home/albert/miniconda3/envs/tectf/lib/python3.6/site-packages/gpflow-1.3.0-py3.6.egg/gpflow/logdensities.py:91: DeprecationWarning: The 'warn' method is deprecated, use 'warning' instead\n",
      "  logger.warn('Shape of x must be 2D at computation.')\n",
      "WARNING:gpflow.logdensities:Shape of x must be 2D at computation.\n"
     ]
    },
    {
     "name": "stdout",
     "output_type": "stream",
     "text": [
      "INFO:tensorflow:Optimization terminated with:\n",
      "  Message: b'CONVERGENCE: REL_REDUCTION_OF_F_<=_FACTR*EPSMCH'\n",
      "  Objective function value: -1648.828497\n",
      "  Number of iterations: 18\n",
      "  Number of functions evaluations: 20\n"
     ]
    },
    {
     "name": "stderr",
     "output_type": "stream",
     "text": [
      "INFO:tensorflow:Optimization terminated with:\n",
      "  Message: b'CONVERGENCE: REL_REDUCTION_OF_F_<=_FACTR*EPSMCH'\n",
      "  Objective function value: -1648.828497\n",
      "  Number of iterations: 18\n",
      "  Number of functions evaluations: 20\n",
      "/home/albert/miniconda3/envs/tectf/lib/python3.6/site-packages/tables-3.4.4-py3.6-linux-x86_64.egg/tables/file.py:767: DeprecationWarning: The use of uppercase keyword parameters is deprecated\n",
      "  \"deprecated\", DeprecationWarning)\n",
      "/home/albert/miniconda3/envs/tectf/lib/python3.6/site-packages/tables-3.4.4-py3.6-linux-x86_64.egg/tables/file.py:767: DeprecationWarning: The use of uppercase keyword parameters is deprecated\n",
      "  \"deprecated\", DeprecationWarning)\n",
      "ERROR:root:Reference possible only for phase, scalarphase, clock, tec, tec3rd, and rotation solution tables. Ignore referencing.\n",
      "/home/albert/miniconda3/envs/tectf/lib/python3.6/site-packages/gpflow-1.3.0-py3.6.egg/gpflow/_settings.py:67: DeprecationWarning: tf_int is deprecated and will be removed at GPflow version 1.2.0. Use int_type.\n",
      "  'version 1.2.0. Use int_type.', DeprecationWarning)\n",
      "/home/albert/miniconda3/envs/tectf/lib/python3.6/site-packages/gpflow-1.3.0-py3.6.egg/gpflow/_settings.py:61: DeprecationWarning: tf_float is deprecated and will be removed at GPflow version 1.2.0. Use float_type.\n",
      "  'version 1.2.0. Use float_type.', DeprecationWarning)\n",
      "/home/albert/miniconda3/envs/tectf/lib/python3.6/site-packages/gpflow-1.3.0-py3.6.egg/gpflow/logdensities.py:91: DeprecationWarning: The 'warn' method is deprecated, use 'warning' instead\n",
      "  logger.warn('Shape of x must be 2D at computation.')\n",
      "WARNING:gpflow.logdensities:Shape of x must be 2D at computation.\n"
     ]
    },
    {
     "name": "stdout",
     "output_type": "stream",
     "text": [
      "INFO:tensorflow:Optimization terminated with:\n",
      "  Message: b'ABNORMAL_TERMINATION_IN_LNSRCH'\n",
      "  Objective function value: -1664.950660\n",
      "  Number of iterations: 17\n",
      "  Number of functions evaluations: 59\n"
     ]
    },
    {
     "name": "stderr",
     "output_type": "stream",
     "text": [
      "INFO:tensorflow:Optimization terminated with:\n",
      "  Message: b'ABNORMAL_TERMINATION_IN_LNSRCH'\n",
      "  Objective function value: -1664.950660\n",
      "  Number of iterations: 17\n",
      "  Number of functions evaluations: 59\n",
      "/home/albert/miniconda3/envs/tectf/lib/python3.6/site-packages/tables-3.4.4-py3.6-linux-x86_64.egg/tables/file.py:767: DeprecationWarning: The use of uppercase keyword parameters is deprecated\n",
      "  \"deprecated\", DeprecationWarning)\n",
      "/home/albert/miniconda3/envs/tectf/lib/python3.6/site-packages/tables-3.4.4-py3.6-linux-x86_64.egg/tables/file.py:767: DeprecationWarning: The use of uppercase keyword parameters is deprecated\n",
      "  \"deprecated\", DeprecationWarning)\n",
      "ERROR:root:Reference possible only for phase, scalarphase, clock, tec, tec3rd, and rotation solution tables. Ignore referencing.\n",
      "/home/albert/miniconda3/envs/tectf/lib/python3.6/site-packages/gpflow-1.3.0-py3.6.egg/gpflow/_settings.py:67: DeprecationWarning: tf_int is deprecated and will be removed at GPflow version 1.2.0. Use int_type.\n",
      "  'version 1.2.0. Use int_type.', DeprecationWarning)\n",
      "/home/albert/miniconda3/envs/tectf/lib/python3.6/site-packages/gpflow-1.3.0-py3.6.egg/gpflow/_settings.py:61: DeprecationWarning: tf_float is deprecated and will be removed at GPflow version 1.2.0. Use float_type.\n",
      "  'version 1.2.0. Use float_type.', DeprecationWarning)\n",
      "/home/albert/miniconda3/envs/tectf/lib/python3.6/site-packages/gpflow-1.3.0-py3.6.egg/gpflow/logdensities.py:91: DeprecationWarning: The 'warn' method is deprecated, use 'warning' instead\n",
      "  logger.warn('Shape of x must be 2D at computation.')\n",
      "WARNING:gpflow.logdensities:Shape of x must be 2D at computation.\n"
     ]
    },
    {
     "name": "stdout",
     "output_type": "stream",
     "text": [
      "INFO:tensorflow:Optimization terminated with:\n",
      "  Message: b'ABNORMAL_TERMINATION_IN_LNSRCH'\n",
      "  Objective function value: -1692.063974\n",
      "  Number of iterations: 17\n",
      "  Number of functions evaluations: 59\n"
     ]
    },
    {
     "name": "stderr",
     "output_type": "stream",
     "text": [
      "INFO:tensorflow:Optimization terminated with:\n",
      "  Message: b'ABNORMAL_TERMINATION_IN_LNSRCH'\n",
      "  Objective function value: -1692.063974\n",
      "  Number of iterations: 17\n",
      "  Number of functions evaluations: 59\n",
      "/home/albert/miniconda3/envs/tectf/lib/python3.6/site-packages/tables-3.4.4-py3.6-linux-x86_64.egg/tables/file.py:767: DeprecationWarning: The use of uppercase keyword parameters is deprecated\n",
      "  \"deprecated\", DeprecationWarning)\n",
      "/home/albert/miniconda3/envs/tectf/lib/python3.6/site-packages/tables-3.4.4-py3.6-linux-x86_64.egg/tables/file.py:767: DeprecationWarning: The use of uppercase keyword parameters is deprecated\n",
      "  \"deprecated\", DeprecationWarning)\n",
      "ERROR:root:Reference possible only for phase, scalarphase, clock, tec, tec3rd, and rotation solution tables. Ignore referencing.\n",
      "/home/albert/miniconda3/envs/tectf/lib/python3.6/site-packages/gpflow-1.3.0-py3.6.egg/gpflow/_settings.py:67: DeprecationWarning: tf_int is deprecated and will be removed at GPflow version 1.2.0. Use int_type.\n",
      "  'version 1.2.0. Use int_type.', DeprecationWarning)\n",
      "/home/albert/miniconda3/envs/tectf/lib/python3.6/site-packages/gpflow-1.3.0-py3.6.egg/gpflow/_settings.py:61: DeprecationWarning: tf_float is deprecated and will be removed at GPflow version 1.2.0. Use float_type.\n",
      "  'version 1.2.0. Use float_type.', DeprecationWarning)\n",
      "/home/albert/miniconda3/envs/tectf/lib/python3.6/site-packages/gpflow-1.3.0-py3.6.egg/gpflow/logdensities.py:91: DeprecationWarning: The 'warn' method is deprecated, use 'warning' instead\n",
      "  logger.warn('Shape of x must be 2D at computation.')\n",
      "WARNING:gpflow.logdensities:Shape of x must be 2D at computation.\n"
     ]
    },
    {
     "name": "stdout",
     "output_type": "stream",
     "text": [
      "INFO:tensorflow:Optimization terminated with:\n",
      "  Message: b'ABNORMAL_TERMINATION_IN_LNSRCH'\n",
      "  Objective function value: -1477.217187\n",
      "  Number of iterations: 16\n",
      "  Number of functions evaluations: 72\n"
     ]
    },
    {
     "name": "stderr",
     "output_type": "stream",
     "text": [
      "INFO:tensorflow:Optimization terminated with:\n",
      "  Message: b'ABNORMAL_TERMINATION_IN_LNSRCH'\n",
      "  Objective function value: -1477.217187\n",
      "  Number of iterations: 16\n",
      "  Number of functions evaluations: 72\n",
      "/home/albert/miniconda3/envs/tectf/lib/python3.6/site-packages/tables-3.4.4-py3.6-linux-x86_64.egg/tables/file.py:767: DeprecationWarning: The use of uppercase keyword parameters is deprecated\n",
      "  \"deprecated\", DeprecationWarning)\n",
      "/home/albert/miniconda3/envs/tectf/lib/python3.6/site-packages/tables-3.4.4-py3.6-linux-x86_64.egg/tables/file.py:767: DeprecationWarning: The use of uppercase keyword parameters is deprecated\n",
      "  \"deprecated\", DeprecationWarning)\n",
      "ERROR:root:Reference possible only for phase, scalarphase, clock, tec, tec3rd, and rotation solution tables. Ignore referencing.\n",
      "/home/albert/miniconda3/envs/tectf/lib/python3.6/site-packages/gpflow-1.3.0-py3.6.egg/gpflow/_settings.py:67: DeprecationWarning: tf_int is deprecated and will be removed at GPflow version 1.2.0. Use int_type.\n",
      "  'version 1.2.0. Use int_type.', DeprecationWarning)\n",
      "/home/albert/miniconda3/envs/tectf/lib/python3.6/site-packages/gpflow-1.3.0-py3.6.egg/gpflow/_settings.py:61: DeprecationWarning: tf_float is deprecated and will be removed at GPflow version 1.2.0. Use float_type.\n",
      "  'version 1.2.0. Use float_type.', DeprecationWarning)\n",
      "/home/albert/miniconda3/envs/tectf/lib/python3.6/site-packages/gpflow-1.3.0-py3.6.egg/gpflow/logdensities.py:91: DeprecationWarning: The 'warn' method is deprecated, use 'warning' instead\n",
      "  logger.warn('Shape of x must be 2D at computation.')\n",
      "WARNING:gpflow.logdensities:Shape of x must be 2D at computation.\n"
     ]
    },
    {
     "name": "stdout",
     "output_type": "stream",
     "text": [
      "INFO:tensorflow:Optimization terminated with:\n",
      "  Message: b'ABNORMAL_TERMINATION_IN_LNSRCH'\n",
      "  Objective function value: -1444.307145\n",
      "  Number of iterations: 16\n",
      "  Number of functions evaluations: 92\n"
     ]
    },
    {
     "name": "stderr",
     "output_type": "stream",
     "text": [
      "INFO:tensorflow:Optimization terminated with:\n",
      "  Message: b'ABNORMAL_TERMINATION_IN_LNSRCH'\n",
      "  Objective function value: -1444.307145\n",
      "  Number of iterations: 16\n",
      "  Number of functions evaluations: 92\n",
      "/home/albert/miniconda3/envs/tectf/lib/python3.6/site-packages/tables-3.4.4-py3.6-linux-x86_64.egg/tables/file.py:767: DeprecationWarning: The use of uppercase keyword parameters is deprecated\n",
      "  \"deprecated\", DeprecationWarning)\n",
      "/home/albert/miniconda3/envs/tectf/lib/python3.6/site-packages/tables-3.4.4-py3.6-linux-x86_64.egg/tables/file.py:767: DeprecationWarning: The use of uppercase keyword parameters is deprecated\n",
      "  \"deprecated\", DeprecationWarning)\n",
      "ERROR:root:Reference possible only for phase, scalarphase, clock, tec, tec3rd, and rotation solution tables. Ignore referencing.\n",
      "/home/albert/miniconda3/envs/tectf/lib/python3.6/site-packages/gpflow-1.3.0-py3.6.egg/gpflow/_settings.py:67: DeprecationWarning: tf_int is deprecated and will be removed at GPflow version 1.2.0. Use int_type.\n",
      "  'version 1.2.0. Use int_type.', DeprecationWarning)\n",
      "/home/albert/miniconda3/envs/tectf/lib/python3.6/site-packages/gpflow-1.3.0-py3.6.egg/gpflow/_settings.py:61: DeprecationWarning: tf_float is deprecated and will be removed at GPflow version 1.2.0. Use float_type.\n",
      "  'version 1.2.0. Use float_type.', DeprecationWarning)\n",
      "/home/albert/miniconda3/envs/tectf/lib/python3.6/site-packages/gpflow-1.3.0-py3.6.egg/gpflow/logdensities.py:91: DeprecationWarning: The 'warn' method is deprecated, use 'warning' instead\n",
      "  logger.warn('Shape of x must be 2D at computation.')\n",
      "WARNING:gpflow.logdensities:Shape of x must be 2D at computation.\n"
     ]
    },
    {
     "name": "stdout",
     "output_type": "stream",
     "text": [
      "INFO:tensorflow:Optimization terminated with:\n",
      "  Message: b'ABNORMAL_TERMINATION_IN_LNSRCH'\n",
      "  Objective function value: -1567.634251\n",
      "  Number of iterations: 16\n",
      "  Number of functions evaluations: 80\n"
     ]
    },
    {
     "name": "stderr",
     "output_type": "stream",
     "text": [
      "INFO:tensorflow:Optimization terminated with:\n",
      "  Message: b'ABNORMAL_TERMINATION_IN_LNSRCH'\n",
      "  Objective function value: -1567.634251\n",
      "  Number of iterations: 16\n",
      "  Number of functions evaluations: 80\n",
      "/home/albert/miniconda3/envs/tectf/lib/python3.6/site-packages/tables-3.4.4-py3.6-linux-x86_64.egg/tables/file.py:767: DeprecationWarning: The use of uppercase keyword parameters is deprecated\n",
      "  \"deprecated\", DeprecationWarning)\n",
      "/home/albert/miniconda3/envs/tectf/lib/python3.6/site-packages/tables-3.4.4-py3.6-linux-x86_64.egg/tables/file.py:767: DeprecationWarning: The use of uppercase keyword parameters is deprecated\n",
      "  \"deprecated\", DeprecationWarning)\n",
      "ERROR:root:Reference possible only for phase, scalarphase, clock, tec, tec3rd, and rotation solution tables. Ignore referencing.\n",
      "/home/albert/miniconda3/envs/tectf/lib/python3.6/site-packages/gpflow-1.3.0-py3.6.egg/gpflow/_settings.py:67: DeprecationWarning: tf_int is deprecated and will be removed at GPflow version 1.2.0. Use int_type.\n",
      "  'version 1.2.0. Use int_type.', DeprecationWarning)\n",
      "/home/albert/miniconda3/envs/tectf/lib/python3.6/site-packages/gpflow-1.3.0-py3.6.egg/gpflow/_settings.py:61: DeprecationWarning: tf_float is deprecated and will be removed at GPflow version 1.2.0. Use float_type.\n",
      "  'version 1.2.0. Use float_type.', DeprecationWarning)\n",
      "/home/albert/miniconda3/envs/tectf/lib/python3.6/site-packages/gpflow-1.3.0-py3.6.egg/gpflow/logdensities.py:91: DeprecationWarning: The 'warn' method is deprecated, use 'warning' instead\n",
      "  logger.warn('Shape of x must be 2D at computation.')\n",
      "WARNING:gpflow.logdensities:Shape of x must be 2D at computation.\n"
     ]
    },
    {
     "name": "stdout",
     "output_type": "stream",
     "text": [
      "INFO:tensorflow:Optimization terminated with:\n",
      "  Message: b'ABNORMAL_TERMINATION_IN_LNSRCH'\n",
      "  Objective function value: -1582.181711\n",
      "  Number of iterations: 16\n",
      "  Number of functions evaluations: 79\n"
     ]
    },
    {
     "name": "stderr",
     "output_type": "stream",
     "text": [
      "INFO:tensorflow:Optimization terminated with:\n",
      "  Message: b'ABNORMAL_TERMINATION_IN_LNSRCH'\n",
      "  Objective function value: -1582.181711\n",
      "  Number of iterations: 16\n",
      "  Number of functions evaluations: 79\n",
      "/home/albert/miniconda3/envs/tectf/lib/python3.6/site-packages/tables-3.4.4-py3.6-linux-x86_64.egg/tables/file.py:767: DeprecationWarning: The use of uppercase keyword parameters is deprecated\n",
      "  \"deprecated\", DeprecationWarning)\n",
      "/home/albert/miniconda3/envs/tectf/lib/python3.6/site-packages/tables-3.4.4-py3.6-linux-x86_64.egg/tables/file.py:767: DeprecationWarning: The use of uppercase keyword parameters is deprecated\n",
      "  \"deprecated\", DeprecationWarning)\n",
      "ERROR:root:Reference possible only for phase, scalarphase, clock, tec, tec3rd, and rotation solution tables. Ignore referencing.\n",
      "/home/albert/miniconda3/envs/tectf/lib/python3.6/site-packages/gpflow-1.3.0-py3.6.egg/gpflow/_settings.py:67: DeprecationWarning: tf_int is deprecated and will be removed at GPflow version 1.2.0. Use int_type.\n",
      "  'version 1.2.0. Use int_type.', DeprecationWarning)\n",
      "/home/albert/miniconda3/envs/tectf/lib/python3.6/site-packages/gpflow-1.3.0-py3.6.egg/gpflow/_settings.py:61: DeprecationWarning: tf_float is deprecated and will be removed at GPflow version 1.2.0. Use float_type.\n",
      "  'version 1.2.0. Use float_type.', DeprecationWarning)\n",
      "/home/albert/miniconda3/envs/tectf/lib/python3.6/site-packages/gpflow-1.3.0-py3.6.egg/gpflow/logdensities.py:91: DeprecationWarning: The 'warn' method is deprecated, use 'warning' instead\n",
      "  logger.warn('Shape of x must be 2D at computation.')\n",
      "WARNING:gpflow.logdensities:Shape of x must be 2D at computation.\n"
     ]
    },
    {
     "name": "stdout",
     "output_type": "stream",
     "text": [
      "INFO:tensorflow:Optimization terminated with:\n",
      "  Message: b'ABNORMAL_TERMINATION_IN_LNSRCH'\n",
      "  Objective function value: -1606.255424\n",
      "  Number of iterations: 15\n",
      "  Number of functions evaluations: 100\n"
     ]
    },
    {
     "name": "stderr",
     "output_type": "stream",
     "text": [
      "INFO:tensorflow:Optimization terminated with:\n",
      "  Message: b'ABNORMAL_TERMINATION_IN_LNSRCH'\n",
      "  Objective function value: -1606.255424\n",
      "  Number of iterations: 15\n",
      "  Number of functions evaluations: 100\n",
      "/home/albert/miniconda3/envs/tectf/lib/python3.6/site-packages/tables-3.4.4-py3.6-linux-x86_64.egg/tables/file.py:767: DeprecationWarning: The use of uppercase keyword parameters is deprecated\n",
      "  \"deprecated\", DeprecationWarning)\n",
      "/home/albert/miniconda3/envs/tectf/lib/python3.6/site-packages/tables-3.4.4-py3.6-linux-x86_64.egg/tables/file.py:767: DeprecationWarning: The use of uppercase keyword parameters is deprecated\n",
      "  \"deprecated\", DeprecationWarning)\n",
      "ERROR:root:Reference possible only for phase, scalarphase, clock, tec, tec3rd, and rotation solution tables. Ignore referencing.\n",
      "/home/albert/miniconda3/envs/tectf/lib/python3.6/site-packages/gpflow-1.3.0-py3.6.egg/gpflow/_settings.py:67: DeprecationWarning: tf_int is deprecated and will be removed at GPflow version 1.2.0. Use int_type.\n",
      "  'version 1.2.0. Use int_type.', DeprecationWarning)\n",
      "/home/albert/miniconda3/envs/tectf/lib/python3.6/site-packages/gpflow-1.3.0-py3.6.egg/gpflow/_settings.py:61: DeprecationWarning: tf_float is deprecated and will be removed at GPflow version 1.2.0. Use float_type.\n",
      "  'version 1.2.0. Use float_type.', DeprecationWarning)\n",
      "/home/albert/miniconda3/envs/tectf/lib/python3.6/site-packages/gpflow-1.3.0-py3.6.egg/gpflow/logdensities.py:91: DeprecationWarning: The 'warn' method is deprecated, use 'warning' instead\n",
      "  logger.warn('Shape of x must be 2D at computation.')\n",
      "WARNING:gpflow.logdensities:Shape of x must be 2D at computation.\n"
     ]
    },
    {
     "name": "stdout",
     "output_type": "stream",
     "text": [
      "INFO:tensorflow:Optimization terminated with:\n",
      "  Message: b'CONVERGENCE: REL_REDUCTION_OF_F_<=_FACTR*EPSMCH'\n",
      "  Objective function value: -1733.171547\n",
      "  Number of iterations: 21\n",
      "  Number of functions evaluations: 43\n"
     ]
    },
    {
     "name": "stderr",
     "output_type": "stream",
     "text": [
      "INFO:tensorflow:Optimization terminated with:\n",
      "  Message: b'CONVERGENCE: REL_REDUCTION_OF_F_<=_FACTR*EPSMCH'\n",
      "  Objective function value: -1733.171547\n",
      "  Number of iterations: 21\n",
      "  Number of functions evaluations: 43\n",
      "/home/albert/miniconda3/envs/tectf/lib/python3.6/site-packages/tables-3.4.4-py3.6-linux-x86_64.egg/tables/file.py:767: DeprecationWarning: The use of uppercase keyword parameters is deprecated\n",
      "  \"deprecated\", DeprecationWarning)\n",
      "/home/albert/miniconda3/envs/tectf/lib/python3.6/site-packages/tables-3.4.4-py3.6-linux-x86_64.egg/tables/file.py:767: DeprecationWarning: The use of uppercase keyword parameters is deprecated\n",
      "  \"deprecated\", DeprecationWarning)\n",
      "ERROR:root:Reference possible only for phase, scalarphase, clock, tec, tec3rd, and rotation solution tables. Ignore referencing.\n",
      "/home/albert/miniconda3/envs/tectf/lib/python3.6/site-packages/gpflow-1.3.0-py3.6.egg/gpflow/_settings.py:67: DeprecationWarning: tf_int is deprecated and will be removed at GPflow version 1.2.0. Use int_type.\n",
      "  'version 1.2.0. Use int_type.', DeprecationWarning)\n",
      "/home/albert/miniconda3/envs/tectf/lib/python3.6/site-packages/gpflow-1.3.0-py3.6.egg/gpflow/_settings.py:61: DeprecationWarning: tf_float is deprecated and will be removed at GPflow version 1.2.0. Use float_type.\n",
      "  'version 1.2.0. Use float_type.', DeprecationWarning)\n",
      "/home/albert/miniconda3/envs/tectf/lib/python3.6/site-packages/gpflow-1.3.0-py3.6.egg/gpflow/logdensities.py:91: DeprecationWarning: The 'warn' method is deprecated, use 'warning' instead\n",
      "  logger.warn('Shape of x must be 2D at computation.')\n",
      "WARNING:gpflow.logdensities:Shape of x must be 2D at computation.\n"
     ]
    },
    {
     "name": "stdout",
     "output_type": "stream",
     "text": [
      "INFO:tensorflow:Optimization terminated with:\n",
      "  Message: b'CONVERGENCE: NORM_OF_PROJECTED_GRADIENT_<=_PGTOL'\n",
      "  Objective function value: -1685.337996\n",
      "  Number of iterations: 21\n",
      "  Number of functions evaluations: 24\n"
     ]
    },
    {
     "name": "stderr",
     "output_type": "stream",
     "text": [
      "INFO:tensorflow:Optimization terminated with:\n",
      "  Message: b'CONVERGENCE: NORM_OF_PROJECTED_GRADIENT_<=_PGTOL'\n",
      "  Objective function value: -1685.337996\n",
      "  Number of iterations: 21\n",
      "  Number of functions evaluations: 24\n",
      "/home/albert/miniconda3/envs/tectf/lib/python3.6/site-packages/tables-3.4.4-py3.6-linux-x86_64.egg/tables/file.py:767: DeprecationWarning: The use of uppercase keyword parameters is deprecated\n",
      "  \"deprecated\", DeprecationWarning)\n",
      "/home/albert/miniconda3/envs/tectf/lib/python3.6/site-packages/tables-3.4.4-py3.6-linux-x86_64.egg/tables/file.py:767: DeprecationWarning: The use of uppercase keyword parameters is deprecated\n",
      "  \"deprecated\", DeprecationWarning)\n",
      "ERROR:root:Reference possible only for phase, scalarphase, clock, tec, tec3rd, and rotation solution tables. Ignore referencing.\n",
      "/home/albert/miniconda3/envs/tectf/lib/python3.6/site-packages/gpflow-1.3.0-py3.6.egg/gpflow/_settings.py:67: DeprecationWarning: tf_int is deprecated and will be removed at GPflow version 1.2.0. Use int_type.\n",
      "  'version 1.2.0. Use int_type.', DeprecationWarning)\n",
      "/home/albert/miniconda3/envs/tectf/lib/python3.6/site-packages/gpflow-1.3.0-py3.6.egg/gpflow/_settings.py:61: DeprecationWarning: tf_float is deprecated and will be removed at GPflow version 1.2.0. Use float_type.\n",
      "  'version 1.2.0. Use float_type.', DeprecationWarning)\n",
      "/home/albert/miniconda3/envs/tectf/lib/python3.6/site-packages/gpflow-1.3.0-py3.6.egg/gpflow/logdensities.py:91: DeprecationWarning: The 'warn' method is deprecated, use 'warning' instead\n",
      "  logger.warn('Shape of x must be 2D at computation.')\n",
      "WARNING:gpflow.logdensities:Shape of x must be 2D at computation.\n"
     ]
    },
    {
     "name": "stdout",
     "output_type": "stream",
     "text": [
      "INFO:tensorflow:Optimization terminated with:\n",
      "  Message: b'CONVERGENCE: REL_REDUCTION_OF_F_<=_FACTR*EPSMCH'\n",
      "  Objective function value: -1681.449971\n",
      "  Number of iterations: 20\n",
      "  Number of functions evaluations: 22\n"
     ]
    },
    {
     "name": "stderr",
     "output_type": "stream",
     "text": [
      "INFO:tensorflow:Optimization terminated with:\n",
      "  Message: b'CONVERGENCE: REL_REDUCTION_OF_F_<=_FACTR*EPSMCH'\n",
      "  Objective function value: -1681.449971\n",
      "  Number of iterations: 20\n",
      "  Number of functions evaluations: 22\n",
      "/home/albert/miniconda3/envs/tectf/lib/python3.6/site-packages/tables-3.4.4-py3.6-linux-x86_64.egg/tables/file.py:767: DeprecationWarning: The use of uppercase keyword parameters is deprecated\n",
      "  \"deprecated\", DeprecationWarning)\n",
      "/home/albert/miniconda3/envs/tectf/lib/python3.6/site-packages/tables-3.4.4-py3.6-linux-x86_64.egg/tables/file.py:767: DeprecationWarning: The use of uppercase keyword parameters is deprecated\n",
      "  \"deprecated\", DeprecationWarning)\n",
      "ERROR:root:Reference possible only for phase, scalarphase, clock, tec, tec3rd, and rotation solution tables. Ignore referencing.\n",
      "/home/albert/miniconda3/envs/tectf/lib/python3.6/site-packages/gpflow-1.3.0-py3.6.egg/gpflow/_settings.py:67: DeprecationWarning: tf_int is deprecated and will be removed at GPflow version 1.2.0. Use int_type.\n",
      "  'version 1.2.0. Use int_type.', DeprecationWarning)\n",
      "/home/albert/miniconda3/envs/tectf/lib/python3.6/site-packages/gpflow-1.3.0-py3.6.egg/gpflow/_settings.py:61: DeprecationWarning: tf_float is deprecated and will be removed at GPflow version 1.2.0. Use float_type.\n",
      "  'version 1.2.0. Use float_type.', DeprecationWarning)\n",
      "/home/albert/miniconda3/envs/tectf/lib/python3.6/site-packages/gpflow-1.3.0-py3.6.egg/gpflow/logdensities.py:91: DeprecationWarning: The 'warn' method is deprecated, use 'warning' instead\n",
      "  logger.warn('Shape of x must be 2D at computation.')\n",
      "WARNING:gpflow.logdensities:Shape of x must be 2D at computation.\n"
     ]
    },
    {
     "name": "stdout",
     "output_type": "stream",
     "text": [
      "INFO:tensorflow:Optimization terminated with:\n",
      "  Message: b'CONVERGENCE: REL_REDUCTION_OF_F_<=_FACTR*EPSMCH'\n",
      "  Objective function value: -1667.603776\n",
      "  Number of iterations: 19\n",
      "  Number of functions evaluations: 21\n"
     ]
    },
    {
     "name": "stderr",
     "output_type": "stream",
     "text": [
      "INFO:tensorflow:Optimization terminated with:\n",
      "  Message: b'CONVERGENCE: REL_REDUCTION_OF_F_<=_FACTR*EPSMCH'\n",
      "  Objective function value: -1667.603776\n",
      "  Number of iterations: 19\n",
      "  Number of functions evaluations: 21\n",
      "/home/albert/miniconda3/envs/tectf/lib/python3.6/site-packages/tables-3.4.4-py3.6-linux-x86_64.egg/tables/file.py:767: DeprecationWarning: The use of uppercase keyword parameters is deprecated\n",
      "  \"deprecated\", DeprecationWarning)\n",
      "/home/albert/miniconda3/envs/tectf/lib/python3.6/site-packages/tables-3.4.4-py3.6-linux-x86_64.egg/tables/file.py:767: DeprecationWarning: The use of uppercase keyword parameters is deprecated\n",
      "  \"deprecated\", DeprecationWarning)\n",
      "ERROR:root:Reference possible only for phase, scalarphase, clock, tec, tec3rd, and rotation solution tables. Ignore referencing.\n",
      "/home/albert/miniconda3/envs/tectf/lib/python3.6/site-packages/gpflow-1.3.0-py3.6.egg/gpflow/_settings.py:67: DeprecationWarning: tf_int is deprecated and will be removed at GPflow version 1.2.0. Use int_type.\n",
      "  'version 1.2.0. Use int_type.', DeprecationWarning)\n",
      "/home/albert/miniconda3/envs/tectf/lib/python3.6/site-packages/gpflow-1.3.0-py3.6.egg/gpflow/_settings.py:61: DeprecationWarning: tf_float is deprecated and will be removed at GPflow version 1.2.0. Use float_type.\n",
      "  'version 1.2.0. Use float_type.', DeprecationWarning)\n",
      "/home/albert/miniconda3/envs/tectf/lib/python3.6/site-packages/gpflow-1.3.0-py3.6.egg/gpflow/logdensities.py:91: DeprecationWarning: The 'warn' method is deprecated, use 'warning' instead\n",
      "  logger.warn('Shape of x must be 2D at computation.')\n",
      "WARNING:gpflow.logdensities:Shape of x must be 2D at computation.\n"
     ]
    },
    {
     "name": "stdout",
     "output_type": "stream",
     "text": [
      "INFO:tensorflow:Optimization terminated with:\n",
      "  Message: b'ABNORMAL_TERMINATION_IN_LNSRCH'\n",
      "  Objective function value: -1667.991894\n",
      "  Number of iterations: 19\n",
      "  Number of functions evaluations: 61\n"
     ]
    },
    {
     "name": "stderr",
     "output_type": "stream",
     "text": [
      "INFO:tensorflow:Optimization terminated with:\n",
      "  Message: b'ABNORMAL_TERMINATION_IN_LNSRCH'\n",
      "  Objective function value: -1667.991894\n",
      "  Number of iterations: 19\n",
      "  Number of functions evaluations: 61\n",
      "/home/albert/miniconda3/envs/tectf/lib/python3.6/site-packages/tables-3.4.4-py3.6-linux-x86_64.egg/tables/file.py:767: DeprecationWarning: The use of uppercase keyword parameters is deprecated\n",
      "  \"deprecated\", DeprecationWarning)\n",
      "/home/albert/miniconda3/envs/tectf/lib/python3.6/site-packages/tables-3.4.4-py3.6-linux-x86_64.egg/tables/file.py:767: DeprecationWarning: The use of uppercase keyword parameters is deprecated\n",
      "  \"deprecated\", DeprecationWarning)\n",
      "ERROR:root:Reference possible only for phase, scalarphase, clock, tec, tec3rd, and rotation solution tables. Ignore referencing.\n",
      "/home/albert/miniconda3/envs/tectf/lib/python3.6/site-packages/gpflow-1.3.0-py3.6.egg/gpflow/_settings.py:67: DeprecationWarning: tf_int is deprecated and will be removed at GPflow version 1.2.0. Use int_type.\n",
      "  'version 1.2.0. Use int_type.', DeprecationWarning)\n",
      "/home/albert/miniconda3/envs/tectf/lib/python3.6/site-packages/gpflow-1.3.0-py3.6.egg/gpflow/_settings.py:61: DeprecationWarning: tf_float is deprecated and will be removed at GPflow version 1.2.0. Use float_type.\n",
      "  'version 1.2.0. Use float_type.', DeprecationWarning)\n",
      "/home/albert/miniconda3/envs/tectf/lib/python3.6/site-packages/gpflow-1.3.0-py3.6.egg/gpflow/logdensities.py:91: DeprecationWarning: The 'warn' method is deprecated, use 'warning' instead\n",
      "  logger.warn('Shape of x must be 2D at computation.')\n",
      "WARNING:gpflow.logdensities:Shape of x must be 2D at computation.\n"
     ]
    },
    {
     "name": "stdout",
     "output_type": "stream",
     "text": [
      "INFO:tensorflow:Optimization terminated with:\n",
      "  Message: b'ABNORMAL_TERMINATION_IN_LNSRCH'\n",
      "  Objective function value: -1734.575870\n",
      "  Number of iterations: 20\n",
      "  Number of functions evaluations: 79\n"
     ]
    },
    {
     "name": "stderr",
     "output_type": "stream",
     "text": [
      "INFO:tensorflow:Optimization terminated with:\n",
      "  Message: b'ABNORMAL_TERMINATION_IN_LNSRCH'\n",
      "  Objective function value: -1734.575870\n",
      "  Number of iterations: 20\n",
      "  Number of functions evaluations: 79\n",
      "/home/albert/miniconda3/envs/tectf/lib/python3.6/site-packages/tables-3.4.4-py3.6-linux-x86_64.egg/tables/file.py:767: DeprecationWarning: The use of uppercase keyword parameters is deprecated\n",
      "  \"deprecated\", DeprecationWarning)\n",
      "/home/albert/miniconda3/envs/tectf/lib/python3.6/site-packages/tables-3.4.4-py3.6-linux-x86_64.egg/tables/file.py:767: DeprecationWarning: The use of uppercase keyword parameters is deprecated\n",
      "  \"deprecated\", DeprecationWarning)\n",
      "ERROR:root:Reference possible only for phase, scalarphase, clock, tec, tec3rd, and rotation solution tables. Ignore referencing.\n",
      "/home/albert/miniconda3/envs/tectf/lib/python3.6/site-packages/gpflow-1.3.0-py3.6.egg/gpflow/_settings.py:67: DeprecationWarning: tf_int is deprecated and will be removed at GPflow version 1.2.0. Use int_type.\n",
      "  'version 1.2.0. Use int_type.', DeprecationWarning)\n",
      "/home/albert/miniconda3/envs/tectf/lib/python3.6/site-packages/gpflow-1.3.0-py3.6.egg/gpflow/_settings.py:61: DeprecationWarning: tf_float is deprecated and will be removed at GPflow version 1.2.0. Use float_type.\n",
      "  'version 1.2.0. Use float_type.', DeprecationWarning)\n",
      "/home/albert/miniconda3/envs/tectf/lib/python3.6/site-packages/gpflow-1.3.0-py3.6.egg/gpflow/logdensities.py:91: DeprecationWarning: The 'warn' method is deprecated, use 'warning' instead\n",
      "  logger.warn('Shape of x must be 2D at computation.')\n",
      "WARNING:gpflow.logdensities:Shape of x must be 2D at computation.\n"
     ]
    },
    {
     "name": "stdout",
     "output_type": "stream",
     "text": [
      "INFO:tensorflow:Optimization terminated with:\n",
      "  Message: b'CONVERGENCE: NORM_OF_PROJECTED_GRADIENT_<=_PGTOL'\n",
      "  Objective function value: -1744.308863\n",
      "  Number of iterations: 21\n",
      "  Number of functions evaluations: 24\n"
     ]
    },
    {
     "name": "stderr",
     "output_type": "stream",
     "text": [
      "INFO:tensorflow:Optimization terminated with:\n",
      "  Message: b'CONVERGENCE: NORM_OF_PROJECTED_GRADIENT_<=_PGTOL'\n",
      "  Objective function value: -1744.308863\n",
      "  Number of iterations: 21\n",
      "  Number of functions evaluations: 24\n",
      "/home/albert/miniconda3/envs/tectf/lib/python3.6/site-packages/tables-3.4.4-py3.6-linux-x86_64.egg/tables/file.py:767: DeprecationWarning: The use of uppercase keyword parameters is deprecated\n",
      "  \"deprecated\", DeprecationWarning)\n",
      "/home/albert/miniconda3/envs/tectf/lib/python3.6/site-packages/tables-3.4.4-py3.6-linux-x86_64.egg/tables/file.py:767: DeprecationWarning: The use of uppercase keyword parameters is deprecated\n",
      "  \"deprecated\", DeprecationWarning)\n",
      "ERROR:root:Reference possible only for phase, scalarphase, clock, tec, tec3rd, and rotation solution tables. Ignore referencing.\n",
      "/home/albert/miniconda3/envs/tectf/lib/python3.6/site-packages/gpflow-1.3.0-py3.6.egg/gpflow/_settings.py:67: DeprecationWarning: tf_int is deprecated and will be removed at GPflow version 1.2.0. Use int_type.\n",
      "  'version 1.2.0. Use int_type.', DeprecationWarning)\n",
      "/home/albert/miniconda3/envs/tectf/lib/python3.6/site-packages/gpflow-1.3.0-py3.6.egg/gpflow/_settings.py:61: DeprecationWarning: tf_float is deprecated and will be removed at GPflow version 1.2.0. Use float_type.\n",
      "  'version 1.2.0. Use float_type.', DeprecationWarning)\n",
      "/home/albert/miniconda3/envs/tectf/lib/python3.6/site-packages/gpflow-1.3.0-py3.6.egg/gpflow/logdensities.py:91: DeprecationWarning: The 'warn' method is deprecated, use 'warning' instead\n",
      "  logger.warn('Shape of x must be 2D at computation.')\n",
      "WARNING:gpflow.logdensities:Shape of x must be 2D at computation.\n"
     ]
    },
    {
     "name": "stdout",
     "output_type": "stream",
     "text": [
      "INFO:tensorflow:Optimization terminated with:\n",
      "  Message: b'CONVERGENCE: NORM_OF_PROJECTED_GRADIENT_<=_PGTOL'\n",
      "  Objective function value: -1742.440722\n",
      "  Number of iterations: 21\n",
      "  Number of functions evaluations: 25\n"
     ]
    },
    {
     "name": "stderr",
     "output_type": "stream",
     "text": [
      "INFO:tensorflow:Optimization terminated with:\n",
      "  Message: b'CONVERGENCE: NORM_OF_PROJECTED_GRADIENT_<=_PGTOL'\n",
      "  Objective function value: -1742.440722\n",
      "  Number of iterations: 21\n",
      "  Number of functions evaluations: 25\n",
      "/home/albert/miniconda3/envs/tectf/lib/python3.6/site-packages/tables-3.4.4-py3.6-linux-x86_64.egg/tables/file.py:767: DeprecationWarning: The use of uppercase keyword parameters is deprecated\n",
      "  \"deprecated\", DeprecationWarning)\n",
      "/home/albert/miniconda3/envs/tectf/lib/python3.6/site-packages/tables-3.4.4-py3.6-linux-x86_64.egg/tables/file.py:767: DeprecationWarning: The use of uppercase keyword parameters is deprecated\n",
      "  \"deprecated\", DeprecationWarning)\n",
      "ERROR:root:Reference possible only for phase, scalarphase, clock, tec, tec3rd, and rotation solution tables. Ignore referencing.\n",
      "/home/albert/miniconda3/envs/tectf/lib/python3.6/site-packages/gpflow-1.3.0-py3.6.egg/gpflow/_settings.py:67: DeprecationWarning: tf_int is deprecated and will be removed at GPflow version 1.2.0. Use int_type.\n",
      "  'version 1.2.0. Use int_type.', DeprecationWarning)\n",
      "/home/albert/miniconda3/envs/tectf/lib/python3.6/site-packages/gpflow-1.3.0-py3.6.egg/gpflow/_settings.py:61: DeprecationWarning: tf_float is deprecated and will be removed at GPflow version 1.2.0. Use float_type.\n",
      "  'version 1.2.0. Use float_type.', DeprecationWarning)\n",
      "/home/albert/miniconda3/envs/tectf/lib/python3.6/site-packages/gpflow-1.3.0-py3.6.egg/gpflow/logdensities.py:91: DeprecationWarning: The 'warn' method is deprecated, use 'warning' instead\n",
      "  logger.warn('Shape of x must be 2D at computation.')\n",
      "WARNING:gpflow.logdensities:Shape of x must be 2D at computation.\n"
     ]
    },
    {
     "name": "stdout",
     "output_type": "stream",
     "text": [
      "INFO:tensorflow:Optimization terminated with:\n",
      "  Message: b'ABNORMAL_TERMINATION_IN_LNSRCH'\n",
      "  Objective function value: -80.313163\n",
      "  Number of iterations: 16\n",
      "  Number of functions evaluations: 83\n"
     ]
    },
    {
     "name": "stderr",
     "output_type": "stream",
     "text": [
      "INFO:tensorflow:Optimization terminated with:\n",
      "  Message: b'ABNORMAL_TERMINATION_IN_LNSRCH'\n",
      "  Objective function value: -80.313163\n",
      "  Number of iterations: 16\n",
      "  Number of functions evaluations: 83\n",
      "/home/albert/miniconda3/envs/tectf/lib/python3.6/site-packages/tables-3.4.4-py3.6-linux-x86_64.egg/tables/file.py:767: DeprecationWarning: The use of uppercase keyword parameters is deprecated\n",
      "  \"deprecated\", DeprecationWarning)\n",
      "/home/albert/miniconda3/envs/tectf/lib/python3.6/site-packages/tables-3.4.4-py3.6-linux-x86_64.egg/tables/file.py:767: DeprecationWarning: The use of uppercase keyword parameters is deprecated\n",
      "  \"deprecated\", DeprecationWarning)\n",
      "ERROR:root:Reference possible only for phase, scalarphase, clock, tec, tec3rd, and rotation solution tables. Ignore referencing.\n",
      "/home/albert/miniconda3/envs/tectf/lib/python3.6/site-packages/gpflow-1.3.0-py3.6.egg/gpflow/_settings.py:67: DeprecationWarning: tf_int is deprecated and will be removed at GPflow version 1.2.0. Use int_type.\n",
      "  'version 1.2.0. Use int_type.', DeprecationWarning)\n",
      "/home/albert/miniconda3/envs/tectf/lib/python3.6/site-packages/gpflow-1.3.0-py3.6.egg/gpflow/_settings.py:61: DeprecationWarning: tf_float is deprecated and will be removed at GPflow version 1.2.0. Use float_type.\n",
      "  'version 1.2.0. Use float_type.', DeprecationWarning)\n",
      "/home/albert/miniconda3/envs/tectf/lib/python3.6/site-packages/gpflow-1.3.0-py3.6.egg/gpflow/logdensities.py:91: DeprecationWarning: The 'warn' method is deprecated, use 'warning' instead\n",
      "  logger.warn('Shape of x must be 2D at computation.')\n",
      "WARNING:gpflow.logdensities:Shape of x must be 2D at computation.\n"
     ]
    },
    {
     "name": "stdout",
     "output_type": "stream",
     "text": [
      "INFO:tensorflow:Optimization terminated with:\n",
      "  Message: b'ABNORMAL_TERMINATION_IN_LNSRCH'\n",
      "  Objective function value: -150.750836\n",
      "  Number of iterations: 15\n",
      "  Number of functions evaluations: 62\n"
     ]
    },
    {
     "name": "stderr",
     "output_type": "stream",
     "text": [
      "INFO:tensorflow:Optimization terminated with:\n",
      "  Message: b'ABNORMAL_TERMINATION_IN_LNSRCH'\n",
      "  Objective function value: -150.750836\n",
      "  Number of iterations: 15\n",
      "  Number of functions evaluations: 62\n",
      "/home/albert/miniconda3/envs/tectf/lib/python3.6/site-packages/tables-3.4.4-py3.6-linux-x86_64.egg/tables/file.py:767: DeprecationWarning: The use of uppercase keyword parameters is deprecated\n",
      "  \"deprecated\", DeprecationWarning)\n",
      "/home/albert/miniconda3/envs/tectf/lib/python3.6/site-packages/tables-3.4.4-py3.6-linux-x86_64.egg/tables/file.py:767: DeprecationWarning: The use of uppercase keyword parameters is deprecated\n",
      "  \"deprecated\", DeprecationWarning)\n",
      "ERROR:root:Reference possible only for phase, scalarphase, clock, tec, tec3rd, and rotation solution tables. Ignore referencing.\n",
      "/home/albert/miniconda3/envs/tectf/lib/python3.6/site-packages/gpflow-1.3.0-py3.6.egg/gpflow/_settings.py:67: DeprecationWarning: tf_int is deprecated and will be removed at GPflow version 1.2.0. Use int_type.\n",
      "  'version 1.2.0. Use int_type.', DeprecationWarning)\n",
      "/home/albert/miniconda3/envs/tectf/lib/python3.6/site-packages/gpflow-1.3.0-py3.6.egg/gpflow/_settings.py:61: DeprecationWarning: tf_float is deprecated and will be removed at GPflow version 1.2.0. Use float_type.\n",
      "  'version 1.2.0. Use float_type.', DeprecationWarning)\n",
      "/home/albert/miniconda3/envs/tectf/lib/python3.6/site-packages/gpflow-1.3.0-py3.6.egg/gpflow/logdensities.py:91: DeprecationWarning: The 'warn' method is deprecated, use 'warning' instead\n",
      "  logger.warn('Shape of x must be 2D at computation.')\n",
      "WARNING:gpflow.logdensities:Shape of x must be 2D at computation.\n"
     ]
    },
    {
     "name": "stdout",
     "output_type": "stream",
     "text": [
      "INFO:tensorflow:Optimization terminated with:\n",
      "  Message: b'ABNORMAL_TERMINATION_IN_LNSRCH'\n",
      "  Objective function value: -176.067336\n",
      "  Number of iterations: 13\n",
      "  Number of functions evaluations: 55\n"
     ]
    },
    {
     "name": "stderr",
     "output_type": "stream",
     "text": [
      "INFO:tensorflow:Optimization terminated with:\n",
      "  Message: b'ABNORMAL_TERMINATION_IN_LNSRCH'\n",
      "  Objective function value: -176.067336\n",
      "  Number of iterations: 13\n",
      "  Number of functions evaluations: 55\n",
      "/home/albert/miniconda3/envs/tectf/lib/python3.6/site-packages/tables-3.4.4-py3.6-linux-x86_64.egg/tables/file.py:767: DeprecationWarning: The use of uppercase keyword parameters is deprecated\n",
      "  \"deprecated\", DeprecationWarning)\n",
      "/home/albert/miniconda3/envs/tectf/lib/python3.6/site-packages/tables-3.4.4-py3.6-linux-x86_64.egg/tables/file.py:767: DeprecationWarning: The use of uppercase keyword parameters is deprecated\n",
      "  \"deprecated\", DeprecationWarning)\n",
      "ERROR:root:Reference possible only for phase, scalarphase, clock, tec, tec3rd, and rotation solution tables. Ignore referencing.\n",
      "/home/albert/miniconda3/envs/tectf/lib/python3.6/site-packages/gpflow-1.3.0-py3.6.egg/gpflow/_settings.py:67: DeprecationWarning: tf_int is deprecated and will be removed at GPflow version 1.2.0. Use int_type.\n",
      "  'version 1.2.0. Use int_type.', DeprecationWarning)\n",
      "/home/albert/miniconda3/envs/tectf/lib/python3.6/site-packages/gpflow-1.3.0-py3.6.egg/gpflow/_settings.py:61: DeprecationWarning: tf_float is deprecated and will be removed at GPflow version 1.2.0. Use float_type.\n",
      "  'version 1.2.0. Use float_type.', DeprecationWarning)\n",
      "/home/albert/miniconda3/envs/tectf/lib/python3.6/site-packages/gpflow-1.3.0-py3.6.egg/gpflow/logdensities.py:91: DeprecationWarning: The 'warn' method is deprecated, use 'warning' instead\n",
      "  logger.warn('Shape of x must be 2D at computation.')\n",
      "WARNING:gpflow.logdensities:Shape of x must be 2D at computation.\n"
     ]
    },
    {
     "name": "stdout",
     "output_type": "stream",
     "text": [
      "INFO:tensorflow:Optimization terminated with:\n",
      "  Message: b'ABNORMAL_TERMINATION_IN_LNSRCH'\n",
      "  Objective function value: -134.629259\n",
      "  Number of iterations: 12\n",
      "  Number of functions evaluations: 55\n"
     ]
    },
    {
     "name": "stderr",
     "output_type": "stream",
     "text": [
      "INFO:tensorflow:Optimization terminated with:\n",
      "  Message: b'ABNORMAL_TERMINATION_IN_LNSRCH'\n",
      "  Objective function value: -134.629259\n",
      "  Number of iterations: 12\n",
      "  Number of functions evaluations: 55\n",
      "/home/albert/miniconda3/envs/tectf/lib/python3.6/site-packages/tables-3.4.4-py3.6-linux-x86_64.egg/tables/file.py:767: DeprecationWarning: The use of uppercase keyword parameters is deprecated\n",
      "  \"deprecated\", DeprecationWarning)\n",
      "/home/albert/miniconda3/envs/tectf/lib/python3.6/site-packages/tables-3.4.4-py3.6-linux-x86_64.egg/tables/file.py:767: DeprecationWarning: The use of uppercase keyword parameters is deprecated\n",
      "  \"deprecated\", DeprecationWarning)\n",
      "ERROR:root:Reference possible only for phase, scalarphase, clock, tec, tec3rd, and rotation solution tables. Ignore referencing.\n",
      "/home/albert/miniconda3/envs/tectf/lib/python3.6/site-packages/gpflow-1.3.0-py3.6.egg/gpflow/_settings.py:67: DeprecationWarning: tf_int is deprecated and will be removed at GPflow version 1.2.0. Use int_type.\n",
      "  'version 1.2.0. Use int_type.', DeprecationWarning)\n",
      "/home/albert/miniconda3/envs/tectf/lib/python3.6/site-packages/gpflow-1.3.0-py3.6.egg/gpflow/_settings.py:61: DeprecationWarning: tf_float is deprecated and will be removed at GPflow version 1.2.0. Use float_type.\n",
      "  'version 1.2.0. Use float_type.', DeprecationWarning)\n",
      "/home/albert/miniconda3/envs/tectf/lib/python3.6/site-packages/gpflow-1.3.0-py3.6.egg/gpflow/logdensities.py:91: DeprecationWarning: The 'warn' method is deprecated, use 'warning' instead\n",
      "  logger.warn('Shape of x must be 2D at computation.')\n",
      "WARNING:gpflow.logdensities:Shape of x must be 2D at computation.\n"
     ]
    },
    {
     "name": "stdout",
     "output_type": "stream",
     "text": [
      "INFO:tensorflow:Optimization terminated with:\n",
      "  Message: b'ABNORMAL_TERMINATION_IN_LNSRCH'\n",
      "  Objective function value: -292.771503\n",
      "  Number of iterations: 16\n",
      "  Number of functions evaluations: 96\n"
     ]
    },
    {
     "name": "stderr",
     "output_type": "stream",
     "text": [
      "INFO:tensorflow:Optimization terminated with:\n",
      "  Message: b'ABNORMAL_TERMINATION_IN_LNSRCH'\n",
      "  Objective function value: -292.771503\n",
      "  Number of iterations: 16\n",
      "  Number of functions evaluations: 96\n",
      "/home/albert/miniconda3/envs/tectf/lib/python3.6/site-packages/tables-3.4.4-py3.6-linux-x86_64.egg/tables/file.py:767: DeprecationWarning: The use of uppercase keyword parameters is deprecated\n",
      "  \"deprecated\", DeprecationWarning)\n",
      "/home/albert/miniconda3/envs/tectf/lib/python3.6/site-packages/tables-3.4.4-py3.6-linux-x86_64.egg/tables/file.py:767: DeprecationWarning: The use of uppercase keyword parameters is deprecated\n",
      "  \"deprecated\", DeprecationWarning)\n",
      "ERROR:root:Reference possible only for phase, scalarphase, clock, tec, tec3rd, and rotation solution tables. Ignore referencing.\n",
      "/home/albert/miniconda3/envs/tectf/lib/python3.6/site-packages/gpflow-1.3.0-py3.6.egg/gpflow/_settings.py:67: DeprecationWarning: tf_int is deprecated and will be removed at GPflow version 1.2.0. Use int_type.\n",
      "  'version 1.2.0. Use int_type.', DeprecationWarning)\n",
      "/home/albert/miniconda3/envs/tectf/lib/python3.6/site-packages/gpflow-1.3.0-py3.6.egg/gpflow/_settings.py:61: DeprecationWarning: tf_float is deprecated and will be removed at GPflow version 1.2.0. Use float_type.\n",
      "  'version 1.2.0. Use float_type.', DeprecationWarning)\n",
      "/home/albert/miniconda3/envs/tectf/lib/python3.6/site-packages/gpflow-1.3.0-py3.6.egg/gpflow/logdensities.py:91: DeprecationWarning: The 'warn' method is deprecated, use 'warning' instead\n",
      "  logger.warn('Shape of x must be 2D at computation.')\n",
      "WARNING:gpflow.logdensities:Shape of x must be 2D at computation.\n"
     ]
    },
    {
     "name": "stdout",
     "output_type": "stream",
     "text": [
      "INFO:tensorflow:Optimization terminated with:\n",
      "  Message: b'ABNORMAL_TERMINATION_IN_LNSRCH'\n",
      "  Objective function value: -322.218477\n",
      "  Number of iterations: 14\n",
      "  Number of functions evaluations: 57\n"
     ]
    },
    {
     "name": "stderr",
     "output_type": "stream",
     "text": [
      "INFO:tensorflow:Optimization terminated with:\n",
      "  Message: b'ABNORMAL_TERMINATION_IN_LNSRCH'\n",
      "  Objective function value: -322.218477\n",
      "  Number of iterations: 14\n",
      "  Number of functions evaluations: 57\n",
      "/home/albert/miniconda3/envs/tectf/lib/python3.6/site-packages/tables-3.4.4-py3.6-linux-x86_64.egg/tables/file.py:767: DeprecationWarning: The use of uppercase keyword parameters is deprecated\n",
      "  \"deprecated\", DeprecationWarning)\n",
      "/home/albert/miniconda3/envs/tectf/lib/python3.6/site-packages/tables-3.4.4-py3.6-linux-x86_64.egg/tables/file.py:767: DeprecationWarning: The use of uppercase keyword parameters is deprecated\n",
      "  \"deprecated\", DeprecationWarning)\n",
      "ERROR:root:Reference possible only for phase, scalarphase, clock, tec, tec3rd, and rotation solution tables. Ignore referencing.\n",
      "/home/albert/miniconda3/envs/tectf/lib/python3.6/site-packages/gpflow-1.3.0-py3.6.egg/gpflow/_settings.py:67: DeprecationWarning: tf_int is deprecated and will be removed at GPflow version 1.2.0. Use int_type.\n",
      "  'version 1.2.0. Use int_type.', DeprecationWarning)\n",
      "/home/albert/miniconda3/envs/tectf/lib/python3.6/site-packages/gpflow-1.3.0-py3.6.egg/gpflow/_settings.py:61: DeprecationWarning: tf_float is deprecated and will be removed at GPflow version 1.2.0. Use float_type.\n",
      "  'version 1.2.0. Use float_type.', DeprecationWarning)\n",
      "/home/albert/miniconda3/envs/tectf/lib/python3.6/site-packages/gpflow-1.3.0-py3.6.egg/gpflow/logdensities.py:91: DeprecationWarning: The 'warn' method is deprecated, use 'warning' instead\n",
      "  logger.warn('Shape of x must be 2D at computation.')\n",
      "WARNING:gpflow.logdensities:Shape of x must be 2D at computation.\n"
     ]
    },
    {
     "name": "stdout",
     "output_type": "stream",
     "text": [
      "INFO:tensorflow:Optimization terminated with:\n",
      "  Message: b'ABNORMAL_TERMINATION_IN_LNSRCH'\n",
      "  Objective function value: -21.815609\n",
      "  Number of iterations: 13\n",
      "  Number of functions evaluations: 56\n"
     ]
    },
    {
     "name": "stderr",
     "output_type": "stream",
     "text": [
      "INFO:tensorflow:Optimization terminated with:\n",
      "  Message: b'ABNORMAL_TERMINATION_IN_LNSRCH'\n",
      "  Objective function value: -21.815609\n",
      "  Number of iterations: 13\n",
      "  Number of functions evaluations: 56\n",
      "/home/albert/miniconda3/envs/tectf/lib/python3.6/site-packages/tables-3.4.4-py3.6-linux-x86_64.egg/tables/file.py:767: DeprecationWarning: The use of uppercase keyword parameters is deprecated\n",
      "  \"deprecated\", DeprecationWarning)\n",
      "/home/albert/miniconda3/envs/tectf/lib/python3.6/site-packages/tables-3.4.4-py3.6-linux-x86_64.egg/tables/file.py:767: DeprecationWarning: The use of uppercase keyword parameters is deprecated\n",
      "  \"deprecated\", DeprecationWarning)\n",
      "ERROR:root:Reference possible only for phase, scalarphase, clock, tec, tec3rd, and rotation solution tables. Ignore referencing.\n",
      "/home/albert/miniconda3/envs/tectf/lib/python3.6/site-packages/gpflow-1.3.0-py3.6.egg/gpflow/_settings.py:67: DeprecationWarning: tf_int is deprecated and will be removed at GPflow version 1.2.0. Use int_type.\n",
      "  'version 1.2.0. Use int_type.', DeprecationWarning)\n",
      "/home/albert/miniconda3/envs/tectf/lib/python3.6/site-packages/gpflow-1.3.0-py3.6.egg/gpflow/_settings.py:61: DeprecationWarning: tf_float is deprecated and will be removed at GPflow version 1.2.0. Use float_type.\n",
      "  'version 1.2.0. Use float_type.', DeprecationWarning)\n",
      "/home/albert/miniconda3/envs/tectf/lib/python3.6/site-packages/gpflow-1.3.0-py3.6.egg/gpflow/logdensities.py:91: DeprecationWarning: The 'warn' method is deprecated, use 'warning' instead\n",
      "  logger.warn('Shape of x must be 2D at computation.')\n",
      "WARNING:gpflow.logdensities:Shape of x must be 2D at computation.\n"
     ]
    },
    {
     "name": "stdout",
     "output_type": "stream",
     "text": [
      "INFO:tensorflow:Optimization terminated with:\n",
      "  Message: b'ABNORMAL_TERMINATION_IN_LNSRCH'\n",
      "  Objective function value: 420.189735\n",
      "  Number of iterations: 13\n",
      "  Number of functions evaluations: 54\n"
     ]
    },
    {
     "name": "stderr",
     "output_type": "stream",
     "text": [
      "INFO:tensorflow:Optimization terminated with:\n",
      "  Message: b'ABNORMAL_TERMINATION_IN_LNSRCH'\n",
      "  Objective function value: 420.189735\n",
      "  Number of iterations: 13\n",
      "  Number of functions evaluations: 54\n",
      "/home/albert/miniconda3/envs/tectf/lib/python3.6/site-packages/tables-3.4.4-py3.6-linux-x86_64.egg/tables/file.py:767: DeprecationWarning: The use of uppercase keyword parameters is deprecated\n",
      "  \"deprecated\", DeprecationWarning)\n",
      "/home/albert/miniconda3/envs/tectf/lib/python3.6/site-packages/tables-3.4.4-py3.6-linux-x86_64.egg/tables/file.py:767: DeprecationWarning: The use of uppercase keyword parameters is deprecated\n",
      "  \"deprecated\", DeprecationWarning)\n",
      "ERROR:root:Reference possible only for phase, scalarphase, clock, tec, tec3rd, and rotation solution tables. Ignore referencing.\n",
      "/home/albert/miniconda3/envs/tectf/lib/python3.6/site-packages/gpflow-1.3.0-py3.6.egg/gpflow/_settings.py:67: DeprecationWarning: tf_int is deprecated and will be removed at GPflow version 1.2.0. Use int_type.\n",
      "  'version 1.2.0. Use int_type.', DeprecationWarning)\n",
      "/home/albert/miniconda3/envs/tectf/lib/python3.6/site-packages/gpflow-1.3.0-py3.6.egg/gpflow/_settings.py:61: DeprecationWarning: tf_float is deprecated and will be removed at GPflow version 1.2.0. Use float_type.\n",
      "  'version 1.2.0. Use float_type.', DeprecationWarning)\n",
      "/home/albert/miniconda3/envs/tectf/lib/python3.6/site-packages/gpflow-1.3.0-py3.6.egg/gpflow/logdensities.py:91: DeprecationWarning: The 'warn' method is deprecated, use 'warning' instead\n",
      "  logger.warn('Shape of x must be 2D at computation.')\n",
      "WARNING:gpflow.logdensities:Shape of x must be 2D at computation.\n"
     ]
    },
    {
     "name": "stdout",
     "output_type": "stream",
     "text": [
      "INFO:tensorflow:Optimization terminated with:\n",
      "  Message: b'CONVERGENCE: REL_REDUCTION_OF_F_<=_FACTR*EPSMCH'\n",
      "  Objective function value: 561.746250\n",
      "  Number of iterations: 16\n",
      "  Number of functions evaluations: 57\n"
     ]
    },
    {
     "name": "stderr",
     "output_type": "stream",
     "text": [
      "INFO:tensorflow:Optimization terminated with:\n",
      "  Message: b'CONVERGENCE: REL_REDUCTION_OF_F_<=_FACTR*EPSMCH'\n",
      "  Objective function value: 561.746250\n",
      "  Number of iterations: 16\n",
      "  Number of functions evaluations: 57\n",
      "/home/albert/miniconda3/envs/tectf/lib/python3.6/site-packages/tables-3.4.4-py3.6-linux-x86_64.egg/tables/file.py:767: DeprecationWarning: The use of uppercase keyword parameters is deprecated\n",
      "  \"deprecated\", DeprecationWarning)\n",
      "/home/albert/miniconda3/envs/tectf/lib/python3.6/site-packages/tables-3.4.4-py3.6-linux-x86_64.egg/tables/file.py:767: DeprecationWarning: The use of uppercase keyword parameters is deprecated\n",
      "  \"deprecated\", DeprecationWarning)\n",
      "ERROR:root:Reference possible only for phase, scalarphase, clock, tec, tec3rd, and rotation solution tables. Ignore referencing.\n",
      "/home/albert/miniconda3/envs/tectf/lib/python3.6/site-packages/gpflow-1.3.0-py3.6.egg/gpflow/_settings.py:67: DeprecationWarning: tf_int is deprecated and will be removed at GPflow version 1.2.0. Use int_type.\n",
      "  'version 1.2.0. Use int_type.', DeprecationWarning)\n",
      "/home/albert/miniconda3/envs/tectf/lib/python3.6/site-packages/gpflow-1.3.0-py3.6.egg/gpflow/_settings.py:61: DeprecationWarning: tf_float is deprecated and will be removed at GPflow version 1.2.0. Use float_type.\n",
      "  'version 1.2.0. Use float_type.', DeprecationWarning)\n",
      "/home/albert/miniconda3/envs/tectf/lib/python3.6/site-packages/gpflow-1.3.0-py3.6.egg/gpflow/logdensities.py:91: DeprecationWarning: The 'warn' method is deprecated, use 'warning' instead\n",
      "  logger.warn('Shape of x must be 2D at computation.')\n",
      "WARNING:gpflow.logdensities:Shape of x must be 2D at computation.\n"
     ]
    },
    {
     "name": "stdout",
     "output_type": "stream",
     "text": [
      "INFO:tensorflow:Optimization terminated with:\n",
      "  Message: b'ABNORMAL_TERMINATION_IN_LNSRCH'\n",
      "  Objective function value: 408.016842\n",
      "  Number of iterations: 14\n",
      "  Number of functions evaluations: 78\n"
     ]
    },
    {
     "name": "stderr",
     "output_type": "stream",
     "text": [
      "INFO:tensorflow:Optimization terminated with:\n",
      "  Message: b'ABNORMAL_TERMINATION_IN_LNSRCH'\n",
      "  Objective function value: 408.016842\n",
      "  Number of iterations: 14\n",
      "  Number of functions evaluations: 78\n",
      "/home/albert/miniconda3/envs/tectf/lib/python3.6/site-packages/tables-3.4.4-py3.6-linux-x86_64.egg/tables/file.py:767: DeprecationWarning: The use of uppercase keyword parameters is deprecated\n",
      "  \"deprecated\", DeprecationWarning)\n",
      "/home/albert/miniconda3/envs/tectf/lib/python3.6/site-packages/tables-3.4.4-py3.6-linux-x86_64.egg/tables/file.py:767: DeprecationWarning: The use of uppercase keyword parameters is deprecated\n",
      "  \"deprecated\", DeprecationWarning)\n",
      "ERROR:root:Reference possible only for phase, scalarphase, clock, tec, tec3rd, and rotation solution tables. Ignore referencing.\n",
      "/home/albert/miniconda3/envs/tectf/lib/python3.6/site-packages/gpflow-1.3.0-py3.6.egg/gpflow/_settings.py:67: DeprecationWarning: tf_int is deprecated and will be removed at GPflow version 1.2.0. Use int_type.\n",
      "  'version 1.2.0. Use int_type.', DeprecationWarning)\n",
      "/home/albert/miniconda3/envs/tectf/lib/python3.6/site-packages/gpflow-1.3.0-py3.6.egg/gpflow/_settings.py:61: DeprecationWarning: tf_float is deprecated and will be removed at GPflow version 1.2.0. Use float_type.\n",
      "  'version 1.2.0. Use float_type.', DeprecationWarning)\n",
      "/home/albert/miniconda3/envs/tectf/lib/python3.6/site-packages/gpflow-1.3.0-py3.6.egg/gpflow/logdensities.py:91: DeprecationWarning: The 'warn' method is deprecated, use 'warning' instead\n",
      "  logger.warn('Shape of x must be 2D at computation.')\n",
      "WARNING:gpflow.logdensities:Shape of x must be 2D at computation.\n"
     ]
    },
    {
     "name": "stdout",
     "output_type": "stream",
     "text": [
      "INFO:tensorflow:Optimization terminated with:\n",
      "  Message: b'ABNORMAL_TERMINATION_IN_LNSRCH'\n",
      "  Objective function value: 60.554013\n",
      "  Number of iterations: 14\n",
      "  Number of functions evaluations: 96\n"
     ]
    },
    {
     "name": "stderr",
     "output_type": "stream",
     "text": [
      "INFO:tensorflow:Optimization terminated with:\n",
      "  Message: b'ABNORMAL_TERMINATION_IN_LNSRCH'\n",
      "  Objective function value: 60.554013\n",
      "  Number of iterations: 14\n",
      "  Number of functions evaluations: 96\n"
     ]
    }
   ],
   "source": [
    "import seaborn as sns\n",
    "import pylab as plt\n",
    "import pandas as pd\n",
    "from bayes_tec.utils.data_utils import define_equal_subsets\n",
    "import os\n",
    "\n",
    "max_block_size, min_overlap = 200, 50\n",
    "output_folder = './temporal_kernel_solve'\n",
    "os.makedirs(output_folder,exist_ok=True)\n",
    "\n",
    "with DataPack('../../scripts/data/killms_datapack_4.hdf5',readonly=True) as datapack:\n",
    "    datapack.select(time=None, ant=None)\n",
    "    axes = datapack.axes_phase\n",
    "    patch_names, directions = datapack.get_sources(axes['dir'])\n",
    "    antenna_labels, antennas = datapack.get_antennas(axes['ant'])\n",
    "    timestamps, times = datapack.get_times(axes['time'])\n",
    "    _,freqs = datapack.get_freqs(axes['freq'])\n",
    "    \n",
    "Nt = len(times)\n",
    "solve_slices, _, _ = define_equal_subsets(Nt,max_block_size, min_overlap)\n",
    "    \n",
    "time_ = []\n",
    "hpd_5 = np.zeros((62,3))\n",
    "hpd_50 = np.zeros((62,3))\n",
    "hpd_95 = np.zeros((62,3))\n",
    "if os.path.isfile(os.path.join(output_folder,'results_matern52.npz')):\n",
    "    d = np.load(os.path.join(output_folder,'results_matern52.npz'))\n",
    "    hpd_5 = d['hpd_5']\n",
    "    hpd_50 = d['hpd_50']\n",
    "    hpd_95 = d['hpd_95']\n",
    "    \n",
    "    \n",
    "for i in range(51,62,1):\n",
    "    ant = antenna_labels[i]\n",
    "    for solve_slice in solve_slices:\n",
    "        time_slice = slice(*solve_slice, 1)\n",
    "        params = fit_temporal_kern('../../scripts/data/killms_datapack_4.hdf5', 200, \n",
    "                                   burn=50,kern=gp.kernels.Matern52, \n",
    "                                   ant_sel=slice(i,i+1,1), time_sel=time_slice,dir_sel=None, \n",
    "                                   pol_sel=slice(0,1,1), freq_sel=slice(0,48,1),tec_scale=0.01)\n",
    "\n",
    "        df = pd.DataFrame(params[:,:],columns=['ls','sig','lik_sig'])\n",
    "        sns.kdeplot(df['ls'],df['sig'],shade=True)\n",
    "        plt.scatter(np.median(df['ls']),np.median(df['sig']),c='red')\n",
    "        t = times[time_slice].mjd*86400.\n",
    "        mean_time = int(np.mean(t))\n",
    "        time_.append(mean_time)\n",
    "        hpd_5[i,:] = np.array([np.percentile(p,5) for p in params.T])\n",
    "        hpd_50[i,:] = np.array([np.percentile(p,50) for p in params.T])\n",
    "        hpd_95[i,:] = np.array([np.percentile(p,95) for p in params.T])\n",
    "        plt.title('Ant: {} | {}'.format(ant.astype(str),times[time_slice][t.size//2].isot))\n",
    "        plt.savefig(os.path.join(output_folder,'{}_{}_matern52.png'.format(ant.astype(str), mean_time)))\n",
    "        plt.close('all')\n",
    "    np.savez(os.path.join(output_folder,'results_matern52.npz'),hpd_5=hpd_5, hpd_50 = hpd_50, hpd_95=hpd_95)"
   ]
  }
 ],
 "metadata": {
  "kernelspec": {
   "display_name": "Python 3",
   "language": "python",
   "name": "python3"
  },
  "language_info": {
   "codemirror_mode": {
    "name": "ipython",
    "version": 3
   },
   "file_extension": ".py",
   "mimetype": "text/x-python",
   "name": "python",
   "nbconvert_exporter": "python",
   "pygments_lexer": "ipython3",
   "version": "3.6.6"
  }
 },
 "nbformat": 4,
 "nbformat_minor": 2
}
